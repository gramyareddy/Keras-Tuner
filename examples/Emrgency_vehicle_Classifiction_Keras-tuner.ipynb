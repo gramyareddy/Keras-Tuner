{
 "cells": [
  {
   "cell_type": "code",
   "execution_count": 18,
   "metadata": {},
   "outputs": [
    {
     "name": "stdout",
     "output_type": "stream",
     "text": [
      "imported\n"
     ]
    }
   ],
   "source": [
    "import numpy as np\n",
    "import pandas as pd\n",
    "import glob\n",
    "import os\n",
    "import cv2\n",
    "from keras.layers import Input\n",
    "from sklearn.preprocessing import OneHotEncoder\n",
    "from keras.applications import vgg16\n",
    "from tensorflow.keras.optimizers import Adam\n",
    "from keras.applications.resnet50 import ResNet50\n",
    "from keras.applications.resnet50 import preprocess_input\n",
    "from keras.layers.core import Dense, Dropout, Activation,Flatten\n",
    "from keras.models import Sequential,Model\n",
    "from tensorflow import keras\n",
    "from tensorflow.keras import layers\n",
    "from kerastuner import RandomSearch\n",
    "print(\"imported\")"
   ]
  },
  {
   "cell_type": "code",
   "execution_count": 2,
   "metadata": {},
   "outputs": [
    {
     "name": "stdout",
     "output_type": "stream",
     "text": [
      "  image_names  emergency_or_not\n",
      "0    1503.jpg                 0\n",
      "1    1420.jpg                 0\n",
      "2    1764.jpg                 0\n",
      "3    1356.jpg                 0\n",
      "4    1117.jpg                 0\n",
      "1    681\n",
      "0    965\n",
      "Name: emergency_or_not, dtype: int64\n"
     ]
    }
   ],
   "source": [
    "df = pd.read_csv(\"C:\\\\MyLearnings\\\\DeepLearning\\\\Projects\\\\JanataHack\\\\train_SOaYf6m\\\\train.csv\")\n",
    "print(df.head(5))\n",
    "print(df['emergency_or_not'].value_counts(ascending = True))\n",
    "path = \"C:\\\\MyLearnings\\\\DeepLearning\\\\Projects\\\\JanataHack\\\\train_SOaYf6m\\\\images\\\\\""
   ]
  },
  {
   "cell_type": "code",
   "execution_count": 22,
   "metadata": {},
   "outputs": [
    {
     "name": "stdout",
     "output_type": "stream",
     "text": [
      "done\n"
     ]
    }
   ],
   "source": [
    "#train dataset\n",
    "labels = []\n",
    "images= []\n",
    "for itr in range(len(df)):\n",
    "    image_path = os.path.join(path , df['image_names'][itr])\n",
    "    img = cv2.imread(image_path)\n",
    "    img = cv2.resize(img,(128,128))\n",
    "    images.append(img)\n",
    "    labels.append(df['emergency_or_not'][itr])\n",
    "images = np.array(images)\n",
    "labels = np.array(labels)\n",
    "print(\"done\")"
   ]
  },
  {
   "cell_type": "code",
   "execution_count": 24,
   "metadata": {},
   "outputs": [],
   "source": [
    "def build_model(hp):\n",
    "    num_layers = hp.Int('num_layers', 2, 8, default=6)\n",
    "    lr = hp.Choice('learning_rate', [1e-3, 5e-4])\n",
    "\n",
    "    inputs = layers.Input(shape=(128, 128, 3))\n",
    "    x = inputs\n",
    "\n",
    "    for idx in range(num_layers):\n",
    "        idx = str(idx)\n",
    "\n",
    "        filters = hp.Int('filters_' + idx, 32, 256, step=32, default=64)\n",
    "        x = layers.Conv2D(filters=filters, kernel_size=3, padding='same',\n",
    "                          activation='relu')(x)\n",
    "\n",
    "        # add a pooling layers if needed\n",
    "        if x.shape[1] >= 8:\n",
    "            pool_type = hp.Choice('pool_' + idx, values=['max', 'avg'])\n",
    "            if pool_type == 'max':\n",
    "                x = layers.MaxPooling2D(2)(x)\n",
    "            elif pool_type == 'avg':\n",
    "                x = layers.AveragePooling2D(2)(x)\n",
    "\n",
    "    x = layers.Flatten()(x)\n",
    "    outputs = layers.Dense(1, activation='sigmoid')(x)\n",
    "\n",
    "    # Build model\n",
    "    model = keras.Model(inputs, outputs)\n",
    "    model.compile(optimizer=Adam(lr),\n",
    "                  loss='binary_crossentropy',\n",
    "                  metrics=['accuracy'])\n",
    "    return model\n",
    "    "
   ]
  },
  {
   "cell_type": "code",
   "execution_count": 25,
   "metadata": {},
   "outputs": [
    {
     "name": "stdout",
     "output_type": "stream",
     "text": [
      "INFO:tensorflow:Reloading Oracle from existing project .\\untitled_project\\oracle.json\n"
     ]
    },
    {
     "data": {
      "text/html": [
       "<span style=\"color:#4527A0\"><h1 style=\"font-size:18px\">Search space summary</h1></span>"
      ],
      "text/plain": [
       "<IPython.core.display.HTML object>"
      ]
     },
     "metadata": {},
     "output_type": "display_data"
    },
    {
     "data": {
      "text/html": [
       "<span style=\"color:cyan\"> |-Default search space size: 13</span>"
      ],
      "text/plain": [
       "<IPython.core.display.HTML object>"
      ]
     },
     "metadata": {},
     "output_type": "display_data"
    },
    {
     "data": {
      "text/html": [
       "<span style=\"color:#7E57C2\"><h2 style=\"font-size:16px\">num_layers (Int)</h2></span>"
      ],
      "text/plain": [
       "<IPython.core.display.HTML object>"
      ]
     },
     "metadata": {},
     "output_type": "display_data"
    },
    {
     "data": {
      "text/html": [
       "<span style=\"color:cyan\"> |-default: 6</span>"
      ],
      "text/plain": [
       "<IPython.core.display.HTML object>"
      ]
     },
     "metadata": {},
     "output_type": "display_data"
    },
    {
     "data": {
      "text/html": [
       "<span style=\"color:blue\"> |-max_value: 8</span>"
      ],
      "text/plain": [
       "<IPython.core.display.HTML object>"
      ]
     },
     "metadata": {},
     "output_type": "display_data"
    },
    {
     "data": {
      "text/html": [
       "<span style=\"color:cyan\"> |-min_value: 2</span>"
      ],
      "text/plain": [
       "<IPython.core.display.HTML object>"
      ]
     },
     "metadata": {},
     "output_type": "display_data"
    },
    {
     "data": {
      "text/html": [
       "<span style=\"color:blue\"> |-sampling: None</span>"
      ],
      "text/plain": [
       "<IPython.core.display.HTML object>"
      ]
     },
     "metadata": {},
     "output_type": "display_data"
    },
    {
     "data": {
      "text/html": [
       "<span style=\"color:cyan\"> |-step: 1</span>"
      ],
      "text/plain": [
       "<IPython.core.display.HTML object>"
      ]
     },
     "metadata": {},
     "output_type": "display_data"
    },
    {
     "data": {
      "text/html": [
       "<span style=\"color:#7E57C2\"><h2 style=\"font-size:16px\">learning_rate (Choice)</h2></span>"
      ],
      "text/plain": [
       "<IPython.core.display.HTML object>"
      ]
     },
     "metadata": {},
     "output_type": "display_data"
    },
    {
     "data": {
      "text/html": [
       "<span style=\"color:cyan\"> |-default: 0.001</span>"
      ],
      "text/plain": [
       "<IPython.core.display.HTML object>"
      ]
     },
     "metadata": {},
     "output_type": "display_data"
    },
    {
     "data": {
      "text/html": [
       "<span style=\"color:blue\"> |-ordered: True</span>"
      ],
      "text/plain": [
       "<IPython.core.display.HTML object>"
      ]
     },
     "metadata": {},
     "output_type": "display_data"
    },
    {
     "data": {
      "text/html": [
       "<span style=\"color:cyan\"> |-values: [0.001, 0.0005]</span>"
      ],
      "text/plain": [
       "<IPython.core.display.HTML object>"
      ]
     },
     "metadata": {},
     "output_type": "display_data"
    },
    {
     "data": {
      "text/html": [
       "<span style=\"color:#7E57C2\"><h2 style=\"font-size:16px\">filters_0 (Int)</h2></span>"
      ],
      "text/plain": [
       "<IPython.core.display.HTML object>"
      ]
     },
     "metadata": {},
     "output_type": "display_data"
    },
    {
     "data": {
      "text/html": [
       "<span style=\"color:cyan\"> |-default: 64</span>"
      ],
      "text/plain": [
       "<IPython.core.display.HTML object>"
      ]
     },
     "metadata": {},
     "output_type": "display_data"
    },
    {
     "data": {
      "text/html": [
       "<span style=\"color:blue\"> |-max_value: 256</span>"
      ],
      "text/plain": [
       "<IPython.core.display.HTML object>"
      ]
     },
     "metadata": {},
     "output_type": "display_data"
    },
    {
     "data": {
      "text/html": [
       "<span style=\"color:cyan\"> |-min_value: 32</span>"
      ],
      "text/plain": [
       "<IPython.core.display.HTML object>"
      ]
     },
     "metadata": {},
     "output_type": "display_data"
    },
    {
     "data": {
      "text/html": [
       "<span style=\"color:blue\"> |-sampling: None</span>"
      ],
      "text/plain": [
       "<IPython.core.display.HTML object>"
      ]
     },
     "metadata": {},
     "output_type": "display_data"
    },
    {
     "data": {
      "text/html": [
       "<span style=\"color:cyan\"> |-step: 32</span>"
      ],
      "text/plain": [
       "<IPython.core.display.HTML object>"
      ]
     },
     "metadata": {},
     "output_type": "display_data"
    },
    {
     "data": {
      "text/html": [
       "<span style=\"color:#7E57C2\"><h2 style=\"font-size:16px\">pool_0 (Choice)</h2></span>"
      ],
      "text/plain": [
       "<IPython.core.display.HTML object>"
      ]
     },
     "metadata": {},
     "output_type": "display_data"
    },
    {
     "data": {
      "text/html": [
       "<span style=\"color:cyan\"> |-default: max</span>"
      ],
      "text/plain": [
       "<IPython.core.display.HTML object>"
      ]
     },
     "metadata": {},
     "output_type": "display_data"
    },
    {
     "data": {
      "text/html": [
       "<span style=\"color:blue\"> |-ordered: False</span>"
      ],
      "text/plain": [
       "<IPython.core.display.HTML object>"
      ]
     },
     "metadata": {},
     "output_type": "display_data"
    },
    {
     "data": {
      "text/html": [
       "<span style=\"color:cyan\"> |-values: ['max', 'avg']</span>"
      ],
      "text/plain": [
       "<IPython.core.display.HTML object>"
      ]
     },
     "metadata": {},
     "output_type": "display_data"
    },
    {
     "data": {
      "text/html": [
       "<span style=\"color:#7E57C2\"><h2 style=\"font-size:16px\">filters_1 (Int)</h2></span>"
      ],
      "text/plain": [
       "<IPython.core.display.HTML object>"
      ]
     },
     "metadata": {},
     "output_type": "display_data"
    },
    {
     "data": {
      "text/html": [
       "<span style=\"color:cyan\"> |-default: 64</span>"
      ],
      "text/plain": [
       "<IPython.core.display.HTML object>"
      ]
     },
     "metadata": {},
     "output_type": "display_data"
    },
    {
     "data": {
      "text/html": [
       "<span style=\"color:blue\"> |-max_value: 256</span>"
      ],
      "text/plain": [
       "<IPython.core.display.HTML object>"
      ]
     },
     "metadata": {},
     "output_type": "display_data"
    },
    {
     "data": {
      "text/html": [
       "<span style=\"color:cyan\"> |-min_value: 32</span>"
      ],
      "text/plain": [
       "<IPython.core.display.HTML object>"
      ]
     },
     "metadata": {},
     "output_type": "display_data"
    },
    {
     "data": {
      "text/html": [
       "<span style=\"color:blue\"> |-sampling: None</span>"
      ],
      "text/plain": [
       "<IPython.core.display.HTML object>"
      ]
     },
     "metadata": {},
     "output_type": "display_data"
    },
    {
     "data": {
      "text/html": [
       "<span style=\"color:cyan\"> |-step: 32</span>"
      ],
      "text/plain": [
       "<IPython.core.display.HTML object>"
      ]
     },
     "metadata": {},
     "output_type": "display_data"
    },
    {
     "data": {
      "text/html": [
       "<span style=\"color:#7E57C2\"><h2 style=\"font-size:16px\">pool_1 (Choice)</h2></span>"
      ],
      "text/plain": [
       "<IPython.core.display.HTML object>"
      ]
     },
     "metadata": {},
     "output_type": "display_data"
    },
    {
     "data": {
      "text/html": [
       "<span style=\"color:cyan\"> |-default: max</span>"
      ],
      "text/plain": [
       "<IPython.core.display.HTML object>"
      ]
     },
     "metadata": {},
     "output_type": "display_data"
    },
    {
     "data": {
      "text/html": [
       "<span style=\"color:blue\"> |-ordered: False</span>"
      ],
      "text/plain": [
       "<IPython.core.display.HTML object>"
      ]
     },
     "metadata": {},
     "output_type": "display_data"
    },
    {
     "data": {
      "text/html": [
       "<span style=\"color:cyan\"> |-values: ['max', 'avg']</span>"
      ],
      "text/plain": [
       "<IPython.core.display.HTML object>"
      ]
     },
     "metadata": {},
     "output_type": "display_data"
    },
    {
     "data": {
      "text/html": [
       "<span style=\"color:#7E57C2\"><h2 style=\"font-size:16px\">filters_2 (Int)</h2></span>"
      ],
      "text/plain": [
       "<IPython.core.display.HTML object>"
      ]
     },
     "metadata": {},
     "output_type": "display_data"
    },
    {
     "data": {
      "text/html": [
       "<span style=\"color:cyan\"> |-default: 64</span>"
      ],
      "text/plain": [
       "<IPython.core.display.HTML object>"
      ]
     },
     "metadata": {},
     "output_type": "display_data"
    },
    {
     "data": {
      "text/html": [
       "<span style=\"color:blue\"> |-max_value: 256</span>"
      ],
      "text/plain": [
       "<IPython.core.display.HTML object>"
      ]
     },
     "metadata": {},
     "output_type": "display_data"
    },
    {
     "data": {
      "text/html": [
       "<span style=\"color:cyan\"> |-min_value: 32</span>"
      ],
      "text/plain": [
       "<IPython.core.display.HTML object>"
      ]
     },
     "metadata": {},
     "output_type": "display_data"
    },
    {
     "data": {
      "text/html": [
       "<span style=\"color:blue\"> |-sampling: None</span>"
      ],
      "text/plain": [
       "<IPython.core.display.HTML object>"
      ]
     },
     "metadata": {},
     "output_type": "display_data"
    },
    {
     "data": {
      "text/html": [
       "<span style=\"color:cyan\"> |-step: 32</span>"
      ],
      "text/plain": [
       "<IPython.core.display.HTML object>"
      ]
     },
     "metadata": {},
     "output_type": "display_data"
    },
    {
     "data": {
      "text/html": [
       "<span style=\"color:#7E57C2\"><h2 style=\"font-size:16px\">pool_2 (Choice)</h2></span>"
      ],
      "text/plain": [
       "<IPython.core.display.HTML object>"
      ]
     },
     "metadata": {},
     "output_type": "display_data"
    },
    {
     "data": {
      "text/html": [
       "<span style=\"color:cyan\"> |-default: max</span>"
      ],
      "text/plain": [
       "<IPython.core.display.HTML object>"
      ]
     },
     "metadata": {},
     "output_type": "display_data"
    },
    {
     "data": {
      "text/html": [
       "<span style=\"color:blue\"> |-ordered: False</span>"
      ],
      "text/plain": [
       "<IPython.core.display.HTML object>"
      ]
     },
     "metadata": {},
     "output_type": "display_data"
    },
    {
     "data": {
      "text/html": [
       "<span style=\"color:cyan\"> |-values: ['max', 'avg']</span>"
      ],
      "text/plain": [
       "<IPython.core.display.HTML object>"
      ]
     },
     "metadata": {},
     "output_type": "display_data"
    },
    {
     "data": {
      "text/html": [
       "<span style=\"color:#7E57C2\"><h2 style=\"font-size:16px\">filters_3 (Int)</h2></span>"
      ],
      "text/plain": [
       "<IPython.core.display.HTML object>"
      ]
     },
     "metadata": {},
     "output_type": "display_data"
    },
    {
     "data": {
      "text/html": [
       "<span style=\"color:cyan\"> |-default: 64</span>"
      ],
      "text/plain": [
       "<IPython.core.display.HTML object>"
      ]
     },
     "metadata": {},
     "output_type": "display_data"
    },
    {
     "data": {
      "text/html": [
       "<span style=\"color:blue\"> |-max_value: 256</span>"
      ],
      "text/plain": [
       "<IPython.core.display.HTML object>"
      ]
     },
     "metadata": {},
     "output_type": "display_data"
    },
    {
     "data": {
      "text/html": [
       "<span style=\"color:cyan\"> |-min_value: 32</span>"
      ],
      "text/plain": [
       "<IPython.core.display.HTML object>"
      ]
     },
     "metadata": {},
     "output_type": "display_data"
    },
    {
     "data": {
      "text/html": [
       "<span style=\"color:blue\"> |-sampling: None</span>"
      ],
      "text/plain": [
       "<IPython.core.display.HTML object>"
      ]
     },
     "metadata": {},
     "output_type": "display_data"
    },
    {
     "data": {
      "text/html": [
       "<span style=\"color:cyan\"> |-step: 32</span>"
      ],
      "text/plain": [
       "<IPython.core.display.HTML object>"
      ]
     },
     "metadata": {},
     "output_type": "display_data"
    },
    {
     "data": {
      "text/html": [
       "<span style=\"color:#7E57C2\"><h2 style=\"font-size:16px\">pool_3 (Choice)</h2></span>"
      ],
      "text/plain": [
       "<IPython.core.display.HTML object>"
      ]
     },
     "metadata": {},
     "output_type": "display_data"
    },
    {
     "data": {
      "text/html": [
       "<span style=\"color:cyan\"> |-default: max</span>"
      ],
      "text/plain": [
       "<IPython.core.display.HTML object>"
      ]
     },
     "metadata": {},
     "output_type": "display_data"
    },
    {
     "data": {
      "text/html": [
       "<span style=\"color:blue\"> |-ordered: False</span>"
      ],
      "text/plain": [
       "<IPython.core.display.HTML object>"
      ]
     },
     "metadata": {},
     "output_type": "display_data"
    },
    {
     "data": {
      "text/html": [
       "<span style=\"color:cyan\"> |-values: ['max', 'avg']</span>"
      ],
      "text/plain": [
       "<IPython.core.display.HTML object>"
      ]
     },
     "metadata": {},
     "output_type": "display_data"
    },
    {
     "data": {
      "text/html": [
       "<span style=\"color:#7E57C2\"><h2 style=\"font-size:16px\">filters_4 (Int)</h2></span>"
      ],
      "text/plain": [
       "<IPython.core.display.HTML object>"
      ]
     },
     "metadata": {},
     "output_type": "display_data"
    },
    {
     "data": {
      "text/html": [
       "<span style=\"color:cyan\"> |-default: 64</span>"
      ],
      "text/plain": [
       "<IPython.core.display.HTML object>"
      ]
     },
     "metadata": {},
     "output_type": "display_data"
    },
    {
     "data": {
      "text/html": [
       "<span style=\"color:blue\"> |-max_value: 256</span>"
      ],
      "text/plain": [
       "<IPython.core.display.HTML object>"
      ]
     },
     "metadata": {},
     "output_type": "display_data"
    },
    {
     "data": {
      "text/html": [
       "<span style=\"color:cyan\"> |-min_value: 32</span>"
      ],
      "text/plain": [
       "<IPython.core.display.HTML object>"
      ]
     },
     "metadata": {},
     "output_type": "display_data"
    },
    {
     "data": {
      "text/html": [
       "<span style=\"color:blue\"> |-sampling: None</span>"
      ],
      "text/plain": [
       "<IPython.core.display.HTML object>"
      ]
     },
     "metadata": {},
     "output_type": "display_data"
    },
    {
     "data": {
      "text/html": [
       "<span style=\"color:cyan\"> |-step: 32</span>"
      ],
      "text/plain": [
       "<IPython.core.display.HTML object>"
      ]
     },
     "metadata": {},
     "output_type": "display_data"
    },
    {
     "data": {
      "text/html": [
       "<span style=\"color:#7E57C2\"><h2 style=\"font-size:16px\">pool_4 (Choice)</h2></span>"
      ],
      "text/plain": [
       "<IPython.core.display.HTML object>"
      ]
     },
     "metadata": {},
     "output_type": "display_data"
    },
    {
     "data": {
      "text/html": [
       "<span style=\"color:cyan\"> |-default: max</span>"
      ],
      "text/plain": [
       "<IPython.core.display.HTML object>"
      ]
     },
     "metadata": {},
     "output_type": "display_data"
    },
    {
     "data": {
      "text/html": [
       "<span style=\"color:blue\"> |-ordered: False</span>"
      ],
      "text/plain": [
       "<IPython.core.display.HTML object>"
      ]
     },
     "metadata": {},
     "output_type": "display_data"
    },
    {
     "data": {
      "text/html": [
       "<span style=\"color:cyan\"> |-values: ['max', 'avg']</span>"
      ],
      "text/plain": [
       "<IPython.core.display.HTML object>"
      ]
     },
     "metadata": {},
     "output_type": "display_data"
    },
    {
     "data": {
      "text/html": [
       "<span style=\"color:#7E57C2\"><h2 style=\"font-size:16px\">filters_5 (Int)</h2></span>"
      ],
      "text/plain": [
       "<IPython.core.display.HTML object>"
      ]
     },
     "metadata": {},
     "output_type": "display_data"
    },
    {
     "data": {
      "text/html": [
       "<span style=\"color:cyan\"> |-default: 64</span>"
      ],
      "text/plain": [
       "<IPython.core.display.HTML object>"
      ]
     },
     "metadata": {},
     "output_type": "display_data"
    },
    {
     "data": {
      "text/html": [
       "<span style=\"color:blue\"> |-max_value: 256</span>"
      ],
      "text/plain": [
       "<IPython.core.display.HTML object>"
      ]
     },
     "metadata": {},
     "output_type": "display_data"
    },
    {
     "data": {
      "text/html": [
       "<span style=\"color:cyan\"> |-min_value: 32</span>"
      ],
      "text/plain": [
       "<IPython.core.display.HTML object>"
      ]
     },
     "metadata": {},
     "output_type": "display_data"
    },
    {
     "data": {
      "text/html": [
       "<span style=\"color:blue\"> |-sampling: None</span>"
      ],
      "text/plain": [
       "<IPython.core.display.HTML object>"
      ]
     },
     "metadata": {},
     "output_type": "display_data"
    },
    {
     "data": {
      "text/html": [
       "<span style=\"color:cyan\"> |-step: 32</span>"
      ],
      "text/plain": [
       "<IPython.core.display.HTML object>"
      ]
     },
     "metadata": {},
     "output_type": "display_data"
    }
   ],
   "source": [
    "tuner = RandomSearch(build_model, objective='accuracy', max_trials=5)\n",
    "\n",
    "# Display search space overview\n",
    "tuner.search_space_summary()"
   ]
  },
  {
   "cell_type": "code",
   "execution_count": 26,
   "metadata": {},
   "outputs": [
    {
     "name": "stdout",
     "output_type": "stream",
     "text": [
      "Train on 1646 samples\n",
      "Epoch 1/10\n",
      "1472/1646 [=========================>....] - ETA: 47:27 - loss: 9.3149 - accuracy: 0.500 - ETA: 23:52 - loss: 96.1978 - accuracy: 0.56 - ETA: 15:59 - loss: 89.1679 - accuracy: 0.50 - ETA: 12:04 - loss: 70.9387 - accuracy: 0.40 - ETA: 9:42 - loss: 57.1467 - accuracy: 0.4000 - ETA: 8:07 - loss: 47.7865 - accuracy: 0.437 - ETA: 7:00 - loss: 41.1931 - accuracy: 0.428 - ETA: 6:09 - loss: 36.7254 - accuracy: 0.437 - ETA: 5:30 - loss: 32.9871 - accuracy: 0.416 - ETA: 4:58 - loss: 29.8059 - accuracy: 0.450 - ETA: 4:32 - loss: 27.2293 - accuracy: 0.477 - ETA: 4:10 - loss: 25.0005 - accuracy: 0.510 - ETA: 3:52 - loss: 23.1523 - accuracy: 0.519 - ETA: 3:36 - loss: 21.5694 - accuracy: 0.517 - ETA: 3:23 - loss: 20.1799 - accuracy: 0.516 - ETA: 3:11 - loss: 18.9603 - accuracy: 0.531 - ETA: 3:00 - loss: 17.9136 - accuracy: 0.522 - ETA: 2:51 - loss: 16.9664 - accuracy: 0.513 - ETA: 2:43 - loss: 16.1022 - accuracy: 0.526 - ETA: 2:35 - loss: 15.3309 - accuracy: 0.525 - ETA: 2:28 - loss: 14.6518 - accuracy: 0.517 - ETA: 2:22 - loss: 14.0070 - accuracy: 0.528 - ETA: 2:16 - loss: 13.4271 - accuracy: 0.527 - ETA: 2:11 - loss: 12.9003 - accuracy: 0.531 - ETA: 2:06 - loss: 12.4048 - accuracy: 0.535 - ETA: 2:01 - loss: 11.9459 - accuracy: 0.543 - ETA: 1:57 - loss: 11.5242 - accuracy: 0.546 - ETA: 1:53 - loss: 11.1515 - accuracy: 0.549 - ETA: 1:50 - loss: 10.7960 - accuracy: 0.551 - ETA: 1:46 - loss: 10.4660 - accuracy: 0.550 - ETA: 1:43 - loss: 10.1507 - accuracy: 0.556 - ETA: 1:40 - loss: 9.8536 - accuracy: 0.562 - ETA: 1:37 - loss: 9.5772 - accuracy: 0.56 - ETA: 1:35 - loss: 9.3160 - accuracy: 0.55 - ETA: 1:32 - loss: 9.0680 - accuracy: 0.56 - ETA: 1:30 - loss: 8.8349 - accuracy: 0.56 - ETA: 1:27 - loss: 8.6166 - accuracy: 0.56 - ETA: 1:25 - loss: 8.4094 - accuracy: 0.55 - ETA: 1:23 - loss: 8.2096 - accuracy: 0.56 - ETA: 1:21 - loss: 8.0210 - accuracy: 0.56 - ETA: 1:19 - loss: 7.8439 - accuracy: 0.55 - ETA: 1:18 - loss: 7.6727 - accuracy: 0.55 - ETA: 1:16 - loss: 7.5125 - accuracy: 0.54 - ETA: 1:14 - loss: 7.3579 - accuracy: 0.54 - ETA: 1:13 - loss: 7.2080 - accuracy: 0.55 - ETA: 1:11 - loss: 7.0664 - accuracy: 0.55 - ETA: 1:10 - loss: 6.9286 - accuracy: 0.55 - ETA: 1:08 - loss: 6.7960 - accuracy: 0.56 - ETA: 1:07 - loss: 6.6714 - accuracy: 0.56 - ETA: 1:06 - loss: 6.5489 - accuracy: 0.56 - ETA: 1:04 - loss: 6.4336 - accuracy: 0.56 - ETA: 1:03 - loss: 6.3191 - accuracy: 0.56 - ETA: 1:02 - loss: 6.2101 - accuracy: 0.57 - ETA: 1:01 - loss: 6.1080 - accuracy: 0.56 - ETA: 1:00 - loss: 6.0123 - accuracy: 0.56 - ETA: 59s - loss: 5.9174 - accuracy: 0.5625 - ETA: 58s - loss: 5.8248 - accuracy: 0.565 - ETA: 57s - loss: 5.7338 - accuracy: 0.569 - ETA: 56s - loss: 5.6482 - accuracy: 0.567 - ETA: 55s - loss: 5.5644 - accuracy: 0.568 - ETA: 54s - loss: 5.4877 - accuracy: 0.567 - ETA: 53s - loss: 5.4078 - accuracy: 0.570 - ETA: 52s - loss: 5.3315 - accuracy: 0.571 - ETA: 51s - loss: 5.2558 - accuracy: 0.574 - ETA: 50s - loss: 5.1849 - accuracy: 0.575 - ETA: 49s - loss: 5.1142 - accuracy: 0.579 - ETA: 49s - loss: 5.0470 - accuracy: 0.580 - ETA: 48s - loss: 4.9819 - accuracy: 0.579 - ETA: 47s - loss: 4.9168 - accuracy: 0.583 - ETA: 46s - loss: 4.8542 - accuracy: 0.585 - ETA: 46s - loss: 4.7924 - accuracy: 0.589 - ETA: 45s - loss: 4.7374 - accuracy: 0.590 - ETA: 44s - loss: 4.6777 - accuracy: 0.594 - ETA: 44s - loss: 4.6208 - accuracy: 0.598 - ETA: 43s - loss: 4.5660 - accuracy: 0.600 - ETA: 42s - loss: 4.5146 - accuracy: 0.598 - ETA: 42s - loss: 4.4638 - accuracy: 0.599 - ETA: 41s - loss: 4.4144 - accuracy: 0.599 - ETA: 40s - loss: 4.3657 - accuracy: 0.601 - ETA: 40s - loss: 4.3187 - accuracy: 0.603 - ETA: 39s - loss: 4.2726 - accuracy: 0.604 - ETA: 39s - loss: 4.2315 - accuracy: 0.603 - ETA: 38s - loss: 4.1851 - accuracy: 0.608 - ETA: 38s - loss: 4.1408 - accuracy: 0.610 - ETA: 37s - loss: 4.0980 - accuracy: 0.611 - ETA: 36s - loss: 4.0556 - accuracy: 0.613 - ETA: 36s - loss: 4.0140 - accuracy: 0.614 - ETA: 35s - loss: 3.9756 - accuracy: 0.616 - ETA: 35s - loss: 3.9360 - accuracy: 0.618 - ETA: 34s - loss: 3.8999 - accuracy: 0.619 - ETA: 34s - loss: 3.8613 - accuracy: 0.620 - ETA: 33s - loss: 3.8265 - accuracy: 0.619 - ETA: 33s - loss: 3.7901 - accuracy: 0.621 - ETA: 32s - loss: 3.7625 - accuracy: 0.619 - ETA: 32s - loss: 3.7311 - accuracy: 0.617 - ETA: 32s - loss: 3.6983 - accuracy: 0.618 - ETA: 31s - loss: 3.6680 - accuracy: 0.618 - ETA: 31s - loss: 3.6381 - accuracy: 0.618 - ETA: 30s - loss: 3.6068 - accuracy: 0.619 - ETA: 30s - loss: 3.5763 - accuracy: 0.621 - ETA: 29s - loss: 3.5459 - accuracy: 0.623 - ETA: 29s - loss: 3.5203 - accuracy: 0.620 - ETA: 29s - loss: 3.4924 - accuracy: 0.617 - ETA: 28s - loss: 3.4654 - accuracy: 0.617 - ETA: 28s - loss: 3.4385 - accuracy: 0.620 - ETA: 27s - loss: 3.4120 - accuracy: 0.620 - ETA: 27s - loss: 3.3860 - accuracy: 0.622 - ETA: 27s - loss: 3.3596 - accuracy: 0.626 - ETA: 26s - loss: 3.3341 - accuracy: 0.628 - ETA: 26s - loss: 3.3087 - accuracy: 0.629 - ETA: 25s - loss: 3.2848 - accuracy: 0.628 - ETA: 25s - loss: 3.2608 - accuracy: 0.629 - ETA: 25s - loss: 3.2361 - accuracy: 0.631 - ETA: 24s - loss: 3.2145 - accuracy: 0.630 - ETA: 24s - loss: 3.1899 - accuracy: 0.631 - ETA: 24s - loss: 3.1675 - accuracy: 0.632 - ETA: 23s - loss: 3.1449 - accuracy: 0.632 - ETA: 23s - loss: 3.1221 - accuracy: 0.634 - ETA: 22s - loss: 3.1008 - accuracy: 0.633 - ETA: 22s - loss: 3.0797 - accuracy: 0.634 - ETA: 22s - loss: 3.0588 - accuracy: 0.634 - ETA: 21s - loss: 3.0396 - accuracy: 0.633 - ETA: 21s - loss: 3.0211 - accuracy: 0.634 - ETA: 21s - loss: 3.0001 - accuracy: 0.634 - ETA: 20s - loss: 2.9812 - accuracy: 0.634 - ETA: 20s - loss: 2.9622 - accuracy: 0.633 - ETA: 20s - loss: 2.9459 - accuracy: 0.634 - ETA: 19s - loss: 2.9278 - accuracy: 0.634 - ETA: 19s - loss: 2.9131 - accuracy: 0.634 - ETA: 19s - loss: 2.8935 - accuracy: 0.636 - ETA: 19s - loss: 2.8760 - accuracy: 0.636 - ETA: 18s - loss: 2.8577 - accuracy: 0.636 - ETA: 18s - loss: 2.8392 - accuracy: 0.638 - ETA: 18s - loss: 2.8215 - accuracy: 0.639 - ETA: 17s - loss: 2.8034 - accuracy: 0.640 - ETA: 17s - loss: 2.7855 - accuracy: 0.642 - ETA: 17s - loss: 2.7733 - accuracy: 0.640 - ETA: 16s - loss: 2.7552 - accuracy: 0.643 - ETA: 16s - loss: 2.7384 - accuracy: 0.644 - ETA: 16s - loss: 2.7250 - accuracy: 0.643 - ETA: 16s - loss: 2.7094 - accuracy: 0.644 - ETA: 15s - loss: 2.6949 - accuracy: 0.644 - ETA: 15s - loss: 2.6791 - accuracy: 0.646 - ETA: 15s - loss: 2.6631 - accuracy: 0.647 - ETA: 14s - loss: 2.6475 - accuracy: 0.649 - ETA: 14s - loss: 2.6314 - accuracy: 0.651 - ETA: 14s - loss: 2.6172 - accuracy: 0.651 - ETA: 14s - loss: 2.6060 - accuracy: 0.651 - ETA: 13s - loss: 2.5926 - accuracy: 0.651 - ETA: 13s - loss: 2.5814 - accuracy: 0.651 - ETA: 13s - loss: 2.5673 - accuracy: 0.653 - ETA: 12s - loss: 2.5535 - accuracy: 0.653 - ETA: 12s - loss: 2.5402 - accuracy: 0.655 - ETA: 12s - loss: 2.5273 - accuracy: 0.655 - ETA: 12s - loss: 2.5140 - accuracy: 0.656 - ETA: 11s - loss: 2.5013 - accuracy: 0.657 - ETA: 11s - loss: 2.4883 - accuracy: 0.657 - ETA: 11s - loss: 2.4769 - accuracy: 0.656 - ETA: 11s - loss: 2.4656 - accuracy: 0.655 - ETA: 10s - loss: 2.4528 - accuracy: 0.656 - ETA: 10s - loss: 2.4409 - accuracy: 0.656 - ETA: 10s - loss: 2.4295 - accuracy: 0.657 - ETA: 10s - loss: 2.4185 - accuracy: 0.657 - ETA: 9s - loss: 2.4066 - accuracy: 0.658 - ETA: 9s - loss: 2.3961 - accuracy: 0.65 - ETA: 9s - loss: 2.3864 - accuracy: 0.65 - ETA: 9s - loss: 2.3749 - accuracy: 0.65 - ETA: 8s - loss: 2.3676 - accuracy: 0.65 - ETA: 8s - loss: 2.3594 - accuracy: 0.65 - ETA: 8s - loss: 2.3483 - accuracy: 0.65 - ETA: 8s - loss: 2.3372 - accuracy: 0.65 - ETA: 7s - loss: 2.3270 - accuracy: 0.65 - ETA: 7s - loss: 2.3171 - accuracy: 0.65 - ETA: 7s - loss: 2.3071 - accuracy: 0.66 - ETA: 7s - loss: 2.2969 - accuracy: 0.66 - ETA: 6s - loss: 2.2871 - accuracy: 0.66 - ETA: 6s - loss: 2.2774 - accuracy: 0.66 - ETA: 6s - loss: 2.2675 - accuracy: 0.66 - ETA: 6s - loss: 2.2578 - accuracy: 0.66 - ETA: 5s - loss: 2.2479 - accuracy: 0.66 - ETA: 5s - loss: 2.2373 - accuracy: 0.66 - ETA: 5s - loss: 2.2268 - accuracy: 0.66 - ETA: 5s - loss: 2.2168 - accuracy: 0.66 - ETA: 4s - loss: 2.2121 - accuracy: 0.6685\b\b\b\b\b\b\b\b\b\b\b\b\b\b\b\b\b\b\b\b\b\b\b\b\b\b\b\b\b\b\b\b\b\b\b\b\b\b\b\b\b\b\b\b\b\b\b\b\b\b\b\b\b\b\b\b\b\b\b\b\b\b\b\b\b\b\b\b\b\b\b\b\b\b\b\b\b\b\b\b\b\b\b\b\b\b1646/1646 [==============================] - ETA: 4s - loss: 2.2015 - accuracy: 0.66 - ETA: 4s - loss: 2.1997 - accuracy: 0.66 - ETA: 4s - loss: 2.1892 - accuracy: 0.66 - ETA: 3s - loss: 2.1795 - accuracy: 0.67 - ETA: 3s - loss: 2.1722 - accuracy: 0.66 - ETA: 3s - loss: 2.1626 - accuracy: 0.66 - ETA: 3s - loss: 2.1537 - accuracy: 0.67 - ETA: 3s - loss: 2.1448 - accuracy: 0.67 - ETA: 2s - loss: 2.1375 - accuracy: 0.67 - ETA: 2s - loss: 2.1293 - accuracy: 0.67 - ETA: 2s - loss: 2.1203 - accuracy: 0.67 - ETA: 2s - loss: 2.1134 - accuracy: 0.67 - ETA: 1s - loss: 2.1045 - accuracy: 0.67 - ETA: 1s - loss: 2.0966 - accuracy: 0.67 - ETA: 1s - loss: 2.0886 - accuracy: 0.67 - ETA: 1s - loss: 2.0796 - accuracy: 0.67 - ETA: 1s - loss: 2.0719 - accuracy: 0.67 - ETA: 0s - loss: 2.0666 - accuracy: 0.67 - ETA: 0s - loss: 2.0579 - accuracy: 0.67 - ETA: 0s - loss: 2.0495 - accuracy: 0.67 - ETA: 0s - loss: 2.0427 - accuracy: 0.67 - 47s 28ms/sample - loss: 2.0377 - accuracy: 0.6774\n",
      "Epoch 2/10\n",
      "1504/1646 [==========================>...] - ETA: 29s - loss: 0.3014 - accuracy: 0.875 - ETA: 30s - loss: 0.4554 - accuracy: 0.750 - ETA: 30s - loss: 0.5075 - accuracy: 0.708 - ETA: 30s - loss: 0.4443 - accuracy: 0.781 - ETA: 30s - loss: 0.4534 - accuracy: 0.750 - ETA: 30s - loss: 0.4942 - accuracy: 0.750 - ETA: 30s - loss: 0.4758 - accuracy: 0.750 - ETA: 30s - loss: 0.4553 - accuracy: 0.781 - ETA: 30s - loss: 0.4535 - accuracy: 0.791 - ETA: 29s - loss: 0.4893 - accuracy: 0.762 - ETA: 29s - loss: 0.4880 - accuracy: 0.761 - ETA: 29s - loss: 0.4976 - accuracy: 0.739 - ETA: 29s - loss: 0.5109 - accuracy: 0.721 - ETA: 29s - loss: 0.5013 - accuracy: 0.732 - ETA: 29s - loss: 0.4978 - accuracy: 0.741 - ETA: 29s - loss: 0.5115 - accuracy: 0.726 - ETA: 28s - loss: 0.5030 - accuracy: 0.735 - ETA: 28s - loss: 0.5275 - accuracy: 0.736 - ETA: 28s - loss: 0.5313 - accuracy: 0.730 - ETA: 28s - loss: 0.5160 - accuracy: 0.743 - ETA: 28s - loss: 0.5249 - accuracy: 0.744 - ETA: 28s - loss: 0.5202 - accuracy: 0.744 - ETA: 28s - loss: 0.5324 - accuracy: 0.744 - ETA: 27s - loss: 0.5479 - accuracy: 0.734 - ETA: 27s - loss: 0.5444 - accuracy: 0.735 - ETA: 27s - loss: 0.5458 - accuracy: 0.735 - ETA: 27s - loss: 0.5368 - accuracy: 0.740 - ETA: 27s - loss: 0.5290 - accuracy: 0.741 - ETA: 27s - loss: 0.5310 - accuracy: 0.732 - ETA: 27s - loss: 0.5266 - accuracy: 0.737 - ETA: 26s - loss: 0.5295 - accuracy: 0.737 - ETA: 26s - loss: 0.5160 - accuracy: 0.746 - ETA: 26s - loss: 0.5097 - accuracy: 0.750 - ETA: 26s - loss: 0.5081 - accuracy: 0.750 - ETA: 26s - loss: 0.5199 - accuracy: 0.742 - ETA: 26s - loss: 0.5150 - accuracy: 0.743 - ETA: 25s - loss: 0.5079 - accuracy: 0.746 - ETA: 25s - loss: 0.5028 - accuracy: 0.753 - ETA: 25s - loss: 0.5041 - accuracy: 0.753 - ETA: 25s - loss: 0.5017 - accuracy: 0.756 - ETA: 25s - loss: 0.4959 - accuracy: 0.759 - ETA: 25s - loss: 0.4963 - accuracy: 0.756 - ETA: 25s - loss: 0.4953 - accuracy: 0.755 - ETA: 24s - loss: 0.5033 - accuracy: 0.750 - ETA: 24s - loss: 0.5024 - accuracy: 0.752 - ETA: 24s - loss: 0.5079 - accuracy: 0.747 - ETA: 24s - loss: 0.5178 - accuracy: 0.747 - ETA: 24s - loss: 0.5165 - accuracy: 0.747 - ETA: 24s - loss: 0.5163 - accuracy: 0.750 - ETA: 23s - loss: 0.5194 - accuracy: 0.742 - ETA: 23s - loss: 0.5182 - accuracy: 0.745 - ETA: 23s - loss: 0.5154 - accuracy: 0.750 - ETA: 23s - loss: 0.5123 - accuracy: 0.754 - ETA: 23s - loss: 0.5114 - accuracy: 0.756 - ETA: 23s - loss: 0.5088 - accuracy: 0.761 - ETA: 23s - loss: 0.5114 - accuracy: 0.758 - ETA: 22s - loss: 0.5155 - accuracy: 0.756 - ETA: 22s - loss: 0.5144 - accuracy: 0.758 - ETA: 22s - loss: 0.5157 - accuracy: 0.756 - ETA: 22s - loss: 0.5125 - accuracy: 0.760 - ETA: 22s - loss: 0.5104 - accuracy: 0.762 - ETA: 22s - loss: 0.5132 - accuracy: 0.760 - ETA: 21s - loss: 0.5114 - accuracy: 0.761 - ETA: 21s - loss: 0.5105 - accuracy: 0.763 - ETA: 21s - loss: 0.5125 - accuracy: 0.761 - ETA: 21s - loss: 0.5104 - accuracy: 0.761 - ETA: 21s - loss: 0.5077 - accuracy: 0.763 - ETA: 21s - loss: 0.5064 - accuracy: 0.764 - ETA: 21s - loss: 0.5037 - accuracy: 0.766 - ETA: 20s - loss: 0.5109 - accuracy: 0.762 - ETA: 20s - loss: 0.5060 - accuracy: 0.765 - ETA: 20s - loss: 0.5023 - accuracy: 0.769 - ETA: 20s - loss: 0.5126 - accuracy: 0.767 - ETA: 20s - loss: 0.5201 - accuracy: 0.765 - ETA: 20s - loss: 0.5291 - accuracy: 0.763 - ETA: 19s - loss: 0.5275 - accuracy: 0.763 - ETA: 19s - loss: 0.5298 - accuracy: 0.761 - ETA: 19s - loss: 0.5295 - accuracy: 0.761 - ETA: 19s - loss: 0.5283 - accuracy: 0.764 - ETA: 19s - loss: 0.5281 - accuracy: 0.767 - ETA: 19s - loss: 0.5276 - accuracy: 0.768 - ETA: 19s - loss: 0.5267 - accuracy: 0.768 - ETA: 18s - loss: 0.5325 - accuracy: 0.765 - ETA: 18s - loss: 0.5341 - accuracy: 0.763 - ETA: 18s - loss: 0.5339 - accuracy: 0.763 - ETA: 18s - loss: 0.5356 - accuracy: 0.763 - ETA: 18s - loss: 0.5340 - accuracy: 0.764 - ETA: 18s - loss: 0.5380 - accuracy: 0.762 - ETA: 17s - loss: 0.5385 - accuracy: 0.764 - ETA: 17s - loss: 0.5406 - accuracy: 0.761 - ETA: 17s - loss: 0.5434 - accuracy: 0.758 - ETA: 17s - loss: 0.5431 - accuracy: 0.759 - ETA: 17s - loss: 0.5446 - accuracy: 0.756 - ETA: 17s - loss: 0.5463 - accuracy: 0.754 - ETA: 17s - loss: 0.5447 - accuracy: 0.756 - ETA: 16s - loss: 0.5471 - accuracy: 0.752 - ETA: 16s - loss: 0.5490 - accuracy: 0.750 - ETA: 16s - loss: 0.5514 - accuracy: 0.746 - ETA: 16s - loss: 0.5513 - accuracy: 0.747 - ETA: 16s - loss: 0.5510 - accuracy: 0.748 - ETA: 16s - loss: 0.5521 - accuracy: 0.746 - ETA: 15s - loss: 0.5523 - accuracy: 0.747 - ETA: 15s - loss: 0.5520 - accuracy: 0.748 - ETA: 15s - loss: 0.5517 - accuracy: 0.748 - ETA: 15s - loss: 0.5525 - accuracy: 0.747 - ETA: 15s - loss: 0.5527 - accuracy: 0.747 - ETA: 15s - loss: 0.5532 - accuracy: 0.747 - ETA: 15s - loss: 0.5520 - accuracy: 0.748 - ETA: 14s - loss: 0.5523 - accuracy: 0.748 - ETA: 14s - loss: 0.5527 - accuracy: 0.747 - ETA: 14s - loss: 0.5501 - accuracy: 0.750 - ETA: 14s - loss: 0.5499 - accuracy: 0.750 - ETA: 14s - loss: 0.5549 - accuracy: 0.746 - ETA: 14s - loss: 0.5545 - accuracy: 0.746 - ETA: 13s - loss: 0.5542 - accuracy: 0.746 - ETA: 13s - loss: 0.5552 - accuracy: 0.746 - ETA: 13s - loss: 0.5551 - accuracy: 0.746 - ETA: 13s - loss: 0.5569 - accuracy: 0.743 - ETA: 13s - loss: 0.5546 - accuracy: 0.745 - ETA: 13s - loss: 0.5537 - accuracy: 0.746 - ETA: 13s - loss: 0.5537 - accuracy: 0.746 - ETA: 12s - loss: 0.5546 - accuracy: 0.746 - ETA: 12s - loss: 0.5544 - accuracy: 0.748 - ETA: 12s - loss: 0.5532 - accuracy: 0.750 - ETA: 12s - loss: 0.5524 - accuracy: 0.750 - ETA: 12s - loss: 0.5529 - accuracy: 0.750 - ETA: 12s - loss: 0.5530 - accuracy: 0.749 - ETA: 11s - loss: 0.5541 - accuracy: 0.749 - ETA: 11s - loss: 0.5535 - accuracy: 0.748 - ETA: 11s - loss: 0.5536 - accuracy: 0.748 - ETA: 11s - loss: 0.5537 - accuracy: 0.747 - ETA: 11s - loss: 0.5535 - accuracy: 0.746 - ETA: 11s - loss: 0.5542 - accuracy: 0.745 - ETA: 11s - loss: 0.5530 - accuracy: 0.745 - ETA: 10s - loss: 0.5524 - accuracy: 0.744 - ETA: 10s - loss: 0.5498 - accuracy: 0.746 - ETA: 10s - loss: 0.5532 - accuracy: 0.745 - ETA: 10s - loss: 0.5511 - accuracy: 0.746 - ETA: 10s - loss: 0.5490 - accuracy: 0.748 - ETA: 10s - loss: 0.5472 - accuracy: 0.749 - ETA: 9s - loss: 0.5476 - accuracy: 0.749 - ETA: 9s - loss: 0.5441 - accuracy: 0.75 - ETA: 9s - loss: 0.5421 - accuracy: 0.75 - ETA: 9s - loss: 0.5425 - accuracy: 0.75 - ETA: 9s - loss: 0.5413 - accuracy: 0.75 - ETA: 9s - loss: 0.5393 - accuracy: 0.75 - ETA: 9s - loss: 0.5403 - accuracy: 0.75 - ETA: 8s - loss: 0.5382 - accuracy: 0.75 - ETA: 8s - loss: 0.5385 - accuracy: 0.75 - ETA: 8s - loss: 0.5390 - accuracy: 0.75 - ETA: 8s - loss: 0.5380 - accuracy: 0.75 - ETA: 8s - loss: 0.5404 - accuracy: 0.75 - ETA: 8s - loss: 0.5401 - accuracy: 0.75 - ETA: 7s - loss: 0.5385 - accuracy: 0.75 - ETA: 7s - loss: 0.5385 - accuracy: 0.75 - ETA: 7s - loss: 0.5408 - accuracy: 0.75 - ETA: 7s - loss: 0.5417 - accuracy: 0.75 - ETA: 7s - loss: 0.5417 - accuracy: 0.75 - ETA: 7s - loss: 0.5418 - accuracy: 0.75 - ETA: 7s - loss: 0.5407 - accuracy: 0.75 - ETA: 6s - loss: 0.5391 - accuracy: 0.75 - ETA: 6s - loss: 0.5405 - accuracy: 0.75 - ETA: 6s - loss: 0.5410 - accuracy: 0.75 - ETA: 6s - loss: 0.5427 - accuracy: 0.74 - ETA: 6s - loss: 0.5426 - accuracy: 0.74 - ETA: 6s - loss: 0.5427 - accuracy: 0.74 - ETA: 5s - loss: 0.5429 - accuracy: 0.74 - ETA: 5s - loss: 0.5437 - accuracy: 0.74 - ETA: 5s - loss: 0.5428 - accuracy: 0.74 - ETA: 5s - loss: 0.5427 - accuracy: 0.74 - ETA: 5s - loss: 0.5415 - accuracy: 0.74 - ETA: 5s - loss: 0.5412 - accuracy: 0.74 - ETA: 5s - loss: 0.5413 - accuracy: 0.74 - ETA: 4s - loss: 0.5437 - accuracy: 0.74 - ETA: 4s - loss: 0.5449 - accuracy: 0.74 - ETA: 4s - loss: 0.5451 - accuracy: 0.74 - ETA: 4s - loss: 0.5433 - accuracy: 0.74 - ETA: 4s - loss: 0.5424 - accuracy: 0.74 - ETA: 4s - loss: 0.5404 - accuracy: 0.74 - ETA: 3s - loss: 0.5419 - accuracy: 0.74 - ETA: 3s - loss: 0.5424 - accuracy: 0.74 - ETA: 3s - loss: 0.5405 - accuracy: 0.74 - ETA: 3s - loss: 0.5405 - accuracy: 0.74 - ETA: 3s - loss: 0.5404 - accuracy: 0.74 - ETA: 3s - loss: 0.5387 - accuracy: 0.74 - ETA: 3s - loss: 0.5389 - accuracy: 0.74 - ETA: 2s - loss: 0.5370 - accuracy: 0.74 - ETA: 2s - loss: 0.5367 - accuracy: 0.75001646/1646 [==============================] - ETA: 2s - loss: 0.5361 - accuracy: 0.75 - ETA: 2s - loss: 0.5362 - accuracy: 0.75 - ETA: 2s - loss: 0.5362 - accuracy: 0.75 - ETA: 2s - loss: 0.5357 - accuracy: 0.75 - ETA: 1s - loss: 0.5338 - accuracy: 0.75 - ETA: 1s - loss: 0.5332 - accuracy: 0.75 - ETA: 1s - loss: 0.5331 - accuracy: 0.75 - ETA: 1s - loss: 0.5324 - accuracy: 0.75 - ETA: 1s - loss: 0.5326 - accuracy: 0.75 - ETA: 1s - loss: 0.5324 - accuracy: 0.75 - ETA: 1s - loss: 0.5318 - accuracy: 0.75 - ETA: 0s - loss: 0.5333 - accuracy: 0.75 - ETA: 0s - loss: 0.5321 - accuracy: 0.75 - ETA: 0s - loss: 0.5304 - accuracy: 0.75 - ETA: 0s - loss: 0.5300 - accuracy: 0.75 - ETA: 0s - loss: 0.5292 - accuracy: 0.75 - ETA: 0s - loss: 0.5299 - accuracy: 0.75 - 32s 19ms/sample - loss: 0.5304 - accuracy: 0.7509\n",
      "Epoch 3/10\n",
      "1504/1646 [==========================>...] - ETA: 33s - loss: 0.4834 - accuracy: 0.750 - ETA: 30s - loss: 0.5851 - accuracy: 0.687 - ETA: 31s - loss: 0.4845 - accuracy: 0.791 - ETA: 31s - loss: 0.4651 - accuracy: 0.812 - ETA: 30s - loss: 0.4488 - accuracy: 0.825 - ETA: 30s - loss: 0.4617 - accuracy: 0.812 - ETA: 30s - loss: 0.4944 - accuracy: 0.821 - ETA: 30s - loss: 0.4788 - accuracy: 0.843 - ETA: 29s - loss: 0.4501 - accuracy: 0.861 - ETA: 29s - loss: 0.4539 - accuracy: 0.850 - ETA: 29s - loss: 0.4490 - accuracy: 0.840 - ETA: 29s - loss: 0.4620 - accuracy: 0.833 - ETA: 29s - loss: 0.4635 - accuracy: 0.826 - ETA: 29s - loss: 0.4512 - accuracy: 0.821 - ETA: 29s - loss: 0.4390 - accuracy: 0.825 - ETA: 28s - loss: 0.4855 - accuracy: 0.812 - ETA: 28s - loss: 0.4770 - accuracy: 0.816 - ETA: 28s - loss: 0.4770 - accuracy: 0.819 - ETA: 28s - loss: 0.4787 - accuracy: 0.815 - ETA: 28s - loss: 0.4997 - accuracy: 0.800 - ETA: 28s - loss: 0.4922 - accuracy: 0.803 - ETA: 28s - loss: 0.4957 - accuracy: 0.801 - ETA: 27s - loss: 0.4810 - accuracy: 0.809 - ETA: 27s - loss: 0.4728 - accuracy: 0.812 - ETA: 27s - loss: 0.4736 - accuracy: 0.810 - ETA: 27s - loss: 0.4816 - accuracy: 0.802 - ETA: 27s - loss: 0.4710 - accuracy: 0.805 - ETA: 27s - loss: 0.4602 - accuracy: 0.808 - ETA: 26s - loss: 0.4483 - accuracy: 0.814 - ETA: 26s - loss: 0.4606 - accuracy: 0.812 - ETA: 26s - loss: 0.4589 - accuracy: 0.810 - ETA: 26s - loss: 0.4803 - accuracy: 0.800 - ETA: 26s - loss: 0.4953 - accuracy: 0.791 - ETA: 26s - loss: 0.4961 - accuracy: 0.790 - ETA: 26s - loss: 0.5076 - accuracy: 0.789 - ETA: 25s - loss: 0.5051 - accuracy: 0.791 - ETA: 25s - loss: 0.5149 - accuracy: 0.787 - ETA: 25s - loss: 0.5183 - accuracy: 0.782 - ETA: 25s - loss: 0.5156 - accuracy: 0.782 - ETA: 25s - loss: 0.5150 - accuracy: 0.778 - ETA: 25s - loss: 0.5220 - accuracy: 0.771 - ETA: 24s - loss: 0.5380 - accuracy: 0.758 - ETA: 24s - loss: 0.5346 - accuracy: 0.764 - ETA: 24s - loss: 0.5370 - accuracy: 0.758 - ETA: 24s - loss: 0.5396 - accuracy: 0.758 - ETA: 24s - loss: 0.5402 - accuracy: 0.755 - ETA: 24s - loss: 0.5430 - accuracy: 0.750 - ETA: 24s - loss: 0.5455 - accuracy: 0.744 - ETA: 23s - loss: 0.5466 - accuracy: 0.742 - ETA: 23s - loss: 0.5471 - accuracy: 0.742 - ETA: 23s - loss: 0.5495 - accuracy: 0.740 - ETA: 23s - loss: 0.5487 - accuracy: 0.740 - ETA: 23s - loss: 0.5494 - accuracy: 0.738 - ETA: 23s - loss: 0.5518 - accuracy: 0.733 - ETA: 22s - loss: 0.5573 - accuracy: 0.725 - ETA: 22s - loss: 0.5660 - accuracy: 0.718 - ETA: 22s - loss: 0.5667 - accuracy: 0.714 - ETA: 22s - loss: 0.5659 - accuracy: 0.717 - ETA: 22s - loss: 0.5641 - accuracy: 0.720 - ETA: 22s - loss: 0.5648 - accuracy: 0.720 - ETA: 22s - loss: 0.5679 - accuracy: 0.717 - ETA: 21s - loss: 0.5691 - accuracy: 0.713 - ETA: 21s - loss: 0.5735 - accuracy: 0.710 - ETA: 21s - loss: 0.5736 - accuracy: 0.709 - ETA: 21s - loss: 0.5726 - accuracy: 0.709 - ETA: 21s - loss: 0.5724 - accuracy: 0.708 - ETA: 21s - loss: 0.5723 - accuracy: 0.707 - ETA: 20s - loss: 0.5699 - accuracy: 0.709 - ETA: 20s - loss: 0.5656 - accuracy: 0.713 - ETA: 20s - loss: 0.5679 - accuracy: 0.710 - ETA: 20s - loss: 0.5656 - accuracy: 0.713 - ETA: 20s - loss: 0.5665 - accuracy: 0.710 - ETA: 20s - loss: 0.5698 - accuracy: 0.708 - ETA: 20s - loss: 0.5678 - accuracy: 0.709 - ETA: 19s - loss: 0.5709 - accuracy: 0.708 - ETA: 19s - loss: 0.5708 - accuracy: 0.708 - ETA: 19s - loss: 0.5693 - accuracy: 0.709 - ETA: 19s - loss: 0.5694 - accuracy: 0.708 - ETA: 19s - loss: 0.5687 - accuracy: 0.708 - ETA: 19s - loss: 0.5680 - accuracy: 0.712 - ETA: 18s - loss: 0.5666 - accuracy: 0.714 - ETA: 18s - loss: 0.5671 - accuracy: 0.714 - ETA: 18s - loss: 0.5730 - accuracy: 0.712 - ETA: 18s - loss: 0.5725 - accuracy: 0.712 - ETA: 18s - loss: 0.5702 - accuracy: 0.714 - ETA: 18s - loss: 0.5717 - accuracy: 0.713 - ETA: 18s - loss: 0.5711 - accuracy: 0.714 - ETA: 17s - loss: 0.5693 - accuracy: 0.717 - ETA: 17s - loss: 0.5667 - accuracy: 0.720 - ETA: 17s - loss: 0.5655 - accuracy: 0.722 - ETA: 17s - loss: 0.5631 - accuracy: 0.723 - ETA: 17s - loss: 0.5624 - accuracy: 0.724 - ETA: 17s - loss: 0.5630 - accuracy: 0.723 - ETA: 17s - loss: 0.5638 - accuracy: 0.723 - ETA: 16s - loss: 0.5651 - accuracy: 0.722 - ETA: 16s - loss: 0.5629 - accuracy: 0.725 - ETA: 16s - loss: 0.5633 - accuracy: 0.725 - ETA: 16s - loss: 0.5645 - accuracy: 0.723 - ETA: 16s - loss: 0.5655 - accuracy: 0.721 - ETA: 16s - loss: 0.5641 - accuracy: 0.722 - ETA: 15s - loss: 0.5632 - accuracy: 0.722 - ETA: 15s - loss: 0.5638 - accuracy: 0.720 - ETA: 15s - loss: 0.5632 - accuracy: 0.719 - ETA: 15s - loss: 0.5650 - accuracy: 0.718 - ETA: 15s - loss: 0.5643 - accuracy: 0.719 - ETA: 15s - loss: 0.5633 - accuracy: 0.719 - ETA: 15s - loss: 0.5729 - accuracy: 0.717 - ETA: 14s - loss: 0.5745 - accuracy: 0.716 - ETA: 14s - loss: 0.5747 - accuracy: 0.714 - ETA: 14s - loss: 0.5749 - accuracy: 0.713 - ETA: 14s - loss: 0.5747 - accuracy: 0.711 - ETA: 14s - loss: 0.5746 - accuracy: 0.709 - ETA: 14s - loss: 0.5733 - accuracy: 0.710 - ETA: 13s - loss: 0.5732 - accuracy: 0.710 - ETA: 13s - loss: 0.5725 - accuracy: 0.712 - ETA: 13s - loss: 0.5714 - accuracy: 0.713 - ETA: 13s - loss: 0.5709 - accuracy: 0.713 - ETA: 13s - loss: 0.5697 - accuracy: 0.715 - ETA: 13s - loss: 0.5685 - accuracy: 0.716 - ETA: 13s - loss: 0.5680 - accuracy: 0.715 - ETA: 12s - loss: 0.5679 - accuracy: 0.715 - ETA: 12s - loss: 0.5671 - accuracy: 0.715 - ETA: 12s - loss: 0.5681 - accuracy: 0.714 - ETA: 12s - loss: 0.5694 - accuracy: 0.713 - ETA: 12s - loss: 0.5685 - accuracy: 0.714 - ETA: 12s - loss: 0.5676 - accuracy: 0.714 - ETA: 12s - loss: 0.5756 - accuracy: 0.711 - ETA: 11s - loss: 0.5742 - accuracy: 0.711 - ETA: 11s - loss: 0.5760 - accuracy: 0.711 - ETA: 11s - loss: 0.5751 - accuracy: 0.711 - ETA: 11s - loss: 0.5740 - accuracy: 0.711 - ETA: 11s - loss: 0.5719 - accuracy: 0.714 - ETA: 11s - loss: 0.5726 - accuracy: 0.713 - ETA: 10s - loss: 0.5752 - accuracy: 0.711 - ETA: 10s - loss: 0.5746 - accuracy: 0.713 - ETA: 10s - loss: 0.5734 - accuracy: 0.713 - ETA: 10s - loss: 0.5748 - accuracy: 0.711 - ETA: 10s - loss: 0.5773 - accuracy: 0.710 - ETA: 10s - loss: 0.5748 - accuracy: 0.712 - ETA: 10s - loss: 0.5737 - accuracy: 0.713 - ETA: 9s - loss: 0.5748 - accuracy: 0.713 - ETA: 9s - loss: 0.5736 - accuracy: 0.71 - ETA: 9s - loss: 0.5718 - accuracy: 0.71 - ETA: 9s - loss: 0.5703 - accuracy: 0.71 - ETA: 9s - loss: 0.5691 - accuracy: 0.71 - ETA: 9s - loss: 0.5758 - accuracy: 0.71 - ETA: 8s - loss: 0.5745 - accuracy: 0.71 - ETA: 8s - loss: 0.5738 - accuracy: 0.71 - ETA: 8s - loss: 0.5768 - accuracy: 0.71 - ETA: 8s - loss: 0.5761 - accuracy: 0.71 - ETA: 8s - loss: 0.5812 - accuracy: 0.71 - ETA: 8s - loss: 0.5836 - accuracy: 0.71 - ETA: 8s - loss: 0.5820 - accuracy: 0.71 - ETA: 7s - loss: 0.5821 - accuracy: 0.71 - ETA: 7s - loss: 0.5819 - accuracy: 0.71 - ETA: 7s - loss: 0.5824 - accuracy: 0.71 - ETA: 7s - loss: 0.5827 - accuracy: 0.71 - ETA: 7s - loss: 0.5833 - accuracy: 0.71 - ETA: 7s - loss: 0.5832 - accuracy: 0.71 - ETA: 7s - loss: 0.5830 - accuracy: 0.71 - ETA: 6s - loss: 0.5836 - accuracy: 0.71 - ETA: 6s - loss: 0.5836 - accuracy: 0.71 - ETA: 6s - loss: 0.5833 - accuracy: 0.71 - ETA: 6s - loss: 0.5848 - accuracy: 0.71 - ETA: 6s - loss: 0.5850 - accuracy: 0.71 - ETA: 6s - loss: 0.5849 - accuracy: 0.71 - ETA: 5s - loss: 0.5858 - accuracy: 0.71 - ETA: 5s - loss: 0.5858 - accuracy: 0.71 - ETA: 5s - loss: 0.5846 - accuracy: 0.71 - ETA: 5s - loss: 0.5855 - accuracy: 0.71 - ETA: 5s - loss: 0.5837 - accuracy: 0.71 - ETA: 5s - loss: 0.5839 - accuracy: 0.71 - ETA: 5s - loss: 0.5842 - accuracy: 0.71 - ETA: 4s - loss: 0.5831 - accuracy: 0.71 - ETA: 4s - loss: 0.5818 - accuracy: 0.71 - ETA: 4s - loss: 0.5815 - accuracy: 0.71 - ETA: 4s - loss: 0.5801 - accuracy: 0.71 - ETA: 4s - loss: 0.5796 - accuracy: 0.71 - ETA: 4s - loss: 0.5819 - accuracy: 0.71 - ETA: 3s - loss: 0.5840 - accuracy: 0.71 - ETA: 3s - loss: 0.5845 - accuracy: 0.71 - ETA: 3s - loss: 0.5831 - accuracy: 0.71 - ETA: 3s - loss: 0.5829 - accuracy: 0.71 - ETA: 3s - loss: 0.5827 - accuracy: 0.71 - ETA: 3s - loss: 0.5832 - accuracy: 0.71 - ETA: 3s - loss: 0.5824 - accuracy: 0.71 - ETA: 2s - loss: 0.5823 - accuracy: 0.71 - ETA: 2s - loss: 0.5828 - accuracy: 0.71411646/1646 [==============================] - ETA: 2s - loss: 0.5837 - accuracy: 0.71 - ETA: 2s - loss: 0.5830 - accuracy: 0.71 - ETA: 2s - loss: 0.5827 - accuracy: 0.71 - ETA: 2s - loss: 0.5825 - accuracy: 0.71 - ETA: 1s - loss: 0.5826 - accuracy: 0.71 - ETA: 1s - loss: 0.5821 - accuracy: 0.71 - ETA: 1s - loss: 0.5814 - accuracy: 0.71 - ETA: 1s - loss: 0.5813 - accuracy: 0.71 - ETA: 1s - loss: 0.5800 - accuracy: 0.71 - ETA: 1s - loss: 0.5797 - accuracy: 0.71 - ETA: 1s - loss: 0.5800 - accuracy: 0.71 - ETA: 0s - loss: 0.5789 - accuracy: 0.71 - ETA: 0s - loss: 0.5773 - accuracy: 0.71 - ETA: 0s - loss: 0.5767 - accuracy: 0.71 - ETA: 0s - loss: 0.5772 - accuracy: 0.71 - ETA: 0s - loss: 0.5786 - accuracy: 0.71 - ETA: 0s - loss: 0.5775 - accuracy: 0.71 - 32s 19ms/sample - loss: 0.5800 - accuracy: 0.7157\n",
      "Epoch 4/10\n",
      "1504/1646 [==========================>...] - ETA: 31s - loss: 0.4633 - accuracy: 0.625 - ETA: 31s - loss: 0.4971 - accuracy: 0.687 - ETA: 31s - loss: 0.4300 - accuracy: 0.791 - ETA: 33s - loss: 0.4681 - accuracy: 0.750 - ETA: 32s - loss: 0.4855 - accuracy: 0.725 - ETA: 32s - loss: 0.4867 - accuracy: 0.729 - ETA: 32s - loss: 0.5002 - accuracy: 0.714 - ETA: 31s - loss: 0.5122 - accuracy: 0.703 - ETA: 31s - loss: 0.5221 - accuracy: 0.694 - ETA: 31s - loss: 0.5784 - accuracy: 0.700 - ETA: 31s - loss: 0.5848 - accuracy: 0.693 - ETA: 30s - loss: 0.5690 - accuracy: 0.708 - ETA: 30s - loss: 0.5543 - accuracy: 0.711 - ETA: 30s - loss: 0.5471 - accuracy: 0.714 - ETA: 30s - loss: 0.5476 - accuracy: 0.725 - ETA: 30s - loss: 0.5397 - accuracy: 0.734 - ETA: 30s - loss: 0.5482 - accuracy: 0.720 - ETA: 29s - loss: 0.5441 - accuracy: 0.722 - ETA: 29s - loss: 0.5568 - accuracy: 0.717 - ETA: 29s - loss: 0.5423 - accuracy: 0.731 - ETA: 29s - loss: 0.5388 - accuracy: 0.732 - ETA: 29s - loss: 0.5388 - accuracy: 0.727 - ETA: 29s - loss: 0.5441 - accuracy: 0.717 - ETA: 28s - loss: 0.5406 - accuracy: 0.718 - ETA: 28s - loss: 0.5366 - accuracy: 0.720 - ETA: 28s - loss: 0.5489 - accuracy: 0.711 - ETA: 28s - loss: 0.5398 - accuracy: 0.717 - ETA: 28s - loss: 0.5358 - accuracy: 0.723 - ETA: 27s - loss: 0.5458 - accuracy: 0.719 - ETA: 27s - loss: 0.5492 - accuracy: 0.712 - ETA: 27s - loss: 0.5411 - accuracy: 0.721 - ETA: 27s - loss: 0.5371 - accuracy: 0.722 - ETA: 27s - loss: 0.5283 - accuracy: 0.727 - ETA: 27s - loss: 0.5245 - accuracy: 0.727 - ETA: 26s - loss: 0.5262 - accuracy: 0.725 - ETA: 26s - loss: 0.5316 - accuracy: 0.722 - ETA: 26s - loss: 0.5392 - accuracy: 0.719 - ETA: 26s - loss: 0.5381 - accuracy: 0.720 - ETA: 26s - loss: 0.5460 - accuracy: 0.711 - ETA: 26s - loss: 0.5472 - accuracy: 0.709 - ETA: 26s - loss: 0.5444 - accuracy: 0.710 - ETA: 25s - loss: 0.5494 - accuracy: 0.708 - ETA: 25s - loss: 0.5477 - accuracy: 0.712 - ETA: 25s - loss: 0.5423 - accuracy: 0.715 - ETA: 25s - loss: 0.5365 - accuracy: 0.719 - ETA: 25s - loss: 0.5389 - accuracy: 0.717 - ETA: 24s - loss: 0.5444 - accuracy: 0.712 - ETA: 24s - loss: 0.5429 - accuracy: 0.710 - ETA: 24s - loss: 0.5372 - accuracy: 0.716 - ETA: 24s - loss: 0.5322 - accuracy: 0.720 - ETA: 24s - loss: 0.5302 - accuracy: 0.720 - ETA: 24s - loss: 0.5282 - accuracy: 0.721 - ETA: 24s - loss: 0.5369 - accuracy: 0.719 - ETA: 23s - loss: 0.5313 - accuracy: 0.724 - ETA: 23s - loss: 0.5330 - accuracy: 0.722 - ETA: 23s - loss: 0.5330 - accuracy: 0.723 - ETA: 23s - loss: 0.5307 - accuracy: 0.725 - ETA: 23s - loss: 0.5323 - accuracy: 0.726 - ETA: 23s - loss: 0.5305 - accuracy: 0.726 - ETA: 22s - loss: 0.5285 - accuracy: 0.727 - ETA: 22s - loss: 0.5363 - accuracy: 0.727 - ETA: 22s - loss: 0.5315 - accuracy: 0.729 - ETA: 22s - loss: 0.5338 - accuracy: 0.730 - ETA: 22s - loss: 0.5335 - accuracy: 0.728 - ETA: 22s - loss: 0.5342 - accuracy: 0.728 - ETA: 21s - loss: 0.5354 - accuracy: 0.727 - ETA: 21s - loss: 0.5318 - accuracy: 0.731 - ETA: 21s - loss: 0.5308 - accuracy: 0.729 - ETA: 21s - loss: 0.5318 - accuracy: 0.730 - ETA: 21s - loss: 0.5328 - accuracy: 0.728 - ETA: 21s - loss: 0.5322 - accuracy: 0.728 - ETA: 21s - loss: 0.5268 - accuracy: 0.732 - ETA: 20s - loss: 0.5230 - accuracy: 0.734 - ETA: 20s - loss: 0.5219 - accuracy: 0.734 - ETA: 20s - loss: 0.5207 - accuracy: 0.736 - ETA: 20s - loss: 0.5197 - accuracy: 0.736 - ETA: 20s - loss: 0.5146 - accuracy: 0.740 - ETA: 20s - loss: 0.5197 - accuracy: 0.738 - ETA: 19s - loss: 0.5194 - accuracy: 0.735 - ETA: 19s - loss: 0.5265 - accuracy: 0.734 - ETA: 19s - loss: 0.5249 - accuracy: 0.736 - ETA: 19s - loss: 0.5231 - accuracy: 0.737 - ETA: 19s - loss: 0.5225 - accuracy: 0.741 - ETA: 19s - loss: 0.5218 - accuracy: 0.744 - ETA: 19s - loss: 0.5220 - accuracy: 0.744 - ETA: 18s - loss: 0.5239 - accuracy: 0.739 - ETA: 18s - loss: 0.5246 - accuracy: 0.739 - ETA: 18s - loss: 0.5256 - accuracy: 0.741 - ETA: 18s - loss: 0.5252 - accuracy: 0.743 - ETA: 18s - loss: 0.5251 - accuracy: 0.741 - ETA: 18s - loss: 0.5247 - accuracy: 0.743 - ETA: 17s - loss: 0.5244 - accuracy: 0.743 - ETA: 17s - loss: 0.5229 - accuracy: 0.744 - ETA: 17s - loss: 0.5227 - accuracy: 0.746 - ETA: 17s - loss: 0.5248 - accuracy: 0.747 - ETA: 17s - loss: 0.5223 - accuracy: 0.748 - ETA: 17s - loss: 0.5234 - accuracy: 0.748 - ETA: 16s - loss: 0.5221 - accuracy: 0.751 - ETA: 16s - loss: 0.5224 - accuracy: 0.750 - ETA: 16s - loss: 0.5205 - accuracy: 0.751 - ETA: 16s - loss: 0.5190 - accuracy: 0.753 - ETA: 16s - loss: 0.5195 - accuracy: 0.752 - ETA: 16s - loss: 0.5164 - accuracy: 0.753 - ETA: 15s - loss: 0.5163 - accuracy: 0.752 - ETA: 15s - loss: 0.5184 - accuracy: 0.751 - ETA: 15s - loss: 0.5165 - accuracy: 0.752 - ETA: 15s - loss: 0.5193 - accuracy: 0.752 - ETA: 15s - loss: 0.5203 - accuracy: 0.750 - ETA: 15s - loss: 0.5185 - accuracy: 0.751 - ETA: 15s - loss: 0.5194 - accuracy: 0.748 - ETA: 14s - loss: 0.5193 - accuracy: 0.748 - ETA: 14s - loss: 0.5197 - accuracy: 0.748 - ETA: 14s - loss: 0.5186 - accuracy: 0.750 - ETA: 14s - loss: 0.5185 - accuracy: 0.748 - ETA: 14s - loss: 0.5188 - accuracy: 0.747 - ETA: 14s - loss: 0.5198 - accuracy: 0.747 - ETA: 13s - loss: 0.5182 - accuracy: 0.747 - ETA: 13s - loss: 0.5178 - accuracy: 0.747 - ETA: 13s - loss: 0.5204 - accuracy: 0.746 - ETA: 13s - loss: 0.5190 - accuracy: 0.747 - ETA: 13s - loss: 0.5216 - accuracy: 0.746 - ETA: 13s - loss: 0.5229 - accuracy: 0.745 - ETA: 12s - loss: 0.5222 - accuracy: 0.745 - ETA: 12s - loss: 0.5231 - accuracy: 0.747 - ETA: 12s - loss: 0.5220 - accuracy: 0.747 - ETA: 12s - loss: 0.5200 - accuracy: 0.749 - ETA: 12s - loss: 0.5180 - accuracy: 0.750 - ETA: 12s - loss: 0.5193 - accuracy: 0.749 - ETA: 12s - loss: 0.5222 - accuracy: 0.747 - ETA: 11s - loss: 0.5213 - accuracy: 0.748 - ETA: 11s - loss: 0.5203 - accuracy: 0.749 - ETA: 11s - loss: 0.5192 - accuracy: 0.750 - ETA: 11s - loss: 0.5192 - accuracy: 0.750 - ETA: 11s - loss: 0.5198 - accuracy: 0.749 - ETA: 11s - loss: 0.5183 - accuracy: 0.750 - ETA: 10s - loss: 0.5198 - accuracy: 0.750 - ETA: 10s - loss: 0.5194 - accuracy: 0.750 - ETA: 10s - loss: 0.5174 - accuracy: 0.750 - ETA: 10s - loss: 0.5184 - accuracy: 0.749 - ETA: 10s - loss: 0.5179 - accuracy: 0.748 - ETA: 10s - loss: 0.5180 - accuracy: 0.747 - ETA: 9s - loss: 0.5161 - accuracy: 0.748 - ETA: 9s - loss: 0.5172 - accuracy: 0.74 - ETA: 9s - loss: 0.5235 - accuracy: 0.74 - ETA: 9s - loss: 0.5215 - accuracy: 0.74 - ETA: 9s - loss: 0.5204 - accuracy: 0.74 - ETA: 9s - loss: 0.5224 - accuracy: 0.74 - ETA: 9s - loss: 0.5235 - accuracy: 0.74 - ETA: 8s - loss: 0.5220 - accuracy: 0.74 - ETA: 8s - loss: 0.5255 - accuracy: 0.74 - ETA: 8s - loss: 0.5252 - accuracy: 0.74 - ETA: 8s - loss: 0.5236 - accuracy: 0.74 - ETA: 8s - loss: 0.5252 - accuracy: 0.74 - ETA: 8s - loss: 0.5235 - accuracy: 0.74 - ETA: 7s - loss: 0.5244 - accuracy: 0.74 - ETA: 7s - loss: 0.5234 - accuracy: 0.74 - ETA: 7s - loss: 0.5252 - accuracy: 0.74 - ETA: 7s - loss: 0.5256 - accuracy: 0.74 - ETA: 7s - loss: 0.5257 - accuracy: 0.74 - ETA: 7s - loss: 0.5261 - accuracy: 0.74 - ETA: 7s - loss: 0.5254 - accuracy: 0.74 - ETA: 6s - loss: 0.5247 - accuracy: 0.74 - ETA: 6s - loss: 0.5238 - accuracy: 0.74 - ETA: 6s - loss: 0.5223 - accuracy: 0.75 - ETA: 6s - loss: 0.5211 - accuracy: 0.75 - ETA: 6s - loss: 0.5209 - accuracy: 0.75 - ETA: 6s - loss: 0.5187 - accuracy: 0.75 - ETA: 5s - loss: 0.5196 - accuracy: 0.75 - ETA: 5s - loss: 0.5211 - accuracy: 0.75 - ETA: 5s - loss: 0.5215 - accuracy: 0.75 - ETA: 5s - loss: 0.5210 - accuracy: 0.75 - ETA: 5s - loss: 0.5221 - accuracy: 0.75 - ETA: 5s - loss: 0.5216 - accuracy: 0.75 - ETA: 4s - loss: 0.5236 - accuracy: 0.75 - ETA: 4s - loss: 0.5217 - accuracy: 0.75 - ETA: 4s - loss: 0.5208 - accuracy: 0.75 - ETA: 4s - loss: 0.5190 - accuracy: 0.75 - ETA: 4s - loss: 0.5183 - accuracy: 0.75 - ETA: 4s - loss: 0.5171 - accuracy: 0.75 - ETA: 4s - loss: 0.5169 - accuracy: 0.75 - ETA: 3s - loss: 0.5167 - accuracy: 0.75 - ETA: 3s - loss: 0.5159 - accuracy: 0.75 - ETA: 3s - loss: 0.5151 - accuracy: 0.76 - ETA: 3s - loss: 0.5139 - accuracy: 0.76 - ETA: 3s - loss: 0.5131 - accuracy: 0.76 - ETA: 3s - loss: 0.5128 - accuracy: 0.76 - ETA: 2s - loss: 0.5132 - accuracy: 0.76 - ETA: 2s - loss: 0.5129 - accuracy: 0.76061646/1646 [==============================] - ETA: 2s - loss: 0.5129 - accuracy: 0.75 - ETA: 2s - loss: 0.5115 - accuracy: 0.76 - ETA: 2s - loss: 0.5104 - accuracy: 0.76 - ETA: 2s - loss: 0.5116 - accuracy: 0.76 - ETA: 1s - loss: 0.5097 - accuracy: 0.76 - ETA: 1s - loss: 0.5089 - accuracy: 0.76 - ETA: 1s - loss: 0.5108 - accuracy: 0.76 - ETA: 1s - loss: 0.5087 - accuracy: 0.76 - ETA: 1s - loss: 0.5082 - accuracy: 0.76 - ETA: 1s - loss: 0.5073 - accuracy: 0.76 - ETA: 1s - loss: 0.5067 - accuracy: 0.76 - ETA: 0s - loss: 0.5077 - accuracy: 0.76 - ETA: 0s - loss: 0.5066 - accuracy: 0.76 - ETA: 0s - loss: 0.5076 - accuracy: 0.76 - ETA: 0s - loss: 0.5060 - accuracy: 0.76 - ETA: 0s - loss: 0.5070 - accuracy: 0.76 - ETA: 0s - loss: 0.5071 - accuracy: 0.76 - 35s 21ms/sample - loss: 0.5081 - accuracy: 0.7612\n",
      "Epoch 5/10\n",
      "1504/1646 [==========================>...] - ETA: 30s - loss: 0.3446 - accuracy: 0.750 - ETA: 30s - loss: 0.2009 - accuracy: 0.875 - ETA: 30s - loss: 0.2190 - accuracy: 0.833 - ETA: 30s - loss: 0.2444 - accuracy: 0.843 - ETA: 30s - loss: 0.3381 - accuracy: 0.800 - ETA: 30s - loss: 0.3498 - accuracy: 0.791 - ETA: 29s - loss: 0.3247 - accuracy: 0.803 - ETA: 29s - loss: 0.3395 - accuracy: 0.796 - ETA: 29s - loss: 0.3227 - accuracy: 0.819 - ETA: 29s - loss: 0.3039 - accuracy: 0.837 - ETA: 29s - loss: 0.3167 - accuracy: 0.829 - ETA: 29s - loss: 0.3393 - accuracy: 0.812 - ETA: 29s - loss: 0.3561 - accuracy: 0.807 - ETA: 28s - loss: 0.3493 - accuracy: 0.821 - ETA: 28s - loss: 0.3404 - accuracy: 0.833 - ETA: 28s - loss: 0.3307 - accuracy: 0.835 - ETA: 28s - loss: 0.3207 - accuracy: 0.845 - ETA: 28s - loss: 0.3145 - accuracy: 0.854 - ETA: 28s - loss: 0.3285 - accuracy: 0.848 - ETA: 27s - loss: 0.3385 - accuracy: 0.843 - ETA: 27s - loss: 0.3374 - accuracy: 0.839 - ETA: 27s - loss: 0.3673 - accuracy: 0.829 - ETA: 27s - loss: 0.3595 - accuracy: 0.831 - ETA: 27s - loss: 0.3650 - accuracy: 0.828 - ETA: 27s - loss: 0.3705 - accuracy: 0.825 - ETA: 27s - loss: 0.3673 - accuracy: 0.826 - ETA: 27s - loss: 0.3714 - accuracy: 0.828 - ETA: 26s - loss: 0.3725 - accuracy: 0.825 - ETA: 26s - loss: 0.3629 - accuracy: 0.831 - ETA: 26s - loss: 0.3601 - accuracy: 0.837 - ETA: 26s - loss: 0.3571 - accuracy: 0.842 - ETA: 26s - loss: 0.3641 - accuracy: 0.839 - ETA: 26s - loss: 0.3649 - accuracy: 0.840 - ETA: 26s - loss: 0.3694 - accuracy: 0.838 - ETA: 25s - loss: 0.3665 - accuracy: 0.839 - ETA: 25s - loss: 0.3591 - accuracy: 0.843 - ETA: 25s - loss: 0.3548 - accuracy: 0.844 - ETA: 25s - loss: 0.3672 - accuracy: 0.842 - ETA: 25s - loss: 0.3694 - accuracy: 0.839 - ETA: 25s - loss: 0.3657 - accuracy: 0.843 - ETA: 25s - loss: 0.3588 - accuracy: 0.847 - ETA: 24s - loss: 0.3584 - accuracy: 0.845 - ETA: 24s - loss: 0.3577 - accuracy: 0.843 - ETA: 24s - loss: 0.3595 - accuracy: 0.843 - ETA: 24s - loss: 0.3668 - accuracy: 0.838 - ETA: 24s - loss: 0.3734 - accuracy: 0.831 - ETA: 24s - loss: 0.3714 - accuracy: 0.832 - ETA: 23s - loss: 0.3731 - accuracy: 0.833 - ETA: 23s - loss: 0.3817 - accuracy: 0.831 - ETA: 23s - loss: 0.3780 - accuracy: 0.835 - ETA: 23s - loss: 0.3755 - accuracy: 0.835 - ETA: 23s - loss: 0.3758 - accuracy: 0.836 - ETA: 23s - loss: 0.3730 - accuracy: 0.839 - ETA: 23s - loss: 0.3707 - accuracy: 0.842 - ETA: 22s - loss: 0.3696 - accuracy: 0.843 - ETA: 22s - loss: 0.3712 - accuracy: 0.843 - ETA: 22s - loss: 0.3708 - accuracy: 0.844 - ETA: 22s - loss: 0.3705 - accuracy: 0.842 - ETA: 22s - loss: 0.3702 - accuracy: 0.841 - ETA: 22s - loss: 0.3715 - accuracy: 0.839 - ETA: 22s - loss: 0.3679 - accuracy: 0.842 - ETA: 21s - loss: 0.3723 - accuracy: 0.836 - ETA: 21s - loss: 0.3695 - accuracy: 0.839 - ETA: 21s - loss: 0.3724 - accuracy: 0.837 - ETA: 21s - loss: 0.3696 - accuracy: 0.838 - ETA: 21s - loss: 0.3679 - accuracy: 0.839 - ETA: 21s - loss: 0.3671 - accuracy: 0.839 - ETA: 21s - loss: 0.3673 - accuracy: 0.838 - ETA: 20s - loss: 0.3673 - accuracy: 0.838 - ETA: 20s - loss: 0.3695 - accuracy: 0.835 - ETA: 20s - loss: 0.3672 - accuracy: 0.838 - ETA: 20s - loss: 0.3695 - accuracy: 0.836 - ETA: 20s - loss: 0.3672 - accuracy: 0.839 - ETA: 20s - loss: 0.3671 - accuracy: 0.839 - ETA: 19s - loss: 0.3649 - accuracy: 0.840 - ETA: 19s - loss: 0.3616 - accuracy: 0.842 - ETA: 19s - loss: 0.3627 - accuracy: 0.840 - ETA: 19s - loss: 0.3660 - accuracy: 0.838 - ETA: 19s - loss: 0.3702 - accuracy: 0.835 - ETA: 19s - loss: 0.3683 - accuracy: 0.837 - ETA: 19s - loss: 0.3681 - accuracy: 0.836 - ETA: 18s - loss: 0.3650 - accuracy: 0.838 - ETA: 18s - loss: 0.3640 - accuracy: 0.838 - ETA: 18s - loss: 0.3632 - accuracy: 0.839 - ETA: 18s - loss: 0.3642 - accuracy: 0.836 - ETA: 18s - loss: 0.3649 - accuracy: 0.835 - ETA: 18s - loss: 0.3655 - accuracy: 0.834 - ETA: 18s - loss: 0.3683 - accuracy: 0.833 - ETA: 17s - loss: 0.3666 - accuracy: 0.834 - ETA: 17s - loss: 0.3682 - accuracy: 0.833 - ETA: 17s - loss: 0.3655 - accuracy: 0.835 - ETA: 17s - loss: 0.3672 - accuracy: 0.832 - ETA: 17s - loss: 0.3666 - accuracy: 0.833 - ETA: 17s - loss: 0.3693 - accuracy: 0.832 - ETA: 16s - loss: 0.3673 - accuracy: 0.832 - ETA: 16s - loss: 0.3683 - accuracy: 0.833 - ETA: 16s - loss: 0.3678 - accuracy: 0.833 - ETA: 16s - loss: 0.3655 - accuracy: 0.835 - ETA: 16s - loss: 0.3635 - accuracy: 0.837 - ETA: 16s - loss: 0.3638 - accuracy: 0.837 - ETA: 16s - loss: 0.3620 - accuracy: 0.839 - ETA: 15s - loss: 0.3653 - accuracy: 0.835 - ETA: 15s - loss: 0.3665 - accuracy: 0.836 - ETA: 15s - loss: 0.3636 - accuracy: 0.837 - ETA: 15s - loss: 0.3631 - accuracy: 0.838 - ETA: 15s - loss: 0.3662 - accuracy: 0.837 - ETA: 15s - loss: 0.3654 - accuracy: 0.837 - ETA: 14s - loss: 0.3643 - accuracy: 0.836 - ETA: 14s - loss: 0.3616 - accuracy: 0.838 - ETA: 14s - loss: 0.3663 - accuracy: 0.836 - ETA: 14s - loss: 0.3643 - accuracy: 0.836 - ETA: 14s - loss: 0.3622 - accuracy: 0.837 - ETA: 14s - loss: 0.3645 - accuracy: 0.837 - ETA: 14s - loss: 0.3632 - accuracy: 0.838 - ETA: 13s - loss: 0.3629 - accuracy: 0.839 - ETA: 13s - loss: 0.3624 - accuracy: 0.840 - ETA: 13s - loss: 0.3655 - accuracy: 0.840 - ETA: 13s - loss: 0.3669 - accuracy: 0.841 - ETA: 13s - loss: 0.3663 - accuracy: 0.842 - ETA: 13s - loss: 0.3664 - accuracy: 0.842 - ETA: 13s - loss: 0.3664 - accuracy: 0.841 - ETA: 12s - loss: 0.3670 - accuracy: 0.841 - ETA: 12s - loss: 0.3666 - accuracy: 0.841 - ETA: 12s - loss: 0.3666 - accuracy: 0.840 - ETA: 12s - loss: 0.3663 - accuracy: 0.842 - ETA: 12s - loss: 0.3673 - accuracy: 0.841 - ETA: 12s - loss: 0.3669 - accuracy: 0.841 - ETA: 11s - loss: 0.3695 - accuracy: 0.838 - ETA: 11s - loss: 0.3745 - accuracy: 0.837 - ETA: 11s - loss: 0.3737 - accuracy: 0.837 - ETA: 11s - loss: 0.3766 - accuracy: 0.836 - ETA: 11s - loss: 0.3777 - accuracy: 0.834 - ETA: 11s - loss: 0.3777 - accuracy: 0.834 - ETA: 11s - loss: 0.3779 - accuracy: 0.834 - ETA: 10s - loss: 0.3771 - accuracy: 0.835 - ETA: 10s - loss: 0.3793 - accuracy: 0.833 - ETA: 10s - loss: 0.3820 - accuracy: 0.833 - ETA: 10s - loss: 0.3830 - accuracy: 0.832 - ETA: 10s - loss: 0.3813 - accuracy: 0.833 - ETA: 10s - loss: 0.3815 - accuracy: 0.833 - ETA: 9s - loss: 0.3799 - accuracy: 0.834 - ETA: 9s - loss: 0.3785 - accuracy: 0.83 - ETA: 9s - loss: 0.3769 - accuracy: 0.83 - ETA: 9s - loss: 0.3761 - accuracy: 0.83 - ETA: 9s - loss: 0.3756 - accuracy: 0.83 - ETA: 9s - loss: 0.3764 - accuracy: 0.83 - ETA: 9s - loss: 0.3755 - accuracy: 0.83 - ETA: 8s - loss: 0.3737 - accuracy: 0.84 - ETA: 8s - loss: 0.3721 - accuracy: 0.84 - ETA: 8s - loss: 0.3723 - accuracy: 0.84 - ETA: 8s - loss: 0.3728 - accuracy: 0.84 - ETA: 8s - loss: 0.3733 - accuracy: 0.84 - ETA: 8s - loss: 0.3731 - accuracy: 0.84 - ETA: 7s - loss: 0.3716 - accuracy: 0.84 - ETA: 7s - loss: 0.3712 - accuracy: 0.84 - ETA: 7s - loss: 0.3704 - accuracy: 0.84 - ETA: 7s - loss: 0.3722 - accuracy: 0.84 - ETA: 7s - loss: 0.3734 - accuracy: 0.84 - ETA: 7s - loss: 0.3717 - accuracy: 0.84 - ETA: 7s - loss: 0.3719 - accuracy: 0.84 - ETA: 6s - loss: 0.3720 - accuracy: 0.83 - ETA: 6s - loss: 0.3745 - accuracy: 0.83 - ETA: 6s - loss: 0.3734 - accuracy: 0.83 - ETA: 6s - loss: 0.3726 - accuracy: 0.83 - ETA: 6s - loss: 0.3716 - accuracy: 0.84 - ETA: 6s - loss: 0.3729 - accuracy: 0.83 - ETA: 5s - loss: 0.3752 - accuracy: 0.83 - ETA: 5s - loss: 0.3744 - accuracy: 0.83 - ETA: 5s - loss: 0.3735 - accuracy: 0.83 - ETA: 5s - loss: 0.3730 - accuracy: 0.83 - ETA: 5s - loss: 0.3760 - accuracy: 0.83 - ETA: 5s - loss: 0.3749 - accuracy: 0.83 - ETA: 5s - loss: 0.3762 - accuracy: 0.83 - ETA: 4s - loss: 0.3776 - accuracy: 0.83 - ETA: 4s - loss: 0.3769 - accuracy: 0.83 - ETA: 4s - loss: 0.3761 - accuracy: 0.83 - ETA: 4s - loss: 0.3773 - accuracy: 0.83 - ETA: 4s - loss: 0.3771 - accuracy: 0.83 - ETA: 4s - loss: 0.3769 - accuracy: 0.83 - ETA: 3s - loss: 0.3776 - accuracy: 0.83 - ETA: 3s - loss: 0.3764 - accuracy: 0.83 - ETA: 3s - loss: 0.3755 - accuracy: 0.83 - ETA: 3s - loss: 0.3742 - accuracy: 0.83 - ETA: 3s - loss: 0.3742 - accuracy: 0.83 - ETA: 3s - loss: 0.3724 - accuracy: 0.83 - ETA: 3s - loss: 0.3743 - accuracy: 0.83 - ETA: 2s - loss: 0.3759 - accuracy: 0.83 - ETA: 2s - loss: 0.3765 - accuracy: 0.83641646/1646 [==============================] - ETA: 2s - loss: 0.3772 - accuracy: 0.83 - ETA: 2s - loss: 0.3767 - accuracy: 0.83 - ETA: 2s - loss: 0.3782 - accuracy: 0.83 - ETA: 2s - loss: 0.3771 - accuracy: 0.83 - ETA: 1s - loss: 0.3778 - accuracy: 0.83 - ETA: 1s - loss: 0.3772 - accuracy: 0.83 - ETA: 1s - loss: 0.3781 - accuracy: 0.83 - ETA: 1s - loss: 0.3780 - accuracy: 0.83 - ETA: 1s - loss: 0.3777 - accuracy: 0.83 - ETA: 1s - loss: 0.3800 - accuracy: 0.83 - ETA: 1s - loss: 0.3815 - accuracy: 0.83 - ETA: 0s - loss: 0.3819 - accuracy: 0.83 - ETA: 0s - loss: 0.3813 - accuracy: 0.83 - ETA: 0s - loss: 0.3809 - accuracy: 0.83 - ETA: 0s - loss: 0.3803 - accuracy: 0.83 - ETA: 0s - loss: 0.3818 - accuracy: 0.83 - ETA: 0s - loss: 0.3819 - accuracy: 0.83 - 32s 19ms/sample - loss: 0.3810 - accuracy: 0.8341\n",
      "Epoch 6/10\n",
      "1504/1646 [==========================>...] - ETA: 33s - loss: 0.3792 - accuracy: 0.875 - ETA: 32s - loss: 0.3470 - accuracy: 0.937 - ETA: 31s - loss: 0.3171 - accuracy: 0.916 - ETA: 31s - loss: 0.2623 - accuracy: 0.937 - ETA: 31s - loss: 0.2462 - accuracy: 0.950 - ETA: 31s - loss: 0.2750 - accuracy: 0.916 - ETA: 30s - loss: 0.2925 - accuracy: 0.892 - ETA: 30s - loss: 0.2901 - accuracy: 0.890 - ETA: 30s - loss: 0.2702 - accuracy: 0.902 - ETA: 30s - loss: 0.2567 - accuracy: 0.912 - ETA: 30s - loss: 0.2561 - accuracy: 0.920 - ETA: 29s - loss: 0.2546 - accuracy: 0.916 - ETA: 29s - loss: 0.3337 - accuracy: 0.884 - ETA: 29s - loss: 0.3366 - accuracy: 0.883 - ETA: 29s - loss: 0.3199 - accuracy: 0.891 - ETA: 29s - loss: 0.3095 - accuracy: 0.898 - ETA: 29s - loss: 0.3007 - accuracy: 0.904 - ETA: 29s - loss: 0.3138 - accuracy: 0.902 - ETA: 28s - loss: 0.3028 - accuracy: 0.907 - ETA: 28s - loss: 0.3021 - accuracy: 0.906 - ETA: 28s - loss: 0.2937 - accuracy: 0.910 - ETA: 28s - loss: 0.2964 - accuracy: 0.909 - ETA: 28s - loss: 0.2933 - accuracy: 0.907 - ETA: 28s - loss: 0.2939 - accuracy: 0.906 - ETA: 28s - loss: 0.2936 - accuracy: 0.905 - ETA: 27s - loss: 0.2870 - accuracy: 0.908 - ETA: 27s - loss: 0.2823 - accuracy: 0.907 - ETA: 27s - loss: 0.2836 - accuracy: 0.901 - ETA: 27s - loss: 0.2806 - accuracy: 0.905 - ETA: 27s - loss: 0.2760 - accuracy: 0.904 - ETA: 27s - loss: 0.2754 - accuracy: 0.903 - ETA: 27s - loss: 0.2698 - accuracy: 0.906 - ETA: 26s - loss: 0.2876 - accuracy: 0.901 - ETA: 26s - loss: 0.2858 - accuracy: 0.900 - ETA: 26s - loss: 0.2788 - accuracy: 0.903 - ETA: 26s - loss: 0.2743 - accuracy: 0.906 - ETA: 26s - loss: 0.2774 - accuracy: 0.905 - ETA: 26s - loss: 0.2807 - accuracy: 0.901 - ETA: 25s - loss: 0.2957 - accuracy: 0.897 - ETA: 25s - loss: 0.2885 - accuracy: 0.900 - ETA: 25s - loss: 0.2868 - accuracy: 0.899 - ETA: 25s - loss: 0.2822 - accuracy: 0.901 - ETA: 25s - loss: 0.2833 - accuracy: 0.898 - ETA: 25s - loss: 0.2859 - accuracy: 0.897 - ETA: 24s - loss: 0.2888 - accuracy: 0.897 - ETA: 24s - loss: 0.3052 - accuracy: 0.896 - ETA: 24s - loss: 0.3037 - accuracy: 0.896 - ETA: 24s - loss: 0.3011 - accuracy: 0.895 - ETA: 24s - loss: 0.3064 - accuracy: 0.895 - ETA: 24s - loss: 0.3069 - accuracy: 0.895 - ETA: 23s - loss: 0.3041 - accuracy: 0.897 - ETA: 23s - loss: 0.2998 - accuracy: 0.899 - ETA: 23s - loss: 0.2969 - accuracy: 0.900 - ETA: 23s - loss: 0.2951 - accuracy: 0.900 - ETA: 23s - loss: 0.3087 - accuracy: 0.895 - ETA: 23s - loss: 0.3090 - accuracy: 0.895 - ETA: 23s - loss: 0.3055 - accuracy: 0.894 - ETA: 22s - loss: 0.3079 - accuracy: 0.894 - ETA: 22s - loss: 0.3034 - accuracy: 0.896 - ETA: 22s - loss: 0.3001 - accuracy: 0.895 - ETA: 22s - loss: 0.2992 - accuracy: 0.895 - ETA: 22s - loss: 0.2986 - accuracy: 0.893 - ETA: 22s - loss: 0.2978 - accuracy: 0.892 - ETA: 22s - loss: 0.2990 - accuracy: 0.892 - ETA: 21s - loss: 0.2992 - accuracy: 0.892 - ETA: 21s - loss: 0.2990 - accuracy: 0.892 - ETA: 21s - loss: 0.3079 - accuracy: 0.886 - ETA: 21s - loss: 0.3112 - accuracy: 0.884 - ETA: 21s - loss: 0.3095 - accuracy: 0.884 - ETA: 21s - loss: 0.3187 - accuracy: 0.882 - ETA: 20s - loss: 0.3199 - accuracy: 0.880 - ETA: 20s - loss: 0.3164 - accuracy: 0.881 - ETA: 20s - loss: 0.3171 - accuracy: 0.880 - ETA: 20s - loss: 0.3169 - accuracy: 0.880 - ETA: 20s - loss: 0.3207 - accuracy: 0.875 - ETA: 20s - loss: 0.3207 - accuracy: 0.875 - ETA: 19s - loss: 0.3183 - accuracy: 0.876 - ETA: 19s - loss: 0.3218 - accuracy: 0.873 - ETA: 19s - loss: 0.3215 - accuracy: 0.875 - ETA: 19s - loss: 0.3221 - accuracy: 0.875 - ETA: 19s - loss: 0.3210 - accuracy: 0.875 - ETA: 19s - loss: 0.3190 - accuracy: 0.876 - ETA: 19s - loss: 0.3196 - accuracy: 0.875 - ETA: 18s - loss: 0.3247 - accuracy: 0.873 - ETA: 18s - loss: 0.3247 - accuracy: 0.873 - ETA: 18s - loss: 0.3337 - accuracy: 0.870 - ETA: 18s - loss: 0.3333 - accuracy: 0.870 - ETA: 18s - loss: 0.3305 - accuracy: 0.872 - ETA: 18s - loss: 0.3320 - accuracy: 0.870 - ETA: 17s - loss: 0.3308 - accuracy: 0.870 - ETA: 17s - loss: 0.3301 - accuracy: 0.870 - ETA: 17s - loss: 0.3332 - accuracy: 0.868 - ETA: 17s - loss: 0.3312 - accuracy: 0.869 - ETA: 17s - loss: 0.3298 - accuracy: 0.871 - ETA: 17s - loss: 0.3284 - accuracy: 0.872 - ETA: 17s - loss: 0.3275 - accuracy: 0.873 - ETA: 16s - loss: 0.3277 - accuracy: 0.873 - ETA: 16s - loss: 0.3297 - accuracy: 0.872 - ETA: 16s - loss: 0.3289 - accuracy: 0.873 - ETA: 16s - loss: 0.3274 - accuracy: 0.875 - ETA: 16s - loss: 0.3254 - accuracy: 0.876 - ETA: 16s - loss: 0.3282 - accuracy: 0.875 - ETA: 15s - loss: 0.3285 - accuracy: 0.875 - ETA: 15s - loss: 0.3273 - accuracy: 0.875 - ETA: 15s - loss: 0.3264 - accuracy: 0.875 - ETA: 15s - loss: 0.3268 - accuracy: 0.875 - ETA: 15s - loss: 0.3287 - accuracy: 0.875 - ETA: 15s - loss: 0.3283 - accuracy: 0.875 - ETA: 14s - loss: 0.3263 - accuracy: 0.876 - ETA: 14s - loss: 0.3276 - accuracy: 0.875 - ETA: 14s - loss: 0.3269 - accuracy: 0.876 - ETA: 14s - loss: 0.3269 - accuracy: 0.876 - ETA: 14s - loss: 0.3243 - accuracy: 0.877 - ETA: 14s - loss: 0.3242 - accuracy: 0.876 - ETA: 14s - loss: 0.3266 - accuracy: 0.873 - ETA: 13s - loss: 0.3275 - accuracy: 0.872 - ETA: 13s - loss: 0.3278 - accuracy: 0.871 - ETA: 13s - loss: 0.3281 - accuracy: 0.870 - ETA: 13s - loss: 0.3282 - accuracy: 0.869 - ETA: 13s - loss: 0.3291 - accuracy: 0.869 - ETA: 13s - loss: 0.3284 - accuracy: 0.869 - ETA: 12s - loss: 0.3270 - accuracy: 0.870 - ETA: 12s - loss: 0.3273 - accuracy: 0.869 - ETA: 12s - loss: 0.3275 - accuracy: 0.870 - ETA: 12s - loss: 0.3306 - accuracy: 0.869 - ETA: 12s - loss: 0.3311 - accuracy: 0.868 - ETA: 12s - loss: 0.3344 - accuracy: 0.865 - ETA: 12s - loss: 0.3339 - accuracy: 0.865 - ETA: 11s - loss: 0.3343 - accuracy: 0.865 - ETA: 11s - loss: 0.3349 - accuracy: 0.865 - ETA: 11s - loss: 0.3339 - accuracy: 0.865 - ETA: 11s - loss: 0.3331 - accuracy: 0.866 - ETA: 11s - loss: 0.3319 - accuracy: 0.867 - ETA: 11s - loss: 0.3319 - accuracy: 0.867 - ETA: 10s - loss: 0.3350 - accuracy: 0.867 - ETA: 10s - loss: 0.3338 - accuracy: 0.868 - ETA: 10s - loss: 0.3321 - accuracy: 0.869 - ETA: 10s - loss: 0.3307 - accuracy: 0.870 - ETA: 10s - loss: 0.3311 - accuracy: 0.869 - ETA: 10s - loss: 0.3331 - accuracy: 0.868 - ETA: 10s - loss: 0.3347 - accuracy: 0.868 - ETA: 9s - loss: 0.3352 - accuracy: 0.868 - ETA: 9s - loss: 0.3338 - accuracy: 0.86 - ETA: 9s - loss: 0.3357 - accuracy: 0.86 - ETA: 9s - loss: 0.3355 - accuracy: 0.86 - ETA: 9s - loss: 0.3344 - accuracy: 0.86 - ETA: 9s - loss: 0.3374 - accuracy: 0.86 - ETA: 8s - loss: 0.3370 - accuracy: 0.86 - ETA: 8s - loss: 0.3361 - accuracy: 0.86 - ETA: 8s - loss: 0.3344 - accuracy: 0.86 - ETA: 8s - loss: 0.3336 - accuracy: 0.86 - ETA: 8s - loss: 0.3322 - accuracy: 0.87 - ETA: 8s - loss: 0.3309 - accuracy: 0.87 - ETA: 8s - loss: 0.3304 - accuracy: 0.87 - ETA: 7s - loss: 0.3324 - accuracy: 0.86 - ETA: 7s - loss: 0.3323 - accuracy: 0.86 - ETA: 7s - loss: 0.3323 - accuracy: 0.86 - ETA: 7s - loss: 0.3307 - accuracy: 0.87 - ETA: 7s - loss: 0.3302 - accuracy: 0.87 - ETA: 7s - loss: 0.3324 - accuracy: 0.86 - ETA: 6s - loss: 0.3320 - accuracy: 0.86 - ETA: 6s - loss: 0.3305 - accuracy: 0.87 - ETA: 6s - loss: 0.3312 - accuracy: 0.86 - ETA: 6s - loss: 0.3336 - accuracy: 0.86 - ETA: 6s - loss: 0.3327 - accuracy: 0.86 - ETA: 6s - loss: 0.3311 - accuracy: 0.87 - ETA: 5s - loss: 0.3305 - accuracy: 0.87 - ETA: 5s - loss: 0.3291 - accuracy: 0.87 - ETA: 5s - loss: 0.3281 - accuracy: 0.87 - ETA: 5s - loss: 0.3283 - accuracy: 0.87 - ETA: 5s - loss: 0.3265 - accuracy: 0.87 - ETA: 5s - loss: 0.3250 - accuracy: 0.87 - ETA: 5s - loss: 0.3262 - accuracy: 0.87 - ETA: 4s - loss: 0.3252 - accuracy: 0.87 - ETA: 4s - loss: 0.3253 - accuracy: 0.87 - ETA: 4s - loss: 0.3290 - accuracy: 0.87 - ETA: 4s - loss: 0.3348 - accuracy: 0.87 - ETA: 4s - loss: 0.3338 - accuracy: 0.87 - ETA: 4s - loss: 0.3324 - accuracy: 0.87 - ETA: 3s - loss: 0.3315 - accuracy: 0.87 - ETA: 3s - loss: 0.3311 - accuracy: 0.87 - ETA: 3s - loss: 0.3319 - accuracy: 0.87 - ETA: 3s - loss: 0.3313 - accuracy: 0.87 - ETA: 3s - loss: 0.3334 - accuracy: 0.87 - ETA: 3s - loss: 0.3336 - accuracy: 0.87 - ETA: 3s - loss: 0.3334 - accuracy: 0.87 - ETA: 2s - loss: 0.3329 - accuracy: 0.87 - ETA: 2s - loss: 0.3327 - accuracy: 0.87231646/1646 [==============================] - ETA: 2s - loss: 0.3333 - accuracy: 0.87 - ETA: 2s - loss: 0.3331 - accuracy: 0.87 - ETA: 2s - loss: 0.3338 - accuracy: 0.86 - ETA: 2s - loss: 0.3327 - accuracy: 0.87 - ETA: 1s - loss: 0.3315 - accuracy: 0.87 - ETA: 1s - loss: 0.3313 - accuracy: 0.87 - ETA: 1s - loss: 0.3314 - accuracy: 0.87 - ETA: 1s - loss: 0.3305 - accuracy: 0.87 - ETA: 1s - loss: 0.3302 - accuracy: 0.87 - ETA: 1s - loss: 0.3299 - accuracy: 0.87 - ETA: 1s - loss: 0.3291 - accuracy: 0.87 - ETA: 0s - loss: 0.3315 - accuracy: 0.87 - ETA: 0s - loss: 0.3318 - accuracy: 0.87 - ETA: 0s - loss: 0.3325 - accuracy: 0.87 - ETA: 0s - loss: 0.3327 - accuracy: 0.87 - ETA: 0s - loss: 0.3318 - accuracy: 0.87 - ETA: 0s - loss: 0.3311 - accuracy: 0.87 - 32s 20ms/sample - loss: 0.3316 - accuracy: 0.8706\n",
      "Epoch 7/10\n",
      "1504/1646 [==========================>...] - ETA: 30s - loss: 0.2787 - accuracy: 0.875 - ETA: 30s - loss: 0.2498 - accuracy: 0.875 - ETA: 30s - loss: 0.2080 - accuracy: 0.916 - ETA: 30s - loss: 0.2529 - accuracy: 0.875 - ETA: 30s - loss: 0.2630 - accuracy: 0.875 - ETA: 30s - loss: 0.2448 - accuracy: 0.875 - ETA: 30s - loss: 0.2964 - accuracy: 0.821 - ETA: 30s - loss: 0.3059 - accuracy: 0.812 - ETA: 30s - loss: 0.2780 - accuracy: 0.833 - ETA: 30s - loss: 0.2660 - accuracy: 0.850 - ETA: 29s - loss: 0.2790 - accuracy: 0.840 - ETA: 29s - loss: 0.2647 - accuracy: 0.854 - ETA: 29s - loss: 0.2677 - accuracy: 0.855 - ETA: 29s - loss: 0.2585 - accuracy: 0.866 - ETA: 29s - loss: 0.2510 - accuracy: 0.875 - ETA: 29s - loss: 0.2397 - accuracy: 0.882 - ETA: 28s - loss: 0.2320 - accuracy: 0.882 - ETA: 28s - loss: 0.2288 - accuracy: 0.881 - ETA: 28s - loss: 0.2536 - accuracy: 0.875 - ETA: 28s - loss: 0.2423 - accuracy: 0.881 - ETA: 28s - loss: 0.2354 - accuracy: 0.886 - ETA: 28s - loss: 0.2552 - accuracy: 0.886 - ETA: 28s - loss: 0.2486 - accuracy: 0.891 - ETA: 27s - loss: 0.2443 - accuracy: 0.895 - ETA: 27s - loss: 0.2437 - accuracy: 0.900 - ETA: 27s - loss: 0.2349 - accuracy: 0.903 - ETA: 27s - loss: 0.2369 - accuracy: 0.902 - ETA: 27s - loss: 0.2424 - accuracy: 0.901 - ETA: 27s - loss: 0.2359 - accuracy: 0.905 - ETA: 27s - loss: 0.2342 - accuracy: 0.904 - ETA: 26s - loss: 0.2431 - accuracy: 0.899 - ETA: 26s - loss: 0.2404 - accuracy: 0.898 - ETA: 26s - loss: 0.2361 - accuracy: 0.901 - ETA: 26s - loss: 0.2316 - accuracy: 0.904 - ETA: 26s - loss: 0.2271 - accuracy: 0.907 - ETA: 26s - loss: 0.2212 - accuracy: 0.909 - ETA: 26s - loss: 0.2242 - accuracy: 0.908 - ETA: 25s - loss: 0.2229 - accuracy: 0.907 - ETA: 25s - loss: 0.2188 - accuracy: 0.910 - ETA: 25s - loss: 0.2222 - accuracy: 0.909 - ETA: 25s - loss: 0.2179 - accuracy: 0.911 - ETA: 25s - loss: 0.2176 - accuracy: 0.910 - ETA: 25s - loss: 0.2217 - accuracy: 0.907 - ETA: 24s - loss: 0.2229 - accuracy: 0.903 - ETA: 24s - loss: 0.2294 - accuracy: 0.900 - ETA: 24s - loss: 0.2250 - accuracy: 0.902 - ETA: 24s - loss: 0.2250 - accuracy: 0.901 - ETA: 24s - loss: 0.2243 - accuracy: 0.901 - ETA: 24s - loss: 0.2308 - accuracy: 0.895 - ETA: 24s - loss: 0.2412 - accuracy: 0.890 - ETA: 23s - loss: 0.2444 - accuracy: 0.887 - ETA: 23s - loss: 0.2487 - accuracy: 0.884 - ETA: 23s - loss: 0.2452 - accuracy: 0.886 - ETA: 23s - loss: 0.2432 - accuracy: 0.888 - ETA: 23s - loss: 0.2455 - accuracy: 0.886 - ETA: 23s - loss: 0.2449 - accuracy: 0.886 - ETA: 22s - loss: 0.2456 - accuracy: 0.886 - ETA: 22s - loss: 0.2445 - accuracy: 0.885 - ETA: 22s - loss: 0.2443 - accuracy: 0.885 - ETA: 22s - loss: 0.2411 - accuracy: 0.887 - ETA: 22s - loss: 0.2397 - accuracy: 0.887 - ETA: 22s - loss: 0.2409 - accuracy: 0.887 - ETA: 22s - loss: 0.2379 - accuracy: 0.888 - ETA: 21s - loss: 0.2368 - accuracy: 0.890 - ETA: 21s - loss: 0.2397 - accuracy: 0.890 - ETA: 21s - loss: 0.2492 - accuracy: 0.886 - ETA: 21s - loss: 0.2579 - accuracy: 0.886 - ETA: 21s - loss: 0.2621 - accuracy: 0.882 - ETA: 21s - loss: 0.2612 - accuracy: 0.884 - ETA: 20s - loss: 0.2596 - accuracy: 0.885 - ETA: 20s - loss: 0.2615 - accuracy: 0.885 - ETA: 20s - loss: 0.2603 - accuracy: 0.887 - ETA: 20s - loss: 0.2606 - accuracy: 0.887 - ETA: 20s - loss: 0.2604 - accuracy: 0.886 - ETA: 20s - loss: 0.2610 - accuracy: 0.886 - ETA: 20s - loss: 0.2606 - accuracy: 0.886 - ETA: 19s - loss: 0.2607 - accuracy: 0.886 - ETA: 19s - loss: 0.2585 - accuracy: 0.887 - ETA: 19s - loss: 0.2556 - accuracy: 0.889 - ETA: 19s - loss: 0.2571 - accuracy: 0.887 - ETA: 19s - loss: 0.2577 - accuracy: 0.888 - ETA: 19s - loss: 0.2548 - accuracy: 0.890 - ETA: 18s - loss: 0.2544 - accuracy: 0.891 - ETA: 18s - loss: 0.2565 - accuracy: 0.891 - ETA: 18s - loss: 0.2591 - accuracy: 0.891 - ETA: 18s - loss: 0.2601 - accuracy: 0.889 - ETA: 18s - loss: 0.2671 - accuracy: 0.887 - ETA: 18s - loss: 0.2660 - accuracy: 0.889 - ETA: 18s - loss: 0.2651 - accuracy: 0.889 - ETA: 17s - loss: 0.2676 - accuracy: 0.887 - ETA: 17s - loss: 0.2669 - accuracy: 0.887 - ETA: 17s - loss: 0.2647 - accuracy: 0.888 - ETA: 17s - loss: 0.2647 - accuracy: 0.888 - ETA: 17s - loss: 0.2704 - accuracy: 0.887 - ETA: 17s - loss: 0.2877 - accuracy: 0.885 - ETA: 16s - loss: 0.2956 - accuracy: 0.882 - ETA: 16s - loss: 0.3012 - accuracy: 0.880 - ETA: 16s - loss: 0.3096 - accuracy: 0.875 - ETA: 16s - loss: 0.3126 - accuracy: 0.873 - ETA: 16s - loss: 0.3185 - accuracy: 0.873 - ETA: 16s - loss: 0.3196 - accuracy: 0.873 - ETA: 16s - loss: 0.3203 - accuracy: 0.872 - ETA: 15s - loss: 0.3228 - accuracy: 0.871 - ETA: 15s - loss: 0.3248 - accuracy: 0.870 - ETA: 15s - loss: 0.3242 - accuracy: 0.871 - ETA: 15s - loss: 0.3233 - accuracy: 0.871 - ETA: 15s - loss: 0.3252 - accuracy: 0.868 - ETA: 15s - loss: 0.3266 - accuracy: 0.866 - ETA: 14s - loss: 0.3305 - accuracy: 0.864 - ETA: 14s - loss: 0.3310 - accuracy: 0.864 - ETA: 14s - loss: 0.3318 - accuracy: 0.864 - ETA: 14s - loss: 0.3317 - accuracy: 0.865 - ETA: 14s - loss: 0.3438 - accuracy: 0.860 - ETA: 14s - loss: 0.3425 - accuracy: 0.861 - ETA: 14s - loss: 0.3442 - accuracy: 0.859 - ETA: 13s - loss: 0.3460 - accuracy: 0.859 - ETA: 13s - loss: 0.3518 - accuracy: 0.857 - ETA: 13s - loss: 0.3514 - accuracy: 0.859 - ETA: 13s - loss: 0.3535 - accuracy: 0.859 - ETA: 13s - loss: 0.3555 - accuracy: 0.857 - ETA: 13s - loss: 0.3545 - accuracy: 0.857 - ETA: 12s - loss: 0.3559 - accuracy: 0.856 - ETA: 12s - loss: 0.3567 - accuracy: 0.856 - ETA: 12s - loss: 0.3596 - accuracy: 0.854 - ETA: 12s - loss: 0.3586 - accuracy: 0.855 - ETA: 12s - loss: 0.3575 - accuracy: 0.856 - ETA: 12s - loss: 0.3600 - accuracy: 0.855 - ETA: 12s - loss: 0.3616 - accuracy: 0.854 - ETA: 11s - loss: 0.3617 - accuracy: 0.854 - ETA: 11s - loss: 0.3653 - accuracy: 0.854 - ETA: 11s - loss: 0.3673 - accuracy: 0.855 - ETA: 11s - loss: 0.3704 - accuracy: 0.853 - ETA: 11s - loss: 0.3710 - accuracy: 0.853 - ETA: 11s - loss: 0.3758 - accuracy: 0.848 - ETA: 10s - loss: 0.3773 - accuracy: 0.848 - ETA: 10s - loss: 0.3790 - accuracy: 0.846 - ETA: 10s - loss: 0.3805 - accuracy: 0.844 - ETA: 10s - loss: 0.3808 - accuracy: 0.845 - ETA: 10s - loss: 0.3837 - accuracy: 0.843 - ETA: 10s - loss: 0.3863 - accuracy: 0.841 - ETA: 9s - loss: 0.3894 - accuracy: 0.837 - ETA: 9s - loss: 0.3914 - accuracy: 0.83 - ETA: 9s - loss: 0.3937 - accuracy: 0.83 - ETA: 9s - loss: 0.3954 - accuracy: 0.83 - ETA: 9s - loss: 0.3970 - accuracy: 0.83 - ETA: 9s - loss: 0.3985 - accuracy: 0.83 - ETA: 9s - loss: 0.3993 - accuracy: 0.83 - ETA: 8s - loss: 0.4013 - accuracy: 0.83 - ETA: 8s - loss: 0.4034 - accuracy: 0.82 - ETA: 8s - loss: 0.4055 - accuracy: 0.82 - ETA: 8s - loss: 0.4070 - accuracy: 0.82 - ETA: 8s - loss: 0.4089 - accuracy: 0.81 - ETA: 8s - loss: 0.4107 - accuracy: 0.81 - ETA: 7s - loss: 0.4125 - accuracy: 0.81 - ETA: 7s - loss: 0.4138 - accuracy: 0.81 - ETA: 7s - loss: 0.4164 - accuracy: 0.81 - ETA: 7s - loss: 0.4177 - accuracy: 0.81 - ETA: 7s - loss: 0.4193 - accuracy: 0.81 - ETA: 7s - loss: 0.4211 - accuracy: 0.80 - ETA: 7s - loss: 0.4238 - accuracy: 0.80 - ETA: 6s - loss: 0.4252 - accuracy: 0.80 - ETA: 6s - loss: 0.4267 - accuracy: 0.80 - ETA: 6s - loss: 0.4282 - accuracy: 0.80 - ETA: 6s - loss: 0.4290 - accuracy: 0.80 - ETA: 6s - loss: 0.4300 - accuracy: 0.80 - ETA: 6s - loss: 0.4312 - accuracy: 0.80 - ETA: 5s - loss: 0.4322 - accuracy: 0.80 - ETA: 5s - loss: 0.4327 - accuracy: 0.80 - ETA: 5s - loss: 0.4330 - accuracy: 0.80 - ETA: 5s - loss: 0.4348 - accuracy: 0.80 - ETA: 5s - loss: 0.4361 - accuracy: 0.80 - ETA: 5s - loss: 0.4384 - accuracy: 0.79 - ETA: 5s - loss: 0.4396 - accuracy: 0.79 - ETA: 4s - loss: 0.4385 - accuracy: 0.79 - ETA: 4s - loss: 0.4392 - accuracy: 0.79 - ETA: 4s - loss: 0.4401 - accuracy: 0.79 - ETA: 4s - loss: 0.4469 - accuracy: 0.79 - ETA: 4s - loss: 0.4475 - accuracy: 0.79 - ETA: 4s - loss: 0.4478 - accuracy: 0.79 - ETA: 3s - loss: 0.4488 - accuracy: 0.79 - ETA: 3s - loss: 0.4499 - accuracy: 0.79 - ETA: 3s - loss: 0.4524 - accuracy: 0.78 - ETA: 3s - loss: 0.4532 - accuracy: 0.78 - ETA: 3s - loss: 0.4539 - accuracy: 0.78 - ETA: 3s - loss: 0.4538 - accuracy: 0.78 - ETA: 3s - loss: 0.4549 - accuracy: 0.78 - ETA: 2s - loss: 0.4563 - accuracy: 0.78 - ETA: 2s - loss: 0.4560 - accuracy: 0.78591646/1646 [==============================] - ETA: 2s - loss: 0.4675 - accuracy: 0.78 - ETA: 2s - loss: 0.4685 - accuracy: 0.78 - ETA: 2s - loss: 0.4702 - accuracy: 0.78 - ETA: 2s - loss: 0.4712 - accuracy: 0.78 - ETA: 1s - loss: 0.4712 - accuracy: 0.78 - ETA: 1s - loss: 0.4721 - accuracy: 0.78 - ETA: 1s - loss: 0.4715 - accuracy: 0.78 - ETA: 1s - loss: 0.4729 - accuracy: 0.78 - ETA: 1s - loss: 0.4740 - accuracy: 0.78 - ETA: 1s - loss: 0.4741 - accuracy: 0.78 - ETA: 1s - loss: 0.4740 - accuracy: 0.77 - ETA: 0s - loss: 0.4736 - accuracy: 0.78 - ETA: 0s - loss: 0.4732 - accuracy: 0.77 - ETA: 0s - loss: 0.4727 - accuracy: 0.77 - ETA: 0s - loss: 0.4729 - accuracy: 0.77 - ETA: 0s - loss: 0.4731 - accuracy: 0.77 - ETA: 0s - loss: 0.4750 - accuracy: 0.77 - 32s 19ms/sample - loss: 0.4748 - accuracy: 0.7770\n",
      "Epoch 8/10\n",
      "1504/1646 [==========================>...] - ETA: 31s - loss: 0.3627 - accuracy: 1.000 - ETA: 32s - loss: 0.6886 - accuracy: 0.812 - ETA: 31s - loss: 1.8979 - accuracy: 0.666 - ETA: 31s - loss: 1.9905 - accuracy: 0.656 - ETA: 31s - loss: 2.0253 - accuracy: 0.600 - ETA: 31s - loss: 1.9741 - accuracy: 0.562 - ETA: 30s - loss: 1.8014 - accuracy: 0.589 - ETA: 30s - loss: 1.6339 - accuracy: 0.593 - ETA: 30s - loss: 1.5174 - accuracy: 0.597 - ETA: 30s - loss: 1.4362 - accuracy: 0.600 - ETA: 30s - loss: 1.3592 - accuracy: 0.602 - ETA: 29s - loss: 1.3034 - accuracy: 0.593 - ETA: 29s - loss: 1.2365 - accuracy: 0.605 - ETA: 29s - loss: 1.1848 - accuracy: 0.616 - ETA: 29s - loss: 1.1518 - accuracy: 0.608 - ETA: 29s - loss: 1.1203 - accuracy: 0.609 - ETA: 29s - loss: 1.0911 - accuracy: 0.610 - ETA: 29s - loss: 1.0664 - accuracy: 0.604 - ETA: 28s - loss: 1.0415 - accuracy: 0.598 - ETA: 28s - loss: 1.0202 - accuracy: 0.600 - ETA: 28s - loss: 0.9971 - accuracy: 0.607 - ETA: 28s - loss: 0.9688 - accuracy: 0.619 - ETA: 28s - loss: 0.9373 - accuracy: 0.630 - ETA: 28s - loss: 0.9221 - accuracy: 0.625 - ETA: 27s - loss: 0.8854 - accuracy: 0.640 - ETA: 27s - loss: 1.0524 - accuracy: 0.634 - ETA: 27s - loss: 1.0211 - accuracy: 0.643 - ETA: 27s - loss: 0.9974 - accuracy: 0.651 - ETA: 27s - loss: 0.9787 - accuracy: 0.655 - ETA: 27s - loss: 0.9620 - accuracy: 0.658 - ETA: 27s - loss: 1.0374 - accuracy: 0.649 - ETA: 26s - loss: 1.0242 - accuracy: 0.648 - ETA: 26s - loss: 1.0178 - accuracy: 0.643 - ETA: 26s - loss: 1.0070 - accuracy: 0.647 - ETA: 26s - loss: 0.9969 - accuracy: 0.650 - ETA: 26s - loss: 0.9863 - accuracy: 0.649 - ETA: 26s - loss: 0.9755 - accuracy: 0.641 - ETA: 25s - loss: 0.9646 - accuracy: 0.641 - ETA: 25s - loss: 0.9561 - accuracy: 0.644 - ETA: 25s - loss: 0.9477 - accuracy: 0.643 - ETA: 25s - loss: 0.9373 - accuracy: 0.643 - ETA: 25s - loss: 0.9379 - accuracy: 0.639 - ETA: 25s - loss: 0.9366 - accuracy: 0.636 - ETA: 25s - loss: 0.9263 - accuracy: 0.636 - ETA: 24s - loss: 0.9166 - accuracy: 0.641 - ETA: 24s - loss: 0.9097 - accuracy: 0.638 - ETA: 24s - loss: 0.9043 - accuracy: 0.641 - ETA: 24s - loss: 0.9004 - accuracy: 0.632 - ETA: 24s - loss: 0.8954 - accuracy: 0.627 - ETA: 24s - loss: 0.8878 - accuracy: 0.635 - ETA: 23s - loss: 0.8833 - accuracy: 0.632 - ETA: 23s - loss: 0.8782 - accuracy: 0.629 - ETA: 23s - loss: 0.8728 - accuracy: 0.627 - ETA: 23s - loss: 0.8666 - accuracy: 0.629 - ETA: 23s - loss: 0.8608 - accuracy: 0.629 - ETA: 23s - loss: 0.8557 - accuracy: 0.629 - ETA: 22s - loss: 0.8505 - accuracy: 0.631 - ETA: 22s - loss: 0.8429 - accuracy: 0.635 - ETA: 22s - loss: 0.8380 - accuracy: 0.635 - ETA: 22s - loss: 0.8282 - accuracy: 0.639 - ETA: 22s - loss: 0.8515 - accuracy: 0.643 - ETA: 22s - loss: 0.8514 - accuracy: 0.647 - ETA: 22s - loss: 0.8454 - accuracy: 0.648 - ETA: 21s - loss: 0.8466 - accuracy: 0.648 - ETA: 21s - loss: 0.8423 - accuracy: 0.648 - ETA: 21s - loss: 0.8386 - accuracy: 0.643 - ETA: 21s - loss: 0.8357 - accuracy: 0.643 - ETA: 21s - loss: 0.8320 - accuracy: 0.645 - ETA: 21s - loss: 0.8292 - accuracy: 0.644 - ETA: 20s - loss: 0.8255 - accuracy: 0.644 - ETA: 20s - loss: 0.8206 - accuracy: 0.647 - ETA: 20s - loss: 0.8165 - accuracy: 0.649 - ETA: 20s - loss: 0.8080 - accuracy: 0.654 - ETA: 20s - loss: 0.8021 - accuracy: 0.655 - ETA: 20s - loss: 0.8200 - accuracy: 0.653 - ETA: 20s - loss: 0.8190 - accuracy: 0.653 - ETA: 19s - loss: 0.8151 - accuracy: 0.654 - ETA: 19s - loss: 0.8130 - accuracy: 0.652 - ETA: 19s - loss: 0.8125 - accuracy: 0.651 - ETA: 19s - loss: 0.8090 - accuracy: 0.651 - ETA: 19s - loss: 0.8074 - accuracy: 0.649 - ETA: 19s - loss: 0.8150 - accuracy: 0.644 - ETA: 18s - loss: 0.8130 - accuracy: 0.641 - ETA: 18s - loss: 0.8090 - accuracy: 0.644 - ETA: 18s - loss: 0.8066 - accuracy: 0.644 - ETA: 18s - loss: 0.8044 - accuracy: 0.642 - ETA: 18s - loss: 0.8015 - accuracy: 0.645 - ETA: 18s - loss: 0.8033 - accuracy: 0.642 - ETA: 18s - loss: 0.8014 - accuracy: 0.641 - ETA: 17s - loss: 0.7995 - accuracy: 0.643 - ETA: 17s - loss: 0.7974 - accuracy: 0.644 - ETA: 17s - loss: 0.7957 - accuracy: 0.645 - ETA: 17s - loss: 0.7939 - accuracy: 0.645 - ETA: 17s - loss: 0.7918 - accuracy: 0.644 - ETA: 17s - loss: 0.8016 - accuracy: 0.643 - ETA: 16s - loss: 0.7998 - accuracy: 0.644 - ETA: 16s - loss: 0.7980 - accuracy: 0.643 - ETA: 16s - loss: 0.7972 - accuracy: 0.640 - ETA: 16s - loss: 0.7949 - accuracy: 0.642 - ETA: 16s - loss: 0.7939 - accuracy: 0.642 - ETA: 16s - loss: 0.7926 - accuracy: 0.641 - ETA: 16s - loss: 0.7911 - accuracy: 0.640 - ETA: 15s - loss: 0.7891 - accuracy: 0.642 - ETA: 15s - loss: 0.7886 - accuracy: 0.639 - ETA: 15s - loss: 0.7876 - accuracy: 0.636 - ETA: 15s - loss: 0.7870 - accuracy: 0.633 - ETA: 15s - loss: 0.7857 - accuracy: 0.633 - ETA: 15s - loss: 0.7848 - accuracy: 0.631 - ETA: 14s - loss: 0.7829 - accuracy: 0.631 - ETA: 14s - loss: 0.7811 - accuracy: 0.634 - ETA: 14s - loss: 0.7804 - accuracy: 0.632 - ETA: 14s - loss: 0.7795 - accuracy: 0.632 - ETA: 14s - loss: 0.7778 - accuracy: 0.635 - ETA: 14s - loss: 0.7772 - accuracy: 0.636 - ETA: 14s - loss: 0.7764 - accuracy: 0.634 - ETA: 13s - loss: 0.7756 - accuracy: 0.633 - ETA: 13s - loss: 0.7748 - accuracy: 0.632 - ETA: 13s - loss: 0.7738 - accuracy: 0.632 - ETA: 13s - loss: 0.7730 - accuracy: 0.632 - ETA: 13s - loss: 0.7724 - accuracy: 0.631 - ETA: 13s - loss: 0.7714 - accuracy: 0.632 - ETA: 12s - loss: 0.7707 - accuracy: 0.632 - ETA: 12s - loss: 0.7694 - accuracy: 0.633 - ETA: 12s - loss: 0.7685 - accuracy: 0.633 - ETA: 12s - loss: 0.7672 - accuracy: 0.634 - ETA: 12s - loss: 0.7663 - accuracy: 0.635 - ETA: 12s - loss: 0.7654 - accuracy: 0.637 - ETA: 12s - loss: 0.7651 - accuracy: 0.635 - ETA: 11s - loss: 0.7638 - accuracy: 0.636 - ETA: 11s - loss: 0.7626 - accuracy: 0.637 - ETA: 11s - loss: 0.7609 - accuracy: 0.638 - ETA: 11s - loss: 0.7601 - accuracy: 0.639 - ETA: 11s - loss: 0.7591 - accuracy: 0.640 - ETA: 11s - loss: 0.7587 - accuracy: 0.638 - ETA: 10s - loss: 0.7579 - accuracy: 0.638 - ETA: 10s - loss: 0.7574 - accuracy: 0.636 - ETA: 10s - loss: 0.7554 - accuracy: 0.638 - ETA: 10s - loss: 0.7544 - accuracy: 0.639 - ETA: 10s - loss: 0.7537 - accuracy: 0.637 - ETA: 10s - loss: 0.7524 - accuracy: 0.638 - ETA: 10s - loss: 0.7515 - accuracy: 0.639 - ETA: 9s - loss: 0.7509 - accuracy: 0.637 - ETA: 9s - loss: 0.7498 - accuracy: 0.63 - ETA: 9s - loss: 0.7488 - accuracy: 0.63 - ETA: 9s - loss: 0.7477 - accuracy: 0.63 - ETA: 9s - loss: 0.7465 - accuracy: 0.63 - ETA: 9s - loss: 0.7456 - accuracy: 0.63 - ETA: 8s - loss: 0.7446 - accuracy: 0.63 - ETA: 8s - loss: 0.7434 - accuracy: 0.64 - ETA: 8s - loss: 0.7428 - accuracy: 0.64 - ETA: 8s - loss: 0.7441 - accuracy: 0.63 - ETA: 8s - loss: 0.7449 - accuracy: 0.63 - ETA: 8s - loss: 0.7450 - accuracy: 0.63 - ETA: 7s - loss: 0.7440 - accuracy: 0.63 - ETA: 7s - loss: 0.7439 - accuracy: 0.63 - ETA: 7s - loss: 0.7427 - accuracy: 0.63 - ETA: 7s - loss: 0.7425 - accuracy: 0.63 - ETA: 7s - loss: 0.7414 - accuracy: 0.63 - ETA: 7s - loss: 0.7400 - accuracy: 0.63 - ETA: 7s - loss: 0.7395 - accuracy: 0.63 - ETA: 6s - loss: 0.7395 - accuracy: 0.63 - ETA: 6s - loss: 0.7391 - accuracy: 0.63 - ETA: 6s - loss: 0.7368 - accuracy: 0.63 - ETA: 6s - loss: 0.7369 - accuracy: 0.63 - ETA: 6s - loss: 0.7361 - accuracy: 0.63 - ETA: 6s - loss: 0.7350 - accuracy: 0.63 - ETA: 5s - loss: 0.7360 - accuracy: 0.63 - ETA: 5s - loss: 0.7347 - accuracy: 0.63 - ETA: 5s - loss: 0.7338 - accuracy: 0.63 - ETA: 5s - loss: 0.7329 - accuracy: 0.63 - ETA: 5s - loss: 0.7307 - accuracy: 0.63 - ETA: 5s - loss: 0.7311 - accuracy: 0.63 - ETA: 5s - loss: 0.7341 - accuracy: 0.63 - ETA: 4s - loss: 0.7336 - accuracy: 0.63 - ETA: 4s - loss: 0.7333 - accuracy: 0.63 - ETA: 4s - loss: 0.7326 - accuracy: 0.63 - ETA: 4s - loss: 0.7319 - accuracy: 0.63 - ETA: 4s - loss: 0.7311 - accuracy: 0.63 - ETA: 4s - loss: 0.7302 - accuracy: 0.63 - ETA: 3s - loss: 0.7283 - accuracy: 0.63 - ETA: 3s - loss: 0.7288 - accuracy: 0.63 - ETA: 3s - loss: 0.7279 - accuracy: 0.63 - ETA: 3s - loss: 0.7286 - accuracy: 0.63 - ETA: 3s - loss: 0.7278 - accuracy: 0.63 - ETA: 3s - loss: 0.7274 - accuracy: 0.63 - ETA: 3s - loss: 0.7269 - accuracy: 0.63 - ETA: 2s - loss: 0.7264 - accuracy: 0.63 - ETA: 2s - loss: 0.7247 - accuracy: 0.63301646/1646 [==============================] - ETA: 2s - loss: 0.7256 - accuracy: 0.63 - ETA: 2s - loss: 0.7254 - accuracy: 0.63 - ETA: 2s - loss: 0.7265 - accuracy: 0.62 - ETA: 2s - loss: 0.7260 - accuracy: 0.62 - ETA: 1s - loss: 0.7248 - accuracy: 0.62 - ETA: 1s - loss: 0.7236 - accuracy: 0.63 - ETA: 1s - loss: 0.7237 - accuracy: 0.62 - ETA: 1s - loss: 0.7232 - accuracy: 0.62 - ETA: 1s - loss: 0.7230 - accuracy: 0.62 - ETA: 1s - loss: 0.7229 - accuracy: 0.63 - ETA: 1s - loss: 0.7232 - accuracy: 0.63 - ETA: 0s - loss: 0.7220 - accuracy: 0.63 - ETA: 0s - loss: 0.7210 - accuracy: 0.63 - ETA: 0s - loss: 0.7220 - accuracy: 0.63 - ETA: 0s - loss: 0.7233 - accuracy: 0.63 - ETA: 0s - loss: 0.7219 - accuracy: 0.63 - ETA: 0s - loss: 0.7204 - accuracy: 0.63 - 32s 19ms/sample - loss: 0.7209 - accuracy: 0.6330\n",
      "Epoch 9/10\n",
      "1504/1646 [==========================>...] - ETA: 29s - loss: 0.6245 - accuracy: 0.875 - ETA: 29s - loss: 0.5640 - accuracy: 0.750 - ETA: 31s - loss: 0.5777 - accuracy: 0.708 - ETA: 30s - loss: 0.5524 - accuracy: 0.750 - ETA: 30s - loss: 0.5879 - accuracy: 0.700 - ETA: 30s - loss: 0.5639 - accuracy: 0.708 - ETA: 30s - loss: 0.5666 - accuracy: 0.732 - ETA: 30s - loss: 0.5503 - accuracy: 0.765 - ETA: 30s - loss: 0.5486 - accuracy: 0.763 - ETA: 30s - loss: 0.5552 - accuracy: 0.750 - ETA: 30s - loss: 0.5740 - accuracy: 0.738 - ETA: 29s - loss: 0.5767 - accuracy: 0.718 - ETA: 29s - loss: 0.5933 - accuracy: 0.692 - ETA: 29s - loss: 0.6133 - accuracy: 0.669 - ETA: 29s - loss: 0.6284 - accuracy: 0.641 - ETA: 29s - loss: 0.6341 - accuracy: 0.625 - ETA: 29s - loss: 0.6367 - accuracy: 0.625 - ETA: 29s - loss: 0.6369 - accuracy: 0.611 - ETA: 28s - loss: 0.6331 - accuracy: 0.605 - ETA: 28s - loss: 0.6339 - accuracy: 0.600 - ETA: 28s - loss: 0.6249 - accuracy: 0.607 - ETA: 28s - loss: 0.6234 - accuracy: 0.608 - ETA: 28s - loss: 0.6250 - accuracy: 0.597 - ETA: 28s - loss: 0.6221 - accuracy: 0.609 - ETA: 28s - loss: 0.6236 - accuracy: 0.605 - ETA: 27s - loss: 0.6298 - accuracy: 0.591 - ETA: 27s - loss: 0.6241 - accuracy: 0.597 - ETA: 27s - loss: 0.6255 - accuracy: 0.593 - ETA: 27s - loss: 0.6255 - accuracy: 0.599 - ETA: 27s - loss: 0.6233 - accuracy: 0.600 - ETA: 27s - loss: 0.6219 - accuracy: 0.600 - ETA: 26s - loss: 0.6208 - accuracy: 0.601 - ETA: 26s - loss: 0.6180 - accuracy: 0.598 - ETA: 26s - loss: 0.6162 - accuracy: 0.602 - ETA: 26s - loss: 0.6146 - accuracy: 0.607 - ETA: 26s - loss: 0.6126 - accuracy: 0.604 - ETA: 26s - loss: 0.6096 - accuracy: 0.608 - ETA: 26s - loss: 0.6066 - accuracy: 0.611 - ETA: 25s - loss: 0.6104 - accuracy: 0.609 - ETA: 25s - loss: 0.6345 - accuracy: 0.603 - ETA: 25s - loss: 0.6297 - accuracy: 0.609 - ETA: 25s - loss: 0.6276 - accuracy: 0.613 - ETA: 25s - loss: 0.6315 - accuracy: 0.613 - ETA: 25s - loss: 0.6323 - accuracy: 0.613 - ETA: 24s - loss: 0.6303 - accuracy: 0.613 - ETA: 24s - loss: 0.6264 - accuracy: 0.619 - ETA: 24s - loss: 0.6261 - accuracy: 0.619 - ETA: 24s - loss: 0.6335 - accuracy: 0.622 - ETA: 24s - loss: 0.6315 - accuracy: 0.622 - ETA: 24s - loss: 0.6254 - accuracy: 0.625 - ETA: 24s - loss: 0.6219 - accuracy: 0.629 - ETA: 23s - loss: 0.6205 - accuracy: 0.629 - ETA: 23s - loss: 0.6226 - accuracy: 0.627 - ETA: 23s - loss: 0.6199 - accuracy: 0.629 - ETA: 23s - loss: 0.6153 - accuracy: 0.631 - ETA: 23s - loss: 0.6121 - accuracy: 0.636 - ETA: 23s - loss: 0.6111 - accuracy: 0.638 - ETA: 22s - loss: 0.6067 - accuracy: 0.640 - ETA: 22s - loss: 0.6060 - accuracy: 0.644 - ETA: 22s - loss: 0.6040 - accuracy: 0.647 - ETA: 22s - loss: 0.6027 - accuracy: 0.649 - ETA: 22s - loss: 0.5968 - accuracy: 0.653 - ETA: 22s - loss: 0.5929 - accuracy: 0.656 - ETA: 22s - loss: 0.6218 - accuracy: 0.654 - ETA: 21s - loss: 0.6179 - accuracy: 0.657 - ETA: 21s - loss: 0.6176 - accuracy: 0.657 - ETA: 21s - loss: 0.6141 - accuracy: 0.662 - ETA: 21s - loss: 0.6205 - accuracy: 0.658 - ETA: 21s - loss: 0.6203 - accuracy: 0.659 - ETA: 21s - loss: 0.6199 - accuracy: 0.657 - ETA: 20s - loss: 0.6222 - accuracy: 0.654 - ETA: 20s - loss: 0.6211 - accuracy: 0.654 - ETA: 20s - loss: 0.6207 - accuracy: 0.654 - ETA: 20s - loss: 0.6188 - accuracy: 0.657 - ETA: 20s - loss: 0.6193 - accuracy: 0.656 - ETA: 20s - loss: 0.6172 - accuracy: 0.657 - ETA: 19s - loss: 0.6173 - accuracy: 0.654 - ETA: 19s - loss: 0.6188 - accuracy: 0.653 - ETA: 19s - loss: 0.6179 - accuracy: 0.651 - ETA: 19s - loss: 0.6162 - accuracy: 0.653 - ETA: 19s - loss: 0.6160 - accuracy: 0.652 - ETA: 19s - loss: 0.6156 - accuracy: 0.650 - ETA: 19s - loss: 0.6151 - accuracy: 0.650 - ETA: 18s - loss: 0.6152 - accuracy: 0.647 - ETA: 18s - loss: 0.6139 - accuracy: 0.648 - ETA: 18s - loss: 0.6132 - accuracy: 0.649 - ETA: 18s - loss: 0.6195 - accuracy: 0.643 - ETA: 18s - loss: 0.6238 - accuracy: 0.643 - ETA: 18s - loss: 0.6232 - accuracy: 0.641 - ETA: 17s - loss: 0.6222 - accuracy: 0.643 - ETA: 17s - loss: 0.6210 - accuracy: 0.644 - ETA: 17s - loss: 0.6192 - accuracy: 0.648 - ETA: 17s - loss: 0.6191 - accuracy: 0.649 - ETA: 17s - loss: 0.6199 - accuracy: 0.647 - ETA: 17s - loss: 0.6201 - accuracy: 0.648 - ETA: 17s - loss: 0.6202 - accuracy: 0.648 - ETA: 16s - loss: 0.6196 - accuracy: 0.649 - ETA: 16s - loss: 0.6200 - accuracy: 0.649 - ETA: 16s - loss: 0.6182 - accuracy: 0.650 - ETA: 16s - loss: 0.6172 - accuracy: 0.651 - ETA: 16s - loss: 0.6159 - accuracy: 0.652 - ETA: 16s - loss: 0.6174 - accuracy: 0.649 - ETA: 15s - loss: 0.6185 - accuracy: 0.648 - ETA: 15s - loss: 0.6178 - accuracy: 0.649 - ETA: 15s - loss: 0.6180 - accuracy: 0.650 - ETA: 15s - loss: 0.6174 - accuracy: 0.652 - ETA: 15s - loss: 0.6162 - accuracy: 0.655 - ETA: 15s - loss: 0.6161 - accuracy: 0.655 - ETA: 14s - loss: 0.6152 - accuracy: 0.657 - ETA: 14s - loss: 0.6125 - accuracy: 0.660 - ETA: 14s - loss: 0.6104 - accuracy: 0.661 - ETA: 14s - loss: 0.6104 - accuracy: 0.660 - ETA: 14s - loss: 0.6084 - accuracy: 0.662 - ETA: 14s - loss: 0.6079 - accuracy: 0.663 - ETA: 14s - loss: 0.6051 - accuracy: 0.665 - ETA: 13s - loss: 0.6025 - accuracy: 0.665 - ETA: 13s - loss: 0.6037 - accuracy: 0.665 - ETA: 13s - loss: 0.6013 - accuracy: 0.667 - ETA: 13s - loss: 0.6002 - accuracy: 0.668 - ETA: 13s - loss: 0.5987 - accuracy: 0.669 - ETA: 13s - loss: 0.5962 - accuracy: 0.672 - ETA: 12s - loss: 0.5957 - accuracy: 0.673 - ETA: 12s - loss: 0.5963 - accuracy: 0.673 - ETA: 12s - loss: 0.5937 - accuracy: 0.675 - ETA: 12s - loss: 0.5902 - accuracy: 0.678 - ETA: 12s - loss: 0.5945 - accuracy: 0.677 - ETA: 12s - loss: 0.5923 - accuracy: 0.679 - ETA: 12s - loss: 0.5917 - accuracy: 0.678 - ETA: 11s - loss: 0.5896 - accuracy: 0.681 - ETA: 11s - loss: 0.5914 - accuracy: 0.678 - ETA: 11s - loss: 0.5879 - accuracy: 0.681 - ETA: 11s - loss: 0.5862 - accuracy: 0.682 - ETA: 11s - loss: 0.5934 - accuracy: 0.681 - ETA: 11s - loss: 0.5977 - accuracy: 0.679 - ETA: 10s - loss: 0.5970 - accuracy: 0.680 - ETA: 10s - loss: 0.5958 - accuracy: 0.679 - ETA: 10s - loss: 0.5956 - accuracy: 0.680 - ETA: 10s - loss: 0.5949 - accuracy: 0.681 - ETA: 10s - loss: 0.5942 - accuracy: 0.681 - ETA: 10s - loss: 0.5948 - accuracy: 0.679 - ETA: 10s - loss: 0.5964 - accuracy: 0.676 - ETA: 9s - loss: 0.5961 - accuracy: 0.676 - ETA: 9s - loss: 0.5969 - accuracy: 0.67 - ETA: 9s - loss: 0.5962 - accuracy: 0.67 - ETA: 9s - loss: 0.5964 - accuracy: 0.67 - ETA: 9s - loss: 0.5959 - accuracy: 0.67 - ETA: 9s - loss: 0.5963 - accuracy: 0.67 - ETA: 8s - loss: 0.5958 - accuracy: 0.67 - ETA: 8s - loss: 0.5958 - accuracy: 0.67 - ETA: 8s - loss: 0.5951 - accuracy: 0.67 - ETA: 8s - loss: 0.5940 - accuracy: 0.67 - ETA: 8s - loss: 0.5942 - accuracy: 0.67 - ETA: 8s - loss: 0.5946 - accuracy: 0.67 - ETA: 8s - loss: 0.5951 - accuracy: 0.67 - ETA: 7s - loss: 0.5955 - accuracy: 0.67 - ETA: 7s - loss: 0.5958 - accuracy: 0.67 - ETA: 7s - loss: 0.5952 - accuracy: 0.67 - ETA: 7s - loss: 0.5959 - accuracy: 0.67 - ETA: 7s - loss: 0.5956 - accuracy: 0.67 - ETA: 7s - loss: 0.5954 - accuracy: 0.67 - ETA: 6s - loss: 0.5943 - accuracy: 0.67 - ETA: 6s - loss: 0.5929 - accuracy: 0.67 - ETA: 6s - loss: 0.5916 - accuracy: 0.67 - ETA: 6s - loss: 0.5912 - accuracy: 0.67 - ETA: 6s - loss: 0.5911 - accuracy: 0.67 - ETA: 6s - loss: 0.5929 - accuracy: 0.67 - ETA: 6s - loss: 0.5930 - accuracy: 0.67 - ETA: 5s - loss: 0.5934 - accuracy: 0.67 - ETA: 5s - loss: 0.5955 - accuracy: 0.67 - ETA: 5s - loss: 0.5951 - accuracy: 0.67 - ETA: 5s - loss: 0.5943 - accuracy: 0.67 - ETA: 5s - loss: 0.5942 - accuracy: 0.67 - ETA: 5s - loss: 0.5959 - accuracy: 0.67 - ETA: 4s - loss: 0.5948 - accuracy: 0.67 - ETA: 4s - loss: 0.5951 - accuracy: 0.67 - ETA: 4s - loss: 0.5953 - accuracy: 0.67 - ETA: 4s - loss: 0.5953 - accuracy: 0.67 - ETA: 4s - loss: 0.5946 - accuracy: 0.67 - ETA: 4s - loss: 0.5938 - accuracy: 0.67 - ETA: 3s - loss: 0.5926 - accuracy: 0.67 - ETA: 3s - loss: 0.5947 - accuracy: 0.67 - ETA: 3s - loss: 0.5943 - accuracy: 0.67 - ETA: 3s - loss: 0.5941 - accuracy: 0.67 - ETA: 3s - loss: 0.5963 - accuracy: 0.67 - ETA: 3s - loss: 0.5954 - accuracy: 0.67 - ETA: 3s - loss: 0.5954 - accuracy: 0.67 - ETA: 2s - loss: 0.5945 - accuracy: 0.67 - ETA: 2s - loss: 0.5946 - accuracy: 0.67421646/1646 [==============================] - ETA: 2s - loss: 0.5945 - accuracy: 0.67 - ETA: 2s - loss: 0.5934 - accuracy: 0.67 - ETA: 2s - loss: 0.5940 - accuracy: 0.67 - ETA: 2s - loss: 0.5943 - accuracy: 0.67 - ETA: 1s - loss: 0.5957 - accuracy: 0.67 - ETA: 1s - loss: 0.5955 - accuracy: 0.67 - ETA: 1s - loss: 0.5958 - accuracy: 0.67 - ETA: 1s - loss: 0.5961 - accuracy: 0.67 - ETA: 1s - loss: 0.5969 - accuracy: 0.67 - ETA: 1s - loss: 0.5972 - accuracy: 0.67 - ETA: 1s - loss: 0.5962 - accuracy: 0.67 - ETA: 0s - loss: 0.5957 - accuracy: 0.67 - ETA: 0s - loss: 0.5955 - accuracy: 0.67 - ETA: 0s - loss: 0.5968 - accuracy: 0.67 - ETA: 0s - loss: 0.5970 - accuracy: 0.67 - ETA: 0s - loss: 0.5965 - accuracy: 0.67 - ETA: 0s - loss: 0.5953 - accuracy: 0.67 - 32s 19ms/sample - loss: 0.5952 - accuracy: 0.6719\n",
      "Epoch 10/10\n",
      "1504/1646 [==========================>...] - ETA: 29s - loss: 0.4632 - accuracy: 0.750 - ETA: 31s - loss: 0.2957 - accuracy: 0.875 - ETA: 31s - loss: 0.3533 - accuracy: 0.833 - ETA: 30s - loss: 0.3588 - accuracy: 0.843 - ETA: 30s - loss: 0.4112 - accuracy: 0.825 - ETA: 30s - loss: 0.4321 - accuracy: 0.812 - ETA: 30s - loss: 0.4135 - accuracy: 0.821 - ETA: 30s - loss: 0.4035 - accuracy: 0.828 - ETA: 30s - loss: 0.4079 - accuracy: 0.819 - ETA: 29s - loss: 0.3990 - accuracy: 0.837 - ETA: 29s - loss: 0.3833 - accuracy: 0.840 - ETA: 29s - loss: 0.3954 - accuracy: 0.822 - ETA: 29s - loss: 0.3772 - accuracy: 0.836 - ETA: 29s - loss: 0.3780 - accuracy: 0.839 - ETA: 29s - loss: 0.3940 - accuracy: 0.833 - ETA: 29s - loss: 0.4014 - accuracy: 0.835 - ETA: 29s - loss: 0.3907 - accuracy: 0.838 - ETA: 28s - loss: 0.3859 - accuracy: 0.833 - ETA: 28s - loss: 0.3955 - accuracy: 0.828 - ETA: 28s - loss: 0.4716 - accuracy: 0.812 - ETA: 28s - loss: 0.5021 - accuracy: 0.791 - ETA: 28s - loss: 0.5392 - accuracy: 0.778 - ETA: 28s - loss: 0.5374 - accuracy: 0.777 - ETA: 28s - loss: 0.5334 - accuracy: 0.776 - ETA: 27s - loss: 0.5378 - accuracy: 0.765 - ETA: 27s - loss: 0.5379 - accuracy: 0.759 - ETA: 27s - loss: 0.5337 - accuracy: 0.763 - ETA: 27s - loss: 0.5324 - accuracy: 0.767 - ETA: 27s - loss: 0.5300 - accuracy: 0.775 - ETA: 27s - loss: 0.5367 - accuracy: 0.766 - ETA: 27s - loss: 0.5360 - accuracy: 0.758 - ETA: 26s - loss: 0.5385 - accuracy: 0.750 - ETA: 26s - loss: 0.5387 - accuracy: 0.750 - ETA: 26s - loss: 0.5385 - accuracy: 0.750 - ETA: 26s - loss: 0.5382 - accuracy: 0.750 - ETA: 26s - loss: 0.5346 - accuracy: 0.756 - ETA: 26s - loss: 0.5331 - accuracy: 0.753 - ETA: 25s - loss: 0.5349 - accuracy: 0.753 - ETA: 25s - loss: 0.5323 - accuracy: 0.756 - ETA: 25s - loss: 0.5333 - accuracy: 0.756 - ETA: 25s - loss: 0.5309 - accuracy: 0.756 - ETA: 25s - loss: 0.5345 - accuracy: 0.747 - ETA: 25s - loss: 0.5289 - accuracy: 0.752 - ETA: 24s - loss: 0.5241 - accuracy: 0.758 - ETA: 24s - loss: 0.5280 - accuracy: 0.752 - ETA: 24s - loss: 0.5234 - accuracy: 0.755 - ETA: 24s - loss: 0.5202 - accuracy: 0.758 - ETA: 24s - loss: 0.5195 - accuracy: 0.757 - ETA: 24s - loss: 0.5171 - accuracy: 0.760 - ETA: 24s - loss: 0.5284 - accuracy: 0.757 - ETA: 23s - loss: 0.5284 - accuracy: 0.759 - ETA: 23s - loss: 0.5261 - accuracy: 0.759 - ETA: 23s - loss: 0.5366 - accuracy: 0.757 - ETA: 23s - loss: 0.5364 - accuracy: 0.756 - ETA: 23s - loss: 0.5411 - accuracy: 0.752 - ETA: 23s - loss: 0.5422 - accuracy: 0.752 - ETA: 22s - loss: 0.5457 - accuracy: 0.750 - ETA: 22s - loss: 0.5422 - accuracy: 0.752 - ETA: 22s - loss: 0.5373 - accuracy: 0.754 - ETA: 22s - loss: 0.5370 - accuracy: 0.752 - ETA: 22s - loss: 0.5415 - accuracy: 0.748 - ETA: 22s - loss: 0.5417 - accuracy: 0.746 - ETA: 22s - loss: 0.5406 - accuracy: 0.746 - ETA: 21s - loss: 0.5364 - accuracy: 0.750 - ETA: 21s - loss: 0.5319 - accuracy: 0.753 - ETA: 21s - loss: 0.5344 - accuracy: 0.753 - ETA: 21s - loss: 0.5325 - accuracy: 0.755 - ETA: 21s - loss: 0.5287 - accuracy: 0.757 - ETA: 21s - loss: 0.5280 - accuracy: 0.759 - ETA: 20s - loss: 0.5264 - accuracy: 0.760 - ETA: 20s - loss: 0.5241 - accuracy: 0.762 - ETA: 20s - loss: 0.5224 - accuracy: 0.763 - ETA: 20s - loss: 0.5193 - accuracy: 0.763 - ETA: 20s - loss: 0.5170 - accuracy: 0.765 - ETA: 20s - loss: 0.5119 - accuracy: 0.768 - ETA: 20s - loss: 0.5133 - accuracy: 0.768 - ETA: 19s - loss: 0.5092 - accuracy: 0.769 - ETA: 19s - loss: 0.5069 - accuracy: 0.770 - ETA: 19s - loss: 0.5147 - accuracy: 0.767 - ETA: 19s - loss: 0.5148 - accuracy: 0.765 - ETA: 19s - loss: 0.5119 - accuracy: 0.765 - ETA: 19s - loss: 0.5098 - accuracy: 0.766 - ETA: 18s - loss: 0.5085 - accuracy: 0.768 - ETA: 18s - loss: 0.5140 - accuracy: 0.764 - ETA: 18s - loss: 0.5117 - accuracy: 0.764 - ETA: 18s - loss: 0.5173 - accuracy: 0.763 - ETA: 18s - loss: 0.5148 - accuracy: 0.764 - ETA: 18s - loss: 0.5126 - accuracy: 0.764 - ETA: 18s - loss: 0.5110 - accuracy: 0.762 - ETA: 17s - loss: 0.5099 - accuracy: 0.763 - ETA: 17s - loss: 0.5079 - accuracy: 0.763 - ETA: 17s - loss: 0.5075 - accuracy: 0.763 - ETA: 17s - loss: 0.5066 - accuracy: 0.762 - ETA: 17s - loss: 0.5021 - accuracy: 0.764 - ETA: 17s - loss: 0.4999 - accuracy: 0.764 - ETA: 16s - loss: 0.4959 - accuracy: 0.766 - ETA: 16s - loss: 0.4947 - accuracy: 0.766 - ETA: 16s - loss: 0.4931 - accuracy: 0.767 - ETA: 16s - loss: 0.4914 - accuracy: 0.767 - ETA: 16s - loss: 0.4909 - accuracy: 0.767 - ETA: 16s - loss: 0.4909 - accuracy: 0.767 - ETA: 16s - loss: 0.5012 - accuracy: 0.767 - ETA: 15s - loss: 0.5015 - accuracy: 0.768 - ETA: 15s - loss: 0.5039 - accuracy: 0.766 - ETA: 15s - loss: 0.5018 - accuracy: 0.767 - ETA: 15s - loss: 0.5038 - accuracy: 0.766 - ETA: 15s - loss: 0.5013 - accuracy: 0.768 - ETA: 15s - loss: 0.5036 - accuracy: 0.767 - ETA: 14s - loss: 0.5009 - accuracy: 0.769 - ETA: 14s - loss: 0.4973 - accuracy: 0.771 - ETA: 14s - loss: 0.4953 - accuracy: 0.772 - ETA: 14s - loss: 0.4938 - accuracy: 0.773 - ETA: 14s - loss: 0.4905 - accuracy: 0.775 - ETA: 14s - loss: 0.4872 - accuracy: 0.777 - ETA: 14s - loss: 0.4886 - accuracy: 0.776 - ETA: 13s - loss: 0.4922 - accuracy: 0.775 - ETA: 13s - loss: 0.4987 - accuracy: 0.775 - ETA: 13s - loss: 0.4982 - accuracy: 0.775 - ETA: 13s - loss: 0.5033 - accuracy: 0.775 - ETA: 13s - loss: 0.5047 - accuracy: 0.776 - ETA: 13s - loss: 0.5027 - accuracy: 0.776 - ETA: 12s - loss: 0.5000 - accuracy: 0.777 - ETA: 12s - loss: 0.4980 - accuracy: 0.779 - ETA: 12s - loss: 0.4992 - accuracy: 0.776 - ETA: 12s - loss: 0.4981 - accuracy: 0.776 - ETA: 12s - loss: 0.4961 - accuracy: 0.777 - ETA: 12s - loss: 0.4959 - accuracy: 0.777 - ETA: 12s - loss: 0.4942 - accuracy: 0.779 - ETA: 11s - loss: 0.4935 - accuracy: 0.780 - ETA: 11s - loss: 0.4921 - accuracy: 0.780 - ETA: 11s - loss: 0.4925 - accuracy: 0.779 - ETA: 11s - loss: 0.4918 - accuracy: 0.780 - ETA: 11s - loss: 0.4929 - accuracy: 0.781 - ETA: 11s - loss: 0.4913 - accuracy: 0.782 - ETA: 10s - loss: 0.4893 - accuracy: 0.784 - ETA: 10s - loss: 0.4867 - accuracy: 0.785 - ETA: 10s - loss: 0.4848 - accuracy: 0.787 - ETA: 10s - loss: 0.4873 - accuracy: 0.786 - ETA: 10s - loss: 0.4853 - accuracy: 0.786 - ETA: 10s - loss: 0.4865 - accuracy: 0.786 - ETA: 10s - loss: 0.4871 - accuracy: 0.786 - ETA: 9s - loss: 0.4855 - accuracy: 0.787 - ETA: 9s - loss: 0.4851 - accuracy: 0.78 - ETA: 9s - loss: 0.4842 - accuracy: 0.78 - ETA: 9s - loss: 0.4818 - accuracy: 0.78 - ETA: 9s - loss: 0.4825 - accuracy: 0.78 - ETA: 9s - loss: 0.4799 - accuracy: 0.78 - ETA: 8s - loss: 0.4780 - accuracy: 0.78 - ETA: 8s - loss: 0.4778 - accuracy: 0.78 - ETA: 8s - loss: 0.4751 - accuracy: 0.79 - ETA: 8s - loss: 0.4733 - accuracy: 0.79 - ETA: 8s - loss: 0.4715 - accuracy: 0.79 - ETA: 8s - loss: 0.4689 - accuracy: 0.79 - ETA: 7s - loss: 0.4676 - accuracy: 0.79 - ETA: 7s - loss: 0.4692 - accuracy: 0.79 - ETA: 7s - loss: 0.4681 - accuracy: 0.79 - ETA: 7s - loss: 0.4697 - accuracy: 0.79 - ETA: 7s - loss: 0.4689 - accuracy: 0.79 - ETA: 7s - loss: 0.4670 - accuracy: 0.79 - ETA: 7s - loss: 0.4657 - accuracy: 0.79 - ETA: 6s - loss: 0.4678 - accuracy: 0.79 - ETA: 6s - loss: 0.4669 - accuracy: 0.79 - ETA: 6s - loss: 0.4676 - accuracy: 0.79 - ETA: 6s - loss: 0.4679 - accuracy: 0.79 - ETA: 6s - loss: 0.4663 - accuracy: 0.79 - ETA: 6s - loss: 0.4647 - accuracy: 0.79 - ETA: 5s - loss: 0.4645 - accuracy: 0.79 - ETA: 5s - loss: 0.4629 - accuracy: 0.79 - ETA: 5s - loss: 0.4614 - accuracy: 0.79 - ETA: 5s - loss: 0.4640 - accuracy: 0.79 - ETA: 5s - loss: 0.4651 - accuracy: 0.79 - ETA: 5s - loss: 0.4640 - accuracy: 0.79 - ETA: 5s - loss: 0.4637 - accuracy: 0.79 - ETA: 4s - loss: 0.4649 - accuracy: 0.79 - ETA: 4s - loss: 0.4638 - accuracy: 0.79 - ETA: 4s - loss: 0.4657 - accuracy: 0.79 - ETA: 4s - loss: 0.4652 - accuracy: 0.79 - ETA: 4s - loss: 0.4657 - accuracy: 0.79 - ETA: 4s - loss: 0.4667 - accuracy: 0.79 - ETA: 3s - loss: 0.4663 - accuracy: 0.79 - ETA: 3s - loss: 0.4669 - accuracy: 0.79 - ETA: 3s - loss: 0.4675 - accuracy: 0.79 - ETA: 3s - loss: 0.4677 - accuracy: 0.79 - ETA: 3s - loss: 0.4677 - accuracy: 0.79 - ETA: 3s - loss: 0.4670 - accuracy: 0.79 - ETA: 3s - loss: 0.4667 - accuracy: 0.79 - ETA: 2s - loss: 0.4663 - accuracy: 0.79 - ETA: 2s - loss: 0.4654 - accuracy: 0.79121646/1646 [==============================] - ETA: 2s - loss: 0.4657 - accuracy: 0.79 - ETA: 2s - loss: 0.4659 - accuracy: 0.79 - ETA: 2s - loss: 0.4653 - accuracy: 0.78 - ETA: 2s - loss: 0.4648 - accuracy: 0.78 - ETA: 1s - loss: 0.4638 - accuracy: 0.78 - ETA: 1s - loss: 0.4626 - accuracy: 0.79 - ETA: 1s - loss: 0.4618 - accuracy: 0.79 - ETA: 1s - loss: 0.4626 - accuracy: 0.79 - ETA: 1s - loss: 0.4628 - accuracy: 0.79 - ETA: 1s - loss: 0.4622 - accuracy: 0.79 - ETA: 1s - loss: 0.4616 - accuracy: 0.79 - ETA: 0s - loss: 0.4608 - accuracy: 0.79 - ETA: 0s - loss: 0.4624 - accuracy: 0.79 - ETA: 0s - loss: 0.4627 - accuracy: 0.79 - ETA: 0s - loss: 0.4621 - accuracy: 0.79 - ETA: 0s - loss: 0.4605 - accuracy: 0.79 - ETA: 0s - loss: 0.4596 - accuracy: 0.79 - 32s 19ms/sample - loss: 0.4580 - accuracy: 0.7928\n"
     ]
    },
    {
     "data": {
      "text/html": [
       "<span style=\"color:#4527A0\"><h1 style=\"font-size:18px\">Trial complete</h1></span>"
      ],
      "text/plain": [
       "<IPython.core.display.HTML object>"
      ]
     },
     "metadata": {},
     "output_type": "display_data"
    },
    {
     "data": {
      "text/html": [
       "<span style=\"color:#4527A0\"><h1 style=\"font-size:18px\">Trial summary</h1></span>"
      ],
      "text/plain": [
       "<IPython.core.display.HTML object>"
      ]
     },
     "metadata": {},
     "output_type": "display_data"
    },
    {
     "data": {
      "text/html": [
       "<span style=\"color:cyan\"> |-Trial ID: 7106592085bf6994b1f7ea0e611f0d55</span>"
      ],
      "text/plain": [
       "<IPython.core.display.HTML object>"
      ]
     },
     "metadata": {},
     "output_type": "display_data"
    },
    {
     "data": {
      "text/html": [
       "<span style=\"color:cyan\"> |-Score: 0.870595395565033</span>"
      ],
      "text/plain": [
       "<IPython.core.display.HTML object>"
      ]
     },
     "metadata": {},
     "output_type": "display_data"
    },
    {
     "data": {
      "text/html": [
       "<span style=\"color:cyan\"> |-Best step: 0</span>"
      ],
      "text/plain": [
       "<IPython.core.display.HTML object>"
      ]
     },
     "metadata": {},
     "output_type": "display_data"
    },
    {
     "data": {
      "text/html": [
       "<span style=\"color:#7E57C2\"><h2 style=\"font-size:16px\">Hyperparameters:</h2></span>"
      ],
      "text/plain": [
       "<IPython.core.display.HTML object>"
      ]
     },
     "metadata": {},
     "output_type": "display_data"
    },
    {
     "data": {
      "text/html": [
       "<span style=\"color:cyan\"> |-filters_0: 160</span>"
      ],
      "text/plain": [
       "<IPython.core.display.HTML object>"
      ]
     },
     "metadata": {},
     "output_type": "display_data"
    },
    {
     "data": {
      "text/html": [
       "<span style=\"color:blue\"> |-filters_1: 160</span>"
      ],
      "text/plain": [
       "<IPython.core.display.HTML object>"
      ]
     },
     "metadata": {},
     "output_type": "display_data"
    },
    {
     "data": {
      "text/html": [
       "<span style=\"color:cyan\"> |-filters_2: 192</span>"
      ],
      "text/plain": [
       "<IPython.core.display.HTML object>"
      ]
     },
     "metadata": {},
     "output_type": "display_data"
    },
    {
     "data": {
      "text/html": [
       "<span style=\"color:blue\"> |-filters_3: 128</span>"
      ],
      "text/plain": [
       "<IPython.core.display.HTML object>"
      ]
     },
     "metadata": {},
     "output_type": "display_data"
    },
    {
     "data": {
      "text/html": [
       "<span style=\"color:cyan\"> |-filters_4: 96</span>"
      ],
      "text/plain": [
       "<IPython.core.display.HTML object>"
      ]
     },
     "metadata": {},
     "output_type": "display_data"
    },
    {
     "data": {
      "text/html": [
       "<span style=\"color:blue\"> |-filters_5: 32</span>"
      ],
      "text/plain": [
       "<IPython.core.display.HTML object>"
      ]
     },
     "metadata": {},
     "output_type": "display_data"
    },
    {
     "data": {
      "text/html": [
       "<span style=\"color:cyan\"> |-learning_rate: 0.001</span>"
      ],
      "text/plain": [
       "<IPython.core.display.HTML object>"
      ]
     },
     "metadata": {},
     "output_type": "display_data"
    },
    {
     "data": {
      "text/html": [
       "<span style=\"color:blue\"> |-num_layers: 3</span>"
      ],
      "text/plain": [
       "<IPython.core.display.HTML object>"
      ]
     },
     "metadata": {},
     "output_type": "display_data"
    },
    {
     "data": {
      "text/html": [
       "<span style=\"color:cyan\"> |-pool_0: max</span>"
      ],
      "text/plain": [
       "<IPython.core.display.HTML object>"
      ]
     },
     "metadata": {},
     "output_type": "display_data"
    },
    {
     "data": {
      "text/html": [
       "<span style=\"color:blue\"> |-pool_1: max</span>"
      ],
      "text/plain": [
       "<IPython.core.display.HTML object>"
      ]
     },
     "metadata": {},
     "output_type": "display_data"
    },
    {
     "data": {
      "text/html": [
       "<span style=\"color:cyan\"> |-pool_2: avg</span>"
      ],
      "text/plain": [
       "<IPython.core.display.HTML object>"
      ]
     },
     "metadata": {},
     "output_type": "display_data"
    },
    {
     "data": {
      "text/html": [
       "<span style=\"color:blue\"> |-pool_3: max</span>"
      ],
      "text/plain": [
       "<IPython.core.display.HTML object>"
      ]
     },
     "metadata": {},
     "output_type": "display_data"
    },
    {
     "data": {
      "text/html": [
       "<span style=\"color:cyan\"> |-pool_4: max</span>"
      ],
      "text/plain": [
       "<IPython.core.display.HTML object>"
      ]
     },
     "metadata": {},
     "output_type": "display_data"
    },
    {
     "name": "stdout",
     "output_type": "stream",
     "text": [
      "Train on 1646 samples\n",
      "Epoch 1/10\n",
      "1504/1646 [==========================>...] - ETA: 7:33 - loss: 1.3903 - accuracy: 0.50 - ETA: 3:56 - loss: 4.7799 - accuracy: 0.68 - ETA: 2:42 - loss: 7.4303 - accuracy: 0.66 - ETA: 2:06 - loss: 6.2032 - accuracy: 0.65 - ETA: 1:44 - loss: 5.1032 - accuracy: 0.62 - ETA: 1:29 - loss: 4.4625 - accuracy: 0.60 - ETA: 1:19 - loss: 3.9664 - accuracy: 0.55 - ETA: 1:11 - loss: 3.5688 - accuracy: 0.51 - ETA: 1:05 - loss: 3.2481 - accuracy: 0.51 - ETA: 1:00 - loss: 2.9915 - accuracy: 0.52 - ETA: 56s - loss: 2.7863 - accuracy: 0.5227 - ETA: 52s - loss: 2.6104 - accuracy: 0.552 - ETA: 50s - loss: 2.4623 - accuracy: 0.557 - ETA: 47s - loss: 2.3358 - accuracy: 0.544 - ETA: 45s - loss: 2.2241 - accuracy: 0.550 - ETA: 43s - loss: 2.1271 - accuracy: 0.562 - ETA: 41s - loss: 2.0414 - accuracy: 0.558 - ETA: 40s - loss: 1.9672 - accuracy: 0.555 - ETA: 39s - loss: 1.9015 - accuracy: 0.552 - ETA: 37s - loss: 1.8385 - accuracy: 0.550 - ETA: 36s - loss: 1.7839 - accuracy: 0.553 - ETA: 35s - loss: 1.7319 - accuracy: 0.562 - ETA: 34s - loss: 1.6903 - accuracy: 0.559 - ETA: 33s - loss: 1.6451 - accuracy: 0.562 - ETA: 32s - loss: 1.6050 - accuracy: 0.560 - ETA: 32s - loss: 1.5654 - accuracy: 0.567 - ETA: 31s - loss: 1.5380 - accuracy: 0.564 - ETA: 30s - loss: 1.5114 - accuracy: 0.562 - ETA: 30s - loss: 1.4840 - accuracy: 0.560 - ETA: 29s - loss: 1.4583 - accuracy: 0.558 - ETA: 28s - loss: 1.4319 - accuracy: 0.568 - ETA: 28s - loss: 1.4086 - accuracy: 0.570 - ETA: 27s - loss: 1.3867 - accuracy: 0.568 - ETA: 27s - loss: 1.3660 - accuracy: 0.569 - ETA: 27s - loss: 1.3474 - accuracy: 0.560 - ETA: 26s - loss: 1.3290 - accuracy: 0.562 - ETA: 26s - loss: 1.3109 - accuracy: 0.570 - ETA: 25s - loss: 1.2941 - accuracy: 0.575 - ETA: 25s - loss: 1.2781 - accuracy: 0.576 - ETA: 25s - loss: 1.2635 - accuracy: 0.575 - ETA: 24s - loss: 1.2489 - accuracy: 0.579 - ETA: 24s - loss: 1.2349 - accuracy: 0.583 - ETA: 24s - loss: 1.2237 - accuracy: 0.572 - ETA: 23s - loss: 1.2105 - accuracy: 0.579 - ETA: 23s - loss: 1.1992 - accuracy: 0.577 - ETA: 23s - loss: 1.1891 - accuracy: 0.570 - ETA: 22s - loss: 1.1787 - accuracy: 0.569 - ETA: 22s - loss: 1.1682 - accuracy: 0.570 - ETA: 22s - loss: 1.1590 - accuracy: 0.566 - ETA: 21s - loss: 1.1494 - accuracy: 0.567 - ETA: 21s - loss: 1.1405 - accuracy: 0.566 - ETA: 21s - loss: 1.1316 - accuracy: 0.567 - ETA: 21s - loss: 1.1237 - accuracy: 0.563 - ETA: 20s - loss: 1.1158 - accuracy: 0.562 - ETA: 20s - loss: 1.1081 - accuracy: 0.561 - ETA: 20s - loss: 1.1014 - accuracy: 0.555 - ETA: 20s - loss: 1.0942 - accuracy: 0.554 - ETA: 19s - loss: 1.0874 - accuracy: 0.553 - ETA: 19s - loss: 1.0801 - accuracy: 0.557 - ETA: 19s - loss: 1.0740 - accuracy: 0.554 - ETA: 19s - loss: 1.0677 - accuracy: 0.553 - ETA: 19s - loss: 1.0612 - accuracy: 0.556 - ETA: 18s - loss: 1.0548 - accuracy: 0.559 - ETA: 18s - loss: 1.0492 - accuracy: 0.558 - ETA: 18s - loss: 1.0438 - accuracy: 0.557 - ETA: 18s - loss: 1.0385 - accuracy: 0.556 - ETA: 18s - loss: 1.0327 - accuracy: 0.561 - ETA: 17s - loss: 1.0270 - accuracy: 0.566 - ETA: 17s - loss: 1.0214 - accuracy: 0.570 - ETA: 17s - loss: 1.0167 - accuracy: 0.569 - ETA: 17s - loss: 1.0116 - accuracy: 0.572 - ETA: 17s - loss: 1.0067 - accuracy: 0.574 - ETA: 16s - loss: 1.0017 - accuracy: 0.577 - ETA: 16s - loss: 0.9969 - accuracy: 0.579 - ETA: 16s - loss: 0.9922 - accuracy: 0.581 - ETA: 16s - loss: 0.9879 - accuracy: 0.582 - ETA: 16s - loss: 0.9837 - accuracy: 0.582 - ETA: 16s - loss: 0.9790 - accuracy: 0.584 - ETA: 15s - loss: 0.9749 - accuracy: 0.585 - ETA: 15s - loss: 0.9716 - accuracy: 0.584 - ETA: 15s - loss: 0.9688 - accuracy: 0.583 - ETA: 15s - loss: 0.9669 - accuracy: 0.579 - ETA: 15s - loss: 0.9626 - accuracy: 0.581 - ETA: 15s - loss: 0.9587 - accuracy: 0.583 - ETA: 14s - loss: 0.9545 - accuracy: 0.585 - ETA: 14s - loss: 0.9499 - accuracy: 0.588 - ETA: 14s - loss: 0.9466 - accuracy: 0.589 - ETA: 14s - loss: 0.9422 - accuracy: 0.592 - ETA: 14s - loss: 0.9397 - accuracy: 0.591 - ETA: 14s - loss: 0.9373 - accuracy: 0.590 - ETA: 14s - loss: 0.9336 - accuracy: 0.592 - ETA: 13s - loss: 0.9327 - accuracy: 0.588 - ETA: 13s - loss: 0.9291 - accuracy: 0.590 - ETA: 13s - loss: 0.9256 - accuracy: 0.591 - ETA: 13s - loss: 0.9234 - accuracy: 0.590 - ETA: 13s - loss: 0.9200 - accuracy: 0.592 - ETA: 13s - loss: 0.9173 - accuracy: 0.592 - ETA: 12s - loss: 0.9153 - accuracy: 0.591 - ETA: 12s - loss: 0.9127 - accuracy: 0.592 - ETA: 12s - loss: 0.9115 - accuracy: 0.590 - ETA: 12s - loss: 0.9110 - accuracy: 0.586 - ETA: 12s - loss: 0.9085 - accuracy: 0.587 - ETA: 12s - loss: 0.9055 - accuracy: 0.588 - ETA: 12s - loss: 0.9033 - accuracy: 0.588 - ETA: 11s - loss: 0.9019 - accuracy: 0.586 - ETA: 11s - loss: 0.9008 - accuracy: 0.584 - ETA: 11s - loss: 0.8982 - accuracy: 0.586 - ETA: 11s - loss: 0.8960 - accuracy: 0.586 - ETA: 11s - loss: 0.8935 - accuracy: 0.588 - ETA: 11s - loss: 0.8910 - accuracy: 0.589 - ETA: 11s - loss: 0.8886 - accuracy: 0.591 - ETA: 11s - loss: 0.8866 - accuracy: 0.591 - ETA: 10s - loss: 0.8854 - accuracy: 0.589 - ETA: 10s - loss: 0.8842 - accuracy: 0.587 - ETA: 10s - loss: 0.8826 - accuracy: 0.587 - ETA: 10s - loss: 0.8811 - accuracy: 0.586 - ETA: 10s - loss: 0.8790 - accuracy: 0.587 - ETA: 10s - loss: 0.8768 - accuracy: 0.589 - ETA: 10s - loss: 0.8747 - accuracy: 0.590 - ETA: 10s - loss: 0.8733 - accuracy: 0.589 - ETA: 9s - loss: 0.8713 - accuracy: 0.590 - ETA: 9s - loss: 0.8702 - accuracy: 0.58 - ETA: 9s - loss: 0.8689 - accuracy: 0.58 - ETA: 9s - loss: 0.8673 - accuracy: 0.58 - ETA: 9s - loss: 0.8660 - accuracy: 0.58 - ETA: 9s - loss: 0.8650 - accuracy: 0.58 - ETA: 9s - loss: 0.8631 - accuracy: 0.58 - ETA: 9s - loss: 0.8619 - accuracy: 0.58 - ETA: 8s - loss: 0.8598 - accuracy: 0.58 - ETA: 8s - loss: 0.8577 - accuracy: 0.59 - ETA: 8s - loss: 0.8563 - accuracy: 0.59 - ETA: 8s - loss: 0.8558 - accuracy: 0.58 - ETA: 8s - loss: 0.8540 - accuracy: 0.59 - ETA: 8s - loss: 0.8529 - accuracy: 0.58 - ETA: 8s - loss: 0.8515 - accuracy: 0.58 - ETA: 8s - loss: 0.8495 - accuracy: 0.59 - ETA: 7s - loss: 0.8488 - accuracy: 0.59 - ETA: 7s - loss: 0.8475 - accuracy: 0.59 - ETA: 7s - loss: 0.8459 - accuracy: 0.59 - ETA: 7s - loss: 0.8442 - accuracy: 0.59 - ETA: 7s - loss: 0.8436 - accuracy: 0.59 - ETA: 7s - loss: 0.8434 - accuracy: 0.58 - ETA: 7s - loss: 0.8414 - accuracy: 0.59 - ETA: 7s - loss: 0.8405 - accuracy: 0.59 - ETA: 6s - loss: 0.8393 - accuracy: 0.59 - ETA: 6s - loss: 0.8381 - accuracy: 0.59 - ETA: 6s - loss: 0.8359 - accuracy: 0.59 - ETA: 6s - loss: 0.8358 - accuracy: 0.59 - ETA: 6s - loss: 0.8346 - accuracy: 0.59 - ETA: 6s - loss: 0.8338 - accuracy: 0.59 - ETA: 6s - loss: 0.8333 - accuracy: 0.58 - ETA: 6s - loss: 0.8329 - accuracy: 0.58 - ETA: 5s - loss: 0.8321 - accuracy: 0.58 - ETA: 5s - loss: 0.8313 - accuracy: 0.58 - ETA: 5s - loss: 0.8305 - accuracy: 0.58 - ETA: 5s - loss: 0.8291 - accuracy: 0.58 - ETA: 5s - loss: 0.8276 - accuracy: 0.58 - ETA: 5s - loss: 0.8267 - accuracy: 0.58 - ETA: 5s - loss: 0.8262 - accuracy: 0.58 - ETA: 5s - loss: 0.8254 - accuracy: 0.58 - ETA: 5s - loss: 0.8251 - accuracy: 0.58 - ETA: 4s - loss: 0.8241 - accuracy: 0.58 - ETA: 4s - loss: 0.8233 - accuracy: 0.58 - ETA: 4s - loss: 0.8230 - accuracy: 0.58 - ETA: 4s - loss: 0.8221 - accuracy: 0.58 - ETA: 4s - loss: 0.8214 - accuracy: 0.58 - ETA: 4s - loss: 0.8206 - accuracy: 0.58 - ETA: 4s - loss: 0.8193 - accuracy: 0.58 - ETA: 4s - loss: 0.8183 - accuracy: 0.58 - ETA: 4s - loss: 0.8173 - accuracy: 0.58 - ETA: 3s - loss: 0.8164 - accuracy: 0.58 - ETA: 3s - loss: 0.8151 - accuracy: 0.58 - ETA: 3s - loss: 0.8137 - accuracy: 0.58 - ETA: 3s - loss: 0.8153 - accuracy: 0.58 - ETA: 3s - loss: 0.8144 - accuracy: 0.58 - ETA: 3s - loss: 0.8138 - accuracy: 0.58 - ETA: 3s - loss: 0.8134 - accuracy: 0.58 - ETA: 3s - loss: 0.8127 - accuracy: 0.58 - ETA: 2s - loss: 0.8119 - accuracy: 0.58 - ETA: 2s - loss: 0.8112 - accuracy: 0.58 - ETA: 2s - loss: 0.8104 - accuracy: 0.58 - ETA: 2s - loss: 0.8098 - accuracy: 0.58 - ETA: 2s - loss: 0.8092 - accuracy: 0.58 - ETA: 2s - loss: 0.8083 - accuracy: 0.58 - ETA: 2s - loss: 0.8073 - accuracy: 0.58 - ETA: 2s - loss: 0.8068 - accuracy: 0.58 - ETA: 2s - loss: 0.8063 - accuracy: 0.58 - ETA: 1s - loss: 0.8059 - accuracy: 0.5818\b\b\b\b\b\b\b\b\b\b\b\b\b\b\b\b\b\b\b\b\b\b\b\b\b\b\b\b\b\b\b\b\b\b\b\b\b\b\b\b\b\b\b\b\b\b\b\b\b\b\b\b\b\b\b\b\b\b\b\b\b\b\b\b\b\b\b\b\b\b\b\b\b\b\b\b\b\b\b\b\b\b\b\b\b\b1646/1646 [==============================] - ETA: 1s - loss: 0.8052 - accuracy: 0.58 - ETA: 1s - loss: 0.8045 - accuracy: 0.58 - ETA: 1s - loss: 0.8037 - accuracy: 0.58 - ETA: 1s - loss: 0.8030 - accuracy: 0.58 - ETA: 1s - loss: 0.8026 - accuracy: 0.58 - ETA: 1s - loss: 0.8023 - accuracy: 0.58 - ETA: 1s - loss: 0.8016 - accuracy: 0.58 - ETA: 1s - loss: 0.8009 - accuracy: 0.58 - ETA: 0s - loss: 0.8005 - accuracy: 0.58 - ETA: 0s - loss: 0.8000 - accuracy: 0.58 - ETA: 0s - loss: 0.7994 - accuracy: 0.58 - ETA: 0s - loss: 0.7986 - accuracy: 0.58 - ETA: 0s - loss: 0.7979 - accuracy: 0.58 - ETA: 0s - loss: 0.7974 - accuracy: 0.58 - ETA: 0s - loss: 0.7969 - accuracy: 0.58 - ETA: 0s - loss: 0.7963 - accuracy: 0.58 - ETA: 0s - loss: 0.7959 - accuracy: 0.58 - 24s 15ms/sample - loss: 0.7955 - accuracy: 0.5814\n",
      "Epoch 2/10\n",
      "1512/1646 [==========================>...] - ETA: 20s - loss: 0.7161 - accuracy: 0.375 - ETA: 20s - loss: 0.6966 - accuracy: 0.500 - ETA: 20s - loss: 0.6904 - accuracy: 0.541 - ETA: 20s - loss: 0.6919 - accuracy: 0.531 - ETA: 20s - loss: 0.6883 - accuracy: 0.550 - ETA: 20s - loss: 0.6897 - accuracy: 0.541 - ETA: 19s - loss: 0.6936 - accuracy: 0.517 - ETA: 19s - loss: 0.6940 - accuracy: 0.515 - ETA: 19s - loss: 0.6918 - accuracy: 0.527 - ETA: 19s - loss: 0.6902 - accuracy: 0.537 - ETA: 19s - loss: 0.6908 - accuracy: 0.534 - ETA: 19s - loss: 0.6912 - accuracy: 0.531 - ETA: 19s - loss: 0.6901 - accuracy: 0.538 - ETA: 19s - loss: 0.6920 - accuracy: 0.526 - ETA: 19s - loss: 0.6923 - accuracy: 0.525 - ETA: 19s - loss: 0.6887 - accuracy: 0.546 - ETA: 19s - loss: 0.6904 - accuracy: 0.536 - ETA: 18s - loss: 0.6873 - accuracy: 0.555 - ETA: 18s - loss: 0.6856 - accuracy: 0.565 - ETA: 18s - loss: 0.6862 - accuracy: 0.562 - ETA: 18s - loss: 0.6867 - accuracy: 0.559 - ETA: 18s - loss: 0.6882 - accuracy: 0.551 - ETA: 18s - loss: 0.6886 - accuracy: 0.548 - ETA: 18s - loss: 0.6899 - accuracy: 0.541 - ETA: 18s - loss: 0.6902 - accuracy: 0.540 - ETA: 18s - loss: 0.6905 - accuracy: 0.538 - ETA: 18s - loss: 0.6891 - accuracy: 0.546 - ETA: 17s - loss: 0.6902 - accuracy: 0.540 - ETA: 17s - loss: 0.6904 - accuracy: 0.538 - ETA: 17s - loss: 0.6899 - accuracy: 0.541 - ETA: 17s - loss: 0.6895 - accuracy: 0.544 - ETA: 17s - loss: 0.6870 - accuracy: 0.558 - ETA: 17s - loss: 0.6859 - accuracy: 0.564 - ETA: 17s - loss: 0.6856 - accuracy: 0.566 - ETA: 17s - loss: 0.6831 - accuracy: 0.578 - ETA: 17s - loss: 0.6843 - accuracy: 0.572 - ETA: 17s - loss: 0.6825 - accuracy: 0.581 - ETA: 16s - loss: 0.6814 - accuracy: 0.585 - ETA: 16s - loss: 0.6796 - accuracy: 0.592 - ETA: 16s - loss: 0.6785 - accuracy: 0.596 - ETA: 16s - loss: 0.6773 - accuracy: 0.600 - ETA: 16s - loss: 0.6771 - accuracy: 0.601 - ETA: 16s - loss: 0.6759 - accuracy: 0.604 - ETA: 16s - loss: 0.6746 - accuracy: 0.608 - ETA: 16s - loss: 0.6713 - accuracy: 0.616 - ETA: 16s - loss: 0.6722 - accuracy: 0.614 - ETA: 16s - loss: 0.6731 - accuracy: 0.611 - ETA: 15s - loss: 0.6729 - accuracy: 0.612 - ETA: 15s - loss: 0.6714 - accuracy: 0.614 - ETA: 15s - loss: 0.6725 - accuracy: 0.612 - ETA: 15s - loss: 0.6749 - accuracy: 0.607 - ETA: 15s - loss: 0.6747 - accuracy: 0.608 - ETA: 15s - loss: 0.6731 - accuracy: 0.610 - ETA: 15s - loss: 0.6716 - accuracy: 0.613 - ETA: 15s - loss: 0.6754 - accuracy: 0.606 - ETA: 15s - loss: 0.6790 - accuracy: 0.600 - ETA: 15s - loss: 0.6763 - accuracy: 0.605 - ETA: 14s - loss: 0.6760 - accuracy: 0.605 - ETA: 14s - loss: 0.6758 - accuracy: 0.605 - ETA: 14s - loss: 0.6755 - accuracy: 0.606 - ETA: 14s - loss: 0.6742 - accuracy: 0.608 - ETA: 14s - loss: 0.6740 - accuracy: 0.608 - ETA: 14s - loss: 0.6718 - accuracy: 0.613 - ETA: 14s - loss: 0.6717 - accuracy: 0.613 - ETA: 14s - loss: 0.6715 - accuracy: 0.613 - ETA: 14s - loss: 0.6714 - accuracy: 0.613 - ETA: 14s - loss: 0.6722 - accuracy: 0.611 - ETA: 13s - loss: 0.6721 - accuracy: 0.612 - ETA: 13s - loss: 0.6700 - accuracy: 0.615 - ETA: 13s - loss: 0.6698 - accuracy: 0.616 - ETA: 13s - loss: 0.6707 - accuracy: 0.614 - ETA: 13s - loss: 0.6716 - accuracy: 0.612 - ETA: 13s - loss: 0.6733 - accuracy: 0.609 - ETA: 13s - loss: 0.6732 - accuracy: 0.609 - ETA: 13s - loss: 0.6739 - accuracy: 0.608 - ETA: 13s - loss: 0.6762 - accuracy: 0.603 - ETA: 12s - loss: 0.6776 - accuracy: 0.600 - ETA: 12s - loss: 0.6774 - accuracy: 0.601 - ETA: 12s - loss: 0.6792 - accuracy: 0.596 - ETA: 12s - loss: 0.6790 - accuracy: 0.596 - ETA: 12s - loss: 0.6788 - accuracy: 0.597 - ETA: 12s - loss: 0.6791 - accuracy: 0.596 - ETA: 12s - loss: 0.6799 - accuracy: 0.593 - ETA: 12s - loss: 0.6789 - accuracy: 0.596 - ETA: 12s - loss: 0.6796 - accuracy: 0.594 - ETA: 12s - loss: 0.6791 - accuracy: 0.595 - ETA: 12s - loss: 0.6801 - accuracy: 0.592 - ETA: 11s - loss: 0.6799 - accuracy: 0.592 - ETA: 11s - loss: 0.6799 - accuracy: 0.592 - ETA: 11s - loss: 0.6798 - accuracy: 0.593 - ETA: 11s - loss: 0.6803 - accuracy: 0.590 - ETA: 11s - loss: 0.6802 - accuracy: 0.591 - ETA: 11s - loss: 0.6809 - accuracy: 0.587 - ETA: 11s - loss: 0.6806 - accuracy: 0.589 - ETA: 11s - loss: 0.6810 - accuracy: 0.586 - ETA: 11s - loss: 0.6814 - accuracy: 0.584 - ETA: 11s - loss: 0.6818 - accuracy: 0.582 - ETA: 10s - loss: 0.6821 - accuracy: 0.580 - ETA: 10s - loss: 0.6819 - accuracy: 0.582 - ETA: 10s - loss: 0.6820 - accuracy: 0.581 - ETA: 10s - loss: 0.6818 - accuracy: 0.582 - ETA: 10s - loss: 0.6815 - accuracy: 0.585 - ETA: 10s - loss: 0.6814 - accuracy: 0.586 - ETA: 10s - loss: 0.6814 - accuracy: 0.586 - ETA: 10s - loss: 0.6812 - accuracy: 0.588 - ETA: 10s - loss: 0.6813 - accuracy: 0.587 - ETA: 9s - loss: 0.6813 - accuracy: 0.587 - ETA: 9s - loss: 0.6813 - accuracy: 0.58 - ETA: 9s - loss: 0.6812 - accuracy: 0.58 - ETA: 9s - loss: 0.6812 - accuracy: 0.58 - ETA: 9s - loss: 0.6815 - accuracy: 0.58 - ETA: 9s - loss: 0.6816 - accuracy: 0.58 - ETA: 9s - loss: 0.6812 - accuracy: 0.58 - ETA: 9s - loss: 0.6817 - accuracy: 0.58 - ETA: 9s - loss: 0.6821 - accuracy: 0.58 - ETA: 9s - loss: 0.6818 - accuracy: 0.58 - ETA: 8s - loss: 0.6819 - accuracy: 0.58 - ETA: 8s - loss: 0.6819 - accuracy: 0.58 - ETA: 8s - loss: 0.6818 - accuracy: 0.58 - ETA: 8s - loss: 0.6819 - accuracy: 0.58 - ETA: 8s - loss: 0.6814 - accuracy: 0.58 - ETA: 8s - loss: 0.6814 - accuracy: 0.58 - ETA: 8s - loss: 0.6807 - accuracy: 0.59 - ETA: 8s - loss: 0.6808 - accuracy: 0.58 - ETA: 8s - loss: 0.6807 - accuracy: 0.59 - ETA: 8s - loss: 0.6811 - accuracy: 0.58 - ETA: 7s - loss: 0.6808 - accuracy: 0.58 - ETA: 7s - loss: 0.6817 - accuracy: 0.58 - ETA: 7s - loss: 0.6816 - accuracy: 0.58 - ETA: 7s - loss: 0.6815 - accuracy: 0.58 - ETA: 7s - loss: 0.6819 - accuracy: 0.58 - ETA: 7s - loss: 0.6818 - accuracy: 0.58 - ETA: 7s - loss: 0.6815 - accuracy: 0.58 - ETA: 7s - loss: 0.6807 - accuracy: 0.58 - ETA: 7s - loss: 0.6801 - accuracy: 0.59 - ETA: 7s - loss: 0.6808 - accuracy: 0.58 - ETA: 6s - loss: 0.6809 - accuracy: 0.58 - ETA: 6s - loss: 0.6803 - accuracy: 0.59 - ETA: 6s - loss: 0.6802 - accuracy: 0.59 - ETA: 6s - loss: 0.6796 - accuracy: 0.59 - ETA: 6s - loss: 0.6798 - accuracy: 0.59 - ETA: 6s - loss: 0.6797 - accuracy: 0.59 - ETA: 6s - loss: 0.6793 - accuracy: 0.59 - ETA: 6s - loss: 0.6792 - accuracy: 0.59 - ETA: 6s - loss: 0.6794 - accuracy: 0.59 - ETA: 6s - loss: 0.6793 - accuracy: 0.59 - ETA: 5s - loss: 0.6792 - accuracy: 0.59 - ETA: 5s - loss: 0.6797 - accuracy: 0.59 - ETA: 5s - loss: 0.6793 - accuracy: 0.59 - ETA: 5s - loss: 0.6799 - accuracy: 0.59 - ETA: 5s - loss: 0.6794 - accuracy: 0.59 - ETA: 5s - loss: 0.6799 - accuracy: 0.59 - ETA: 5s - loss: 0.6801 - accuracy: 0.59 - ETA: 5s - loss: 0.6800 - accuracy: 0.59 - ETA: 5s - loss: 0.6802 - accuracy: 0.59 - ETA: 5s - loss: 0.6798 - accuracy: 0.59 - ETA: 4s - loss: 0.6803 - accuracy: 0.59 - ETA: 4s - loss: 0.6799 - accuracy: 0.59 - ETA: 4s - loss: 0.6798 - accuracy: 0.59 - ETA: 4s - loss: 0.6803 - accuracy: 0.58 - ETA: 4s - loss: 0.6805 - accuracy: 0.58 - ETA: 4s - loss: 0.6807 - accuracy: 0.58 - ETA: 4s - loss: 0.6809 - accuracy: 0.58 - ETA: 4s - loss: 0.6808 - accuracy: 0.58 - ETA: 4s - loss: 0.6807 - accuracy: 0.58 - ETA: 4s - loss: 0.6806 - accuracy: 0.58 - ETA: 3s - loss: 0.6807 - accuracy: 0.58 - ETA: 3s - loss: 0.6809 - accuracy: 0.58 - ETA: 3s - loss: 0.6810 - accuracy: 0.58 - ETA: 3s - loss: 0.6810 - accuracy: 0.58 - ETA: 3s - loss: 0.6813 - accuracy: 0.58 - ETA: 3s - loss: 0.6815 - accuracy: 0.58 - ETA: 3s - loss: 0.6809 - accuracy: 0.58 - ETA: 3s - loss: 0.6806 - accuracy: 0.58 - ETA: 3s - loss: 0.6806 - accuracy: 0.58 - ETA: 2s - loss: 0.6803 - accuracy: 0.58 - ETA: 2s - loss: 0.6800 - accuracy: 0.59 - ETA: 2s - loss: 0.6797 - accuracy: 0.59 - ETA: 2s - loss: 0.6794 - accuracy: 0.59 - ETA: 2s - loss: 0.6797 - accuracy: 0.59 - ETA: 2s - loss: 0.6799 - accuracy: 0.59 - ETA: 2s - loss: 0.6803 - accuracy: 0.58 - ETA: 2s - loss: 0.6800 - accuracy: 0.59 - ETA: 2s - loss: 0.6799 - accuracy: 0.59 - ETA: 2s - loss: 0.6798 - accuracy: 0.59 - ETA: 1s - loss: 0.6800 - accuracy: 0.59 - ETA: 1s - loss: 0.6804 - accuracy: 0.58 - ETA: 1s - loss: 0.6807 - accuracy: 0.58 - ETA: 1s - loss: 0.6804 - accuracy: 0.58861646/1646 [==============================] - ETA: 1s - loss: 0.6806 - accuracy: 0.58 - ETA: 1s - loss: 0.6805 - accuracy: 0.58 - ETA: 1s - loss: 0.6806 - accuracy: 0.58 - ETA: 1s - loss: 0.6806 - accuracy: 0.58 - ETA: 1s - loss: 0.6803 - accuracy: 0.58 - ETA: 1s - loss: 0.6806 - accuracy: 0.58 - ETA: 0s - loss: 0.6807 - accuracy: 0.58 - ETA: 0s - loss: 0.6806 - accuracy: 0.58 - ETA: 0s - loss: 0.6807 - accuracy: 0.58 - ETA: 0s - loss: 0.6807 - accuracy: 0.58 - ETA: 0s - loss: 0.6806 - accuracy: 0.58 - ETA: 0s - loss: 0.6807 - accuracy: 0.58 - ETA: 0s - loss: 0.6808 - accuracy: 0.58 - ETA: 0s - loss: 0.6806 - accuracy: 0.58 - ETA: 0s - loss: 0.6807 - accuracy: 0.58 - ETA: 0s - loss: 0.6808 - accuracy: 0.58 - 21s 13ms/sample - loss: 0.6809 - accuracy: 0.5863\n",
      "Epoch 3/10\n",
      "1512/1646 [==========================>...] - ETA: 18s - loss: 0.6669 - accuracy: 0.625 - ETA: 19s - loss: 0.6996 - accuracy: 0.500 - ETA: 19s - loss: 0.6888 - accuracy: 0.541 - ETA: 19s - loss: 0.7015 - accuracy: 0.500 - ETA: 19s - loss: 0.7018 - accuracy: 0.500 - ETA: 19s - loss: 0.6905 - accuracy: 0.541 - ETA: 19s - loss: 0.6869 - accuracy: 0.553 - ETA: 19s - loss: 0.6804 - accuracy: 0.578 - ETA: 19s - loss: 0.6828 - accuracy: 0.569 - ETA: 19s - loss: 0.6745 - accuracy: 0.600 - ETA: 19s - loss: 0.6701 - accuracy: 0.613 - ETA: 19s - loss: 0.6762 - accuracy: 0.593 - ETA: 18s - loss: 0.6789 - accuracy: 0.586 - ETA: 18s - loss: 0.6832 - accuracy: 0.571 - ETA: 18s - loss: 0.6869 - accuracy: 0.558 - ETA: 18s - loss: 0.6919 - accuracy: 0.539 - ETA: 18s - loss: 0.6885 - accuracy: 0.551 - ETA: 18s - loss: 0.6875 - accuracy: 0.555 - ETA: 18s - loss: 0.6866 - accuracy: 0.559 - ETA: 18s - loss: 0.6845 - accuracy: 0.568 - ETA: 18s - loss: 0.6867 - accuracy: 0.559 - ETA: 18s - loss: 0.6858 - accuracy: 0.562 - ETA: 18s - loss: 0.6850 - accuracy: 0.565 - ETA: 18s - loss: 0.6884 - accuracy: 0.552 - ETA: 17s - loss: 0.6887 - accuracy: 0.550 - ETA: 17s - loss: 0.6916 - accuracy: 0.538 - ETA: 17s - loss: 0.6928 - accuracy: 0.532 - ETA: 17s - loss: 0.6920 - accuracy: 0.535 - ETA: 17s - loss: 0.6933 - accuracy: 0.530 - ETA: 17s - loss: 0.6924 - accuracy: 0.533 - ETA: 17s - loss: 0.6909 - accuracy: 0.540 - ETA: 17s - loss: 0.6917 - accuracy: 0.539 - ETA: 17s - loss: 0.6895 - accuracy: 0.549 - ETA: 17s - loss: 0.6883 - accuracy: 0.555 - ETA: 17s - loss: 0.6887 - accuracy: 0.553 - ETA: 16s - loss: 0.6873 - accuracy: 0.559 - ETA: 16s - loss: 0.6854 - accuracy: 0.567 - ETA: 16s - loss: 0.6878 - accuracy: 0.559 - ETA: 16s - loss: 0.6881 - accuracy: 0.557 - ETA: 16s - loss: 0.6883 - accuracy: 0.556 - ETA: 16s - loss: 0.6885 - accuracy: 0.554 - ETA: 16s - loss: 0.6887 - accuracy: 0.553 - ETA: 16s - loss: 0.6896 - accuracy: 0.549 - ETA: 16s - loss: 0.6886 - accuracy: 0.554 - ETA: 15s - loss: 0.6876 - accuracy: 0.558 - ETA: 15s - loss: 0.6885 - accuracy: 0.554 - ETA: 15s - loss: 0.6881 - accuracy: 0.555 - ETA: 15s - loss: 0.6877 - accuracy: 0.557 - ETA: 15s - loss: 0.6873 - accuracy: 0.558 - ETA: 15s - loss: 0.6857 - accuracy: 0.565 - ETA: 15s - loss: 0.6854 - accuracy: 0.566 - ETA: 15s - loss: 0.6851 - accuracy: 0.567 - ETA: 15s - loss: 0.6866 - accuracy: 0.561 - ETA: 15s - loss: 0.6856 - accuracy: 0.564 - ETA: 15s - loss: 0.6859 - accuracy: 0.563 - ETA: 14s - loss: 0.6874 - accuracy: 0.558 - ETA: 14s - loss: 0.6865 - accuracy: 0.561 - ETA: 14s - loss: 0.6873 - accuracy: 0.558 - ETA: 14s - loss: 0.6876 - accuracy: 0.557 - ETA: 14s - loss: 0.6872 - accuracy: 0.558 - ETA: 14s - loss: 0.6875 - accuracy: 0.557 - ETA: 14s - loss: 0.6866 - accuracy: 0.560 - ETA: 14s - loss: 0.6864 - accuracy: 0.561 - ETA: 14s - loss: 0.6876 - accuracy: 0.556 - ETA: 14s - loss: 0.6878 - accuracy: 0.555 - ETA: 13s - loss: 0.6872 - accuracy: 0.556 - ETA: 13s - loss: 0.6874 - accuracy: 0.556 - ETA: 13s - loss: 0.6870 - accuracy: 0.555 - ETA: 13s - loss: 0.6867 - accuracy: 0.556 - ETA: 13s - loss: 0.6864 - accuracy: 0.557 - ETA: 13s - loss: 0.6863 - accuracy: 0.558 - ETA: 13s - loss: 0.6870 - accuracy: 0.555 - ETA: 13s - loss: 0.6864 - accuracy: 0.556 - ETA: 13s - loss: 0.6872 - accuracy: 0.554 - ETA: 12s - loss: 0.6872 - accuracy: 0.553 - ETA: 12s - loss: 0.6861 - accuracy: 0.555 - ETA: 12s - loss: 0.6857 - accuracy: 0.556 - ETA: 12s - loss: 0.6857 - accuracy: 0.556 - ETA: 12s - loss: 0.6852 - accuracy: 0.558 - ETA: 12s - loss: 0.6860 - accuracy: 0.556 - ETA: 12s - loss: 0.6849 - accuracy: 0.557 - ETA: 12s - loss: 0.6872 - accuracy: 0.553 - ETA: 12s - loss: 0.6851 - accuracy: 0.555 - ETA: 12s - loss: 0.6854 - accuracy: 0.553 - ETA: 12s - loss: 0.6888 - accuracy: 0.552 - ETA: 11s - loss: 0.6889 - accuracy: 0.550 - ETA: 11s - loss: 0.6871 - accuracy: 0.551 - ETA: 11s - loss: 0.6865 - accuracy: 0.551 - ETA: 11s - loss: 0.6874 - accuracy: 0.550 - ETA: 11s - loss: 0.6874 - accuracy: 0.550 - ETA: 11s - loss: 0.6860 - accuracy: 0.552 - ETA: 11s - loss: 0.6861 - accuracy: 0.550 - ETA: 11s - loss: 0.6864 - accuracy: 0.551 - ETA: 11s - loss: 0.6867 - accuracy: 0.550 - ETA: 11s - loss: 0.6864 - accuracy: 0.550 - ETA: 10s - loss: 0.6849 - accuracy: 0.554 - ETA: 10s - loss: 0.6830 - accuracy: 0.556 - ETA: 10s - loss: 0.6839 - accuracy: 0.558 - ETA: 10s - loss: 0.6825 - accuracy: 0.559 - ETA: 10s - loss: 0.6838 - accuracy: 0.560 - ETA: 10s - loss: 0.6890 - accuracy: 0.554 - ETA: 10s - loss: 0.6895 - accuracy: 0.552 - ETA: 10s - loss: 0.6895 - accuracy: 0.553 - ETA: 10s - loss: 0.6893 - accuracy: 0.555 - ETA: 10s - loss: 0.6890 - accuracy: 0.557 - ETA: 9s - loss: 0.6889 - accuracy: 0.557 - ETA: 9s - loss: 0.6888 - accuracy: 0.55 - ETA: 9s - loss: 0.6890 - accuracy: 0.55 - ETA: 9s - loss: 0.6897 - accuracy: 0.55 - ETA: 9s - loss: 0.6898 - accuracy: 0.55 - ETA: 9s - loss: 0.6893 - accuracy: 0.55 - ETA: 9s - loss: 0.6891 - accuracy: 0.55 - ETA: 9s - loss: 0.6892 - accuracy: 0.55 - ETA: 9s - loss: 0.6893 - accuracy: 0.55 - ETA: 9s - loss: 0.6890 - accuracy: 0.55 - ETA: 8s - loss: 0.6884 - accuracy: 0.55 - ETA: 8s - loss: 0.6889 - accuracy: 0.55 - ETA: 8s - loss: 0.6888 - accuracy: 0.55 - ETA: 8s - loss: 0.6884 - accuracy: 0.55 - ETA: 8s - loss: 0.6883 - accuracy: 0.55 - ETA: 8s - loss: 0.6879 - accuracy: 0.56 - ETA: 8s - loss: 0.6878 - accuracy: 0.56 - ETA: 8s - loss: 0.6879 - accuracy: 0.56 - ETA: 8s - loss: 0.6875 - accuracy: 0.56 - ETA: 8s - loss: 0.6871 - accuracy: 0.56 - ETA: 7s - loss: 0.6867 - accuracy: 0.56 - ETA: 7s - loss: 0.6860 - accuracy: 0.56 - ETA: 7s - loss: 0.6855 - accuracy: 0.56 - ETA: 7s - loss: 0.6860 - accuracy: 0.56 - ETA: 7s - loss: 0.6862 - accuracy: 0.56 - ETA: 7s - loss: 0.6860 - accuracy: 0.56 - ETA: 7s - loss: 0.6858 - accuracy: 0.56 - ETA: 7s - loss: 0.6857 - accuracy: 0.56 - ETA: 7s - loss: 0.6851 - accuracy: 0.57 - ETA: 7s - loss: 0.6846 - accuracy: 0.57 - ETA: 6s - loss: 0.6844 - accuracy: 0.57 - ETA: 6s - loss: 0.6834 - accuracy: 0.57 - ETA: 6s - loss: 0.6824 - accuracy: 0.57 - ETA: 6s - loss: 0.6823 - accuracy: 0.57 - ETA: 6s - loss: 0.6816 - accuracy: 0.57 - ETA: 6s - loss: 0.6820 - accuracy: 0.57 - ETA: 6s - loss: 0.6808 - accuracy: 0.57 - ETA: 6s - loss: 0.6813 - accuracy: 0.57 - ETA: 6s - loss: 0.6806 - accuracy: 0.57 - ETA: 6s - loss: 0.6805 - accuracy: 0.58 - ETA: 5s - loss: 0.6816 - accuracy: 0.57 - ETA: 5s - loss: 0.6809 - accuracy: 0.57 - ETA: 5s - loss: 0.6814 - accuracy: 0.57 - ETA: 5s - loss: 0.6813 - accuracy: 0.57 - ETA: 5s - loss: 0.6818 - accuracy: 0.57 - ETA: 5s - loss: 0.6811 - accuracy: 0.58 - ETA: 5s - loss: 0.6805 - accuracy: 0.58 - ETA: 5s - loss: 0.6804 - accuracy: 0.58 - ETA: 5s - loss: 0.6808 - accuracy: 0.58 - ETA: 5s - loss: 0.6802 - accuracy: 0.58 - ETA: 4s - loss: 0.6795 - accuracy: 0.58 - ETA: 4s - loss: 0.6804 - accuracy: 0.58 - ETA: 4s - loss: 0.6808 - accuracy: 0.58 - ETA: 4s - loss: 0.6807 - accuracy: 0.58 - ETA: 4s - loss: 0.6810 - accuracy: 0.58 - ETA: 4s - loss: 0.6813 - accuracy: 0.58 - ETA: 4s - loss: 0.6808 - accuracy: 0.58 - ETA: 4s - loss: 0.6807 - accuracy: 0.58 - ETA: 4s - loss: 0.6810 - accuracy: 0.58 - ETA: 4s - loss: 0.6816 - accuracy: 0.58 - ETA: 3s - loss: 0.6815 - accuracy: 0.58 - ETA: 3s - loss: 0.6817 - accuracy: 0.58 - ETA: 3s - loss: 0.6812 - accuracy: 0.58 - ETA: 3s - loss: 0.6811 - accuracy: 0.58 - ETA: 3s - loss: 0.6804 - accuracy: 0.58 - ETA: 3s - loss: 0.6809 - accuracy: 0.58 - ETA: 3s - loss: 0.6810 - accuracy: 0.58 - ETA: 3s - loss: 0.6812 - accuracy: 0.58 - ETA: 3s - loss: 0.6811 - accuracy: 0.58 - ETA: 3s - loss: 0.6810 - accuracy: 0.58 - ETA: 2s - loss: 0.6809 - accuracy: 0.58 - ETA: 2s - loss: 0.6810 - accuracy: 0.58 - ETA: 2s - loss: 0.6813 - accuracy: 0.58 - ETA: 2s - loss: 0.6841 - accuracy: 0.57 - ETA: 2s - loss: 0.6845 - accuracy: 0.57 - ETA: 2s - loss: 0.6844 - accuracy: 0.57 - ETA: 2s - loss: 0.6843 - accuracy: 0.57 - ETA: 2s - loss: 0.6842 - accuracy: 0.57 - ETA: 2s - loss: 0.6843 - accuracy: 0.57 - ETA: 2s - loss: 0.6844 - accuracy: 0.57 - ETA: 1s - loss: 0.6843 - accuracy: 0.57 - ETA: 1s - loss: 0.6839 - accuracy: 0.58 - ETA: 1s - loss: 0.6838 - accuracy: 0.58 - ETA: 1s - loss: 0.6839 - accuracy: 0.58001646/1646 [==============================] - ETA: 1s - loss: 0.6834 - accuracy: 0.58 - ETA: 1s - loss: 0.6830 - accuracy: 0.58 - ETA: 1s - loss: 0.6833 - accuracy: 0.58 - ETA: 1s - loss: 0.6832 - accuracy: 0.58 - ETA: 1s - loss: 0.6832 - accuracy: 0.58 - ETA: 1s - loss: 0.6833 - accuracy: 0.58 - ETA: 0s - loss: 0.6829 - accuracy: 0.58 - ETA: 0s - loss: 0.6877 - accuracy: 0.58 - ETA: 0s - loss: 0.6884 - accuracy: 0.58 - ETA: 0s - loss: 0.6882 - accuracy: 0.58 - ETA: 0s - loss: 0.6882 - accuracy: 0.58 - ETA: 0s - loss: 0.6881 - accuracy: 0.58 - ETA: 0s - loss: 0.6881 - accuracy: 0.58 - ETA: 0s - loss: 0.6880 - accuracy: 0.58 - ETA: 0s - loss: 0.6879 - accuracy: 0.58 - ETA: 0s - loss: 0.6878 - accuracy: 0.58 - 21s 13ms/sample - loss: 0.6878 - accuracy: 0.5844\n",
      "Epoch 4/10\n",
      "1512/1646 [==========================>...] - ETA: 17s - loss: 0.6787 - accuracy: 0.625 - ETA: 18s - loss: 0.6797 - accuracy: 0.625 - ETA: 19s - loss: 0.6721 - accuracy: 0.666 - ETA: 20s - loss: 0.6745 - accuracy: 0.656 - ETA: 19s - loss: 0.6789 - accuracy: 0.625 - ETA: 19s - loss: 0.6782 - accuracy: 0.625 - ETA: 19s - loss: 0.6710 - accuracy: 0.660 - ETA: 19s - loss: 0.6712 - accuracy: 0.656 - ETA: 19s - loss: 0.6713 - accuracy: 0.652 - ETA: 19s - loss: 0.6742 - accuracy: 0.637 - ETA: 19s - loss: 0.6711 - accuracy: 0.647 - ETA: 19s - loss: 0.6684 - accuracy: 0.656 - ETA: 19s - loss: 0.6684 - accuracy: 0.653 - ETA: 19s - loss: 0.6709 - accuracy: 0.642 - ETA: 19s - loss: 0.6706 - accuracy: 0.641 - ETA: 19s - loss: 0.6704 - accuracy: 0.640 - ETA: 18s - loss: 0.6701 - accuracy: 0.639 - ETA: 18s - loss: 0.6677 - accuracy: 0.645 - ETA: 18s - loss: 0.6653 - accuracy: 0.651 - ETA: 18s - loss: 0.6631 - accuracy: 0.656 - ETA: 18s - loss: 0.6631 - accuracy: 0.654 - ETA: 18s - loss: 0.6610 - accuracy: 0.659 - ETA: 18s - loss: 0.6654 - accuracy: 0.646 - ETA: 18s - loss: 0.6632 - accuracy: 0.651 - ETA: 18s - loss: 0.6610 - accuracy: 0.655 - ETA: 18s - loss: 0.6632 - accuracy: 0.649 - ETA: 18s - loss: 0.6631 - accuracy: 0.648 - ETA: 17s - loss: 0.6672 - accuracy: 0.638 - ETA: 17s - loss: 0.6671 - accuracy: 0.637 - ETA: 17s - loss: 0.6669 - accuracy: 0.637 - ETA: 17s - loss: 0.6687 - accuracy: 0.633 - ETA: 17s - loss: 0.6647 - accuracy: 0.640 - ETA: 17s - loss: 0.6646 - accuracy: 0.640 - ETA: 17s - loss: 0.6645 - accuracy: 0.639 - ETA: 17s - loss: 0.6680 - accuracy: 0.632 - ETA: 17s - loss: 0.6713 - accuracy: 0.625 - ETA: 17s - loss: 0.6743 - accuracy: 0.618 - ETA: 16s - loss: 0.6771 - accuracy: 0.611 - ETA: 16s - loss: 0.6752 - accuracy: 0.615 - ETA: 16s - loss: 0.6735 - accuracy: 0.618 - ETA: 16s - loss: 0.6732 - accuracy: 0.618 - ETA: 16s - loss: 0.6743 - accuracy: 0.616 - ETA: 16s - loss: 0.6740 - accuracy: 0.616 - ETA: 16s - loss: 0.6714 - accuracy: 0.622 - ETA: 16s - loss: 0.6712 - accuracy: 0.622 - ETA: 16s - loss: 0.6721 - accuracy: 0.619 - ETA: 16s - loss: 0.6741 - accuracy: 0.614 - ETA: 15s - loss: 0.6728 - accuracy: 0.617 - ETA: 15s - loss: 0.6737 - accuracy: 0.614 - ETA: 15s - loss: 0.6744 - accuracy: 0.612 - ETA: 15s - loss: 0.6742 - accuracy: 0.612 - ETA: 15s - loss: 0.6740 - accuracy: 0.613 - ETA: 15s - loss: 0.6756 - accuracy: 0.608 - ETA: 15s - loss: 0.6755 - accuracy: 0.608 - ETA: 15s - loss: 0.6753 - accuracy: 0.609 - ETA: 15s - loss: 0.6734 - accuracy: 0.613 - ETA: 15s - loss: 0.6741 - accuracy: 0.611 - ETA: 14s - loss: 0.6755 - accuracy: 0.607 - ETA: 14s - loss: 0.6760 - accuracy: 0.605 - ETA: 14s - loss: 0.6766 - accuracy: 0.604 - ETA: 14s - loss: 0.6750 - accuracy: 0.608 - ETA: 14s - loss: 0.6762 - accuracy: 0.604 - ETA: 14s - loss: 0.6774 - accuracy: 0.601 - ETA: 14s - loss: 0.6765 - accuracy: 0.603 - ETA: 14s - loss: 0.6783 - accuracy: 0.598 - ETA: 14s - loss: 0.6775 - accuracy: 0.600 - ETA: 13s - loss: 0.6773 - accuracy: 0.600 - ETA: 13s - loss: 0.6772 - accuracy: 0.601 - ETA: 13s - loss: 0.6776 - accuracy: 0.599 - ETA: 13s - loss: 0.6780 - accuracy: 0.598 - ETA: 13s - loss: 0.6778 - accuracy: 0.598 - ETA: 13s - loss: 0.6771 - accuracy: 0.600 - ETA: 13s - loss: 0.6765 - accuracy: 0.602 - ETA: 13s - loss: 0.6768 - accuracy: 0.601 - ETA: 13s - loss: 0.6757 - accuracy: 0.605 - ETA: 13s - loss: 0.6756 - accuracy: 0.605 - ETA: 12s - loss: 0.6749 - accuracy: 0.607 - ETA: 12s - loss: 0.6738 - accuracy: 0.610 - ETA: 12s - loss: 0.6737 - accuracy: 0.610 - ETA: 12s - loss: 0.6730 - accuracy: 0.612 - ETA: 12s - loss: 0.6718 - accuracy: 0.615 - ETA: 12s - loss: 0.6729 - accuracy: 0.612 - ETA: 12s - loss: 0.6727 - accuracy: 0.613 - ETA: 12s - loss: 0.6738 - accuracy: 0.610 - ETA: 12s - loss: 0.6737 - accuracy: 0.610 - ETA: 12s - loss: 0.6730 - accuracy: 0.611 - ETA: 11s - loss: 0.6728 - accuracy: 0.612 - ETA: 11s - loss: 0.6721 - accuracy: 0.613 - ETA: 11s - loss: 0.6714 - accuracy: 0.615 - ETA: 11s - loss: 0.6707 - accuracy: 0.616 - ETA: 11s - loss: 0.6706 - accuracy: 0.616 - ETA: 11s - loss: 0.6698 - accuracy: 0.618 - ETA: 11s - loss: 0.6691 - accuracy: 0.619 - ETA: 11s - loss: 0.6690 - accuracy: 0.619 - ETA: 11s - loss: 0.6696 - accuracy: 0.618 - ETA: 11s - loss: 0.6695 - accuracy: 0.618 - ETA: 10s - loss: 0.6702 - accuracy: 0.617 - ETA: 10s - loss: 0.6701 - accuracy: 0.617 - ETA: 10s - loss: 0.6721 - accuracy: 0.613 - ETA: 10s - loss: 0.6727 - accuracy: 0.612 - ETA: 10s - loss: 0.6732 - accuracy: 0.611 - ETA: 10s - loss: 0.6725 - accuracy: 0.612 - ETA: 10s - loss: 0.6724 - accuracy: 0.612 - ETA: 10s - loss: 0.6729 - accuracy: 0.611 - ETA: 10s - loss: 0.6728 - accuracy: 0.611 - ETA: 10s - loss: 0.6721 - accuracy: 0.613 - ETA: 9s - loss: 0.6708 - accuracy: 0.615 - ETA: 9s - loss: 0.6702 - accuracy: 0.61 - ETA: 9s - loss: 0.6701 - accuracy: 0.61 - ETA: 9s - loss: 0.6712 - accuracy: 0.61 - ETA: 9s - loss: 0.6716 - accuracy: 0.61 - ETA: 9s - loss: 0.6710 - accuracy: 0.61 - ETA: 9s - loss: 0.6726 - accuracy: 0.61 - ETA: 9s - loss: 0.6725 - accuracy: 0.61 - ETA: 9s - loss: 0.6734 - accuracy: 0.60 - ETA: 9s - loss: 0.6743 - accuracy: 0.60 - ETA: 8s - loss: 0.6752 - accuracy: 0.60 - ETA: 8s - loss: 0.6741 - accuracy: 0.60 - ETA: 8s - loss: 0.6749 - accuracy: 0.60 - ETA: 8s - loss: 0.6752 - accuracy: 0.60 - ETA: 8s - loss: 0.6764 - accuracy: 0.60 - ETA: 8s - loss: 0.6766 - accuracy: 0.60 - ETA: 8s - loss: 0.6776 - accuracy: 0.59 - ETA: 8s - loss: 0.6768 - accuracy: 0.60 - ETA: 8s - loss: 0.6771 - accuracy: 0.60 - ETA: 8s - loss: 0.6776 - accuracy: 0.59 - ETA: 7s - loss: 0.6775 - accuracy: 0.59 - ETA: 7s - loss: 0.6777 - accuracy: 0.59 - ETA: 7s - loss: 0.6774 - accuracy: 0.59 - ETA: 7s - loss: 0.6771 - accuracy: 0.60 - ETA: 7s - loss: 0.6775 - accuracy: 0.59 - ETA: 7s - loss: 0.6770 - accuracy: 0.60 - ETA: 7s - loss: 0.6776 - accuracy: 0.59 - ETA: 7s - loss: 0.6778 - accuracy: 0.59 - ETA: 7s - loss: 0.6777 - accuracy: 0.59 - ETA: 7s - loss: 0.6779 - accuracy: 0.59 - ETA: 6s - loss: 0.6776 - accuracy: 0.59 - ETA: 6s - loss: 0.6774 - accuracy: 0.59 - ETA: 6s - loss: 0.6773 - accuracy: 0.59 - ETA: 6s - loss: 0.6773 - accuracy: 0.59 - ETA: 6s - loss: 0.6775 - accuracy: 0.59 - ETA: 6s - loss: 0.6778 - accuracy: 0.59 - ETA: 6s - loss: 0.6776 - accuracy: 0.59 - ETA: 6s - loss: 0.6777 - accuracy: 0.59 - ETA: 6s - loss: 0.6781 - accuracy: 0.59 - ETA: 6s - loss: 0.6780 - accuracy: 0.59 - ETA: 5s - loss: 0.6780 - accuracy: 0.59 - ETA: 5s - loss: 0.6785 - accuracy: 0.59 - ETA: 5s - loss: 0.6785 - accuracy: 0.59 - ETA: 5s - loss: 0.6786 - accuracy: 0.59 - ETA: 5s - loss: 0.6789 - accuracy: 0.59 - ETA: 5s - loss: 0.6790 - accuracy: 0.59 - ETA: 5s - loss: 0.6793 - accuracy: 0.58 - ETA: 5s - loss: 0.6791 - accuracy: 0.59 - ETA: 5s - loss: 0.6791 - accuracy: 0.59 - ETA: 5s - loss: 0.6790 - accuracy: 0.59 - ETA: 4s - loss: 0.6788 - accuracy: 0.59 - ETA: 4s - loss: 0.6790 - accuracy: 0.59 - ETA: 4s - loss: 0.6796 - accuracy: 0.58 - ETA: 4s - loss: 0.6798 - accuracy: 0.58 - ETA: 4s - loss: 0.6800 - accuracy: 0.58 - ETA: 4s - loss: 0.6801 - accuracy: 0.58 - ETA: 4s - loss: 0.6803 - accuracy: 0.58 - ETA: 4s - loss: 0.6801 - accuracy: 0.58 - ETA: 4s - loss: 0.6801 - accuracy: 0.58 - ETA: 4s - loss: 0.6802 - accuracy: 0.58 - ETA: 3s - loss: 0.6803 - accuracy: 0.58 - ETA: 3s - loss: 0.6802 - accuracy: 0.58 - ETA: 3s - loss: 0.6803 - accuracy: 0.58 - ETA: 3s - loss: 0.6805 - accuracy: 0.58 - ETA: 3s - loss: 0.6802 - accuracy: 0.58 - ETA: 3s - loss: 0.6801 - accuracy: 0.58 - ETA: 3s - loss: 0.6800 - accuracy: 0.58 - ETA: 3s - loss: 0.6799 - accuracy: 0.58 - ETA: 3s - loss: 0.6801 - accuracy: 0.58 - ETA: 3s - loss: 0.6802 - accuracy: 0.58 - ETA: 2s - loss: 0.6804 - accuracy: 0.58 - ETA: 2s - loss: 0.6805 - accuracy: 0.58 - ETA: 2s - loss: 0.6804 - accuracy: 0.58 - ETA: 2s - loss: 0.6806 - accuracy: 0.58 - ETA: 2s - loss: 0.6803 - accuracy: 0.58 - ETA: 2s - loss: 0.6806 - accuracy: 0.58 - ETA: 2s - loss: 0.6805 - accuracy: 0.58 - ETA: 2s - loss: 0.6806 - accuracy: 0.58 - ETA: 2s - loss: 0.6807 - accuracy: 0.58 - ETA: 1s - loss: 0.6805 - accuracy: 0.58 - ETA: 1s - loss: 0.6803 - accuracy: 0.58 - ETA: 1s - loss: 0.6802 - accuracy: 0.58 - ETA: 1s - loss: 0.6801 - accuracy: 0.58731646/1646 [==============================] - ETA: 1s - loss: 0.6801 - accuracy: 0.58 - ETA: 1s - loss: 0.6801 - accuracy: 0.58 - ETA: 1s - loss: 0.6799 - accuracy: 0.58 - ETA: 1s - loss: 0.6800 - accuracy: 0.58 - ETA: 1s - loss: 0.6799 - accuracy: 0.58 - ETA: 1s - loss: 0.6800 - accuracy: 0.58 - ETA: 0s - loss: 0.6801 - accuracy: 0.58 - ETA: 0s - loss: 0.6801 - accuracy: 0.58 - ETA: 0s - loss: 0.6800 - accuracy: 0.58 - ETA: 0s - loss: 0.6801 - accuracy: 0.58 - ETA: 0s - loss: 0.6802 - accuracy: 0.58 - ETA: 0s - loss: 0.6802 - accuracy: 0.58 - ETA: 0s - loss: 0.6805 - accuracy: 0.58 - ETA: 0s - loss: 0.6807 - accuracy: 0.58 - ETA: 0s - loss: 0.6810 - accuracy: 0.58 - ETA: 0s - loss: 0.6808 - accuracy: 0.58 - 21s 13ms/sample - loss: 0.6804 - accuracy: 0.5863\n",
      "Epoch 5/10\n",
      "1512/1646 [==========================>...] - ETA: 20s - loss: 0.6693 - accuracy: 0.625 - ETA: 19s - loss: 0.6529 - accuracy: 0.687 - ETA: 19s - loss: 0.6693 - accuracy: 0.625 - ETA: 20s - loss: 0.6606 - accuracy: 0.656 - ETA: 20s - loss: 0.6621 - accuracy: 0.650 - ETA: 20s - loss: 0.6689 - accuracy: 0.625 - ETA: 19s - loss: 0.6739 - accuracy: 0.607 - ETA: 19s - loss: 0.6731 - accuracy: 0.609 - ETA: 19s - loss: 0.6765 - accuracy: 0.597 - ETA: 19s - loss: 0.6830 - accuracy: 0.575 - ETA: 19s - loss: 0.6882 - accuracy: 0.556 - ETA: 19s - loss: 0.6865 - accuracy: 0.562 - ETA: 19s - loss: 0.6878 - accuracy: 0.557 - ETA: 19s - loss: 0.6864 - accuracy: 0.562 - ETA: 19s - loss: 0.6827 - accuracy: 0.575 - ETA: 19s - loss: 0.6840 - accuracy: 0.570 - ETA: 19s - loss: 0.6873 - accuracy: 0.558 - ETA: 18s - loss: 0.6882 - accuracy: 0.555 - ETA: 18s - loss: 0.6871 - accuracy: 0.559 - ETA: 18s - loss: 0.6861 - accuracy: 0.562 - ETA: 18s - loss: 0.6836 - accuracy: 0.571 - ETA: 18s - loss: 0.6845 - accuracy: 0.568 - ETA: 18s - loss: 0.6822 - accuracy: 0.576 - ETA: 18s - loss: 0.6816 - accuracy: 0.578 - ETA: 18s - loss: 0.6796 - accuracy: 0.585 - ETA: 18s - loss: 0.6778 - accuracy: 0.591 - ETA: 18s - loss: 0.6801 - accuracy: 0.583 - ETA: 18s - loss: 0.6823 - accuracy: 0.575 - ETA: 17s - loss: 0.6818 - accuracy: 0.577 - ETA: 17s - loss: 0.6813 - accuracy: 0.579 - ETA: 17s - loss: 0.6808 - accuracy: 0.580 - ETA: 17s - loss: 0.6828 - accuracy: 0.574 - ETA: 17s - loss: 0.6834 - accuracy: 0.572 - ETA: 17s - loss: 0.6852 - accuracy: 0.566 - ETA: 17s - loss: 0.6836 - accuracy: 0.571 - ETA: 17s - loss: 0.6841 - accuracy: 0.569 - ETA: 17s - loss: 0.6827 - accuracy: 0.574 - ETA: 16s - loss: 0.6832 - accuracy: 0.572 - ETA: 16s - loss: 0.6847 - accuracy: 0.567 - ETA: 16s - loss: 0.6843 - accuracy: 0.568 - ETA: 16s - loss: 0.6839 - accuracy: 0.570 - ETA: 16s - loss: 0.6835 - accuracy: 0.571 - ETA: 16s - loss: 0.6839 - accuracy: 0.569 - ETA: 16s - loss: 0.6836 - accuracy: 0.571 - ETA: 16s - loss: 0.6824 - accuracy: 0.575 - ETA: 16s - loss: 0.6813 - accuracy: 0.578 - ETA: 16s - loss: 0.6802 - accuracy: 0.582 - ETA: 15s - loss: 0.6815 - accuracy: 0.578 - ETA: 15s - loss: 0.6805 - accuracy: 0.581 - ETA: 15s - loss: 0.6817 - accuracy: 0.577 - ETA: 15s - loss: 0.6829 - accuracy: 0.573 - ETA: 15s - loss: 0.6826 - accuracy: 0.574 - ETA: 15s - loss: 0.6830 - accuracy: 0.573 - ETA: 15s - loss: 0.6820 - accuracy: 0.576 - ETA: 15s - loss: 0.6817 - accuracy: 0.577 - ETA: 15s - loss: 0.6801 - accuracy: 0.582 - ETA: 15s - loss: 0.6785 - accuracy: 0.587 - ETA: 14s - loss: 0.6790 - accuracy: 0.586 - ETA: 14s - loss: 0.6794 - accuracy: 0.584 - ETA: 14s - loss: 0.6792 - accuracy: 0.585 - ETA: 14s - loss: 0.6797 - accuracy: 0.584 - ETA: 14s - loss: 0.6787 - accuracy: 0.586 - ETA: 14s - loss: 0.6785 - accuracy: 0.587 - ETA: 14s - loss: 0.6790 - accuracy: 0.585 - ETA: 14s - loss: 0.6781 - accuracy: 0.588 - ETA: 14s - loss: 0.6772 - accuracy: 0.590 - ETA: 14s - loss: 0.6777 - accuracy: 0.589 - ETA: 13s - loss: 0.6781 - accuracy: 0.588 - ETA: 13s - loss: 0.6793 - accuracy: 0.585 - ETA: 13s - loss: 0.6798 - accuracy: 0.583 - ETA: 13s - loss: 0.6795 - accuracy: 0.584 - ETA: 13s - loss: 0.6800 - accuracy: 0.583 - ETA: 13s - loss: 0.6791 - accuracy: 0.585 - ETA: 13s - loss: 0.6795 - accuracy: 0.584 - ETA: 13s - loss: 0.6787 - accuracy: 0.586 - ETA: 13s - loss: 0.6791 - accuracy: 0.585 - ETA: 13s - loss: 0.6789 - accuracy: 0.586 - ETA: 12s - loss: 0.6811 - accuracy: 0.580 - ETA: 12s - loss: 0.6809 - accuracy: 0.580 - ETA: 12s - loss: 0.6796 - accuracy: 0.584 - ETA: 12s - loss: 0.6788 - accuracy: 0.586 - ETA: 12s - loss: 0.6775 - accuracy: 0.589 - ETA: 12s - loss: 0.6768 - accuracy: 0.591 - ETA: 12s - loss: 0.6761 - accuracy: 0.593 - ETA: 12s - loss: 0.6760 - accuracy: 0.594 - ETA: 12s - loss: 0.6764 - accuracy: 0.593 - ETA: 12s - loss: 0.6780 - accuracy: 0.589 - ETA: 11s - loss: 0.6784 - accuracy: 0.588 - ETA: 11s - loss: 0.6776 - accuracy: 0.589 - ETA: 11s - loss: 0.6775 - accuracy: 0.590 - ETA: 11s - loss: 0.6784 - accuracy: 0.587 - ETA: 11s - loss: 0.6783 - accuracy: 0.588 - ETA: 11s - loss: 0.6786 - accuracy: 0.587 - ETA: 11s - loss: 0.6795 - accuracy: 0.585 - ETA: 11s - loss: 0.6788 - accuracy: 0.586 - ETA: 11s - loss: 0.6787 - accuracy: 0.587 - ETA: 11s - loss: 0.6795 - accuracy: 0.585 - ETA: 10s - loss: 0.6793 - accuracy: 0.585 - ETA: 10s - loss: 0.6787 - accuracy: 0.587 - ETA: 10s - loss: 0.6781 - accuracy: 0.588 - ETA: 10s - loss: 0.6780 - accuracy: 0.589 - ETA: 10s - loss: 0.6783 - accuracy: 0.588 - ETA: 10s - loss: 0.6786 - accuracy: 0.587 - ETA: 10s - loss: 0.6793 - accuracy: 0.585 - ETA: 10s - loss: 0.6796 - accuracy: 0.584 - ETA: 10s - loss: 0.6791 - accuracy: 0.586 - ETA: 10s - loss: 0.6793 - accuracy: 0.585 - ETA: 9s - loss: 0.6796 - accuracy: 0.584 - ETA: 9s - loss: 0.6791 - accuracy: 0.58 - ETA: 9s - loss: 0.6782 - accuracy: 0.58 - ETA: 9s - loss: 0.6780 - accuracy: 0.58 - ETA: 9s - loss: 0.6775 - accuracy: 0.59 - ETA: 9s - loss: 0.6778 - accuracy: 0.58 - ETA: 9s - loss: 0.6785 - accuracy: 0.58 - ETA: 9s - loss: 0.6784 - accuracy: 0.58 - ETA: 9s - loss: 0.6778 - accuracy: 0.58 - ETA: 8s - loss: 0.6785 - accuracy: 0.58 - ETA: 8s - loss: 0.6788 - accuracy: 0.58 - ETA: 8s - loss: 0.6787 - accuracy: 0.58 - ETA: 8s - loss: 0.6785 - accuracy: 0.58 - ETA: 8s - loss: 0.6777 - accuracy: 0.58 - ETA: 8s - loss: 0.6776 - accuracy: 0.59 - ETA: 8s - loss: 0.6775 - accuracy: 0.59 - ETA: 8s - loss: 0.6777 - accuracy: 0.58 - ETA: 8s - loss: 0.6776 - accuracy: 0.59 - ETA: 8s - loss: 0.6779 - accuracy: 0.58 - ETA: 7s - loss: 0.6781 - accuracy: 0.58 - ETA: 7s - loss: 0.6773 - accuracy: 0.59 - ETA: 7s - loss: 0.6783 - accuracy: 0.58 - ETA: 7s - loss: 0.6778 - accuracy: 0.58 - ETA: 7s - loss: 0.6781 - accuracy: 0.58 - ETA: 7s - loss: 0.6787 - accuracy: 0.58 - ETA: 7s - loss: 0.6789 - accuracy: 0.58 - ETA: 7s - loss: 0.6795 - accuracy: 0.58 - ETA: 7s - loss: 0.6787 - accuracy: 0.58 - ETA: 7s - loss: 0.6793 - accuracy: 0.58 - ETA: 6s - loss: 0.6788 - accuracy: 0.58 - ETA: 6s - loss: 0.6794 - accuracy: 0.58 - ETA: 6s - loss: 0.6793 - accuracy: 0.58 - ETA: 6s - loss: 0.6785 - accuracy: 0.58 - ETA: 6s - loss: 0.6791 - accuracy: 0.58 - ETA: 6s - loss: 0.6790 - accuracy: 0.58 - ETA: 6s - loss: 0.6783 - accuracy: 0.58 - ETA: 6s - loss: 0.6776 - accuracy: 0.59 - ETA: 6s - loss: 0.6781 - accuracy: 0.58 - ETA: 6s - loss: 0.6777 - accuracy: 0.58 - ETA: 5s - loss: 0.6773 - accuracy: 0.59 - ETA: 5s - loss: 0.6773 - accuracy: 0.59 - ETA: 5s - loss: 0.6775 - accuracy: 0.59 - ETA: 5s - loss: 0.6774 - accuracy: 0.59 - ETA: 5s - loss: 0.6770 - accuracy: 0.59 - ETA: 5s - loss: 0.6775 - accuracy: 0.59 - ETA: 5s - loss: 0.6774 - accuracy: 0.59 - ETA: 5s - loss: 0.6770 - accuracy: 0.59 - ETA: 5s - loss: 0.6769 - accuracy: 0.59 - ETA: 5s - loss: 0.6768 - accuracy: 0.59 - ETA: 4s - loss: 0.6768 - accuracy: 0.59 - ETA: 4s - loss: 0.6770 - accuracy: 0.59 - ETA: 4s - loss: 0.6775 - accuracy: 0.59 - ETA: 4s - loss: 0.6775 - accuracy: 0.59 - ETA: 4s - loss: 0.6774 - accuracy: 0.59 - ETA: 4s - loss: 0.6779 - accuracy: 0.58 - ETA: 4s - loss: 0.6775 - accuracy: 0.59 - ETA: 4s - loss: 0.6771 - accuracy: 0.59 - ETA: 4s - loss: 0.6773 - accuracy: 0.59 - ETA: 4s - loss: 0.6778 - accuracy: 0.58 - ETA: 3s - loss: 0.6778 - accuracy: 0.58 - ETA: 3s - loss: 0.6777 - accuracy: 0.59 - ETA: 3s - loss: 0.6773 - accuracy: 0.59 - ETA: 3s - loss: 0.6769 - accuracy: 0.59 - ETA: 3s - loss: 0.6768 - accuracy: 0.59 - ETA: 3s - loss: 0.6773 - accuracy: 0.59 - ETA: 3s - loss: 0.6775 - accuracy: 0.59 - ETA: 3s - loss: 0.6777 - accuracy: 0.58 - ETA: 3s - loss: 0.6779 - accuracy: 0.58 - ETA: 3s - loss: 0.6781 - accuracy: 0.58 - ETA: 2s - loss: 0.6781 - accuracy: 0.58 - ETA: 2s - loss: 0.6782 - accuracy: 0.58 - ETA: 2s - loss: 0.6784 - accuracy: 0.58 - ETA: 2s - loss: 0.6776 - accuracy: 0.59 - ETA: 2s - loss: 0.6783 - accuracy: 0.58 - ETA: 2s - loss: 0.6782 - accuracy: 0.58 - ETA: 2s - loss: 0.6779 - accuracy: 0.58 - ETA: 2s - loss: 0.6780 - accuracy: 0.58 - ETA: 2s - loss: 0.6784 - accuracy: 0.58 - ETA: 2s - loss: 0.6793 - accuracy: 0.58 - ETA: 1s - loss: 0.6797 - accuracy: 0.58 - ETA: 1s - loss: 0.6794 - accuracy: 0.58 - ETA: 1s - loss: 0.6795 - accuracy: 0.58471646/1646 [==============================] - ETA: 1s - loss: 0.6796 - accuracy: 0.58 - ETA: 1s - loss: 0.6794 - accuracy: 0.58 - ETA: 1s - loss: 0.6795 - accuracy: 0.58 - ETA: 1s - loss: 0.6794 - accuracy: 0.58 - ETA: 1s - loss: 0.6796 - accuracy: 0.58 - ETA: 1s - loss: 0.6799 - accuracy: 0.58 - ETA: 0s - loss: 0.6798 - accuracy: 0.58 - ETA: 0s - loss: 0.6796 - accuracy: 0.58 - ETA: 0s - loss: 0.6794 - accuracy: 0.58 - ETA: 0s - loss: 0.6795 - accuracy: 0.58 - ETA: 0s - loss: 0.6793 - accuracy: 0.58 - ETA: 0s - loss: 0.6792 - accuracy: 0.58 - ETA: 0s - loss: 0.6790 - accuracy: 0.58 - ETA: 0s - loss: 0.6791 - accuracy: 0.58 - ETA: 0s - loss: 0.6789 - accuracy: 0.58 - ETA: 0s - loss: 0.6790 - accuracy: 0.58 - 21s 13ms/sample - loss: 0.6791 - accuracy: 0.5863\n",
      "Epoch 6/10\n",
      "1512/1646 [==========================>...] - ETA: 18s - loss: 0.7364 - accuracy: 0.375 - ETA: 20s - loss: 0.6854 - accuracy: 0.562 - ETA: 19s - loss: 0.6569 - accuracy: 0.666 - ETA: 19s - loss: 0.6422 - accuracy: 0.718 - ETA: 19s - loss: 0.6617 - accuracy: 0.650 - ETA: 19s - loss: 0.6626 - accuracy: 0.645 - ETA: 20s - loss: 0.6685 - accuracy: 0.625 - ETA: 19s - loss: 0.6636 - accuracy: 0.640 - ETA: 19s - loss: 0.6596 - accuracy: 0.652 - ETA: 19s - loss: 0.6563 - accuracy: 0.662 - ETA: 19s - loss: 0.6535 - accuracy: 0.670 - ETA: 19s - loss: 0.6580 - accuracy: 0.656 - ETA: 19s - loss: 0.6618 - accuracy: 0.644 - ETA: 19s - loss: 0.6620 - accuracy: 0.642 - ETA: 19s - loss: 0.6592 - accuracy: 0.650 - ETA: 19s - loss: 0.6566 - accuracy: 0.656 - ETA: 19s - loss: 0.6570 - accuracy: 0.654 - ETA: 18s - loss: 0.6628 - accuracy: 0.638 - ETA: 18s - loss: 0.6654 - accuracy: 0.631 - ETA: 18s - loss: 0.6702 - accuracy: 0.618 - ETA: 18s - loss: 0.6722 - accuracy: 0.613 - ETA: 18s - loss: 0.6763 - accuracy: 0.602 - ETA: 18s - loss: 0.6799 - accuracy: 0.592 - ETA: 18s - loss: 0.6793 - accuracy: 0.593 - ETA: 18s - loss: 0.6805 - accuracy: 0.590 - ETA: 18s - loss: 0.6799 - accuracy: 0.591 - ETA: 18s - loss: 0.6826 - accuracy: 0.583 - ETA: 18s - loss: 0.6851 - accuracy: 0.575 - ETA: 17s - loss: 0.6844 - accuracy: 0.577 - ETA: 17s - loss: 0.6824 - accuracy: 0.583 - ETA: 17s - loss: 0.6831 - accuracy: 0.580 - ETA: 17s - loss: 0.6851 - accuracy: 0.574 - ETA: 17s - loss: 0.6845 - accuracy: 0.575 - ETA: 17s - loss: 0.6829 - accuracy: 0.580 - ETA: 17s - loss: 0.6824 - accuracy: 0.582 - ETA: 17s - loss: 0.6820 - accuracy: 0.583 - ETA: 17s - loss: 0.6797 - accuracy: 0.591 - ETA: 17s - loss: 0.6822 - accuracy: 0.582 - ETA: 16s - loss: 0.6828 - accuracy: 0.580 - ETA: 16s - loss: 0.6833 - accuracy: 0.578 - ETA: 16s - loss: 0.6812 - accuracy: 0.585 - ETA: 16s - loss: 0.6809 - accuracy: 0.586 - ETA: 16s - loss: 0.6797 - accuracy: 0.590 - ETA: 16s - loss: 0.6778 - accuracy: 0.596 - ETA: 16s - loss: 0.6768 - accuracy: 0.600 - ETA: 16s - loss: 0.6782 - accuracy: 0.595 - ETA: 16s - loss: 0.6804 - accuracy: 0.587 - ETA: 15s - loss: 0.6809 - accuracy: 0.585 - ETA: 15s - loss: 0.6798 - accuracy: 0.589 - ETA: 15s - loss: 0.6796 - accuracy: 0.590 - ETA: 15s - loss: 0.6808 - accuracy: 0.585 - ETA: 15s - loss: 0.6813 - accuracy: 0.584 - ETA: 15s - loss: 0.6817 - accuracy: 0.582 - ETA: 15s - loss: 0.6822 - accuracy: 0.581 - ETA: 15s - loss: 0.6840 - accuracy: 0.575 - ETA: 15s - loss: 0.6843 - accuracy: 0.573 - ETA: 15s - loss: 0.6846 - accuracy: 0.572 - ETA: 14s - loss: 0.6850 - accuracy: 0.571 - ETA: 14s - loss: 0.6853 - accuracy: 0.569 - ETA: 14s - loss: 0.6844 - accuracy: 0.572 - ETA: 14s - loss: 0.6831 - accuracy: 0.577 - ETA: 14s - loss: 0.6823 - accuracy: 0.580 - ETA: 14s - loss: 0.6821 - accuracy: 0.581 - ETA: 14s - loss: 0.6830 - accuracy: 0.578 - ETA: 14s - loss: 0.6827 - accuracy: 0.578 - ETA: 14s - loss: 0.6830 - accuracy: 0.577 - ETA: 14s - loss: 0.6833 - accuracy: 0.576 - ETA: 13s - loss: 0.6836 - accuracy: 0.575 - ETA: 13s - loss: 0.6829 - accuracy: 0.577 - ETA: 13s - loss: 0.6841 - accuracy: 0.573 - ETA: 13s - loss: 0.6848 - accuracy: 0.570 - ETA: 13s - loss: 0.6850 - accuracy: 0.569 - ETA: 13s - loss: 0.6848 - accuracy: 0.570 - ETA: 13s - loss: 0.6846 - accuracy: 0.570 - ETA: 13s - loss: 0.6848 - accuracy: 0.570 - ETA: 13s - loss: 0.6854 - accuracy: 0.567 - ETA: 13s - loss: 0.6852 - accuracy: 0.568 - ETA: 12s - loss: 0.6858 - accuracy: 0.565 - ETA: 12s - loss: 0.6860 - accuracy: 0.564 - ETA: 12s - loss: 0.6858 - accuracy: 0.565 - ETA: 12s - loss: 0.6853 - accuracy: 0.567 - ETA: 12s - loss: 0.6848 - accuracy: 0.570 - ETA: 12s - loss: 0.6846 - accuracy: 0.570 - ETA: 12s - loss: 0.6845 - accuracy: 0.571 - ETA: 12s - loss: 0.6847 - accuracy: 0.570 - ETA: 12s - loss: 0.6839 - accuracy: 0.574 - ETA: 12s - loss: 0.6840 - accuracy: 0.573 - ETA: 11s - loss: 0.6839 - accuracy: 0.573 - ETA: 11s - loss: 0.6841 - accuracy: 0.573 - ETA: 11s - loss: 0.6839 - accuracy: 0.573 - ETA: 11s - loss: 0.6838 - accuracy: 0.574 - ETA: 11s - loss: 0.6836 - accuracy: 0.574 - ETA: 11s - loss: 0.6835 - accuracy: 0.575 - ETA: 11s - loss: 0.6833 - accuracy: 0.575 - ETA: 11s - loss: 0.6839 - accuracy: 0.573 - ETA: 11s - loss: 0.6840 - accuracy: 0.572 - ETA: 11s - loss: 0.6832 - accuracy: 0.576 - ETA: 10s - loss: 0.6834 - accuracy: 0.575 - ETA: 10s - loss: 0.6829 - accuracy: 0.577 - ETA: 10s - loss: 0.6825 - accuracy: 0.578 - ETA: 10s - loss: 0.6820 - accuracy: 0.580 - ETA: 10s - loss: 0.6829 - accuracy: 0.577 - ETA: 10s - loss: 0.6827 - accuracy: 0.577 - ETA: 10s - loss: 0.6826 - accuracy: 0.578 - ETA: 10s - loss: 0.6831 - accuracy: 0.576 - ETA: 10s - loss: 0.6830 - accuracy: 0.576 - ETA: 10s - loss: 0.6825 - accuracy: 0.578 - ETA: 9s - loss: 0.6816 - accuracy: 0.581 - ETA: 9s - loss: 0.6826 - accuracy: 0.57 - ETA: 9s - loss: 0.6821 - accuracy: 0.57 - ETA: 9s - loss: 0.6812 - accuracy: 0.58 - ETA: 9s - loss: 0.6811 - accuracy: 0.58 - ETA: 9s - loss: 0.6809 - accuracy: 0.58 - ETA: 9s - loss: 0.6804 - accuracy: 0.58 - ETA: 9s - loss: 0.6803 - accuracy: 0.58 - ETA: 9s - loss: 0.6805 - accuracy: 0.58 - ETA: 8s - loss: 0.6816 - accuracy: 0.58 - ETA: 8s - loss: 0.6826 - accuracy: 0.57 - ETA: 8s - loss: 0.6824 - accuracy: 0.57 - ETA: 8s - loss: 0.6827 - accuracy: 0.57 - ETA: 8s - loss: 0.6821 - accuracy: 0.57 - ETA: 8s - loss: 0.6824 - accuracy: 0.57 - ETA: 8s - loss: 0.6822 - accuracy: 0.57 - ETA: 8s - loss: 0.6814 - accuracy: 0.58 - ETA: 8s - loss: 0.6816 - accuracy: 0.58 - ETA: 8s - loss: 0.6814 - accuracy: 0.58 - ETA: 7s - loss: 0.6810 - accuracy: 0.58 - ETA: 7s - loss: 0.6805 - accuracy: 0.58 - ETA: 7s - loss: 0.6803 - accuracy: 0.58 - ETA: 7s - loss: 0.6802 - accuracy: 0.58 - ETA: 7s - loss: 0.6801 - accuracy: 0.58 - ETA: 7s - loss: 0.6800 - accuracy: 0.58 - ETA: 7s - loss: 0.6795 - accuracy: 0.58 - ETA: 7s - loss: 0.6794 - accuracy: 0.58 - ETA: 7s - loss: 0.6792 - accuracy: 0.58 - ETA: 7s - loss: 0.6791 - accuracy: 0.58 - ETA: 6s - loss: 0.6786 - accuracy: 0.58 - ETA: 6s - loss: 0.6785 - accuracy: 0.58 - ETA: 6s - loss: 0.6780 - accuracy: 0.58 - ETA: 6s - loss: 0.6783 - accuracy: 0.58 - ETA: 6s - loss: 0.6798 - accuracy: 0.58 - ETA: 6s - loss: 0.6808 - accuracy: 0.58 - ETA: 6s - loss: 0.6815 - accuracy: 0.58 - ETA: 6s - loss: 0.6814 - accuracy: 0.58 - ETA: 6s - loss: 0.6823 - accuracy: 0.58 - ETA: 6s - loss: 0.6822 - accuracy: 0.58 - ETA: 5s - loss: 0.6824 - accuracy: 0.57 - ETA: 5s - loss: 0.6823 - accuracy: 0.58 - ETA: 5s - loss: 0.6821 - accuracy: 0.58 - ETA: 5s - loss: 0.6817 - accuracy: 0.58 - ETA: 5s - loss: 0.6819 - accuracy: 0.58 - ETA: 5s - loss: 0.6821 - accuracy: 0.58 - ETA: 5s - loss: 0.6822 - accuracy: 0.58 - ETA: 5s - loss: 0.6827 - accuracy: 0.57 - ETA: 5s - loss: 0.6825 - accuracy: 0.57 - ETA: 5s - loss: 0.6824 - accuracy: 0.57 - ETA: 4s - loss: 0.6831 - accuracy: 0.57 - ETA: 4s - loss: 0.6827 - accuracy: 0.57 - ETA: 4s - loss: 0.6822 - accuracy: 0.58 - ETA: 4s - loss: 0.6821 - accuracy: 0.58 - ETA: 4s - loss: 0.6822 - accuracy: 0.58 - ETA: 4s - loss: 0.6817 - accuracy: 0.58 - ETA: 4s - loss: 0.6816 - accuracy: 0.58 - ETA: 4s - loss: 0.6815 - accuracy: 0.58 - ETA: 4s - loss: 0.6819 - accuracy: 0.58 - ETA: 4s - loss: 0.6818 - accuracy: 0.58 - ETA: 3s - loss: 0.6813 - accuracy: 0.58 - ETA: 3s - loss: 0.6814 - accuracy: 0.58 - ETA: 3s - loss: 0.6811 - accuracy: 0.58 - ETA: 3s - loss: 0.6813 - accuracy: 0.58 - ETA: 3s - loss: 0.6812 - accuracy: 0.58 - ETA: 3s - loss: 0.6811 - accuracy: 0.58 - ETA: 3s - loss: 0.6812 - accuracy: 0.58 - ETA: 3s - loss: 0.6811 - accuracy: 0.58 - ETA: 3s - loss: 0.6811 - accuracy: 0.58 - ETA: 3s - loss: 0.6807 - accuracy: 0.58 - ETA: 2s - loss: 0.6813 - accuracy: 0.58 - ETA: 2s - loss: 0.6808 - accuracy: 0.58 - ETA: 2s - loss: 0.6809 - accuracy: 0.58 - ETA: 2s - loss: 0.6806 - accuracy: 0.58 - ETA: 2s - loss: 0.6808 - accuracy: 0.58 - ETA: 2s - loss: 0.6809 - accuracy: 0.58 - ETA: 2s - loss: 0.6806 - accuracy: 0.58 - ETA: 2s - loss: 0.6810 - accuracy: 0.58 - ETA: 2s - loss: 0.6807 - accuracy: 0.58 - ETA: 2s - loss: 0.6803 - accuracy: 0.58 - ETA: 1s - loss: 0.6798 - accuracy: 0.58 - ETA: 1s - loss: 0.6790 - accuracy: 0.58 - ETA: 1s - loss: 0.6792 - accuracy: 0.58861646/1646 [==============================] - ETA: 1s - loss: 0.6791 - accuracy: 0.58 - ETA: 1s - loss: 0.6787 - accuracy: 0.58 - ETA: 1s - loss: 0.6792 - accuracy: 0.58 - ETA: 1s - loss: 0.6788 - accuracy: 0.58 - ETA: 1s - loss: 0.6793 - accuracy: 0.58 - ETA: 1s - loss: 0.6798 - accuracy: 0.58 - ETA: 0s - loss: 0.6799 - accuracy: 0.58 - ETA: 0s - loss: 0.6799 - accuracy: 0.58 - ETA: 0s - loss: 0.6803 - accuracy: 0.58 - ETA: 0s - loss: 0.6797 - accuracy: 0.58 - ETA: 0s - loss: 0.6796 - accuracy: 0.58 - ETA: 0s - loss: 0.6800 - accuracy: 0.58 - ETA: 0s - loss: 0.6800 - accuracy: 0.58 - ETA: 0s - loss: 0.6801 - accuracy: 0.58 - ETA: 0s - loss: 0.6795 - accuracy: 0.58 - ETA: 0s - loss: 0.6800 - accuracy: 0.58 - 21s 13ms/sample - loss: 0.6801 - accuracy: 0.5863\n",
      "Epoch 7/10\n",
      "1512/1646 [==========================>...] - ETA: 17s - loss: 0.6122 - accuracy: 0.750 - ETA: 20s - loss: 0.6123 - accuracy: 0.750 - ETA: 20s - loss: 0.6292 - accuracy: 0.708 - ETA: 20s - loss: 0.6630 - accuracy: 0.625 - ETA: 20s - loss: 0.6630 - accuracy: 0.625 - ETA: 19s - loss: 0.6880 - accuracy: 0.562 - ETA: 19s - loss: 0.6915 - accuracy: 0.553 - ETA: 19s - loss: 0.6880 - accuracy: 0.562 - ETA: 19s - loss: 0.6853 - accuracy: 0.569 - ETA: 19s - loss: 0.6925 - accuracy: 0.550 - ETA: 19s - loss: 0.7023 - accuracy: 0.522 - ETA: 19s - loss: 0.6991 - accuracy: 0.531 - ETA: 19s - loss: 0.6998 - accuracy: 0.528 - ETA: 19s - loss: 0.7003 - accuracy: 0.526 - ETA: 19s - loss: 0.6980 - accuracy: 0.533 - ETA: 19s - loss: 0.6960 - accuracy: 0.539 - ETA: 19s - loss: 0.6965 - accuracy: 0.536 - ETA: 18s - loss: 0.6969 - accuracy: 0.534 - ETA: 18s - loss: 0.6954 - accuracy: 0.539 - ETA: 18s - loss: 0.6993 - accuracy: 0.525 - ETA: 18s - loss: 0.6929 - accuracy: 0.547 - ETA: 18s - loss: 0.6949 - accuracy: 0.539 - ETA: 18s - loss: 0.6938 - accuracy: 0.543 - ETA: 18s - loss: 0.6941 - accuracy: 0.541 - ETA: 18s - loss: 0.6931 - accuracy: 0.545 - ETA: 18s - loss: 0.6934 - accuracy: 0.543 - ETA: 18s - loss: 0.6925 - accuracy: 0.546 - ETA: 17s - loss: 0.6906 - accuracy: 0.553 - ETA: 17s - loss: 0.6899 - accuracy: 0.556 - ETA: 17s - loss: 0.6913 - accuracy: 0.550 - ETA: 17s - loss: 0.6896 - accuracy: 0.556 - ETA: 17s - loss: 0.6919 - accuracy: 0.546 - ETA: 17s - loss: 0.6903 - accuracy: 0.553 - ETA: 17s - loss: 0.6888 - accuracy: 0.558 - ETA: 17s - loss: 0.6883 - accuracy: 0.560 - ETA: 17s - loss: 0.6895 - accuracy: 0.555 - ETA: 17s - loss: 0.6898 - accuracy: 0.554 - ETA: 16s - loss: 0.6892 - accuracy: 0.555 - ETA: 16s - loss: 0.6895 - accuracy: 0.554 - ETA: 16s - loss: 0.6906 - accuracy: 0.550 - ETA: 16s - loss: 0.6879 - accuracy: 0.561 - ETA: 16s - loss: 0.6896 - accuracy: 0.553 - ETA: 16s - loss: 0.6906 - accuracy: 0.549 - ETA: 16s - loss: 0.6895 - accuracy: 0.554 - ETA: 16s - loss: 0.6890 - accuracy: 0.555 - ETA: 16s - loss: 0.6899 - accuracy: 0.551 - ETA: 16s - loss: 0.6902 - accuracy: 0.550 - ETA: 15s - loss: 0.6897 - accuracy: 0.552 - ETA: 15s - loss: 0.6912 - accuracy: 0.545 - ETA: 15s - loss: 0.6908 - accuracy: 0.547 - ETA: 15s - loss: 0.6915 - accuracy: 0.544 - ETA: 15s - loss: 0.6906 - accuracy: 0.548 - ETA: 15s - loss: 0.6913 - accuracy: 0.544 - ETA: 15s - loss: 0.6909 - accuracy: 0.546 - ETA: 15s - loss: 0.6901 - accuracy: 0.550 - ETA: 15s - loss: 0.6888 - accuracy: 0.555 - ETA: 15s - loss: 0.6890 - accuracy: 0.554 - ETA: 14s - loss: 0.6891 - accuracy: 0.553 - ETA: 14s - loss: 0.6879 - accuracy: 0.559 - ETA: 14s - loss: 0.6886 - accuracy: 0.556 - ETA: 14s - loss: 0.6878 - accuracy: 0.559 - ETA: 14s - loss: 0.6871 - accuracy: 0.562 - ETA: 14s - loss: 0.6868 - accuracy: 0.563 - ETA: 14s - loss: 0.6875 - accuracy: 0.560 - ETA: 14s - loss: 0.6868 - accuracy: 0.563 - ETA: 14s - loss: 0.6874 - accuracy: 0.560 - ETA: 14s - loss: 0.6876 - accuracy: 0.559 - ETA: 13s - loss: 0.6878 - accuracy: 0.558 - ETA: 13s - loss: 0.6876 - accuracy: 0.559 - ETA: 13s - loss: 0.6873 - accuracy: 0.560 - ETA: 13s - loss: 0.6880 - accuracy: 0.558 - ETA: 13s - loss: 0.6873 - accuracy: 0.560 - ETA: 13s - loss: 0.6866 - accuracy: 0.563 - ETA: 13s - loss: 0.6868 - accuracy: 0.562 - ETA: 13s - loss: 0.6861 - accuracy: 0.565 - ETA: 13s - loss: 0.6850 - accuracy: 0.569 - ETA: 13s - loss: 0.6852 - accuracy: 0.568 - ETA: 12s - loss: 0.6855 - accuracy: 0.567 - ETA: 12s - loss: 0.6857 - accuracy: 0.566 - ETA: 12s - loss: 0.6841 - accuracy: 0.571 - ETA: 12s - loss: 0.6835 - accuracy: 0.574 - ETA: 12s - loss: 0.6823 - accuracy: 0.577 - ETA: 12s - loss: 0.6826 - accuracy: 0.576 - ETA: 12s - loss: 0.6819 - accuracy: 0.578 - ETA: 12s - loss: 0.6822 - accuracy: 0.577 - ETA: 12s - loss: 0.6825 - accuracy: 0.577 - ETA: 12s - loss: 0.6833 - accuracy: 0.574 - ETA: 11s - loss: 0.6836 - accuracy: 0.573 - ETA: 11s - loss: 0.6824 - accuracy: 0.577 - ETA: 11s - loss: 0.6822 - accuracy: 0.577 - ETA: 11s - loss: 0.6825 - accuracy: 0.576 - ETA: 11s - loss: 0.6833 - accuracy: 0.574 - ETA: 11s - loss: 0.6841 - accuracy: 0.572 - ETA: 11s - loss: 0.6839 - accuracy: 0.573 - ETA: 11s - loss: 0.6837 - accuracy: 0.573 - ETA: 11s - loss: 0.6835 - accuracy: 0.574 - ETA: 11s - loss: 0.6838 - accuracy: 0.573 - ETA: 10s - loss: 0.6831 - accuracy: 0.575 - ETA: 10s - loss: 0.6824 - accuracy: 0.577 - ETA: 10s - loss: 0.6827 - accuracy: 0.576 - ETA: 10s - loss: 0.6830 - accuracy: 0.575 - ETA: 10s - loss: 0.6828 - accuracy: 0.576 - ETA: 10s - loss: 0.6826 - accuracy: 0.576 - ETA: 10s - loss: 0.6829 - accuracy: 0.575 - ETA: 10s - loss: 0.6832 - accuracy: 0.575 - ETA: 10s - loss: 0.6830 - accuracy: 0.575 - ETA: 10s - loss: 0.6824 - accuracy: 0.577 - ETA: 9s - loss: 0.6826 - accuracy: 0.576 - ETA: 9s - loss: 0.6829 - accuracy: 0.57 - ETA: 9s - loss: 0.6827 - accuracy: 0.57 - ETA: 9s - loss: 0.6817 - accuracy: 0.57 - ETA: 9s - loss: 0.6816 - accuracy: 0.57 - ETA: 9s - loss: 0.6822 - accuracy: 0.57 - ETA: 9s - loss: 0.6825 - accuracy: 0.57 - ETA: 9s - loss: 0.6831 - accuracy: 0.57 - ETA: 9s - loss: 0.6829 - accuracy: 0.57 - ETA: 9s - loss: 0.6828 - accuracy: 0.57 - ETA: 8s - loss: 0.6826 - accuracy: 0.57 - ETA: 8s - loss: 0.6825 - accuracy: 0.57 - ETA: 8s - loss: 0.6823 - accuracy: 0.57 - ETA: 8s - loss: 0.6829 - accuracy: 0.57 - ETA: 8s - loss: 0.6838 - accuracy: 0.57 - ETA: 8s - loss: 0.6837 - accuracy: 0.57 - ETA: 8s - loss: 0.6832 - accuracy: 0.57 - ETA: 8s - loss: 0.6831 - accuracy: 0.57 - ETA: 8s - loss: 0.6829 - accuracy: 0.57 - ETA: 7s - loss: 0.6834 - accuracy: 0.57 - ETA: 7s - loss: 0.6839 - accuracy: 0.57 - ETA: 7s - loss: 0.6835 - accuracy: 0.57 - ETA: 7s - loss: 0.6830 - accuracy: 0.57 - ETA: 7s - loss: 0.6832 - accuracy: 0.57 - ETA: 7s - loss: 0.6825 - accuracy: 0.57 - ETA: 7s - loss: 0.6827 - accuracy: 0.57 - ETA: 7s - loss: 0.6825 - accuracy: 0.57 - ETA: 7s - loss: 0.6827 - accuracy: 0.57 - ETA: 7s - loss: 0.6826 - accuracy: 0.57 - ETA: 6s - loss: 0.6822 - accuracy: 0.57 - ETA: 6s - loss: 0.6824 - accuracy: 0.57 - ETA: 6s - loss: 0.6819 - accuracy: 0.57 - ETA: 6s - loss: 0.6821 - accuracy: 0.57 - ETA: 6s - loss: 0.6823 - accuracy: 0.57 - ETA: 6s - loss: 0.6819 - accuracy: 0.57 - ETA: 6s - loss: 0.6812 - accuracy: 0.58 - ETA: 6s - loss: 0.6811 - accuracy: 0.58 - ETA: 6s - loss: 0.6810 - accuracy: 0.58 - ETA: 6s - loss: 0.6809 - accuracy: 0.58 - ETA: 5s - loss: 0.6811 - accuracy: 0.58 - ETA: 5s - loss: 0.6809 - accuracy: 0.58 - ETA: 5s - loss: 0.6814 - accuracy: 0.57 - ETA: 5s - loss: 0.6813 - accuracy: 0.58 - ETA: 5s - loss: 0.6812 - accuracy: 0.58 - ETA: 5s - loss: 0.6808 - accuracy: 0.58 - ETA: 5s - loss: 0.6810 - accuracy: 0.58 - ETA: 5s - loss: 0.6809 - accuracy: 0.58 - ETA: 5s - loss: 0.6801 - accuracy: 0.58 - ETA: 5s - loss: 0.6794 - accuracy: 0.58 - ETA: 4s - loss: 0.6787 - accuracy: 0.58 - ETA: 4s - loss: 0.6792 - accuracy: 0.58 - ETA: 4s - loss: 0.6798 - accuracy: 0.58 - ETA: 4s - loss: 0.6807 - accuracy: 0.58 - ETA: 4s - loss: 0.6802 - accuracy: 0.58 - ETA: 4s - loss: 0.6798 - accuracy: 0.58 - ETA: 4s - loss: 0.6800 - accuracy: 0.58 - ETA: 4s - loss: 0.6802 - accuracy: 0.58 - ETA: 4s - loss: 0.6795 - accuracy: 0.58 - ETA: 4s - loss: 0.6791 - accuracy: 0.58 - ETA: 3s - loss: 0.6790 - accuracy: 0.58 - ETA: 3s - loss: 0.6789 - accuracy: 0.58 - ETA: 3s - loss: 0.6801 - accuracy: 0.58 - ETA: 3s - loss: 0.6803 - accuracy: 0.58 - ETA: 3s - loss: 0.6809 - accuracy: 0.58 - ETA: 3s - loss: 0.6804 - accuracy: 0.58 - ETA: 3s - loss: 0.6800 - accuracy: 0.58 - ETA: 3s - loss: 0.6799 - accuracy: 0.58 - ETA: 3s - loss: 0.6789 - accuracy: 0.58 - ETA: 3s - loss: 0.6797 - accuracy: 0.58 - ETA: 2s - loss: 0.6799 - accuracy: 0.58 - ETA: 2s - loss: 0.6801 - accuracy: 0.58 - ETA: 2s - loss: 0.6795 - accuracy: 0.58 - ETA: 2s - loss: 0.6791 - accuracy: 0.58 - ETA: 2s - loss: 0.6790 - accuracy: 0.58 - ETA: 2s - loss: 0.6792 - accuracy: 0.58 - ETA: 2s - loss: 0.6800 - accuracy: 0.58 - ETA: 2s - loss: 0.6796 - accuracy: 0.58 - ETA: 2s - loss: 0.6798 - accuracy: 0.58 - ETA: 2s - loss: 0.6794 - accuracy: 0.58 - ETA: 1s - loss: 0.6790 - accuracy: 0.58 - ETA: 1s - loss: 0.6792 - accuracy: 0.58 - ETA: 1s - loss: 0.6791 - accuracy: 0.58601646/1646 [==============================] - ETA: 1s - loss: 0.6790 - accuracy: 0.58 - ETA: 1s - loss: 0.6792 - accuracy: 0.58 - ETA: 1s - loss: 0.6791 - accuracy: 0.58 - ETA: 1s - loss: 0.6791 - accuracy: 0.58 - ETA: 1s - loss: 0.6798 - accuracy: 0.58 - ETA: 1s - loss: 0.6792 - accuracy: 0.58 - ETA: 0s - loss: 0.6793 - accuracy: 0.58 - ETA: 0s - loss: 0.6800 - accuracy: 0.58 - ETA: 0s - loss: 0.6802 - accuracy: 0.58 - ETA: 0s - loss: 0.6801 - accuracy: 0.58 - ETA: 0s - loss: 0.6795 - accuracy: 0.58 - ETA: 0s - loss: 0.6795 - accuracy: 0.58 - ETA: 0s - loss: 0.6794 - accuracy: 0.58 - ETA: 0s - loss: 0.6795 - accuracy: 0.58 - ETA: 0s - loss: 0.6795 - accuracy: 0.58 - ETA: 0s - loss: 0.6792 - accuracy: 0.58 - 21s 13ms/sample - loss: 0.6791 - accuracy: 0.5863\n",
      "Epoch 8/10\n",
      "1512/1646 [==========================>...] - ETA: 19s - loss: 0.6639 - accuracy: 0.625 - ETA: 20s - loss: 0.6638 - accuracy: 0.625 - ETA: 20s - loss: 0.6638 - accuracy: 0.625 - ETA: 20s - loss: 0.6756 - accuracy: 0.593 - ETA: 20s - loss: 0.6827 - accuracy: 0.575 - ETA: 20s - loss: 0.6795 - accuracy: 0.583 - ETA: 20s - loss: 0.6977 - accuracy: 0.535 - ETA: 20s - loss: 0.6934 - accuracy: 0.546 - ETA: 19s - loss: 0.6953 - accuracy: 0.541 - ETA: 19s - loss: 0.6876 - accuracy: 0.562 - ETA: 19s - loss: 0.6855 - accuracy: 0.568 - ETA: 19s - loss: 0.6799 - accuracy: 0.583 - ETA: 19s - loss: 0.6787 - accuracy: 0.586 - ETA: 19s - loss: 0.6777 - accuracy: 0.589 - ETA: 19s - loss: 0.6706 - accuracy: 0.608 - ETA: 19s - loss: 0.6731 - accuracy: 0.601 - ETA: 19s - loss: 0.6726 - accuracy: 0.602 - ETA: 19s - loss: 0.6747 - accuracy: 0.597 - ETA: 18s - loss: 0.6741 - accuracy: 0.598 - ETA: 18s - loss: 0.6736 - accuracy: 0.600 - ETA: 18s - loss: 0.6777 - accuracy: 0.589 - ETA: 18s - loss: 0.6793 - accuracy: 0.585 - ETA: 18s - loss: 0.6765 - accuracy: 0.592 - ETA: 18s - loss: 0.6760 - accuracy: 0.593 - ETA: 18s - loss: 0.6697 - accuracy: 0.610 - ETA: 18s - loss: 0.6713 - accuracy: 0.605 - ETA: 18s - loss: 0.6747 - accuracy: 0.597 - ETA: 18s - loss: 0.6707 - accuracy: 0.607 - ETA: 17s - loss: 0.6687 - accuracy: 0.612 - ETA: 17s - loss: 0.6719 - accuracy: 0.604 - ETA: 17s - loss: 0.6700 - accuracy: 0.608 - ETA: 17s - loss: 0.6697 - accuracy: 0.609 - ETA: 17s - loss: 0.6711 - accuracy: 0.606 - ETA: 17s - loss: 0.6693 - accuracy: 0.610 - ETA: 17s - loss: 0.6675 - accuracy: 0.614 - ETA: 17s - loss: 0.6658 - accuracy: 0.618 - ETA: 17s - loss: 0.6673 - accuracy: 0.614 - ETA: 17s - loss: 0.6686 - accuracy: 0.611 - ETA: 16s - loss: 0.6655 - accuracy: 0.618 - ETA: 16s - loss: 0.6654 - accuracy: 0.618 - ETA: 16s - loss: 0.6639 - accuracy: 0.622 - ETA: 16s - loss: 0.6667 - accuracy: 0.616 - ETA: 16s - loss: 0.6680 - accuracy: 0.613 - ETA: 16s - loss: 0.6693 - accuracy: 0.610 - ETA: 16s - loss: 0.6718 - accuracy: 0.605 - ETA: 16s - loss: 0.6742 - accuracy: 0.600 - ETA: 16s - loss: 0.6740 - accuracy: 0.601 - ETA: 16s - loss: 0.6725 - accuracy: 0.604 - ETA: 15s - loss: 0.6746 - accuracy: 0.599 - ETA: 15s - loss: 0.6733 - accuracy: 0.602 - ETA: 15s - loss: 0.6741 - accuracy: 0.600 - ETA: 15s - loss: 0.6728 - accuracy: 0.603 - ETA: 15s - loss: 0.6706 - accuracy: 0.608 - ETA: 15s - loss: 0.6695 - accuracy: 0.611 - ETA: 15s - loss: 0.6703 - accuracy: 0.609 - ETA: 15s - loss: 0.6712 - accuracy: 0.607 - ETA: 15s - loss: 0.6729 - accuracy: 0.603 - ETA: 15s - loss: 0.6718 - accuracy: 0.605 - ETA: 14s - loss: 0.6735 - accuracy: 0.601 - ETA: 14s - loss: 0.6750 - accuracy: 0.597 - ETA: 14s - loss: 0.6740 - accuracy: 0.600 - ETA: 14s - loss: 0.6746 - accuracy: 0.598 - ETA: 14s - loss: 0.6752 - accuracy: 0.597 - ETA: 14s - loss: 0.6758 - accuracy: 0.595 - ETA: 14s - loss: 0.6763 - accuracy: 0.594 - ETA: 14s - loss: 0.6762 - accuracy: 0.594 - ETA: 14s - loss: 0.6767 - accuracy: 0.593 - ETA: 13s - loss: 0.6771 - accuracy: 0.591 - ETA: 13s - loss: 0.6770 - accuracy: 0.592 - ETA: 13s - loss: 0.6774 - accuracy: 0.591 - ETA: 13s - loss: 0.6766 - accuracy: 0.593 - ETA: 13s - loss: 0.6776 - accuracy: 0.590 - ETA: 13s - loss: 0.6775 - accuracy: 0.590 - ETA: 13s - loss: 0.6784 - accuracy: 0.587 - ETA: 13s - loss: 0.6777 - accuracy: 0.590 - ETA: 13s - loss: 0.6771 - accuracy: 0.592 - ETA: 13s - loss: 0.6764 - accuracy: 0.594 - ETA: 12s - loss: 0.6768 - accuracy: 0.592 - ETA: 12s - loss: 0.6762 - accuracy: 0.594 - ETA: 12s - loss: 0.6770 - accuracy: 0.592 - ETA: 12s - loss: 0.6769 - accuracy: 0.592 - ETA: 12s - loss: 0.6768 - accuracy: 0.593 - ETA: 12s - loss: 0.6771 - accuracy: 0.591 - ETA: 12s - loss: 0.6774 - accuracy: 0.590 - ETA: 12s - loss: 0.6769 - accuracy: 0.592 - ETA: 12s - loss: 0.6759 - accuracy: 0.595 - ETA: 12s - loss: 0.6766 - accuracy: 0.593 - ETA: 11s - loss: 0.6774 - accuracy: 0.590 - ETA: 11s - loss: 0.6768 - accuracy: 0.592 - ETA: 11s - loss: 0.6763 - accuracy: 0.594 - ETA: 11s - loss: 0.6770 - accuracy: 0.592 - ETA: 11s - loss: 0.6778 - accuracy: 0.589 - ETA: 11s - loss: 0.6772 - accuracy: 0.591 - ETA: 11s - loss: 0.6775 - accuracy: 0.590 - ETA: 11s - loss: 0.6778 - accuracy: 0.589 - ETA: 11s - loss: 0.6793 - accuracy: 0.584 - ETA: 11s - loss: 0.6792 - accuracy: 0.585 - ETA: 10s - loss: 0.6783 - accuracy: 0.588 - ETA: 10s - loss: 0.6778 - accuracy: 0.589 - ETA: 10s - loss: 0.6781 - accuracy: 0.588 - ETA: 10s - loss: 0.6783 - accuracy: 0.587 - ETA: 10s - loss: 0.6782 - accuracy: 0.588 - ETA: 10s - loss: 0.6781 - accuracy: 0.588 - ETA: 10s - loss: 0.6787 - accuracy: 0.586 - ETA: 10s - loss: 0.6779 - accuracy: 0.589 - ETA: 10s - loss: 0.6778 - accuracy: 0.589 - ETA: 10s - loss: 0.6781 - accuracy: 0.588 - ETA: 9s - loss: 0.6783 - accuracy: 0.588 - ETA: 9s - loss: 0.6779 - accuracy: 0.58 - ETA: 9s - loss: 0.6781 - accuracy: 0.58 - ETA: 9s - loss: 0.6773 - accuracy: 0.59 - ETA: 9s - loss: 0.6776 - accuracy: 0.59 - ETA: 9s - loss: 0.6778 - accuracy: 0.58 - ETA: 9s - loss: 0.6770 - accuracy: 0.59 - ETA: 9s - loss: 0.6769 - accuracy: 0.59 - ETA: 9s - loss: 0.6772 - accuracy: 0.59 - ETA: 9s - loss: 0.6778 - accuracy: 0.58 - ETA: 8s - loss: 0.6784 - accuracy: 0.58 - ETA: 8s - loss: 0.6783 - accuracy: 0.58 - ETA: 8s - loss: 0.6782 - accuracy: 0.58 - ETA: 8s - loss: 0.6784 - accuracy: 0.58 - ETA: 8s - loss: 0.6780 - accuracy: 0.58 - ETA: 8s - loss: 0.6775 - accuracy: 0.59 - ETA: 8s - loss: 0.6774 - accuracy: 0.59 - ETA: 8s - loss: 0.6773 - accuracy: 0.59 - ETA: 8s - loss: 0.6776 - accuracy: 0.59 - ETA: 8s - loss: 0.6781 - accuracy: 0.58 - ETA: 7s - loss: 0.6780 - accuracy: 0.58 - ETA: 7s - loss: 0.6786 - accuracy: 0.58 - ETA: 7s - loss: 0.6785 - accuracy: 0.58 - ETA: 7s - loss: 0.6787 - accuracy: 0.58 - ETA: 7s - loss: 0.6783 - accuracy: 0.58 - ETA: 7s - loss: 0.6788 - accuracy: 0.58 - ETA: 7s - loss: 0.6790 - accuracy: 0.58 - ETA: 7s - loss: 0.6792 - accuracy: 0.58 - ETA: 7s - loss: 0.6788 - accuracy: 0.58 - ETA: 6s - loss: 0.6787 - accuracy: 0.58 - ETA: 6s - loss: 0.6792 - accuracy: 0.58 - ETA: 6s - loss: 0.6797 - accuracy: 0.58 - ETA: 6s - loss: 0.6799 - accuracy: 0.58 - ETA: 6s - loss: 0.6808 - accuracy: 0.57 - ETA: 6s - loss: 0.6807 - accuracy: 0.58 - ETA: 6s - loss: 0.6799 - accuracy: 0.58 - ETA: 6s - loss: 0.6798 - accuracy: 0.58 - ETA: 6s - loss: 0.6800 - accuracy: 0.58 - ETA: 6s - loss: 0.6799 - accuracy: 0.58 - ETA: 5s - loss: 0.6803 - accuracy: 0.58 - ETA: 5s - loss: 0.6802 - accuracy: 0.58 - ETA: 5s - loss: 0.6803 - accuracy: 0.58 - ETA: 5s - loss: 0.6803 - accuracy: 0.58 - ETA: 5s - loss: 0.6804 - accuracy: 0.58 - ETA: 5s - loss: 0.6808 - accuracy: 0.57 - ETA: 5s - loss: 0.6815 - accuracy: 0.57 - ETA: 5s - loss: 0.6814 - accuracy: 0.57 - ETA: 5s - loss: 0.6817 - accuracy: 0.57 - ETA: 5s - loss: 0.6813 - accuracy: 0.57 - ETA: 4s - loss: 0.6807 - accuracy: 0.58 - ETA: 4s - loss: 0.6805 - accuracy: 0.58 - ETA: 4s - loss: 0.6808 - accuracy: 0.58 - ETA: 4s - loss: 0.6805 - accuracy: 0.58 - ETA: 4s - loss: 0.6803 - accuracy: 0.58 - ETA: 4s - loss: 0.6804 - accuracy: 0.58 - ETA: 4s - loss: 0.6804 - accuracy: 0.58 - ETA: 4s - loss: 0.6807 - accuracy: 0.58 - ETA: 4s - loss: 0.6804 - accuracy: 0.58 - ETA: 4s - loss: 0.6800 - accuracy: 0.58 - ETA: 3s - loss: 0.6796 - accuracy: 0.58 - ETA: 3s - loss: 0.6799 - accuracy: 0.58 - ETA: 3s - loss: 0.6798 - accuracy: 0.58 - ETA: 3s - loss: 0.6800 - accuracy: 0.58 - ETA: 3s - loss: 0.6807 - accuracy: 0.58 - ETA: 3s - loss: 0.6810 - accuracy: 0.57 - ETA: 3s - loss: 0.6813 - accuracy: 0.57 - ETA: 3s - loss: 0.6807 - accuracy: 0.58 - ETA: 3s - loss: 0.6808 - accuracy: 0.58 - ETA: 3s - loss: 0.6809 - accuracy: 0.58 - ETA: 2s - loss: 0.6809 - accuracy: 0.58 - ETA: 2s - loss: 0.6810 - accuracy: 0.58 - ETA: 2s - loss: 0.6807 - accuracy: 0.58 - ETA: 2s - loss: 0.6810 - accuracy: 0.57 - ETA: 2s - loss: 0.6810 - accuracy: 0.58 - ETA: 2s - loss: 0.6813 - accuracy: 0.57 - ETA: 2s - loss: 0.6814 - accuracy: 0.57 - ETA: 2s - loss: 0.6813 - accuracy: 0.57 - ETA: 2s - loss: 0.6816 - accuracy: 0.57 - ETA: 2s - loss: 0.6814 - accuracy: 0.57 - ETA: 1s - loss: 0.6810 - accuracy: 0.58 - ETA: 1s - loss: 0.6811 - accuracy: 0.57 - ETA: 1s - loss: 0.6810 - accuracy: 0.58001646/1646 [==============================] - ETA: 1s - loss: 0.6809 - accuracy: 0.58 - ETA: 1s - loss: 0.6809 - accuracy: 0.58 - ETA: 1s - loss: 0.6808 - accuracy: 0.58 - ETA: 1s - loss: 0.6806 - accuracy: 0.58 - ETA: 1s - loss: 0.6802 - accuracy: 0.58 - ETA: 1s - loss: 0.6798 - accuracy: 0.58 - ETA: 0s - loss: 0.6795 - accuracy: 0.58 - ETA: 0s - loss: 0.6791 - accuracy: 0.58 - ETA: 0s - loss: 0.6788 - accuracy: 0.58 - ETA: 0s - loss: 0.6789 - accuracy: 0.58 - ETA: 0s - loss: 0.6789 - accuracy: 0.58 - ETA: 0s - loss: 0.6783 - accuracy: 0.58 - ETA: 0s - loss: 0.6780 - accuracy: 0.58 - ETA: 0s - loss: 0.6785 - accuracy: 0.58 - ETA: 0s - loss: 0.6789 - accuracy: 0.58 - ETA: 0s - loss: 0.6790 - accuracy: 0.58 - 21s 13ms/sample - loss: 0.6794 - accuracy: 0.5863\n",
      "Epoch 9/10\n",
      "1512/1646 [==========================>...] - ETA: 17s - loss: 0.7151 - accuracy: 0.500 - ETA: 20s - loss: 0.7150 - accuracy: 0.500 - ETA: 20s - loss: 0.7148 - accuracy: 0.500 - ETA: 20s - loss: 0.6890 - accuracy: 0.562 - ETA: 20s - loss: 0.6838 - accuracy: 0.575 - ETA: 20s - loss: 0.6634 - accuracy: 0.625 - ETA: 19s - loss: 0.6779 - accuracy: 0.589 - ETA: 19s - loss: 0.6760 - accuracy: 0.593 - ETA: 19s - loss: 0.6859 - accuracy: 0.569 - ETA: 19s - loss: 0.6886 - accuracy: 0.562 - ETA: 19s - loss: 0.6818 - accuracy: 0.579 - ETA: 19s - loss: 0.6761 - accuracy: 0.593 - ETA: 19s - loss: 0.6827 - accuracy: 0.576 - ETA: 19s - loss: 0.6778 - accuracy: 0.589 - ETA: 19s - loss: 0.6769 - accuracy: 0.591 - ETA: 19s - loss: 0.6760 - accuracy: 0.593 - ETA: 19s - loss: 0.6666 - accuracy: 0.617 - ETA: 19s - loss: 0.6608 - accuracy: 0.631 - ETA: 18s - loss: 0.6636 - accuracy: 0.625 - ETA: 18s - loss: 0.6583 - accuracy: 0.637 - ETA: 18s - loss: 0.6559 - accuracy: 0.642 - ETA: 18s - loss: 0.6562 - accuracy: 0.642 - ETA: 18s - loss: 0.6564 - accuracy: 0.641 - ETA: 18s - loss: 0.6616 - accuracy: 0.630 - ETA: 18s - loss: 0.6664 - accuracy: 0.620 - ETA: 18s - loss: 0.6686 - accuracy: 0.615 - ETA: 18s - loss: 0.6683 - accuracy: 0.615 - ETA: 17s - loss: 0.6681 - accuracy: 0.616 - ETA: 17s - loss: 0.6637 - accuracy: 0.625 - ETA: 17s - loss: 0.6596 - accuracy: 0.633 - ETA: 17s - loss: 0.6597 - accuracy: 0.633 - ETA: 17s - loss: 0.6598 - accuracy: 0.632 - ETA: 17s - loss: 0.6598 - accuracy: 0.632 - ETA: 17s - loss: 0.6580 - accuracy: 0.636 - ETA: 17s - loss: 0.6543 - accuracy: 0.642 - ETA: 17s - loss: 0.6545 - accuracy: 0.642 - ETA: 17s - loss: 0.6547 - accuracy: 0.641 - ETA: 16s - loss: 0.6568 - accuracy: 0.638 - ETA: 16s - loss: 0.6624 - accuracy: 0.628 - ETA: 16s - loss: 0.6624 - accuracy: 0.628 - ETA: 16s - loss: 0.6624 - accuracy: 0.628 - ETA: 16s - loss: 0.6657 - accuracy: 0.622 - ETA: 16s - loss: 0.6704 - accuracy: 0.613 - ETA: 16s - loss: 0.6732 - accuracy: 0.608 - ETA: 16s - loss: 0.6730 - accuracy: 0.608 - ETA: 16s - loss: 0.6740 - accuracy: 0.606 - ETA: 16s - loss: 0.6750 - accuracy: 0.603 - ETA: 15s - loss: 0.6724 - accuracy: 0.609 - ETA: 15s - loss: 0.6711 - accuracy: 0.612 - ETA: 15s - loss: 0.6731 - accuracy: 0.607 - ETA: 15s - loss: 0.6739 - accuracy: 0.605 - ETA: 15s - loss: 0.6747 - accuracy: 0.603 - ETA: 15s - loss: 0.6754 - accuracy: 0.601 - ETA: 15s - loss: 0.6760 - accuracy: 0.599 - ETA: 15s - loss: 0.6767 - accuracy: 0.597 - ETA: 15s - loss: 0.6748 - accuracy: 0.602 - ETA: 15s - loss: 0.6739 - accuracy: 0.605 - ETA: 14s - loss: 0.6722 - accuracy: 0.609 - ETA: 14s - loss: 0.6743 - accuracy: 0.603 - ETA: 14s - loss: 0.6734 - accuracy: 0.606 - ETA: 14s - loss: 0.6733 - accuracy: 0.606 - ETA: 14s - loss: 0.6759 - accuracy: 0.598 - ETA: 14s - loss: 0.6764 - accuracy: 0.597 - ETA: 14s - loss: 0.6769 - accuracy: 0.595 - ETA: 14s - loss: 0.6767 - accuracy: 0.596 - ETA: 14s - loss: 0.6760 - accuracy: 0.598 - ETA: 14s - loss: 0.6752 - accuracy: 0.600 - ETA: 13s - loss: 0.6757 - accuracy: 0.599 - ETA: 13s - loss: 0.6761 - accuracy: 0.597 - ETA: 13s - loss: 0.6760 - accuracy: 0.598 - ETA: 13s - loss: 0.6769 - accuracy: 0.595 - ETA: 13s - loss: 0.6763 - accuracy: 0.597 - ETA: 13s - loss: 0.6761 - accuracy: 0.597 - ETA: 13s - loss: 0.6755 - accuracy: 0.599 - ETA: 13s - loss: 0.6764 - accuracy: 0.596 - ETA: 13s - loss: 0.6758 - accuracy: 0.598 - ETA: 13s - loss: 0.6742 - accuracy: 0.603 - ETA: 12s - loss: 0.6736 - accuracy: 0.605 - ETA: 12s - loss: 0.6730 - accuracy: 0.607 - ETA: 12s - loss: 0.6744 - accuracy: 0.603 - ETA: 12s - loss: 0.6743 - accuracy: 0.603 - ETA: 12s - loss: 0.6752 - accuracy: 0.600 - ETA: 12s - loss: 0.6761 - accuracy: 0.597 - ETA: 12s - loss: 0.6765 - accuracy: 0.596 - ETA: 12s - loss: 0.6749 - accuracy: 0.601 - ETA: 12s - loss: 0.6738 - accuracy: 0.604 - ETA: 12s - loss: 0.6732 - accuracy: 0.606 - ETA: 11s - loss: 0.6736 - accuracy: 0.605 - ETA: 11s - loss: 0.6740 - accuracy: 0.603 - ETA: 11s - loss: 0.6729 - accuracy: 0.606 - ETA: 11s - loss: 0.6723 - accuracy: 0.608 - ETA: 11s - loss: 0.6732 - accuracy: 0.606 - ETA: 11s - loss: 0.6726 - accuracy: 0.607 - ETA: 11s - loss: 0.6720 - accuracy: 0.609 - ETA: 11s - loss: 0.6724 - accuracy: 0.607 - ETA: 11s - loss: 0.6723 - accuracy: 0.608 - ETA: 11s - loss: 0.6738 - accuracy: 0.604 - ETA: 10s - loss: 0.6742 - accuracy: 0.603 - ETA: 10s - loss: 0.6757 - accuracy: 0.599 - ETA: 10s - loss: 0.6756 - accuracy: 0.600 - ETA: 10s - loss: 0.6755 - accuracy: 0.600 - ETA: 10s - loss: 0.6758 - accuracy: 0.599 - ETA: 10s - loss: 0.6762 - accuracy: 0.598 - ETA: 10s - loss: 0.6751 - accuracy: 0.601 - ETA: 10s - loss: 0.6741 - accuracy: 0.603 - ETA: 10s - loss: 0.6745 - accuracy: 0.602 - ETA: 9s - loss: 0.6753 - accuracy: 0.600 - ETA: 9s - loss: 0.6756 - accuracy: 0.59 - ETA: 9s - loss: 0.6768 - accuracy: 0.59 - ETA: 9s - loss: 0.6771 - accuracy: 0.59 - ETA: 9s - loss: 0.6770 - accuracy: 0.59 - ETA: 9s - loss: 0.6765 - accuracy: 0.59 - ETA: 9s - loss: 0.6764 - accuracy: 0.59 - ETA: 9s - loss: 0.6766 - accuracy: 0.59 - ETA: 9s - loss: 0.6769 - accuracy: 0.59 - ETA: 9s - loss: 0.6768 - accuracy: 0.59 - ETA: 8s - loss: 0.6767 - accuracy: 0.59 - ETA: 8s - loss: 0.6763 - accuracy: 0.59 - ETA: 8s - loss: 0.6762 - accuracy: 0.59 - ETA: 8s - loss: 0.6761 - accuracy: 0.59 - ETA: 8s - loss: 0.6757 - accuracy: 0.59 - ETA: 8s - loss: 0.6759 - accuracy: 0.59 - ETA: 8s - loss: 0.6758 - accuracy: 0.59 - ETA: 8s - loss: 0.6758 - accuracy: 0.59 - ETA: 8s - loss: 0.6763 - accuracy: 0.59 - ETA: 8s - loss: 0.6763 - accuracy: 0.59 - ETA: 7s - loss: 0.6765 - accuracy: 0.59 - ETA: 7s - loss: 0.6767 - accuracy: 0.59 - ETA: 7s - loss: 0.6763 - accuracy: 0.59 - ETA: 7s - loss: 0.6756 - accuracy: 0.59 - ETA: 7s - loss: 0.6762 - accuracy: 0.59 - ETA: 7s - loss: 0.6761 - accuracy: 0.59 - ETA: 7s - loss: 0.6763 - accuracy: 0.59 - ETA: 7s - loss: 0.6766 - accuracy: 0.59 - ETA: 7s - loss: 0.6765 - accuracy: 0.59 - ETA: 7s - loss: 0.6767 - accuracy: 0.59 - ETA: 6s - loss: 0.6766 - accuracy: 0.59 - ETA: 6s - loss: 0.6765 - accuracy: 0.59 - ETA: 6s - loss: 0.6764 - accuracy: 0.59 - ETA: 6s - loss: 0.6761 - accuracy: 0.59 - ETA: 6s - loss: 0.6763 - accuracy: 0.59 - ETA: 6s - loss: 0.6759 - accuracy: 0.59 - ETA: 6s - loss: 0.6764 - accuracy: 0.59 - ETA: 6s - loss: 0.6767 - accuracy: 0.59 - ETA: 6s - loss: 0.6769 - accuracy: 0.59 - ETA: 6s - loss: 0.6771 - accuracy: 0.59 - ETA: 5s - loss: 0.6770 - accuracy: 0.59 - ETA: 5s - loss: 0.6772 - accuracy: 0.59 - ETA: 5s - loss: 0.6774 - accuracy: 0.59 - ETA: 5s - loss: 0.6773 - accuracy: 0.59 - ETA: 5s - loss: 0.6778 - accuracy: 0.59 - ETA: 5s - loss: 0.6774 - accuracy: 0.59 - ETA: 5s - loss: 0.6779 - accuracy: 0.59 - ETA: 5s - loss: 0.6783 - accuracy: 0.59 - ETA: 5s - loss: 0.6782 - accuracy: 0.59 - ETA: 5s - loss: 0.6784 - accuracy: 0.58 - ETA: 4s - loss: 0.6781 - accuracy: 0.59 - ETA: 4s - loss: 0.6785 - accuracy: 0.58 - ETA: 4s - loss: 0.6789 - accuracy: 0.58 - ETA: 4s - loss: 0.6786 - accuracy: 0.58 - ETA: 4s - loss: 0.6792 - accuracy: 0.58 - ETA: 4s - loss: 0.6789 - accuracy: 0.58 - ETA: 4s - loss: 0.6786 - accuracy: 0.58 - ETA: 4s - loss: 0.6786 - accuracy: 0.58 - ETA: 4s - loss: 0.6789 - accuracy: 0.58 - ETA: 4s - loss: 0.6785 - accuracy: 0.58 - ETA: 3s - loss: 0.6782 - accuracy: 0.59 - ETA: 3s - loss: 0.6780 - accuracy: 0.59 - ETA: 3s - loss: 0.6781 - accuracy: 0.59 - ETA: 3s - loss: 0.6781 - accuracy: 0.59 - ETA: 3s - loss: 0.6782 - accuracy: 0.59 - ETA: 3s - loss: 0.6782 - accuracy: 0.59 - ETA: 3s - loss: 0.6787 - accuracy: 0.58 - ETA: 3s - loss: 0.6782 - accuracy: 0.59 - ETA: 3s - loss: 0.6780 - accuracy: 0.59 - ETA: 3s - loss: 0.6785 - accuracy: 0.58 - ETA: 2s - loss: 0.6789 - accuracy: 0.58 - ETA: 2s - loss: 0.6790 - accuracy: 0.58 - ETA: 2s - loss: 0.6791 - accuracy: 0.58 - ETA: 2s - loss: 0.6794 - accuracy: 0.58 - ETA: 2s - loss: 0.6798 - accuracy: 0.58 - ETA: 2s - loss: 0.6795 - accuracy: 0.58 - ETA: 2s - loss: 0.6795 - accuracy: 0.58 - ETA: 2s - loss: 0.6796 - accuracy: 0.58 - ETA: 2s - loss: 0.6795 - accuracy: 0.58 - ETA: 2s - loss: 0.6796 - accuracy: 0.58 - ETA: 1s - loss: 0.6798 - accuracy: 0.58 - ETA: 1s - loss: 0.6800 - accuracy: 0.58 - ETA: 1s - loss: 0.6801 - accuracy: 0.58331646/1646 [==============================] - ETA: 1s - loss: 0.6799 - accuracy: 0.58 - ETA: 1s - loss: 0.6800 - accuracy: 0.58 - ETA: 1s - loss: 0.6797 - accuracy: 0.58 - ETA: 1s - loss: 0.6795 - accuracy: 0.58 - ETA: 1s - loss: 0.6792 - accuracy: 0.58 - ETA: 1s - loss: 0.6794 - accuracy: 0.58 - ETA: 0s - loss: 0.6792 - accuracy: 0.58 - ETA: 0s - loss: 0.6795 - accuracy: 0.58 - ETA: 0s - loss: 0.6798 - accuracy: 0.58 - ETA: 0s - loss: 0.6797 - accuracy: 0.58 - ETA: 0s - loss: 0.6795 - accuracy: 0.58 - ETA: 0s - loss: 0.6796 - accuracy: 0.58 - ETA: 0s - loss: 0.6796 - accuracy: 0.58 - ETA: 0s - loss: 0.6797 - accuracy: 0.58 - ETA: 0s - loss: 0.6796 - accuracy: 0.58 - ETA: 0s - loss: 0.6796 - accuracy: 0.58 - 21s 13ms/sample - loss: 0.6795 - accuracy: 0.5863\n",
      "Epoch 10/10\n",
      "1512/1646 [==========================>...] - ETA: 18s - loss: 0.7020 - accuracy: 0.500 - ETA: 19s - loss: 0.6685 - accuracy: 0.625 - ETA: 19s - loss: 0.6684 - accuracy: 0.625 - ETA: 19s - loss: 0.6597 - accuracy: 0.656 - ETA: 19s - loss: 0.6684 - accuracy: 0.625 - ETA: 20s - loss: 0.6562 - accuracy: 0.666 - ETA: 19s - loss: 0.6577 - accuracy: 0.660 - ETA: 19s - loss: 0.6588 - accuracy: 0.656 - ETA: 19s - loss: 0.6596 - accuracy: 0.652 - ETA: 19s - loss: 0.6603 - accuracy: 0.650 - ETA: 19s - loss: 0.6607 - accuracy: 0.647 - ETA: 19s - loss: 0.6646 - accuracy: 0.635 - ETA: 19s - loss: 0.6613 - accuracy: 0.644 - ETA: 19s - loss: 0.6647 - accuracy: 0.633 - ETA: 19s - loss: 0.6647 - accuracy: 0.633 - ETA: 19s - loss: 0.6646 - accuracy: 0.632 - ETA: 19s - loss: 0.6646 - accuracy: 0.632 - ETA: 19s - loss: 0.6645 - accuracy: 0.631 - ETA: 18s - loss: 0.6645 - accuracy: 0.631 - ETA: 18s - loss: 0.6596 - accuracy: 0.643 - ETA: 18s - loss: 0.6550 - accuracy: 0.654 - ETA: 18s - loss: 0.6600 - accuracy: 0.642 - ETA: 18s - loss: 0.6647 - accuracy: 0.630 - ETA: 18s - loss: 0.6690 - accuracy: 0.619 - ETA: 18s - loss: 0.6688 - accuracy: 0.620 - ETA: 18s - loss: 0.6685 - accuracy: 0.620 - ETA: 18s - loss: 0.6703 - accuracy: 0.615 - ETA: 18s - loss: 0.6719 - accuracy: 0.611 - ETA: 17s - loss: 0.6697 - accuracy: 0.616 - ETA: 17s - loss: 0.6730 - accuracy: 0.608 - ETA: 17s - loss: 0.6726 - accuracy: 0.608 - ETA: 17s - loss: 0.6723 - accuracy: 0.609 - ETA: 17s - loss: 0.6690 - accuracy: 0.617 - ETA: 17s - loss: 0.6673 - accuracy: 0.621 - ETA: 17s - loss: 0.6686 - accuracy: 0.617 - ETA: 17s - loss: 0.6685 - accuracy: 0.618 - ETA: 17s - loss: 0.6683 - accuracy: 0.618 - ETA: 16s - loss: 0.6654 - accuracy: 0.625 - ETA: 16s - loss: 0.6640 - accuracy: 0.628 - ETA: 16s - loss: 0.6626 - accuracy: 0.631 - ETA: 16s - loss: 0.6639 - accuracy: 0.628 - ETA: 16s - loss: 0.6652 - accuracy: 0.625 - ETA: 16s - loss: 0.6665 - accuracy: 0.622 - ETA: 16s - loss: 0.6664 - accuracy: 0.622 - ETA: 16s - loss: 0.6689 - accuracy: 0.616 - ETA: 16s - loss: 0.6674 - accuracy: 0.619 - ETA: 16s - loss: 0.6636 - accuracy: 0.627 - ETA: 15s - loss: 0.6624 - accuracy: 0.630 - ETA: 15s - loss: 0.6599 - accuracy: 0.635 - ETA: 15s - loss: 0.6612 - accuracy: 0.632 - ETA: 15s - loss: 0.6624 - accuracy: 0.629 - ETA: 15s - loss: 0.6661 - accuracy: 0.622 - ETA: 15s - loss: 0.6696 - accuracy: 0.615 - ETA: 15s - loss: 0.6718 - accuracy: 0.611 - ETA: 15s - loss: 0.6727 - accuracy: 0.609 - ETA: 15s - loss: 0.6715 - accuracy: 0.611 - ETA: 15s - loss: 0.6693 - accuracy: 0.616 - ETA: 14s - loss: 0.6692 - accuracy: 0.616 - ETA: 14s - loss: 0.6700 - accuracy: 0.614 - ETA: 14s - loss: 0.6708 - accuracy: 0.612 - ETA: 14s - loss: 0.6707 - accuracy: 0.612 - ETA: 14s - loss: 0.6697 - accuracy: 0.614 - ETA: 14s - loss: 0.6712 - accuracy: 0.611 - ETA: 14s - loss: 0.6719 - accuracy: 0.609 - ETA: 14s - loss: 0.6734 - accuracy: 0.605 - ETA: 14s - loss: 0.6740 - accuracy: 0.604 - ETA: 14s - loss: 0.6753 - accuracy: 0.600 - ETA: 13s - loss: 0.6744 - accuracy: 0.602 - ETA: 13s - loss: 0.6756 - accuracy: 0.599 - ETA: 13s - loss: 0.6755 - accuracy: 0.600 - ETA: 13s - loss: 0.6766 - accuracy: 0.596 - ETA: 13s - loss: 0.6764 - accuracy: 0.597 - ETA: 13s - loss: 0.6757 - accuracy: 0.599 - ETA: 13s - loss: 0.6750 - accuracy: 0.601 - ETA: 13s - loss: 0.6754 - accuracy: 0.600 - ETA: 13s - loss: 0.6753 - accuracy: 0.600 - ETA: 13s - loss: 0.6752 - accuracy: 0.600 - ETA: 12s - loss: 0.6751 - accuracy: 0.601 - ETA: 12s - loss: 0.6759 - accuracy: 0.598 - ETA: 12s - loss: 0.6758 - accuracy: 0.598 - ETA: 12s - loss: 0.6771 - accuracy: 0.594 - ETA: 12s - loss: 0.6779 - accuracy: 0.591 - ETA: 12s - loss: 0.6790 - accuracy: 0.587 - ETA: 12s - loss: 0.6785 - accuracy: 0.589 - ETA: 12s - loss: 0.6788 - accuracy: 0.588 - ETA: 12s - loss: 0.6775 - accuracy: 0.593 - ETA: 12s - loss: 0.6778 - accuracy: 0.592 - ETA: 11s - loss: 0.6773 - accuracy: 0.593 - ETA: 11s - loss: 0.6773 - accuracy: 0.594 - ETA: 11s - loss: 0.6779 - accuracy: 0.591 - ETA: 11s - loss: 0.6781 - accuracy: 0.590 - ETA: 11s - loss: 0.6777 - accuracy: 0.592 - ETA: 11s - loss: 0.6773 - accuracy: 0.594 - ETA: 11s - loss: 0.6762 - accuracy: 0.598 - ETA: 11s - loss: 0.6768 - accuracy: 0.596 - ETA: 11s - loss: 0.6770 - accuracy: 0.595 - ETA: 11s - loss: 0.6770 - accuracy: 0.595 - ETA: 10s - loss: 0.6765 - accuracy: 0.596 - ETA: 10s - loss: 0.6768 - accuracy: 0.596 - ETA: 10s - loss: 0.6774 - accuracy: 0.593 - ETA: 10s - loss: 0.6777 - accuracy: 0.592 - ETA: 10s - loss: 0.6772 - accuracy: 0.594 - ETA: 10s - loss: 0.6768 - accuracy: 0.595 - ETA: 10s - loss: 0.6767 - accuracy: 0.596 - ETA: 10s - loss: 0.6773 - accuracy: 0.594 - ETA: 10s - loss: 0.6772 - accuracy: 0.594 - ETA: 10s - loss: 0.6764 - accuracy: 0.597 - ETA: 9s - loss: 0.6770 - accuracy: 0.594 - ETA: 9s - loss: 0.6762 - accuracy: 0.59 - ETA: 9s - loss: 0.6758 - accuracy: 0.59 - ETA: 9s - loss: 0.6754 - accuracy: 0.60 - ETA: 9s - loss: 0.6753 - accuracy: 0.60 - ETA: 9s - loss: 0.6748 - accuracy: 0.60 - ETA: 9s - loss: 0.6759 - accuracy: 0.59 - ETA: 9s - loss: 0.6750 - accuracy: 0.60 - ETA: 9s - loss: 0.6745 - accuracy: 0.60 - ETA: 8s - loss: 0.6748 - accuracy: 0.60 - ETA: 8s - loss: 0.6747 - accuracy: 0.60 - ETA: 8s - loss: 0.6742 - accuracy: 0.60 - ETA: 8s - loss: 0.6742 - accuracy: 0.60 - ETA: 8s - loss: 0.6753 - accuracy: 0.60 - ETA: 8s - loss: 0.6756 - accuracy: 0.59 - ETA: 8s - loss: 0.6751 - accuracy: 0.60 - ETA: 8s - loss: 0.6746 - accuracy: 0.60 - ETA: 8s - loss: 0.6745 - accuracy: 0.60 - ETA: 8s - loss: 0.6740 - accuracy: 0.60 - ETA: 7s - loss: 0.6735 - accuracy: 0.60 - ETA: 7s - loss: 0.6725 - accuracy: 0.60 - ETA: 7s - loss: 0.6725 - accuracy: 0.60 - ETA: 7s - loss: 0.6728 - accuracy: 0.60 - ETA: 7s - loss: 0.6732 - accuracy: 0.60 - ETA: 7s - loss: 0.6740 - accuracy: 0.60 - ETA: 7s - loss: 0.6753 - accuracy: 0.60 - ETA: 7s - loss: 0.6743 - accuracy: 0.60 - ETA: 7s - loss: 0.6729 - accuracy: 0.60 - ETA: 7s - loss: 0.6732 - accuracy: 0.60 - ETA: 6s - loss: 0.6727 - accuracy: 0.60 - ETA: 6s - loss: 0.6735 - accuracy: 0.60 - ETA: 6s - loss: 0.6747 - accuracy: 0.60 - ETA: 6s - loss: 0.6738 - accuracy: 0.60 - ETA: 6s - loss: 0.6741 - accuracy: 0.60 - ETA: 6s - loss: 0.6745 - accuracy: 0.60 - ETA: 6s - loss: 0.6744 - accuracy: 0.60 - ETA: 6s - loss: 0.6739 - accuracy: 0.60 - ETA: 6s - loss: 0.6742 - accuracy: 0.60 - ETA: 6s - loss: 0.6749 - accuracy: 0.60 - ETA: 5s - loss: 0.6756 - accuracy: 0.59 - ETA: 5s - loss: 0.6773 - accuracy: 0.59 - ETA: 5s - loss: 0.6776 - accuracy: 0.59 - ETA: 5s - loss: 0.6782 - accuracy: 0.59 - ETA: 5s - loss: 0.6790 - accuracy: 0.59 - ETA: 5s - loss: 0.6792 - accuracy: 0.59 - ETA: 5s - loss: 0.6791 - accuracy: 0.59 - ETA: 5s - loss: 0.6790 - accuracy: 0.59 - ETA: 5s - loss: 0.6797 - accuracy: 0.58 - ETA: 5s - loss: 0.6798 - accuracy: 0.58 - ETA: 4s - loss: 0.6798 - accuracy: 0.58 - ETA: 4s - loss: 0.6795 - accuracy: 0.58 - ETA: 4s - loss: 0.6794 - accuracy: 0.58 - ETA: 4s - loss: 0.6792 - accuracy: 0.59 - ETA: 4s - loss: 0.6790 - accuracy: 0.59 - ETA: 4s - loss: 0.6791 - accuracy: 0.59 - ETA: 4s - loss: 0.6796 - accuracy: 0.58 - ETA: 4s - loss: 0.6797 - accuracy: 0.58 - ETA: 4s - loss: 0.6800 - accuracy: 0.58 - ETA: 4s - loss: 0.6799 - accuracy: 0.58 - ETA: 3s - loss: 0.6799 - accuracy: 0.58 - ETA: 3s - loss: 0.6800 - accuracy: 0.58 - ETA: 3s - loss: 0.6798 - accuracy: 0.58 - ETA: 3s - loss: 0.6796 - accuracy: 0.58 - ETA: 3s - loss: 0.6797 - accuracy: 0.58 - ETA: 3s - loss: 0.6798 - accuracy: 0.58 - ETA: 3s - loss: 0.6801 - accuracy: 0.58 - ETA: 3s - loss: 0.6800 - accuracy: 0.58 - ETA: 3s - loss: 0.6796 - accuracy: 0.58 - ETA: 3s - loss: 0.6796 - accuracy: 0.58 - ETA: 2s - loss: 0.6793 - accuracy: 0.59 - ETA: 2s - loss: 0.6791 - accuracy: 0.59 - ETA: 2s - loss: 0.6792 - accuracy: 0.59 - ETA: 2s - loss: 0.6792 - accuracy: 0.59 - ETA: 2s - loss: 0.6793 - accuracy: 0.59 - ETA: 2s - loss: 0.6791 - accuracy: 0.59 - ETA: 2s - loss: 0.6793 - accuracy: 0.59 - ETA: 2s - loss: 0.6793 - accuracy: 0.59 - ETA: 2s - loss: 0.6796 - accuracy: 0.58 - ETA: 2s - loss: 0.6794 - accuracy: 0.59 - ETA: 1s - loss: 0.6798 - accuracy: 0.58 - ETA: 1s - loss: 0.6797 - accuracy: 0.58 - ETA: 1s - loss: 0.6798 - accuracy: 0.58861646/1646 [==============================] - ETA: 1s - loss: 0.6798 - accuracy: 0.58 - ETA: 1s - loss: 0.6797 - accuracy: 0.58 - ETA: 1s - loss: 0.6799 - accuracy: 0.58 - ETA: 1s - loss: 0.6800 - accuracy: 0.58 - ETA: 1s - loss: 0.6796 - accuracy: 0.58 - ETA: 1s - loss: 0.6796 - accuracy: 0.58 - ETA: 0s - loss: 0.6798 - accuracy: 0.58 - ETA: 0s - loss: 0.6799 - accuracy: 0.58 - ETA: 0s - loss: 0.6800 - accuracy: 0.58 - ETA: 0s - loss: 0.6803 - accuracy: 0.58 - ETA: 0s - loss: 0.6801 - accuracy: 0.58 - ETA: 0s - loss: 0.6803 - accuracy: 0.58 - ETA: 0s - loss: 0.6806 - accuracy: 0.58 - ETA: 0s - loss: 0.6805 - accuracy: 0.58 - ETA: 0s - loss: 0.6805 - accuracy: 0.58 - ETA: 0s - loss: 0.6803 - accuracy: 0.58 - 21s 13ms/sample - loss: 0.6804 - accuracy: 0.5863\n"
     ]
    },
    {
     "data": {
      "text/html": [
       "<span style=\"color:#4527A0\"><h1 style=\"font-size:18px\">Trial complete</h1></span>"
      ],
      "text/plain": [
       "<IPython.core.display.HTML object>"
      ]
     },
     "metadata": {},
     "output_type": "display_data"
    },
    {
     "data": {
      "text/html": [
       "<span style=\"color:#4527A0\"><h1 style=\"font-size:18px\">Trial summary</h1></span>"
      ],
      "text/plain": [
       "<IPython.core.display.HTML object>"
      ]
     },
     "metadata": {},
     "output_type": "display_data"
    },
    {
     "data": {
      "text/html": [
       "<span style=\"color:cyan\"> |-Trial ID: ebd72425cef24ff6377ec9d2bad8a9aa</span>"
      ],
      "text/plain": [
       "<IPython.core.display.HTML object>"
      ]
     },
     "metadata": {},
     "output_type": "display_data"
    },
    {
     "data": {
      "text/html": [
       "<span style=\"color:cyan\"> |-Score: 0.586269736289978</span>"
      ],
      "text/plain": [
       "<IPython.core.display.HTML object>"
      ]
     },
     "metadata": {},
     "output_type": "display_data"
    },
    {
     "data": {
      "text/html": [
       "<span style=\"color:cyan\"> |-Best step: 0</span>"
      ],
      "text/plain": [
       "<IPython.core.display.HTML object>"
      ]
     },
     "metadata": {},
     "output_type": "display_data"
    },
    {
     "data": {
      "text/html": [
       "<span style=\"color:#7E57C2\"><h2 style=\"font-size:16px\">Hyperparameters:</h2></span>"
      ],
      "text/plain": [
       "<IPython.core.display.HTML object>"
      ]
     },
     "metadata": {},
     "output_type": "display_data"
    },
    {
     "data": {
      "text/html": [
       "<span style=\"color:cyan\"> |-filters_0: 192</span>"
      ],
      "text/plain": [
       "<IPython.core.display.HTML object>"
      ]
     },
     "metadata": {},
     "output_type": "display_data"
    },
    {
     "data": {
      "text/html": [
       "<span style=\"color:blue\"> |-filters_1: 32</span>"
      ],
      "text/plain": [
       "<IPython.core.display.HTML object>"
      ]
     },
     "metadata": {},
     "output_type": "display_data"
    },
    {
     "data": {
      "text/html": [
       "<span style=\"color:cyan\"> |-filters_2: 128</span>"
      ],
      "text/plain": [
       "<IPython.core.display.HTML object>"
      ]
     },
     "metadata": {},
     "output_type": "display_data"
    },
    {
     "data": {
      "text/html": [
       "<span style=\"color:blue\"> |-filters_3: 192</span>"
      ],
      "text/plain": [
       "<IPython.core.display.HTML object>"
      ]
     },
     "metadata": {},
     "output_type": "display_data"
    },
    {
     "data": {
      "text/html": [
       "<span style=\"color:cyan\"> |-filters_4: 192</span>"
      ],
      "text/plain": [
       "<IPython.core.display.HTML object>"
      ]
     },
     "metadata": {},
     "output_type": "display_data"
    },
    {
     "data": {
      "text/html": [
       "<span style=\"color:blue\"> |-filters_5: 64</span>"
      ],
      "text/plain": [
       "<IPython.core.display.HTML object>"
      ]
     },
     "metadata": {},
     "output_type": "display_data"
    },
    {
     "data": {
      "text/html": [
       "<span style=\"color:cyan\"> |-learning_rate: 0.001</span>"
      ],
      "text/plain": [
       "<IPython.core.display.HTML object>"
      ]
     },
     "metadata": {},
     "output_type": "display_data"
    },
    {
     "data": {
      "text/html": [
       "<span style=\"color:blue\"> |-num_layers: 4</span>"
      ],
      "text/plain": [
       "<IPython.core.display.HTML object>"
      ]
     },
     "metadata": {},
     "output_type": "display_data"
    },
    {
     "data": {
      "text/html": [
       "<span style=\"color:cyan\"> |-pool_0: avg</span>"
      ],
      "text/plain": [
       "<IPython.core.display.HTML object>"
      ]
     },
     "metadata": {},
     "output_type": "display_data"
    },
    {
     "data": {
      "text/html": [
       "<span style=\"color:blue\"> |-pool_1: max</span>"
      ],
      "text/plain": [
       "<IPython.core.display.HTML object>"
      ]
     },
     "metadata": {},
     "output_type": "display_data"
    },
    {
     "data": {
      "text/html": [
       "<span style=\"color:cyan\"> |-pool_2: max</span>"
      ],
      "text/plain": [
       "<IPython.core.display.HTML object>"
      ]
     },
     "metadata": {},
     "output_type": "display_data"
    },
    {
     "data": {
      "text/html": [
       "<span style=\"color:blue\"> |-pool_3: max</span>"
      ],
      "text/plain": [
       "<IPython.core.display.HTML object>"
      ]
     },
     "metadata": {},
     "output_type": "display_data"
    },
    {
     "data": {
      "text/html": [
       "<span style=\"color:cyan\"> |-pool_4: avg</span>"
      ],
      "text/plain": [
       "<IPython.core.display.HTML object>"
      ]
     },
     "metadata": {},
     "output_type": "display_data"
    },
    {
     "name": "stdout",
     "output_type": "stream",
     "text": [
      "Train on 1646 samples\n",
      "Epoch 1/10\n",
      "1504/1646 [==========================>...] - ETA: 6:40 - loss: 0.6663 - accuracy: 0.75 - ETA: 3:30 - loss: 15.7501 - accuracy: 0.562 - ETA: 2:27 - loss: 10.9679 - accuracy: 0.541 - ETA: 1:55 - loss: 8.4563 - accuracy: 0.562 - ETA: 1:36 - loss: 6.8492 - accuracy: 0.62 - ETA: 1:23 - loss: 5.9437 - accuracy: 0.60 - ETA: 1:14 - loss: 5.3382 - accuracy: 0.55 - ETA: 1:07 - loss: 4.8452 - accuracy: 0.51 - ETA: 1:01 - loss: 4.3658 - accuracy: 0.52 - ETA: 57s - loss: 4.0511 - accuracy: 0.5000 - ETA: 53s - loss: 3.7556 - accuracy: 0.477 - ETA: 51s - loss: 3.5084 - accuracy: 0.468 - ETA: 48s - loss: 3.3005 - accuracy: 0.461 - ETA: 46s - loss: 3.1111 - accuracy: 0.473 - ETA: 44s - loss: 2.9543 - accuracy: 0.458 - ETA: 42s - loss: 2.8123 - accuracy: 0.460 - ETA: 41s - loss: 2.6865 - accuracy: 0.470 - ETA: 39s - loss: 2.5753 - accuracy: 0.486 - ETA: 38s - loss: 2.4786 - accuracy: 0.486 - ETA: 37s - loss: 2.3888 - accuracy: 0.493 - ETA: 36s - loss: 2.3059 - accuracy: 0.494 - ETA: 35s - loss: 2.2307 - accuracy: 0.500 - ETA: 34s - loss: 2.1654 - accuracy: 0.494 - ETA: 34s - loss: 2.1089 - accuracy: 0.494 - ETA: 33s - loss: 2.0538 - accuracy: 0.490 - ETA: 32s - loss: 2.0002 - accuracy: 0.495 - ETA: 32s - loss: 1.9574 - accuracy: 0.486 - ETA: 31s - loss: 1.9164 - accuracy: 0.477 - ETA: 30s - loss: 1.8735 - accuracy: 0.482 - ETA: 30s - loss: 1.8331 - accuracy: 0.487 - ETA: 29s - loss: 1.7917 - accuracy: 0.496 - ETA: 29s - loss: 1.7565 - accuracy: 0.500 - ETA: 28s - loss: 1.7140 - accuracy: 0.511 - ETA: 28s - loss: 1.6906 - accuracy: 0.511 - ETA: 27s - loss: 1.6586 - accuracy: 0.517 - ETA: 27s - loss: 1.6309 - accuracy: 0.520 - ETA: 27s - loss: 1.6051 - accuracy: 0.523 - ETA: 26s - loss: 1.5800 - accuracy: 0.526 - ETA: 26s - loss: 1.5566 - accuracy: 0.528 - ETA: 26s - loss: 1.5327 - accuracy: 0.531 - ETA: 25s - loss: 1.5077 - accuracy: 0.539 - ETA: 25s - loss: 1.4868 - accuracy: 0.544 - ETA: 25s - loss: 1.4711 - accuracy: 0.546 - ETA: 24s - loss: 1.4621 - accuracy: 0.539 - ETA: 24s - loss: 1.4458 - accuracy: 0.541 - ETA: 24s - loss: 1.4301 - accuracy: 0.538 - ETA: 23s - loss: 1.4133 - accuracy: 0.542 - ETA: 23s - loss: 1.3985 - accuracy: 0.544 - ETA: 23s - loss: 1.3837 - accuracy: 0.540 - ETA: 23s - loss: 1.3695 - accuracy: 0.545 - ETA: 22s - loss: 1.3554 - accuracy: 0.551 - ETA: 22s - loss: 1.3415 - accuracy: 0.555 - ETA: 22s - loss: 1.3290 - accuracy: 0.556 - ETA: 22s - loss: 1.3161 - accuracy: 0.557 - ETA: 21s - loss: 1.3046 - accuracy: 0.556 - ETA: 21s - loss: 1.2927 - accuracy: 0.558 - ETA: 21s - loss: 1.2818 - accuracy: 0.559 - ETA: 21s - loss: 1.2711 - accuracy: 0.562 - ETA: 20s - loss: 1.2609 - accuracy: 0.561 - ETA: 20s - loss: 1.2484 - accuracy: 0.568 - ETA: 20s - loss: 1.2403 - accuracy: 0.569 - ETA: 20s - loss: 1.2320 - accuracy: 0.570 - ETA: 20s - loss: 1.2226 - accuracy: 0.571 - ETA: 19s - loss: 1.2130 - accuracy: 0.572 - ETA: 19s - loss: 1.2062 - accuracy: 0.571 - ETA: 19s - loss: 1.1965 - accuracy: 0.572 - ETA: 19s - loss: 1.1894 - accuracy: 0.569 - ETA: 19s - loss: 1.1811 - accuracy: 0.569 - ETA: 18s - loss: 1.1728 - accuracy: 0.570 - ETA: 18s - loss: 1.1710 - accuracy: 0.566 - ETA: 18s - loss: 1.1625 - accuracy: 0.568 - ETA: 18s - loss: 1.1553 - accuracy: 0.571 - ETA: 18s - loss: 1.1506 - accuracy: 0.570 - ETA: 18s - loss: 1.1431 - accuracy: 0.570 - ETA: 17s - loss: 1.1376 - accuracy: 0.570 - ETA: 17s - loss: 1.1311 - accuracy: 0.569 - ETA: 17s - loss: 1.1234 - accuracy: 0.573 - ETA: 17s - loss: 1.1162 - accuracy: 0.573 - ETA: 17s - loss: 1.1122 - accuracy: 0.574 - ETA: 17s - loss: 1.1065 - accuracy: 0.573 - ETA: 16s - loss: 1.1012 - accuracy: 0.574 - ETA: 16s - loss: 1.0946 - accuracy: 0.574 - ETA: 16s - loss: 1.0901 - accuracy: 0.573 - ETA: 16s - loss: 1.0840 - accuracy: 0.575 - ETA: 16s - loss: 1.0791 - accuracy: 0.575 - ETA: 16s - loss: 1.0716 - accuracy: 0.578 - ETA: 15s - loss: 1.0667 - accuracy: 0.577 - ETA: 15s - loss: 1.0628 - accuracy: 0.575 - ETA: 15s - loss: 1.0558 - accuracy: 0.577 - ETA: 15s - loss: 1.0501 - accuracy: 0.577 - ETA: 15s - loss: 1.0445 - accuracy: 0.579 - ETA: 15s - loss: 1.0413 - accuracy: 0.578 - ETA: 14s - loss: 1.0381 - accuracy: 0.578 - ETA: 14s - loss: 1.0333 - accuracy: 0.579 - ETA: 14s - loss: 1.0278 - accuracy: 0.582 - ETA: 14s - loss: 1.0244 - accuracy: 0.583 - ETA: 14s - loss: 1.0209 - accuracy: 0.583 - ETA: 14s - loss: 1.0150 - accuracy: 0.586 - ETA: 13s - loss: 1.0113 - accuracy: 0.588 - ETA: 13s - loss: 1.0056 - accuracy: 0.590 - ETA: 13s - loss: 1.0046 - accuracy: 0.590 - ETA: 13s - loss: 1.0033 - accuracy: 0.590 - ETA: 13s - loss: 0.9978 - accuracy: 0.592 - ETA: 13s - loss: 0.9938 - accuracy: 0.593 - ETA: 13s - loss: 0.9924 - accuracy: 0.591 - ETA: 12s - loss: 0.9894 - accuracy: 0.589 - ETA: 12s - loss: 0.9867 - accuracy: 0.588 - ETA: 12s - loss: 0.9833 - accuracy: 0.590 - ETA: 12s - loss: 0.9789 - accuracy: 0.591 - ETA: 12s - loss: 0.9768 - accuracy: 0.592 - ETA: 12s - loss: 0.9736 - accuracy: 0.592 - ETA: 12s - loss: 0.9714 - accuracy: 0.592 - ETA: 11s - loss: 0.9679 - accuracy: 0.595 - ETA: 11s - loss: 0.9639 - accuracy: 0.597 - ETA: 11s - loss: 0.9617 - accuracy: 0.598 - ETA: 11s - loss: 0.9577 - accuracy: 0.601 - ETA: 11s - loss: 0.9568 - accuracy: 0.599 - ETA: 11s - loss: 0.9537 - accuracy: 0.599 - ETA: 11s - loss: 0.9509 - accuracy: 0.599 - ETA: 10s - loss: 0.9477 - accuracy: 0.602 - ETA: 10s - loss: 0.9440 - accuracy: 0.603 - ETA: 10s - loss: 0.9401 - accuracy: 0.604 - ETA: 10s - loss: 0.9407 - accuracy: 0.604 - ETA: 10s - loss: 0.9382 - accuracy: 0.604 - ETA: 10s - loss: 0.9355 - accuracy: 0.605 - ETA: 10s - loss: 0.9327 - accuracy: 0.606 - ETA: 10s - loss: 0.9299 - accuracy: 0.607 - ETA: 9s - loss: 0.9275 - accuracy: 0.607 - ETA: 9s - loss: 0.9249 - accuracy: 0.60 - ETA: 9s - loss: 0.9241 - accuracy: 0.60 - ETA: 9s - loss: 0.9221 - accuracy: 0.60 - ETA: 9s - loss: 0.9204 - accuracy: 0.60 - ETA: 9s - loss: 0.9169 - accuracy: 0.60 - ETA: 9s - loss: 0.9160 - accuracy: 0.60 - ETA: 8s - loss: 0.9131 - accuracy: 0.60 - ETA: 8s - loss: 0.9100 - accuracy: 0.61 - ETA: 8s - loss: 0.9071 - accuracy: 0.61 - ETA: 8s - loss: 0.9040 - accuracy: 0.61 - ETA: 8s - loss: 0.9014 - accuracy: 0.61 - ETA: 8s - loss: 0.8984 - accuracy: 0.61 - ETA: 8s - loss: 0.8967 - accuracy: 0.61 - ETA: 8s - loss: 0.8950 - accuracy: 0.61 - ETA: 7s - loss: 0.8932 - accuracy: 0.61 - ETA: 7s - loss: 0.8919 - accuracy: 0.61 - ETA: 7s - loss: 0.8878 - accuracy: 0.61 - ETA: 7s - loss: 0.8850 - accuracy: 0.61 - ETA: 7s - loss: 0.8841 - accuracy: 0.61 - ETA: 7s - loss: 0.8825 - accuracy: 0.61 - ETA: 7s - loss: 0.8821 - accuracy: 0.61 - ETA: 6s - loss: 0.8789 - accuracy: 0.61 - ETA: 6s - loss: 0.8751 - accuracy: 0.62 - ETA: 6s - loss: 0.8721 - accuracy: 0.62 - ETA: 6s - loss: 0.8692 - accuracy: 0.62 - ETA: 6s - loss: 0.8678 - accuracy: 0.62 - ETA: 6s - loss: 0.8665 - accuracy: 0.62 - ETA: 6s - loss: 0.8644 - accuracy: 0.62 - ETA: 6s - loss: 0.8624 - accuracy: 0.62 - ETA: 5s - loss: 0.8595 - accuracy: 0.62 - ETA: 5s - loss: 0.8579 - accuracy: 0.62 - ETA: 5s - loss: 0.8551 - accuracy: 0.63 - ETA: 5s - loss: 0.8525 - accuracy: 0.63 - ETA: 5s - loss: 0.8510 - accuracy: 0.63 - ETA: 5s - loss: 0.8518 - accuracy: 0.63 - ETA: 5s - loss: 0.8502 - accuracy: 0.63 - ETA: 5s - loss: 0.8475 - accuracy: 0.63 - ETA: 4s - loss: 0.8446 - accuracy: 0.63 - ETA: 4s - loss: 0.8414 - accuracy: 0.63 - ETA: 4s - loss: 0.8395 - accuracy: 0.63 - ETA: 4s - loss: 0.8365 - accuracy: 0.63 - ETA: 4s - loss: 0.8358 - accuracy: 0.63 - ETA: 4s - loss: 0.8347 - accuracy: 0.63 - ETA: 4s - loss: 0.8317 - accuracy: 0.64 - ETA: 4s - loss: 0.8288 - accuracy: 0.64 - ETA: 3s - loss: 0.8265 - accuracy: 0.64 - ETA: 3s - loss: 0.8258 - accuracy: 0.64 - ETA: 3s - loss: 0.8221 - accuracy: 0.64 - ETA: 3s - loss: 0.8211 - accuracy: 0.64 - ETA: 3s - loss: 0.8179 - accuracy: 0.64 - ETA: 3s - loss: 0.8158 - accuracy: 0.64 - ETA: 3s - loss: 0.8145 - accuracy: 0.64 - ETA: 3s - loss: 0.8132 - accuracy: 0.64 - ETA: 2s - loss: 0.8111 - accuracy: 0.64 - ETA: 2s - loss: 0.8093 - accuracy: 0.64 - ETA: 2s - loss: 0.8065 - accuracy: 0.65 - ETA: 2s - loss: 0.8093 - accuracy: 0.65 - ETA: 2s - loss: 0.8055 - accuracy: 0.65 - ETA: 2s - loss: 0.8040 - accuracy: 0.65 - ETA: 2s - loss: 0.8028 - accuracy: 0.6523\b\b\b\b\b\b\b\b\b\b\b\b\b\b\b\b\b\b\b\b\b\b\b\b\b\b\b\b\b\b\b\b\b\b\b\b\b\b\b\b\b\b\b\b\b\b\b\b\b\b\b\b\b\b\b\b\b\b\b\b\b\b\b\b\b\b\b\b\b\b\b\b\b\b\b\b\b\b\b\b\b\b\b\b\b\b1646/1646 [==============================] - ETA: 2s - loss: 0.8013 - accuracy: 0.65 - ETA: 1s - loss: 0.8010 - accuracy: 0.65 - ETA: 1s - loss: 0.7998 - accuracy: 0.65 - ETA: 1s - loss: 0.7983 - accuracy: 0.65 - ETA: 1s - loss: 0.7961 - accuracy: 0.65 - ETA: 1s - loss: 0.7937 - accuracy: 0.65 - ETA: 1s - loss: 0.7922 - accuracy: 0.65 - ETA: 1s - loss: 0.7924 - accuracy: 0.65 - ETA: 1s - loss: 0.7927 - accuracy: 0.65 - ETA: 0s - loss: 0.7913 - accuracy: 0.65 - ETA: 0s - loss: 0.7903 - accuracy: 0.65 - ETA: 0s - loss: 0.7899 - accuracy: 0.65 - ETA: 0s - loss: 0.7890 - accuracy: 0.65 - ETA: 0s - loss: 0.7949 - accuracy: 0.65 - ETA: 0s - loss: 0.7945 - accuracy: 0.65 - ETA: 0s - loss: 0.7934 - accuracy: 0.65 - ETA: 0s - loss: 0.7924 - accuracy: 0.65 - 27s 16ms/sample - loss: 0.7916 - accuracy: 0.6537\n",
      "Epoch 2/10\n",
      "1512/1646 [==========================>...] - ETA: 21s - loss: 0.5227 - accuracy: 0.750 - ETA: 22s - loss: 0.6158 - accuracy: 0.562 - ETA: 22s - loss: 0.6414 - accuracy: 0.541 - ETA: 22s - loss: 0.6251 - accuracy: 0.593 - ETA: 22s - loss: 0.6273 - accuracy: 0.575 - ETA: 22s - loss: 0.6272 - accuracy: 0.583 - ETA: 22s - loss: 0.6221 - accuracy: 0.607 - ETA: 22s - loss: 0.6064 - accuracy: 0.640 - ETA: 22s - loss: 0.6181 - accuracy: 0.625 - ETA: 22s - loss: 0.6216 - accuracy: 0.625 - ETA: 22s - loss: 0.6117 - accuracy: 0.647 - ETA: 22s - loss: 0.5992 - accuracy: 0.666 - ETA: 21s - loss: 0.5928 - accuracy: 0.682 - ETA: 21s - loss: 0.5862 - accuracy: 0.696 - ETA: 21s - loss: 0.5688 - accuracy: 0.708 - ETA: 21s - loss: 0.5670 - accuracy: 0.710 - ETA: 21s - loss: 0.5610 - accuracy: 0.705 - ETA: 21s - loss: 0.5485 - accuracy: 0.715 - ETA: 21s - loss: 0.5519 - accuracy: 0.717 - ETA: 21s - loss: 0.5652 - accuracy: 0.712 - ETA: 21s - loss: 0.5941 - accuracy: 0.696 - ETA: 20s - loss: 0.5812 - accuracy: 0.710 - ETA: 20s - loss: 0.5829 - accuracy: 0.712 - ETA: 20s - loss: 0.5806 - accuracy: 0.713 - ETA: 20s - loss: 0.5776 - accuracy: 0.710 - ETA: 20s - loss: 0.5768 - accuracy: 0.706 - ETA: 20s - loss: 0.5828 - accuracy: 0.699 - ETA: 20s - loss: 0.5765 - accuracy: 0.705 - ETA: 20s - loss: 0.5796 - accuracy: 0.702 - ETA: 20s - loss: 0.5820 - accuracy: 0.700 - ETA: 19s - loss: 0.5781 - accuracy: 0.701 - ETA: 19s - loss: 0.5783 - accuracy: 0.703 - ETA: 19s - loss: 0.5810 - accuracy: 0.700 - ETA: 19s - loss: 0.5767 - accuracy: 0.705 - ETA: 19s - loss: 0.5717 - accuracy: 0.710 - ETA: 19s - loss: 0.5635 - accuracy: 0.715 - ETA: 19s - loss: 0.5573 - accuracy: 0.723 - ETA: 19s - loss: 0.5513 - accuracy: 0.727 - ETA: 18s - loss: 0.5561 - accuracy: 0.724 - ETA: 18s - loss: 0.5506 - accuracy: 0.728 - ETA: 18s - loss: 0.5439 - accuracy: 0.731 - ETA: 18s - loss: 0.5424 - accuracy: 0.732 - ETA: 18s - loss: 0.5512 - accuracy: 0.732 - ETA: 18s - loss: 0.5478 - accuracy: 0.735 - ETA: 18s - loss: 0.5395 - accuracy: 0.741 - ETA: 18s - loss: 0.5409 - accuracy: 0.739 - ETA: 18s - loss: 0.5423 - accuracy: 0.739 - ETA: 17s - loss: 0.5412 - accuracy: 0.739 - ETA: 17s - loss: 0.5413 - accuracy: 0.739 - ETA: 17s - loss: 0.5388 - accuracy: 0.742 - ETA: 17s - loss: 0.5447 - accuracy: 0.737 - ETA: 17s - loss: 0.5426 - accuracy: 0.740 - ETA: 17s - loss: 0.5421 - accuracy: 0.740 - ETA: 17s - loss: 0.5387 - accuracy: 0.740 - ETA: 17s - loss: 0.5364 - accuracy: 0.740 - ETA: 17s - loss: 0.5464 - accuracy: 0.734 - ETA: 16s - loss: 0.5478 - accuracy: 0.734 - ETA: 16s - loss: 0.5470 - accuracy: 0.737 - ETA: 16s - loss: 0.5527 - accuracy: 0.735 - ETA: 16s - loss: 0.5548 - accuracy: 0.733 - ETA: 16s - loss: 0.5535 - accuracy: 0.735 - ETA: 16s - loss: 0.5492 - accuracy: 0.737 - ETA: 16s - loss: 0.5464 - accuracy: 0.738 - ETA: 16s - loss: 0.5456 - accuracy: 0.738 - ETA: 16s - loss: 0.5416 - accuracy: 0.740 - ETA: 15s - loss: 0.5413 - accuracy: 0.740 - ETA: 15s - loss: 0.5406 - accuracy: 0.740 - ETA: 15s - loss: 0.5399 - accuracy: 0.740 - ETA: 15s - loss: 0.5397 - accuracy: 0.740 - ETA: 15s - loss: 0.5389 - accuracy: 0.742 - ETA: 15s - loss: 0.5419 - accuracy: 0.741 - ETA: 15s - loss: 0.5387 - accuracy: 0.744 - ETA: 15s - loss: 0.5379 - accuracy: 0.748 - ETA: 15s - loss: 0.5388 - accuracy: 0.746 - ETA: 14s - loss: 0.5365 - accuracy: 0.748 - ETA: 14s - loss: 0.5347 - accuracy: 0.750 - ETA: 14s - loss: 0.5351 - accuracy: 0.750 - ETA: 14s - loss: 0.5339 - accuracy: 0.751 - ETA: 14s - loss: 0.5311 - accuracy: 0.753 - ETA: 14s - loss: 0.5287 - accuracy: 0.754 - ETA: 14s - loss: 0.5301 - accuracy: 0.751 - ETA: 14s - loss: 0.5274 - accuracy: 0.753 - ETA: 13s - loss: 0.5300 - accuracy: 0.751 - ETA: 13s - loss: 0.5316 - accuracy: 0.747 - ETA: 13s - loss: 0.5351 - accuracy: 0.745 - ETA: 13s - loss: 0.5341 - accuracy: 0.748 - ETA: 13s - loss: 0.5340 - accuracy: 0.748 - ETA: 13s - loss: 0.5358 - accuracy: 0.745 - ETA: 13s - loss: 0.5343 - accuracy: 0.745 - ETA: 13s - loss: 0.5334 - accuracy: 0.745 - ETA: 13s - loss: 0.5317 - accuracy: 0.745 - ETA: 12s - loss: 0.5304 - accuracy: 0.747 - ETA: 12s - loss: 0.5303 - accuracy: 0.747 - ETA: 12s - loss: 0.5315 - accuracy: 0.746 - ETA: 12s - loss: 0.5311 - accuracy: 0.746 - ETA: 12s - loss: 0.5316 - accuracy: 0.746 - ETA: 12s - loss: 0.5305 - accuracy: 0.747 - ETA: 12s - loss: 0.5343 - accuracy: 0.744 - ETA: 12s - loss: 0.5358 - accuracy: 0.744 - ETA: 12s - loss: 0.5364 - accuracy: 0.742 - ETA: 11s - loss: 0.5386 - accuracy: 0.740 - ETA: 11s - loss: 0.5375 - accuracy: 0.741 - ETA: 11s - loss: 0.5388 - accuracy: 0.741 - ETA: 11s - loss: 0.5378 - accuracy: 0.741 - ETA: 11s - loss: 0.5362 - accuracy: 0.742 - ETA: 11s - loss: 0.5340 - accuracy: 0.744 - ETA: 11s - loss: 0.5338 - accuracy: 0.744 - ETA: 11s - loss: 0.5336 - accuracy: 0.743 - ETA: 11s - loss: 0.5339 - accuracy: 0.742 - ETA: 10s - loss: 0.5367 - accuracy: 0.739 - ETA: 10s - loss: 0.5413 - accuracy: 0.735 - ETA: 10s - loss: 0.5397 - accuracy: 0.736 - ETA: 10s - loss: 0.5382 - accuracy: 0.736 - ETA: 10s - loss: 0.5479 - accuracy: 0.732 - ETA: 10s - loss: 0.5465 - accuracy: 0.732 - ETA: 10s - loss: 0.5469 - accuracy: 0.730 - ETA: 10s - loss: 0.5466 - accuracy: 0.730 - ETA: 10s - loss: 0.5468 - accuracy: 0.729 - ETA: 9s - loss: 0.5449 - accuracy: 0.732 - ETA: 9s - loss: 0.5441 - accuracy: 0.73 - ETA: 9s - loss: 0.5434 - accuracy: 0.73 - ETA: 9s - loss: 0.5417 - accuracy: 0.73 - ETA: 9s - loss: 0.5417 - accuracy: 0.73 - ETA: 9s - loss: 0.5413 - accuracy: 0.73 - ETA: 9s - loss: 0.5434 - accuracy: 0.73 - ETA: 9s - loss: 0.5419 - accuracy: 0.73 - ETA: 8s - loss: 0.5421 - accuracy: 0.73 - ETA: 8s - loss: 0.5439 - accuracy: 0.73 - ETA: 8s - loss: 0.5436 - accuracy: 0.72 - ETA: 8s - loss: 0.5453 - accuracy: 0.72 - ETA: 8s - loss: 0.5472 - accuracy: 0.72 - ETA: 8s - loss: 0.5470 - accuracy: 0.72 - ETA: 8s - loss: 0.5475 - accuracy: 0.72 - ETA: 8s - loss: 0.5473 - accuracy: 0.72 - ETA: 8s - loss: 0.5461 - accuracy: 0.72 - ETA: 7s - loss: 0.5454 - accuracy: 0.72 - ETA: 7s - loss: 0.5466 - accuracy: 0.72 - ETA: 7s - loss: 0.5452 - accuracy: 0.72 - ETA: 7s - loss: 0.5451 - accuracy: 0.72 - ETA: 7s - loss: 0.5433 - accuracy: 0.73 - ETA: 7s - loss: 0.5427 - accuracy: 0.73 - ETA: 7s - loss: 0.5424 - accuracy: 0.73 - ETA: 7s - loss: 0.5410 - accuracy: 0.73 - ETA: 7s - loss: 0.5410 - accuracy: 0.73 - ETA: 6s - loss: 0.5420 - accuracy: 0.73 - ETA: 6s - loss: 0.5420 - accuracy: 0.73 - ETA: 6s - loss: 0.5413 - accuracy: 0.73 - ETA: 6s - loss: 0.5424 - accuracy: 0.73 - ETA: 6s - loss: 0.5426 - accuracy: 0.73 - ETA: 6s - loss: 0.5450 - accuracy: 0.73 - ETA: 6s - loss: 0.5470 - accuracy: 0.73 - ETA: 6s - loss: 0.5471 - accuracy: 0.73 - ETA: 6s - loss: 0.5469 - accuracy: 0.73 - ETA: 5s - loss: 0.5476 - accuracy: 0.72 - ETA: 5s - loss: 0.5487 - accuracy: 0.72 - ETA: 5s - loss: 0.5489 - accuracy: 0.72 - ETA: 5s - loss: 0.5486 - accuracy: 0.72 - ETA: 5s - loss: 0.5481 - accuracy: 0.72 - ETA: 5s - loss: 0.5481 - accuracy: 0.72 - ETA: 5s - loss: 0.5467 - accuracy: 0.73 - ETA: 5s - loss: 0.5461 - accuracy: 0.72 - ETA: 5s - loss: 0.5446 - accuracy: 0.73 - ETA: 4s - loss: 0.5456 - accuracy: 0.73 - ETA: 4s - loss: 0.5468 - accuracy: 0.73 - ETA: 4s - loss: 0.5448 - accuracy: 0.73 - ETA: 4s - loss: 0.5451 - accuracy: 0.73 - ETA: 4s - loss: 0.5476 - accuracy: 0.73 - ETA: 4s - loss: 0.5479 - accuracy: 0.73 - ETA: 4s - loss: 0.5476 - accuracy: 0.73 - ETA: 4s - loss: 0.5470 - accuracy: 0.73 - ETA: 3s - loss: 0.5453 - accuracy: 0.73 - ETA: 3s - loss: 0.5445 - accuracy: 0.73 - ETA: 3s - loss: 0.5446 - accuracy: 0.73 - ETA: 3s - loss: 0.5457 - accuracy: 0.73 - ETA: 3s - loss: 0.5460 - accuracy: 0.73 - ETA: 3s - loss: 0.5442 - accuracy: 0.73 - ETA: 3s - loss: 0.5438 - accuracy: 0.73 - ETA: 3s - loss: 0.5441 - accuracy: 0.73 - ETA: 3s - loss: 0.5445 - accuracy: 0.73 - ETA: 2s - loss: 0.5429 - accuracy: 0.73 - ETA: 2s - loss: 0.5413 - accuracy: 0.73 - ETA: 2s - loss: 0.5407 - accuracy: 0.73 - ETA: 2s - loss: 0.5410 - accuracy: 0.73 - ETA: 2s - loss: 0.5407 - accuracy: 0.73 - ETA: 2s - loss: 0.5390 - accuracy: 0.73 - ETA: 2s - loss: 0.5393 - accuracy: 0.73 - ETA: 2s - loss: 0.5386 - accuracy: 0.73 - ETA: 2s - loss: 0.5398 - accuracy: 0.73 - ETA: 1s - loss: 0.5389 - accuracy: 0.73881646/1646 [==============================] - ETA: 1s - loss: 0.5371 - accuracy: 0.74 - ETA: 1s - loss: 0.5361 - accuracy: 0.74 - ETA: 1s - loss: 0.5386 - accuracy: 0.74 - ETA: 1s - loss: 0.5373 - accuracy: 0.74 - ETA: 1s - loss: 0.5372 - accuracy: 0.74 - ETA: 1s - loss: 0.5374 - accuracy: 0.74 - ETA: 1s - loss: 0.5380 - accuracy: 0.74 - ETA: 1s - loss: 0.5371 - accuracy: 0.74 - ETA: 0s - loss: 0.5381 - accuracy: 0.74 - ETA: 0s - loss: 0.5388 - accuracy: 0.73 - ETA: 0s - loss: 0.5383 - accuracy: 0.74 - ETA: 0s - loss: 0.5394 - accuracy: 0.73 - ETA: 0s - loss: 0.5395 - accuracy: 0.73 - ETA: 0s - loss: 0.5392 - accuracy: 0.73 - ETA: 0s - loss: 0.5388 - accuracy: 0.73 - ETA: 0s - loss: 0.5388 - accuracy: 0.73 - 24s 15ms/sample - loss: 0.5388 - accuracy: 0.7394\n",
      "Epoch 3/10\n",
      "1512/1646 [==========================>...] - ETA: 23s - loss: 0.6062 - accuracy: 0.750 - ETA: 23s - loss: 0.5135 - accuracy: 0.875 - ETA: 23s - loss: 0.5213 - accuracy: 0.791 - ETA: 23s - loss: 0.5417 - accuracy: 0.750 - ETA: 23s - loss: 0.5104 - accuracy: 0.775 - ETA: 23s - loss: 0.5297 - accuracy: 0.750 - ETA: 23s - loss: 0.5379 - accuracy: 0.732 - ETA: 23s - loss: 0.5433 - accuracy: 0.718 - ETA: 22s - loss: 0.5353 - accuracy: 0.722 - ETA: 22s - loss: 0.5247 - accuracy: 0.737 - ETA: 22s - loss: 0.4988 - accuracy: 0.761 - ETA: 22s - loss: 0.5004 - accuracy: 0.760 - ETA: 22s - loss: 0.4756 - accuracy: 0.778 - ETA: 22s - loss: 0.4762 - accuracy: 0.785 - ETA: 22s - loss: 0.4562 - accuracy: 0.800 - ETA: 22s - loss: 0.4472 - accuracy: 0.804 - ETA: 21s - loss: 0.4473 - accuracy: 0.808 - ETA: 21s - loss: 0.4490 - accuracy: 0.805 - ETA: 21s - loss: 0.4499 - accuracy: 0.802 - ETA: 21s - loss: 0.4666 - accuracy: 0.787 - ETA: 21s - loss: 0.4761 - accuracy: 0.773 - ETA: 21s - loss: 0.4884 - accuracy: 0.767 - ETA: 21s - loss: 0.4886 - accuracy: 0.766 - ETA: 21s - loss: 0.4955 - accuracy: 0.765 - ETA: 21s - loss: 0.4899 - accuracy: 0.765 - ETA: 20s - loss: 0.4906 - accuracy: 0.764 - ETA: 20s - loss: 0.4918 - accuracy: 0.768 - ETA: 20s - loss: 0.4890 - accuracy: 0.772 - ETA: 20s - loss: 0.5014 - accuracy: 0.758 - ETA: 20s - loss: 0.5091 - accuracy: 0.758 - ETA: 20s - loss: 0.5070 - accuracy: 0.762 - ETA: 20s - loss: 0.5097 - accuracy: 0.757 - ETA: 20s - loss: 0.5146 - accuracy: 0.753 - ETA: 20s - loss: 0.5204 - accuracy: 0.739 - ETA: 19s - loss: 0.5189 - accuracy: 0.739 - ETA: 19s - loss: 0.5145 - accuracy: 0.743 - ETA: 19s - loss: 0.5116 - accuracy: 0.746 - ETA: 19s - loss: 0.5131 - accuracy: 0.746 - ETA: 19s - loss: 0.5165 - accuracy: 0.743 - ETA: 19s - loss: 0.5129 - accuracy: 0.746 - ETA: 19s - loss: 0.5131 - accuracy: 0.747 - ETA: 19s - loss: 0.5078 - accuracy: 0.753 - ETA: 18s - loss: 0.5048 - accuracy: 0.752 - ETA: 18s - loss: 0.4985 - accuracy: 0.755 - ETA: 18s - loss: 0.4984 - accuracy: 0.752 - ETA: 18s - loss: 0.4910 - accuracy: 0.758 - ETA: 18s - loss: 0.4944 - accuracy: 0.755 - ETA: 18s - loss: 0.4880 - accuracy: 0.757 - ETA: 18s - loss: 0.4947 - accuracy: 0.757 - ETA: 18s - loss: 0.4949 - accuracy: 0.757 - ETA: 18s - loss: 0.4953 - accuracy: 0.754 - ETA: 17s - loss: 0.4954 - accuracy: 0.757 - ETA: 17s - loss: 0.5017 - accuracy: 0.757 - ETA: 17s - loss: 0.4970 - accuracy: 0.759 - ETA: 17s - loss: 0.4911 - accuracy: 0.763 - ETA: 17s - loss: 0.4971 - accuracy: 0.761 - ETA: 17s - loss: 0.4982 - accuracy: 0.756 - ETA: 17s - loss: 0.5025 - accuracy: 0.752 - ETA: 17s - loss: 0.5039 - accuracy: 0.750 - ETA: 17s - loss: 0.5094 - accuracy: 0.743 - ETA: 16s - loss: 0.5112 - accuracy: 0.743 - ETA: 16s - loss: 0.5118 - accuracy: 0.744 - ETA: 16s - loss: 0.5133 - accuracy: 0.740 - ETA: 16s - loss: 0.5146 - accuracy: 0.736 - ETA: 16s - loss: 0.5148 - accuracy: 0.736 - ETA: 16s - loss: 0.5153 - accuracy: 0.738 - ETA: 16s - loss: 0.5145 - accuracy: 0.740 - ETA: 16s - loss: 0.5144 - accuracy: 0.740 - ETA: 15s - loss: 0.5150 - accuracy: 0.739 - ETA: 15s - loss: 0.5148 - accuracy: 0.739 - ETA: 15s - loss: 0.5123 - accuracy: 0.741 - ETA: 15s - loss: 0.5117 - accuracy: 0.739 - ETA: 15s - loss: 0.5108 - accuracy: 0.741 - ETA: 15s - loss: 0.5095 - accuracy: 0.744 - ETA: 15s - loss: 0.5119 - accuracy: 0.743 - ETA: 15s - loss: 0.5117 - accuracy: 0.741 - ETA: 15s - loss: 0.5114 - accuracy: 0.741 - ETA: 14s - loss: 0.5088 - accuracy: 0.743 - ETA: 14s - loss: 0.5078 - accuracy: 0.745 - ETA: 14s - loss: 0.5072 - accuracy: 0.745 - ETA: 14s - loss: 0.5065 - accuracy: 0.746 - ETA: 14s - loss: 0.5037 - accuracy: 0.748 - ETA: 14s - loss: 0.5028 - accuracy: 0.750 - ETA: 14s - loss: 0.5002 - accuracy: 0.751 - ETA: 14s - loss: 0.4994 - accuracy: 0.751 - ETA: 13s - loss: 0.5006 - accuracy: 0.751 - ETA: 13s - loss: 0.4991 - accuracy: 0.752 - ETA: 13s - loss: 0.4953 - accuracy: 0.754 - ETA: 13s - loss: 0.5026 - accuracy: 0.752 - ETA: 13s - loss: 0.5027 - accuracy: 0.752 - ETA: 13s - loss: 0.5009 - accuracy: 0.754 - ETA: 13s - loss: 0.5017 - accuracy: 0.754 - ETA: 13s - loss: 0.5002 - accuracy: 0.755 - ETA: 13s - loss: 0.4987 - accuracy: 0.755 - ETA: 12s - loss: 0.4978 - accuracy: 0.755 - ETA: 12s - loss: 0.4972 - accuracy: 0.755 - ETA: 12s - loss: 0.4969 - accuracy: 0.756 - ETA: 12s - loss: 0.4963 - accuracy: 0.756 - ETA: 12s - loss: 0.4975 - accuracy: 0.755 - ETA: 12s - loss: 0.4958 - accuracy: 0.756 - ETA: 12s - loss: 0.4948 - accuracy: 0.758 - ETA: 12s - loss: 0.4957 - accuracy: 0.758 - ETA: 11s - loss: 0.4950 - accuracy: 0.758 - ETA: 11s - loss: 0.4963 - accuracy: 0.757 - ETA: 11s - loss: 0.4955 - accuracy: 0.758 - ETA: 11s - loss: 0.4947 - accuracy: 0.759 - ETA: 11s - loss: 0.4947 - accuracy: 0.759 - ETA: 11s - loss: 0.4961 - accuracy: 0.756 - ETA: 11s - loss: 0.4989 - accuracy: 0.756 - ETA: 11s - loss: 0.4979 - accuracy: 0.756 - ETA: 10s - loss: 0.4987 - accuracy: 0.756 - ETA: 10s - loss: 0.4979 - accuracy: 0.756 - ETA: 10s - loss: 0.4966 - accuracy: 0.757 - ETA: 10s - loss: 0.4973 - accuracy: 0.755 - ETA: 10s - loss: 0.4987 - accuracy: 0.754 - ETA: 10s - loss: 0.4986 - accuracy: 0.754 - ETA: 10s - loss: 0.4970 - accuracy: 0.756 - ETA: 10s - loss: 0.4952 - accuracy: 0.758 - ETA: 10s - loss: 0.4956 - accuracy: 0.758 - ETA: 9s - loss: 0.4953 - accuracy: 0.758 - ETA: 9s - loss: 0.4929 - accuracy: 0.76 - ETA: 9s - loss: 0.4964 - accuracy: 0.75 - ETA: 9s - loss: 0.4947 - accuracy: 0.75 - ETA: 9s - loss: 0.4941 - accuracy: 0.75 - ETA: 9s - loss: 0.4923 - accuracy: 0.76 - ETA: 9s - loss: 0.4910 - accuracy: 0.76 - ETA: 9s - loss: 0.4909 - accuracy: 0.76 - ETA: 9s - loss: 0.4924 - accuracy: 0.75 - ETA: 8s - loss: 0.4944 - accuracy: 0.75 - ETA: 8s - loss: 0.4952 - accuracy: 0.75 - ETA: 8s - loss: 0.4934 - accuracy: 0.76 - ETA: 8s - loss: 0.4946 - accuracy: 0.75 - ETA: 8s - loss: 0.4934 - accuracy: 0.76 - ETA: 8s - loss: 0.4938 - accuracy: 0.76 - ETA: 8s - loss: 0.4936 - accuracy: 0.75 - ETA: 8s - loss: 0.4949 - accuracy: 0.75 - ETA: 7s - loss: 0.4939 - accuracy: 0.75 - ETA: 7s - loss: 0.4926 - accuracy: 0.76 - ETA: 7s - loss: 0.4914 - accuracy: 0.76 - ETA: 7s - loss: 0.4921 - accuracy: 0.75 - ETA: 7s - loss: 0.4925 - accuracy: 0.75 - ETA: 7s - loss: 0.4930 - accuracy: 0.75 - ETA: 7s - loss: 0.4927 - accuracy: 0.75 - ETA: 7s - loss: 0.4931 - accuracy: 0.75 - ETA: 7s - loss: 0.4920 - accuracy: 0.76 - ETA: 6s - loss: 0.4920 - accuracy: 0.76 - ETA: 6s - loss: 0.4921 - accuracy: 0.76 - ETA: 6s - loss: 0.4935 - accuracy: 0.76 - ETA: 6s - loss: 0.4946 - accuracy: 0.76 - ETA: 6s - loss: 0.4935 - accuracy: 0.76 - ETA: 6s - loss: 0.4930 - accuracy: 0.76 - ETA: 6s - loss: 0.4918 - accuracy: 0.76 - ETA: 6s - loss: 0.4912 - accuracy: 0.76 - ETA: 6s - loss: 0.4902 - accuracy: 0.76 - ETA: 5s - loss: 0.4887 - accuracy: 0.76 - ETA: 5s - loss: 0.4878 - accuracy: 0.76 - ETA: 5s - loss: 0.4883 - accuracy: 0.76 - ETA: 5s - loss: 0.4897 - accuracy: 0.76 - ETA: 5s - loss: 0.4912 - accuracy: 0.76 - ETA: 5s - loss: 0.4914 - accuracy: 0.76 - ETA: 5s - loss: 0.4908 - accuracy: 0.76 - ETA: 5s - loss: 0.4903 - accuracy: 0.76 - ETA: 4s - loss: 0.4887 - accuracy: 0.76 - ETA: 4s - loss: 0.4875 - accuracy: 0.76 - ETA: 4s - loss: 0.4885 - accuracy: 0.76 - ETA: 4s - loss: 0.4871 - accuracy: 0.76 - ETA: 4s - loss: 0.4867 - accuracy: 0.76 - ETA: 4s - loss: 0.4850 - accuracy: 0.76 - ETA: 4s - loss: 0.4844 - accuracy: 0.76 - ETA: 4s - loss: 0.4843 - accuracy: 0.76 - ETA: 4s - loss: 0.4837 - accuracy: 0.76 - ETA: 3s - loss: 0.4844 - accuracy: 0.76 - ETA: 3s - loss: 0.4859 - accuracy: 0.76 - ETA: 3s - loss: 0.4849 - accuracy: 0.76 - ETA: 3s - loss: 0.4837 - accuracy: 0.76 - ETA: 3s - loss: 0.4828 - accuracy: 0.76 - ETA: 3s - loss: 0.4839 - accuracy: 0.76 - ETA: 3s - loss: 0.4892 - accuracy: 0.76 - ETA: 3s - loss: 0.4879 - accuracy: 0.76 - ETA: 2s - loss: 0.4870 - accuracy: 0.76 - ETA: 2s - loss: 0.4880 - accuracy: 0.76 - ETA: 2s - loss: 0.4882 - accuracy: 0.76 - ETA: 2s - loss: 0.4873 - accuracy: 0.76 - ETA: 2s - loss: 0.4870 - accuracy: 0.76 - ETA: 2s - loss: 0.4853 - accuracy: 0.76 - ETA: 2s - loss: 0.4850 - accuracy: 0.77 - ETA: 2s - loss: 0.4858 - accuracy: 0.76 - ETA: 2s - loss: 0.4846 - accuracy: 0.77 - ETA: 1s - loss: 0.4840 - accuracy: 0.77181646/1646 [==============================] - ETA: 1s - loss: 0.4847 - accuracy: 0.77 - ETA: 1s - loss: 0.4856 - accuracy: 0.76 - ETA: 1s - loss: 0.4853 - accuracy: 0.77 - ETA: 1s - loss: 0.4843 - accuracy: 0.77 - ETA: 1s - loss: 0.4822 - accuracy: 0.77 - ETA: 1s - loss: 0.4809 - accuracy: 0.77 - ETA: 1s - loss: 0.4814 - accuracy: 0.77 - ETA: 1s - loss: 0.4801 - accuracy: 0.77 - ETA: 0s - loss: 0.4795 - accuracy: 0.77 - ETA: 0s - loss: 0.4780 - accuracy: 0.77 - ETA: 0s - loss: 0.4798 - accuracy: 0.77 - ETA: 0s - loss: 0.4803 - accuracy: 0.77 - ETA: 0s - loss: 0.4813 - accuracy: 0.77 - ETA: 0s - loss: 0.4800 - accuracy: 0.77 - ETA: 0s - loss: 0.4788 - accuracy: 0.77 - ETA: 0s - loss: 0.4786 - accuracy: 0.77 - 26s 15ms/sample - loss: 0.4778 - accuracy: 0.7734\n",
      "Epoch 4/10\n",
      "1512/1646 [==========================>...] - ETA: 20s - loss: 0.7997 - accuracy: 0.750 - ETA: 21s - loss: 0.7784 - accuracy: 0.750 - ETA: 22s - loss: 0.7552 - accuracy: 0.708 - ETA: 22s - loss: 0.7518 - accuracy: 0.718 - ETA: 22s - loss: 0.7122 - accuracy: 0.725 - ETA: 21s - loss: 0.6926 - accuracy: 0.729 - ETA: 22s - loss: 0.6809 - accuracy: 0.714 - ETA: 21s - loss: 0.6531 - accuracy: 0.734 - ETA: 21s - loss: 0.6300 - accuracy: 0.750 - ETA: 21s - loss: 0.6278 - accuracy: 0.737 - ETA: 21s - loss: 0.6243 - accuracy: 0.738 - ETA: 21s - loss: 0.6140 - accuracy: 0.750 - ETA: 21s - loss: 0.6281 - accuracy: 0.721 - ETA: 21s - loss: 0.6366 - accuracy: 0.696 - ETA: 21s - loss: 0.6334 - accuracy: 0.700 - ETA: 21s - loss: 0.6281 - accuracy: 0.695 - ETA: 20s - loss: 0.6207 - accuracy: 0.705 - ETA: 20s - loss: 0.6178 - accuracy: 0.715 - ETA: 20s - loss: 0.6128 - accuracy: 0.717 - ETA: 20s - loss: 0.6149 - accuracy: 0.718 - ETA: 20s - loss: 0.6044 - accuracy: 0.726 - ETA: 20s - loss: 0.5940 - accuracy: 0.738 - ETA: 20s - loss: 0.5889 - accuracy: 0.739 - ETA: 20s - loss: 0.5822 - accuracy: 0.739 - ETA: 20s - loss: 0.5742 - accuracy: 0.745 - ETA: 20s - loss: 0.5660 - accuracy: 0.750 - ETA: 19s - loss: 0.5634 - accuracy: 0.750 - ETA: 19s - loss: 0.5667 - accuracy: 0.745 - ETA: 19s - loss: 0.5633 - accuracy: 0.745 - ETA: 19s - loss: 0.5566 - accuracy: 0.750 - ETA: 19s - loss: 0.5624 - accuracy: 0.741 - ETA: 19s - loss: 0.5627 - accuracy: 0.746 - ETA: 19s - loss: 0.5578 - accuracy: 0.746 - ETA: 19s - loss: 0.5556 - accuracy: 0.746 - ETA: 19s - loss: 0.5441 - accuracy: 0.753 - ETA: 18s - loss: 0.5556 - accuracy: 0.753 - ETA: 18s - loss: 0.5451 - accuracy: 0.760 - ETA: 18s - loss: 0.5455 - accuracy: 0.759 - ETA: 18s - loss: 0.5386 - accuracy: 0.762 - ETA: 18s - loss: 0.5317 - accuracy: 0.768 - ETA: 18s - loss: 0.5235 - accuracy: 0.774 - ETA: 18s - loss: 0.5168 - accuracy: 0.773 - ETA: 18s - loss: 0.5123 - accuracy: 0.776 - ETA: 18s - loss: 0.5081 - accuracy: 0.778 - ETA: 18s - loss: 0.5019 - accuracy: 0.783 - ETA: 17s - loss: 0.5050 - accuracy: 0.782 - ETA: 17s - loss: 0.5017 - accuracy: 0.784 - ETA: 17s - loss: 0.5024 - accuracy: 0.783 - ETA: 17s - loss: 0.5115 - accuracy: 0.778 - ETA: 17s - loss: 0.5077 - accuracy: 0.780 - ETA: 17s - loss: 0.5032 - accuracy: 0.784 - ETA: 17s - loss: 0.4979 - accuracy: 0.788 - ETA: 17s - loss: 0.4934 - accuracy: 0.790 - ETA: 16s - loss: 0.4927 - accuracy: 0.791 - ETA: 16s - loss: 0.4858 - accuracy: 0.795 - ETA: 16s - loss: 0.4890 - accuracy: 0.794 - ETA: 16s - loss: 0.4909 - accuracy: 0.789 - ETA: 16s - loss: 0.4995 - accuracy: 0.784 - ETA: 16s - loss: 0.4988 - accuracy: 0.783 - ETA: 16s - loss: 0.4972 - accuracy: 0.783 - ETA: 16s - loss: 0.4966 - accuracy: 0.782 - ETA: 16s - loss: 0.4997 - accuracy: 0.782 - ETA: 16s - loss: 0.4961 - accuracy: 0.785 - ETA: 15s - loss: 0.4973 - accuracy: 0.783 - ETA: 15s - loss: 0.4989 - accuracy: 0.782 - ETA: 15s - loss: 0.4953 - accuracy: 0.786 - ETA: 15s - loss: 0.4943 - accuracy: 0.787 - ETA: 15s - loss: 0.4928 - accuracy: 0.788 - ETA: 15s - loss: 0.4902 - accuracy: 0.791 - ETA: 15s - loss: 0.4893 - accuracy: 0.792 - ETA: 15s - loss: 0.4855 - accuracy: 0.795 - ETA: 15s - loss: 0.4874 - accuracy: 0.793 - ETA: 14s - loss: 0.4944 - accuracy: 0.789 - ETA: 14s - loss: 0.4925 - accuracy: 0.790 - ETA: 14s - loss: 0.4946 - accuracy: 0.786 - ETA: 14s - loss: 0.4909 - accuracy: 0.787 - ETA: 14s - loss: 0.4888 - accuracy: 0.789 - ETA: 14s - loss: 0.4901 - accuracy: 0.786 - ETA: 14s - loss: 0.4877 - accuracy: 0.788 - ETA: 14s - loss: 0.4862 - accuracy: 0.789 - ETA: 14s - loss: 0.4825 - accuracy: 0.791 - ETA: 13s - loss: 0.4793 - accuracy: 0.792 - ETA: 13s - loss: 0.4752 - accuracy: 0.795 - ETA: 13s - loss: 0.4758 - accuracy: 0.794 - ETA: 13s - loss: 0.4766 - accuracy: 0.794 - ETA: 13s - loss: 0.4760 - accuracy: 0.795 - ETA: 13s - loss: 0.4755 - accuracy: 0.794 - ETA: 13s - loss: 0.4762 - accuracy: 0.794 - ETA: 13s - loss: 0.4765 - accuracy: 0.793 - ETA: 13s - loss: 0.4744 - accuracy: 0.794 - ETA: 12s - loss: 0.4751 - accuracy: 0.792 - ETA: 12s - loss: 0.4777 - accuracy: 0.792 - ETA: 12s - loss: 0.4784 - accuracy: 0.790 - ETA: 12s - loss: 0.4756 - accuracy: 0.791 - ETA: 12s - loss: 0.4760 - accuracy: 0.789 - ETA: 12s - loss: 0.4768 - accuracy: 0.790 - ETA: 12s - loss: 0.4800 - accuracy: 0.787 - ETA: 12s - loss: 0.4779 - accuracy: 0.789 - ETA: 12s - loss: 0.4751 - accuracy: 0.791 - ETA: 11s - loss: 0.4732 - accuracy: 0.792 - ETA: 11s - loss: 0.4728 - accuracy: 0.793 - ETA: 11s - loss: 0.4719 - accuracy: 0.794 - ETA: 11s - loss: 0.4770 - accuracy: 0.792 - ETA: 11s - loss: 0.4787 - accuracy: 0.790 - ETA: 11s - loss: 0.4770 - accuracy: 0.792 - ETA: 11s - loss: 0.4767 - accuracy: 0.791 - ETA: 11s - loss: 0.4772 - accuracy: 0.790 - ETA: 11s - loss: 0.4768 - accuracy: 0.789 - ETA: 10s - loss: 0.4759 - accuracy: 0.790 - ETA: 10s - loss: 0.4754 - accuracy: 0.789 - ETA: 10s - loss: 0.4774 - accuracy: 0.788 - ETA: 10s - loss: 0.4797 - accuracy: 0.787 - ETA: 10s - loss: 0.4808 - accuracy: 0.786 - ETA: 10s - loss: 0.4821 - accuracy: 0.786 - ETA: 10s - loss: 0.4802 - accuracy: 0.787 - ETA: 10s - loss: 0.4793 - accuracy: 0.787 - ETA: 10s - loss: 0.4796 - accuracy: 0.787 - ETA: 9s - loss: 0.4783 - accuracy: 0.787 - ETA: 9s - loss: 0.4778 - accuracy: 0.78 - ETA: 9s - loss: 0.4770 - accuracy: 0.78 - ETA: 9s - loss: 0.4761 - accuracy: 0.78 - ETA: 9s - loss: 0.4765 - accuracy: 0.78 - ETA: 9s - loss: 0.4777 - accuracy: 0.78 - ETA: 9s - loss: 0.4776 - accuracy: 0.78 - ETA: 9s - loss: 0.4793 - accuracy: 0.78 - ETA: 9s - loss: 0.4774 - accuracy: 0.78 - ETA: 8s - loss: 0.4766 - accuracy: 0.78 - ETA: 8s - loss: 0.4754 - accuracy: 0.78 - ETA: 8s - loss: 0.4745 - accuracy: 0.78 - ETA: 8s - loss: 0.4734 - accuracy: 0.78 - ETA: 8s - loss: 0.4706 - accuracy: 0.78 - ETA: 8s - loss: 0.4685 - accuracy: 0.78 - ETA: 8s - loss: 0.4702 - accuracy: 0.78 - ETA: 8s - loss: 0.4677 - accuracy: 0.78 - ETA: 8s - loss: 0.4718 - accuracy: 0.78 - ETA: 7s - loss: 0.4737 - accuracy: 0.78 - ETA: 7s - loss: 0.4729 - accuracy: 0.78 - ETA: 7s - loss: 0.4732 - accuracy: 0.78 - ETA: 7s - loss: 0.4735 - accuracy: 0.78 - ETA: 7s - loss: 0.4727 - accuracy: 0.78 - ETA: 7s - loss: 0.4711 - accuracy: 0.78 - ETA: 7s - loss: 0.4683 - accuracy: 0.78 - ETA: 7s - loss: 0.4673 - accuracy: 0.78 - ETA: 7s - loss: 0.4683 - accuracy: 0.78 - ETA: 6s - loss: 0.4707 - accuracy: 0.78 - ETA: 6s - loss: 0.4705 - accuracy: 0.78 - ETA: 6s - loss: 0.4683 - accuracy: 0.78 - ETA: 6s - loss: 0.4660 - accuracy: 0.78 - ETA: 6s - loss: 0.4658 - accuracy: 0.78 - ETA: 6s - loss: 0.4655 - accuracy: 0.78 - ETA: 6s - loss: 0.4646 - accuracy: 0.78 - ETA: 6s - loss: 0.4638 - accuracy: 0.78 - ETA: 5s - loss: 0.4641 - accuracy: 0.78 - ETA: 5s - loss: 0.4622 - accuracy: 0.79 - ETA: 5s - loss: 0.4642 - accuracy: 0.78 - ETA: 5s - loss: 0.4635 - accuracy: 0.78 - ETA: 5s - loss: 0.4622 - accuracy: 0.78 - ETA: 5s - loss: 0.4618 - accuracy: 0.78 - ETA: 5s - loss: 0.4609 - accuracy: 0.79 - ETA: 5s - loss: 0.4605 - accuracy: 0.78 - ETA: 5s - loss: 0.4610 - accuracy: 0.78 - ETA: 4s - loss: 0.4597 - accuracy: 0.78 - ETA: 4s - loss: 0.4615 - accuracy: 0.78 - ETA: 4s - loss: 0.4631 - accuracy: 0.78 - ETA: 4s - loss: 0.4636 - accuracy: 0.78 - ETA: 4s - loss: 0.4649 - accuracy: 0.78 - ETA: 4s - loss: 0.4637 - accuracy: 0.78 - ETA: 4s - loss: 0.4629 - accuracy: 0.78 - ETA: 4s - loss: 0.4627 - accuracy: 0.78 - ETA: 4s - loss: 0.4609 - accuracy: 0.78 - ETA: 3s - loss: 0.4602 - accuracy: 0.78 - ETA: 3s - loss: 0.4597 - accuracy: 0.78 - ETA: 3s - loss: 0.4600 - accuracy: 0.78 - ETA: 3s - loss: 0.4609 - accuracy: 0.78 - ETA: 3s - loss: 0.4600 - accuracy: 0.78 - ETA: 3s - loss: 0.4596 - accuracy: 0.78 - ETA: 3s - loss: 0.4594 - accuracy: 0.78 - ETA: 3s - loss: 0.4577 - accuracy: 0.78 - ETA: 3s - loss: 0.4600 - accuracy: 0.78 - ETA: 2s - loss: 0.4616 - accuracy: 0.78 - ETA: 2s - loss: 0.4613 - accuracy: 0.78 - ETA: 2s - loss: 0.4607 - accuracy: 0.78 - ETA: 2s - loss: 0.4593 - accuracy: 0.78 - ETA: 2s - loss: 0.4591 - accuracy: 0.78 - ETA: 2s - loss: 0.4585 - accuracy: 0.78 - ETA: 2s - loss: 0.4580 - accuracy: 0.78 - ETA: 2s - loss: 0.4589 - accuracy: 0.78 - ETA: 2s - loss: 0.4582 - accuracy: 0.78 - ETA: 1s - loss: 0.4582 - accuracy: 0.78771646/1646 [==============================] - ETA: 1s - loss: 0.4587 - accuracy: 0.78 - ETA: 1s - loss: 0.4587 - accuracy: 0.78 - ETA: 1s - loss: 0.4584 - accuracy: 0.78 - ETA: 1s - loss: 0.4578 - accuracy: 0.78 - ETA: 1s - loss: 0.4579 - accuracy: 0.78 - ETA: 1s - loss: 0.4580 - accuracy: 0.78 - ETA: 1s - loss: 0.4585 - accuracy: 0.78 - ETA: 0s - loss: 0.4583 - accuracy: 0.78 - ETA: 0s - loss: 0.4581 - accuracy: 0.78 - ETA: 0s - loss: 0.4569 - accuracy: 0.78 - ETA: 0s - loss: 0.4563 - accuracy: 0.79 - ETA: 0s - loss: 0.4561 - accuracy: 0.79 - ETA: 0s - loss: 0.4551 - accuracy: 0.79 - ETA: 0s - loss: 0.4554 - accuracy: 0.79 - ETA: 0s - loss: 0.4539 - accuracy: 0.79 - ETA: 0s - loss: 0.4555 - accuracy: 0.79 - 26s 15ms/sample - loss: 0.4552 - accuracy: 0.7922\n",
      "Epoch 5/10\n",
      "1512/1646 [==========================>...] - ETA: 19s - loss: 0.4123 - accuracy: 0.875 - ETA: 21s - loss: 0.6587 - accuracy: 0.750 - ETA: 22s - loss: 0.6147 - accuracy: 0.791 - ETA: 22s - loss: 0.5325 - accuracy: 0.812 - ETA: 21s - loss: 0.5190 - accuracy: 0.800 - ETA: 21s - loss: 0.4848 - accuracy: 0.833 - ETA: 21s - loss: 0.4493 - accuracy: 0.857 - ETA: 21s - loss: 0.4382 - accuracy: 0.843 - ETA: 21s - loss: 0.4147 - accuracy: 0.847 - ETA: 21s - loss: 0.4150 - accuracy: 0.837 - ETA: 21s - loss: 0.4243 - accuracy: 0.829 - ETA: 21s - loss: 0.4177 - accuracy: 0.833 - ETA: 20s - loss: 0.4273 - accuracy: 0.826 - ETA: 20s - loss: 0.4197 - accuracy: 0.830 - ETA: 20s - loss: 0.4258 - accuracy: 0.816 - ETA: 20s - loss: 0.4398 - accuracy: 0.812 - ETA: 20s - loss: 0.4685 - accuracy: 0.794 - ETA: 20s - loss: 0.4502 - accuracy: 0.805 - ETA: 20s - loss: 0.4374 - accuracy: 0.815 - ETA: 20s - loss: 0.4282 - accuracy: 0.818 - ETA: 20s - loss: 0.4279 - accuracy: 0.809 - ETA: 20s - loss: 0.4251 - accuracy: 0.806 - ETA: 20s - loss: 0.4245 - accuracy: 0.809 - ETA: 19s - loss: 0.4489 - accuracy: 0.796 - ETA: 19s - loss: 0.4469 - accuracy: 0.805 - ETA: 19s - loss: 0.4414 - accuracy: 0.807 - ETA: 19s - loss: 0.4513 - accuracy: 0.800 - ETA: 19s - loss: 0.4458 - accuracy: 0.799 - ETA: 19s - loss: 0.4398 - accuracy: 0.806 - ETA: 19s - loss: 0.4424 - accuracy: 0.804 - ETA: 19s - loss: 0.4498 - accuracy: 0.798 - ETA: 19s - loss: 0.4469 - accuracy: 0.796 - ETA: 19s - loss: 0.4453 - accuracy: 0.795 - ETA: 19s - loss: 0.4382 - accuracy: 0.801 - ETA: 18s - loss: 0.4333 - accuracy: 0.803 - ETA: 18s - loss: 0.4403 - accuracy: 0.798 - ETA: 18s - loss: 0.4364 - accuracy: 0.797 - ETA: 18s - loss: 0.4421 - accuracy: 0.792 - ETA: 18s - loss: 0.4360 - accuracy: 0.798 - ETA: 18s - loss: 0.4355 - accuracy: 0.800 - ETA: 18s - loss: 0.4325 - accuracy: 0.801 - ETA: 18s - loss: 0.4271 - accuracy: 0.803 - ETA: 18s - loss: 0.4198 - accuracy: 0.808 - ETA: 17s - loss: 0.4177 - accuracy: 0.809 - ETA: 17s - loss: 0.4199 - accuracy: 0.805 - ETA: 17s - loss: 0.4147 - accuracy: 0.807 - ETA: 17s - loss: 0.4077 - accuracy: 0.811 - ETA: 17s - loss: 0.4047 - accuracy: 0.812 - ETA: 17s - loss: 0.4036 - accuracy: 0.811 - ETA: 17s - loss: 0.4005 - accuracy: 0.812 - ETA: 17s - loss: 0.3965 - accuracy: 0.813 - ETA: 17s - loss: 0.3940 - accuracy: 0.812 - ETA: 16s - loss: 0.3930 - accuracy: 0.811 - ETA: 16s - loss: 0.3954 - accuracy: 0.812 - ETA: 16s - loss: 0.4159 - accuracy: 0.806 - ETA: 16s - loss: 0.4252 - accuracy: 0.801 - ETA: 16s - loss: 0.4333 - accuracy: 0.798 - ETA: 16s - loss: 0.4314 - accuracy: 0.799 - ETA: 16s - loss: 0.4308 - accuracy: 0.800 - ETA: 16s - loss: 0.4269 - accuracy: 0.804 - ETA: 16s - loss: 0.4245 - accuracy: 0.805 - ETA: 16s - loss: 0.4236 - accuracy: 0.806 - ETA: 15s - loss: 0.4243 - accuracy: 0.803 - ETA: 15s - loss: 0.4242 - accuracy: 0.802 - ETA: 15s - loss: 0.4247 - accuracy: 0.800 - ETA: 15s - loss: 0.4208 - accuracy: 0.803 - ETA: 15s - loss: 0.4189 - accuracy: 0.804 - ETA: 15s - loss: 0.4203 - accuracy: 0.801 - ETA: 15s - loss: 0.4178 - accuracy: 0.804 - ETA: 15s - loss: 0.4185 - accuracy: 0.803 - ETA: 15s - loss: 0.4207 - accuracy: 0.802 - ETA: 14s - loss: 0.4209 - accuracy: 0.802 - ETA: 14s - loss: 0.4177 - accuracy: 0.804 - ETA: 14s - loss: 0.4166 - accuracy: 0.804 - ETA: 14s - loss: 0.4169 - accuracy: 0.803 - ETA: 14s - loss: 0.4144 - accuracy: 0.805 - ETA: 14s - loss: 0.4161 - accuracy: 0.803 - ETA: 14s - loss: 0.4163 - accuracy: 0.801 - ETA: 14s - loss: 0.4136 - accuracy: 0.802 - ETA: 14s - loss: 0.4106 - accuracy: 0.804 - ETA: 13s - loss: 0.4096 - accuracy: 0.805 - ETA: 13s - loss: 0.4158 - accuracy: 0.804 - ETA: 13s - loss: 0.4154 - accuracy: 0.805 - ETA: 13s - loss: 0.4140 - accuracy: 0.806 - ETA: 13s - loss: 0.4146 - accuracy: 0.805 - ETA: 13s - loss: 0.4118 - accuracy: 0.808 - ETA: 13s - loss: 0.4134 - accuracy: 0.807 - ETA: 13s - loss: 0.4103 - accuracy: 0.809 - ETA: 13s - loss: 0.4088 - accuracy: 0.811 - ETA: 13s - loss: 0.4107 - accuracy: 0.811 - ETA: 12s - loss: 0.4099 - accuracy: 0.811 - ETA: 12s - loss: 0.4087 - accuracy: 0.812 - ETA: 12s - loss: 0.4068 - accuracy: 0.814 - ETA: 12s - loss: 0.4088 - accuracy: 0.813 - ETA: 12s - loss: 0.4089 - accuracy: 0.813 - ETA: 12s - loss: 0.4124 - accuracy: 0.809 - ETA: 12s - loss: 0.4129 - accuracy: 0.809 - ETA: 12s - loss: 0.4130 - accuracy: 0.809 - ETA: 12s - loss: 0.4101 - accuracy: 0.811 - ETA: 11s - loss: 0.4091 - accuracy: 0.812 - ETA: 11s - loss: 0.4067 - accuracy: 0.814 - ETA: 11s - loss: 0.4052 - accuracy: 0.816 - ETA: 11s - loss: 0.4056 - accuracy: 0.814 - ETA: 11s - loss: 0.4053 - accuracy: 0.814 - ETA: 11s - loss: 0.4054 - accuracy: 0.813 - ETA: 11s - loss: 0.4053 - accuracy: 0.813 - ETA: 11s - loss: 0.4060 - accuracy: 0.811 - ETA: 11s - loss: 0.4157 - accuracy: 0.809 - ETA: 10s - loss: 0.4151 - accuracy: 0.809 - ETA: 10s - loss: 0.4153 - accuracy: 0.808 - ETA: 10s - loss: 0.4159 - accuracy: 0.807 - ETA: 10s - loss: 0.4161 - accuracy: 0.806 - ETA: 10s - loss: 0.4171 - accuracy: 0.805 - ETA: 10s - loss: 0.4227 - accuracy: 0.803 - ETA: 10s - loss: 0.4217 - accuracy: 0.804 - ETA: 10s - loss: 0.4213 - accuracy: 0.803 - ETA: 10s - loss: 0.4201 - accuracy: 0.804 - ETA: 9s - loss: 0.4211 - accuracy: 0.804 - ETA: 9s - loss: 0.4214 - accuracy: 0.80 - ETA: 9s - loss: 0.4224 - accuracy: 0.80 - ETA: 9s - loss: 0.4203 - accuracy: 0.80 - ETA: 9s - loss: 0.4184 - accuracy: 0.80 - ETA: 9s - loss: 0.4197 - accuracy: 0.80 - ETA: 9s - loss: 0.4183 - accuracy: 0.80 - ETA: 9s - loss: 0.4174 - accuracy: 0.80 - ETA: 9s - loss: 0.4178 - accuracy: 0.80 - ETA: 8s - loss: 0.4197 - accuracy: 0.80 - ETA: 8s - loss: 0.4204 - accuracy: 0.80 - ETA: 8s - loss: 0.4198 - accuracy: 0.80 - ETA: 8s - loss: 0.4193 - accuracy: 0.80 - ETA: 8s - loss: 0.4187 - accuracy: 0.80 - ETA: 8s - loss: 0.4211 - accuracy: 0.80 - ETA: 8s - loss: 0.4197 - accuracy: 0.80 - ETA: 8s - loss: 0.4205 - accuracy: 0.80 - ETA: 8s - loss: 0.4185 - accuracy: 0.80 - ETA: 7s - loss: 0.4196 - accuracy: 0.80 - ETA: 7s - loss: 0.4189 - accuracy: 0.80 - ETA: 7s - loss: 0.4180 - accuracy: 0.80 - ETA: 7s - loss: 0.4181 - accuracy: 0.80 - ETA: 7s - loss: 0.4186 - accuracy: 0.80 - ETA: 7s - loss: 0.4187 - accuracy: 0.80 - ETA: 7s - loss: 0.4174 - accuracy: 0.80 - ETA: 7s - loss: 0.4151 - accuracy: 0.80 - ETA: 6s - loss: 0.4142 - accuracy: 0.80 - ETA: 6s - loss: 0.4136 - accuracy: 0.81 - ETA: 6s - loss: 0.4159 - accuracy: 0.80 - ETA: 6s - loss: 0.4183 - accuracy: 0.80 - ETA: 6s - loss: 0.4181 - accuracy: 0.80 - ETA: 6s - loss: 0.4178 - accuracy: 0.80 - ETA: 6s - loss: 0.4177 - accuracy: 0.80 - ETA: 6s - loss: 0.4174 - accuracy: 0.80 - ETA: 6s - loss: 0.4189 - accuracy: 0.80 - ETA: 5s - loss: 0.4191 - accuracy: 0.80 - ETA: 5s - loss: 0.4179 - accuracy: 0.81 - ETA: 5s - loss: 0.4158 - accuracy: 0.81 - ETA: 5s - loss: 0.4159 - accuracy: 0.81 - ETA: 5s - loss: 0.4177 - accuracy: 0.81 - ETA: 5s - loss: 0.4176 - accuracy: 0.81 - ETA: 5s - loss: 0.4185 - accuracy: 0.80 - ETA: 5s - loss: 0.4205 - accuracy: 0.80 - ETA: 5s - loss: 0.4198 - accuracy: 0.80 - ETA: 4s - loss: 0.4197 - accuracy: 0.80 - ETA: 4s - loss: 0.4221 - accuracy: 0.80 - ETA: 4s - loss: 0.4217 - accuracy: 0.80 - ETA: 4s - loss: 0.4207 - accuracy: 0.80 - ETA: 4s - loss: 0.4197 - accuracy: 0.80 - ETA: 4s - loss: 0.4223 - accuracy: 0.80 - ETA: 4s - loss: 0.4226 - accuracy: 0.80 - ETA: 4s - loss: 0.4215 - accuracy: 0.80 - ETA: 4s - loss: 0.4220 - accuracy: 0.80 - ETA: 3s - loss: 0.4234 - accuracy: 0.80 - ETA: 3s - loss: 0.4232 - accuracy: 0.80 - ETA: 3s - loss: 0.4224 - accuracy: 0.80 - ETA: 3s - loss: 0.4231 - accuracy: 0.80 - ETA: 3s - loss: 0.4228 - accuracy: 0.80 - ETA: 3s - loss: 0.4227 - accuracy: 0.80 - ETA: 3s - loss: 0.4237 - accuracy: 0.80 - ETA: 3s - loss: 0.4236 - accuracy: 0.80 - ETA: 3s - loss: 0.4236 - accuracy: 0.80 - ETA: 2s - loss: 0.4255 - accuracy: 0.80 - ETA: 2s - loss: 0.4259 - accuracy: 0.80 - ETA: 2s - loss: 0.4258 - accuracy: 0.80 - ETA: 2s - loss: 0.4251 - accuracy: 0.80 - ETA: 2s - loss: 0.4259 - accuracy: 0.80 - ETA: 2s - loss: 0.4265 - accuracy: 0.80 - ETA: 2s - loss: 0.4276 - accuracy: 0.80 - ETA: 2s - loss: 0.4294 - accuracy: 0.80 - ETA: 2s - loss: 0.4313 - accuracy: 0.80 - ETA: 1s - loss: 0.4308 - accuracy: 0.80291646/1646 [==============================] - ETA: 1s - loss: 0.4307 - accuracy: 0.80 - ETA: 1s - loss: 0.4303 - accuracy: 0.80 - ETA: 1s - loss: 0.4290 - accuracy: 0.80 - ETA: 1s - loss: 0.4293 - accuracy: 0.80 - ETA: 1s - loss: 0.4298 - accuracy: 0.80 - ETA: 1s - loss: 0.4308 - accuracy: 0.80 - ETA: 1s - loss: 0.4307 - accuracy: 0.80 - ETA: 0s - loss: 0.4322 - accuracy: 0.80 - ETA: 0s - loss: 0.4333 - accuracy: 0.80 - ETA: 0s - loss: 0.4349 - accuracy: 0.80 - ETA: 0s - loss: 0.4336 - accuracy: 0.80 - ETA: 0s - loss: 0.4339 - accuracy: 0.80 - ETA: 0s - loss: 0.4341 - accuracy: 0.80 - ETA: 0s - loss: 0.4326 - accuracy: 0.80 - ETA: 0s - loss: 0.4324 - accuracy: 0.80 - ETA: 0s - loss: 0.4315 - accuracy: 0.80 - 26s 16ms/sample - loss: 0.4311 - accuracy: 0.8026\n",
      "Epoch 6/10\n",
      "1512/1646 [==========================>...] - ETA: 23s - loss: 0.7051 - accuracy: 0.625 - ETA: 21s - loss: 0.5397 - accuracy: 0.750 - ETA: 22s - loss: 0.4396 - accuracy: 0.791 - ETA: 22s - loss: 0.4049 - accuracy: 0.781 - ETA: 22s - loss: 0.4699 - accuracy: 0.700 - ETA: 22s - loss: 0.4232 - accuracy: 0.729 - ETA: 22s - loss: 0.4113 - accuracy: 0.750 - ETA: 22s - loss: 0.3739 - accuracy: 0.781 - ETA: 21s - loss: 0.3939 - accuracy: 0.777 - ETA: 21s - loss: 0.4102 - accuracy: 0.775 - ETA: 21s - loss: 0.4399 - accuracy: 0.772 - ETA: 21s - loss: 0.4461 - accuracy: 0.770 - ETA: 21s - loss: 0.4464 - accuracy: 0.778 - ETA: 21s - loss: 0.4729 - accuracy: 0.750 - ETA: 21s - loss: 0.4622 - accuracy: 0.758 - ETA: 21s - loss: 0.4506 - accuracy: 0.773 - ETA: 20s - loss: 0.4394 - accuracy: 0.786 - ETA: 20s - loss: 0.4286 - accuracy: 0.791 - ETA: 20s - loss: 0.4248 - accuracy: 0.796 - ETA: 20s - loss: 0.4185 - accuracy: 0.800 - ETA: 20s - loss: 0.4199 - accuracy: 0.791 - ETA: 20s - loss: 0.4184 - accuracy: 0.789 - ETA: 20s - loss: 0.4066 - accuracy: 0.798 - ETA: 20s - loss: 0.4396 - accuracy: 0.786 - ETA: 20s - loss: 0.4309 - accuracy: 0.795 - ETA: 19s - loss: 0.4381 - accuracy: 0.783 - ETA: 19s - loss: 0.4421 - accuracy: 0.782 - ETA: 19s - loss: 0.4392 - accuracy: 0.785 - ETA: 19s - loss: 0.4343 - accuracy: 0.788 - ETA: 19s - loss: 0.4300 - accuracy: 0.795 - ETA: 19s - loss: 0.4247 - accuracy: 0.798 - ETA: 19s - loss: 0.4335 - accuracy: 0.789 - ETA: 19s - loss: 0.4364 - accuracy: 0.784 - ETA: 19s - loss: 0.4453 - accuracy: 0.775 - ETA: 18s - loss: 0.4407 - accuracy: 0.782 - ETA: 18s - loss: 0.4397 - accuracy: 0.781 - ETA: 18s - loss: 0.4392 - accuracy: 0.783 - ETA: 18s - loss: 0.4418 - accuracy: 0.779 - ETA: 18s - loss: 0.4380 - accuracy: 0.782 - ETA: 18s - loss: 0.4524 - accuracy: 0.775 - ETA: 18s - loss: 0.4509 - accuracy: 0.777 - ETA: 18s - loss: 0.4452 - accuracy: 0.782 - ETA: 18s - loss: 0.4384 - accuracy: 0.787 - ETA: 18s - loss: 0.4391 - accuracy: 0.786 - ETA: 17s - loss: 0.4343 - accuracy: 0.788 - ETA: 17s - loss: 0.4326 - accuracy: 0.790 - ETA: 17s - loss: 0.4313 - accuracy: 0.792 - ETA: 17s - loss: 0.4338 - accuracy: 0.794 - ETA: 17s - loss: 0.4323 - accuracy: 0.798 - ETA: 17s - loss: 0.4261 - accuracy: 0.802 - ETA: 17s - loss: 0.4231 - accuracy: 0.803 - ETA: 17s - loss: 0.4228 - accuracy: 0.802 - ETA: 17s - loss: 0.4252 - accuracy: 0.801 - ETA: 16s - loss: 0.4313 - accuracy: 0.798 - ETA: 16s - loss: 0.4275 - accuracy: 0.800 - ETA: 16s - loss: 0.4244 - accuracy: 0.801 - ETA: 16s - loss: 0.4221 - accuracy: 0.802 - ETA: 16s - loss: 0.4269 - accuracy: 0.801 - ETA: 16s - loss: 0.4255 - accuracy: 0.800 - ETA: 16s - loss: 0.4218 - accuracy: 0.802 - ETA: 16s - loss: 0.4158 - accuracy: 0.805 - ETA: 16s - loss: 0.4102 - accuracy: 0.808 - ETA: 16s - loss: 0.4071 - accuracy: 0.811 - ETA: 15s - loss: 0.4088 - accuracy: 0.810 - ETA: 15s - loss: 0.4049 - accuracy: 0.813 - ETA: 15s - loss: 0.4066 - accuracy: 0.814 - ETA: 15s - loss: 0.4070 - accuracy: 0.813 - ETA: 15s - loss: 0.4082 - accuracy: 0.812 - ETA: 15s - loss: 0.4061 - accuracy: 0.813 - ETA: 15s - loss: 0.4077 - accuracy: 0.812 - ETA: 15s - loss: 0.4107 - accuracy: 0.811 - ETA: 15s - loss: 0.4120 - accuracy: 0.810 - ETA: 14s - loss: 0.4180 - accuracy: 0.808 - ETA: 14s - loss: 0.4156 - accuracy: 0.809 - ETA: 14s - loss: 0.4141 - accuracy: 0.808 - ETA: 14s - loss: 0.4187 - accuracy: 0.807 - ETA: 14s - loss: 0.4203 - accuracy: 0.806 - ETA: 14s - loss: 0.4172 - accuracy: 0.809 - ETA: 14s - loss: 0.4162 - accuracy: 0.808 - ETA: 14s - loss: 0.4181 - accuracy: 0.809 - ETA: 14s - loss: 0.4150 - accuracy: 0.811 - ETA: 13s - loss: 0.4175 - accuracy: 0.811 - ETA: 13s - loss: 0.4155 - accuracy: 0.811 - ETA: 13s - loss: 0.4160 - accuracy: 0.809 - ETA: 13s - loss: 0.4148 - accuracy: 0.808 - ETA: 13s - loss: 0.4135 - accuracy: 0.809 - ETA: 13s - loss: 0.4131 - accuracy: 0.810 - ETA: 13s - loss: 0.4198 - accuracy: 0.806 - ETA: 13s - loss: 0.4171 - accuracy: 0.809 - ETA: 13s - loss: 0.4151 - accuracy: 0.809 - ETA: 12s - loss: 0.4203 - accuracy: 0.806 - ETA: 12s - loss: 0.4203 - accuracy: 0.805 - ETA: 12s - loss: 0.4192 - accuracy: 0.807 - ETA: 12s - loss: 0.4189 - accuracy: 0.808 - ETA: 12s - loss: 0.4206 - accuracy: 0.809 - ETA: 12s - loss: 0.4177 - accuracy: 0.811 - ETA: 12s - loss: 0.4186 - accuracy: 0.809 - ETA: 12s - loss: 0.4179 - accuracy: 0.809 - ETA: 12s - loss: 0.4164 - accuracy: 0.809 - ETA: 11s - loss: 0.4162 - accuracy: 0.810 - ETA: 11s - loss: 0.4131 - accuracy: 0.811 - ETA: 11s - loss: 0.4128 - accuracy: 0.812 - ETA: 11s - loss: 0.4174 - accuracy: 0.810 - ETA: 11s - loss: 0.4167 - accuracy: 0.811 - ETA: 11s - loss: 0.4158 - accuracy: 0.811 - ETA: 11s - loss: 0.4141 - accuracy: 0.813 - ETA: 11s - loss: 0.4122 - accuracy: 0.814 - ETA: 11s - loss: 0.4128 - accuracy: 0.814 - ETA: 10s - loss: 0.4116 - accuracy: 0.815 - ETA: 10s - loss: 0.4126 - accuracy: 0.815 - ETA: 10s - loss: 0.4109 - accuracy: 0.816 - ETA: 10s - loss: 0.4097 - accuracy: 0.817 - ETA: 10s - loss: 0.4075 - accuracy: 0.818 - ETA: 10s - loss: 0.4054 - accuracy: 0.820 - ETA: 10s - loss: 0.4048 - accuracy: 0.820 - ETA: 10s - loss: 0.4047 - accuracy: 0.821 - ETA: 10s - loss: 0.4085 - accuracy: 0.820 - ETA: 9s - loss: 0.4059 - accuracy: 0.822 - ETA: 9s - loss: 0.4080 - accuracy: 0.82 - ETA: 9s - loss: 0.4058 - accuracy: 0.82 - ETA: 9s - loss: 0.4071 - accuracy: 0.82 - ETA: 9s - loss: 0.4087 - accuracy: 0.82 - ETA: 9s - loss: 0.4093 - accuracy: 0.82 - ETA: 9s - loss: 0.4095 - accuracy: 0.81 - ETA: 9s - loss: 0.4084 - accuracy: 0.82 - ETA: 9s - loss: 0.4073 - accuracy: 0.82 - ETA: 8s - loss: 0.4076 - accuracy: 0.82 - ETA: 8s - loss: 0.4071 - accuracy: 0.82 - ETA: 8s - loss: 0.4087 - accuracy: 0.82 - ETA: 8s - loss: 0.4087 - accuracy: 0.82 - ETA: 8s - loss: 0.4080 - accuracy: 0.82 - ETA: 8s - loss: 0.4092 - accuracy: 0.81 - ETA: 8s - loss: 0.4106 - accuracy: 0.81 - ETA: 8s - loss: 0.4092 - accuracy: 0.81 - ETA: 8s - loss: 0.4081 - accuracy: 0.81 - ETA: 7s - loss: 0.4071 - accuracy: 0.81 - ETA: 7s - loss: 0.4063 - accuracy: 0.81 - ETA: 7s - loss: 0.4075 - accuracy: 0.81 - ETA: 7s - loss: 0.4057 - accuracy: 0.81 - ETA: 7s - loss: 0.4041 - accuracy: 0.82 - ETA: 7s - loss: 0.4053 - accuracy: 0.82 - ETA: 7s - loss: 0.4067 - accuracy: 0.81 - ETA: 7s - loss: 0.4046 - accuracy: 0.81 - ETA: 7s - loss: 0.4038 - accuracy: 0.82 - ETA: 6s - loss: 0.4026 - accuracy: 0.81 - ETA: 6s - loss: 0.4037 - accuracy: 0.81 - ETA: 6s - loss: 0.4013 - accuracy: 0.82 - ETA: 6s - loss: 0.3992 - accuracy: 0.82 - ETA: 6s - loss: 0.4001 - accuracy: 0.82 - ETA: 6s - loss: 0.3978 - accuracy: 0.82 - ETA: 6s - loss: 0.3962 - accuracy: 0.82 - ETA: 6s - loss: 0.3980 - accuracy: 0.82 - ETA: 6s - loss: 0.4013 - accuracy: 0.82 - ETA: 5s - loss: 0.4021 - accuracy: 0.82 - ETA: 5s - loss: 0.4040 - accuracy: 0.82 - ETA: 5s - loss: 0.4056 - accuracy: 0.82 - ETA: 5s - loss: 0.4055 - accuracy: 0.82 - ETA: 5s - loss: 0.4045 - accuracy: 0.82 - ETA: 5s - loss: 0.4026 - accuracy: 0.82 - ETA: 5s - loss: 0.4045 - accuracy: 0.82 - ETA: 5s - loss: 0.4036 - accuracy: 0.82 - ETA: 4s - loss: 0.4046 - accuracy: 0.82 - ETA: 4s - loss: 0.4047 - accuracy: 0.82 - ETA: 4s - loss: 0.4042 - accuracy: 0.82 - ETA: 4s - loss: 0.4048 - accuracy: 0.82 - ETA: 4s - loss: 0.4035 - accuracy: 0.82 - ETA: 4s - loss: 0.4056 - accuracy: 0.81 - ETA: 4s - loss: 0.4058 - accuracy: 0.81 - ETA: 4s - loss: 0.4052 - accuracy: 0.82 - ETA: 4s - loss: 0.4045 - accuracy: 0.82 - ETA: 3s - loss: 0.4038 - accuracy: 0.82 - ETA: 3s - loss: 0.4023 - accuracy: 0.82 - ETA: 3s - loss: 0.4045 - accuracy: 0.82 - ETA: 3s - loss: 0.4054 - accuracy: 0.82 - ETA: 3s - loss: 0.4070 - accuracy: 0.81 - ETA: 3s - loss: 0.4071 - accuracy: 0.81 - ETA: 3s - loss: 0.4068 - accuracy: 0.81 - ETA: 3s - loss: 0.4064 - accuracy: 0.81 - ETA: 3s - loss: 0.4051 - accuracy: 0.81 - ETA: 2s - loss: 0.4052 - accuracy: 0.81 - ETA: 2s - loss: 0.4053 - accuracy: 0.81 - ETA: 2s - loss: 0.4061 - accuracy: 0.81 - ETA: 2s - loss: 0.4059 - accuracy: 0.81 - ETA: 2s - loss: 0.4065 - accuracy: 0.81 - ETA: 2s - loss: 0.4052 - accuracy: 0.81 - ETA: 2s - loss: 0.4037 - accuracy: 0.82 - ETA: 2s - loss: 0.4036 - accuracy: 0.82 - ETA: 2s - loss: 0.4030 - accuracy: 0.81 - ETA: 1s - loss: 0.4017 - accuracy: 0.82011646/1646 [==============================] - ETA: 1s - loss: 0.4008 - accuracy: 0.82 - ETA: 1s - loss: 0.4006 - accuracy: 0.82 - ETA: 1s - loss: 0.4027 - accuracy: 0.82 - ETA: 1s - loss: 0.4030 - accuracy: 0.82 - ETA: 1s - loss: 0.4015 - accuracy: 0.82 - ETA: 1s - loss: 0.4005 - accuracy: 0.82 - ETA: 1s - loss: 0.4001 - accuracy: 0.82 - ETA: 0s - loss: 0.4009 - accuracy: 0.82 - ETA: 0s - loss: 0.4011 - accuracy: 0.82 - ETA: 0s - loss: 0.4004 - accuracy: 0.82 - ETA: 0s - loss: 0.3991 - accuracy: 0.82 - ETA: 0s - loss: 0.3988 - accuracy: 0.82 - ETA: 0s - loss: 0.3987 - accuracy: 0.82 - ETA: 0s - loss: 0.3984 - accuracy: 0.82 - ETA: 0s - loss: 0.3970 - accuracy: 0.82 - ETA: 0s - loss: 0.3973 - accuracy: 0.82 - 26s 16ms/sample - loss: 0.3966 - accuracy: 0.8244\n",
      "Epoch 7/10\n",
      "1512/1646 [==========================>...] - ETA: 23s - loss: 0.1981 - accuracy: 0.875 - ETA: 21s - loss: 0.4039 - accuracy: 0.812 - ETA: 22s - loss: 0.3270 - accuracy: 0.833 - ETA: 22s - loss: 0.3552 - accuracy: 0.812 - ETA: 22s - loss: 0.3362 - accuracy: 0.825 - ETA: 22s - loss: 0.3681 - accuracy: 0.791 - ETA: 22s - loss: 0.3541 - accuracy: 0.803 - ETA: 22s - loss: 0.3282 - accuracy: 0.812 - ETA: 22s - loss: 0.3647 - accuracy: 0.791 - ETA: 21s - loss: 0.3415 - accuracy: 0.812 - ETA: 21s - loss: 0.3385 - accuracy: 0.818 - ETA: 21s - loss: 0.3263 - accuracy: 0.822 - ETA: 21s - loss: 0.3507 - accuracy: 0.817 - ETA: 21s - loss: 0.3953 - accuracy: 0.803 - ETA: 21s - loss: 0.3962 - accuracy: 0.800 - ETA: 21s - loss: 0.3957 - accuracy: 0.804 - ETA: 21s - loss: 0.3881 - accuracy: 0.808 - ETA: 20s - loss: 0.3785 - accuracy: 0.819 - ETA: 20s - loss: 0.3767 - accuracy: 0.822 - ETA: 20s - loss: 0.3718 - accuracy: 0.831 - ETA: 20s - loss: 0.3846 - accuracy: 0.827 - ETA: 20s - loss: 0.3847 - accuracy: 0.829 - ETA: 20s - loss: 0.3728 - accuracy: 0.837 - ETA: 20s - loss: 0.3738 - accuracy: 0.833 - ETA: 20s - loss: 0.3703 - accuracy: 0.835 - ETA: 20s - loss: 0.3653 - accuracy: 0.836 - ETA: 20s - loss: 0.3859 - accuracy: 0.828 - ETA: 19s - loss: 0.3943 - accuracy: 0.830 - ETA: 19s - loss: 0.3851 - accuracy: 0.836 - ETA: 19s - loss: 0.3829 - accuracy: 0.837 - ETA: 19s - loss: 0.3771 - accuracy: 0.842 - ETA: 19s - loss: 0.3881 - accuracy: 0.835 - ETA: 19s - loss: 0.3965 - accuracy: 0.829 - ETA: 19s - loss: 0.3979 - accuracy: 0.827 - ETA: 19s - loss: 0.4062 - accuracy: 0.825 - ETA: 18s - loss: 0.4143 - accuracy: 0.819 - ETA: 18s - loss: 0.4177 - accuracy: 0.814 - ETA: 18s - loss: 0.4224 - accuracy: 0.809 - ETA: 18s - loss: 0.4177 - accuracy: 0.810 - ETA: 18s - loss: 0.4182 - accuracy: 0.812 - ETA: 18s - loss: 0.4142 - accuracy: 0.817 - ETA: 18s - loss: 0.4139 - accuracy: 0.815 - ETA: 18s - loss: 0.4164 - accuracy: 0.814 - ETA: 18s - loss: 0.4165 - accuracy: 0.815 - ETA: 18s - loss: 0.4148 - accuracy: 0.816 - ETA: 17s - loss: 0.4090 - accuracy: 0.820 - ETA: 17s - loss: 0.4163 - accuracy: 0.813 - ETA: 17s - loss: 0.4136 - accuracy: 0.815 - ETA: 17s - loss: 0.4167 - accuracy: 0.811 - ETA: 17s - loss: 0.4157 - accuracy: 0.812 - ETA: 17s - loss: 0.4125 - accuracy: 0.813 - ETA: 17s - loss: 0.4108 - accuracy: 0.814 - ETA: 17s - loss: 0.4120 - accuracy: 0.813 - ETA: 17s - loss: 0.4088 - accuracy: 0.814 - ETA: 16s - loss: 0.4078 - accuracy: 0.815 - ETA: 16s - loss: 0.4066 - accuracy: 0.817 - ETA: 16s - loss: 0.4075 - accuracy: 0.818 - ETA: 16s - loss: 0.4094 - accuracy: 0.816 - ETA: 16s - loss: 0.4049 - accuracy: 0.817 - ETA: 16s - loss: 0.4049 - accuracy: 0.816 - ETA: 16s - loss: 0.4061 - accuracy: 0.815 - ETA: 16s - loss: 0.4030 - accuracy: 0.818 - ETA: 16s - loss: 0.4034 - accuracy: 0.817 - ETA: 16s - loss: 0.4023 - accuracy: 0.816 - ETA: 15s - loss: 0.3974 - accuracy: 0.819 - ETA: 15s - loss: 0.3970 - accuracy: 0.818 - ETA: 15s - loss: 0.3976 - accuracy: 0.817 - ETA: 15s - loss: 0.3981 - accuracy: 0.816 - ETA: 15s - loss: 0.3984 - accuracy: 0.815 - ETA: 15s - loss: 0.3968 - accuracy: 0.814 - ETA: 15s - loss: 0.4024 - accuracy: 0.813 - ETA: 15s - loss: 0.3981 - accuracy: 0.816 - ETA: 15s - loss: 0.3954 - accuracy: 0.816 - ETA: 14s - loss: 0.3933 - accuracy: 0.817 - ETA: 14s - loss: 0.3925 - accuracy: 0.816 - ETA: 14s - loss: 0.3946 - accuracy: 0.814 - ETA: 14s - loss: 0.3955 - accuracy: 0.813 - ETA: 14s - loss: 0.3987 - accuracy: 0.809 - ETA: 14s - loss: 0.3979 - accuracy: 0.808 - ETA: 14s - loss: 0.3979 - accuracy: 0.807 - ETA: 14s - loss: 0.3954 - accuracy: 0.810 - ETA: 14s - loss: 0.3954 - accuracy: 0.809 - ETA: 13s - loss: 0.3953 - accuracy: 0.808 - ETA: 13s - loss: 0.3939 - accuracy: 0.809 - ETA: 13s - loss: 0.3904 - accuracy: 0.811 - ETA: 13s - loss: 0.3885 - accuracy: 0.814 - ETA: 13s - loss: 0.3861 - accuracy: 0.816 - ETA: 13s - loss: 0.3834 - accuracy: 0.818 - ETA: 13s - loss: 0.3825 - accuracy: 0.818 - ETA: 13s - loss: 0.3810 - accuracy: 0.819 - ETA: 13s - loss: 0.3810 - accuracy: 0.818 - ETA: 12s - loss: 0.3816 - accuracy: 0.817 - ETA: 12s - loss: 0.3783 - accuracy: 0.819 - ETA: 12s - loss: 0.3762 - accuracy: 0.821 - ETA: 12s - loss: 0.3782 - accuracy: 0.822 - ETA: 12s - loss: 0.3848 - accuracy: 0.820 - ETA: 12s - loss: 0.3846 - accuracy: 0.819 - ETA: 12s - loss: 0.3871 - accuracy: 0.816 - ETA: 12s - loss: 0.3881 - accuracy: 0.816 - ETA: 12s - loss: 0.3885 - accuracy: 0.817 - ETA: 11s - loss: 0.3899 - accuracy: 0.816 - ETA: 11s - loss: 0.3868 - accuracy: 0.818 - ETA: 11s - loss: 0.3841 - accuracy: 0.820 - ETA: 11s - loss: 0.3826 - accuracy: 0.820 - ETA: 11s - loss: 0.3816 - accuracy: 0.822 - ETA: 11s - loss: 0.3807 - accuracy: 0.824 - ETA: 11s - loss: 0.3805 - accuracy: 0.824 - ETA: 11s - loss: 0.3779 - accuracy: 0.826 - ETA: 11s - loss: 0.3780 - accuracy: 0.826 - ETA: 10s - loss: 0.3786 - accuracy: 0.826 - ETA: 10s - loss: 0.3784 - accuracy: 0.825 - ETA: 10s - loss: 0.3778 - accuracy: 0.824 - ETA: 10s - loss: 0.3766 - accuracy: 0.826 - ETA: 10s - loss: 0.3755 - accuracy: 0.826 - ETA: 10s - loss: 0.3743 - accuracy: 0.827 - ETA: 10s - loss: 0.3747 - accuracy: 0.827 - ETA: 10s - loss: 0.3752 - accuracy: 0.826 - ETA: 10s - loss: 0.3723 - accuracy: 0.828 - ETA: 9s - loss: 0.3734 - accuracy: 0.827 - ETA: 9s - loss: 0.3716 - accuracy: 0.82 - ETA: 9s - loss: 0.3711 - accuracy: 0.82 - ETA: 9s - loss: 0.3711 - accuracy: 0.82 - ETA: 9s - loss: 0.3709 - accuracy: 0.82 - ETA: 9s - loss: 0.3696 - accuracy: 0.82 - ETA: 9s - loss: 0.3677 - accuracy: 0.83 - ETA: 9s - loss: 0.3676 - accuracy: 0.83 - ETA: 9s - loss: 0.3694 - accuracy: 0.82 - ETA: 8s - loss: 0.3677 - accuracy: 0.83 - ETA: 8s - loss: 0.3711 - accuracy: 0.82 - ETA: 8s - loss: 0.3690 - accuracy: 0.82 - ETA: 8s - loss: 0.3721 - accuracy: 0.82 - ETA: 8s - loss: 0.3718 - accuracy: 0.82 - ETA: 8s - loss: 0.3755 - accuracy: 0.82 - ETA: 8s - loss: 0.3764 - accuracy: 0.82 - ETA: 8s - loss: 0.3759 - accuracy: 0.82 - ETA: 7s - loss: 0.3757 - accuracy: 0.82 - ETA: 7s - loss: 0.3749 - accuracy: 0.82 - ETA: 7s - loss: 0.3781 - accuracy: 0.82 - ETA: 7s - loss: 0.3774 - accuracy: 0.82 - ETA: 7s - loss: 0.3773 - accuracy: 0.82 - ETA: 7s - loss: 0.3765 - accuracy: 0.82 - ETA: 7s - loss: 0.3772 - accuracy: 0.82 - ETA: 7s - loss: 0.3779 - accuracy: 0.82 - ETA: 7s - loss: 0.3770 - accuracy: 0.82 - ETA: 6s - loss: 0.3775 - accuracy: 0.82 - ETA: 6s - loss: 0.3786 - accuracy: 0.82 - ETA: 6s - loss: 0.3794 - accuracy: 0.82 - ETA: 6s - loss: 0.3797 - accuracy: 0.82 - ETA: 6s - loss: 0.3802 - accuracy: 0.82 - ETA: 6s - loss: 0.3789 - accuracy: 0.82 - ETA: 6s - loss: 0.3795 - accuracy: 0.82 - ETA: 6s - loss: 0.3811 - accuracy: 0.82 - ETA: 6s - loss: 0.3816 - accuracy: 0.82 - ETA: 5s - loss: 0.3830 - accuracy: 0.82 - ETA: 5s - loss: 0.3833 - accuracy: 0.82 - ETA: 5s - loss: 0.3832 - accuracy: 0.82 - ETA: 5s - loss: 0.3824 - accuracy: 0.82 - ETA: 5s - loss: 0.3821 - accuracy: 0.82 - ETA: 5s - loss: 0.3825 - accuracy: 0.82 - ETA: 5s - loss: 0.3832 - accuracy: 0.82 - ETA: 5s - loss: 0.3829 - accuracy: 0.82 - ETA: 5s - loss: 0.3821 - accuracy: 0.82 - ETA: 4s - loss: 0.3818 - accuracy: 0.82 - ETA: 4s - loss: 0.3830 - accuracy: 0.82 - ETA: 4s - loss: 0.3831 - accuracy: 0.82 - ETA: 4s - loss: 0.3834 - accuracy: 0.82 - ETA: 4s - loss: 0.3836 - accuracy: 0.82 - ETA: 4s - loss: 0.3828 - accuracy: 0.82 - ETA: 4s - loss: 0.3816 - accuracy: 0.82 - ETA: 4s - loss: 0.3826 - accuracy: 0.82 - ETA: 3s - loss: 0.3825 - accuracy: 0.82 - ETA: 3s - loss: 0.3836 - accuracy: 0.82 - ETA: 3s - loss: 0.3821 - accuracy: 0.82 - ETA: 3s - loss: 0.3831 - accuracy: 0.82 - ETA: 3s - loss: 0.3822 - accuracy: 0.82 - ETA: 3s - loss: 0.3812 - accuracy: 0.82 - ETA: 3s - loss: 0.3818 - accuracy: 0.82 - ETA: 3s - loss: 0.3803 - accuracy: 0.82 - ETA: 3s - loss: 0.3790 - accuracy: 0.82 - ETA: 2s - loss: 0.3820 - accuracy: 0.82 - ETA: 2s - loss: 0.3826 - accuracy: 0.82 - ETA: 2s - loss: 0.3821 - accuracy: 0.82 - ETA: 2s - loss: 0.3832 - accuracy: 0.82 - ETA: 2s - loss: 0.3841 - accuracy: 0.82 - ETA: 2s - loss: 0.3842 - accuracy: 0.82 - ETA: 2s - loss: 0.3828 - accuracy: 0.82 - ETA: 2s - loss: 0.3822 - accuracy: 0.82 - ETA: 2s - loss: 0.3815 - accuracy: 0.82 - ETA: 1s - loss: 0.3819 - accuracy: 0.82281646/1646 [==============================] - ETA: 1s - loss: 0.3813 - accuracy: 0.82 - ETA: 1s - loss: 0.3799 - accuracy: 0.82 - ETA: 1s - loss: 0.3828 - accuracy: 0.82 - ETA: 1s - loss: 0.3826 - accuracy: 0.82 - ETA: 1s - loss: 0.3823 - accuracy: 0.82 - ETA: 1s - loss: 0.3818 - accuracy: 0.82 - ETA: 1s - loss: 0.3828 - accuracy: 0.82 - ETA: 1s - loss: 0.3829 - accuracy: 0.82 - ETA: 0s - loss: 0.3843 - accuracy: 0.82 - ETA: 0s - loss: 0.3842 - accuracy: 0.82 - ETA: 0s - loss: 0.3830 - accuracy: 0.82 - ETA: 0s - loss: 0.3849 - accuracy: 0.82 - ETA: 0s - loss: 0.3855 - accuracy: 0.82 - ETA: 0s - loss: 0.3860 - accuracy: 0.82 - ETA: 0s - loss: 0.3863 - accuracy: 0.82 - ETA: 0s - loss: 0.3855 - accuracy: 0.82 - 24s 14ms/sample - loss: 0.3856 - accuracy: 0.8208\n",
      "Epoch 8/10\n",
      "1512/1646 [==========================>...] - ETA: 21s - loss: 0.3662 - accuracy: 0.875 - ETA: 22s - loss: 0.3939 - accuracy: 0.875 - ETA: 22s - loss: 0.4670 - accuracy: 0.708 - ETA: 23s - loss: 0.4443 - accuracy: 0.718 - ETA: 23s - loss: 0.4104 - accuracy: 0.750 - ETA: 22s - loss: 0.3806 - accuracy: 0.791 - ETA: 22s - loss: 0.3959 - accuracy: 0.785 - ETA: 22s - loss: 0.3674 - accuracy: 0.812 - ETA: 22s - loss: 0.3512 - accuracy: 0.833 - ETA: 22s - loss: 0.3394 - accuracy: 0.837 - ETA: 22s - loss: 0.3319 - accuracy: 0.840 - ETA: 22s - loss: 0.3501 - accuracy: 0.812 - ETA: 22s - loss: 0.3296 - accuracy: 0.826 - ETA: 22s - loss: 0.3288 - accuracy: 0.830 - ETA: 22s - loss: 0.3135 - accuracy: 0.841 - ETA: 22s - loss: 0.3306 - accuracy: 0.828 - ETA: 21s - loss: 0.3269 - accuracy: 0.830 - ETA: 21s - loss: 0.3289 - accuracy: 0.833 - ETA: 21s - loss: 0.3246 - accuracy: 0.842 - ETA: 21s - loss: 0.3230 - accuracy: 0.843 - ETA: 21s - loss: 0.3327 - accuracy: 0.833 - ETA: 21s - loss: 0.3491 - accuracy: 0.829 - ETA: 21s - loss: 0.3459 - accuracy: 0.837 - ETA: 21s - loss: 0.3364 - accuracy: 0.843 - ETA: 21s - loss: 0.3393 - accuracy: 0.840 - ETA: 20s - loss: 0.3548 - accuracy: 0.826 - ETA: 20s - loss: 0.3518 - accuracy: 0.828 - ETA: 20s - loss: 0.3539 - accuracy: 0.825 - ETA: 20s - loss: 0.3537 - accuracy: 0.827 - ETA: 20s - loss: 0.3480 - accuracy: 0.833 - ETA: 20s - loss: 0.3476 - accuracy: 0.834 - ETA: 20s - loss: 0.3572 - accuracy: 0.828 - ETA: 20s - loss: 0.3521 - accuracy: 0.833 - ETA: 19s - loss: 0.3679 - accuracy: 0.827 - ETA: 19s - loss: 0.3733 - accuracy: 0.821 - ETA: 19s - loss: 0.3704 - accuracy: 0.826 - ETA: 19s - loss: 0.3708 - accuracy: 0.824 - ETA: 19s - loss: 0.3726 - accuracy: 0.825 - ETA: 19s - loss: 0.3694 - accuracy: 0.826 - ETA: 19s - loss: 0.3625 - accuracy: 0.831 - ETA: 19s - loss: 0.3672 - accuracy: 0.826 - ETA: 19s - loss: 0.3697 - accuracy: 0.824 - ETA: 18s - loss: 0.3647 - accuracy: 0.828 - ETA: 18s - loss: 0.3651 - accuracy: 0.826 - ETA: 18s - loss: 0.3793 - accuracy: 0.819 - ETA: 18s - loss: 0.3784 - accuracy: 0.820 - ETA: 18s - loss: 0.3747 - accuracy: 0.824 - ETA: 18s - loss: 0.3729 - accuracy: 0.825 - ETA: 18s - loss: 0.3716 - accuracy: 0.826 - ETA: 18s - loss: 0.3731 - accuracy: 0.825 - ETA: 17s - loss: 0.3715 - accuracy: 0.826 - ETA: 17s - loss: 0.3718 - accuracy: 0.824 - ETA: 17s - loss: 0.3718 - accuracy: 0.823 - ETA: 17s - loss: 0.3724 - accuracy: 0.821 - ETA: 17s - loss: 0.3750 - accuracy: 0.822 - ETA: 17s - loss: 0.3761 - accuracy: 0.821 - ETA: 17s - loss: 0.3778 - accuracy: 0.820 - ETA: 17s - loss: 0.3790 - accuracy: 0.821 - ETA: 16s - loss: 0.3771 - accuracy: 0.822 - ETA: 16s - loss: 0.3752 - accuracy: 0.822 - ETA: 16s - loss: 0.3760 - accuracy: 0.821 - ETA: 16s - loss: 0.3748 - accuracy: 0.820 - ETA: 16s - loss: 0.3747 - accuracy: 0.819 - ETA: 16s - loss: 0.3743 - accuracy: 0.818 - ETA: 16s - loss: 0.3729 - accuracy: 0.819 - ETA: 16s - loss: 0.3780 - accuracy: 0.818 - ETA: 16s - loss: 0.3746 - accuracy: 0.820 - ETA: 15s - loss: 0.3730 - accuracy: 0.823 - ETA: 15s - loss: 0.3706 - accuracy: 0.826 - ETA: 15s - loss: 0.3774 - accuracy: 0.823 - ETA: 15s - loss: 0.3777 - accuracy: 0.822 - ETA: 15s - loss: 0.3760 - accuracy: 0.821 - ETA: 15s - loss: 0.3737 - accuracy: 0.821 - ETA: 15s - loss: 0.3714 - accuracy: 0.822 - ETA: 15s - loss: 0.3682 - accuracy: 0.823 - ETA: 14s - loss: 0.3644 - accuracy: 0.825 - ETA: 14s - loss: 0.3626 - accuracy: 0.826 - ETA: 14s - loss: 0.3644 - accuracy: 0.825 - ETA: 14s - loss: 0.3646 - accuracy: 0.824 - ETA: 14s - loss: 0.3660 - accuracy: 0.823 - ETA: 14s - loss: 0.3686 - accuracy: 0.821 - ETA: 14s - loss: 0.3677 - accuracy: 0.821 - ETA: 14s - loss: 0.3679 - accuracy: 0.820 - ETA: 14s - loss: 0.3653 - accuracy: 0.822 - ETA: 13s - loss: 0.3628 - accuracy: 0.825 - ETA: 13s - loss: 0.3617 - accuracy: 0.825 - ETA: 13s - loss: 0.3625 - accuracy: 0.824 - ETA: 13s - loss: 0.3656 - accuracy: 0.821 - ETA: 13s - loss: 0.3664 - accuracy: 0.820 - ETA: 13s - loss: 0.3639 - accuracy: 0.820 - ETA: 13s - loss: 0.3663 - accuracy: 0.820 - ETA: 13s - loss: 0.3666 - accuracy: 0.820 - ETA: 13s - loss: 0.3669 - accuracy: 0.821 - ETA: 12s - loss: 0.3640 - accuracy: 0.823 - ETA: 12s - loss: 0.3618 - accuracy: 0.825 - ETA: 12s - loss: 0.3641 - accuracy: 0.824 - ETA: 12s - loss: 0.3668 - accuracy: 0.820 - ETA: 12s - loss: 0.3647 - accuracy: 0.822 - ETA: 12s - loss: 0.3634 - accuracy: 0.823 - ETA: 12s - loss: 0.3621 - accuracy: 0.823 - ETA: 12s - loss: 0.3616 - accuracy: 0.825 - ETA: 12s - loss: 0.3628 - accuracy: 0.826 - ETA: 11s - loss: 0.3660 - accuracy: 0.826 - ETA: 11s - loss: 0.3636 - accuracy: 0.828 - ETA: 11s - loss: 0.3621 - accuracy: 0.828 - ETA: 11s - loss: 0.3595 - accuracy: 0.830 - ETA: 11s - loss: 0.3567 - accuracy: 0.831 - ETA: 11s - loss: 0.3542 - accuracy: 0.833 - ETA: 11s - loss: 0.3548 - accuracy: 0.833 - ETA: 11s - loss: 0.3566 - accuracy: 0.831 - ETA: 10s - loss: 0.3546 - accuracy: 0.833 - ETA: 10s - loss: 0.3524 - accuracy: 0.834 - ETA: 10s - loss: 0.3512 - accuracy: 0.835 - ETA: 10s - loss: 0.3526 - accuracy: 0.833 - ETA: 10s - loss: 0.3503 - accuracy: 0.834 - ETA: 10s - loss: 0.3515 - accuracy: 0.834 - ETA: 10s - loss: 0.3560 - accuracy: 0.830 - ETA: 10s - loss: 0.3538 - accuracy: 0.831 - ETA: 10s - loss: 0.3549 - accuracy: 0.830 - ETA: 9s - loss: 0.3547 - accuracy: 0.831 - ETA: 9s - loss: 0.3530 - accuracy: 0.83 - ETA: 9s - loss: 0.3531 - accuracy: 0.83 - ETA: 9s - loss: 0.3520 - accuracy: 0.83 - ETA: 9s - loss: 0.3520 - accuracy: 0.83 - ETA: 9s - loss: 0.3499 - accuracy: 0.83 - ETA: 9s - loss: 0.3476 - accuracy: 0.83 - ETA: 9s - loss: 0.3470 - accuracy: 0.83 - ETA: 9s - loss: 0.3470 - accuracy: 0.83 - ETA: 8s - loss: 0.3470 - accuracy: 0.83 - ETA: 8s - loss: 0.3499 - accuracy: 0.83 - ETA: 8s - loss: 0.3501 - accuracy: 0.83 - ETA: 8s - loss: 0.3485 - accuracy: 0.83 - ETA: 8s - loss: 0.3482 - accuracy: 0.83 - ETA: 8s - loss: 0.3461 - accuracy: 0.83 - ETA: 8s - loss: 0.3459 - accuracy: 0.83 - ETA: 8s - loss: 0.3437 - accuracy: 0.83 - ETA: 7s - loss: 0.3468 - accuracy: 0.83 - ETA: 7s - loss: 0.3452 - accuracy: 0.83 - ETA: 7s - loss: 0.3444 - accuracy: 0.83 - ETA: 7s - loss: 0.3430 - accuracy: 0.83 - ETA: 7s - loss: 0.3436 - accuracy: 0.83 - ETA: 7s - loss: 0.3447 - accuracy: 0.83 - ETA: 7s - loss: 0.3437 - accuracy: 0.83 - ETA: 7s - loss: 0.3476 - accuracy: 0.83 - ETA: 7s - loss: 0.3456 - accuracy: 0.83 - ETA: 6s - loss: 0.3458 - accuracy: 0.83 - ETA: 6s - loss: 0.3457 - accuracy: 0.83 - ETA: 6s - loss: 0.3444 - accuracy: 0.83 - ETA: 6s - loss: 0.3443 - accuracy: 0.83 - ETA: 6s - loss: 0.3457 - accuracy: 0.83 - ETA: 6s - loss: 0.3465 - accuracy: 0.83 - ETA: 6s - loss: 0.3467 - accuracy: 0.83 - ETA: 6s - loss: 0.3459 - accuracy: 0.83 - ETA: 5s - loss: 0.3448 - accuracy: 0.83 - ETA: 5s - loss: 0.3460 - accuracy: 0.83 - ETA: 5s - loss: 0.3477 - accuracy: 0.83 - ETA: 5s - loss: 0.3480 - accuracy: 0.83 - ETA: 5s - loss: 0.3504 - accuracy: 0.83 - ETA: 5s - loss: 0.3518 - accuracy: 0.83 - ETA: 5s - loss: 0.3510 - accuracy: 0.83 - ETA: 5s - loss: 0.3503 - accuracy: 0.83 - ETA: 5s - loss: 0.3504 - accuracy: 0.83 - ETA: 4s - loss: 0.3567 - accuracy: 0.82 - ETA: 4s - loss: 0.3587 - accuracy: 0.82 - ETA: 4s - loss: 0.3584 - accuracy: 0.82 - ETA: 4s - loss: 0.3587 - accuracy: 0.82 - ETA: 4s - loss: 0.3599 - accuracy: 0.82 - ETA: 4s - loss: 0.3609 - accuracy: 0.82 - ETA: 4s - loss: 0.3605 - accuracy: 0.82 - ETA: 4s - loss: 0.3608 - accuracy: 0.82 - ETA: 4s - loss: 0.3611 - accuracy: 0.82 - ETA: 3s - loss: 0.3615 - accuracy: 0.82 - ETA: 3s - loss: 0.3618 - accuracy: 0.82 - ETA: 3s - loss: 0.3620 - accuracy: 0.82 - ETA: 3s - loss: 0.3625 - accuracy: 0.82 - ETA: 3s - loss: 0.3623 - accuracy: 0.82 - ETA: 3s - loss: 0.3629 - accuracy: 0.82 - ETA: 3s - loss: 0.3638 - accuracy: 0.82 - ETA: 3s - loss: 0.3639 - accuracy: 0.82 - ETA: 2s - loss: 0.3655 - accuracy: 0.82 - ETA: 2s - loss: 0.3652 - accuracy: 0.82 - ETA: 2s - loss: 0.3662 - accuracy: 0.82 - ETA: 2s - loss: 0.3671 - accuracy: 0.82 - ETA: 2s - loss: 0.3668 - accuracy: 0.82 - ETA: 2s - loss: 0.3667 - accuracy: 0.82 - ETA: 2s - loss: 0.3668 - accuracy: 0.82 - ETA: 2s - loss: 0.3666 - accuracy: 0.82 - ETA: 2s - loss: 0.3658 - accuracy: 0.82 - ETA: 1s - loss: 0.3647 - accuracy: 0.83001646/1646 [==============================] - ETA: 1s - loss: 0.3634 - accuracy: 0.83 - ETA: 1s - loss: 0.3621 - accuracy: 0.83 - ETA: 1s - loss: 0.3628 - accuracy: 0.83 - ETA: 1s - loss: 0.3628 - accuracy: 0.83 - ETA: 1s - loss: 0.3626 - accuracy: 0.83 - ETA: 1s - loss: 0.3623 - accuracy: 0.83 - ETA: 1s - loss: 0.3622 - accuracy: 0.83 - ETA: 1s - loss: 0.3624 - accuracy: 0.83 - ETA: 0s - loss: 0.3612 - accuracy: 0.83 - ETA: 0s - loss: 0.3602 - accuracy: 0.83 - ETA: 0s - loss: 0.3606 - accuracy: 0.83 - ETA: 0s - loss: 0.3597 - accuracy: 0.83 - ETA: 0s - loss: 0.3612 - accuracy: 0.83 - ETA: 0s - loss: 0.3613 - accuracy: 0.83 - ETA: 0s - loss: 0.3611 - accuracy: 0.83 - ETA: 0s - loss: 0.3605 - accuracy: 0.83 - 24s 15ms/sample - loss: 0.3607 - accuracy: 0.8317\n",
      "Epoch 9/10\n",
      "1512/1646 [==========================>...] - ETA: 23s - loss: 0.5959 - accuracy: 0.750 - ETA: 23s - loss: 0.5543 - accuracy: 0.750 - ETA: 23s - loss: 0.6461 - accuracy: 0.666 - ETA: 22s - loss: 0.5145 - accuracy: 0.750 - ETA: 22s - loss: 0.4837 - accuracy: 0.775 - ETA: 22s - loss: 0.4737 - accuracy: 0.791 - ETA: 22s - loss: 0.4272 - accuracy: 0.821 - ETA: 22s - loss: 0.3933 - accuracy: 0.843 - ETA: 22s - loss: 0.3774 - accuracy: 0.833 - ETA: 22s - loss: 0.3863 - accuracy: 0.825 - ETA: 22s - loss: 0.4001 - accuracy: 0.818 - ETA: 22s - loss: 0.3762 - accuracy: 0.833 - ETA: 22s - loss: 0.3756 - accuracy: 0.836 - ETA: 21s - loss: 0.3778 - accuracy: 0.830 - ETA: 21s - loss: 0.3674 - accuracy: 0.841 - ETA: 21s - loss: 0.3759 - accuracy: 0.835 - ETA: 21s - loss: 0.3818 - accuracy: 0.838 - ETA: 21s - loss: 0.3741 - accuracy: 0.840 - ETA: 21s - loss: 0.3678 - accuracy: 0.842 - ETA: 21s - loss: 0.3854 - accuracy: 0.831 - ETA: 21s - loss: 0.3763 - accuracy: 0.833 - ETA: 21s - loss: 0.3818 - accuracy: 0.835 - ETA: 21s - loss: 0.3700 - accuracy: 0.842 - ETA: 20s - loss: 0.3670 - accuracy: 0.838 - ETA: 20s - loss: 0.3831 - accuracy: 0.830 - ETA: 20s - loss: 0.3795 - accuracy: 0.831 - ETA: 20s - loss: 0.3815 - accuracy: 0.828 - ETA: 20s - loss: 0.3769 - accuracy: 0.830 - ETA: 20s - loss: 0.3731 - accuracy: 0.831 - ETA: 20s - loss: 0.3702 - accuracy: 0.837 - ETA: 20s - loss: 0.3668 - accuracy: 0.838 - ETA: 20s - loss: 0.3622 - accuracy: 0.839 - ETA: 19s - loss: 0.3587 - accuracy: 0.840 - ETA: 19s - loss: 0.3559 - accuracy: 0.841 - ETA: 19s - loss: 0.3500 - accuracy: 0.846 - ETA: 19s - loss: 0.3450 - accuracy: 0.850 - ETA: 19s - loss: 0.3472 - accuracy: 0.851 - ETA: 19s - loss: 0.3420 - accuracy: 0.855 - ETA: 19s - loss: 0.3441 - accuracy: 0.855 - ETA: 19s - loss: 0.3425 - accuracy: 0.856 - ETA: 19s - loss: 0.3383 - accuracy: 0.856 - ETA: 18s - loss: 0.3326 - accuracy: 0.860 - ETA: 18s - loss: 0.3315 - accuracy: 0.860 - ETA: 18s - loss: 0.3369 - accuracy: 0.855 - ETA: 18s - loss: 0.3350 - accuracy: 0.855 - ETA: 18s - loss: 0.3449 - accuracy: 0.853 - ETA: 18s - loss: 0.3427 - accuracy: 0.853 - ETA: 18s - loss: 0.3384 - accuracy: 0.856 - ETA: 18s - loss: 0.3441 - accuracy: 0.854 - ETA: 18s - loss: 0.3430 - accuracy: 0.855 - ETA: 17s - loss: 0.3379 - accuracy: 0.857 - ETA: 17s - loss: 0.3339 - accuracy: 0.860 - ETA: 17s - loss: 0.3300 - accuracy: 0.863 - ETA: 17s - loss: 0.3313 - accuracy: 0.858 - ETA: 17s - loss: 0.3343 - accuracy: 0.856 - ETA: 17s - loss: 0.3343 - accuracy: 0.857 - ETA: 17s - loss: 0.3318 - accuracy: 0.859 - ETA: 17s - loss: 0.3433 - accuracy: 0.857 - ETA: 16s - loss: 0.3428 - accuracy: 0.858 - ETA: 16s - loss: 0.3399 - accuracy: 0.860 - ETA: 16s - loss: 0.3374 - accuracy: 0.860 - ETA: 16s - loss: 0.3445 - accuracy: 0.854 - ETA: 16s - loss: 0.3433 - accuracy: 0.855 - ETA: 16s - loss: 0.3461 - accuracy: 0.851 - ETA: 16s - loss: 0.3438 - accuracy: 0.853 - ETA: 16s - loss: 0.3457 - accuracy: 0.850 - ETA: 16s - loss: 0.3430 - accuracy: 0.852 - ETA: 15s - loss: 0.3400 - accuracy: 0.854 - ETA: 15s - loss: 0.3393 - accuracy: 0.855 - ETA: 15s - loss: 0.3376 - accuracy: 0.855 - ETA: 15s - loss: 0.3366 - accuracy: 0.855 - ETA: 15s - loss: 0.3351 - accuracy: 0.855 - ETA: 15s - loss: 0.3363 - accuracy: 0.854 - ETA: 15s - loss: 0.3395 - accuracy: 0.853 - ETA: 15s - loss: 0.3402 - accuracy: 0.851 - ETA: 14s - loss: 0.3429 - accuracy: 0.852 - ETA: 14s - loss: 0.3422 - accuracy: 0.852 - ETA: 14s - loss: 0.3450 - accuracy: 0.849 - ETA: 14s - loss: 0.3436 - accuracy: 0.849 - ETA: 14s - loss: 0.3419 - accuracy: 0.850 - ETA: 14s - loss: 0.3416 - accuracy: 0.850 - ETA: 14s - loss: 0.3406 - accuracy: 0.850 - ETA: 14s - loss: 0.3428 - accuracy: 0.849 - ETA: 14s - loss: 0.3463 - accuracy: 0.848 - ETA: 13s - loss: 0.3519 - accuracy: 0.844 - ETA: 13s - loss: 0.3523 - accuracy: 0.844 - ETA: 13s - loss: 0.3619 - accuracy: 0.842 - ETA: 13s - loss: 0.3596 - accuracy: 0.843 - ETA: 13s - loss: 0.3585 - accuracy: 0.844 - ETA: 13s - loss: 0.3595 - accuracy: 0.843 - ETA: 13s - loss: 0.3617 - accuracy: 0.842 - ETA: 13s - loss: 0.3605 - accuracy: 0.842 - ETA: 13s - loss: 0.3594 - accuracy: 0.842 - ETA: 12s - loss: 0.3563 - accuracy: 0.844 - ETA: 12s - loss: 0.3562 - accuracy: 0.844 - ETA: 12s - loss: 0.3575 - accuracy: 0.843 - ETA: 12s - loss: 0.3603 - accuracy: 0.841 - ETA: 12s - loss: 0.3634 - accuracy: 0.839 - ETA: 12s - loss: 0.3644 - accuracy: 0.838 - ETA: 12s - loss: 0.3656 - accuracy: 0.837 - ETA: 12s - loss: 0.3652 - accuracy: 0.839 - ETA: 11s - loss: 0.3648 - accuracy: 0.839 - ETA: 11s - loss: 0.3647 - accuracy: 0.839 - ETA: 11s - loss: 0.3632 - accuracy: 0.841 - ETA: 11s - loss: 0.3636 - accuracy: 0.841 - ETA: 11s - loss: 0.3632 - accuracy: 0.842 - ETA: 11s - loss: 0.3616 - accuracy: 0.842 - ETA: 11s - loss: 0.3660 - accuracy: 0.840 - ETA: 11s - loss: 0.3656 - accuracy: 0.840 - ETA: 11s - loss: 0.3643 - accuracy: 0.840 - ETA: 10s - loss: 0.3689 - accuracy: 0.839 - ETA: 10s - loss: 0.3687 - accuracy: 0.839 - ETA: 10s - loss: 0.3713 - accuracy: 0.837 - ETA: 10s - loss: 0.3712 - accuracy: 0.837 - ETA: 10s - loss: 0.3722 - accuracy: 0.837 - ETA: 10s - loss: 0.3707 - accuracy: 0.838 - ETA: 10s - loss: 0.3699 - accuracy: 0.839 - ETA: 10s - loss: 0.3691 - accuracy: 0.840 - ETA: 10s - loss: 0.3685 - accuracy: 0.840 - ETA: 9s - loss: 0.3687 - accuracy: 0.840 - ETA: 9s - loss: 0.3682 - accuracy: 0.84 - ETA: 9s - loss: 0.3746 - accuracy: 0.83 - ETA: 9s - loss: 0.3783 - accuracy: 0.83 - ETA: 9s - loss: 0.3768 - accuracy: 0.83 - ETA: 9s - loss: 0.3749 - accuracy: 0.83 - ETA: 9s - loss: 0.3743 - accuracy: 0.83 - ETA: 9s - loss: 0.3724 - accuracy: 0.83 - ETA: 8s - loss: 0.3729 - accuracy: 0.83 - ETA: 8s - loss: 0.3727 - accuracy: 0.83 - ETA: 8s - loss: 0.3730 - accuracy: 0.83 - ETA: 8s - loss: 0.3717 - accuracy: 0.83 - ETA: 8s - loss: 0.3726 - accuracy: 0.83 - ETA: 8s - loss: 0.3715 - accuracy: 0.83 - ETA: 8s - loss: 0.3700 - accuracy: 0.83 - ETA: 8s - loss: 0.3693 - accuracy: 0.84 - ETA: 8s - loss: 0.3690 - accuracy: 0.84 - ETA: 7s - loss: 0.3675 - accuracy: 0.84 - ETA: 7s - loss: 0.3650 - accuracy: 0.84 - ETA: 7s - loss: 0.3678 - accuracy: 0.84 - ETA: 7s - loss: 0.3670 - accuracy: 0.84 - ETA: 7s - loss: 0.3669 - accuracy: 0.84 - ETA: 7s - loss: 0.3767 - accuracy: 0.83 - ETA: 7s - loss: 0.3756 - accuracy: 0.84 - ETA: 7s - loss: 0.3736 - accuracy: 0.84 - ETA: 7s - loss: 0.3744 - accuracy: 0.84 - ETA: 6s - loss: 0.3757 - accuracy: 0.83 - ETA: 6s - loss: 0.3757 - accuracy: 0.83 - ETA: 6s - loss: 0.3748 - accuracy: 0.83 - ETA: 6s - loss: 0.3737 - accuracy: 0.83 - ETA: 6s - loss: 0.3732 - accuracy: 0.83 - ETA: 6s - loss: 0.3761 - accuracy: 0.83 - ETA: 6s - loss: 0.3747 - accuracy: 0.83 - ETA: 6s - loss: 0.3735 - accuracy: 0.83 - ETA: 5s - loss: 0.3722 - accuracy: 0.83 - ETA: 5s - loss: 0.3718 - accuracy: 0.83 - ETA: 5s - loss: 0.3703 - accuracy: 0.84 - ETA: 5s - loss: 0.3694 - accuracy: 0.84 - ETA: 5s - loss: 0.3683 - accuracy: 0.84 - ETA: 5s - loss: 0.3680 - accuracy: 0.84 - ETA: 5s - loss: 0.3682 - accuracy: 0.84 - ETA: 5s - loss: 0.3680 - accuracy: 0.84 - ETA: 5s - loss: 0.3677 - accuracy: 0.84 - ETA: 4s - loss: 0.3656 - accuracy: 0.84 - ETA: 4s - loss: 0.3637 - accuracy: 0.84 - ETA: 4s - loss: 0.3617 - accuracy: 0.84 - ETA: 4s - loss: 0.3623 - accuracy: 0.84 - ETA: 4s - loss: 0.3616 - accuracy: 0.84 - ETA: 4s - loss: 0.3610 - accuracy: 0.84 - ETA: 4s - loss: 0.3620 - accuracy: 0.84 - ETA: 4s - loss: 0.3608 - accuracy: 0.84 - ETA: 4s - loss: 0.3626 - accuracy: 0.84 - ETA: 3s - loss: 0.3621 - accuracy: 0.84 - ETA: 3s - loss: 0.3648 - accuracy: 0.84 - ETA: 3s - loss: 0.3654 - accuracy: 0.84 - ETA: 3s - loss: 0.3652 - accuracy: 0.84 - ETA: 3s - loss: 0.3643 - accuracy: 0.84 - ETA: 3s - loss: 0.3634 - accuracy: 0.84 - ETA: 3s - loss: 0.3650 - accuracy: 0.84 - ETA: 3s - loss: 0.3656 - accuracy: 0.84 - ETA: 2s - loss: 0.3647 - accuracy: 0.84 - ETA: 2s - loss: 0.3639 - accuracy: 0.84 - ETA: 2s - loss: 0.3635 - accuracy: 0.84 - ETA: 2s - loss: 0.3649 - accuracy: 0.84 - ETA: 2s - loss: 0.3653 - accuracy: 0.84 - ETA: 2s - loss: 0.3658 - accuracy: 0.84 - ETA: 2s - loss: 0.3649 - accuracy: 0.84 - ETA: 2s - loss: 0.3656 - accuracy: 0.84 - ETA: 2s - loss: 0.3650 - accuracy: 0.84 - ETA: 1s - loss: 0.3648 - accuracy: 0.84131646/1646 [==============================] - ETA: 1s - loss: 0.3649 - accuracy: 0.84 - ETA: 1s - loss: 0.3660 - accuracy: 0.84 - ETA: 1s - loss: 0.3678 - accuracy: 0.83 - ETA: 1s - loss: 0.3677 - accuracy: 0.84 - ETA: 1s - loss: 0.3689 - accuracy: 0.83 - ETA: 1s - loss: 0.3693 - accuracy: 0.83 - ETA: 1s - loss: 0.3700 - accuracy: 0.83 - ETA: 1s - loss: 0.3699 - accuracy: 0.83 - ETA: 0s - loss: 0.3698 - accuracy: 0.83 - ETA: 0s - loss: 0.3698 - accuracy: 0.83 - ETA: 0s - loss: 0.3703 - accuracy: 0.83 - ETA: 0s - loss: 0.3704 - accuracy: 0.83 - ETA: 0s - loss: 0.3710 - accuracy: 0.83 - ETA: 0s - loss: 0.3727 - accuracy: 0.83 - ETA: 0s - loss: 0.3730 - accuracy: 0.83 - ETA: 0s - loss: 0.3731 - accuracy: 0.83 - 24s 15ms/sample - loss: 0.3731 - accuracy: 0.8360\n",
      "Epoch 10/10\n",
      "1512/1646 [==========================>...] - ETA: 23s - loss: 0.2674 - accuracy: 1.000 - ETA: 23s - loss: 0.2316 - accuracy: 1.000 - ETA: 22s - loss: 0.2539 - accuracy: 0.916 - ETA: 22s - loss: 0.2679 - accuracy: 0.906 - ETA: 23s - loss: 0.2537 - accuracy: 0.925 - ETA: 22s - loss: 0.2606 - accuracy: 0.916 - ETA: 22s - loss: 0.2554 - accuracy: 0.928 - ETA: 22s - loss: 0.2481 - accuracy: 0.937 - ETA: 22s - loss: 0.2361 - accuracy: 0.930 - ETA: 22s - loss: 0.2611 - accuracy: 0.912 - ETA: 22s - loss: 0.2543 - accuracy: 0.909 - ETA: 22s - loss: 0.2572 - accuracy: 0.906 - ETA: 22s - loss: 0.2450 - accuracy: 0.913 - ETA: 22s - loss: 0.2382 - accuracy: 0.919 - ETA: 21s - loss: 0.2332 - accuracy: 0.916 - ETA: 21s - loss: 0.2351 - accuracy: 0.914 - ETA: 21s - loss: 0.2661 - accuracy: 0.904 - ETA: 21s - loss: 0.2742 - accuracy: 0.902 - ETA: 21s - loss: 0.2923 - accuracy: 0.901 - ETA: 21s - loss: 0.3051 - accuracy: 0.893 - ETA: 21s - loss: 0.3092 - accuracy: 0.886 - ETA: 21s - loss: 0.3191 - accuracy: 0.880 - ETA: 21s - loss: 0.3120 - accuracy: 0.885 - ETA: 21s - loss: 0.3036 - accuracy: 0.890 - ETA: 20s - loss: 0.2936 - accuracy: 0.895 - ETA: 20s - loss: 0.2874 - accuracy: 0.894 - ETA: 20s - loss: 0.2854 - accuracy: 0.898 - ETA: 20s - loss: 0.2871 - accuracy: 0.897 - ETA: 20s - loss: 0.2845 - accuracy: 0.896 - ETA: 20s - loss: 0.2825 - accuracy: 0.895 - ETA: 20s - loss: 0.2778 - accuracy: 0.899 - ETA: 20s - loss: 0.2720 - accuracy: 0.902 - ETA: 20s - loss: 0.2771 - accuracy: 0.897 - ETA: 19s - loss: 0.2853 - accuracy: 0.893 - ETA: 19s - loss: 0.2923 - accuracy: 0.889 - ETA: 19s - loss: 0.2885 - accuracy: 0.888 - ETA: 19s - loss: 0.2833 - accuracy: 0.891 - ETA: 19s - loss: 0.2849 - accuracy: 0.891 - ETA: 19s - loss: 0.2826 - accuracy: 0.891 - ETA: 19s - loss: 0.2814 - accuracy: 0.893 - ETA: 19s - loss: 0.2874 - accuracy: 0.890 - ETA: 19s - loss: 0.2882 - accuracy: 0.889 - ETA: 18s - loss: 0.2843 - accuracy: 0.892 - ETA: 18s - loss: 0.2867 - accuracy: 0.892 - ETA: 18s - loss: 0.2946 - accuracy: 0.886 - ETA: 18s - loss: 0.2914 - accuracy: 0.888 - ETA: 18s - loss: 0.2902 - accuracy: 0.891 - ETA: 18s - loss: 0.2912 - accuracy: 0.890 - ETA: 18s - loss: 0.2893 - accuracy: 0.892 - ETA: 18s - loss: 0.2894 - accuracy: 0.892 - ETA: 18s - loss: 0.2867 - accuracy: 0.894 - ETA: 17s - loss: 0.2902 - accuracy: 0.891 - ETA: 17s - loss: 0.2899 - accuracy: 0.891 - ETA: 17s - loss: 0.2883 - accuracy: 0.891 - ETA: 17s - loss: 0.2855 - accuracy: 0.893 - ETA: 17s - loss: 0.2866 - accuracy: 0.892 - ETA: 17s - loss: 0.2903 - accuracy: 0.890 - ETA: 17s - loss: 0.2915 - accuracy: 0.890 - ETA: 17s - loss: 0.2872 - accuracy: 0.891 - ETA: 16s - loss: 0.2857 - accuracy: 0.893 - ETA: 16s - loss: 0.2906 - accuracy: 0.889 - ETA: 16s - loss: 0.2937 - accuracy: 0.889 - ETA: 16s - loss: 0.2928 - accuracy: 0.890 - ETA: 16s - loss: 0.2973 - accuracy: 0.888 - ETA: 16s - loss: 0.3047 - accuracy: 0.886 - ETA: 16s - loss: 0.3035 - accuracy: 0.886 - ETA: 16s - loss: 0.3034 - accuracy: 0.886 - ETA: 16s - loss: 0.3001 - accuracy: 0.887 - ETA: 15s - loss: 0.3005 - accuracy: 0.887 - ETA: 15s - loss: 0.2983 - accuracy: 0.889 - ETA: 15s - loss: 0.2960 - accuracy: 0.890 - ETA: 15s - loss: 0.2928 - accuracy: 0.892 - ETA: 15s - loss: 0.2903 - accuracy: 0.893 - ETA: 15s - loss: 0.2883 - accuracy: 0.895 - ETA: 15s - loss: 0.2953 - accuracy: 0.895 - ETA: 15s - loss: 0.2969 - accuracy: 0.894 - ETA: 15s - loss: 0.2954 - accuracy: 0.894 - ETA: 14s - loss: 0.2945 - accuracy: 0.892 - ETA: 14s - loss: 0.3002 - accuracy: 0.890 - ETA: 14s - loss: 0.2990 - accuracy: 0.890 - ETA: 14s - loss: 0.2988 - accuracy: 0.890 - ETA: 14s - loss: 0.2960 - accuracy: 0.891 - ETA: 14s - loss: 0.2961 - accuracy: 0.891 - ETA: 14s - loss: 0.2998 - accuracy: 0.889 - ETA: 14s - loss: 0.3018 - accuracy: 0.888 - ETA: 13s - loss: 0.3037 - accuracy: 0.886 - ETA: 13s - loss: 0.3035 - accuracy: 0.886 - ETA: 13s - loss: 0.3029 - accuracy: 0.886 - ETA: 13s - loss: 0.3002 - accuracy: 0.887 - ETA: 13s - loss: 0.2980 - accuracy: 0.888 - ETA: 13s - loss: 0.2996 - accuracy: 0.887 - ETA: 13s - loss: 0.3005 - accuracy: 0.885 - ETA: 13s - loss: 0.3030 - accuracy: 0.884 - ETA: 13s - loss: 0.3037 - accuracy: 0.884 - ETA: 12s - loss: 0.3023 - accuracy: 0.885 - ETA: 12s - loss: 0.3003 - accuracy: 0.886 - ETA: 12s - loss: 0.3037 - accuracy: 0.884 - ETA: 12s - loss: 0.3060 - accuracy: 0.881 - ETA: 12s - loss: 0.3085 - accuracy: 0.877 - ETA: 12s - loss: 0.3102 - accuracy: 0.876 - ETA: 12s - loss: 0.3129 - accuracy: 0.875 - ETA: 12s - loss: 0.3128 - accuracy: 0.875 - ETA: 11s - loss: 0.3123 - accuracy: 0.875 - ETA: 11s - loss: 0.3107 - accuracy: 0.876 - ETA: 11s - loss: 0.3083 - accuracy: 0.877 - ETA: 11s - loss: 0.3069 - accuracy: 0.877 - ETA: 11s - loss: 0.3109 - accuracy: 0.873 - ETA: 11s - loss: 0.3103 - accuracy: 0.873 - ETA: 11s - loss: 0.3099 - accuracy: 0.873 - ETA: 11s - loss: 0.3085 - accuracy: 0.875 - ETA: 11s - loss: 0.3077 - accuracy: 0.875 - ETA: 10s - loss: 0.3073 - accuracy: 0.873 - ETA: 10s - loss: 0.3073 - accuracy: 0.873 - ETA: 10s - loss: 0.3073 - accuracy: 0.873 - ETA: 10s - loss: 0.3059 - accuracy: 0.873 - ETA: 10s - loss: 0.3076 - accuracy: 0.871 - ETA: 10s - loss: 0.3072 - accuracy: 0.871 - ETA: 10s - loss: 0.3061 - accuracy: 0.872 - ETA: 10s - loss: 0.3090 - accuracy: 0.871 - ETA: 9s - loss: 0.3083 - accuracy: 0.871 - ETA: 9s - loss: 0.3085 - accuracy: 0.87 - ETA: 9s - loss: 0.3083 - accuracy: 0.87 - ETA: 9s - loss: 0.3068 - accuracy: 0.87 - ETA: 9s - loss: 0.3068 - accuracy: 0.87 - ETA: 9s - loss: 0.3115 - accuracy: 0.86 - ETA: 9s - loss: 0.3118 - accuracy: 0.86 - ETA: 9s - loss: 0.3098 - accuracy: 0.86 - ETA: 9s - loss: 0.3085 - accuracy: 0.86 - ETA: 8s - loss: 0.3075 - accuracy: 0.86 - ETA: 8s - loss: 0.3072 - accuracy: 0.86 - ETA: 8s - loss: 0.3054 - accuracy: 0.87 - ETA: 8s - loss: 0.3037 - accuracy: 0.87 - ETA: 8s - loss: 0.3046 - accuracy: 0.87 - ETA: 8s - loss: 0.3056 - accuracy: 0.87 - ETA: 8s - loss: 0.3054 - accuracy: 0.86 - ETA: 8s - loss: 0.3079 - accuracy: 0.86 - ETA: 7s - loss: 0.3098 - accuracy: 0.86 - ETA: 7s - loss: 0.3085 - accuracy: 0.86 - ETA: 7s - loss: 0.3093 - accuracy: 0.86 - ETA: 7s - loss: 0.3077 - accuracy: 0.86 - ETA: 7s - loss: 0.3093 - accuracy: 0.86 - ETA: 7s - loss: 0.3094 - accuracy: 0.86 - ETA: 7s - loss: 0.3081 - accuracy: 0.86 - ETA: 7s - loss: 0.3089 - accuracy: 0.86 - ETA: 7s - loss: 0.3115 - accuracy: 0.86 - ETA: 6s - loss: 0.3113 - accuracy: 0.86 - ETA: 6s - loss: 0.3115 - accuracy: 0.86 - ETA: 6s - loss: 0.3162 - accuracy: 0.86 - ETA: 6s - loss: 0.3172 - accuracy: 0.86 - ETA: 6s - loss: 0.3170 - accuracy: 0.86 - ETA: 6s - loss: 0.3169 - accuracy: 0.86 - ETA: 6s - loss: 0.3196 - accuracy: 0.86 - ETA: 6s - loss: 0.3185 - accuracy: 0.86 - ETA: 6s - loss: 0.3194 - accuracy: 0.86 - ETA: 5s - loss: 0.3194 - accuracy: 0.86 - ETA: 5s - loss: 0.3190 - accuracy: 0.86 - ETA: 5s - loss: 0.3205 - accuracy: 0.86 - ETA: 5s - loss: 0.3202 - accuracy: 0.86 - ETA: 5s - loss: 0.3203 - accuracy: 0.86 - ETA: 5s - loss: 0.3223 - accuracy: 0.86 - ETA: 5s - loss: 0.3212 - accuracy: 0.86 - ETA: 5s - loss: 0.3215 - accuracy: 0.86 - ETA: 4s - loss: 0.3219 - accuracy: 0.86 - ETA: 4s - loss: 0.3245 - accuracy: 0.86 - ETA: 4s - loss: 0.3241 - accuracy: 0.86 - ETA: 4s - loss: 0.3249 - accuracy: 0.86 - ETA: 4s - loss: 0.3252 - accuracy: 0.86 - ETA: 4s - loss: 0.3261 - accuracy: 0.86 - ETA: 4s - loss: 0.3261 - accuracy: 0.86 - ETA: 4s - loss: 0.3257 - accuracy: 0.86 - ETA: 4s - loss: 0.3252 - accuracy: 0.86 - ETA: 3s - loss: 0.3241 - accuracy: 0.86 - ETA: 3s - loss: 0.3236 - accuracy: 0.86 - ETA: 3s - loss: 0.3244 - accuracy: 0.86 - ETA: 3s - loss: 0.3237 - accuracy: 0.86 - ETA: 3s - loss: 0.3236 - accuracy: 0.86 - ETA: 3s - loss: 0.3221 - accuracy: 0.86 - ETA: 3s - loss: 0.3220 - accuracy: 0.86 - ETA: 3s - loss: 0.3206 - accuracy: 0.86 - ETA: 2s - loss: 0.3200 - accuracy: 0.86 - ETA: 2s - loss: 0.3193 - accuracy: 0.86 - ETA: 2s - loss: 0.3215 - accuracy: 0.86 - ETA: 2s - loss: 0.3250 - accuracy: 0.86 - ETA: 2s - loss: 0.3246 - accuracy: 0.86 - ETA: 2s - loss: 0.3266 - accuracy: 0.86 - ETA: 2s - loss: 0.3268 - accuracy: 0.86 - ETA: 2s - loss: 0.3258 - accuracy: 0.86 - ETA: 2s - loss: 0.3248 - accuracy: 0.86 - ETA: 1s - loss: 0.3235 - accuracy: 0.86571646/1646 [==============================] - ETA: 1s - loss: 0.3249 - accuracy: 0.86 - ETA: 1s - loss: 0.3259 - accuracy: 0.86 - ETA: 1s - loss: 0.3260 - accuracy: 0.86 - ETA: 1s - loss: 0.3258 - accuracy: 0.86 - ETA: 1s - loss: 0.3301 - accuracy: 0.86 - ETA: 1s - loss: 0.3294 - accuracy: 0.86 - ETA: 1s - loss: 0.3305 - accuracy: 0.86 - ETA: 1s - loss: 0.3308 - accuracy: 0.86 - ETA: 0s - loss: 0.3300 - accuracy: 0.86 - ETA: 0s - loss: 0.3297 - accuracy: 0.86 - ETA: 0s - loss: 0.3299 - accuracy: 0.86 - ETA: 0s - loss: 0.3297 - accuracy: 0.86 - ETA: 0s - loss: 0.3300 - accuracy: 0.86 - ETA: 0s - loss: 0.3287 - accuracy: 0.86 - ETA: 0s - loss: 0.3285 - accuracy: 0.86 - ETA: 0s - loss: 0.3304 - accuracy: 0.86 - 26s 16ms/sample - loss: 0.3300 - accuracy: 0.8633\n"
     ]
    },
    {
     "data": {
      "text/html": [
       "<span style=\"color:#4527A0\"><h1 style=\"font-size:18px\">Trial complete</h1></span>"
      ],
      "text/plain": [
       "<IPython.core.display.HTML object>"
      ]
     },
     "metadata": {},
     "output_type": "display_data"
    },
    {
     "data": {
      "text/html": [
       "<span style=\"color:#4527A0\"><h1 style=\"font-size:18px\">Trial summary</h1></span>"
      ],
      "text/plain": [
       "<IPython.core.display.HTML object>"
      ]
     },
     "metadata": {},
     "output_type": "display_data"
    },
    {
     "data": {
      "text/html": [
       "<span style=\"color:cyan\"> |-Trial ID: 1e7c15d88549b26e1dbdeaae4fe8855b</span>"
      ],
      "text/plain": [
       "<IPython.core.display.HTML object>"
      ]
     },
     "metadata": {},
     "output_type": "display_data"
    },
    {
     "data": {
      "text/html": [
       "<span style=\"color:cyan\"> |-Score: 0.8633049726486206</span>"
      ],
      "text/plain": [
       "<IPython.core.display.HTML object>"
      ]
     },
     "metadata": {},
     "output_type": "display_data"
    },
    {
     "data": {
      "text/html": [
       "<span style=\"color:cyan\"> |-Best step: 0</span>"
      ],
      "text/plain": [
       "<IPython.core.display.HTML object>"
      ]
     },
     "metadata": {},
     "output_type": "display_data"
    },
    {
     "data": {
      "text/html": [
       "<span style=\"color:#7E57C2\"><h2 style=\"font-size:16px\">Hyperparameters:</h2></span>"
      ],
      "text/plain": [
       "<IPython.core.display.HTML object>"
      ]
     },
     "metadata": {},
     "output_type": "display_data"
    },
    {
     "data": {
      "text/html": [
       "<span style=\"color:cyan\"> |-filters_0: 192</span>"
      ],
      "text/plain": [
       "<IPython.core.display.HTML object>"
      ]
     },
     "metadata": {},
     "output_type": "display_data"
    },
    {
     "data": {
      "text/html": [
       "<span style=\"color:blue\"> |-filters_1: 64</span>"
      ],
      "text/plain": [
       "<IPython.core.display.HTML object>"
      ]
     },
     "metadata": {},
     "output_type": "display_data"
    },
    {
     "data": {
      "text/html": [
       "<span style=\"color:cyan\"> |-filters_2: 96</span>"
      ],
      "text/plain": [
       "<IPython.core.display.HTML object>"
      ]
     },
     "metadata": {},
     "output_type": "display_data"
    },
    {
     "data": {
      "text/html": [
       "<span style=\"color:blue\"> |-filters_3: 192</span>"
      ],
      "text/plain": [
       "<IPython.core.display.HTML object>"
      ]
     },
     "metadata": {},
     "output_type": "display_data"
    },
    {
     "data": {
      "text/html": [
       "<span style=\"color:cyan\"> |-filters_4: 128</span>"
      ],
      "text/plain": [
       "<IPython.core.display.HTML object>"
      ]
     },
     "metadata": {},
     "output_type": "display_data"
    },
    {
     "data": {
      "text/html": [
       "<span style=\"color:blue\"> |-filters_5: 128</span>"
      ],
      "text/plain": [
       "<IPython.core.display.HTML object>"
      ]
     },
     "metadata": {},
     "output_type": "display_data"
    },
    {
     "data": {
      "text/html": [
       "<span style=\"color:cyan\"> |-learning_rate: 0.001</span>"
      ],
      "text/plain": [
       "<IPython.core.display.HTML object>"
      ]
     },
     "metadata": {},
     "output_type": "display_data"
    },
    {
     "data": {
      "text/html": [
       "<span style=\"color:blue\"> |-num_layers: 6</span>"
      ],
      "text/plain": [
       "<IPython.core.display.HTML object>"
      ]
     },
     "metadata": {},
     "output_type": "display_data"
    },
    {
     "data": {
      "text/html": [
       "<span style=\"color:cyan\"> |-pool_0: avg</span>"
      ],
      "text/plain": [
       "<IPython.core.display.HTML object>"
      ]
     },
     "metadata": {},
     "output_type": "display_data"
    },
    {
     "data": {
      "text/html": [
       "<span style=\"color:blue\"> |-pool_1: max</span>"
      ],
      "text/plain": [
       "<IPython.core.display.HTML object>"
      ]
     },
     "metadata": {},
     "output_type": "display_data"
    },
    {
     "data": {
      "text/html": [
       "<span style=\"color:cyan\"> |-pool_2: max</span>"
      ],
      "text/plain": [
       "<IPython.core.display.HTML object>"
      ]
     },
     "metadata": {},
     "output_type": "display_data"
    },
    {
     "data": {
      "text/html": [
       "<span style=\"color:blue\"> |-pool_3: avg</span>"
      ],
      "text/plain": [
       "<IPython.core.display.HTML object>"
      ]
     },
     "metadata": {},
     "output_type": "display_data"
    },
    {
     "data": {
      "text/html": [
       "<span style=\"color:cyan\"> |-pool_4: avg</span>"
      ],
      "text/plain": [
       "<IPython.core.display.HTML object>"
      ]
     },
     "metadata": {},
     "output_type": "display_data"
    },
    {
     "name": "stdout",
     "output_type": "stream",
     "text": [
      "Train on 1646 samples\n",
      "Epoch 1/10\n",
      "1504/1646 [==========================>...] - ETA: 7:45 - loss: 1.2312 - accuracy: 0.37 - ETA: 4:01 - loss: 6.7260 - accuracy: 0.31 - ETA: 2:47 - loss: 4.6908 - accuracy: 0.37 - ETA: 2:09 - loss: 4.0299 - accuracy: 0.40 - ETA: 1:47 - loss: 3.3836 - accuracy: 0.40 - ETA: 1:32 - loss: 3.0932 - accuracy: 0.41 - ETA: 1:22 - loss: 2.7626 - accuracy: 0.41 - ETA: 1:13 - loss: 2.4825 - accuracy: 0.45 - ETA: 1:07 - loss: 2.3344 - accuracy: 0.44 - ETA: 1:02 - loss: 2.1815 - accuracy: 0.42 - ETA: 57s - loss: 2.0571 - accuracy: 0.4205 - ETA: 54s - loss: 1.9565 - accuracy: 0.416 - ETA: 51s - loss: 1.8679 - accuracy: 0.423 - ETA: 49s - loss: 1.7796 - accuracy: 0.446 - ETA: 46s - loss: 1.7103 - accuracy: 0.458 - ETA: 44s - loss: 1.6516 - accuracy: 0.453 - ETA: 43s - loss: 1.5920 - accuracy: 0.463 - ETA: 41s - loss: 1.5560 - accuracy: 0.458 - ETA: 40s - loss: 1.5078 - accuracy: 0.467 - ETA: 38s - loss: 1.4767 - accuracy: 0.450 - ETA: 37s - loss: 1.4421 - accuracy: 0.446 - ETA: 36s - loss: 1.4016 - accuracy: 0.460 - ETA: 35s - loss: 1.3636 - accuracy: 0.472 - ETA: 34s - loss: 1.3366 - accuracy: 0.479 - ETA: 33s - loss: 1.3061 - accuracy: 0.490 - ETA: 33s - loss: 1.2829 - accuracy: 0.495 - ETA: 32s - loss: 1.2559 - accuracy: 0.504 - ETA: 31s - loss: 1.2315 - accuracy: 0.513 - ETA: 31s - loss: 1.2196 - accuracy: 0.504 - ETA: 30s - loss: 1.1999 - accuracy: 0.504 - ETA: 29s - loss: 1.1841 - accuracy: 0.500 - ETA: 29s - loss: 1.1744 - accuracy: 0.484 - ETA: 28s - loss: 1.1605 - accuracy: 0.484 - ETA: 28s - loss: 1.1491 - accuracy: 0.481 - ETA: 27s - loss: 1.1332 - accuracy: 0.489 - ETA: 27s - loss: 1.1219 - accuracy: 0.486 - ETA: 27s - loss: 1.1070 - accuracy: 0.493 - ETA: 26s - loss: 1.0961 - accuracy: 0.493 - ETA: 26s - loss: 1.0810 - accuracy: 0.503 - ETA: 25s - loss: 1.0713 - accuracy: 0.503 - ETA: 25s - loss: 1.0621 - accuracy: 0.503 - ETA: 25s - loss: 1.0514 - accuracy: 0.506 - ETA: 24s - loss: 1.0434 - accuracy: 0.505 - ETA: 24s - loss: 1.0360 - accuracy: 0.505 - ETA: 24s - loss: 1.0278 - accuracy: 0.508 - ETA: 23s - loss: 1.0219 - accuracy: 0.505 - ETA: 23s - loss: 1.0177 - accuracy: 0.502 - ETA: 23s - loss: 1.0097 - accuracy: 0.505 - ETA: 22s - loss: 1.0037 - accuracy: 0.505 - ETA: 22s - loss: 0.9945 - accuracy: 0.510 - ETA: 22s - loss: 0.9894 - accuracy: 0.504 - ETA: 22s - loss: 0.9814 - accuracy: 0.512 - ETA: 21s - loss: 0.9764 - accuracy: 0.509 - ETA: 21s - loss: 0.9714 - accuracy: 0.509 - ETA: 21s - loss: 0.9661 - accuracy: 0.511 - ETA: 21s - loss: 0.9599 - accuracy: 0.513 - ETA: 20s - loss: 0.9556 - accuracy: 0.511 - ETA: 20s - loss: 0.9500 - accuracy: 0.512 - ETA: 20s - loss: 0.9433 - accuracy: 0.519 - ETA: 20s - loss: 0.9377 - accuracy: 0.518 - ETA: 20s - loss: 0.9298 - accuracy: 0.526 - ETA: 19s - loss: 0.9226 - accuracy: 0.530 - ETA: 19s - loss: 0.9261 - accuracy: 0.527 - ETA: 19s - loss: 0.9201 - accuracy: 0.531 - ETA: 19s - loss: 0.9164 - accuracy: 0.532 - ETA: 18s - loss: 0.9106 - accuracy: 0.536 - ETA: 18s - loss: 0.9083 - accuracy: 0.535 - ETA: 18s - loss: 0.9024 - accuracy: 0.542 - ETA: 18s - loss: 0.8973 - accuracy: 0.547 - ETA: 18s - loss: 0.8924 - accuracy: 0.553 - ETA: 18s - loss: 0.8888 - accuracy: 0.554 - ETA: 17s - loss: 0.8837 - accuracy: 0.559 - ETA: 17s - loss: 0.8813 - accuracy: 0.558 - ETA: 17s - loss: 0.8769 - accuracy: 0.560 - ETA: 17s - loss: 0.8720 - accuracy: 0.565 - ETA: 17s - loss: 0.8691 - accuracy: 0.565 - ETA: 16s - loss: 0.8666 - accuracy: 0.566 - ETA: 16s - loss: 0.8621 - accuracy: 0.567 - ETA: 16s - loss: 0.8562 - accuracy: 0.571 - ETA: 16s - loss: 0.8566 - accuracy: 0.571 - ETA: 16s - loss: 0.8534 - accuracy: 0.574 - ETA: 16s - loss: 0.8484 - accuracy: 0.577 - ETA: 15s - loss: 0.8455 - accuracy: 0.579 - ETA: 15s - loss: 0.8473 - accuracy: 0.574 - ETA: 15s - loss: 0.8459 - accuracy: 0.573 - ETA: 15s - loss: 0.8447 - accuracy: 0.572 - ETA: 15s - loss: 0.8419 - accuracy: 0.573 - ETA: 15s - loss: 0.8397 - accuracy: 0.573 - ETA: 14s - loss: 0.8379 - accuracy: 0.571 - ETA: 14s - loss: 0.8359 - accuracy: 0.573 - ETA: 14s - loss: 0.8333 - accuracy: 0.575 - ETA: 14s - loss: 0.8300 - accuracy: 0.578 - ETA: 14s - loss: 0.8269 - accuracy: 0.578 - ETA: 14s - loss: 0.8238 - accuracy: 0.582 - ETA: 14s - loss: 0.8211 - accuracy: 0.585 - ETA: 13s - loss: 0.8180 - accuracy: 0.585 - ETA: 13s - loss: 0.8159 - accuracy: 0.586 - ETA: 13s - loss: 0.8130 - accuracy: 0.586 - ETA: 13s - loss: 0.8115 - accuracy: 0.585 - ETA: 13s - loss: 0.8078 - accuracy: 0.587 - ETA: 13s - loss: 0.8053 - accuracy: 0.587 - ETA: 12s - loss: 0.8014 - accuracy: 0.591 - ETA: 12s - loss: 0.7990 - accuracy: 0.593 - ETA: 12s - loss: 0.7967 - accuracy: 0.593 - ETA: 12s - loss: 0.8050 - accuracy: 0.592 - ETA: 12s - loss: 0.8077 - accuracy: 0.593 - ETA: 12s - loss: 0.8036 - accuracy: 0.595 - ETA: 12s - loss: 0.8008 - accuracy: 0.598 - ETA: 11s - loss: 0.7976 - accuracy: 0.599 - ETA: 11s - loss: 0.7944 - accuracy: 0.601 - ETA: 11s - loss: 0.7921 - accuracy: 0.602 - ETA: 11s - loss: 0.7886 - accuracy: 0.603 - ETA: 11s - loss: 0.7871 - accuracy: 0.604 - ETA: 11s - loss: 0.7833 - accuracy: 0.606 - ETA: 11s - loss: 0.7788 - accuracy: 0.609 - ETA: 11s - loss: 0.7753 - accuracy: 0.612 - ETA: 10s - loss: 0.7738 - accuracy: 0.613 - ETA: 10s - loss: 0.7715 - accuracy: 0.614 - ETA: 10s - loss: 0.7692 - accuracy: 0.616 - ETA: 10s - loss: 0.7665 - accuracy: 0.618 - ETA: 10s - loss: 0.7644 - accuracy: 0.619 - ETA: 10s - loss: 0.7651 - accuracy: 0.617 - ETA: 10s - loss: 0.7665 - accuracy: 0.616 - ETA: 9s - loss: 0.7648 - accuracy: 0.617 - ETA: 9s - loss: 0.7626 - accuracy: 0.62 - ETA: 9s - loss: 0.7639 - accuracy: 0.61 - ETA: 9s - loss: 0.7647 - accuracy: 0.61 - ETA: 9s - loss: 0.7628 - accuracy: 0.61 - ETA: 9s - loss: 0.7606 - accuracy: 0.61 - ETA: 9s - loss: 0.7586 - accuracy: 0.61 - ETA: 9s - loss: 0.7575 - accuracy: 0.61 - ETA: 8s - loss: 0.7552 - accuracy: 0.61 - ETA: 8s - loss: 0.7529 - accuracy: 0.62 - ETA: 8s - loss: 0.7514 - accuracy: 0.62 - ETA: 8s - loss: 0.7490 - accuracy: 0.62 - ETA: 8s - loss: 0.7476 - accuracy: 0.62 - ETA: 8s - loss: 0.7442 - accuracy: 0.62 - ETA: 8s - loss: 0.7484 - accuracy: 0.62 - ETA: 8s - loss: 0.7453 - accuracy: 0.62 - ETA: 7s - loss: 0.7442 - accuracy: 0.62 - ETA: 7s - loss: 0.7413 - accuracy: 0.62 - ETA: 7s - loss: 0.7406 - accuracy: 0.62 - ETA: 7s - loss: 0.7380 - accuracy: 0.63 - ETA: 7s - loss: 0.7414 - accuracy: 0.63 - ETA: 7s - loss: 0.7406 - accuracy: 0.63 - ETA: 7s - loss: 0.7382 - accuracy: 0.63 - ETA: 7s - loss: 0.7372 - accuracy: 0.63 - ETA: 6s - loss: 0.7359 - accuracy: 0.63 - ETA: 6s - loss: 0.7335 - accuracy: 0.63 - ETA: 6s - loss: 0.7311 - accuracy: 0.63 - ETA: 6s - loss: 0.7296 - accuracy: 0.63 - ETA: 6s - loss: 0.7276 - accuracy: 0.63 - ETA: 6s - loss: 0.7265 - accuracy: 0.63 - ETA: 6s - loss: 0.7263 - accuracy: 0.63 - ETA: 6s - loss: 0.7253 - accuracy: 0.63 - ETA: 5s - loss: 0.7255 - accuracy: 0.63 - ETA: 5s - loss: 0.7241 - accuracy: 0.63 - ETA: 5s - loss: 0.7232 - accuracy: 0.63 - ETA: 5s - loss: 0.7223 - accuracy: 0.63 - ETA: 5s - loss: 0.7221 - accuracy: 0.63 - ETA: 5s - loss: 0.7212 - accuracy: 0.63 - ETA: 5s - loss: 0.7213 - accuracy: 0.63 - ETA: 5s - loss: 0.7225 - accuracy: 0.63 - ETA: 4s - loss: 0.7217 - accuracy: 0.63 - ETA: 4s - loss: 0.7205 - accuracy: 0.63 - ETA: 4s - loss: 0.7198 - accuracy: 0.63 - ETA: 4s - loss: 0.7186 - accuracy: 0.64 - ETA: 4s - loss: 0.7173 - accuracy: 0.64 - ETA: 4s - loss: 0.7157 - accuracy: 0.64 - ETA: 4s - loss: 0.7142 - accuracy: 0.64 - ETA: 4s - loss: 0.7135 - accuracy: 0.64 - ETA: 3s - loss: 0.7124 - accuracy: 0.64 - ETA: 3s - loss: 0.7112 - accuracy: 0.64 - ETA: 3s - loss: 0.7093 - accuracy: 0.64 - ETA: 3s - loss: 0.7085 - accuracy: 0.64 - ETA: 3s - loss: 0.7077 - accuracy: 0.64 - ETA: 3s - loss: 0.7062 - accuracy: 0.64 - ETA: 3s - loss: 0.7043 - accuracy: 0.64 - ETA: 3s - loss: 0.7034 - accuracy: 0.64 - ETA: 3s - loss: 0.7014 - accuracy: 0.64 - ETA: 2s - loss: 0.7001 - accuracy: 0.64 - ETA: 2s - loss: 0.6976 - accuracy: 0.65 - ETA: 2s - loss: 0.6980 - accuracy: 0.65 - ETA: 2s - loss: 0.6963 - accuracy: 0.65 - ETA: 2s - loss: 0.6950 - accuracy: 0.65 - ETA: 2s - loss: 0.6945 - accuracy: 0.65 - ETA: 2s - loss: 0.6926 - accuracy: 0.65 - ETA: 2s - loss: 0.6917 - accuracy: 0.6549\b\b\b\b\b\b\b\b\b\b\b\b\b\b\b\b\b\b\b\b\b\b\b\b\b\b\b\b\b\b\b\b\b\b\b\b\b\b\b\b\b\b\b\b\b\b\b\b\b\b\b\b\b\b\b\b\b\b\b\b\b\b\b\b\b\b\b\b\b\b\b\b\b\b\b\b\b\b\b\b\b\b\b\b\b\b1646/1646 [==============================] - ETA: 1s - loss: 0.6914 - accuracy: 0.65 - ETA: 1s - loss: 0.6898 - accuracy: 0.65 - ETA: 1s - loss: 0.6873 - accuracy: 0.65 - ETA: 1s - loss: 0.6850 - accuracy: 0.66 - ETA: 1s - loss: 0.6855 - accuracy: 0.66 - ETA: 1s - loss: 0.6847 - accuracy: 0.66 - ETA: 1s - loss: 0.6849 - accuracy: 0.66 - ETA: 1s - loss: 0.6845 - accuracy: 0.66 - ETA: 1s - loss: 0.6831 - accuracy: 0.66 - ETA: 0s - loss: 0.6807 - accuracy: 0.66 - ETA: 0s - loss: 0.6834 - accuracy: 0.66 - ETA: 0s - loss: 0.6832 - accuracy: 0.66 - ETA: 0s - loss: 0.6824 - accuracy: 0.66 - ETA: 0s - loss: 0.6819 - accuracy: 0.66 - ETA: 0s - loss: 0.6809 - accuracy: 0.66 - ETA: 0s - loss: 0.6799 - accuracy: 0.66 - ETA: 0s - loss: 0.6794 - accuracy: 0.66 - 27s 16ms/sample - loss: 0.6791 - accuracy: 0.6652\n",
      "Epoch 2/10\n",
      "1512/1646 [==========================>...] - ETA: 17s - loss: 0.4755 - accuracy: 0.875 - ETA: 20s - loss: 0.4874 - accuracy: 0.812 - ETA: 19s - loss: 0.4909 - accuracy: 0.791 - ETA: 20s - loss: 0.4549 - accuracy: 0.843 - ETA: 20s - loss: 0.4706 - accuracy: 0.825 - ETA: 20s - loss: 0.4768 - accuracy: 0.791 - ETA: 19s - loss: 0.4595 - accuracy: 0.803 - ETA: 19s - loss: 0.4485 - accuracy: 0.796 - ETA: 19s - loss: 0.4676 - accuracy: 0.791 - ETA: 19s - loss: 0.4794 - accuracy: 0.775 - ETA: 19s - loss: 0.4588 - accuracy: 0.784 - ETA: 19s - loss: 0.4695 - accuracy: 0.781 - ETA: 19s - loss: 0.4589 - accuracy: 0.788 - ETA: 19s - loss: 0.4460 - accuracy: 0.794 - ETA: 19s - loss: 0.4608 - accuracy: 0.791 - ETA: 19s - loss: 0.4847 - accuracy: 0.789 - ETA: 18s - loss: 0.4679 - accuracy: 0.801 - ETA: 18s - loss: 0.4797 - accuracy: 0.791 - ETA: 18s - loss: 0.5038 - accuracy: 0.776 - ETA: 18s - loss: 0.5124 - accuracy: 0.768 - ETA: 18s - loss: 0.5050 - accuracy: 0.773 - ETA: 18s - loss: 0.5097 - accuracy: 0.767 - ETA: 18s - loss: 0.5029 - accuracy: 0.766 - ETA: 18s - loss: 0.5011 - accuracy: 0.765 - ETA: 18s - loss: 0.4952 - accuracy: 0.770 - ETA: 18s - loss: 0.4989 - accuracy: 0.769 - ETA: 18s - loss: 0.5055 - accuracy: 0.763 - ETA: 18s - loss: 0.5018 - accuracy: 0.763 - ETA: 17s - loss: 0.5026 - accuracy: 0.758 - ETA: 17s - loss: 0.5054 - accuracy: 0.750 - ETA: 17s - loss: 0.5027 - accuracy: 0.750 - ETA: 17s - loss: 0.4996 - accuracy: 0.750 - ETA: 17s - loss: 0.4921 - accuracy: 0.757 - ETA: 17s - loss: 0.4882 - accuracy: 0.761 - ETA: 17s - loss: 0.4878 - accuracy: 0.760 - ETA: 17s - loss: 0.4797 - accuracy: 0.767 - ETA: 17s - loss: 0.4887 - accuracy: 0.763 - ETA: 17s - loss: 0.4876 - accuracy: 0.766 - ETA: 17s - loss: 0.4898 - accuracy: 0.769 - ETA: 16s - loss: 0.4833 - accuracy: 0.775 - ETA: 16s - loss: 0.4768 - accuracy: 0.777 - ETA: 16s - loss: 0.4708 - accuracy: 0.779 - ETA: 16s - loss: 0.4774 - accuracy: 0.776 - ETA: 16s - loss: 0.4897 - accuracy: 0.767 - ETA: 16s - loss: 0.4883 - accuracy: 0.769 - ETA: 16s - loss: 0.4822 - accuracy: 0.771 - ETA: 16s - loss: 0.4855 - accuracy: 0.768 - ETA: 16s - loss: 0.4872 - accuracy: 0.768 - ETA: 16s - loss: 0.4844 - accuracy: 0.770 - ETA: 16s - loss: 0.4874 - accuracy: 0.765 - ETA: 15s - loss: 0.4834 - accuracy: 0.767 - ETA: 15s - loss: 0.4800 - accuracy: 0.766 - ETA: 15s - loss: 0.4783 - accuracy: 0.768 - ETA: 15s - loss: 0.4790 - accuracy: 0.770 - ETA: 15s - loss: 0.4739 - accuracy: 0.775 - ETA: 15s - loss: 0.4706 - accuracy: 0.776 - ETA: 15s - loss: 0.4678 - accuracy: 0.778 - ETA: 15s - loss: 0.4756 - accuracy: 0.775 - ETA: 15s - loss: 0.4770 - accuracy: 0.773 - ETA: 15s - loss: 0.4860 - accuracy: 0.768 - ETA: 14s - loss: 0.4865 - accuracy: 0.768 - ETA: 14s - loss: 0.4889 - accuracy: 0.768 - ETA: 14s - loss: 0.4884 - accuracy: 0.767 - ETA: 14s - loss: 0.4909 - accuracy: 0.767 - ETA: 14s - loss: 0.4921 - accuracy: 0.765 - ETA: 14s - loss: 0.4949 - accuracy: 0.763 - ETA: 14s - loss: 0.4943 - accuracy: 0.764 - ETA: 14s - loss: 0.4967 - accuracy: 0.761 - ETA: 14s - loss: 0.4974 - accuracy: 0.760 - ETA: 14s - loss: 0.4976 - accuracy: 0.758 - ETA: 13s - loss: 0.4965 - accuracy: 0.760 - ETA: 13s - loss: 0.4950 - accuracy: 0.762 - ETA: 13s - loss: 0.4928 - accuracy: 0.763 - ETA: 13s - loss: 0.4919 - accuracy: 0.765 - ETA: 13s - loss: 0.4933 - accuracy: 0.763 - ETA: 13s - loss: 0.4908 - accuracy: 0.766 - ETA: 13s - loss: 0.4918 - accuracy: 0.764 - ETA: 13s - loss: 0.4899 - accuracy: 0.766 - ETA: 13s - loss: 0.4884 - accuracy: 0.767 - ETA: 13s - loss: 0.4855 - accuracy: 0.768 - ETA: 12s - loss: 0.4828 - accuracy: 0.770 - ETA: 12s - loss: 0.4775 - accuracy: 0.772 - ETA: 12s - loss: 0.4796 - accuracy: 0.771 - ETA: 12s - loss: 0.4810 - accuracy: 0.770 - ETA: 12s - loss: 0.4778 - accuracy: 0.773 - ETA: 12s - loss: 0.4755 - accuracy: 0.774 - ETA: 12s - loss: 0.4714 - accuracy: 0.777 - ETA: 12s - loss: 0.4696 - accuracy: 0.778 - ETA: 12s - loss: 0.4701 - accuracy: 0.778 - ETA: 12s - loss: 0.4677 - accuracy: 0.779 - ETA: 11s - loss: 0.4653 - accuracy: 0.780 - ETA: 11s - loss: 0.4656 - accuracy: 0.778 - ETA: 11s - loss: 0.4673 - accuracy: 0.776 - ETA: 11s - loss: 0.4697 - accuracy: 0.775 - ETA: 11s - loss: 0.4755 - accuracy: 0.773 - ETA: 11s - loss: 0.4746 - accuracy: 0.774 - ETA: 11s - loss: 0.4759 - accuracy: 0.773 - ETA: 11s - loss: 0.4770 - accuracy: 0.771 - ETA: 11s - loss: 0.4786 - accuracy: 0.770 - ETA: 11s - loss: 0.4790 - accuracy: 0.770 - ETA: 10s - loss: 0.4814 - accuracy: 0.768 - ETA: 10s - loss: 0.4827 - accuracy: 0.768 - ETA: 10s - loss: 0.4853 - accuracy: 0.764 - ETA: 10s - loss: 0.4865 - accuracy: 0.762 - ETA: 10s - loss: 0.4885 - accuracy: 0.759 - ETA: 10s - loss: 0.4888 - accuracy: 0.760 - ETA: 10s - loss: 0.4895 - accuracy: 0.761 - ETA: 10s - loss: 0.4910 - accuracy: 0.762 - ETA: 10s - loss: 0.4913 - accuracy: 0.763 - ETA: 10s - loss: 0.4910 - accuracy: 0.765 - ETA: 9s - loss: 0.4915 - accuracy: 0.766 - ETA: 9s - loss: 0.4922 - accuracy: 0.76 - ETA: 9s - loss: 0.4940 - accuracy: 0.76 - ETA: 9s - loss: 0.4922 - accuracy: 0.76 - ETA: 9s - loss: 0.4931 - accuracy: 0.76 - ETA: 9s - loss: 0.4920 - accuracy: 0.76 - ETA: 9s - loss: 0.4943 - accuracy: 0.76 - ETA: 9s - loss: 0.4961 - accuracy: 0.76 - ETA: 9s - loss: 0.4960 - accuracy: 0.76 - ETA: 8s - loss: 0.4943 - accuracy: 0.76 - ETA: 8s - loss: 0.4944 - accuracy: 0.76 - ETA: 8s - loss: 0.4943 - accuracy: 0.76 - ETA: 8s - loss: 0.4940 - accuracy: 0.76 - ETA: 8s - loss: 0.4924 - accuracy: 0.76 - ETA: 8s - loss: 0.4944 - accuracy: 0.76 - ETA: 8s - loss: 0.4960 - accuracy: 0.76 - ETA: 8s - loss: 0.4964 - accuracy: 0.75 - ETA: 8s - loss: 0.4959 - accuracy: 0.75 - ETA: 8s - loss: 0.4961 - accuracy: 0.75 - ETA: 7s - loss: 0.4950 - accuracy: 0.75 - ETA: 7s - loss: 0.4957 - accuracy: 0.75 - ETA: 7s - loss: 0.4956 - accuracy: 0.75 - ETA: 7s - loss: 0.4956 - accuracy: 0.75 - ETA: 7s - loss: 0.4953 - accuracy: 0.75 - ETA: 7s - loss: 0.4950 - accuracy: 0.75 - ETA: 7s - loss: 0.4962 - accuracy: 0.75 - ETA: 7s - loss: 0.4982 - accuracy: 0.75 - ETA: 7s - loss: 0.4969 - accuracy: 0.75 - ETA: 6s - loss: 0.4965 - accuracy: 0.75 - ETA: 6s - loss: 0.4961 - accuracy: 0.75 - ETA: 6s - loss: 0.4967 - accuracy: 0.75 - ETA: 6s - loss: 0.4962 - accuracy: 0.75 - ETA: 6s - loss: 0.4953 - accuracy: 0.75 - ETA: 6s - loss: 0.4950 - accuracy: 0.75 - ETA: 6s - loss: 0.4944 - accuracy: 0.75 - ETA: 6s - loss: 0.4926 - accuracy: 0.75 - ETA: 6s - loss: 0.4929 - accuracy: 0.75 - ETA: 6s - loss: 0.4912 - accuracy: 0.76 - ETA: 5s - loss: 0.4940 - accuracy: 0.76 - ETA: 5s - loss: 0.4935 - accuracy: 0.76 - ETA: 5s - loss: 0.4966 - accuracy: 0.75 - ETA: 5s - loss: 0.4984 - accuracy: 0.75 - ETA: 5s - loss: 0.4964 - accuracy: 0.76 - ETA: 5s - loss: 0.4991 - accuracy: 0.75 - ETA: 5s - loss: 0.4989 - accuracy: 0.75 - ETA: 5s - loss: 0.5013 - accuracy: 0.75 - ETA: 5s - loss: 0.5016 - accuracy: 0.75 - ETA: 5s - loss: 0.5007 - accuracy: 0.75 - ETA: 4s - loss: 0.5003 - accuracy: 0.75 - ETA: 4s - loss: 0.5004 - accuracy: 0.75 - ETA: 4s - loss: 0.4995 - accuracy: 0.76 - ETA: 4s - loss: 0.4992 - accuracy: 0.76 - ETA: 4s - loss: 0.5008 - accuracy: 0.75 - ETA: 4s - loss: 0.5007 - accuracy: 0.75 - ETA: 4s - loss: 0.5013 - accuracy: 0.75 - ETA: 4s - loss: 0.5019 - accuracy: 0.75 - ETA: 4s - loss: 0.5025 - accuracy: 0.75 - ETA: 3s - loss: 0.5018 - accuracy: 0.75 - ETA: 3s - loss: 0.5023 - accuracy: 0.75 - ETA: 3s - loss: 0.5014 - accuracy: 0.75 - ETA: 3s - loss: 0.5029 - accuracy: 0.75 - ETA: 3s - loss: 0.5023 - accuracy: 0.75 - ETA: 3s - loss: 0.5012 - accuracy: 0.75 - ETA: 3s - loss: 0.5044 - accuracy: 0.75 - ETA: 3s - loss: 0.5071 - accuracy: 0.75 - ETA: 3s - loss: 0.5074 - accuracy: 0.75 - ETA: 3s - loss: 0.5083 - accuracy: 0.75 - ETA: 2s - loss: 0.5090 - accuracy: 0.75 - ETA: 2s - loss: 0.5085 - accuracy: 0.75 - ETA: 2s - loss: 0.5087 - accuracy: 0.75 - ETA: 2s - loss: 0.5093 - accuracy: 0.75 - ETA: 2s - loss: 0.5095 - accuracy: 0.75 - ETA: 2s - loss: 0.5102 - accuracy: 0.75 - ETA: 2s - loss: 0.5096 - accuracy: 0.75 - ETA: 2s - loss: 0.5095 - accuracy: 0.75 - ETA: 2s - loss: 0.5093 - accuracy: 0.75 - ETA: 1s - loss: 0.5086 - accuracy: 0.75 - ETA: 1s - loss: 0.5096 - accuracy: 0.75 - ETA: 1s - loss: 0.5089 - accuracy: 0.75731646/1646 [==============================] - ETA: 1s - loss: 0.5093 - accuracy: 0.75 - ETA: 1s - loss: 0.5097 - accuracy: 0.75 - ETA: 1s - loss: 0.5111 - accuracy: 0.75 - ETA: 1s - loss: 0.5108 - accuracy: 0.75 - ETA: 1s - loss: 0.5098 - accuracy: 0.75 - ETA: 1s - loss: 0.5091 - accuracy: 0.75 - ETA: 1s - loss: 0.5096 - accuracy: 0.75 - ETA: 0s - loss: 0.5112 - accuracy: 0.75 - ETA: 0s - loss: 0.5120 - accuracy: 0.75 - ETA: 0s - loss: 0.5135 - accuracy: 0.75 - ETA: 0s - loss: 0.5136 - accuracy: 0.75 - ETA: 0s - loss: 0.5128 - accuracy: 0.75 - ETA: 0s - loss: 0.5121 - accuracy: 0.75 - ETA: 0s - loss: 0.5117 - accuracy: 0.75 - ETA: 0s - loss: 0.5114 - accuracy: 0.75 - ETA: 0s - loss: 0.5124 - accuracy: 0.75 - 23s 14ms/sample - loss: 0.5115 - accuracy: 0.7533\n",
      "Epoch 3/10\n",
      "1512/1646 [==========================>...] - ETA: 18s - loss: 0.6170 - accuracy: 0.625 - ETA: 19s - loss: 0.4800 - accuracy: 0.812 - ETA: 20s - loss: 0.5525 - accuracy: 0.708 - ETA: 19s - loss: 0.5539 - accuracy: 0.687 - ETA: 20s - loss: 0.5472 - accuracy: 0.700 - ETA: 20s - loss: 0.5354 - accuracy: 0.729 - ETA: 20s - loss: 0.5425 - accuracy: 0.732 - ETA: 20s - loss: 0.5420 - accuracy: 0.734 - ETA: 19s - loss: 0.5270 - accuracy: 0.736 - ETA: 19s - loss: 0.5099 - accuracy: 0.750 - ETA: 19s - loss: 0.4976 - accuracy: 0.761 - ETA: 19s - loss: 0.5017 - accuracy: 0.760 - ETA: 19s - loss: 0.5032 - accuracy: 0.750 - ETA: 19s - loss: 0.4863 - accuracy: 0.758 - ETA: 19s - loss: 0.4890 - accuracy: 0.741 - ETA: 19s - loss: 0.4907 - accuracy: 0.742 - ETA: 19s - loss: 0.4905 - accuracy: 0.742 - ETA: 19s - loss: 0.4820 - accuracy: 0.750 - ETA: 18s - loss: 0.4755 - accuracy: 0.756 - ETA: 18s - loss: 0.4653 - accuracy: 0.756 - ETA: 18s - loss: 0.4687 - accuracy: 0.761 - ETA: 18s - loss: 0.4734 - accuracy: 0.755 - ETA: 18s - loss: 0.4650 - accuracy: 0.760 - ETA: 18s - loss: 0.4671 - accuracy: 0.760 - ETA: 18s - loss: 0.4978 - accuracy: 0.745 - ETA: 18s - loss: 0.4974 - accuracy: 0.745 - ETA: 18s - loss: 0.4954 - accuracy: 0.740 - ETA: 18s - loss: 0.4889 - accuracy: 0.750 - ETA: 18s - loss: 0.4888 - accuracy: 0.745 - ETA: 17s - loss: 0.4891 - accuracy: 0.745 - ETA: 17s - loss: 0.4954 - accuracy: 0.737 - ETA: 17s - loss: 0.4958 - accuracy: 0.738 - ETA: 17s - loss: 0.4952 - accuracy: 0.738 - ETA: 17s - loss: 0.4950 - accuracy: 0.735 - ETA: 17s - loss: 0.4925 - accuracy: 0.739 - ETA: 17s - loss: 0.4921 - accuracy: 0.746 - ETA: 17s - loss: 0.4920 - accuracy: 0.743 - ETA: 17s - loss: 0.4864 - accuracy: 0.746 - ETA: 17s - loss: 0.4801 - accuracy: 0.753 - ETA: 17s - loss: 0.4926 - accuracy: 0.743 - ETA: 16s - loss: 0.4922 - accuracy: 0.743 - ETA: 16s - loss: 0.5021 - accuracy: 0.741 - ETA: 16s - loss: 0.4983 - accuracy: 0.744 - ETA: 16s - loss: 0.5045 - accuracy: 0.738 - ETA: 16s - loss: 0.5032 - accuracy: 0.738 - ETA: 16s - loss: 0.5031 - accuracy: 0.741 - ETA: 16s - loss: 0.5060 - accuracy: 0.736 - ETA: 16s - loss: 0.5013 - accuracy: 0.742 - ETA: 16s - loss: 0.4961 - accuracy: 0.747 - ETA: 16s - loss: 0.4986 - accuracy: 0.747 - ETA: 15s - loss: 0.5002 - accuracy: 0.745 - ETA: 15s - loss: 0.4964 - accuracy: 0.750 - ETA: 15s - loss: 0.4942 - accuracy: 0.752 - ETA: 15s - loss: 0.5012 - accuracy: 0.743 - ETA: 15s - loss: 0.4973 - accuracy: 0.747 - ETA: 15s - loss: 0.4988 - accuracy: 0.747 - ETA: 15s - loss: 0.4979 - accuracy: 0.750 - ETA: 15s - loss: 0.4926 - accuracy: 0.754 - ETA: 15s - loss: 0.4962 - accuracy: 0.750 - ETA: 15s - loss: 0.5031 - accuracy: 0.745 - ETA: 15s - loss: 0.5027 - accuracy: 0.745 - ETA: 14s - loss: 0.5041 - accuracy: 0.744 - ETA: 14s - loss: 0.5046 - accuracy: 0.744 - ETA: 14s - loss: 0.5024 - accuracy: 0.746 - ETA: 14s - loss: 0.5022 - accuracy: 0.750 - ETA: 14s - loss: 0.4996 - accuracy: 0.751 - ETA: 14s - loss: 0.5018 - accuracy: 0.750 - ETA: 14s - loss: 0.5019 - accuracy: 0.751 - ETA: 14s - loss: 0.5016 - accuracy: 0.751 - ETA: 14s - loss: 0.5031 - accuracy: 0.751 - ETA: 13s - loss: 0.4980 - accuracy: 0.755 - ETA: 13s - loss: 0.4951 - accuracy: 0.756 - ETA: 13s - loss: 0.4933 - accuracy: 0.756 - ETA: 13s - loss: 0.4916 - accuracy: 0.758 - ETA: 13s - loss: 0.4925 - accuracy: 0.758 - ETA: 13s - loss: 0.4928 - accuracy: 0.756 - ETA: 13s - loss: 0.4893 - accuracy: 0.758 - ETA: 13s - loss: 0.4894 - accuracy: 0.759 - ETA: 13s - loss: 0.4856 - accuracy: 0.762 - ETA: 13s - loss: 0.4874 - accuracy: 0.762 - ETA: 13s - loss: 0.4880 - accuracy: 0.760 - ETA: 12s - loss: 0.4844 - accuracy: 0.762 - ETA: 12s - loss: 0.4848 - accuracy: 0.760 - ETA: 12s - loss: 0.4848 - accuracy: 0.760 - ETA: 12s - loss: 0.4853 - accuracy: 0.758 - ETA: 12s - loss: 0.4850 - accuracy: 0.760 - ETA: 12s - loss: 0.4861 - accuracy: 0.760 - ETA: 12s - loss: 0.4834 - accuracy: 0.762 - ETA: 12s - loss: 0.4851 - accuracy: 0.764 - ETA: 12s - loss: 0.4832 - accuracy: 0.765 - ETA: 11s - loss: 0.4812 - accuracy: 0.767 - ETA: 11s - loss: 0.4813 - accuracy: 0.766 - ETA: 11s - loss: 0.4792 - accuracy: 0.768 - ETA: 11s - loss: 0.4769 - accuracy: 0.771 - ETA: 11s - loss: 0.4756 - accuracy: 0.773 - ETA: 11s - loss: 0.4748 - accuracy: 0.774 - ETA: 11s - loss: 0.4739 - accuracy: 0.775 - ETA: 11s - loss: 0.4713 - accuracy: 0.778 - ETA: 11s - loss: 0.4694 - accuracy: 0.779 - ETA: 11s - loss: 0.4711 - accuracy: 0.778 - ETA: 10s - loss: 0.4733 - accuracy: 0.777 - ETA: 10s - loss: 0.4718 - accuracy: 0.778 - ETA: 10s - loss: 0.4694 - accuracy: 0.779 - ETA: 10s - loss: 0.4678 - accuracy: 0.780 - ETA: 10s - loss: 0.4699 - accuracy: 0.779 - ETA: 10s - loss: 0.4699 - accuracy: 0.778 - ETA: 10s - loss: 0.4706 - accuracy: 0.776 - ETA: 10s - loss: 0.4720 - accuracy: 0.776 - ETA: 10s - loss: 0.4702 - accuracy: 0.777 - ETA: 10s - loss: 0.4688 - accuracy: 0.778 - ETA: 9s - loss: 0.4686 - accuracy: 0.779 - ETA: 9s - loss: 0.4687 - accuracy: 0.77 - ETA: 9s - loss: 0.4675 - accuracy: 0.77 - ETA: 9s - loss: 0.4659 - accuracy: 0.77 - ETA: 9s - loss: 0.4650 - accuracy: 0.77 - ETA: 9s - loss: 0.4689 - accuracy: 0.77 - ETA: 9s - loss: 0.4673 - accuracy: 0.77 - ETA: 9s - loss: 0.4661 - accuracy: 0.77 - ETA: 9s - loss: 0.4656 - accuracy: 0.77 - ETA: 9s - loss: 0.4653 - accuracy: 0.77 - ETA: 8s - loss: 0.4623 - accuracy: 0.78 - ETA: 8s - loss: 0.4676 - accuracy: 0.77 - ETA: 8s - loss: 0.4675 - accuracy: 0.77 - ETA: 8s - loss: 0.4682 - accuracy: 0.77 - ETA: 8s - loss: 0.4663 - accuracy: 0.77 - ETA: 8s - loss: 0.4656 - accuracy: 0.77 - ETA: 8s - loss: 0.4660 - accuracy: 0.77 - ETA: 8s - loss: 0.4675 - accuracy: 0.77 - ETA: 8s - loss: 0.4709 - accuracy: 0.77 - ETA: 7s - loss: 0.4700 - accuracy: 0.77 - ETA: 7s - loss: 0.4683 - accuracy: 0.77 - ETA: 7s - loss: 0.4688 - accuracy: 0.77 - ETA: 7s - loss: 0.4733 - accuracy: 0.77 - ETA: 7s - loss: 0.4740 - accuracy: 0.77 - ETA: 7s - loss: 0.4748 - accuracy: 0.77 - ETA: 7s - loss: 0.4767 - accuracy: 0.77 - ETA: 7s - loss: 0.4764 - accuracy: 0.77 - ETA: 7s - loss: 0.4768 - accuracy: 0.76 - ETA: 7s - loss: 0.4760 - accuracy: 0.77 - ETA: 6s - loss: 0.4768 - accuracy: 0.76 - ETA: 6s - loss: 0.4752 - accuracy: 0.77 - ETA: 6s - loss: 0.4758 - accuracy: 0.76 - ETA: 6s - loss: 0.4772 - accuracy: 0.76 - ETA: 6s - loss: 0.4776 - accuracy: 0.76 - ETA: 6s - loss: 0.4769 - accuracy: 0.77 - ETA: 6s - loss: 0.4751 - accuracy: 0.77 - ETA: 6s - loss: 0.4744 - accuracy: 0.77 - ETA: 6s - loss: 0.4738 - accuracy: 0.77 - ETA: 5s - loss: 0.4734 - accuracy: 0.77 - ETA: 5s - loss: 0.4718 - accuracy: 0.77 - ETA: 5s - loss: 0.4698 - accuracy: 0.77 - ETA: 5s - loss: 0.4684 - accuracy: 0.77 - ETA: 5s - loss: 0.4667 - accuracy: 0.77 - ETA: 5s - loss: 0.4661 - accuracy: 0.77 - ETA: 5s - loss: 0.4705 - accuracy: 0.77 - ETA: 5s - loss: 0.4719 - accuracy: 0.77 - ETA: 5s - loss: 0.4751 - accuracy: 0.77 - ETA: 5s - loss: 0.4748 - accuracy: 0.77 - ETA: 4s - loss: 0.4749 - accuracy: 0.77 - ETA: 4s - loss: 0.4746 - accuracy: 0.77 - ETA: 4s - loss: 0.4740 - accuracy: 0.77 - ETA: 4s - loss: 0.4738 - accuracy: 0.77 - ETA: 4s - loss: 0.4730 - accuracy: 0.77 - ETA: 4s - loss: 0.4722 - accuracy: 0.77 - ETA: 4s - loss: 0.4720 - accuracy: 0.77 - ETA: 4s - loss: 0.4714 - accuracy: 0.77 - ETA: 4s - loss: 0.4707 - accuracy: 0.77 - ETA: 3s - loss: 0.4689 - accuracy: 0.78 - ETA: 3s - loss: 0.4688 - accuracy: 0.78 - ETA: 3s - loss: 0.4676 - accuracy: 0.78 - ETA: 3s - loss: 0.4692 - accuracy: 0.78 - ETA: 3s - loss: 0.4688 - accuracy: 0.78 - ETA: 3s - loss: 0.4673 - accuracy: 0.78 - ETA: 3s - loss: 0.4657 - accuracy: 0.78 - ETA: 3s - loss: 0.4651 - accuracy: 0.78 - ETA: 3s - loss: 0.4639 - accuracy: 0.78 - ETA: 3s - loss: 0.4639 - accuracy: 0.78 - ETA: 2s - loss: 0.4662 - accuracy: 0.78 - ETA: 2s - loss: 0.4676 - accuracy: 0.78 - ETA: 2s - loss: 0.4671 - accuracy: 0.78 - ETA: 2s - loss: 0.4664 - accuracy: 0.78 - ETA: 2s - loss: 0.4651 - accuracy: 0.78 - ETA: 2s - loss: 0.4666 - accuracy: 0.78 - ETA: 2s - loss: 0.4687 - accuracy: 0.78 - ETA: 2s - loss: 0.4687 - accuracy: 0.78 - ETA: 2s - loss: 0.4672 - accuracy: 0.78 - ETA: 1s - loss: 0.4673 - accuracy: 0.78 - ETA: 1s - loss: 0.4685 - accuracy: 0.77 - ETA: 1s - loss: 0.4683 - accuracy: 0.78041646/1646 [==============================] - ETA: 1s - loss: 0.4680 - accuracy: 0.78 - ETA: 1s - loss: 0.4677 - accuracy: 0.78 - ETA: 1s - loss: 0.4684 - accuracy: 0.78 - ETA: 1s - loss: 0.4681 - accuracy: 0.78 - ETA: 1s - loss: 0.4682 - accuracy: 0.78 - ETA: 1s - loss: 0.4675 - accuracy: 0.78 - ETA: 1s - loss: 0.4719 - accuracy: 0.78 - ETA: 0s - loss: 0.4706 - accuracy: 0.78 - ETA: 0s - loss: 0.4710 - accuracy: 0.78 - ETA: 0s - loss: 0.4708 - accuracy: 0.78 - ETA: 0s - loss: 0.4724 - accuracy: 0.78 - ETA: 0s - loss: 0.4714 - accuracy: 0.78 - ETA: 0s - loss: 0.4709 - accuracy: 0.78 - ETA: 0s - loss: 0.4702 - accuracy: 0.78 - ETA: 0s - loss: 0.4711 - accuracy: 0.78 - ETA: 0s - loss: 0.4703 - accuracy: 0.78 - 23s 14ms/sample - loss: 0.4698 - accuracy: 0.7813\n",
      "Epoch 4/10\n",
      "1512/1646 [==========================>...] - ETA: 18s - loss: 0.4457 - accuracy: 0.750 - ETA: 19s - loss: 0.5193 - accuracy: 0.687 - ETA: 20s - loss: 0.5166 - accuracy: 0.708 - ETA: 20s - loss: 0.5219 - accuracy: 0.687 - ETA: 20s - loss: 0.5383 - accuracy: 0.700 - ETA: 20s - loss: 0.5615 - accuracy: 0.687 - ETA: 20s - loss: 0.4957 - accuracy: 0.732 - ETA: 19s - loss: 0.4689 - accuracy: 0.750 - ETA: 19s - loss: 0.4898 - accuracy: 0.736 - ETA: 19s - loss: 0.5075 - accuracy: 0.712 - ETA: 19s - loss: 0.4946 - accuracy: 0.715 - ETA: 19s - loss: 0.4839 - accuracy: 0.718 - ETA: 19s - loss: 0.4718 - accuracy: 0.740 - ETA: 19s - loss: 0.4860 - accuracy: 0.723 - ETA: 19s - loss: 0.4858 - accuracy: 0.716 - ETA: 19s - loss: 0.4768 - accuracy: 0.734 - ETA: 19s - loss: 0.4667 - accuracy: 0.742 - ETA: 19s - loss: 0.4679 - accuracy: 0.743 - ETA: 18s - loss: 0.4627 - accuracy: 0.750 - ETA: 18s - loss: 0.4618 - accuracy: 0.750 - ETA: 18s - loss: 0.4724 - accuracy: 0.750 - ETA: 18s - loss: 0.4608 - accuracy: 0.755 - ETA: 18s - loss: 0.4555 - accuracy: 0.760 - ETA: 18s - loss: 0.4639 - accuracy: 0.750 - ETA: 18s - loss: 0.4530 - accuracy: 0.760 - ETA: 18s - loss: 0.4393 - accuracy: 0.769 - ETA: 18s - loss: 0.4310 - accuracy: 0.773 - ETA: 18s - loss: 0.4439 - accuracy: 0.767 - ETA: 18s - loss: 0.4454 - accuracy: 0.767 - ETA: 17s - loss: 0.4331 - accuracy: 0.775 - ETA: 17s - loss: 0.4249 - accuracy: 0.782 - ETA: 17s - loss: 0.4167 - accuracy: 0.789 - ETA: 17s - loss: 0.4213 - accuracy: 0.784 - ETA: 17s - loss: 0.4306 - accuracy: 0.783 - ETA: 17s - loss: 0.4267 - accuracy: 0.785 - ETA: 17s - loss: 0.4405 - accuracy: 0.781 - ETA: 17s - loss: 0.4600 - accuracy: 0.770 - ETA: 17s - loss: 0.4732 - accuracy: 0.759 - ETA: 17s - loss: 0.4791 - accuracy: 0.756 - ETA: 17s - loss: 0.4817 - accuracy: 0.756 - ETA: 16s - loss: 0.4827 - accuracy: 0.753 - ETA: 16s - loss: 0.4853 - accuracy: 0.750 - ETA: 16s - loss: 0.4887 - accuracy: 0.752 - ETA: 16s - loss: 0.4906 - accuracy: 0.750 - ETA: 16s - loss: 0.4917 - accuracy: 0.750 - ETA: 16s - loss: 0.4954 - accuracy: 0.744 - ETA: 16s - loss: 0.4973 - accuracy: 0.744 - ETA: 16s - loss: 0.4945 - accuracy: 0.750 - ETA: 16s - loss: 0.4996 - accuracy: 0.747 - ETA: 16s - loss: 0.5008 - accuracy: 0.747 - ETA: 15s - loss: 0.5010 - accuracy: 0.747 - ETA: 15s - loss: 0.5045 - accuracy: 0.747 - ETA: 15s - loss: 0.5032 - accuracy: 0.750 - ETA: 15s - loss: 0.4987 - accuracy: 0.754 - ETA: 15s - loss: 0.5004 - accuracy: 0.754 - ETA: 15s - loss: 0.5010 - accuracy: 0.754 - ETA: 15s - loss: 0.5053 - accuracy: 0.752 - ETA: 15s - loss: 0.5032 - accuracy: 0.754 - ETA: 15s - loss: 0.5057 - accuracy: 0.752 - ETA: 15s - loss: 0.5025 - accuracy: 0.756 - ETA: 15s - loss: 0.5040 - accuracy: 0.756 - ETA: 14s - loss: 0.5027 - accuracy: 0.758 - ETA: 14s - loss: 0.5030 - accuracy: 0.757 - ETA: 14s - loss: 0.5008 - accuracy: 0.759 - ETA: 14s - loss: 0.5021 - accuracy: 0.757 - ETA: 14s - loss: 0.5021 - accuracy: 0.759 - ETA: 14s - loss: 0.5004 - accuracy: 0.761 - ETA: 14s - loss: 0.4995 - accuracy: 0.761 - ETA: 14s - loss: 0.4973 - accuracy: 0.762 - ETA: 14s - loss: 0.4936 - accuracy: 0.764 - ETA: 14s - loss: 0.4899 - accuracy: 0.765 - ETA: 13s - loss: 0.4905 - accuracy: 0.765 - ETA: 13s - loss: 0.4981 - accuracy: 0.763 - ETA: 13s - loss: 0.4993 - accuracy: 0.763 - ETA: 13s - loss: 0.4977 - accuracy: 0.763 - ETA: 13s - loss: 0.4943 - accuracy: 0.764 - ETA: 13s - loss: 0.4952 - accuracy: 0.761 - ETA: 13s - loss: 0.4975 - accuracy: 0.759 - ETA: 13s - loss: 0.5044 - accuracy: 0.756 - ETA: 13s - loss: 0.5040 - accuracy: 0.759 - ETA: 13s - loss: 0.5031 - accuracy: 0.760 - ETA: 12s - loss: 0.5058 - accuracy: 0.759 - ETA: 12s - loss: 0.5048 - accuracy: 0.760 - ETA: 12s - loss: 0.5013 - accuracy: 0.761 - ETA: 12s - loss: 0.5003 - accuracy: 0.763 - ETA: 12s - loss: 0.5010 - accuracy: 0.763 - ETA: 12s - loss: 0.5054 - accuracy: 0.761 - ETA: 12s - loss: 0.5032 - accuracy: 0.764 - ETA: 12s - loss: 0.5010 - accuracy: 0.765 - ETA: 12s - loss: 0.5008 - accuracy: 0.765 - ETA: 12s - loss: 0.4993 - accuracy: 0.765 - ETA: 11s - loss: 0.5020 - accuracy: 0.762 - ETA: 11s - loss: 0.5003 - accuracy: 0.763 - ETA: 11s - loss: 0.5004 - accuracy: 0.762 - ETA: 11s - loss: 0.4994 - accuracy: 0.760 - ETA: 11s - loss: 0.4987 - accuracy: 0.761 - ETA: 11s - loss: 0.4987 - accuracy: 0.760 - ETA: 11s - loss: 0.5010 - accuracy: 0.756 - ETA: 11s - loss: 0.5025 - accuracy: 0.755 - ETA: 11s - loss: 0.5033 - accuracy: 0.752 - ETA: 10s - loss: 0.5039 - accuracy: 0.752 - ETA: 10s - loss: 0.5038 - accuracy: 0.750 - ETA: 10s - loss: 0.5018 - accuracy: 0.752 - ETA: 10s - loss: 0.5008 - accuracy: 0.753 - ETA: 10s - loss: 0.5000 - accuracy: 0.754 - ETA: 10s - loss: 0.4989 - accuracy: 0.754 - ETA: 10s - loss: 0.4959 - accuracy: 0.755 - ETA: 10s - loss: 0.4941 - accuracy: 0.758 - ETA: 10s - loss: 0.4950 - accuracy: 0.758 - ETA: 10s - loss: 0.4911 - accuracy: 0.760 - ETA: 9s - loss: 0.4951 - accuracy: 0.757 - ETA: 9s - loss: 0.4972 - accuracy: 0.75 - ETA: 9s - loss: 0.5020 - accuracy: 0.75 - ETA: 9s - loss: 0.5007 - accuracy: 0.75 - ETA: 9s - loss: 0.5003 - accuracy: 0.75 - ETA: 9s - loss: 0.5007 - accuracy: 0.75 - ETA: 9s - loss: 0.4991 - accuracy: 0.75 - ETA: 9s - loss: 0.4981 - accuracy: 0.75 - ETA: 9s - loss: 0.4988 - accuracy: 0.75 - ETA: 9s - loss: 0.4988 - accuracy: 0.76 - ETA: 8s - loss: 0.4972 - accuracy: 0.76 - ETA: 8s - loss: 0.4995 - accuracy: 0.76 - ETA: 8s - loss: 0.4987 - accuracy: 0.76 - ETA: 8s - loss: 0.4973 - accuracy: 0.76 - ETA: 8s - loss: 0.4972 - accuracy: 0.76 - ETA: 8s - loss: 0.4967 - accuracy: 0.76 - ETA: 8s - loss: 0.4975 - accuracy: 0.76 - ETA: 8s - loss: 0.4998 - accuracy: 0.75 - ETA: 8s - loss: 0.4977 - accuracy: 0.76 - ETA: 7s - loss: 0.4978 - accuracy: 0.76 - ETA: 7s - loss: 0.4978 - accuracy: 0.75 - ETA: 7s - loss: 0.4978 - accuracy: 0.75 - ETA: 7s - loss: 0.4978 - accuracy: 0.75 - ETA: 7s - loss: 0.4969 - accuracy: 0.76 - ETA: 7s - loss: 0.4960 - accuracy: 0.76 - ETA: 7s - loss: 0.4964 - accuracy: 0.76 - ETA: 7s - loss: 0.4948 - accuracy: 0.76 - ETA: 7s - loss: 0.4942 - accuracy: 0.76 - ETA: 7s - loss: 0.4937 - accuracy: 0.76 - ETA: 6s - loss: 0.4925 - accuracy: 0.76 - ETA: 6s - loss: 0.4942 - accuracy: 0.76 - ETA: 6s - loss: 0.4940 - accuracy: 0.76 - ETA: 6s - loss: 0.4916 - accuracy: 0.76 - ETA: 6s - loss: 0.4936 - accuracy: 0.76 - ETA: 6s - loss: 0.4933 - accuracy: 0.76 - ETA: 6s - loss: 0.4930 - accuracy: 0.76 - ETA: 6s - loss: 0.4926 - accuracy: 0.76 - ETA: 6s - loss: 0.4910 - accuracy: 0.76 - ETA: 5s - loss: 0.4919 - accuracy: 0.76 - ETA: 5s - loss: 0.4918 - accuracy: 0.76 - ETA: 5s - loss: 0.4912 - accuracy: 0.76 - ETA: 5s - loss: 0.4915 - accuracy: 0.76 - ETA: 5s - loss: 0.4909 - accuracy: 0.76 - ETA: 5s - loss: 0.4913 - accuracy: 0.76 - ETA: 5s - loss: 0.4891 - accuracy: 0.76 - ETA: 5s - loss: 0.4877 - accuracy: 0.76 - ETA: 5s - loss: 0.4869 - accuracy: 0.76 - ETA: 5s - loss: 0.4852 - accuracy: 0.76 - ETA: 4s - loss: 0.4834 - accuracy: 0.77 - ETA: 4s - loss: 0.4817 - accuracy: 0.77 - ETA: 4s - loss: 0.4820 - accuracy: 0.77 - ETA: 4s - loss: 0.4809 - accuracy: 0.77 - ETA: 4s - loss: 0.4810 - accuracy: 0.77 - ETA: 4s - loss: 0.4813 - accuracy: 0.77 - ETA: 4s - loss: 0.4799 - accuracy: 0.77 - ETA: 4s - loss: 0.4779 - accuracy: 0.77 - ETA: 4s - loss: 0.4768 - accuracy: 0.77 - ETA: 3s - loss: 0.4774 - accuracy: 0.77 - ETA: 3s - loss: 0.4774 - accuracy: 0.77 - ETA: 3s - loss: 0.4784 - accuracy: 0.77 - ETA: 3s - loss: 0.4777 - accuracy: 0.77 - ETA: 3s - loss: 0.4754 - accuracy: 0.77 - ETA: 3s - loss: 0.4735 - accuracy: 0.77 - ETA: 3s - loss: 0.4727 - accuracy: 0.77 - ETA: 3s - loss: 0.4721 - accuracy: 0.77 - ETA: 3s - loss: 0.4701 - accuracy: 0.77 - ETA: 3s - loss: 0.4696 - accuracy: 0.77 - ETA: 2s - loss: 0.4708 - accuracy: 0.77 - ETA: 2s - loss: 0.4716 - accuracy: 0.77 - ETA: 2s - loss: 0.4719 - accuracy: 0.77 - ETA: 2s - loss: 0.4712 - accuracy: 0.77 - ETA: 2s - loss: 0.4701 - accuracy: 0.77 - ETA: 2s - loss: 0.4695 - accuracy: 0.78 - ETA: 2s - loss: 0.4696 - accuracy: 0.77 - ETA: 2s - loss: 0.4697 - accuracy: 0.77 - ETA: 2s - loss: 0.4692 - accuracy: 0.78 - ETA: 1s - loss: 0.4688 - accuracy: 0.78 - ETA: 1s - loss: 0.4679 - accuracy: 0.78 - ETA: 1s - loss: 0.4687 - accuracy: 0.78171646/1646 [==============================] - ETA: 1s - loss: 0.4681 - accuracy: 0.78 - ETA: 1s - loss: 0.4674 - accuracy: 0.78 - ETA: 1s - loss: 0.4664 - accuracy: 0.78 - ETA: 1s - loss: 0.4662 - accuracy: 0.78 - ETA: 1s - loss: 0.4660 - accuracy: 0.78 - ETA: 1s - loss: 0.4649 - accuracy: 0.78 - ETA: 1s - loss: 0.4640 - accuracy: 0.78 - ETA: 0s - loss: 0.4624 - accuracy: 0.78 - ETA: 0s - loss: 0.4642 - accuracy: 0.78 - ETA: 0s - loss: 0.4620 - accuracy: 0.78 - ETA: 0s - loss: 0.4637 - accuracy: 0.78 - ETA: 0s - loss: 0.4641 - accuracy: 0.78 - ETA: 0s - loss: 0.4669 - accuracy: 0.78 - ETA: 0s - loss: 0.4676 - accuracy: 0.78 - ETA: 0s - loss: 0.4666 - accuracy: 0.78 - ETA: 0s - loss: 0.4662 - accuracy: 0.78 - 22s 13ms/sample - loss: 0.4655 - accuracy: 0.7849\n",
      "Epoch 5/10\n",
      "1512/1646 [==========================>...] - ETA: 18s - loss: 0.5357 - accuracy: 0.625 - ETA: 21s - loss: 0.5382 - accuracy: 0.687 - ETA: 20s - loss: 0.5022 - accuracy: 0.750 - ETA: 21s - loss: 0.4516 - accuracy: 0.781 - ETA: 20s - loss: 0.4945 - accuracy: 0.775 - ETA: 20s - loss: 0.4697 - accuracy: 0.812 - ETA: 20s - loss: 0.4552 - accuracy: 0.821 - ETA: 20s - loss: 0.4238 - accuracy: 0.843 - ETA: 20s - loss: 0.4158 - accuracy: 0.847 - ETA: 20s - loss: 0.3839 - accuracy: 0.862 - ETA: 20s - loss: 0.3753 - accuracy: 0.875 - ETA: 20s - loss: 0.3553 - accuracy: 0.885 - ETA: 20s - loss: 0.3526 - accuracy: 0.884 - ETA: 20s - loss: 0.3482 - accuracy: 0.883 - ETA: 20s - loss: 0.3395 - accuracy: 0.883 - ETA: 20s - loss: 0.3244 - accuracy: 0.890 - ETA: 19s - loss: 0.3158 - accuracy: 0.889 - ETA: 19s - loss: 0.3074 - accuracy: 0.888 - ETA: 19s - loss: 0.3208 - accuracy: 0.881 - ETA: 19s - loss: 0.3655 - accuracy: 0.868 - ETA: 19s - loss: 0.3742 - accuracy: 0.863 - ETA: 19s - loss: 0.3622 - accuracy: 0.869 - ETA: 19s - loss: 0.3791 - accuracy: 0.869 - ETA: 19s - loss: 0.3714 - accuracy: 0.869 - ETA: 19s - loss: 0.3812 - accuracy: 0.865 - ETA: 19s - loss: 0.3747 - accuracy: 0.865 - ETA: 18s - loss: 0.3754 - accuracy: 0.865 - ETA: 18s - loss: 0.3811 - accuracy: 0.861 - ETA: 18s - loss: 0.3760 - accuracy: 0.866 - ETA: 18s - loss: 0.3760 - accuracy: 0.862 - ETA: 18s - loss: 0.3762 - accuracy: 0.858 - ETA: 18s - loss: 0.3734 - accuracy: 0.863 - ETA: 18s - loss: 0.3725 - accuracy: 0.863 - ETA: 18s - loss: 0.3726 - accuracy: 0.864 - ETA: 18s - loss: 0.3690 - accuracy: 0.867 - ETA: 18s - loss: 0.3605 - accuracy: 0.871 - ETA: 17s - loss: 0.3586 - accuracy: 0.871 - ETA: 17s - loss: 0.3549 - accuracy: 0.871 - ETA: 17s - loss: 0.3551 - accuracy: 0.871 - ETA: 17s - loss: 0.3535 - accuracy: 0.868 - ETA: 17s - loss: 0.3459 - accuracy: 0.872 - ETA: 17s - loss: 0.3484 - accuracy: 0.872 - ETA: 17s - loss: 0.3525 - accuracy: 0.869 - ETA: 17s - loss: 0.3550 - accuracy: 0.866 - ETA: 17s - loss: 0.3490 - accuracy: 0.869 - ETA: 16s - loss: 0.3508 - accuracy: 0.869 - ETA: 16s - loss: 0.3575 - accuracy: 0.869 - ETA: 16s - loss: 0.3675 - accuracy: 0.862 - ETA: 16s - loss: 0.3722 - accuracy: 0.857 - ETA: 16s - loss: 0.3683 - accuracy: 0.860 - ETA: 16s - loss: 0.3635 - accuracy: 0.862 - ETA: 16s - loss: 0.3732 - accuracy: 0.853 - ETA: 16s - loss: 0.3712 - accuracy: 0.856 - ETA: 16s - loss: 0.3705 - accuracy: 0.854 - ETA: 15s - loss: 0.3712 - accuracy: 0.854 - ETA: 15s - loss: 0.3707 - accuracy: 0.857 - ETA: 15s - loss: 0.3715 - accuracy: 0.857 - ETA: 15s - loss: 0.3744 - accuracy: 0.853 - ETA: 15s - loss: 0.3747 - accuracy: 0.853 - ETA: 15s - loss: 0.3755 - accuracy: 0.852 - ETA: 15s - loss: 0.3741 - accuracy: 0.852 - ETA: 15s - loss: 0.3745 - accuracy: 0.850 - ETA: 15s - loss: 0.3763 - accuracy: 0.847 - ETA: 15s - loss: 0.3728 - accuracy: 0.849 - ETA: 14s - loss: 0.3690 - accuracy: 0.851 - ETA: 14s - loss: 0.3724 - accuracy: 0.850 - ETA: 14s - loss: 0.3720 - accuracy: 0.850 - ETA: 14s - loss: 0.3764 - accuracy: 0.847 - ETA: 14s - loss: 0.3751 - accuracy: 0.847 - ETA: 14s - loss: 0.3746 - accuracy: 0.848 - ETA: 14s - loss: 0.3721 - accuracy: 0.850 - ETA: 14s - loss: 0.3737 - accuracy: 0.849 - ETA: 14s - loss: 0.3808 - accuracy: 0.845 - ETA: 13s - loss: 0.3833 - accuracy: 0.844 - ETA: 13s - loss: 0.3833 - accuracy: 0.843 - ETA: 13s - loss: 0.3794 - accuracy: 0.845 - ETA: 13s - loss: 0.3818 - accuracy: 0.842 - ETA: 13s - loss: 0.3803 - accuracy: 0.842 - ETA: 13s - loss: 0.3806 - accuracy: 0.843 - ETA: 13s - loss: 0.3785 - accuracy: 0.845 - ETA: 13s - loss: 0.3774 - accuracy: 0.844 - ETA: 13s - loss: 0.3791 - accuracy: 0.843 - ETA: 13s - loss: 0.3780 - accuracy: 0.843 - ETA: 12s - loss: 0.3817 - accuracy: 0.839 - ETA: 12s - loss: 0.3799 - accuracy: 0.839 - ETA: 12s - loss: 0.3789 - accuracy: 0.838 - ETA: 12s - loss: 0.3784 - accuracy: 0.839 - ETA: 12s - loss: 0.3787 - accuracy: 0.838 - ETA: 12s - loss: 0.3790 - accuracy: 0.837 - ETA: 12s - loss: 0.3766 - accuracy: 0.838 - ETA: 12s - loss: 0.3747 - accuracy: 0.839 - ETA: 12s - loss: 0.3717 - accuracy: 0.841 - ETA: 11s - loss: 0.3721 - accuracy: 0.841 - ETA: 11s - loss: 0.3725 - accuracy: 0.840 - ETA: 11s - loss: 0.3791 - accuracy: 0.838 - ETA: 11s - loss: 0.3776 - accuracy: 0.838 - ETA: 11s - loss: 0.3793 - accuracy: 0.837 - ETA: 11s - loss: 0.3778 - accuracy: 0.838 - ETA: 11s - loss: 0.3770 - accuracy: 0.838 - ETA: 11s - loss: 0.3769 - accuracy: 0.837 - ETA: 11s - loss: 0.3786 - accuracy: 0.835 - ETA: 11s - loss: 0.3758 - accuracy: 0.837 - ETA: 10s - loss: 0.3759 - accuracy: 0.836 - ETA: 10s - loss: 0.3786 - accuracy: 0.834 - ETA: 10s - loss: 0.3770 - accuracy: 0.835 - ETA: 10s - loss: 0.3777 - accuracy: 0.833 - ETA: 10s - loss: 0.3812 - accuracy: 0.830 - ETA: 10s - loss: 0.3793 - accuracy: 0.832 - ETA: 10s - loss: 0.3804 - accuracy: 0.831 - ETA: 10s - loss: 0.3796 - accuracy: 0.830 - ETA: 10s - loss: 0.3790 - accuracy: 0.831 - ETA: 9s - loss: 0.3783 - accuracy: 0.831 - ETA: 9s - loss: 0.3790 - accuracy: 0.83 - ETA: 9s - loss: 0.3792 - accuracy: 0.83 - ETA: 9s - loss: 0.3807 - accuracy: 0.83 - ETA: 9s - loss: 0.3819 - accuracy: 0.82 - ETA: 9s - loss: 0.3815 - accuracy: 0.83 - ETA: 9s - loss: 0.3800 - accuracy: 0.83 - ETA: 9s - loss: 0.3790 - accuracy: 0.83 - ETA: 9s - loss: 0.3795 - accuracy: 0.83 - ETA: 9s - loss: 0.3775 - accuracy: 0.83 - ETA: 8s - loss: 0.3783 - accuracy: 0.83 - ETA: 8s - loss: 0.3767 - accuracy: 0.83 - ETA: 8s - loss: 0.3769 - accuracy: 0.83 - ETA: 8s - loss: 0.3792 - accuracy: 0.83 - ETA: 8s - loss: 0.3792 - accuracy: 0.82 - ETA: 8s - loss: 0.3785 - accuracy: 0.83 - ETA: 8s - loss: 0.3802 - accuracy: 0.82 - ETA: 8s - loss: 0.3778 - accuracy: 0.83 - ETA: 8s - loss: 0.3762 - accuracy: 0.83 - ETA: 7s - loss: 0.3755 - accuracy: 0.83 - ETA: 7s - loss: 0.3775 - accuracy: 0.83 - ETA: 7s - loss: 0.3779 - accuracy: 0.82 - ETA: 7s - loss: 0.3784 - accuracy: 0.82 - ETA: 7s - loss: 0.3781 - accuracy: 0.82 - ETA: 7s - loss: 0.3767 - accuracy: 0.83 - ETA: 7s - loss: 0.3753 - accuracy: 0.83 - ETA: 7s - loss: 0.3831 - accuracy: 0.82 - ETA: 7s - loss: 0.3821 - accuracy: 0.82 - ETA: 6s - loss: 0.3812 - accuracy: 0.82 - ETA: 6s - loss: 0.3803 - accuracy: 0.82 - ETA: 6s - loss: 0.3794 - accuracy: 0.83 - ETA: 6s - loss: 0.3797 - accuracy: 0.83 - ETA: 6s - loss: 0.3794 - accuracy: 0.83 - ETA: 6s - loss: 0.3801 - accuracy: 0.83 - ETA: 6s - loss: 0.3799 - accuracy: 0.83 - ETA: 6s - loss: 0.3788 - accuracy: 0.83 - ETA: 6s - loss: 0.3793 - accuracy: 0.83 - ETA: 6s - loss: 0.3788 - accuracy: 0.83 - ETA: 5s - loss: 0.3790 - accuracy: 0.83 - ETA: 5s - loss: 0.3819 - accuracy: 0.83 - ETA: 5s - loss: 0.3830 - accuracy: 0.83 - ETA: 5s - loss: 0.3851 - accuracy: 0.83 - ETA: 5s - loss: 0.3847 - accuracy: 0.83 - ETA: 5s - loss: 0.3831 - accuracy: 0.83 - ETA: 5s - loss: 0.3824 - accuracy: 0.83 - ETA: 5s - loss: 0.3819 - accuracy: 0.83 - ETA: 5s - loss: 0.3817 - accuracy: 0.83 - ETA: 4s - loss: 0.3812 - accuracy: 0.83 - ETA: 4s - loss: 0.3809 - accuracy: 0.83 - ETA: 4s - loss: 0.3814 - accuracy: 0.83 - ETA: 4s - loss: 0.3837 - accuracy: 0.83 - ETA: 4s - loss: 0.3839 - accuracy: 0.83 - ETA: 4s - loss: 0.3827 - accuracy: 0.83 - ETA: 4s - loss: 0.3844 - accuracy: 0.83 - ETA: 4s - loss: 0.3842 - accuracy: 0.83 - ETA: 4s - loss: 0.3839 - accuracy: 0.83 - ETA: 4s - loss: 0.3840 - accuracy: 0.83 - ETA: 3s - loss: 0.3828 - accuracy: 0.83 - ETA: 3s - loss: 0.3839 - accuracy: 0.83 - ETA: 3s - loss: 0.3846 - accuracy: 0.83 - ETA: 3s - loss: 0.3845 - accuracy: 0.82 - ETA: 3s - loss: 0.3840 - accuracy: 0.83 - ETA: 3s - loss: 0.3831 - accuracy: 0.83 - ETA: 3s - loss: 0.3843 - accuracy: 0.82 - ETA: 3s - loss: 0.3842 - accuracy: 0.82 - ETA: 3s - loss: 0.3833 - accuracy: 0.82 - ETA: 2s - loss: 0.3830 - accuracy: 0.82 - ETA: 2s - loss: 0.3838 - accuracy: 0.82 - ETA: 2s - loss: 0.3844 - accuracy: 0.82 - ETA: 2s - loss: 0.3835 - accuracy: 0.82 - ETA: 2s - loss: 0.3827 - accuracy: 0.82 - ETA: 2s - loss: 0.3831 - accuracy: 0.82 - ETA: 2s - loss: 0.3818 - accuracy: 0.83 - ETA: 2s - loss: 0.3841 - accuracy: 0.82 - ETA: 2s - loss: 0.3848 - accuracy: 0.82 - ETA: 1s - loss: 0.3850 - accuracy: 0.82 - ETA: 1s - loss: 0.3861 - accuracy: 0.82 - ETA: 1s - loss: 0.3876 - accuracy: 0.82611646/1646 [==============================] - ETA: 1s - loss: 0.3887 - accuracy: 0.82 - ETA: 1s - loss: 0.3892 - accuracy: 0.82 - ETA: 1s - loss: 0.3901 - accuracy: 0.82 - ETA: 1s - loss: 0.3906 - accuracy: 0.82 - ETA: 1s - loss: 0.3909 - accuracy: 0.82 - ETA: 1s - loss: 0.3906 - accuracy: 0.82 - ETA: 1s - loss: 0.3899 - accuracy: 0.82 - ETA: 0s - loss: 0.3905 - accuracy: 0.82 - ETA: 0s - loss: 0.3891 - accuracy: 0.82 - ETA: 0s - loss: 0.3895 - accuracy: 0.82 - ETA: 0s - loss: 0.3900 - accuracy: 0.82 - ETA: 0s - loss: 0.3890 - accuracy: 0.82 - ETA: 0s - loss: 0.3884 - accuracy: 0.82 - ETA: 0s - loss: 0.3903 - accuracy: 0.82 - ETA: 0s - loss: 0.3907 - accuracy: 0.82 - ETA: 0s - loss: 0.3908 - accuracy: 0.82 - 22s 14ms/sample - loss: 0.3908 - accuracy: 0.8220\n",
      "Epoch 6/10\n",
      "1512/1646 [==========================>...] - ETA: 18s - loss: 0.2471 - accuracy: 1.000 - ETA: 21s - loss: 0.3032 - accuracy: 0.937 - ETA: 21s - loss: 0.2745 - accuracy: 0.958 - ETA: 21s - loss: 0.3135 - accuracy: 0.937 - ETA: 21s - loss: 0.3237 - accuracy: 0.925 - ETA: 20s - loss: 0.3003 - accuracy: 0.937 - ETA: 21s - loss: 0.3182 - accuracy: 0.928 - ETA: 20s - loss: 0.3431 - accuracy: 0.921 - ETA: 20s - loss: 0.3524 - accuracy: 0.902 - ETA: 20s - loss: 0.3370 - accuracy: 0.912 - ETA: 20s - loss: 0.3431 - accuracy: 0.897 - ETA: 20s - loss: 0.3426 - accuracy: 0.895 - ETA: 20s - loss: 0.3602 - accuracy: 0.884 - ETA: 20s - loss: 0.3609 - accuracy: 0.883 - ETA: 20s - loss: 0.3467 - accuracy: 0.883 - ETA: 20s - loss: 0.3371 - accuracy: 0.882 - ETA: 20s - loss: 0.3283 - accuracy: 0.882 - ETA: 19s - loss: 0.3346 - accuracy: 0.881 - ETA: 19s - loss: 0.3488 - accuracy: 0.868 - ETA: 19s - loss: 0.3473 - accuracy: 0.862 - ETA: 19s - loss: 0.3461 - accuracy: 0.863 - ETA: 19s - loss: 0.3441 - accuracy: 0.863 - ETA: 19s - loss: 0.3408 - accuracy: 0.869 - ETA: 19s - loss: 0.3355 - accuracy: 0.869 - ETA: 19s - loss: 0.3412 - accuracy: 0.870 - ETA: 19s - loss: 0.3399 - accuracy: 0.870 - ETA: 19s - loss: 0.3367 - accuracy: 0.870 - ETA: 18s - loss: 0.3304 - accuracy: 0.875 - ETA: 18s - loss: 0.3272 - accuracy: 0.875 - ETA: 18s - loss: 0.3271 - accuracy: 0.875 - ETA: 18s - loss: 0.3266 - accuracy: 0.875 - ETA: 18s - loss: 0.3286 - accuracy: 0.871 - ETA: 18s - loss: 0.3291 - accuracy: 0.867 - ETA: 18s - loss: 0.3296 - accuracy: 0.864 - ETA: 18s - loss: 0.3295 - accuracy: 0.860 - ETA: 18s - loss: 0.3245 - accuracy: 0.864 - ETA: 17s - loss: 0.3167 - accuracy: 0.868 - ETA: 17s - loss: 0.3234 - accuracy: 0.861 - ETA: 17s - loss: 0.3301 - accuracy: 0.862 - ETA: 17s - loss: 0.3275 - accuracy: 0.862 - ETA: 17s - loss: 0.3268 - accuracy: 0.862 - ETA: 17s - loss: 0.3251 - accuracy: 0.863 - ETA: 17s - loss: 0.3306 - accuracy: 0.860 - ETA: 17s - loss: 0.3273 - accuracy: 0.860 - ETA: 17s - loss: 0.3260 - accuracy: 0.858 - ETA: 17s - loss: 0.3297 - accuracy: 0.856 - ETA: 16s - loss: 0.3274 - accuracy: 0.856 - ETA: 16s - loss: 0.3300 - accuracy: 0.856 - ETA: 16s - loss: 0.3289 - accuracy: 0.857 - ETA: 16s - loss: 0.3265 - accuracy: 0.860 - ETA: 16s - loss: 0.3226 - accuracy: 0.862 - ETA: 16s - loss: 0.3182 - accuracy: 0.865 - ETA: 16s - loss: 0.3193 - accuracy: 0.863 - ETA: 16s - loss: 0.3154 - accuracy: 0.865 - ETA: 16s - loss: 0.3124 - accuracy: 0.868 - ETA: 15s - loss: 0.3179 - accuracy: 0.866 - ETA: 15s - loss: 0.3154 - accuracy: 0.866 - ETA: 15s - loss: 0.3180 - accuracy: 0.866 - ETA: 15s - loss: 0.3147 - accuracy: 0.868 - ETA: 15s - loss: 0.3164 - accuracy: 0.868 - ETA: 15s - loss: 0.3172 - accuracy: 0.866 - ETA: 15s - loss: 0.3172 - accuracy: 0.864 - ETA: 15s - loss: 0.3211 - accuracy: 0.863 - ETA: 15s - loss: 0.3226 - accuracy: 0.863 - ETA: 14s - loss: 0.3274 - accuracy: 0.861 - ETA: 14s - loss: 0.3272 - accuracy: 0.861 - ETA: 14s - loss: 0.3333 - accuracy: 0.861 - ETA: 14s - loss: 0.3359 - accuracy: 0.860 - ETA: 14s - loss: 0.3352 - accuracy: 0.862 - ETA: 14s - loss: 0.3326 - accuracy: 0.864 - ETA: 14s - loss: 0.3294 - accuracy: 0.866 - ETA: 14s - loss: 0.3358 - accuracy: 0.862 - ETA: 14s - loss: 0.3351 - accuracy: 0.863 - ETA: 14s - loss: 0.3398 - accuracy: 0.861 - ETA: 13s - loss: 0.3408 - accuracy: 0.860 - ETA: 13s - loss: 0.3470 - accuracy: 0.856 - ETA: 13s - loss: 0.3481 - accuracy: 0.857 - ETA: 13s - loss: 0.3483 - accuracy: 0.857 - ETA: 13s - loss: 0.3512 - accuracy: 0.854 - ETA: 13s - loss: 0.3508 - accuracy: 0.854 - ETA: 13s - loss: 0.3504 - accuracy: 0.856 - ETA: 13s - loss: 0.3508 - accuracy: 0.856 - ETA: 13s - loss: 0.3500 - accuracy: 0.855 - ETA: 12s - loss: 0.3506 - accuracy: 0.855 - ETA: 12s - loss: 0.3498 - accuracy: 0.855 - ETA: 12s - loss: 0.3498 - accuracy: 0.854 - ETA: 12s - loss: 0.3514 - accuracy: 0.854 - ETA: 12s - loss: 0.3497 - accuracy: 0.855 - ETA: 12s - loss: 0.3475 - accuracy: 0.856 - ETA: 12s - loss: 0.3453 - accuracy: 0.856 - ETA: 12s - loss: 0.3433 - accuracy: 0.857 - ETA: 12s - loss: 0.3435 - accuracy: 0.857 - ETA: 12s - loss: 0.3480 - accuracy: 0.854 - ETA: 11s - loss: 0.3502 - accuracy: 0.853 - ETA: 11s - loss: 0.3570 - accuracy: 0.850 - ETA: 11s - loss: 0.3576 - accuracy: 0.847 - ETA: 11s - loss: 0.3574 - accuracy: 0.847 - ETA: 11s - loss: 0.3588 - accuracy: 0.845 - ETA: 11s - loss: 0.3596 - accuracy: 0.846 - ETA: 11s - loss: 0.3594 - accuracy: 0.846 - ETA: 11s - loss: 0.3575 - accuracy: 0.847 - ETA: 11s - loss: 0.3592 - accuracy: 0.845 - ETA: 10s - loss: 0.3580 - accuracy: 0.847 - ETA: 10s - loss: 0.3594 - accuracy: 0.845 - ETA: 10s - loss: 0.3592 - accuracy: 0.845 - ETA: 10s - loss: 0.3584 - accuracy: 0.845 - ETA: 10s - loss: 0.3581 - accuracy: 0.845 - ETA: 10s - loss: 0.3563 - accuracy: 0.847 - ETA: 10s - loss: 0.3543 - accuracy: 0.848 - ETA: 10s - loss: 0.3546 - accuracy: 0.847 - ETA: 10s - loss: 0.3535 - accuracy: 0.848 - ETA: 9s - loss: 0.3577 - accuracy: 0.847 - ETA: 9s - loss: 0.3606 - accuracy: 0.84 - ETA: 9s - loss: 0.3593 - accuracy: 0.84 - ETA: 9s - loss: 0.3600 - accuracy: 0.84 - ETA: 9s - loss: 0.3606 - accuracy: 0.84 - ETA: 9s - loss: 0.3603 - accuracy: 0.84 - ETA: 9s - loss: 0.3641 - accuracy: 0.84 - ETA: 9s - loss: 0.3625 - accuracy: 0.84 - ETA: 9s - loss: 0.3645 - accuracy: 0.83 - ETA: 9s - loss: 0.3650 - accuracy: 0.83 - ETA: 8s - loss: 0.3634 - accuracy: 0.84 - ETA: 8s - loss: 0.3622 - accuracy: 0.84 - ETA: 8s - loss: 0.3614 - accuracy: 0.84 - ETA: 8s - loss: 0.3616 - accuracy: 0.84 - ETA: 8s - loss: 0.3630 - accuracy: 0.84 - ETA: 8s - loss: 0.3619 - accuracy: 0.84 - ETA: 8s - loss: 0.3650 - accuracy: 0.83 - ETA: 8s - loss: 0.3641 - accuracy: 0.84 - ETA: 8s - loss: 0.3637 - accuracy: 0.84 - ETA: 7s - loss: 0.3618 - accuracy: 0.84 - ETA: 7s - loss: 0.3608 - accuracy: 0.84 - ETA: 7s - loss: 0.3592 - accuracy: 0.84 - ETA: 7s - loss: 0.3577 - accuracy: 0.84 - ETA: 7s - loss: 0.3561 - accuracy: 0.84 - ETA: 7s - loss: 0.3575 - accuracy: 0.84 - ETA: 7s - loss: 0.3589 - accuracy: 0.84 - ETA: 7s - loss: 0.3619 - accuracy: 0.84 - ETA: 7s - loss: 0.3635 - accuracy: 0.84 - ETA: 7s - loss: 0.3623 - accuracy: 0.84 - ETA: 6s - loss: 0.3648 - accuracy: 0.84 - ETA: 6s - loss: 0.3638 - accuracy: 0.84 - ETA: 6s - loss: 0.3637 - accuracy: 0.84 - ETA: 6s - loss: 0.3654 - accuracy: 0.84 - ETA: 6s - loss: 0.3637 - accuracy: 0.84 - ETA: 6s - loss: 0.3648 - accuracy: 0.84 - ETA: 6s - loss: 0.3641 - accuracy: 0.84 - ETA: 6s - loss: 0.3634 - accuracy: 0.84 - ETA: 6s - loss: 0.3641 - accuracy: 0.84 - ETA: 5s - loss: 0.3676 - accuracy: 0.84 - ETA: 5s - loss: 0.3668 - accuracy: 0.84 - ETA: 5s - loss: 0.3680 - accuracy: 0.83 - ETA: 5s - loss: 0.3697 - accuracy: 0.83 - ETA: 5s - loss: 0.3680 - accuracy: 0.83 - ETA: 5s - loss: 0.3669 - accuracy: 0.83 - ETA: 5s - loss: 0.3668 - accuracy: 0.83 - ETA: 5s - loss: 0.3666 - accuracy: 0.84 - ETA: 5s - loss: 0.3665 - accuracy: 0.83 - ETA: 4s - loss: 0.3652 - accuracy: 0.84 - ETA: 4s - loss: 0.3657 - accuracy: 0.83 - ETA: 4s - loss: 0.3670 - accuracy: 0.83 - ETA: 4s - loss: 0.3658 - accuracy: 0.84 - ETA: 4s - loss: 0.3650 - accuracy: 0.84 - ETA: 4s - loss: 0.3653 - accuracy: 0.83 - ETA: 4s - loss: 0.3636 - accuracy: 0.84 - ETA: 4s - loss: 0.3630 - accuracy: 0.84 - ETA: 4s - loss: 0.3619 - accuracy: 0.84 - ETA: 4s - loss: 0.3615 - accuracy: 0.84 - ETA: 3s - loss: 0.3629 - accuracy: 0.84 - ETA: 3s - loss: 0.3629 - accuracy: 0.84 - ETA: 3s - loss: 0.3614 - accuracy: 0.84 - ETA: 3s - loss: 0.3605 - accuracy: 0.84 - ETA: 3s - loss: 0.3590 - accuracy: 0.84 - ETA: 3s - loss: 0.3576 - accuracy: 0.84 - ETA: 3s - loss: 0.3564 - accuracy: 0.84 - ETA: 3s - loss: 0.3562 - accuracy: 0.84 - ETA: 3s - loss: 0.3558 - accuracy: 0.84 - ETA: 2s - loss: 0.3590 - accuracy: 0.84 - ETA: 2s - loss: 0.3602 - accuracy: 0.84 - ETA: 2s - loss: 0.3592 - accuracy: 0.84 - ETA: 2s - loss: 0.3584 - accuracy: 0.84 - ETA: 2s - loss: 0.3574 - accuracy: 0.84 - ETA: 2s - loss: 0.3559 - accuracy: 0.84 - ETA: 2s - loss: 0.3553 - accuracy: 0.84 - ETA: 2s - loss: 0.3543 - accuracy: 0.84 - ETA: 2s - loss: 0.3536 - accuracy: 0.84 - ETA: 1s - loss: 0.3520 - accuracy: 0.84 - ETA: 1s - loss: 0.3510 - accuracy: 0.84 - ETA: 1s - loss: 0.3504 - accuracy: 0.84791646/1646 [==============================] - ETA: 1s - loss: 0.3502 - accuracy: 0.84 - ETA: 1s - loss: 0.3490 - accuracy: 0.84 - ETA: 1s - loss: 0.3491 - accuracy: 0.84 - ETA: 1s - loss: 0.3486 - accuracy: 0.84 - ETA: 1s - loss: 0.3487 - accuracy: 0.84 - ETA: 1s - loss: 0.3473 - accuracy: 0.84 - ETA: 1s - loss: 0.3495 - accuracy: 0.84 - ETA: 0s - loss: 0.3482 - accuracy: 0.84 - ETA: 0s - loss: 0.3488 - accuracy: 0.84 - ETA: 0s - loss: 0.3483 - accuracy: 0.84 - ETA: 0s - loss: 0.3492 - accuracy: 0.84 - ETA: 0s - loss: 0.3536 - accuracy: 0.84 - ETA: 0s - loss: 0.3526 - accuracy: 0.84 - ETA: 0s - loss: 0.3523 - accuracy: 0.84 - ETA: 0s - loss: 0.3518 - accuracy: 0.84 - ETA: 0s - loss: 0.3515 - accuracy: 0.84 - 22s 14ms/sample - loss: 0.3510 - accuracy: 0.8475\n",
      "Epoch 7/10\n",
      "1512/1646 [==========================>...] - ETA: 20s - loss: 0.3858 - accuracy: 0.625 - ETA: 20s - loss: 0.3860 - accuracy: 0.687 - ETA: 20s - loss: 0.3742 - accuracy: 0.708 - ETA: 21s - loss: 0.3548 - accuracy: 0.718 - ETA: 20s - loss: 0.4125 - accuracy: 0.725 - ETA: 20s - loss: 0.3587 - accuracy: 0.770 - ETA: 20s - loss: 0.3436 - accuracy: 0.785 - ETA: 20s - loss: 0.3538 - accuracy: 0.781 - ETA: 20s - loss: 0.3565 - accuracy: 0.777 - ETA: 20s - loss: 0.3319 - accuracy: 0.800 - ETA: 20s - loss: 0.3273 - accuracy: 0.806 - ETA: 20s - loss: 0.3232 - accuracy: 0.812 - ETA: 20s - loss: 0.3432 - accuracy: 0.788 - ETA: 20s - loss: 0.3487 - accuracy: 0.794 - ETA: 20s - loss: 0.3331 - accuracy: 0.808 - ETA: 20s - loss: 0.3304 - accuracy: 0.804 - ETA: 20s - loss: 0.3221 - accuracy: 0.816 - ETA: 19s - loss: 0.3340 - accuracy: 0.805 - ETA: 19s - loss: 0.3278 - accuracy: 0.815 - ETA: 19s - loss: 0.3422 - accuracy: 0.806 - ETA: 19s - loss: 0.3377 - accuracy: 0.809 - ETA: 19s - loss: 0.3231 - accuracy: 0.818 - ETA: 19s - loss: 0.3156 - accuracy: 0.820 - ETA: 19s - loss: 0.3034 - accuracy: 0.828 - ETA: 19s - loss: 0.3096 - accuracy: 0.820 - ETA: 19s - loss: 0.3026 - accuracy: 0.822 - ETA: 18s - loss: 0.2922 - accuracy: 0.828 - ETA: 18s - loss: 0.3122 - accuracy: 0.830 - ETA: 18s - loss: 0.3047 - accuracy: 0.836 - ETA: 18s - loss: 0.3002 - accuracy: 0.841 - ETA: 18s - loss: 0.3080 - accuracy: 0.842 - ETA: 18s - loss: 0.3045 - accuracy: 0.843 - ETA: 18s - loss: 0.3075 - accuracy: 0.840 - ETA: 18s - loss: 0.3093 - accuracy: 0.841 - ETA: 18s - loss: 0.3142 - accuracy: 0.839 - ETA: 18s - loss: 0.3111 - accuracy: 0.843 - ETA: 17s - loss: 0.3207 - accuracy: 0.834 - ETA: 17s - loss: 0.3179 - accuracy: 0.835 - ETA: 17s - loss: 0.3141 - accuracy: 0.839 - ETA: 17s - loss: 0.3118 - accuracy: 0.843 - ETA: 17s - loss: 0.3069 - accuracy: 0.847 - ETA: 17s - loss: 0.3024 - accuracy: 0.851 - ETA: 17s - loss: 0.3011 - accuracy: 0.851 - ETA: 17s - loss: 0.3025 - accuracy: 0.849 - ETA: 17s - loss: 0.2973 - accuracy: 0.852 - ETA: 16s - loss: 0.2924 - accuracy: 0.856 - ETA: 16s - loss: 0.2892 - accuracy: 0.859 - ETA: 16s - loss: 0.3021 - accuracy: 0.854 - ETA: 16s - loss: 0.3027 - accuracy: 0.854 - ETA: 16s - loss: 0.3079 - accuracy: 0.852 - ETA: 16s - loss: 0.3059 - accuracy: 0.852 - ETA: 16s - loss: 0.3018 - accuracy: 0.855 - ETA: 16s - loss: 0.3178 - accuracy: 0.856 - ETA: 16s - loss: 0.3173 - accuracy: 0.854 - ETA: 16s - loss: 0.3197 - accuracy: 0.850 - ETA: 15s - loss: 0.3190 - accuracy: 0.850 - ETA: 15s - loss: 0.3156 - accuracy: 0.853 - ETA: 15s - loss: 0.3154 - accuracy: 0.855 - ETA: 15s - loss: 0.3176 - accuracy: 0.853 - ETA: 15s - loss: 0.3149 - accuracy: 0.856 - ETA: 15s - loss: 0.3119 - accuracy: 0.858 - ETA: 15s - loss: 0.3125 - accuracy: 0.858 - ETA: 15s - loss: 0.3171 - accuracy: 0.859 - ETA: 15s - loss: 0.3135 - accuracy: 0.861 - ETA: 14s - loss: 0.3122 - accuracy: 0.861 - ETA: 14s - loss: 0.3098 - accuracy: 0.863 - ETA: 14s - loss: 0.3058 - accuracy: 0.865 - ETA: 14s - loss: 0.3079 - accuracy: 0.865 - ETA: 14s - loss: 0.3075 - accuracy: 0.865 - ETA: 14s - loss: 0.3089 - accuracy: 0.864 - ETA: 14s - loss: 0.3132 - accuracy: 0.862 - ETA: 14s - loss: 0.3104 - accuracy: 0.864 - ETA: 14s - loss: 0.3100 - accuracy: 0.864 - ETA: 14s - loss: 0.3093 - accuracy: 0.864 - ETA: 13s - loss: 0.3067 - accuracy: 0.866 - ETA: 13s - loss: 0.3030 - accuracy: 0.868 - ETA: 13s - loss: 0.3195 - accuracy: 0.865 - ETA: 13s - loss: 0.3190 - accuracy: 0.865 - ETA: 13s - loss: 0.3166 - accuracy: 0.867 - ETA: 13s - loss: 0.3160 - accuracy: 0.868 - ETA: 13s - loss: 0.3163 - accuracy: 0.867 - ETA: 13s - loss: 0.3154 - accuracy: 0.868 - ETA: 13s - loss: 0.3162 - accuracy: 0.869 - ETA: 12s - loss: 0.3155 - accuracy: 0.869 - ETA: 12s - loss: 0.3209 - accuracy: 0.867 - ETA: 12s - loss: 0.3276 - accuracy: 0.864 - ETA: 12s - loss: 0.3279 - accuracy: 0.864 - ETA: 12s - loss: 0.3280 - accuracy: 0.863 - ETA: 12s - loss: 0.3305 - accuracy: 0.862 - ETA: 12s - loss: 0.3317 - accuracy: 0.862 - ETA: 12s - loss: 0.3314 - accuracy: 0.862 - ETA: 12s - loss: 0.3312 - accuracy: 0.864 - ETA: 12s - loss: 0.3320 - accuracy: 0.862 - ETA: 11s - loss: 0.3328 - accuracy: 0.861 - ETA: 11s - loss: 0.3337 - accuracy: 0.861 - ETA: 11s - loss: 0.3330 - accuracy: 0.860 - ETA: 11s - loss: 0.3304 - accuracy: 0.862 - ETA: 11s - loss: 0.3306 - accuracy: 0.861 - ETA: 11s - loss: 0.3302 - accuracy: 0.861 - ETA: 11s - loss: 0.3324 - accuracy: 0.860 - ETA: 11s - loss: 0.3322 - accuracy: 0.860 - ETA: 11s - loss: 0.3295 - accuracy: 0.861 - ETA: 10s - loss: 0.3279 - accuracy: 0.862 - ETA: 10s - loss: 0.3258 - accuracy: 0.864 - ETA: 10s - loss: 0.3283 - accuracy: 0.864 - ETA: 10s - loss: 0.3306 - accuracy: 0.863 - ETA: 10s - loss: 0.3285 - accuracy: 0.864 - ETA: 10s - loss: 0.3276 - accuracy: 0.864 - ETA: 10s - loss: 0.3277 - accuracy: 0.863 - ETA: 10s - loss: 0.3251 - accuracy: 0.864 - ETA: 10s - loss: 0.3238 - accuracy: 0.864 - ETA: 9s - loss: 0.3261 - accuracy: 0.863 - ETA: 9s - loss: 0.3261 - accuracy: 0.86 - ETA: 9s - loss: 0.3252 - accuracy: 0.86 - ETA: 9s - loss: 0.3236 - accuracy: 0.86 - ETA: 9s - loss: 0.3216 - accuracy: 0.86 - ETA: 9s - loss: 0.3209 - accuracy: 0.86 - ETA: 9s - loss: 0.3189 - accuracy: 0.86 - ETA: 9s - loss: 0.3200 - accuracy: 0.86 - ETA: 9s - loss: 0.3186 - accuracy: 0.86 - ETA: 9s - loss: 0.3169 - accuracy: 0.86 - ETA: 8s - loss: 0.3171 - accuracy: 0.86 - ETA: 8s - loss: 0.3158 - accuracy: 0.86 - ETA: 8s - loss: 0.3147 - accuracy: 0.86 - ETA: 8s - loss: 0.3128 - accuracy: 0.86 - ETA: 8s - loss: 0.3128 - accuracy: 0.86 - ETA: 8s - loss: 0.3111 - accuracy: 0.87 - ETA: 8s - loss: 0.3135 - accuracy: 0.87 - ETA: 8s - loss: 0.3124 - accuracy: 0.87 - ETA: 8s - loss: 0.3137 - accuracy: 0.87 - ETA: 7s - loss: 0.3156 - accuracy: 0.86 - ETA: 7s - loss: 0.3149 - accuracy: 0.86 - ETA: 7s - loss: 0.3155 - accuracy: 0.86 - ETA: 7s - loss: 0.3169 - accuracy: 0.86 - ETA: 7s - loss: 0.3160 - accuracy: 0.86 - ETA: 7s - loss: 0.3172 - accuracy: 0.86 - ETA: 7s - loss: 0.3171 - accuracy: 0.86 - ETA: 7s - loss: 0.3174 - accuracy: 0.86 - ETA: 7s - loss: 0.3166 - accuracy: 0.86 - ETA: 7s - loss: 0.3160 - accuracy: 0.86 - ETA: 6s - loss: 0.3160 - accuracy: 0.86 - ETA: 6s - loss: 0.3142 - accuracy: 0.86 - ETA: 6s - loss: 0.3132 - accuracy: 0.86 - ETA: 6s - loss: 0.3118 - accuracy: 0.86 - ETA: 6s - loss: 0.3111 - accuracy: 0.86 - ETA: 6s - loss: 0.3120 - accuracy: 0.86 - ETA: 6s - loss: 0.3105 - accuracy: 0.86 - ETA: 6s - loss: 0.3100 - accuracy: 0.86 - ETA: 6s - loss: 0.3114 - accuracy: 0.87 - ETA: 5s - loss: 0.3096 - accuracy: 0.87 - ETA: 5s - loss: 0.3119 - accuracy: 0.87 - ETA: 5s - loss: 0.3104 - accuracy: 0.87 - ETA: 5s - loss: 0.3102 - accuracy: 0.87 - ETA: 5s - loss: 0.3097 - accuracy: 0.87 - ETA: 5s - loss: 0.3119 - accuracy: 0.86 - ETA: 5s - loss: 0.3112 - accuracy: 0.86 - ETA: 5s - loss: 0.3100 - accuracy: 0.87 - ETA: 5s - loss: 0.3105 - accuracy: 0.87 - ETA: 4s - loss: 0.3097 - accuracy: 0.87 - ETA: 4s - loss: 0.3083 - accuracy: 0.87 - ETA: 4s - loss: 0.3091 - accuracy: 0.87 - ETA: 4s - loss: 0.3113 - accuracy: 0.87 - ETA: 4s - loss: 0.3114 - accuracy: 0.87 - ETA: 4s - loss: 0.3116 - accuracy: 0.87 - ETA: 4s - loss: 0.3110 - accuracy: 0.87 - ETA: 4s - loss: 0.3122 - accuracy: 0.86 - ETA: 4s - loss: 0.3119 - accuracy: 0.86 - ETA: 4s - loss: 0.3118 - accuracy: 0.86 - ETA: 3s - loss: 0.3108 - accuracy: 0.87 - ETA: 3s - loss: 0.3111 - accuracy: 0.87 - ETA: 3s - loss: 0.3099 - accuracy: 0.87 - ETA: 3s - loss: 0.3099 - accuracy: 0.87 - ETA: 3s - loss: 0.3090 - accuracy: 0.87 - ETA: 3s - loss: 0.3089 - accuracy: 0.87 - ETA: 3s - loss: 0.3089 - accuracy: 0.87 - ETA: 3s - loss: 0.3100 - accuracy: 0.87 - ETA: 3s - loss: 0.3114 - accuracy: 0.87 - ETA: 2s - loss: 0.3115 - accuracy: 0.87 - ETA: 2s - loss: 0.3131 - accuracy: 0.87 - ETA: 2s - loss: 0.3119 - accuracy: 0.87 - ETA: 2s - loss: 0.3158 - accuracy: 0.86 - ETA: 2s - loss: 0.3151 - accuracy: 0.86 - ETA: 2s - loss: 0.3138 - accuracy: 0.86 - ETA: 2s - loss: 0.3143 - accuracy: 0.86 - ETA: 2s - loss: 0.3142 - accuracy: 0.86 - ETA: 2s - loss: 0.3139 - accuracy: 0.86 - ETA: 1s - loss: 0.3128 - accuracy: 0.87 - ETA: 1s - loss: 0.3130 - accuracy: 0.87 - ETA: 1s - loss: 0.3132 - accuracy: 0.87041646/1646 [==============================] - ETA: 1s - loss: 0.3119 - accuracy: 0.87 - ETA: 1s - loss: 0.3117 - accuracy: 0.87 - ETA: 1s - loss: 0.3112 - accuracy: 0.87 - ETA: 1s - loss: 0.3108 - accuracy: 0.87 - ETA: 1s - loss: 0.3104 - accuracy: 0.87 - ETA: 1s - loss: 0.3095 - accuracy: 0.87 - ETA: 1s - loss: 0.3086 - accuracy: 0.87 - ETA: 0s - loss: 0.3082 - accuracy: 0.87 - ETA: 0s - loss: 0.3074 - accuracy: 0.87 - ETA: 0s - loss: 0.3078 - accuracy: 0.87 - ETA: 0s - loss: 0.3074 - accuracy: 0.87 - ETA: 0s - loss: 0.3080 - accuracy: 0.87 - ETA: 0s - loss: 0.3080 - accuracy: 0.87 - ETA: 0s - loss: 0.3085 - accuracy: 0.87 - ETA: 0s - loss: 0.3078 - accuracy: 0.87 - ETA: 0s - loss: 0.3064 - accuracy: 0.87 - 22s 14ms/sample - loss: 0.3085 - accuracy: 0.8712\n",
      "Epoch 8/10\n",
      "1512/1646 [==========================>...] - ETA: 18s - loss: 0.0877 - accuracy: 1.000 - ETA: 21s - loss: 0.3777 - accuracy: 0.875 - ETA: 21s - loss: 0.3059 - accuracy: 0.875 - ETA: 20s - loss: 0.2551 - accuracy: 0.906 - ETA: 21s - loss: 0.2553 - accuracy: 0.900 - ETA: 21s - loss: 0.2287 - accuracy: 0.916 - ETA: 21s - loss: 0.2067 - accuracy: 0.928 - ETA: 20s - loss: 0.1867 - accuracy: 0.937 - ETA: 20s - loss: 0.2204 - accuracy: 0.930 - ETA: 20s - loss: 0.2162 - accuracy: 0.925 - ETA: 20s - loss: 0.2121 - accuracy: 0.931 - ETA: 20s - loss: 0.2104 - accuracy: 0.927 - ETA: 20s - loss: 0.2138 - accuracy: 0.923 - ETA: 20s - loss: 0.2204 - accuracy: 0.910 - ETA: 20s - loss: 0.2193 - accuracy: 0.908 - ETA: 20s - loss: 0.2215 - accuracy: 0.906 - ETA: 19s - loss: 0.2145 - accuracy: 0.911 - ETA: 19s - loss: 0.2164 - accuracy: 0.909 - ETA: 19s - loss: 0.2196 - accuracy: 0.907 - ETA: 19s - loss: 0.2109 - accuracy: 0.912 - ETA: 19s - loss: 0.2171 - accuracy: 0.904 - ETA: 19s - loss: 0.2085 - accuracy: 0.909 - ETA: 19s - loss: 0.2096 - accuracy: 0.907 - ETA: 19s - loss: 0.2107 - accuracy: 0.906 - ETA: 19s - loss: 0.2040 - accuracy: 0.910 - ETA: 19s - loss: 0.2017 - accuracy: 0.908 - ETA: 18s - loss: 0.2004 - accuracy: 0.907 - ETA: 18s - loss: 0.2021 - accuracy: 0.906 - ETA: 18s - loss: 0.1978 - accuracy: 0.909 - ETA: 18s - loss: 0.1935 - accuracy: 0.912 - ETA: 18s - loss: 0.1899 - accuracy: 0.915 - ETA: 18s - loss: 0.1874 - accuracy: 0.914 - ETA: 18s - loss: 0.1836 - accuracy: 0.916 - ETA: 18s - loss: 0.1870 - accuracy: 0.915 - ETA: 18s - loss: 0.1833 - accuracy: 0.917 - ETA: 18s - loss: 0.1808 - accuracy: 0.920 - ETA: 17s - loss: 0.1784 - accuracy: 0.922 - ETA: 17s - loss: 0.1837 - accuracy: 0.917 - ETA: 17s - loss: 0.1897 - accuracy: 0.916 - ETA: 17s - loss: 0.1931 - accuracy: 0.912 - ETA: 17s - loss: 0.1911 - accuracy: 0.911 - ETA: 17s - loss: 0.1883 - accuracy: 0.913 - ETA: 17s - loss: 0.2012 - accuracy: 0.907 - ETA: 17s - loss: 0.2010 - accuracy: 0.906 - ETA: 17s - loss: 0.2063 - accuracy: 0.905 - ETA: 16s - loss: 0.2094 - accuracy: 0.902 - ETA: 16s - loss: 0.2236 - accuracy: 0.896 - ETA: 16s - loss: 0.2237 - accuracy: 0.895 - ETA: 16s - loss: 0.2316 - accuracy: 0.890 - ETA: 16s - loss: 0.2300 - accuracy: 0.892 - ETA: 16s - loss: 0.2290 - accuracy: 0.894 - ETA: 16s - loss: 0.2272 - accuracy: 0.896 - ETA: 16s - loss: 0.2339 - accuracy: 0.893 - ETA: 16s - loss: 0.2311 - accuracy: 0.895 - ETA: 16s - loss: 0.2310 - accuracy: 0.895 - ETA: 15s - loss: 0.2288 - accuracy: 0.897 - ETA: 15s - loss: 0.2299 - accuracy: 0.894 - ETA: 15s - loss: 0.2330 - accuracy: 0.892 - ETA: 15s - loss: 0.2317 - accuracy: 0.894 - ETA: 15s - loss: 0.2317 - accuracy: 0.893 - ETA: 15s - loss: 0.2314 - accuracy: 0.893 - ETA: 15s - loss: 0.2293 - accuracy: 0.895 - ETA: 15s - loss: 0.2291 - accuracy: 0.896 - ETA: 15s - loss: 0.2321 - accuracy: 0.894 - ETA: 14s - loss: 0.2311 - accuracy: 0.894 - ETA: 14s - loss: 0.2339 - accuracy: 0.892 - ETA: 14s - loss: 0.2325 - accuracy: 0.891 - ETA: 14s - loss: 0.2324 - accuracy: 0.889 - ETA: 14s - loss: 0.2341 - accuracy: 0.887 - ETA: 14s - loss: 0.2348 - accuracy: 0.887 - ETA: 14s - loss: 0.2384 - accuracy: 0.885 - ETA: 14s - loss: 0.2386 - accuracy: 0.885 - ETA: 14s - loss: 0.2360 - accuracy: 0.887 - ETA: 13s - loss: 0.2331 - accuracy: 0.888 - ETA: 13s - loss: 0.2345 - accuracy: 0.886 - ETA: 13s - loss: 0.2362 - accuracy: 0.886 - ETA: 13s - loss: 0.2386 - accuracy: 0.884 - ETA: 13s - loss: 0.2378 - accuracy: 0.884 - ETA: 13s - loss: 0.2363 - accuracy: 0.886 - ETA: 13s - loss: 0.2427 - accuracy: 0.881 - ETA: 13s - loss: 0.2407 - accuracy: 0.882 - ETA: 13s - loss: 0.2380 - accuracy: 0.884 - ETA: 13s - loss: 0.2387 - accuracy: 0.884 - ETA: 12s - loss: 0.2433 - accuracy: 0.883 - ETA: 12s - loss: 0.2418 - accuracy: 0.885 - ETA: 12s - loss: 0.2414 - accuracy: 0.885 - ETA: 12s - loss: 0.2406 - accuracy: 0.885 - ETA: 12s - loss: 0.2398 - accuracy: 0.884 - ETA: 12s - loss: 0.2392 - accuracy: 0.884 - ETA: 12s - loss: 0.2389 - accuracy: 0.884 - ETA: 12s - loss: 0.2371 - accuracy: 0.886 - ETA: 12s - loss: 0.2369 - accuracy: 0.885 - ETA: 11s - loss: 0.2384 - accuracy: 0.884 - ETA: 11s - loss: 0.2377 - accuracy: 0.884 - ETA: 11s - loss: 0.2367 - accuracy: 0.884 - ETA: 11s - loss: 0.2379 - accuracy: 0.882 - ETA: 11s - loss: 0.2366 - accuracy: 0.884 - ETA: 11s - loss: 0.2350 - accuracy: 0.885 - ETA: 11s - loss: 0.2343 - accuracy: 0.885 - ETA: 11s - loss: 0.2336 - accuracy: 0.885 - ETA: 11s - loss: 0.2346 - accuracy: 0.883 - ETA: 11s - loss: 0.2339 - accuracy: 0.884 - ETA: 10s - loss: 0.2327 - accuracy: 0.885 - ETA: 10s - loss: 0.2317 - accuracy: 0.887 - ETA: 10s - loss: 0.2400 - accuracy: 0.885 - ETA: 10s - loss: 0.2424 - accuracy: 0.885 - ETA: 10s - loss: 0.2420 - accuracy: 0.885 - ETA: 10s - loss: 0.2505 - accuracy: 0.883 - ETA: 10s - loss: 0.2519 - accuracy: 0.883 - ETA: 10s - loss: 0.2521 - accuracy: 0.883 - ETA: 10s - loss: 0.2524 - accuracy: 0.882 - ETA: 9s - loss: 0.2530 - accuracy: 0.882 - ETA: 9s - loss: 0.2541 - accuracy: 0.88 - ETA: 9s - loss: 0.2526 - accuracy: 0.88 - ETA: 9s - loss: 0.2571 - accuracy: 0.88 - ETA: 9s - loss: 0.2557 - accuracy: 0.88 - ETA: 9s - loss: 0.2539 - accuracy: 0.88 - ETA: 9s - loss: 0.2528 - accuracy: 0.88 - ETA: 9s - loss: 0.2525 - accuracy: 0.88 - ETA: 9s - loss: 0.2539 - accuracy: 0.88 - ETA: 9s - loss: 0.2539 - accuracy: 0.88 - ETA: 8s - loss: 0.2573 - accuracy: 0.87 - ETA: 8s - loss: 0.2584 - accuracy: 0.87 - ETA: 8s - loss: 0.2583 - accuracy: 0.87 - ETA: 8s - loss: 0.2579 - accuracy: 0.88 - ETA: 8s - loss: 0.2601 - accuracy: 0.87 - ETA: 8s - loss: 0.2596 - accuracy: 0.87 - ETA: 8s - loss: 0.2589 - accuracy: 0.88 - ETA: 8s - loss: 0.2587 - accuracy: 0.88 - ETA: 8s - loss: 0.2594 - accuracy: 0.88 - ETA: 7s - loss: 0.2591 - accuracy: 0.88 - ETA: 7s - loss: 0.2583 - accuracy: 0.88 - ETA: 7s - loss: 0.2609 - accuracy: 0.88 - ETA: 7s - loss: 0.2620 - accuracy: 0.87 - ETA: 7s - loss: 0.2621 - accuracy: 0.87 - ETA: 7s - loss: 0.2624 - accuracy: 0.87 - ETA: 7s - loss: 0.2617 - accuracy: 0.88 - ETA: 7s - loss: 0.2619 - accuracy: 0.88 - ETA: 7s - loss: 0.2615 - accuracy: 0.88 - ETA: 6s - loss: 0.2611 - accuracy: 0.88 - ETA: 6s - loss: 0.2609 - accuracy: 0.88 - ETA: 6s - loss: 0.2599 - accuracy: 0.88 - ETA: 6s - loss: 0.2590 - accuracy: 0.88 - ETA: 6s - loss: 0.2583 - accuracy: 0.88 - ETA: 6s - loss: 0.2586 - accuracy: 0.88 - ETA: 6s - loss: 0.2595 - accuracy: 0.88 - ETA: 6s - loss: 0.2618 - accuracy: 0.88 - ETA: 6s - loss: 0.2614 - accuracy: 0.88 - ETA: 6s - loss: 0.2621 - accuracy: 0.88 - ETA: 5s - loss: 0.2610 - accuracy: 0.88 - ETA: 5s - loss: 0.2598 - accuracy: 0.88 - ETA: 5s - loss: 0.2588 - accuracy: 0.88 - ETA: 5s - loss: 0.2580 - accuracy: 0.88 - ETA: 5s - loss: 0.2578 - accuracy: 0.88 - ETA: 5s - loss: 0.2572 - accuracy: 0.88 - ETA: 5s - loss: 0.2558 - accuracy: 0.88 - ETA: 5s - loss: 0.2553 - accuracy: 0.88 - ETA: 5s - loss: 0.2556 - accuracy: 0.88 - ETA: 4s - loss: 0.2556 - accuracy: 0.88 - ETA: 4s - loss: 0.2570 - accuracy: 0.88 - ETA: 4s - loss: 0.2569 - accuracy: 0.88 - ETA: 4s - loss: 0.2560 - accuracy: 0.88 - ETA: 4s - loss: 0.2575 - accuracy: 0.88 - ETA: 4s - loss: 0.2566 - accuracy: 0.88 - ETA: 4s - loss: 0.2565 - accuracy: 0.88 - ETA: 4s - loss: 0.2551 - accuracy: 0.88 - ETA: 4s - loss: 0.2554 - accuracy: 0.88 - ETA: 4s - loss: 0.2557 - accuracy: 0.88 - ETA: 3s - loss: 0.2578 - accuracy: 0.88 - ETA: 3s - loss: 0.2591 - accuracy: 0.88 - ETA: 3s - loss: 0.2627 - accuracy: 0.88 - ETA: 3s - loss: 0.2616 - accuracy: 0.88 - ETA: 3s - loss: 0.2604 - accuracy: 0.88 - ETA: 3s - loss: 0.2598 - accuracy: 0.88 - ETA: 3s - loss: 0.2594 - accuracy: 0.88 - ETA: 3s - loss: 0.2597 - accuracy: 0.88 - ETA: 3s - loss: 0.2611 - accuracy: 0.88 - ETA: 2s - loss: 0.2605 - accuracy: 0.88 - ETA: 2s - loss: 0.2611 - accuracy: 0.88 - ETA: 2s - loss: 0.2625 - accuracy: 0.88 - ETA: 2s - loss: 0.2626 - accuracy: 0.88 - ETA: 2s - loss: 0.2617 - accuracy: 0.88 - ETA: 2s - loss: 0.2651 - accuracy: 0.88 - ETA: 2s - loss: 0.2649 - accuracy: 0.88 - ETA: 2s - loss: 0.2638 - accuracy: 0.88 - ETA: 2s - loss: 0.2651 - accuracy: 0.88 - ETA: 1s - loss: 0.2656 - accuracy: 0.88 - ETA: 1s - loss: 0.2648 - accuracy: 0.88 - ETA: 1s - loss: 0.2636 - accuracy: 0.88361646/1646 [==============================] - ETA: 1s - loss: 0.2626 - accuracy: 0.88 - ETA: 1s - loss: 0.2622 - accuracy: 0.88 - ETA: 1s - loss: 0.2610 - accuracy: 0.88 - ETA: 1s - loss: 0.2603 - accuracy: 0.88 - ETA: 1s - loss: 0.2598 - accuracy: 0.88 - ETA: 1s - loss: 0.2596 - accuracy: 0.88 - ETA: 1s - loss: 0.2594 - accuracy: 0.88 - ETA: 0s - loss: 0.2606 - accuracy: 0.88 - ETA: 0s - loss: 0.2600 - accuracy: 0.88 - ETA: 0s - loss: 0.2617 - accuracy: 0.88 - ETA: 0s - loss: 0.2609 - accuracy: 0.88 - ETA: 0s - loss: 0.2606 - accuracy: 0.88 - ETA: 0s - loss: 0.2595 - accuracy: 0.88 - ETA: 0s - loss: 0.2591 - accuracy: 0.88 - ETA: 0s - loss: 0.2587 - accuracy: 0.88 - ETA: 0s - loss: 0.2590 - accuracy: 0.88 - 22s 14ms/sample - loss: 0.2581 - accuracy: 0.8864\n",
      "Epoch 9/10\n",
      "1512/1646 [==========================>...] - ETA: 21s - loss: 0.1238 - accuracy: 1.000 - ETA: 20s - loss: 0.1799 - accuracy: 0.937 - ETA: 20s - loss: 0.1765 - accuracy: 0.958 - ETA: 20s - loss: 0.1497 - accuracy: 0.968 - ETA: 21s - loss: 0.1334 - accuracy: 0.975 - ETA: 20s - loss: 0.1502 - accuracy: 0.958 - ETA: 21s - loss: 0.1797 - accuracy: 0.928 - ETA: 20s - loss: 0.1882 - accuracy: 0.921 - ETA: 20s - loss: 0.2424 - accuracy: 0.916 - ETA: 20s - loss: 0.2218 - accuracy: 0.925 - ETA: 20s - loss: 0.2285 - accuracy: 0.920 - ETA: 20s - loss: 0.2205 - accuracy: 0.916 - ETA: 20s - loss: 0.2347 - accuracy: 0.913 - ETA: 20s - loss: 0.2391 - accuracy: 0.910 - ETA: 20s - loss: 0.2279 - accuracy: 0.916 - ETA: 20s - loss: 0.2285 - accuracy: 0.906 - ETA: 20s - loss: 0.2252 - accuracy: 0.904 - ETA: 19s - loss: 0.2237 - accuracy: 0.902 - ETA: 19s - loss: 0.2194 - accuracy: 0.907 - ETA: 19s - loss: 0.2144 - accuracy: 0.912 - ETA: 19s - loss: 0.2125 - accuracy: 0.916 - ETA: 19s - loss: 0.2045 - accuracy: 0.920 - ETA: 19s - loss: 0.2047 - accuracy: 0.918 - ETA: 19s - loss: 0.2017 - accuracy: 0.916 - ETA: 19s - loss: 0.1949 - accuracy: 0.920 - ETA: 19s - loss: 0.2510 - accuracy: 0.908 - ETA: 18s - loss: 0.2431 - accuracy: 0.912 - ETA: 18s - loss: 0.2395 - accuracy: 0.915 - ETA: 18s - loss: 0.2354 - accuracy: 0.918 - ETA: 18s - loss: 0.2376 - accuracy: 0.912 - ETA: 18s - loss: 0.2383 - accuracy: 0.911 - ETA: 18s - loss: 0.2358 - accuracy: 0.910 - ETA: 18s - loss: 0.2314 - accuracy: 0.912 - ETA: 18s - loss: 0.2266 - accuracy: 0.915 - ETA: 18s - loss: 0.2212 - accuracy: 0.917 - ETA: 18s - loss: 0.2175 - accuracy: 0.920 - ETA: 17s - loss: 0.2292 - accuracy: 0.918 - ETA: 17s - loss: 0.2328 - accuracy: 0.917 - ETA: 17s - loss: 0.2283 - accuracy: 0.919 - ETA: 17s - loss: 0.2246 - accuracy: 0.921 - ETA: 17s - loss: 0.2202 - accuracy: 0.923 - ETA: 17s - loss: 0.2164 - accuracy: 0.925 - ETA: 17s - loss: 0.2191 - accuracy: 0.924 - ETA: 17s - loss: 0.2207 - accuracy: 0.920 - ETA: 17s - loss: 0.2194 - accuracy: 0.919 - ETA: 16s - loss: 0.2263 - accuracy: 0.915 - ETA: 16s - loss: 0.2247 - accuracy: 0.917 - ETA: 16s - loss: 0.2309 - accuracy: 0.916 - ETA: 16s - loss: 0.2318 - accuracy: 0.915 - ETA: 16s - loss: 0.2294 - accuracy: 0.917 - ETA: 16s - loss: 0.2284 - accuracy: 0.919 - ETA: 16s - loss: 0.2292 - accuracy: 0.918 - ETA: 16s - loss: 0.2286 - accuracy: 0.917 - ETA: 16s - loss: 0.2274 - accuracy: 0.919 - ETA: 16s - loss: 0.2248 - accuracy: 0.920 - ETA: 15s - loss: 0.2229 - accuracy: 0.921 - ETA: 15s - loss: 0.2207 - accuracy: 0.923 - ETA: 15s - loss: 0.2199 - accuracy: 0.924 - ETA: 15s - loss: 0.2173 - accuracy: 0.925 - ETA: 15s - loss: 0.2146 - accuracy: 0.927 - ETA: 15s - loss: 0.2147 - accuracy: 0.926 - ETA: 15s - loss: 0.2135 - accuracy: 0.925 - ETA: 15s - loss: 0.2110 - accuracy: 0.926 - ETA: 15s - loss: 0.2082 - accuracy: 0.927 - ETA: 15s - loss: 0.2152 - accuracy: 0.926 - ETA: 14s - loss: 0.2241 - accuracy: 0.924 - ETA: 14s - loss: 0.2268 - accuracy: 0.923 - ETA: 14s - loss: 0.2238 - accuracy: 0.924 - ETA: 14s - loss: 0.2210 - accuracy: 0.925 - ETA: 14s - loss: 0.2187 - accuracy: 0.926 - ETA: 14s - loss: 0.2195 - accuracy: 0.926 - ETA: 14s - loss: 0.2194 - accuracy: 0.925 - ETA: 14s - loss: 0.2257 - accuracy: 0.922 - ETA: 14s - loss: 0.2245 - accuracy: 0.924 - ETA: 13s - loss: 0.2237 - accuracy: 0.923 - ETA: 13s - loss: 0.2318 - accuracy: 0.917 - ETA: 13s - loss: 0.2303 - accuracy: 0.918 - ETA: 13s - loss: 0.2283 - accuracy: 0.919 - ETA: 13s - loss: 0.2270 - accuracy: 0.920 - ETA: 13s - loss: 0.2272 - accuracy: 0.920 - ETA: 13s - loss: 0.2264 - accuracy: 0.921 - ETA: 13s - loss: 0.2257 - accuracy: 0.922 - ETA: 13s - loss: 0.2258 - accuracy: 0.921 - ETA: 13s - loss: 0.2271 - accuracy: 0.921 - ETA: 12s - loss: 0.2259 - accuracy: 0.922 - ETA: 12s - loss: 0.2259 - accuracy: 0.921 - ETA: 12s - loss: 0.2243 - accuracy: 0.922 - ETA: 12s - loss: 0.2229 - accuracy: 0.921 - ETA: 12s - loss: 0.2243 - accuracy: 0.921 - ETA: 12s - loss: 0.2235 - accuracy: 0.920 - ETA: 12s - loss: 0.2299 - accuracy: 0.919 - ETA: 12s - loss: 0.2276 - accuracy: 0.919 - ETA: 12s - loss: 0.2276 - accuracy: 0.919 - ETA: 11s - loss: 0.2255 - accuracy: 0.920 - ETA: 11s - loss: 0.2263 - accuracy: 0.919 - ETA: 11s - loss: 0.2262 - accuracy: 0.919 - ETA: 11s - loss: 0.2242 - accuracy: 0.920 - ETA: 11s - loss: 0.2231 - accuracy: 0.920 - ETA: 11s - loss: 0.2235 - accuracy: 0.920 - ETA: 11s - loss: 0.2230 - accuracy: 0.920 - ETA: 11s - loss: 0.2210 - accuracy: 0.920 - ETA: 11s - loss: 0.2205 - accuracy: 0.921 - ETA: 10s - loss: 0.2211 - accuracy: 0.921 - ETA: 10s - loss: 0.2191 - accuracy: 0.921 - ETA: 10s - loss: 0.2205 - accuracy: 0.921 - ETA: 10s - loss: 0.2203 - accuracy: 0.919 - ETA: 10s - loss: 0.2232 - accuracy: 0.919 - ETA: 10s - loss: 0.2224 - accuracy: 0.919 - ETA: 10s - loss: 0.2230 - accuracy: 0.917 - ETA: 10s - loss: 0.2220 - accuracy: 0.918 - ETA: 10s - loss: 0.2222 - accuracy: 0.918 - ETA: 10s - loss: 0.2216 - accuracy: 0.919 - ETA: 9s - loss: 0.2246 - accuracy: 0.918 - ETA: 9s - loss: 0.2260 - accuracy: 0.91 - ETA: 9s - loss: 0.2254 - accuracy: 0.91 - ETA: 9s - loss: 0.2237 - accuracy: 0.91 - ETA: 9s - loss: 0.2230 - accuracy: 0.91 - ETA: 9s - loss: 0.2217 - accuracy: 0.91 - ETA: 9s - loss: 0.2210 - accuracy: 0.91 - ETA: 9s - loss: 0.2199 - accuracy: 0.91 - ETA: 9s - loss: 0.2193 - accuracy: 0.91 - ETA: 8s - loss: 0.2233 - accuracy: 0.91 - ETA: 8s - loss: 0.2225 - accuracy: 0.91 - ETA: 8s - loss: 0.2215 - accuracy: 0.91 - ETA: 8s - loss: 0.2212 - accuracy: 0.91 - ETA: 8s - loss: 0.2206 - accuracy: 0.91 - ETA: 8s - loss: 0.2200 - accuracy: 0.91 - ETA: 8s - loss: 0.2183 - accuracy: 0.91 - ETA: 8s - loss: 0.2177 - accuracy: 0.91 - ETA: 8s - loss: 0.2173 - accuracy: 0.91 - ETA: 7s - loss: 0.2186 - accuracy: 0.91 - ETA: 7s - loss: 0.2172 - accuracy: 0.91 - ETA: 7s - loss: 0.2160 - accuracy: 0.91 - ETA: 7s - loss: 0.2154 - accuracy: 0.91 - ETA: 7s - loss: 0.2143 - accuracy: 0.91 - ETA: 7s - loss: 0.2133 - accuracy: 0.91 - ETA: 7s - loss: 0.2144 - accuracy: 0.91 - ETA: 7s - loss: 0.2172 - accuracy: 0.91 - ETA: 7s - loss: 0.2192 - accuracy: 0.91 - ETA: 7s - loss: 0.2186 - accuracy: 0.91 - ETA: 6s - loss: 0.2172 - accuracy: 0.91 - ETA: 6s - loss: 0.2193 - accuracy: 0.91 - ETA: 6s - loss: 0.2183 - accuracy: 0.91 - ETA: 6s - loss: 0.2174 - accuracy: 0.91 - ETA: 6s - loss: 0.2182 - accuracy: 0.91 - ETA: 6s - loss: 0.2206 - accuracy: 0.91 - ETA: 6s - loss: 0.2206 - accuracy: 0.91 - ETA: 6s - loss: 0.2201 - accuracy: 0.91 - ETA: 6s - loss: 0.2204 - accuracy: 0.91 - ETA: 5s - loss: 0.2209 - accuracy: 0.91 - ETA: 5s - loss: 0.2221 - accuracy: 0.91 - ETA: 5s - loss: 0.2232 - accuracy: 0.91 - ETA: 5s - loss: 0.2232 - accuracy: 0.91 - ETA: 5s - loss: 0.2221 - accuracy: 0.91 - ETA: 5s - loss: 0.2218 - accuracy: 0.91 - ETA: 5s - loss: 0.2214 - accuracy: 0.91 - ETA: 5s - loss: 0.2216 - accuracy: 0.91 - ETA: 5s - loss: 0.2217 - accuracy: 0.91 - ETA: 4s - loss: 0.2207 - accuracy: 0.91 - ETA: 4s - loss: 0.2207 - accuracy: 0.91 - ETA: 4s - loss: 0.2236 - accuracy: 0.91 - ETA: 4s - loss: 0.2224 - accuracy: 0.91 - ETA: 4s - loss: 0.2221 - accuracy: 0.91 - ETA: 4s - loss: 0.2217 - accuracy: 0.91 - ETA: 4s - loss: 0.2217 - accuracy: 0.91 - ETA: 4s - loss: 0.2208 - accuracy: 0.91 - ETA: 4s - loss: 0.2201 - accuracy: 0.91 - ETA: 4s - loss: 0.2217 - accuracy: 0.91 - ETA: 3s - loss: 0.2215 - accuracy: 0.91 - ETA: 3s - loss: 0.2207 - accuracy: 0.91 - ETA: 3s - loss: 0.2195 - accuracy: 0.91 - ETA: 3s - loss: 0.2191 - accuracy: 0.91 - ETA: 3s - loss: 0.2184 - accuracy: 0.91 - ETA: 3s - loss: 0.2178 - accuracy: 0.91 - ETA: 3s - loss: 0.2190 - accuracy: 0.91 - ETA: 3s - loss: 0.2184 - accuracy: 0.91 - ETA: 3s - loss: 0.2192 - accuracy: 0.91 - ETA: 2s - loss: 0.2195 - accuracy: 0.91 - ETA: 2s - loss: 0.2196 - accuracy: 0.91 - ETA: 2s - loss: 0.2199 - accuracy: 0.91 - ETA: 2s - loss: 0.2220 - accuracy: 0.91 - ETA: 2s - loss: 0.2209 - accuracy: 0.91 - ETA: 2s - loss: 0.2217 - accuracy: 0.91 - ETA: 2s - loss: 0.2218 - accuracy: 0.91 - ETA: 2s - loss: 0.2208 - accuracy: 0.91 - ETA: 2s - loss: 0.2199 - accuracy: 0.91 - ETA: 2s - loss: 0.2190 - accuracy: 0.91 - ETA: 1s - loss: 0.2198 - accuracy: 0.91 - ETA: 1s - loss: 0.2189 - accuracy: 0.91531646/1646 [==============================] - ETA: 1s - loss: 0.2201 - accuracy: 0.91 - ETA: 1s - loss: 0.2201 - accuracy: 0.91 - ETA: 1s - loss: 0.2219 - accuracy: 0.91 - ETA: 1s - loss: 0.2208 - accuracy: 0.91 - ETA: 1s - loss: 0.2202 - accuracy: 0.91 - ETA: 1s - loss: 0.2197 - accuracy: 0.91 - ETA: 1s - loss: 0.2209 - accuracy: 0.91 - ETA: 0s - loss: 0.2218 - accuracy: 0.91 - ETA: 0s - loss: 0.2214 - accuracy: 0.91 - ETA: 0s - loss: 0.2213 - accuracy: 0.91 - ETA: 0s - loss: 0.2207 - accuracy: 0.91 - ETA: 0s - loss: 0.2210 - accuracy: 0.91 - ETA: 0s - loss: 0.2216 - accuracy: 0.91 - ETA: 0s - loss: 0.2215 - accuracy: 0.91 - ETA: 0s - loss: 0.2225 - accuracy: 0.91 - ETA: 0s - loss: 0.2219 - accuracy: 0.91 - 23s 14ms/sample - loss: 0.2213 - accuracy: 0.9131\n",
      "Epoch 10/10\n",
      "1512/1646 [==========================>...] - ETA: 18s - loss: 0.0497 - accuracy: 1.000 - ETA: 21s - loss: 0.1019 - accuracy: 1.000 - ETA: 20s - loss: 0.2314 - accuracy: 0.916 - ETA: 20s - loss: 0.2018 - accuracy: 0.937 - ETA: 21s - loss: 0.1659 - accuracy: 0.950 - ETA: 21s - loss: 0.1912 - accuracy: 0.937 - ETA: 20s - loss: 0.1847 - accuracy: 0.946 - ETA: 20s - loss: 0.1794 - accuracy: 0.937 - ETA: 20s - loss: 0.1631 - accuracy: 0.944 - ETA: 20s - loss: 0.1574 - accuracy: 0.950 - ETA: 20s - loss: 0.1537 - accuracy: 0.954 - ETA: 20s - loss: 0.1421 - accuracy: 0.958 - ETA: 20s - loss: 0.1478 - accuracy: 0.951 - ETA: 20s - loss: 0.1379 - accuracy: 0.955 - ETA: 20s - loss: 0.1480 - accuracy: 0.950 - ETA: 20s - loss: 0.1490 - accuracy: 0.945 - ETA: 20s - loss: 0.1549 - accuracy: 0.941 - ETA: 19s - loss: 0.1468 - accuracy: 0.944 - ETA: 19s - loss: 0.1541 - accuracy: 0.934 - ETA: 19s - loss: 0.1502 - accuracy: 0.937 - ETA: 19s - loss: 0.1533 - accuracy: 0.934 - ETA: 19s - loss: 0.1773 - accuracy: 0.926 - ETA: 19s - loss: 0.1710 - accuracy: 0.929 - ETA: 19s - loss: 0.1646 - accuracy: 0.932 - ETA: 19s - loss: 0.1679 - accuracy: 0.930 - ETA: 19s - loss: 0.1716 - accuracy: 0.927 - ETA: 19s - loss: 0.1673 - accuracy: 0.930 - ETA: 18s - loss: 0.1661 - accuracy: 0.928 - ETA: 18s - loss: 0.1629 - accuracy: 0.931 - ETA: 18s - loss: 0.1591 - accuracy: 0.933 - ETA: 18s - loss: 0.1550 - accuracy: 0.935 - ETA: 18s - loss: 0.1521 - accuracy: 0.937 - ETA: 18s - loss: 0.1534 - accuracy: 0.935 - ETA: 18s - loss: 0.1512 - accuracy: 0.937 - ETA: 18s - loss: 0.1481 - accuracy: 0.939 - ETA: 18s - loss: 0.1444 - accuracy: 0.941 - ETA: 17s - loss: 0.1492 - accuracy: 0.939 - ETA: 17s - loss: 0.1459 - accuracy: 0.940 - ETA: 17s - loss: 0.1838 - accuracy: 0.935 - ETA: 17s - loss: 0.1821 - accuracy: 0.934 - ETA: 17s - loss: 0.1792 - accuracy: 0.936 - ETA: 17s - loss: 0.1759 - accuracy: 0.937 - ETA: 17s - loss: 0.1732 - accuracy: 0.939 - ETA: 17s - loss: 0.1695 - accuracy: 0.940 - ETA: 17s - loss: 0.1677 - accuracy: 0.941 - ETA: 16s - loss: 0.1663 - accuracy: 0.942 - ETA: 16s - loss: 0.1670 - accuracy: 0.941 - ETA: 16s - loss: 0.1719 - accuracy: 0.937 - ETA: 16s - loss: 0.1732 - accuracy: 0.936 - ETA: 16s - loss: 0.1699 - accuracy: 0.937 - ETA: 16s - loss: 0.1696 - accuracy: 0.936 - ETA: 16s - loss: 0.1668 - accuracy: 0.937 - ETA: 16s - loss: 0.1714 - accuracy: 0.936 - ETA: 16s - loss: 0.1738 - accuracy: 0.932 - ETA: 16s - loss: 0.1715 - accuracy: 0.934 - ETA: 15s - loss: 0.1702 - accuracy: 0.935 - ETA: 15s - loss: 0.1688 - accuracy: 0.936 - ETA: 15s - loss: 0.1674 - accuracy: 0.937 - ETA: 15s - loss: 0.1666 - accuracy: 0.936 - ETA: 15s - loss: 0.1647 - accuracy: 0.937 - ETA: 15s - loss: 0.1647 - accuracy: 0.936 - ETA: 15s - loss: 0.1658 - accuracy: 0.935 - ETA: 15s - loss: 0.1633 - accuracy: 0.936 - ETA: 15s - loss: 0.1633 - accuracy: 0.935 - ETA: 14s - loss: 0.1618 - accuracy: 0.936 - ETA: 14s - loss: 0.1618 - accuracy: 0.935 - ETA: 14s - loss: 0.1602 - accuracy: 0.936 - ETA: 14s - loss: 0.1580 - accuracy: 0.937 - ETA: 14s - loss: 0.1605 - accuracy: 0.936 - ETA: 14s - loss: 0.1657 - accuracy: 0.933 - ETA: 14s - loss: 0.1634 - accuracy: 0.934 - ETA: 14s - loss: 0.1768 - accuracy: 0.932 - ETA: 14s - loss: 0.1775 - accuracy: 0.931 - ETA: 14s - loss: 0.1813 - accuracy: 0.929 - ETA: 13s - loss: 0.1812 - accuracy: 0.928 - ETA: 13s - loss: 0.1802 - accuracy: 0.929 - ETA: 13s - loss: 0.1782 - accuracy: 0.930 - ETA: 13s - loss: 0.1809 - accuracy: 0.929 - ETA: 13s - loss: 0.1806 - accuracy: 0.930 - ETA: 13s - loss: 0.1798 - accuracy: 0.931 - ETA: 13s - loss: 0.1789 - accuracy: 0.932 - ETA: 13s - loss: 0.1778 - accuracy: 0.932 - ETA: 13s - loss: 0.1761 - accuracy: 0.933 - ETA: 13s - loss: 0.1750 - accuracy: 0.934 - ETA: 12s - loss: 0.1742 - accuracy: 0.935 - ETA: 12s - loss: 0.1723 - accuracy: 0.936 - ETA: 12s - loss: 0.1713 - accuracy: 0.936 - ETA: 12s - loss: 0.1715 - accuracy: 0.936 - ETA: 12s - loss: 0.1722 - accuracy: 0.935 - ETA: 12s - loss: 0.1758 - accuracy: 0.933 - ETA: 12s - loss: 0.1747 - accuracy: 0.934 - ETA: 12s - loss: 0.1736 - accuracy: 0.934 - ETA: 12s - loss: 0.1763 - accuracy: 0.934 - ETA: 11s - loss: 0.1800 - accuracy: 0.932 - ETA: 11s - loss: 0.1825 - accuracy: 0.931 - ETA: 11s - loss: 0.1823 - accuracy: 0.931 - ETA: 11s - loss: 0.1883 - accuracy: 0.929 - ETA: 11s - loss: 0.1872 - accuracy: 0.929 - ETA: 11s - loss: 0.1898 - accuracy: 0.928 - ETA: 11s - loss: 0.1885 - accuracy: 0.928 - ETA: 11s - loss: 0.1870 - accuracy: 0.929 - ETA: 11s - loss: 0.1870 - accuracy: 0.928 - ETA: 10s - loss: 0.1905 - accuracy: 0.928 - ETA: 10s - loss: 0.1912 - accuracy: 0.927 - ETA: 10s - loss: 0.1926 - accuracy: 0.927 - ETA: 10s - loss: 0.1920 - accuracy: 0.928 - ETA: 10s - loss: 0.1962 - accuracy: 0.924 - ETA: 10s - loss: 0.1953 - accuracy: 0.924 - ETA: 10s - loss: 0.1948 - accuracy: 0.924 - ETA: 10s - loss: 0.1937 - accuracy: 0.925 - ETA: 10s - loss: 0.1926 - accuracy: 0.925 - ETA: 10s - loss: 0.1943 - accuracy: 0.924 - ETA: 9s - loss: 0.1929 - accuracy: 0.924 - ETA: 9s - loss: 0.1932 - accuracy: 0.92 - ETA: 9s - loss: 0.1941 - accuracy: 0.92 - ETA: 9s - loss: 0.1933 - accuracy: 0.92 - ETA: 9s - loss: 0.1938 - accuracy: 0.92 - ETA: 9s - loss: 0.1934 - accuracy: 0.92 - ETA: 9s - loss: 0.1928 - accuracy: 0.92 - ETA: 9s - loss: 0.1912 - accuracy: 0.92 - ETA: 9s - loss: 0.1938 - accuracy: 0.92 - ETA: 8s - loss: 0.1955 - accuracy: 0.92 - ETA: 8s - loss: 0.1945 - accuracy: 0.92 - ETA: 8s - loss: 0.1934 - accuracy: 0.92 - ETA: 8s - loss: 0.1929 - accuracy: 0.92 - ETA: 8s - loss: 0.1917 - accuracy: 0.92 - ETA: 8s - loss: 0.1908 - accuracy: 0.92 - ETA: 8s - loss: 0.1912 - accuracy: 0.92 - ETA: 8s - loss: 0.1932 - accuracy: 0.92 - ETA: 8s - loss: 0.1919 - accuracy: 0.92 - ETA: 8s - loss: 0.1927 - accuracy: 0.92 - ETA: 7s - loss: 0.1918 - accuracy: 0.92 - ETA: 7s - loss: 0.1904 - accuracy: 0.92 - ETA: 7s - loss: 0.1895 - accuracy: 0.92 - ETA: 7s - loss: 0.1885 - accuracy: 0.92 - ETA: 7s - loss: 0.1883 - accuracy: 0.92 - ETA: 7s - loss: 0.1901 - accuracy: 0.92 - ETA: 7s - loss: 0.1933 - accuracy: 0.92 - ETA: 7s - loss: 0.1931 - accuracy: 0.92 - ETA: 7s - loss: 0.1934 - accuracy: 0.92 - ETA: 6s - loss: 0.1921 - accuracy: 0.92 - ETA: 6s - loss: 0.1911 - accuracy: 0.92 - ETA: 6s - loss: 0.1898 - accuracy: 0.92 - ETA: 6s - loss: 0.1888 - accuracy: 0.92 - ETA: 6s - loss: 0.1880 - accuracy: 0.92 - ETA: 6s - loss: 0.1873 - accuracy: 0.92 - ETA: 6s - loss: 0.1875 - accuracy: 0.92 - ETA: 6s - loss: 0.1868 - accuracy: 0.92 - ETA: 6s - loss: 0.1863 - accuracy: 0.92 - ETA: 5s - loss: 0.1860 - accuracy: 0.92 - ETA: 5s - loss: 0.1869 - accuracy: 0.92 - ETA: 5s - loss: 0.1865 - accuracy: 0.92 - ETA: 5s - loss: 0.1862 - accuracy: 0.92 - ETA: 5s - loss: 0.1861 - accuracy: 0.92 - ETA: 5s - loss: 0.1884 - accuracy: 0.92 - ETA: 5s - loss: 0.1873 - accuracy: 0.92 - ETA: 5s - loss: 0.1863 - accuracy: 0.92 - ETA: 5s - loss: 0.1852 - accuracy: 0.92 - ETA: 5s - loss: 0.1849 - accuracy: 0.92 - ETA: 4s - loss: 0.1839 - accuracy: 0.92 - ETA: 4s - loss: 0.1833 - accuracy: 0.92 - ETA: 4s - loss: 0.1827 - accuracy: 0.92 - ETA: 4s - loss: 0.1820 - accuracy: 0.92 - ETA: 4s - loss: 0.1839 - accuracy: 0.92 - ETA: 4s - loss: 0.1850 - accuracy: 0.92 - ETA: 4s - loss: 0.1894 - accuracy: 0.92 - ETA: 4s - loss: 0.1890 - accuracy: 0.92 - ETA: 4s - loss: 0.1912 - accuracy: 0.92 - ETA: 3s - loss: 0.1904 - accuracy: 0.92 - ETA: 3s - loss: 0.1942 - accuracy: 0.92 - ETA: 3s - loss: 0.1947 - accuracy: 0.92 - ETA: 3s - loss: 0.1943 - accuracy: 0.92 - ETA: 3s - loss: 0.1943 - accuracy: 0.92 - ETA: 3s - loss: 0.1937 - accuracy: 0.92 - ETA: 3s - loss: 0.1937 - accuracy: 0.92 - ETA: 3s - loss: 0.1940 - accuracy: 0.92 - ETA: 3s - loss: 0.1945 - accuracy: 0.92 - ETA: 2s - loss: 0.1955 - accuracy: 0.92 - ETA: 2s - loss: 0.1954 - accuracy: 0.92 - ETA: 2s - loss: 0.1961 - accuracy: 0.92 - ETA: 2s - loss: 0.1959 - accuracy: 0.92 - ETA: 2s - loss: 0.1957 - accuracy: 0.92 - ETA: 2s - loss: 0.1963 - accuracy: 0.92 - ETA: 2s - loss: 0.1962 - accuracy: 0.92 - ETA: 2s - loss: 0.1956 - accuracy: 0.92 - ETA: 2s - loss: 0.1971 - accuracy: 0.92 - ETA: 2s - loss: 0.1967 - accuracy: 0.92 - ETA: 1s - loss: 0.1961 - accuracy: 0.92 - ETA: 1s - loss: 0.1966 - accuracy: 0.92461646/1646 [==============================] - ETA: 1s - loss: 0.1959 - accuracy: 0.92 - ETA: 1s - loss: 0.1960 - accuracy: 0.92 - ETA: 1s - loss: 0.1968 - accuracy: 0.92 - ETA: 1s - loss: 0.1971 - accuracy: 0.92 - ETA: 1s - loss: 0.1966 - accuracy: 0.92 - ETA: 1s - loss: 0.1964 - accuracy: 0.92 - ETA: 1s - loss: 0.1956 - accuracy: 0.92 - ETA: 0s - loss: 0.1961 - accuracy: 0.92 - ETA: 0s - loss: 0.1952 - accuracy: 0.92 - ETA: 0s - loss: 0.1956 - accuracy: 0.92 - ETA: 0s - loss: 0.1949 - accuracy: 0.92 - ETA: 0s - loss: 0.1944 - accuracy: 0.92 - ETA: 0s - loss: 0.1935 - accuracy: 0.92 - ETA: 0s - loss: 0.1942 - accuracy: 0.92 - ETA: 0s - loss: 0.1934 - accuracy: 0.92 - ETA: 0s - loss: 0.1953 - accuracy: 0.92 - 23s 14ms/sample - loss: 0.1998 - accuracy: 0.9247\n"
     ]
    },
    {
     "data": {
      "text/html": [
       "<span style=\"color:#4527A0\"><h1 style=\"font-size:18px\">Trial complete</h1></span>"
      ],
      "text/plain": [
       "<IPython.core.display.HTML object>"
      ]
     },
     "metadata": {},
     "output_type": "display_data"
    },
    {
     "data": {
      "text/html": [
       "<span style=\"color:#4527A0\"><h1 style=\"font-size:18px\">Trial summary</h1></span>"
      ],
      "text/plain": [
       "<IPython.core.display.HTML object>"
      ]
     },
     "metadata": {},
     "output_type": "display_data"
    },
    {
     "data": {
      "text/html": [
       "<span style=\"color:cyan\"> |-Trial ID: 9ad8ea47266b405517f8286f6598ad0c</span>"
      ],
      "text/plain": [
       "<IPython.core.display.HTML object>"
      ]
     },
     "metadata": {},
     "output_type": "display_data"
    },
    {
     "data": {
      "text/html": [
       "<span style=\"color:cyan\"> |-Score: 0.9246658682823181</span>"
      ],
      "text/plain": [
       "<IPython.core.display.HTML object>"
      ]
     },
     "metadata": {},
     "output_type": "display_data"
    },
    {
     "data": {
      "text/html": [
       "<span style=\"color:cyan\"> |-Best step: 0</span>"
      ],
      "text/plain": [
       "<IPython.core.display.HTML object>"
      ]
     },
     "metadata": {},
     "output_type": "display_data"
    },
    {
     "data": {
      "text/html": [
       "<span style=\"color:#7E57C2\"><h2 style=\"font-size:16px\">Hyperparameters:</h2></span>"
      ],
      "text/plain": [
       "<IPython.core.display.HTML object>"
      ]
     },
     "metadata": {},
     "output_type": "display_data"
    },
    {
     "data": {
      "text/html": [
       "<span style=\"color:cyan\"> |-filters_0: 64</span>"
      ],
      "text/plain": [
       "<IPython.core.display.HTML object>"
      ]
     },
     "metadata": {},
     "output_type": "display_data"
    },
    {
     "data": {
      "text/html": [
       "<span style=\"color:blue\"> |-filters_1: 192</span>"
      ],
      "text/plain": [
       "<IPython.core.display.HTML object>"
      ]
     },
     "metadata": {},
     "output_type": "display_data"
    },
    {
     "data": {
      "text/html": [
       "<span style=\"color:cyan\"> |-filters_2: 256</span>"
      ],
      "text/plain": [
       "<IPython.core.display.HTML object>"
      ]
     },
     "metadata": {},
     "output_type": "display_data"
    },
    {
     "data": {
      "text/html": [
       "<span style=\"color:blue\"> |-filters_3: 96</span>"
      ],
      "text/plain": [
       "<IPython.core.display.HTML object>"
      ]
     },
     "metadata": {},
     "output_type": "display_data"
    },
    {
     "data": {
      "text/html": [
       "<span style=\"color:cyan\"> |-filters_4: 64</span>"
      ],
      "text/plain": [
       "<IPython.core.display.HTML object>"
      ]
     },
     "metadata": {},
     "output_type": "display_data"
    },
    {
     "data": {
      "text/html": [
       "<span style=\"color:blue\"> |-filters_5: 128</span>"
      ],
      "text/plain": [
       "<IPython.core.display.HTML object>"
      ]
     },
     "metadata": {},
     "output_type": "display_data"
    },
    {
     "data": {
      "text/html": [
       "<span style=\"color:cyan\"> |-filters_6: 64</span>"
      ],
      "text/plain": [
       "<IPython.core.display.HTML object>"
      ]
     },
     "metadata": {},
     "output_type": "display_data"
    },
    {
     "data": {
      "text/html": [
       "<span style=\"color:blue\"> |-filters_7: 64</span>"
      ],
      "text/plain": [
       "<IPython.core.display.HTML object>"
      ]
     },
     "metadata": {},
     "output_type": "display_data"
    },
    {
     "data": {
      "text/html": [
       "<span style=\"color:cyan\"> |-learning_rate: 0.0005</span>"
      ],
      "text/plain": [
       "<IPython.core.display.HTML object>"
      ]
     },
     "metadata": {},
     "output_type": "display_data"
    },
    {
     "data": {
      "text/html": [
       "<span style=\"color:blue\"> |-num_layers: 8</span>"
      ],
      "text/plain": [
       "<IPython.core.display.HTML object>"
      ]
     },
     "metadata": {},
     "output_type": "display_data"
    },
    {
     "data": {
      "text/html": [
       "<span style=\"color:cyan\"> |-pool_0: avg</span>"
      ],
      "text/plain": [
       "<IPython.core.display.HTML object>"
      ]
     },
     "metadata": {},
     "output_type": "display_data"
    },
    {
     "data": {
      "text/html": [
       "<span style=\"color:blue\"> |-pool_1: max</span>"
      ],
      "text/plain": [
       "<IPython.core.display.HTML object>"
      ]
     },
     "metadata": {},
     "output_type": "display_data"
    },
    {
     "data": {
      "text/html": [
       "<span style=\"color:cyan\"> |-pool_2: max</span>"
      ],
      "text/plain": [
       "<IPython.core.display.HTML object>"
      ]
     },
     "metadata": {},
     "output_type": "display_data"
    },
    {
     "data": {
      "text/html": [
       "<span style=\"color:blue\"> |-pool_3: max</span>"
      ],
      "text/plain": [
       "<IPython.core.display.HTML object>"
      ]
     },
     "metadata": {},
     "output_type": "display_data"
    },
    {
     "data": {
      "text/html": [
       "<span style=\"color:cyan\"> |-pool_4: avg</span>"
      ],
      "text/plain": [
       "<IPython.core.display.HTML object>"
      ]
     },
     "metadata": {},
     "output_type": "display_data"
    },
    {
     "name": "stdout",
     "output_type": "stream",
     "text": [
      "Train on 1646 samples\n",
      "Epoch 1/10\n",
      "1488/1646 [==========================>...] - ETA: 6:45 - loss: 4.6527 - accuracy: 0.75 - ETA: 3:37 - loss: 15.7316 - accuracy: 0.750 - ETA: 2:35 - loss: 12.5597 - accuracy: 0.666 - ETA: 2:04 - loss: 10.8546 - accuracy: 0.562 - ETA: 1:45 - loss: 10.8133 - accuracy: 0.525 - ETA: 1:32 - loss: 10.1798 - accuracy: 0.479 - ETA: 1:23 - loss: 9.0746 - accuracy: 0.500 - ETA: 1:17 - loss: 8.2666 - accuracy: 0.51 - ETA: 1:11 - loss: 7.8640 - accuracy: 0.50 - ETA: 1:07 - loss: 7.2389 - accuracy: 0.48 - ETA: 1:04 - loss: 6.6939 - accuracy: 0.50 - ETA: 1:01 - loss: 6.4698 - accuracy: 0.48 - ETA: 58s - loss: 6.0258 - accuracy: 0.5000 - ETA: 56s - loss: 5.6329 - accuracy: 0.508 - ETA: 54s - loss: 5.3332 - accuracy: 0.508 - ETA: 52s - loss: 5.0262 - accuracy: 0.531 - ETA: 51s - loss: 4.8212 - accuracy: 0.514 - ETA: 49s - loss: 4.6115 - accuracy: 0.513 - ETA: 48s - loss: 4.4033 - accuracy: 0.526 - ETA: 47s - loss: 4.2186 - accuracy: 0.537 - ETA: 46s - loss: 4.0665 - accuracy: 0.535 - ETA: 45s - loss: 3.9019 - accuracy: 0.545 - ETA: 44s - loss: 3.7692 - accuracy: 0.548 - ETA: 43s - loss: 3.6394 - accuracy: 0.552 - ETA: 42s - loss: 3.5189 - accuracy: 0.555 - ETA: 42s - loss: 3.4061 - accuracy: 0.567 - ETA: 41s - loss: 3.3002 - accuracy: 0.574 - ETA: 40s - loss: 3.1978 - accuracy: 0.580 - ETA: 40s - loss: 3.1268 - accuracy: 0.573 - ETA: 39s - loss: 3.0567 - accuracy: 0.570 - ETA: 39s - loss: 3.0090 - accuracy: 0.568 - ETA: 38s - loss: 2.9249 - accuracy: 0.578 - ETA: 38s - loss: 2.8643 - accuracy: 0.579 - ETA: 37s - loss: 2.8170 - accuracy: 0.580 - ETA: 37s - loss: 2.7578 - accuracy: 0.578 - ETA: 36s - loss: 2.7187 - accuracy: 0.572 - ETA: 36s - loss: 2.6602 - accuracy: 0.574 - ETA: 35s - loss: 2.6055 - accuracy: 0.575 - ETA: 35s - loss: 2.5599 - accuracy: 0.573 - ETA: 34s - loss: 2.5098 - accuracy: 0.575 - ETA: 34s - loss: 2.4624 - accuracy: 0.576 - ETA: 34s - loss: 2.4195 - accuracy: 0.577 - ETA: 33s - loss: 2.3732 - accuracy: 0.584 - ETA: 33s - loss: 2.3323 - accuracy: 0.588 - ETA: 33s - loss: 2.2927 - accuracy: 0.591 - ETA: 32s - loss: 2.2558 - accuracy: 0.595 - ETA: 32s - loss: 2.2186 - accuracy: 0.598 - ETA: 32s - loss: 2.1860 - accuracy: 0.596 - ETA: 31s - loss: 2.1487 - accuracy: 0.602 - ETA: 31s - loss: 2.1188 - accuracy: 0.600 - ETA: 31s - loss: 2.0869 - accuracy: 0.602 - ETA: 30s - loss: 2.0599 - accuracy: 0.601 - ETA: 30s - loss: 2.0348 - accuracy: 0.599 - ETA: 30s - loss: 2.0061 - accuracy: 0.601 - ETA: 29s - loss: 1.9791 - accuracy: 0.604 - ETA: 29s - loss: 1.9538 - accuracy: 0.602 - ETA: 29s - loss: 1.9351 - accuracy: 0.600 - ETA: 29s - loss: 1.9107 - accuracy: 0.605 - ETA: 28s - loss: 1.8895 - accuracy: 0.610 - ETA: 28s - loss: 1.8666 - accuracy: 0.610 - ETA: 28s - loss: 1.8481 - accuracy: 0.610 - ETA: 28s - loss: 1.8221 - accuracy: 0.616 - ETA: 27s - loss: 1.8124 - accuracy: 0.615 - ETA: 27s - loss: 1.7912 - accuracy: 0.617 - ETA: 27s - loss: 1.7753 - accuracy: 0.617 - ETA: 26s - loss: 1.7524 - accuracy: 0.621 - ETA: 26s - loss: 1.7326 - accuracy: 0.625 - ETA: 26s - loss: 1.7157 - accuracy: 0.626 - ETA: 26s - loss: 1.6984 - accuracy: 0.626 - ETA: 25s - loss: 1.6851 - accuracy: 0.626 - ETA: 25s - loss: 1.6682 - accuracy: 0.628 - ETA: 25s - loss: 1.6535 - accuracy: 0.628 - ETA: 25s - loss: 1.6377 - accuracy: 0.630 - ETA: 25s - loss: 1.6236 - accuracy: 0.630 - ETA: 24s - loss: 1.6049 - accuracy: 0.635 - ETA: 24s - loss: 1.5901 - accuracy: 0.636 - ETA: 24s - loss: 1.5742 - accuracy: 0.639 - ETA: 24s - loss: 1.5599 - accuracy: 0.639 - ETA: 23s - loss: 1.5480 - accuracy: 0.639 - ETA: 23s - loss: 1.5418 - accuracy: 0.639 - ETA: 23s - loss: 1.5274 - accuracy: 0.642 - ETA: 23s - loss: 1.5152 - accuracy: 0.641 - ETA: 23s - loss: 1.5017 - accuracy: 0.644 - ETA: 22s - loss: 1.4873 - accuracy: 0.647 - ETA: 22s - loss: 1.4763 - accuracy: 0.647 - ETA: 22s - loss: 1.4680 - accuracy: 0.646 - ETA: 22s - loss: 1.4564 - accuracy: 0.648 - ETA: 21s - loss: 1.4435 - accuracy: 0.650 - ETA: 21s - loss: 1.4311 - accuracy: 0.653 - ETA: 21s - loss: 1.4215 - accuracy: 0.654 - ETA: 21s - loss: 1.4074 - accuracy: 0.658 - ETA: 21s - loss: 1.4004 - accuracy: 0.657 - ETA: 20s - loss: 1.3872 - accuracy: 0.661 - ETA: 20s - loss: 1.3749 - accuracy: 0.662 - ETA: 20s - loss: 1.3665 - accuracy: 0.663 - ETA: 20s - loss: 1.3597 - accuracy: 0.662 - ETA: 20s - loss: 1.3511 - accuracy: 0.662 - ETA: 19s - loss: 1.3419 - accuracy: 0.663 - ETA: 19s - loss: 1.3304 - accuracy: 0.666 - ETA: 19s - loss: 1.3230 - accuracy: 0.666 - ETA: 19s - loss: 1.3131 - accuracy: 0.668 - ETA: 19s - loss: 1.3120 - accuracy: 0.667 - ETA: 18s - loss: 1.3136 - accuracy: 0.668 - ETA: 18s - loss: 1.3075 - accuracy: 0.669 - ETA: 18s - loss: 1.3009 - accuracy: 0.669 - ETA: 18s - loss: 1.2915 - accuracy: 0.672 - ETA: 18s - loss: 1.2858 - accuracy: 0.670 - ETA: 17s - loss: 1.2766 - accuracy: 0.673 - ETA: 17s - loss: 1.2741 - accuracy: 0.673 - ETA: 17s - loss: 1.2736 - accuracy: 0.670 - ETA: 17s - loss: 1.2663 - accuracy: 0.671 - ETA: 17s - loss: 1.2590 - accuracy: 0.673 - ETA: 16s - loss: 1.2544 - accuracy: 0.671 - ETA: 16s - loss: 1.2496 - accuracy: 0.668 - ETA: 16s - loss: 1.2437 - accuracy: 0.669 - ETA: 16s - loss: 1.2415 - accuracy: 0.668 - ETA: 16s - loss: 1.2360 - accuracy: 0.666 - ETA: 15s - loss: 1.2305 - accuracy: 0.665 - ETA: 15s - loss: 1.2245 - accuracy: 0.666 - ETA: 15s - loss: 1.2187 - accuracy: 0.666 - ETA: 15s - loss: 1.2124 - accuracy: 0.669 - ETA: 15s - loss: 1.2065 - accuracy: 0.672 - ETA: 14s - loss: 1.2009 - accuracy: 0.672 - ETA: 14s - loss: 1.1985 - accuracy: 0.671 - ETA: 14s - loss: 1.1957 - accuracy: 0.670 - ETA: 14s - loss: 1.1919 - accuracy: 0.668 - ETA: 14s - loss: 1.1875 - accuracy: 0.668 - ETA: 14s - loss: 1.1808 - accuracy: 0.670 - ETA: 13s - loss: 1.1756 - accuracy: 0.670 - ETA: 13s - loss: 1.1734 - accuracy: 0.667 - ETA: 13s - loss: 1.1709 - accuracy: 0.666 - ETA: 13s - loss: 1.1663 - accuracy: 0.666 - ETA: 13s - loss: 1.1597 - accuracy: 0.669 - ETA: 12s - loss: 1.1567 - accuracy: 0.667 - ETA: 12s - loss: 1.1515 - accuracy: 0.669 - ETA: 12s - loss: 1.1468 - accuracy: 0.671 - ETA: 12s - loss: 1.1424 - accuracy: 0.671 - ETA: 12s - loss: 1.1373 - accuracy: 0.673 - ETA: 11s - loss: 1.1333 - accuracy: 0.674 - ETA: 11s - loss: 1.1321 - accuracy: 0.673 - ETA: 11s - loss: 1.1276 - accuracy: 0.673 - ETA: 11s - loss: 1.1229 - accuracy: 0.674 - ETA: 11s - loss: 1.1186 - accuracy: 0.674 - ETA: 11s - loss: 1.1125 - accuracy: 0.676 - ETA: 10s - loss: 1.1096 - accuracy: 0.675 - ETA: 10s - loss: 1.1039 - accuracy: 0.678 - ETA: 10s - loss: 1.1012 - accuracy: 0.677 - ETA: 10s - loss: 1.1003 - accuracy: 0.675 - ETA: 10s - loss: 1.0966 - accuracy: 0.676 - ETA: 9s - loss: 1.0950 - accuracy: 0.675 - ETA: 9s - loss: 1.0913 - accuracy: 0.67 - ETA: 9s - loss: 1.0892 - accuracy: 0.67 - ETA: 9s - loss: 1.0851 - accuracy: 0.67 - ETA: 9s - loss: 1.0795 - accuracy: 0.67 - ETA: 9s - loss: 1.0778 - accuracy: 0.67 - ETA: 8s - loss: 1.0749 - accuracy: 0.67 - ETA: 8s - loss: 1.0719 - accuracy: 0.67 - ETA: 8s - loss: 1.0689 - accuracy: 0.67 - ETA: 8s - loss: 1.0660 - accuracy: 0.67 - ETA: 8s - loss: 1.0639 - accuracy: 0.67 - ETA: 7s - loss: 1.0612 - accuracy: 0.67 - ETA: 7s - loss: 1.0586 - accuracy: 0.67 - ETA: 7s - loss: 1.0558 - accuracy: 0.67 - ETA: 7s - loss: 1.0542 - accuracy: 0.67 - ETA: 7s - loss: 1.0523 - accuracy: 0.67 - ETA: 7s - loss: 1.0493 - accuracy: 0.67 - ETA: 6s - loss: 1.0459 - accuracy: 0.67 - ETA: 6s - loss: 1.0436 - accuracy: 0.67 - ETA: 6s - loss: 1.0411 - accuracy: 0.67 - ETA: 6s - loss: 1.0380 - accuracy: 0.67 - ETA: 6s - loss: 1.0344 - accuracy: 0.67 - ETA: 5s - loss: 1.0333 - accuracy: 0.67 - ETA: 5s - loss: 1.0308 - accuracy: 0.67 - ETA: 5s - loss: 1.0285 - accuracy: 0.67 - ETA: 5s - loss: 1.0260 - accuracy: 0.67 - ETA: 5s - loss: 1.0246 - accuracy: 0.67 - ETA: 5s - loss: 1.0206 - accuracy: 0.67 - ETA: 4s - loss: 1.0182 - accuracy: 0.67 - ETA: 4s - loss: 1.0175 - accuracy: 0.67 - ETA: 4s - loss: 1.0149 - accuracy: 0.67 - ETA: 4s - loss: 1.0122 - accuracy: 0.67 - ETA: 4s - loss: 1.0095 - accuracy: 0.67 - ETA: 4s - loss: 1.0058 - accuracy: 0.67 - ETA: 3s - loss: 1.0025 - accuracy: 0.67 - ETA: 3s - loss: 0.9987 - accuracy: 0.67 - ETA: 3s - loss: 0.9966 - accuracy: 0.6767\b\b\b\b\b\b\b\b\b\b\b\b\b\b\b\b\b\b\b\b\b\b\b\b\b\b\b\b\b\b\b\b\b\b\b\b\b\b\b\b\b\b\b\b\b\b\b\b\b\b\b\b\b\b\b\b\b\b\b\b\b\b\b\b\b\b\b\b\b\b\b\b\b\b\b\b\b\b\b\b\b\b\b\b\b\b1646/1646 [==============================] - ETA: 3s - loss: 0.9931 - accuracy: 0.67 - ETA: 3s - loss: 0.9904 - accuracy: 0.67 - ETA: 2s - loss: 0.9896 - accuracy: 0.67 - ETA: 2s - loss: 0.9869 - accuracy: 0.67 - ETA: 2s - loss: 0.9843 - accuracy: 0.67 - ETA: 2s - loss: 0.9814 - accuracy: 0.67 - ETA: 2s - loss: 0.9797 - accuracy: 0.67 - ETA: 2s - loss: 0.9767 - accuracy: 0.67 - ETA: 1s - loss: 0.9744 - accuracy: 0.67 - ETA: 1s - loss: 0.9707 - accuracy: 0.68 - ETA: 1s - loss: 0.9676 - accuracy: 0.68 - ETA: 1s - loss: 0.9647 - accuracy: 0.68 - ETA: 1s - loss: 0.9634 - accuracy: 0.68 - ETA: 1s - loss: 0.9610 - accuracy: 0.68 - ETA: 0s - loss: 0.9598 - accuracy: 0.68 - ETA: 0s - loss: 0.9603 - accuracy: 0.68 - ETA: 0s - loss: 0.9573 - accuracy: 0.68 - ETA: 0s - loss: 0.9556 - accuracy: 0.68 - ETA: 0s - loss: 0.9531 - accuracy: 0.68 - 40s 24ms/sample - loss: 0.9510 - accuracy: 0.6810\n",
      "Epoch 2/10\n",
      "1504/1646 [==========================>...] - ETA: 32s - loss: 0.8188 - accuracy: 0.500 - ETA: 31s - loss: 0.6391 - accuracy: 0.687 - ETA: 32s - loss: 0.5836 - accuracy: 0.708 - ETA: 31s - loss: 0.5721 - accuracy: 0.718 - ETA: 31s - loss: 0.5875 - accuracy: 0.675 - ETA: 31s - loss: 0.5772 - accuracy: 0.687 - ETA: 31s - loss: 0.5588 - accuracy: 0.696 - ETA: 31s - loss: 0.5962 - accuracy: 0.687 - ETA: 31s - loss: 0.6190 - accuracy: 0.680 - ETA: 31s - loss: 0.6056 - accuracy: 0.700 - ETA: 30s - loss: 0.5894 - accuracy: 0.715 - ETA: 30s - loss: 0.5596 - accuracy: 0.739 - ETA: 30s - loss: 0.5716 - accuracy: 0.730 - ETA: 30s - loss: 0.5701 - accuracy: 0.723 - ETA: 30s - loss: 0.5677 - accuracy: 0.725 - ETA: 30s - loss: 0.5458 - accuracy: 0.742 - ETA: 30s - loss: 0.5704 - accuracy: 0.727 - ETA: 30s - loss: 0.5621 - accuracy: 0.729 - ETA: 29s - loss: 0.5571 - accuracy: 0.730 - ETA: 29s - loss: 0.5488 - accuracy: 0.737 - ETA: 29s - loss: 0.5413 - accuracy: 0.744 - ETA: 29s - loss: 0.5400 - accuracy: 0.744 - ETA: 29s - loss: 0.5400 - accuracy: 0.744 - ETA: 29s - loss: 0.5438 - accuracy: 0.739 - ETA: 29s - loss: 0.5451 - accuracy: 0.740 - ETA: 29s - loss: 0.5411 - accuracy: 0.740 - ETA: 28s - loss: 0.5391 - accuracy: 0.740 - ETA: 28s - loss: 0.5432 - accuracy: 0.732 - ETA: 28s - loss: 0.5461 - accuracy: 0.728 - ETA: 28s - loss: 0.5393 - accuracy: 0.733 - ETA: 28s - loss: 0.5350 - accuracy: 0.733 - ETA: 28s - loss: 0.5360 - accuracy: 0.734 - ETA: 28s - loss: 0.5410 - accuracy: 0.727 - ETA: 27s - loss: 0.5448 - accuracy: 0.720 - ETA: 27s - loss: 0.5386 - accuracy: 0.725 - ETA: 27s - loss: 0.5371 - accuracy: 0.729 - ETA: 27s - loss: 0.5289 - accuracy: 0.736 - ETA: 27s - loss: 0.5281 - accuracy: 0.733 - ETA: 27s - loss: 0.5289 - accuracy: 0.737 - ETA: 27s - loss: 0.5223 - accuracy: 0.740 - ETA: 26s - loss: 0.5246 - accuracy: 0.740 - ETA: 26s - loss: 0.5227 - accuracy: 0.744 - ETA: 26s - loss: 0.5398 - accuracy: 0.735 - ETA: 26s - loss: 0.5422 - accuracy: 0.738 - ETA: 26s - loss: 0.5441 - accuracy: 0.733 - ETA: 26s - loss: 0.5461 - accuracy: 0.733 - ETA: 25s - loss: 0.5425 - accuracy: 0.734 - ETA: 25s - loss: 0.5477 - accuracy: 0.729 - ETA: 25s - loss: 0.5440 - accuracy: 0.732 - ETA: 25s - loss: 0.5365 - accuracy: 0.737 - ETA: 25s - loss: 0.5353 - accuracy: 0.737 - ETA: 25s - loss: 0.5367 - accuracy: 0.738 - ETA: 25s - loss: 0.5355 - accuracy: 0.738 - ETA: 24s - loss: 0.5372 - accuracy: 0.736 - ETA: 24s - loss: 0.5333 - accuracy: 0.738 - ETA: 24s - loss: 0.5393 - accuracy: 0.736 - ETA: 24s - loss: 0.5393 - accuracy: 0.734 - ETA: 24s - loss: 0.5354 - accuracy: 0.739 - ETA: 24s - loss: 0.5361 - accuracy: 0.739 - ETA: 23s - loss: 0.5375 - accuracy: 0.735 - ETA: 23s - loss: 0.5425 - accuracy: 0.735 - ETA: 23s - loss: 0.5399 - accuracy: 0.737 - ETA: 23s - loss: 0.5376 - accuracy: 0.738 - ETA: 23s - loss: 0.5358 - accuracy: 0.738 - ETA: 23s - loss: 0.5367 - accuracy: 0.738 - ETA: 23s - loss: 0.5353 - accuracy: 0.738 - ETA: 22s - loss: 0.5355 - accuracy: 0.738 - ETA: 22s - loss: 0.5343 - accuracy: 0.739 - ETA: 22s - loss: 0.5331 - accuracy: 0.739 - ETA: 22s - loss: 0.5341 - accuracy: 0.737 - ETA: 22s - loss: 0.5360 - accuracy: 0.734 - ETA: 22s - loss: 0.5354 - accuracy: 0.734 - ETA: 21s - loss: 0.5364 - accuracy: 0.732 - ETA: 21s - loss: 0.5349 - accuracy: 0.734 - ETA: 21s - loss: 0.5323 - accuracy: 0.738 - ETA: 21s - loss: 0.5296 - accuracy: 0.741 - ETA: 21s - loss: 0.5284 - accuracy: 0.743 - ETA: 21s - loss: 0.5284 - accuracy: 0.743 - ETA: 20s - loss: 0.5297 - accuracy: 0.740 - ETA: 20s - loss: 0.5341 - accuracy: 0.737 - ETA: 20s - loss: 0.5352 - accuracy: 0.737 - ETA: 20s - loss: 0.5330 - accuracy: 0.740 - ETA: 20s - loss: 0.5348 - accuracy: 0.739 - ETA: 20s - loss: 0.5329 - accuracy: 0.741 - ETA: 19s - loss: 0.5337 - accuracy: 0.741 - ETA: 19s - loss: 0.5325 - accuracy: 0.741 - ETA: 19s - loss: 0.5313 - accuracy: 0.741 - ETA: 19s - loss: 0.5304 - accuracy: 0.742 - ETA: 19s - loss: 0.5269 - accuracy: 0.744 - ETA: 19s - loss: 0.5250 - accuracy: 0.744 - ETA: 18s - loss: 0.5228 - accuracy: 0.745 - ETA: 18s - loss: 0.5194 - accuracy: 0.748 - ETA: 18s - loss: 0.5173 - accuracy: 0.750 - ETA: 18s - loss: 0.5155 - accuracy: 0.751 - ETA: 18s - loss: 0.5151 - accuracy: 0.751 - ETA: 18s - loss: 0.5162 - accuracy: 0.752 - ETA: 17s - loss: 0.5141 - accuracy: 0.752 - ETA: 17s - loss: 0.5119 - accuracy: 0.755 - ETA: 17s - loss: 0.5127 - accuracy: 0.753 - ETA: 17s - loss: 0.5123 - accuracy: 0.753 - ETA: 17s - loss: 0.5077 - accuracy: 0.756 - ETA: 17s - loss: 0.5074 - accuracy: 0.757 - ETA: 16s - loss: 0.5229 - accuracy: 0.753 - ETA: 16s - loss: 0.5246 - accuracy: 0.752 - ETA: 16s - loss: 0.5271 - accuracy: 0.751 - ETA: 16s - loss: 0.5284 - accuracy: 0.751 - ETA: 16s - loss: 0.5312 - accuracy: 0.750 - ETA: 16s - loss: 0.5298 - accuracy: 0.750 - ETA: 16s - loss: 0.5304 - accuracy: 0.750 - ETA: 15s - loss: 0.5318 - accuracy: 0.748 - ETA: 15s - loss: 0.5323 - accuracy: 0.748 - ETA: 15s - loss: 0.5313 - accuracy: 0.748 - ETA: 15s - loss: 0.5332 - accuracy: 0.747 - ETA: 15s - loss: 0.5331 - accuracy: 0.746 - ETA: 15s - loss: 0.5352 - accuracy: 0.743 - ETA: 14s - loss: 0.5355 - accuracy: 0.744 - ETA: 14s - loss: 0.5348 - accuracy: 0.744 - ETA: 14s - loss: 0.5343 - accuracy: 0.744 - ETA: 14s - loss: 0.5339 - accuracy: 0.743 - ETA: 14s - loss: 0.5374 - accuracy: 0.741 - ETA: 14s - loss: 0.5369 - accuracy: 0.741 - ETA: 13s - loss: 0.5359 - accuracy: 0.741 - ETA: 13s - loss: 0.5356 - accuracy: 0.741 - ETA: 13s - loss: 0.5370 - accuracy: 0.741 - ETA: 13s - loss: 0.5361 - accuracy: 0.741 - ETA: 13s - loss: 0.5370 - accuracy: 0.741 - ETA: 13s - loss: 0.5405 - accuracy: 0.739 - ETA: 12s - loss: 0.5441 - accuracy: 0.736 - ETA: 12s - loss: 0.5435 - accuracy: 0.735 - ETA: 12s - loss: 0.5421 - accuracy: 0.736 - ETA: 12s - loss: 0.5446 - accuracy: 0.734 - ETA: 12s - loss: 0.5484 - accuracy: 0.732 - ETA: 12s - loss: 0.5477 - accuracy: 0.732 - ETA: 11s - loss: 0.5467 - accuracy: 0.732 - ETA: 11s - loss: 0.5468 - accuracy: 0.731 - ETA: 11s - loss: 0.5457 - accuracy: 0.732 - ETA: 11s - loss: 0.5457 - accuracy: 0.733 - ETA: 11s - loss: 0.5462 - accuracy: 0.731 - ETA: 11s - loss: 0.5459 - accuracy: 0.732 - ETA: 10s - loss: 0.5463 - accuracy: 0.732 - ETA: 10s - loss: 0.5471 - accuracy: 0.731 - ETA: 10s - loss: 0.5481 - accuracy: 0.731 - ETA: 10s - loss: 0.5487 - accuracy: 0.730 - ETA: 10s - loss: 0.5493 - accuracy: 0.730 - ETA: 10s - loss: 0.5496 - accuracy: 0.729 - ETA: 9s - loss: 0.5496 - accuracy: 0.729 - ETA: 9s - loss: 0.5502 - accuracy: 0.72 - ETA: 9s - loss: 0.5520 - accuracy: 0.72 - ETA: 9s - loss: 0.5519 - accuracy: 0.72 - ETA: 9s - loss: 0.5506 - accuracy: 0.73 - ETA: 9s - loss: 0.5506 - accuracy: 0.72 - ETA: 8s - loss: 0.5504 - accuracy: 0.72 - ETA: 8s - loss: 0.5514 - accuracy: 0.72 - ETA: 8s - loss: 0.5515 - accuracy: 0.72 - ETA: 8s - loss: 0.5498 - accuracy: 0.72 - ETA: 8s - loss: 0.5489 - accuracy: 0.72 - ETA: 8s - loss: 0.5492 - accuracy: 0.72 - ETA: 7s - loss: 0.5479 - accuracy: 0.72 - ETA: 7s - loss: 0.5457 - accuracy: 0.73 - ETA: 7s - loss: 0.5472 - accuracy: 0.72 - ETA: 7s - loss: 0.5449 - accuracy: 0.73 - ETA: 7s - loss: 0.5445 - accuracy: 0.72 - ETA: 7s - loss: 0.5450 - accuracy: 0.73 - ETA: 6s - loss: 0.5465 - accuracy: 0.72 - ETA: 6s - loss: 0.5449 - accuracy: 0.72 - ETA: 6s - loss: 0.5453 - accuracy: 0.72 - ETA: 6s - loss: 0.5478 - accuracy: 0.72 - ETA: 6s - loss: 0.5466 - accuracy: 0.72 - ETA: 6s - loss: 0.5459 - accuracy: 0.72 - ETA: 5s - loss: 0.5462 - accuracy: 0.72 - ETA: 5s - loss: 0.5456 - accuracy: 0.72 - ETA: 5s - loss: 0.5448 - accuracy: 0.72 - ETA: 5s - loss: 0.5480 - accuracy: 0.72 - ETA: 5s - loss: 0.5483 - accuracy: 0.72 - ETA: 5s - loss: 0.5490 - accuracy: 0.72 - ETA: 4s - loss: 0.5484 - accuracy: 0.72 - ETA: 4s - loss: 0.5486 - accuracy: 0.72 - ETA: 4s - loss: 0.5479 - accuracy: 0.72 - ETA: 4s - loss: 0.5461 - accuracy: 0.72 - ETA: 4s - loss: 0.5455 - accuracy: 0.72 - ETA: 4s - loss: 0.5442 - accuracy: 0.73 - ETA: 3s - loss: 0.5430 - accuracy: 0.73 - ETA: 3s - loss: 0.5433 - accuracy: 0.72 - ETA: 3s - loss: 0.5433 - accuracy: 0.73 - ETA: 3s - loss: 0.5448 - accuracy: 0.72 - ETA: 3s - loss: 0.5441 - accuracy: 0.72 - ETA: 3s - loss: 0.5450 - accuracy: 0.72 - ETA: 2s - loss: 0.5436 - accuracy: 0.73071646/1646 [==============================] - ETA: 2s - loss: 0.5435 - accuracy: 0.73 - ETA: 2s - loss: 0.5418 - accuracy: 0.73 - ETA: 2s - loss: 0.5416 - accuracy: 0.73 - ETA: 2s - loss: 0.5414 - accuracy: 0.73 - ETA: 2s - loss: 0.5408 - accuracy: 0.73 - ETA: 1s - loss: 0.5391 - accuracy: 0.73 - ETA: 1s - loss: 0.5384 - accuracy: 0.73 - ETA: 1s - loss: 0.5379 - accuracy: 0.73 - ETA: 1s - loss: 0.5370 - accuracy: 0.73 - ETA: 1s - loss: 0.5352 - accuracy: 0.73 - ETA: 1s - loss: 0.5348 - accuracy: 0.73 - ETA: 0s - loss: 0.5332 - accuracy: 0.73 - ETA: 0s - loss: 0.5330 - accuracy: 0.73 - ETA: 0s - loss: 0.5334 - accuracy: 0.73 - ETA: 0s - loss: 0.5328 - accuracy: 0.73 - ETA: 0s - loss: 0.5337 - accuracy: 0.73 - ETA: 0s - loss: 0.5332 - accuracy: 0.73 - 35s 21ms/sample - loss: 0.5328 - accuracy: 0.7382\n",
      "Epoch 3/10\n",
      "1504/1646 [==========================>...] - ETA: 32s - loss: 0.3000 - accuracy: 0.875 - ETA: 33s - loss: 0.3447 - accuracy: 0.875 - ETA: 33s - loss: 0.4138 - accuracy: 0.791 - ETA: 32s - loss: 0.4387 - accuracy: 0.750 - ETA: 32s - loss: 0.4485 - accuracy: 0.750 - ETA: 32s - loss: 0.4567 - accuracy: 0.729 - ETA: 32s - loss: 0.6263 - accuracy: 0.732 - ETA: 32s - loss: 0.6197 - accuracy: 0.703 - ETA: 32s - loss: 0.5804 - accuracy: 0.722 - ETA: 32s - loss: 0.5789 - accuracy: 0.712 - ETA: 32s - loss: 0.5560 - accuracy: 0.727 - ETA: 31s - loss: 0.5283 - accuracy: 0.739 - ETA: 31s - loss: 0.5199 - accuracy: 0.740 - ETA: 31s - loss: 0.5442 - accuracy: 0.741 - ETA: 31s - loss: 0.5528 - accuracy: 0.725 - ETA: 31s - loss: 0.5394 - accuracy: 0.734 - ETA: 31s - loss: 0.5202 - accuracy: 0.742 - ETA: 30s - loss: 0.5174 - accuracy: 0.743 - ETA: 30s - loss: 0.5103 - accuracy: 0.750 - ETA: 30s - loss: 0.5085 - accuracy: 0.756 - ETA: 30s - loss: 0.5097 - accuracy: 0.756 - ETA: 30s - loss: 0.4994 - accuracy: 0.767 - ETA: 30s - loss: 0.5068 - accuracy: 0.750 - ETA: 30s - loss: 0.5004 - accuracy: 0.755 - ETA: 29s - loss: 0.5058 - accuracy: 0.755 - ETA: 29s - loss: 0.4979 - accuracy: 0.759 - ETA: 29s - loss: 0.5139 - accuracy: 0.750 - ETA: 29s - loss: 0.5176 - accuracy: 0.750 - ETA: 29s - loss: 0.5129 - accuracy: 0.750 - ETA: 29s - loss: 0.5018 - accuracy: 0.758 - ETA: 28s - loss: 0.4914 - accuracy: 0.766 - ETA: 28s - loss: 0.4820 - accuracy: 0.773 - ETA: 28s - loss: 0.4837 - accuracy: 0.765 - ETA: 28s - loss: 0.4827 - accuracy: 0.764 - ETA: 28s - loss: 0.4809 - accuracy: 0.767 - ETA: 28s - loss: 0.4791 - accuracy: 0.767 - ETA: 27s - loss: 0.4802 - accuracy: 0.763 - ETA: 27s - loss: 0.4732 - accuracy: 0.769 - ETA: 27s - loss: 0.4729 - accuracy: 0.772 - ETA: 27s - loss: 0.4645 - accuracy: 0.775 - ETA: 27s - loss: 0.4790 - accuracy: 0.768 - ETA: 27s - loss: 0.4734 - accuracy: 0.770 - ETA: 26s - loss: 0.4745 - accuracy: 0.770 - ETA: 26s - loss: 0.4890 - accuracy: 0.767 - ETA: 26s - loss: 0.4921 - accuracy: 0.763 - ETA: 26s - loss: 0.4894 - accuracy: 0.763 - ETA: 26s - loss: 0.5016 - accuracy: 0.760 - ETA: 26s - loss: 0.5002 - accuracy: 0.760 - ETA: 25s - loss: 0.5003 - accuracy: 0.760 - ETA: 25s - loss: 0.5091 - accuracy: 0.752 - ETA: 25s - loss: 0.5118 - accuracy: 0.747 - ETA: 25s - loss: 0.5146 - accuracy: 0.740 - ETA: 25s - loss: 0.5136 - accuracy: 0.740 - ETA: 25s - loss: 0.5121 - accuracy: 0.740 - ETA: 24s - loss: 0.5128 - accuracy: 0.740 - ETA: 24s - loss: 0.5121 - accuracy: 0.743 - ETA: 24s - loss: 0.5125 - accuracy: 0.741 - ETA: 24s - loss: 0.5068 - accuracy: 0.745 - ETA: 24s - loss: 0.5028 - accuracy: 0.750 - ETA: 24s - loss: 0.5003 - accuracy: 0.752 - ETA: 24s - loss: 0.4947 - accuracy: 0.756 - ETA: 23s - loss: 0.4940 - accuracy: 0.756 - ETA: 23s - loss: 0.4948 - accuracy: 0.754 - ETA: 23s - loss: 0.4965 - accuracy: 0.753 - ETA: 23s - loss: 0.4980 - accuracy: 0.750 - ETA: 23s - loss: 0.4979 - accuracy: 0.750 - ETA: 23s - loss: 0.4978 - accuracy: 0.751 - ETA: 22s - loss: 0.4960 - accuracy: 0.750 - ETA: 22s - loss: 0.4940 - accuracy: 0.750 - ETA: 22s - loss: 0.4938 - accuracy: 0.748 - ETA: 22s - loss: 0.4911 - accuracy: 0.750 - ETA: 22s - loss: 0.4960 - accuracy: 0.748 - ETA: 22s - loss: 0.4942 - accuracy: 0.748 - ETA: 21s - loss: 0.4998 - accuracy: 0.744 - ETA: 21s - loss: 0.4992 - accuracy: 0.745 - ETA: 21s - loss: 0.4979 - accuracy: 0.746 - ETA: 21s - loss: 0.4973 - accuracy: 0.746 - ETA: 21s - loss: 0.4940 - accuracy: 0.750 - ETA: 21s - loss: 0.4952 - accuracy: 0.750 - ETA: 20s - loss: 0.4979 - accuracy: 0.745 - ETA: 20s - loss: 0.4955 - accuracy: 0.745 - ETA: 20s - loss: 0.4966 - accuracy: 0.745 - ETA: 20s - loss: 0.4955 - accuracy: 0.747 - ETA: 20s - loss: 0.4940 - accuracy: 0.748 - ETA: 20s - loss: 0.4971 - accuracy: 0.747 - ETA: 19s - loss: 0.4971 - accuracy: 0.748 - ETA: 19s - loss: 0.4972 - accuracy: 0.748 - ETA: 19s - loss: 0.5010 - accuracy: 0.748 - ETA: 19s - loss: 0.4999 - accuracy: 0.750 - ETA: 19s - loss: 0.4966 - accuracy: 0.752 - ETA: 19s - loss: 0.4959 - accuracy: 0.752 - ETA: 18s - loss: 0.4937 - accuracy: 0.754 - ETA: 18s - loss: 0.4959 - accuracy: 0.755 - ETA: 18s - loss: 0.4935 - accuracy: 0.756 - ETA: 18s - loss: 0.4920 - accuracy: 0.757 - ETA: 18s - loss: 0.4945 - accuracy: 0.755 - ETA: 18s - loss: 0.4966 - accuracy: 0.756 - ETA: 17s - loss: 0.4962 - accuracy: 0.755 - ETA: 17s - loss: 0.4939 - accuracy: 0.756 - ETA: 17s - loss: 0.4945 - accuracy: 0.755 - ETA: 17s - loss: 0.4923 - accuracy: 0.755 - ETA: 17s - loss: 0.4902 - accuracy: 0.756 - ETA: 17s - loss: 0.4925 - accuracy: 0.754 - ETA: 16s - loss: 0.4911 - accuracy: 0.754 - ETA: 16s - loss: 0.4905 - accuracy: 0.754 - ETA: 16s - loss: 0.4912 - accuracy: 0.754 - ETA: 16s - loss: 0.4935 - accuracy: 0.754 - ETA: 16s - loss: 0.4935 - accuracy: 0.754 - ETA: 16s - loss: 0.4961 - accuracy: 0.752 - ETA: 15s - loss: 0.4960 - accuracy: 0.751 - ETA: 15s - loss: 0.4954 - accuracy: 0.751 - ETA: 15s - loss: 0.4958 - accuracy: 0.751 - ETA: 15s - loss: 0.4966 - accuracy: 0.750 - ETA: 15s - loss: 0.4953 - accuracy: 0.752 - ETA: 15s - loss: 0.4935 - accuracy: 0.754 - ETA: 14s - loss: 0.4920 - accuracy: 0.756 - ETA: 14s - loss: 0.4916 - accuracy: 0.757 - ETA: 14s - loss: 0.4928 - accuracy: 0.756 - ETA: 14s - loss: 0.4922 - accuracy: 0.756 - ETA: 14s - loss: 0.4901 - accuracy: 0.757 - ETA: 14s - loss: 0.4892 - accuracy: 0.758 - ETA: 13s - loss: 0.4910 - accuracy: 0.758 - ETA: 13s - loss: 0.4942 - accuracy: 0.758 - ETA: 13s - loss: 0.4953 - accuracy: 0.756 - ETA: 13s - loss: 0.4973 - accuracy: 0.755 - ETA: 13s - loss: 0.4995 - accuracy: 0.753 - ETA: 13s - loss: 0.4975 - accuracy: 0.753 - ETA: 12s - loss: 0.4957 - accuracy: 0.754 - ETA: 12s - loss: 0.4933 - accuracy: 0.756 - ETA: 12s - loss: 0.4925 - accuracy: 0.756 - ETA: 12s - loss: 0.4946 - accuracy: 0.754 - ETA: 12s - loss: 0.4946 - accuracy: 0.754 - ETA: 12s - loss: 0.4978 - accuracy: 0.754 - ETA: 11s - loss: 0.4984 - accuracy: 0.753 - ETA: 11s - loss: 0.4960 - accuracy: 0.754 - ETA: 11s - loss: 0.4959 - accuracy: 0.755 - ETA: 11s - loss: 0.4953 - accuracy: 0.756 - ETA: 11s - loss: 0.4946 - accuracy: 0.756 - ETA: 11s - loss: 0.4972 - accuracy: 0.754 - ETA: 10s - loss: 0.4960 - accuracy: 0.756 - ETA: 10s - loss: 0.4955 - accuracy: 0.756 - ETA: 10s - loss: 0.4950 - accuracy: 0.757 - ETA: 10s - loss: 0.4977 - accuracy: 0.755 - ETA: 10s - loss: 0.4971 - accuracy: 0.756 - ETA: 10s - loss: 0.4962 - accuracy: 0.757 - ETA: 9s - loss: 0.4966 - accuracy: 0.759 - ETA: 9s - loss: 0.4969 - accuracy: 0.75 - ETA: 9s - loss: 0.4968 - accuracy: 0.76 - ETA: 9s - loss: 0.4957 - accuracy: 0.76 - ETA: 9s - loss: 0.4960 - accuracy: 0.76 - ETA: 9s - loss: 0.4957 - accuracy: 0.76 - ETA: 8s - loss: 0.4939 - accuracy: 0.76 - ETA: 8s - loss: 0.4925 - accuracy: 0.76 - ETA: 8s - loss: 0.4906 - accuracy: 0.76 - ETA: 8s - loss: 0.4921 - accuracy: 0.76 - ETA: 8s - loss: 0.4908 - accuracy: 0.76 - ETA: 8s - loss: 0.4904 - accuracy: 0.76 - ETA: 7s - loss: 0.4924 - accuracy: 0.76 - ETA: 7s - loss: 0.4903 - accuracy: 0.76 - ETA: 7s - loss: 0.4888 - accuracy: 0.76 - ETA: 7s - loss: 0.4902 - accuracy: 0.76 - ETA: 7s - loss: 0.4884 - accuracy: 0.76 - ETA: 7s - loss: 0.4889 - accuracy: 0.76 - ETA: 6s - loss: 0.4919 - accuracy: 0.76 - ETA: 6s - loss: 0.4916 - accuracy: 0.76 - ETA: 6s - loss: 0.4902 - accuracy: 0.76 - ETA: 6s - loss: 0.4904 - accuracy: 0.76 - ETA: 6s - loss: 0.4904 - accuracy: 0.76 - ETA: 6s - loss: 0.4917 - accuracy: 0.76 - ETA: 5s - loss: 0.4900 - accuracy: 0.76 - ETA: 5s - loss: 0.4885 - accuracy: 0.76 - ETA: 5s - loss: 0.4883 - accuracy: 0.76 - ETA: 5s - loss: 0.4896 - accuracy: 0.76 - ETA: 5s - loss: 0.4897 - accuracy: 0.76 - ETA: 5s - loss: 0.4881 - accuracy: 0.76 - ETA: 4s - loss: 0.4884 - accuracy: 0.76 - ETA: 4s - loss: 0.4896 - accuracy: 0.76 - ETA: 4s - loss: 0.4886 - accuracy: 0.76 - ETA: 4s - loss: 0.4868 - accuracy: 0.77 - ETA: 4s - loss: 0.4857 - accuracy: 0.77 - ETA: 4s - loss: 0.4860 - accuracy: 0.77 - ETA: 3s - loss: 0.4849 - accuracy: 0.77 - ETA: 3s - loss: 0.4844 - accuracy: 0.77 - ETA: 3s - loss: 0.4852 - accuracy: 0.77 - ETA: 3s - loss: 0.4845 - accuracy: 0.77 - ETA: 3s - loss: 0.4856 - accuracy: 0.76 - ETA: 3s - loss: 0.4852 - accuracy: 0.76 - ETA: 2s - loss: 0.4871 - accuracy: 0.76931646/1646 [==============================] - ETA: 2s - loss: 0.4866 - accuracy: 0.76 - ETA: 2s - loss: 0.4854 - accuracy: 0.77 - ETA: 2s - loss: 0.4889 - accuracy: 0.76 - ETA: 2s - loss: 0.4880 - accuracy: 0.76 - ETA: 2s - loss: 0.4876 - accuracy: 0.76 - ETA: 1s - loss: 0.4881 - accuracy: 0.76 - ETA: 1s - loss: 0.4892 - accuracy: 0.76 - ETA: 1s - loss: 0.4901 - accuracy: 0.76 - ETA: 1s - loss: 0.4903 - accuracy: 0.76 - ETA: 1s - loss: 0.4900 - accuracy: 0.76 - ETA: 1s - loss: 0.4901 - accuracy: 0.76 - ETA: 0s - loss: 0.4908 - accuracy: 0.76 - ETA: 0s - loss: 0.4922 - accuracy: 0.76 - ETA: 0s - loss: 0.4920 - accuracy: 0.76 - ETA: 0s - loss: 0.4920 - accuracy: 0.76 - ETA: 0s - loss: 0.4919 - accuracy: 0.76 - ETA: 0s - loss: 0.4922 - accuracy: 0.76 - 35s 21ms/sample - loss: 0.4931 - accuracy: 0.7643\n",
      "Epoch 4/10\n",
      "1504/1646 [==========================>...] - ETA: 33s - loss: 0.4361 - accuracy: 0.875 - ETA: 33s - loss: 0.4875 - accuracy: 0.812 - ETA: 33s - loss: 0.4318 - accuracy: 0.833 - ETA: 33s - loss: 0.4341 - accuracy: 0.812 - ETA: 32s - loss: 0.4168 - accuracy: 0.850 - ETA: 32s - loss: 0.4182 - accuracy: 0.833 - ETA: 33s - loss: 0.3861 - accuracy: 0.857 - ETA: 32s - loss: 0.3827 - accuracy: 0.859 - ETA: 32s - loss: 0.4088 - accuracy: 0.847 - ETA: 32s - loss: 0.3994 - accuracy: 0.850 - ETA: 32s - loss: 0.4134 - accuracy: 0.840 - ETA: 32s - loss: 0.4237 - accuracy: 0.812 - ETA: 32s - loss: 0.4113 - accuracy: 0.817 - ETA: 32s - loss: 0.4263 - accuracy: 0.812 - ETA: 31s - loss: 0.4084 - accuracy: 0.825 - ETA: 31s - loss: 0.3960 - accuracy: 0.828 - ETA: 31s - loss: 0.3778 - accuracy: 0.838 - ETA: 31s - loss: 0.3884 - accuracy: 0.833 - ETA: 31s - loss: 0.3752 - accuracy: 0.835 - ETA: 31s - loss: 0.3652 - accuracy: 0.843 - ETA: 30s - loss: 0.3537 - accuracy: 0.851 - ETA: 30s - loss: 0.3508 - accuracy: 0.852 - ETA: 30s - loss: 0.3514 - accuracy: 0.853 - ETA: 30s - loss: 0.3470 - accuracy: 0.854 - ETA: 30s - loss: 0.3629 - accuracy: 0.850 - ETA: 30s - loss: 0.3596 - accuracy: 0.855 - ETA: 29s - loss: 0.3657 - accuracy: 0.851 - ETA: 29s - loss: 0.3562 - accuracy: 0.857 - ETA: 29s - loss: 0.3524 - accuracy: 0.853 - ETA: 29s - loss: 0.3498 - accuracy: 0.854 - ETA: 29s - loss: 0.3489 - accuracy: 0.854 - ETA: 29s - loss: 0.3503 - accuracy: 0.851 - ETA: 28s - loss: 0.3425 - accuracy: 0.856 - ETA: 28s - loss: 0.3430 - accuracy: 0.856 - ETA: 28s - loss: 0.3433 - accuracy: 0.853 - ETA: 28s - loss: 0.3479 - accuracy: 0.854 - ETA: 28s - loss: 0.3575 - accuracy: 0.851 - ETA: 28s - loss: 0.3581 - accuracy: 0.848 - ETA: 27s - loss: 0.3517 - accuracy: 0.852 - ETA: 27s - loss: 0.3472 - accuracy: 0.856 - ETA: 27s - loss: 0.3512 - accuracy: 0.850 - ETA: 27s - loss: 0.3486 - accuracy: 0.851 - ETA: 27s - loss: 0.3476 - accuracy: 0.848 - ETA: 27s - loss: 0.3506 - accuracy: 0.846 - ETA: 26s - loss: 0.3638 - accuracy: 0.838 - ETA: 26s - loss: 0.3685 - accuracy: 0.834 - ETA: 26s - loss: 0.3665 - accuracy: 0.835 - ETA: 26s - loss: 0.3641 - accuracy: 0.835 - ETA: 26s - loss: 0.3593 - accuracy: 0.839 - ETA: 26s - loss: 0.3695 - accuracy: 0.835 - ETA: 25s - loss: 0.3761 - accuracy: 0.830 - ETA: 25s - loss: 0.3790 - accuracy: 0.831 - ETA: 25s - loss: 0.3778 - accuracy: 0.830 - ETA: 25s - loss: 0.3756 - accuracy: 0.831 - ETA: 25s - loss: 0.3781 - accuracy: 0.827 - ETA: 25s - loss: 0.3752 - accuracy: 0.830 - ETA: 24s - loss: 0.3833 - accuracy: 0.824 - ETA: 24s - loss: 0.3805 - accuracy: 0.825 - ETA: 24s - loss: 0.3948 - accuracy: 0.819 - ETA: 24s - loss: 0.3952 - accuracy: 0.818 - ETA: 24s - loss: 0.3946 - accuracy: 0.817 - ETA: 24s - loss: 0.3965 - accuracy: 0.814 - ETA: 23s - loss: 0.3989 - accuracy: 0.811 - ETA: 23s - loss: 0.3974 - accuracy: 0.810 - ETA: 23s - loss: 0.3994 - accuracy: 0.807 - ETA: 23s - loss: 0.3980 - accuracy: 0.810 - ETA: 23s - loss: 0.3985 - accuracy: 0.811 - ETA: 23s - loss: 0.4032 - accuracy: 0.808 - ETA: 22s - loss: 0.4011 - accuracy: 0.809 - ETA: 22s - loss: 0.4025 - accuracy: 0.808 - ETA: 22s - loss: 0.3999 - accuracy: 0.811 - ETA: 22s - loss: 0.3977 - accuracy: 0.812 - ETA: 22s - loss: 0.3949 - accuracy: 0.815 - ETA: 22s - loss: 0.3931 - accuracy: 0.815 - ETA: 21s - loss: 0.3961 - accuracy: 0.813 - ETA: 21s - loss: 0.3951 - accuracy: 0.812 - ETA: 21s - loss: 0.3934 - accuracy: 0.814 - ETA: 21s - loss: 0.3912 - accuracy: 0.815 - ETA: 21s - loss: 0.3981 - accuracy: 0.814 - ETA: 21s - loss: 0.4071 - accuracy: 0.810 - ETA: 20s - loss: 0.4074 - accuracy: 0.810 - ETA: 20s - loss: 0.4110 - accuracy: 0.804 - ETA: 20s - loss: 0.4109 - accuracy: 0.804 - ETA: 20s - loss: 0.4137 - accuracy: 0.802 - ETA: 20s - loss: 0.4134 - accuracy: 0.802 - ETA: 20s - loss: 0.4170 - accuracy: 0.799 - ETA: 19s - loss: 0.4150 - accuracy: 0.801 - ETA: 19s - loss: 0.4134 - accuracy: 0.804 - ETA: 19s - loss: 0.4143 - accuracy: 0.804 - ETA: 19s - loss: 0.4124 - accuracy: 0.806 - ETA: 19s - loss: 0.4125 - accuracy: 0.806 - ETA: 19s - loss: 0.4125 - accuracy: 0.807 - ETA: 18s - loss: 0.4127 - accuracy: 0.806 - ETA: 18s - loss: 0.4143 - accuracy: 0.804 - ETA: 18s - loss: 0.4139 - accuracy: 0.805 - ETA: 18s - loss: 0.4116 - accuracy: 0.807 - ETA: 18s - loss: 0.4108 - accuracy: 0.809 - ETA: 18s - loss: 0.4105 - accuracy: 0.808 - ETA: 17s - loss: 0.4142 - accuracy: 0.808 - ETA: 17s - loss: 0.4113 - accuracy: 0.810 - ETA: 17s - loss: 0.4096 - accuracy: 0.811 - ETA: 17s - loss: 0.4110 - accuracy: 0.808 - ETA: 17s - loss: 0.4104 - accuracy: 0.808 - ETA: 17s - loss: 0.4096 - accuracy: 0.807 - ETA: 16s - loss: 0.4086 - accuracy: 0.807 - ETA: 16s - loss: 0.4088 - accuracy: 0.806 - ETA: 16s - loss: 0.4107 - accuracy: 0.807 - ETA: 16s - loss: 0.4153 - accuracy: 0.802 - ETA: 16s - loss: 0.4157 - accuracy: 0.801 - ETA: 16s - loss: 0.4167 - accuracy: 0.801 - ETA: 15s - loss: 0.4150 - accuracy: 0.801 - ETA: 15s - loss: 0.4144 - accuracy: 0.802 - ETA: 15s - loss: 0.4142 - accuracy: 0.802 - ETA: 15s - loss: 0.4137 - accuracy: 0.802 - ETA: 15s - loss: 0.4128 - accuracy: 0.803 - ETA: 15s - loss: 0.4128 - accuracy: 0.802 - ETA: 14s - loss: 0.4118 - accuracy: 0.802 - ETA: 14s - loss: 0.4117 - accuracy: 0.801 - ETA: 14s - loss: 0.4115 - accuracy: 0.801 - ETA: 14s - loss: 0.4104 - accuracy: 0.802 - ETA: 14s - loss: 0.4091 - accuracy: 0.802 - ETA: 14s - loss: 0.4113 - accuracy: 0.802 - ETA: 13s - loss: 0.4120 - accuracy: 0.801 - ETA: 13s - loss: 0.4112 - accuracy: 0.802 - ETA: 13s - loss: 0.4092 - accuracy: 0.804 - ETA: 13s - loss: 0.4121 - accuracy: 0.803 - ETA: 13s - loss: 0.4141 - accuracy: 0.802 - ETA: 13s - loss: 0.4146 - accuracy: 0.801 - ETA: 12s - loss: 0.4124 - accuracy: 0.803 - ETA: 12s - loss: 0.4128 - accuracy: 0.802 - ETA: 12s - loss: 0.4116 - accuracy: 0.804 - ETA: 12s - loss: 0.4106 - accuracy: 0.804 - ETA: 12s - loss: 0.4118 - accuracy: 0.804 - ETA: 12s - loss: 0.4113 - accuracy: 0.804 - ETA: 11s - loss: 0.4140 - accuracy: 0.802 - ETA: 11s - loss: 0.4196 - accuracy: 0.801 - ETA: 11s - loss: 0.4195 - accuracy: 0.801 - ETA: 11s - loss: 0.4202 - accuracy: 0.799 - ETA: 11s - loss: 0.4250 - accuracy: 0.797 - ETA: 11s - loss: 0.4259 - accuracy: 0.796 - ETA: 10s - loss: 0.4256 - accuracy: 0.797 - ETA: 10s - loss: 0.4260 - accuracy: 0.796 - ETA: 10s - loss: 0.4285 - accuracy: 0.794 - ETA: 10s - loss: 0.4272 - accuracy: 0.796 - ETA: 10s - loss: 0.4266 - accuracy: 0.796 - ETA: 10s - loss: 0.4261 - accuracy: 0.797 - ETA: 9s - loss: 0.4260 - accuracy: 0.798 - ETA: 9s - loss: 0.4252 - accuracy: 0.79 - ETA: 9s - loss: 0.4265 - accuracy: 0.79 - ETA: 9s - loss: 0.4285 - accuracy: 0.79 - ETA: 9s - loss: 0.4267 - accuracy: 0.79 - ETA: 9s - loss: 0.4263 - accuracy: 0.79 - ETA: 8s - loss: 0.4255 - accuracy: 0.79 - ETA: 8s - loss: 0.4267 - accuracy: 0.79 - ETA: 8s - loss: 0.4259 - accuracy: 0.79 - ETA: 8s - loss: 0.4276 - accuracy: 0.79 - ETA: 8s - loss: 0.4311 - accuracy: 0.79 - ETA: 8s - loss: 0.4316 - accuracy: 0.79 - ETA: 7s - loss: 0.4307 - accuracy: 0.79 - ETA: 7s - loss: 0.4310 - accuracy: 0.79 - ETA: 7s - loss: 0.4293 - accuracy: 0.79 - ETA: 7s - loss: 0.4304 - accuracy: 0.79 - ETA: 7s - loss: 0.4304 - accuracy: 0.79 - ETA: 6s - loss: 0.4304 - accuracy: 0.79 - ETA: 6s - loss: 0.4314 - accuracy: 0.79 - ETA: 6s - loss: 0.4310 - accuracy: 0.79 - ETA: 6s - loss: 0.4305 - accuracy: 0.79 - ETA: 6s - loss: 0.4305 - accuracy: 0.79 - ETA: 6s - loss: 0.4300 - accuracy: 0.79 - ETA: 5s - loss: 0.4290 - accuracy: 0.79 - ETA: 5s - loss: 0.4291 - accuracy: 0.79 - ETA: 5s - loss: 0.4286 - accuracy: 0.79 - ETA: 5s - loss: 0.4279 - accuracy: 0.79 - ETA: 5s - loss: 0.4276 - accuracy: 0.79 - ETA: 5s - loss: 0.4276 - accuracy: 0.79 - ETA: 4s - loss: 0.4295 - accuracy: 0.79 - ETA: 4s - loss: 0.4304 - accuracy: 0.79 - ETA: 4s - loss: 0.4295 - accuracy: 0.79 - ETA: 4s - loss: 0.4286 - accuracy: 0.79 - ETA: 4s - loss: 0.4271 - accuracy: 0.79 - ETA: 4s - loss: 0.4257 - accuracy: 0.79 - ETA: 3s - loss: 0.4253 - accuracy: 0.79 - ETA: 3s - loss: 0.4287 - accuracy: 0.79 - ETA: 3s - loss: 0.4285 - accuracy: 0.79 - ETA: 3s - loss: 0.4284 - accuracy: 0.79 - ETA: 3s - loss: 0.4278 - accuracy: 0.79 - ETA: 3s - loss: 0.4271 - accuracy: 0.79 - ETA: 2s - loss: 0.4261 - accuracy: 0.79991646/1646 [==============================] - ETA: 2s - loss: 0.4269 - accuracy: 0.79 - ETA: 2s - loss: 0.4280 - accuracy: 0.79 - ETA: 2s - loss: 0.4306 - accuracy: 0.79 - ETA: 2s - loss: 0.4319 - accuracy: 0.79 - ETA: 2s - loss: 0.4306 - accuracy: 0.79 - ETA: 1s - loss: 0.4310 - accuracy: 0.79 - ETA: 1s - loss: 0.4305 - accuracy: 0.79 - ETA: 1s - loss: 0.4308 - accuracy: 0.79 - ETA: 1s - loss: 0.4303 - accuracy: 0.79 - ETA: 1s - loss: 0.4296 - accuracy: 0.79 - ETA: 1s - loss: 0.4335 - accuracy: 0.79 - ETA: 0s - loss: 0.4326 - accuracy: 0.80 - ETA: 0s - loss: 0.4316 - accuracy: 0.80 - ETA: 0s - loss: 0.4313 - accuracy: 0.80 - ETA: 0s - loss: 0.4300 - accuracy: 0.80 - ETA: 0s - loss: 0.4300 - accuracy: 0.80 - ETA: 0s - loss: 0.4299 - accuracy: 0.80 - 35s 21ms/sample - loss: 0.4315 - accuracy: 0.8013\n",
      "Epoch 5/10\n",
      "1504/1646 [==========================>...] - ETA: 31s - loss: 0.2466 - accuracy: 0.875 - ETA: 33s - loss: 0.2708 - accuracy: 0.875 - ETA: 32s - loss: 0.3179 - accuracy: 0.833 - ETA: 33s - loss: 0.3564 - accuracy: 0.812 - ETA: 33s - loss: 0.4251 - accuracy: 0.775 - ETA: 32s - loss: 0.3915 - accuracy: 0.812 - ETA: 32s - loss: 0.4087 - accuracy: 0.803 - ETA: 32s - loss: 0.3736 - accuracy: 0.828 - ETA: 32s - loss: 0.4142 - accuracy: 0.833 - ETA: 32s - loss: 0.4064 - accuracy: 0.837 - ETA: 32s - loss: 0.4044 - accuracy: 0.829 - ETA: 32s - loss: 0.4068 - accuracy: 0.833 - ETA: 31s - loss: 0.4427 - accuracy: 0.807 - ETA: 31s - loss: 0.4342 - accuracy: 0.812 - ETA: 31s - loss: 0.4501 - accuracy: 0.808 - ETA: 31s - loss: 0.4620 - accuracy: 0.796 - ETA: 31s - loss: 0.4505 - accuracy: 0.801 - ETA: 31s - loss: 0.4558 - accuracy: 0.791 - ETA: 31s - loss: 0.4552 - accuracy: 0.789 - ETA: 31s - loss: 0.4603 - accuracy: 0.793 - ETA: 30s - loss: 0.4763 - accuracy: 0.767 - ETA: 30s - loss: 0.4922 - accuracy: 0.750 - ETA: 30s - loss: 0.4853 - accuracy: 0.755 - ETA: 30s - loss: 0.4763 - accuracy: 0.760 - ETA: 30s - loss: 0.4711 - accuracy: 0.760 - ETA: 30s - loss: 0.4634 - accuracy: 0.759 - ETA: 29s - loss: 0.4586 - accuracy: 0.763 - ETA: 29s - loss: 0.4539 - accuracy: 0.772 - ETA: 29s - loss: 0.4493 - accuracy: 0.771 - ETA: 29s - loss: 0.4443 - accuracy: 0.775 - ETA: 29s - loss: 0.4365 - accuracy: 0.782 - ETA: 29s - loss: 0.4436 - accuracy: 0.777 - ETA: 28s - loss: 0.4483 - accuracy: 0.780 - ETA: 28s - loss: 0.4481 - accuracy: 0.779 - ETA: 28s - loss: 0.4431 - accuracy: 0.785 - ETA: 28s - loss: 0.4342 - accuracy: 0.791 - ETA: 28s - loss: 0.4305 - accuracy: 0.793 - ETA: 28s - loss: 0.4209 - accuracy: 0.799 - ETA: 27s - loss: 0.4152 - accuracy: 0.804 - ETA: 27s - loss: 0.4125 - accuracy: 0.803 - ETA: 27s - loss: 0.4191 - accuracy: 0.798 - ETA: 27s - loss: 0.4152 - accuracy: 0.800 - ETA: 27s - loss: 0.4152 - accuracy: 0.802 - ETA: 27s - loss: 0.4108 - accuracy: 0.806 - ETA: 26s - loss: 0.4067 - accuracy: 0.808 - ETA: 26s - loss: 0.4117 - accuracy: 0.807 - ETA: 26s - loss: 0.4124 - accuracy: 0.803 - ETA: 26s - loss: 0.4138 - accuracy: 0.799 - ETA: 26s - loss: 0.4136 - accuracy: 0.798 - ETA: 26s - loss: 0.4100 - accuracy: 0.800 - ETA: 25s - loss: 0.4084 - accuracy: 0.801 - ETA: 25s - loss: 0.4082 - accuracy: 0.802 - ETA: 25s - loss: 0.4068 - accuracy: 0.801 - ETA: 25s - loss: 0.4123 - accuracy: 0.798 - ETA: 25s - loss: 0.4148 - accuracy: 0.797 - ETA: 25s - loss: 0.4168 - accuracy: 0.796 - ETA: 24s - loss: 0.4210 - accuracy: 0.793 - ETA: 24s - loss: 0.4231 - accuracy: 0.790 - ETA: 24s - loss: 0.4270 - accuracy: 0.788 - ETA: 24s - loss: 0.4243 - accuracy: 0.789 - ETA: 24s - loss: 0.4258 - accuracy: 0.786 - ETA: 24s - loss: 0.4295 - accuracy: 0.784 - ETA: 23s - loss: 0.4343 - accuracy: 0.781 - ETA: 23s - loss: 0.4343 - accuracy: 0.783 - ETA: 23s - loss: 0.4313 - accuracy: 0.784 - ETA: 23s - loss: 0.4288 - accuracy: 0.786 - ETA: 23s - loss: 0.4270 - accuracy: 0.787 - ETA: 23s - loss: 0.4254 - accuracy: 0.788 - ETA: 22s - loss: 0.4213 - accuracy: 0.791 - ETA: 22s - loss: 0.4202 - accuracy: 0.791 - ETA: 22s - loss: 0.4205 - accuracy: 0.790 - ETA: 22s - loss: 0.4228 - accuracy: 0.789 - ETA: 22s - loss: 0.4235 - accuracy: 0.789 - ETA: 21s - loss: 0.4190 - accuracy: 0.792 - ETA: 21s - loss: 0.4209 - accuracy: 0.791 - ETA: 21s - loss: 0.4286 - accuracy: 0.787 - ETA: 21s - loss: 0.4245 - accuracy: 0.790 - ETA: 21s - loss: 0.4255 - accuracy: 0.788 - ETA: 21s - loss: 0.4260 - accuracy: 0.788 - ETA: 20s - loss: 0.4224 - accuracy: 0.790 - ETA: 20s - loss: 0.4221 - accuracy: 0.791 - ETA: 20s - loss: 0.4253 - accuracy: 0.792 - ETA: 20s - loss: 0.4252 - accuracy: 0.792 - ETA: 20s - loss: 0.4215 - accuracy: 0.794 - ETA: 20s - loss: 0.4210 - accuracy: 0.795 - ETA: 20s - loss: 0.4236 - accuracy: 0.795 - ETA: 19s - loss: 0.4195 - accuracy: 0.797 - ETA: 19s - loss: 0.4200 - accuracy: 0.796 - ETA: 19s - loss: 0.4187 - accuracy: 0.797 - ETA: 19s - loss: 0.4167 - accuracy: 0.798 - ETA: 19s - loss: 0.4138 - accuracy: 0.800 - ETA: 19s - loss: 0.4213 - accuracy: 0.798 - ETA: 18s - loss: 0.4222 - accuracy: 0.799 - ETA: 18s - loss: 0.4267 - accuracy: 0.797 - ETA: 18s - loss: 0.4235 - accuracy: 0.800 - ETA: 18s - loss: 0.4282 - accuracy: 0.796 - ETA: 18s - loss: 0.4252 - accuracy: 0.799 - ETA: 18s - loss: 0.4220 - accuracy: 0.801 - ETA: 17s - loss: 0.4218 - accuracy: 0.800 - ETA: 17s - loss: 0.4192 - accuracy: 0.802 - ETA: 17s - loss: 0.4197 - accuracy: 0.802 - ETA: 17s - loss: 0.4182 - accuracy: 0.802 - ETA: 17s - loss: 0.4166 - accuracy: 0.803 - ETA: 17s - loss: 0.4188 - accuracy: 0.801 - ETA: 16s - loss: 0.4196 - accuracy: 0.801 - ETA: 16s - loss: 0.4218 - accuracy: 0.800 - ETA: 16s - loss: 0.4194 - accuracy: 0.802 - ETA: 16s - loss: 0.4202 - accuracy: 0.803 - ETA: 16s - loss: 0.4211 - accuracy: 0.802 - ETA: 16s - loss: 0.4230 - accuracy: 0.801 - ETA: 15s - loss: 0.4253 - accuracy: 0.798 - ETA: 15s - loss: 0.4282 - accuracy: 0.796 - ETA: 15s - loss: 0.4316 - accuracy: 0.795 - ETA: 15s - loss: 0.4324 - accuracy: 0.795 - ETA: 15s - loss: 0.4348 - accuracy: 0.794 - ETA: 15s - loss: 0.4381 - accuracy: 0.792 - ETA: 14s - loss: 0.4393 - accuracy: 0.791 - ETA: 14s - loss: 0.4397 - accuracy: 0.792 - ETA: 14s - loss: 0.4399 - accuracy: 0.793 - ETA: 14s - loss: 0.4419 - accuracy: 0.790 - ETA: 14s - loss: 0.4422 - accuracy: 0.790 - ETA: 13s - loss: 0.4429 - accuracy: 0.788 - ETA: 13s - loss: 0.4442 - accuracy: 0.787 - ETA: 13s - loss: 0.4423 - accuracy: 0.789 - ETA: 13s - loss: 0.4424 - accuracy: 0.790 - ETA: 13s - loss: 0.4426 - accuracy: 0.789 - ETA: 13s - loss: 0.4416 - accuracy: 0.789 - ETA: 12s - loss: 0.4417 - accuracy: 0.789 - ETA: 12s - loss: 0.4400 - accuracy: 0.790 - ETA: 12s - loss: 0.4410 - accuracy: 0.789 - ETA: 12s - loss: 0.4398 - accuracy: 0.790 - ETA: 12s - loss: 0.4402 - accuracy: 0.789 - ETA: 12s - loss: 0.4411 - accuracy: 0.787 - ETA: 11s - loss: 0.4412 - accuracy: 0.786 - ETA: 11s - loss: 0.4411 - accuracy: 0.787 - ETA: 11s - loss: 0.4394 - accuracy: 0.788 - ETA: 11s - loss: 0.4378 - accuracy: 0.789 - ETA: 11s - loss: 0.4373 - accuracy: 0.789 - ETA: 11s - loss: 0.4394 - accuracy: 0.788 - ETA: 10s - loss: 0.4398 - accuracy: 0.788 - ETA: 10s - loss: 0.4382 - accuracy: 0.789 - ETA: 10s - loss: 0.4389 - accuracy: 0.788 - ETA: 10s - loss: 0.4392 - accuracy: 0.788 - ETA: 10s - loss: 0.4383 - accuracy: 0.789 - ETA: 10s - loss: 0.4370 - accuracy: 0.791 - ETA: 9s - loss: 0.4348 - accuracy: 0.792 - ETA: 9s - loss: 0.4347 - accuracy: 0.79 - ETA: 9s - loss: 0.4384 - accuracy: 0.79 - ETA: 9s - loss: 0.4423 - accuracy: 0.79 - ETA: 9s - loss: 0.4404 - accuracy: 0.79 - ETA: 9s - loss: 0.4386 - accuracy: 0.79 - ETA: 8s - loss: 0.4411 - accuracy: 0.79 - ETA: 8s - loss: 0.4422 - accuracy: 0.79 - ETA: 8s - loss: 0.4406 - accuracy: 0.79 - ETA: 8s - loss: 0.4424 - accuracy: 0.79 - ETA: 8s - loss: 0.4437 - accuracy: 0.79 - ETA: 8s - loss: 0.4417 - accuracy: 0.79 - ETA: 7s - loss: 0.4434 - accuracy: 0.79 - ETA: 7s - loss: 0.4436 - accuracy: 0.78 - ETA: 7s - loss: 0.4419 - accuracy: 0.78 - ETA: 7s - loss: 0.4413 - accuracy: 0.79 - ETA: 7s - loss: 0.4414 - accuracy: 0.79 - ETA: 7s - loss: 0.4412 - accuracy: 0.79 - ETA: 6s - loss: 0.4408 - accuracy: 0.79 - ETA: 6s - loss: 0.4405 - accuracy: 0.79 - ETA: 6s - loss: 0.4400 - accuracy: 0.79 - ETA: 6s - loss: 0.4396 - accuracy: 0.79 - ETA: 6s - loss: 0.4400 - accuracy: 0.79 - ETA: 6s - loss: 0.4385 - accuracy: 0.79 - ETA: 5s - loss: 0.4376 - accuracy: 0.79 - ETA: 5s - loss: 0.4378 - accuracy: 0.79 - ETA: 5s - loss: 0.4382 - accuracy: 0.79 - ETA: 5s - loss: 0.4384 - accuracy: 0.79 - ETA: 5s - loss: 0.4372 - accuracy: 0.79 - ETA: 5s - loss: 0.4357 - accuracy: 0.79 - ETA: 4s - loss: 0.4348 - accuracy: 0.79 - ETA: 4s - loss: 0.4339 - accuracy: 0.79 - ETA: 4s - loss: 0.4326 - accuracy: 0.79 - ETA: 4s - loss: 0.4321 - accuracy: 0.79 - ETA: 4s - loss: 0.4323 - accuracy: 0.79 - ETA: 4s - loss: 0.4338 - accuracy: 0.79 - ETA: 3s - loss: 0.4336 - accuracy: 0.79 - ETA: 3s - loss: 0.4320 - accuracy: 0.79 - ETA: 3s - loss: 0.4342 - accuracy: 0.79 - ETA: 3s - loss: 0.4340 - accuracy: 0.79 - ETA: 3s - loss: 0.4324 - accuracy: 0.79 - ETA: 3s - loss: 0.4308 - accuracy: 0.79 - ETA: 2s - loss: 0.4355 - accuracy: 0.79851646/1646 [==============================] - ETA: 2s - loss: 0.4354 - accuracy: 0.79 - ETA: 2s - loss: 0.4344 - accuracy: 0.80 - ETA: 2s - loss: 0.4355 - accuracy: 0.79 - ETA: 2s - loss: 0.4366 - accuracy: 0.79 - ETA: 2s - loss: 0.4353 - accuracy: 0.79 - ETA: 1s - loss: 0.4349 - accuracy: 0.79 - ETA: 1s - loss: 0.4340 - accuracy: 0.79 - ETA: 1s - loss: 0.4331 - accuracy: 0.80 - ETA: 1s - loss: 0.4336 - accuracy: 0.80 - ETA: 1s - loss: 0.4319 - accuracy: 0.80 - ETA: 1s - loss: 0.4326 - accuracy: 0.80 - ETA: 0s - loss: 0.4343 - accuracy: 0.80 - ETA: 0s - loss: 0.4375 - accuracy: 0.79 - ETA: 0s - loss: 0.4369 - accuracy: 0.79 - ETA: 0s - loss: 0.4364 - accuracy: 0.79 - ETA: 0s - loss: 0.4355 - accuracy: 0.79 - ETA: 0s - loss: 0.4355 - accuracy: 0.79 - 34s 21ms/sample - loss: 0.4352 - accuracy: 0.8001\n",
      "Epoch 6/10\n",
      "1504/1646 [==========================>...] - ETA: 34s - loss: 0.3979 - accuracy: 0.875 - ETA: 34s - loss: 0.3883 - accuracy: 0.812 - ETA: 33s - loss: 0.3588 - accuracy: 0.833 - ETA: 33s - loss: 0.3419 - accuracy: 0.875 - ETA: 33s - loss: 0.3816 - accuracy: 0.850 - ETA: 33s - loss: 0.4036 - accuracy: 0.854 - ETA: 33s - loss: 0.3961 - accuracy: 0.839 - ETA: 33s - loss: 0.4619 - accuracy: 0.796 - ETA: 33s - loss: 0.4559 - accuracy: 0.805 - ETA: 32s - loss: 0.4431 - accuracy: 0.812 - ETA: 32s - loss: 0.4156 - accuracy: 0.829 - ETA: 32s - loss: 0.3932 - accuracy: 0.843 - ETA: 32s - loss: 0.3869 - accuracy: 0.846 - ETA: 32s - loss: 0.4037 - accuracy: 0.848 - ETA: 32s - loss: 0.3912 - accuracy: 0.850 - ETA: 31s - loss: 0.4009 - accuracy: 0.843 - ETA: 31s - loss: 0.3994 - accuracy: 0.838 - ETA: 31s - loss: 0.4033 - accuracy: 0.840 - ETA: 31s - loss: 0.3963 - accuracy: 0.842 - ETA: 31s - loss: 0.3897 - accuracy: 0.843 - ETA: 31s - loss: 0.4108 - accuracy: 0.845 - ETA: 30s - loss: 0.4372 - accuracy: 0.840 - ETA: 30s - loss: 0.4578 - accuracy: 0.831 - ETA: 30s - loss: 0.4495 - accuracy: 0.833 - ETA: 30s - loss: 0.4377 - accuracy: 0.840 - ETA: 30s - loss: 0.4283 - accuracy: 0.846 - ETA: 30s - loss: 0.4252 - accuracy: 0.851 - ETA: 29s - loss: 0.4159 - accuracy: 0.857 - ETA: 29s - loss: 0.4130 - accuracy: 0.857 - ETA: 29s - loss: 0.4079 - accuracy: 0.858 - ETA: 29s - loss: 0.4014 - accuracy: 0.858 - ETA: 29s - loss: 0.4039 - accuracy: 0.859 - ETA: 29s - loss: 0.4032 - accuracy: 0.863 - ETA: 28s - loss: 0.3955 - accuracy: 0.867 - ETA: 28s - loss: 0.3935 - accuracy: 0.867 - ETA: 28s - loss: 0.3883 - accuracy: 0.871 - ETA: 28s - loss: 0.3834 - accuracy: 0.871 - ETA: 28s - loss: 0.3853 - accuracy: 0.868 - ETA: 28s - loss: 0.3860 - accuracy: 0.865 - ETA: 27s - loss: 0.3925 - accuracy: 0.862 - ETA: 27s - loss: 0.4010 - accuracy: 0.856 - ETA: 27s - loss: 0.3936 - accuracy: 0.860 - ETA: 27s - loss: 0.3944 - accuracy: 0.857 - ETA: 27s - loss: 0.4043 - accuracy: 0.852 - ETA: 27s - loss: 0.4051 - accuracy: 0.850 - ETA: 26s - loss: 0.4032 - accuracy: 0.853 - ETA: 26s - loss: 0.4028 - accuracy: 0.851 - ETA: 26s - loss: 0.4042 - accuracy: 0.849 - ETA: 26s - loss: 0.4027 - accuracy: 0.852 - ETA: 26s - loss: 0.4016 - accuracy: 0.852 - ETA: 26s - loss: 0.3976 - accuracy: 0.855 - ETA: 25s - loss: 0.3971 - accuracy: 0.853 - ETA: 25s - loss: 0.3958 - accuracy: 0.853 - ETA: 25s - loss: 0.3946 - accuracy: 0.854 - ETA: 25s - loss: 0.3933 - accuracy: 0.852 - ETA: 25s - loss: 0.3962 - accuracy: 0.852 - ETA: 24s - loss: 0.3966 - accuracy: 0.850 - ETA: 24s - loss: 0.3919 - accuracy: 0.853 - ETA: 24s - loss: 0.3875 - accuracy: 0.855 - ETA: 24s - loss: 0.3965 - accuracy: 0.852 - ETA: 24s - loss: 0.3954 - accuracy: 0.852 - ETA: 24s - loss: 0.3996 - accuracy: 0.848 - ETA: 23s - loss: 0.3968 - accuracy: 0.851 - ETA: 23s - loss: 0.3995 - accuracy: 0.847 - ETA: 23s - loss: 0.3961 - accuracy: 0.850 - ETA: 23s - loss: 0.3928 - accuracy: 0.852 - ETA: 23s - loss: 0.3888 - accuracy: 0.854 - ETA: 23s - loss: 0.3918 - accuracy: 0.851 - ETA: 22s - loss: 0.3888 - accuracy: 0.851 - ETA: 22s - loss: 0.3865 - accuracy: 0.853 - ETA: 22s - loss: 0.3943 - accuracy: 0.848 - ETA: 22s - loss: 0.3914 - accuracy: 0.850 - ETA: 22s - loss: 0.3936 - accuracy: 0.847 - ETA: 22s - loss: 0.3922 - accuracy: 0.848 - ETA: 21s - loss: 0.3952 - accuracy: 0.845 - ETA: 21s - loss: 0.3968 - accuracy: 0.843 - ETA: 21s - loss: 0.4003 - accuracy: 0.840 - ETA: 21s - loss: 0.3976 - accuracy: 0.841 - ETA: 21s - loss: 0.4028 - accuracy: 0.838 - ETA: 21s - loss: 0.4052 - accuracy: 0.834 - ETA: 20s - loss: 0.4037 - accuracy: 0.834 - ETA: 20s - loss: 0.4051 - accuracy: 0.833 - ETA: 20s - loss: 0.4045 - accuracy: 0.832 - ETA: 20s - loss: 0.4045 - accuracy: 0.833 - ETA: 20s - loss: 0.4066 - accuracy: 0.830 - ETA: 20s - loss: 0.4054 - accuracy: 0.831 - ETA: 19s - loss: 0.4044 - accuracy: 0.830 - ETA: 19s - loss: 0.4036 - accuracy: 0.831 - ETA: 19s - loss: 0.4017 - accuracy: 0.832 - ETA: 19s - loss: 0.4031 - accuracy: 0.830 - ETA: 19s - loss: 0.4119 - accuracy: 0.828 - ETA: 19s - loss: 0.4126 - accuracy: 0.828 - ETA: 18s - loss: 0.4098 - accuracy: 0.830 - ETA: 18s - loss: 0.4136 - accuracy: 0.829 - ETA: 18s - loss: 0.4130 - accuracy: 0.830 - ETA: 18s - loss: 0.4105 - accuracy: 0.832 - ETA: 18s - loss: 0.4103 - accuracy: 0.831 - ETA: 18s - loss: 0.4123 - accuracy: 0.830 - ETA: 17s - loss: 0.4131 - accuracy: 0.830 - ETA: 17s - loss: 0.4201 - accuracy: 0.828 - ETA: 17s - loss: 0.4224 - accuracy: 0.826 - ETA: 17s - loss: 0.4220 - accuracy: 0.827 - ETA: 17s - loss: 0.4217 - accuracy: 0.827 - ETA: 17s - loss: 0.4255 - accuracy: 0.825 - ETA: 16s - loss: 0.4245 - accuracy: 0.826 - ETA: 16s - loss: 0.4248 - accuracy: 0.826 - ETA: 16s - loss: 0.4255 - accuracy: 0.825 - ETA: 16s - loss: 0.4254 - accuracy: 0.825 - ETA: 16s - loss: 0.4242 - accuracy: 0.825 - ETA: 16s - loss: 0.4228 - accuracy: 0.825 - ETA: 15s - loss: 0.4224 - accuracy: 0.825 - ETA: 15s - loss: 0.4203 - accuracy: 0.827 - ETA: 15s - loss: 0.4205 - accuracy: 0.827 - ETA: 15s - loss: 0.4194 - accuracy: 0.827 - ETA: 15s - loss: 0.4191 - accuracy: 0.827 - ETA: 15s - loss: 0.4167 - accuracy: 0.827 - ETA: 14s - loss: 0.4157 - accuracy: 0.826 - ETA: 14s - loss: 0.4190 - accuracy: 0.825 - ETA: 14s - loss: 0.4179 - accuracy: 0.825 - ETA: 14s - loss: 0.4159 - accuracy: 0.827 - ETA: 14s - loss: 0.4146 - accuracy: 0.828 - ETA: 14s - loss: 0.4136 - accuracy: 0.828 - ETA: 13s - loss: 0.4119 - accuracy: 0.829 - ETA: 13s - loss: 0.4121 - accuracy: 0.829 - ETA: 13s - loss: 0.4128 - accuracy: 0.829 - ETA: 13s - loss: 0.4117 - accuracy: 0.829 - ETA: 13s - loss: 0.4090 - accuracy: 0.830 - ETA: 13s - loss: 0.4084 - accuracy: 0.831 - ETA: 12s - loss: 0.4068 - accuracy: 0.832 - ETA: 12s - loss: 0.4053 - accuracy: 0.832 - ETA: 12s - loss: 0.4089 - accuracy: 0.831 - ETA: 12s - loss: 0.4108 - accuracy: 0.828 - ETA: 12s - loss: 0.4088 - accuracy: 0.829 - ETA: 12s - loss: 0.4095 - accuracy: 0.828 - ETA: 11s - loss: 0.4080 - accuracy: 0.828 - ETA: 11s - loss: 0.4078 - accuracy: 0.828 - ETA: 11s - loss: 0.4064 - accuracy: 0.828 - ETA: 11s - loss: 0.4051 - accuracy: 0.829 - ETA: 11s - loss: 0.4047 - accuracy: 0.829 - ETA: 11s - loss: 0.4046 - accuracy: 0.829 - ETA: 10s - loss: 0.4071 - accuracy: 0.828 - ETA: 10s - loss: 0.4060 - accuracy: 0.828 - ETA: 10s - loss: 0.4043 - accuracy: 0.828 - ETA: 10s - loss: 0.4032 - accuracy: 0.829 - ETA: 10s - loss: 0.4025 - accuracy: 0.829 - ETA: 10s - loss: 0.4041 - accuracy: 0.827 - ETA: 9s - loss: 0.4026 - accuracy: 0.829 - ETA: 9s - loss: 0.4019 - accuracy: 0.82 - ETA: 9s - loss: 0.4007 - accuracy: 0.82 - ETA: 9s - loss: 0.3992 - accuracy: 0.83 - ETA: 9s - loss: 0.3987 - accuracy: 0.82 - ETA: 9s - loss: 0.3995 - accuracy: 0.82 - ETA: 8s - loss: 0.3974 - accuracy: 0.83 - ETA: 8s - loss: 0.3981 - accuracy: 0.83 - ETA: 8s - loss: 0.4010 - accuracy: 0.82 - ETA: 8s - loss: 0.3991 - accuracy: 0.83 - ETA: 8s - loss: 0.3995 - accuracy: 0.82 - ETA: 8s - loss: 0.3982 - accuracy: 0.82 - ETA: 7s - loss: 0.3974 - accuracy: 0.83 - ETA: 7s - loss: 0.4014 - accuracy: 0.82 - ETA: 7s - loss: 0.4016 - accuracy: 0.82 - ETA: 7s - loss: 0.4012 - accuracy: 0.82 - ETA: 7s - loss: 0.4011 - accuracy: 0.82 - ETA: 7s - loss: 0.4014 - accuracy: 0.82 - ETA: 6s - loss: 0.3992 - accuracy: 0.82 - ETA: 6s - loss: 0.3983 - accuracy: 0.82 - ETA: 6s - loss: 0.3970 - accuracy: 0.83 - ETA: 6s - loss: 0.3966 - accuracy: 0.83 - ETA: 6s - loss: 0.3959 - accuracy: 0.83 - ETA: 6s - loss: 0.3960 - accuracy: 0.83 - ETA: 5s - loss: 0.3961 - accuracy: 0.83 - ETA: 5s - loss: 0.3962 - accuracy: 0.83 - ETA: 5s - loss: 0.3969 - accuracy: 0.83 - ETA: 5s - loss: 0.3966 - accuracy: 0.83 - ETA: 5s - loss: 0.3948 - accuracy: 0.83 - ETA: 5s - loss: 0.3946 - accuracy: 0.83 - ETA: 4s - loss: 0.3930 - accuracy: 0.83 - ETA: 4s - loss: 0.3932 - accuracy: 0.83 - ETA: 4s - loss: 0.3922 - accuracy: 0.83 - ETA: 4s - loss: 0.3922 - accuracy: 0.83 - ETA: 4s - loss: 0.3906 - accuracy: 0.83 - ETA: 4s - loss: 0.3931 - accuracy: 0.83 - ETA: 3s - loss: 0.3929 - accuracy: 0.83 - ETA: 3s - loss: 0.3914 - accuracy: 0.83 - ETA: 3s - loss: 0.3914 - accuracy: 0.83 - ETA: 3s - loss: 0.3906 - accuracy: 0.83 - ETA: 3s - loss: 0.3889 - accuracy: 0.83 - ETA: 2s - loss: 0.3879 - accuracy: 0.83581646/1646 [==============================] - ETA: 2s - loss: 0.3893 - accuracy: 0.83 - ETA: 2s - loss: 0.3888 - accuracy: 0.83 - ETA: 2s - loss: 0.3910 - accuracy: 0.83 - ETA: 2s - loss: 0.3918 - accuracy: 0.83 - ETA: 2s - loss: 0.3908 - accuracy: 0.83 - ETA: 1s - loss: 0.3909 - accuracy: 0.83 - ETA: 1s - loss: 0.3904 - accuracy: 0.83 - ETA: 1s - loss: 0.3909 - accuracy: 0.83 - ETA: 1s - loss: 0.3919 - accuracy: 0.83 - ETA: 1s - loss: 0.3907 - accuracy: 0.83 - ETA: 1s - loss: 0.3904 - accuracy: 0.83 - ETA: 0s - loss: 0.3905 - accuracy: 0.83 - ETA: 0s - loss: 0.3890 - accuracy: 0.83 - ETA: 0s - loss: 0.3885 - accuracy: 0.83 - ETA: 0s - loss: 0.3881 - accuracy: 0.83 - ETA: 0s - loss: 0.3913 - accuracy: 0.83 - ETA: 0s - loss: 0.3903 - accuracy: 0.83 - 35s 21ms/sample - loss: 0.3908 - accuracy: 0.8372\n",
      "Epoch 7/10\n",
      "1504/1646 [==========================>...] - ETA: 32s - loss: 0.0785 - accuracy: 1.000 - ETA: 33s - loss: 0.1933 - accuracy: 0.937 - ETA: 33s - loss: 0.2080 - accuracy: 0.958 - ETA: 33s - loss: 0.2761 - accuracy: 0.875 - ETA: 33s - loss: 0.2336 - accuracy: 0.900 - ETA: 33s - loss: 0.2750 - accuracy: 0.895 - ETA: 33s - loss: 0.2583 - accuracy: 0.892 - ETA: 33s - loss: 0.2580 - accuracy: 0.890 - ETA: 33s - loss: 0.2539 - accuracy: 0.888 - ETA: 32s - loss: 0.2873 - accuracy: 0.875 - ETA: 32s - loss: 0.2883 - accuracy: 0.875 - ETA: 32s - loss: 0.2877 - accuracy: 0.875 - ETA: 32s - loss: 0.2863 - accuracy: 0.875 - ETA: 32s - loss: 0.3489 - accuracy: 0.848 - ETA: 32s - loss: 0.3746 - accuracy: 0.833 - ETA: 31s - loss: 0.3651 - accuracy: 0.843 - ETA: 31s - loss: 0.3751 - accuracy: 0.838 - ETA: 31s - loss: 0.3683 - accuracy: 0.840 - ETA: 31s - loss: 0.3677 - accuracy: 0.835 - ETA: 31s - loss: 0.3908 - accuracy: 0.831 - ETA: 31s - loss: 0.3920 - accuracy: 0.833 - ETA: 30s - loss: 0.3792 - accuracy: 0.840 - ETA: 30s - loss: 0.3784 - accuracy: 0.842 - ETA: 30s - loss: 0.3826 - accuracy: 0.833 - ETA: 30s - loss: 0.4027 - accuracy: 0.830 - ETA: 30s - loss: 0.4011 - accuracy: 0.831 - ETA: 30s - loss: 0.4070 - accuracy: 0.828 - ETA: 29s - loss: 0.4017 - accuracy: 0.830 - ETA: 29s - loss: 0.4068 - accuracy: 0.831 - ETA: 29s - loss: 0.4028 - accuracy: 0.833 - ETA: 29s - loss: 0.3987 - accuracy: 0.834 - ETA: 29s - loss: 0.3887 - accuracy: 0.839 - ETA: 29s - loss: 0.3910 - accuracy: 0.837 - ETA: 28s - loss: 0.3892 - accuracy: 0.838 - ETA: 28s - loss: 0.3922 - accuracy: 0.832 - ETA: 28s - loss: 0.3879 - accuracy: 0.833 - ETA: 28s - loss: 0.3822 - accuracy: 0.837 - ETA: 28s - loss: 0.3819 - accuracy: 0.838 - ETA: 28s - loss: 0.3798 - accuracy: 0.839 - ETA: 27s - loss: 0.3779 - accuracy: 0.840 - ETA: 27s - loss: 0.3718 - accuracy: 0.841 - ETA: 27s - loss: 0.3644 - accuracy: 0.845 - ETA: 27s - loss: 0.3624 - accuracy: 0.848 - ETA: 27s - loss: 0.3618 - accuracy: 0.849 - ETA: 27s - loss: 0.3577 - accuracy: 0.850 - ETA: 26s - loss: 0.3603 - accuracy: 0.847 - ETA: 26s - loss: 0.3556 - accuracy: 0.851 - ETA: 26s - loss: 0.3620 - accuracy: 0.849 - ETA: 26s - loss: 0.3562 - accuracy: 0.852 - ETA: 26s - loss: 0.3533 - accuracy: 0.852 - ETA: 26s - loss: 0.3521 - accuracy: 0.852 - ETA: 25s - loss: 0.3607 - accuracy: 0.851 - ETA: 25s - loss: 0.3639 - accuracy: 0.849 - ETA: 25s - loss: 0.3691 - accuracy: 0.844 - ETA: 25s - loss: 0.3725 - accuracy: 0.843 - ETA: 25s - loss: 0.3727 - accuracy: 0.841 - ETA: 25s - loss: 0.3768 - accuracy: 0.837 - ETA: 24s - loss: 0.3728 - accuracy: 0.840 - ETA: 24s - loss: 0.3691 - accuracy: 0.841 - ETA: 24s - loss: 0.3683 - accuracy: 0.841 - ETA: 24s - loss: 0.3667 - accuracy: 0.842 - ETA: 24s - loss: 0.3665 - accuracy: 0.842 - ETA: 24s - loss: 0.3687 - accuracy: 0.841 - ETA: 23s - loss: 0.3675 - accuracy: 0.841 - ETA: 23s - loss: 0.3663 - accuracy: 0.842 - ETA: 23s - loss: 0.3668 - accuracy: 0.842 - ETA: 23s - loss: 0.3656 - accuracy: 0.843 - ETA: 23s - loss: 0.3644 - accuracy: 0.843 - ETA: 23s - loss: 0.3623 - accuracy: 0.846 - ETA: 22s - loss: 0.3623 - accuracy: 0.846 - ETA: 22s - loss: 0.3608 - accuracy: 0.846 - ETA: 22s - loss: 0.3618 - accuracy: 0.847 - ETA: 22s - loss: 0.3611 - accuracy: 0.845 - ETA: 22s - loss: 0.3577 - accuracy: 0.848 - ETA: 22s - loss: 0.3601 - accuracy: 0.848 - ETA: 21s - loss: 0.3584 - accuracy: 0.848 - ETA: 21s - loss: 0.3582 - accuracy: 0.849 - ETA: 21s - loss: 0.3603 - accuracy: 0.847 - ETA: 21s - loss: 0.3573 - accuracy: 0.849 - ETA: 21s - loss: 0.3648 - accuracy: 0.845 - ETA: 20s - loss: 0.3652 - accuracy: 0.845 - ETA: 20s - loss: 0.3682 - accuracy: 0.841 - ETA: 20s - loss: 0.3710 - accuracy: 0.840 - ETA: 20s - loss: 0.3694 - accuracy: 0.840 - ETA: 20s - loss: 0.3708 - accuracy: 0.841 - ETA: 20s - loss: 0.3689 - accuracy: 0.843 - ETA: 19s - loss: 0.3687 - accuracy: 0.842 - ETA: 19s - loss: 0.3684 - accuracy: 0.842 - ETA: 19s - loss: 0.3681 - accuracy: 0.841 - ETA: 19s - loss: 0.3666 - accuracy: 0.843 - ETA: 19s - loss: 0.3669 - accuracy: 0.843 - ETA: 19s - loss: 0.3654 - accuracy: 0.843 - ETA: 18s - loss: 0.3634 - accuracy: 0.845 - ETA: 18s - loss: 0.3630 - accuracy: 0.845 - ETA: 18s - loss: 0.3620 - accuracy: 0.846 - ETA: 18s - loss: 0.3595 - accuracy: 0.847 - ETA: 18s - loss: 0.3571 - accuracy: 0.847 - ETA: 18s - loss: 0.3555 - accuracy: 0.849 - ETA: 17s - loss: 0.3574 - accuracy: 0.849 - ETA: 17s - loss: 0.3623 - accuracy: 0.847 - ETA: 17s - loss: 0.3611 - accuracy: 0.847 - ETA: 17s - loss: 0.3596 - accuracy: 0.848 - ETA: 17s - loss: 0.3581 - accuracy: 0.849 - ETA: 17s - loss: 0.3572 - accuracy: 0.849 - ETA: 16s - loss: 0.3563 - accuracy: 0.850 - ETA: 16s - loss: 0.3591 - accuracy: 0.850 - ETA: 16s - loss: 0.3609 - accuracy: 0.848 - ETA: 16s - loss: 0.3589 - accuracy: 0.849 - ETA: 16s - loss: 0.3582 - accuracy: 0.849 - ETA: 16s - loss: 0.3560 - accuracy: 0.851 - ETA: 15s - loss: 0.3569 - accuracy: 0.850 - ETA: 15s - loss: 0.3563 - accuracy: 0.850 - ETA: 15s - loss: 0.3550 - accuracy: 0.851 - ETA: 15s - loss: 0.3532 - accuracy: 0.853 - ETA: 15s - loss: 0.3529 - accuracy: 0.853 - ETA: 15s - loss: 0.3524 - accuracy: 0.853 - ETA: 14s - loss: 0.3513 - accuracy: 0.853 - ETA: 14s - loss: 0.3519 - accuracy: 0.853 - ETA: 14s - loss: 0.3505 - accuracy: 0.854 - ETA: 14s - loss: 0.3499 - accuracy: 0.854 - ETA: 14s - loss: 0.3476 - accuracy: 0.855 - ETA: 14s - loss: 0.3461 - accuracy: 0.855 - ETA: 13s - loss: 0.3466 - accuracy: 0.854 - ETA: 13s - loss: 0.3451 - accuracy: 0.855 - ETA: 13s - loss: 0.3492 - accuracy: 0.855 - ETA: 13s - loss: 0.3511 - accuracy: 0.854 - ETA: 13s - loss: 0.3508 - accuracy: 0.853 - ETA: 13s - loss: 0.3491 - accuracy: 0.854 - ETA: 12s - loss: 0.3513 - accuracy: 0.853 - ETA: 12s - loss: 0.3521 - accuracy: 0.853 - ETA: 12s - loss: 0.3533 - accuracy: 0.852 - ETA: 12s - loss: 0.3522 - accuracy: 0.852 - ETA: 12s - loss: 0.3512 - accuracy: 0.853 - ETA: 12s - loss: 0.3507 - accuracy: 0.853 - ETA: 11s - loss: 0.3490 - accuracy: 0.854 - ETA: 11s - loss: 0.3487 - accuracy: 0.854 - ETA: 11s - loss: 0.3464 - accuracy: 0.855 - ETA: 11s - loss: 0.3449 - accuracy: 0.856 - ETA: 11s - loss: 0.3437 - accuracy: 0.857 - ETA: 11s - loss: 0.3421 - accuracy: 0.858 - ETA: 10s - loss: 0.3436 - accuracy: 0.858 - ETA: 10s - loss: 0.3480 - accuracy: 0.857 - ETA: 10s - loss: 0.3550 - accuracy: 0.854 - ETA: 10s - loss: 0.3548 - accuracy: 0.854 - ETA: 10s - loss: 0.3574 - accuracy: 0.852 - ETA: 10s - loss: 0.3564 - accuracy: 0.853 - ETA: 9s - loss: 0.3579 - accuracy: 0.853 - ETA: 9s - loss: 0.3573 - accuracy: 0.85 - ETA: 9s - loss: 0.3588 - accuracy: 0.85 - ETA: 9s - loss: 0.3580 - accuracy: 0.85 - ETA: 9s - loss: 0.3575 - accuracy: 0.85 - ETA: 9s - loss: 0.3577 - accuracy: 0.85 - ETA: 8s - loss: 0.3587 - accuracy: 0.85 - ETA: 8s - loss: 0.3585 - accuracy: 0.85 - ETA: 8s - loss: 0.3588 - accuracy: 0.85 - ETA: 8s - loss: 0.3618 - accuracy: 0.85 - ETA: 8s - loss: 0.3612 - accuracy: 0.85 - ETA: 8s - loss: 0.3606 - accuracy: 0.85 - ETA: 7s - loss: 0.3645 - accuracy: 0.85 - ETA: 7s - loss: 0.3652 - accuracy: 0.85 - ETA: 7s - loss: 0.3641 - accuracy: 0.85 - ETA: 7s - loss: 0.3626 - accuracy: 0.85 - ETA: 7s - loss: 0.3638 - accuracy: 0.85 - ETA: 7s - loss: 0.3633 - accuracy: 0.85 - ETA: 6s - loss: 0.3656 - accuracy: 0.85 - ETA: 6s - loss: 0.3648 - accuracy: 0.85 - ETA: 6s - loss: 0.3639 - accuracy: 0.85 - ETA: 6s - loss: 0.3641 - accuracy: 0.85 - ETA: 6s - loss: 0.3628 - accuracy: 0.85 - ETA: 6s - loss: 0.3638 - accuracy: 0.85 - ETA: 5s - loss: 0.3642 - accuracy: 0.85 - ETA: 5s - loss: 0.3626 - accuracy: 0.85 - ETA: 5s - loss: 0.3619 - accuracy: 0.85 - ETA: 5s - loss: 0.3608 - accuracy: 0.85 - ETA: 5s - loss: 0.3638 - accuracy: 0.85 - ETA: 5s - loss: 0.3635 - accuracy: 0.85 - ETA: 4s - loss: 0.3631 - accuracy: 0.85 - ETA: 4s - loss: 0.3622 - accuracy: 0.85 - ETA: 4s - loss: 0.3617 - accuracy: 0.85 - ETA: 4s - loss: 0.3612 - accuracy: 0.85 - ETA: 4s - loss: 0.3615 - accuracy: 0.85 - ETA: 3s - loss: 0.3617 - accuracy: 0.85 - ETA: 3s - loss: 0.3618 - accuracy: 0.85 - ETA: 3s - loss: 0.3620 - accuracy: 0.85 - ETA: 3s - loss: 0.3628 - accuracy: 0.85 - ETA: 3s - loss: 0.3616 - accuracy: 0.85 - ETA: 3s - loss: 0.3617 - accuracy: 0.85 - ETA: 2s - loss: 0.3623 - accuracy: 0.85171646/1646 [==============================] - ETA: 2s - loss: 0.3616 - accuracy: 0.85 - ETA: 2s - loss: 0.3612 - accuracy: 0.85 - ETA: 2s - loss: 0.3597 - accuracy: 0.85 - ETA: 2s - loss: 0.3608 - accuracy: 0.85 - ETA: 2s - loss: 0.3604 - accuracy: 0.85 - ETA: 1s - loss: 0.3590 - accuracy: 0.85 - ETA: 1s - loss: 0.3588 - accuracy: 0.85 - ETA: 1s - loss: 0.3589 - accuracy: 0.85 - ETA: 1s - loss: 0.3587 - accuracy: 0.85 - ETA: 1s - loss: 0.3580 - accuracy: 0.85 - ETA: 1s - loss: 0.3590 - accuracy: 0.85 - ETA: 0s - loss: 0.3598 - accuracy: 0.85 - ETA: 0s - loss: 0.3596 - accuracy: 0.85 - ETA: 0s - loss: 0.3606 - accuracy: 0.85 - ETA: 0s - loss: 0.3606 - accuracy: 0.85 - ETA: 0s - loss: 0.3618 - accuracy: 0.85 - ETA: 0s - loss: 0.3616 - accuracy: 0.85 - 35s 21ms/sample - loss: 0.3664 - accuracy: 0.8493\n",
      "Epoch 8/10\n",
      "1504/1646 [==========================>...] - ETA: 32s - loss: 0.3222 - accuracy: 0.750 - ETA: 32s - loss: 0.4466 - accuracy: 0.687 - ETA: 33s - loss: 0.4527 - accuracy: 0.708 - ETA: 33s - loss: 0.4143 - accuracy: 0.750 - ETA: 33s - loss: 0.3615 - accuracy: 0.775 - ETA: 33s - loss: 0.3286 - accuracy: 0.791 - ETA: 33s - loss: 0.3348 - accuracy: 0.785 - ETA: 33s - loss: 0.3444 - accuracy: 0.781 - ETA: 32s - loss: 0.3323 - accuracy: 0.805 - ETA: 32s - loss: 0.3914 - accuracy: 0.800 - ETA: 32s - loss: 0.3888 - accuracy: 0.806 - ETA: 32s - loss: 0.3789 - accuracy: 0.812 - ETA: 32s - loss: 0.3676 - accuracy: 0.826 - ETA: 32s - loss: 0.3675 - accuracy: 0.821 - ETA: 32s - loss: 0.3589 - accuracy: 0.825 - ETA: 31s - loss: 0.3434 - accuracy: 0.828 - ETA: 31s - loss: 0.3461 - accuracy: 0.823 - ETA: 31s - loss: 0.3376 - accuracy: 0.826 - ETA: 31s - loss: 0.3290 - accuracy: 0.835 - ETA: 31s - loss: 0.3201 - accuracy: 0.843 - ETA: 31s - loss: 0.3100 - accuracy: 0.851 - ETA: 30s - loss: 0.3024 - accuracy: 0.852 - ETA: 30s - loss: 0.2894 - accuracy: 0.858 - ETA: 30s - loss: 0.3165 - accuracy: 0.854 - ETA: 30s - loss: 0.3139 - accuracy: 0.855 - ETA: 30s - loss: 0.3120 - accuracy: 0.855 - ETA: 30s - loss: 0.3026 - accuracy: 0.861 - ETA: 29s - loss: 0.3183 - accuracy: 0.857 - ETA: 29s - loss: 0.3648 - accuracy: 0.853 - ETA: 29s - loss: 0.3571 - accuracy: 0.858 - ETA: 29s - loss: 0.3632 - accuracy: 0.858 - ETA: 29s - loss: 0.3601 - accuracy: 0.859 - ETA: 29s - loss: 0.3535 - accuracy: 0.863 - ETA: 28s - loss: 0.3526 - accuracy: 0.864 - ETA: 28s - loss: 0.3516 - accuracy: 0.864 - ETA: 28s - loss: 0.3534 - accuracy: 0.864 - ETA: 28s - loss: 0.3486 - accuracy: 0.868 - ETA: 28s - loss: 0.3446 - accuracy: 0.868 - ETA: 28s - loss: 0.3611 - accuracy: 0.865 - ETA: 27s - loss: 0.3580 - accuracy: 0.868 - ETA: 27s - loss: 0.3601 - accuracy: 0.862 - ETA: 27s - loss: 0.3674 - accuracy: 0.860 - ETA: 27s - loss: 0.3852 - accuracy: 0.851 - ETA: 27s - loss: 0.3833 - accuracy: 0.849 - ETA: 27s - loss: 0.3800 - accuracy: 0.850 - ETA: 26s - loss: 0.3809 - accuracy: 0.847 - ETA: 26s - loss: 0.3910 - accuracy: 0.843 - ETA: 26s - loss: 0.3926 - accuracy: 0.841 - ETA: 26s - loss: 0.3921 - accuracy: 0.839 - ETA: 26s - loss: 0.3943 - accuracy: 0.835 - ETA: 26s - loss: 0.3921 - accuracy: 0.835 - ETA: 25s - loss: 0.3920 - accuracy: 0.838 - ETA: 25s - loss: 0.3936 - accuracy: 0.839 - ETA: 25s - loss: 0.3956 - accuracy: 0.840 - ETA: 25s - loss: 0.3900 - accuracy: 0.843 - ETA: 25s - loss: 0.3977 - accuracy: 0.841 - ETA: 24s - loss: 0.4000 - accuracy: 0.839 - ETA: 24s - loss: 0.4034 - accuracy: 0.834 - ETA: 24s - loss: 0.3984 - accuracy: 0.836 - ETA: 24s - loss: 0.3966 - accuracy: 0.837 - ETA: 24s - loss: 0.4022 - accuracy: 0.836 - ETA: 24s - loss: 0.4206 - accuracy: 0.832 - ETA: 23s - loss: 0.4217 - accuracy: 0.831 - ETA: 23s - loss: 0.4220 - accuracy: 0.830 - ETA: 23s - loss: 0.4205 - accuracy: 0.830 - ETA: 23s - loss: 0.4178 - accuracy: 0.831 - ETA: 23s - loss: 0.4144 - accuracy: 0.834 - ETA: 23s - loss: 0.4122 - accuracy: 0.834 - ETA: 22s - loss: 0.4099 - accuracy: 0.837 - ETA: 22s - loss: 0.4064 - accuracy: 0.839 - ETA: 22s - loss: 0.4038 - accuracy: 0.839 - ETA: 22s - loss: 0.4021 - accuracy: 0.840 - ETA: 22s - loss: 0.4026 - accuracy: 0.839 - ETA: 22s - loss: 0.3991 - accuracy: 0.841 - ETA: 21s - loss: 0.4052 - accuracy: 0.836 - ETA: 21s - loss: 0.4091 - accuracy: 0.835 - ETA: 21s - loss: 0.4135 - accuracy: 0.832 - ETA: 21s - loss: 0.4141 - accuracy: 0.833 - ETA: 21s - loss: 0.4147 - accuracy: 0.832 - ETA: 21s - loss: 0.4127 - accuracy: 0.832 - ETA: 20s - loss: 0.4101 - accuracy: 0.833 - ETA: 20s - loss: 0.4091 - accuracy: 0.833 - ETA: 20s - loss: 0.4076 - accuracy: 0.834 - ETA: 20s - loss: 0.4067 - accuracy: 0.834 - ETA: 20s - loss: 0.4069 - accuracy: 0.835 - ETA: 20s - loss: 0.4054 - accuracy: 0.835 - ETA: 19s - loss: 0.4034 - accuracy: 0.836 - ETA: 19s - loss: 0.4036 - accuracy: 0.835 - ETA: 19s - loss: 0.4057 - accuracy: 0.835 - ETA: 19s - loss: 0.4030 - accuracy: 0.836 - ETA: 19s - loss: 0.4064 - accuracy: 0.835 - ETA: 19s - loss: 0.4046 - accuracy: 0.835 - ETA: 18s - loss: 0.4016 - accuracy: 0.837 - ETA: 18s - loss: 0.4008 - accuracy: 0.837 - ETA: 18s - loss: 0.3987 - accuracy: 0.839 - ETA: 18s - loss: 0.3994 - accuracy: 0.839 - ETA: 18s - loss: 0.3978 - accuracy: 0.840 - ETA: 18s - loss: 0.3952 - accuracy: 0.841 - ETA: 17s - loss: 0.3933 - accuracy: 0.843 - ETA: 17s - loss: 0.3933 - accuracy: 0.843 - ETA: 17s - loss: 0.3909 - accuracy: 0.845 - ETA: 17s - loss: 0.3915 - accuracy: 0.843 - ETA: 17s - loss: 0.3910 - accuracy: 0.843 - ETA: 17s - loss: 0.3885 - accuracy: 0.845 - ETA: 16s - loss: 0.3870 - accuracy: 0.846 - ETA: 16s - loss: 0.3889 - accuracy: 0.844 - ETA: 16s - loss: 0.3863 - accuracy: 0.845 - ETA: 16s - loss: 0.3857 - accuracy: 0.846 - ETA: 16s - loss: 0.3864 - accuracy: 0.844 - ETA: 16s - loss: 0.3856 - accuracy: 0.844 - ETA: 15s - loss: 0.3845 - accuracy: 0.844 - ETA: 15s - loss: 0.3825 - accuracy: 0.846 - ETA: 15s - loss: 0.3799 - accuracy: 0.847 - ETA: 15s - loss: 0.3793 - accuracy: 0.846 - ETA: 15s - loss: 0.3786 - accuracy: 0.846 - ETA: 15s - loss: 0.3809 - accuracy: 0.845 - ETA: 14s - loss: 0.3814 - accuracy: 0.845 - ETA: 14s - loss: 0.3797 - accuracy: 0.845 - ETA: 14s - loss: 0.3782 - accuracy: 0.845 - ETA: 14s - loss: 0.3783 - accuracy: 0.845 - ETA: 14s - loss: 0.3766 - accuracy: 0.847 - ETA: 14s - loss: 0.3791 - accuracy: 0.846 - ETA: 13s - loss: 0.3779 - accuracy: 0.846 - ETA: 13s - loss: 0.3795 - accuracy: 0.846 - ETA: 13s - loss: 0.3774 - accuracy: 0.847 - ETA: 13s - loss: 0.3756 - accuracy: 0.847 - ETA: 13s - loss: 0.3752 - accuracy: 0.847 - ETA: 13s - loss: 0.3742 - accuracy: 0.847 - ETA: 12s - loss: 0.3731 - accuracy: 0.847 - ETA: 12s - loss: 0.3724 - accuracy: 0.849 - ETA: 12s - loss: 0.3735 - accuracy: 0.849 - ETA: 12s - loss: 0.3741 - accuracy: 0.849 - ETA: 12s - loss: 0.3722 - accuracy: 0.850 - ETA: 12s - loss: 0.3726 - accuracy: 0.847 - ETA: 11s - loss: 0.3745 - accuracy: 0.846 - ETA: 11s - loss: 0.3732 - accuracy: 0.847 - ETA: 11s - loss: 0.3765 - accuracy: 0.844 - ETA: 11s - loss: 0.3768 - accuracy: 0.844 - ETA: 11s - loss: 0.3767 - accuracy: 0.843 - ETA: 11s - loss: 0.3759 - accuracy: 0.843 - ETA: 10s - loss: 0.3743 - accuracy: 0.844 - ETA: 10s - loss: 0.3747 - accuracy: 0.844 - ETA: 10s - loss: 0.3738 - accuracy: 0.844 - ETA: 10s - loss: 0.3725 - accuracy: 0.845 - ETA: 10s - loss: 0.3715 - accuracy: 0.845 - ETA: 10s - loss: 0.3695 - accuracy: 0.846 - ETA: 9s - loss: 0.3687 - accuracy: 0.846 - ETA: 9s - loss: 0.3704 - accuracy: 0.84 - ETA: 9s - loss: 0.3697 - accuracy: 0.84 - ETA: 9s - loss: 0.3676 - accuracy: 0.84 - ETA: 9s - loss: 0.3664 - accuracy: 0.84 - ETA: 9s - loss: 0.3699 - accuracy: 0.84 - ETA: 8s - loss: 0.3738 - accuracy: 0.84 - ETA: 8s - loss: 0.3733 - accuracy: 0.84 - ETA: 8s - loss: 0.3733 - accuracy: 0.84 - ETA: 8s - loss: 0.3728 - accuracy: 0.84 - ETA: 8s - loss: 0.3724 - accuracy: 0.84 - ETA: 8s - loss: 0.3707 - accuracy: 0.84 - ETA: 7s - loss: 0.3713 - accuracy: 0.84 - ETA: 7s - loss: 0.3699 - accuracy: 0.84 - ETA: 7s - loss: 0.3725 - accuracy: 0.84 - ETA: 7s - loss: 0.3725 - accuracy: 0.84 - ETA: 7s - loss: 0.3725 - accuracy: 0.84 - ETA: 7s - loss: 0.3711 - accuracy: 0.84 - ETA: 6s - loss: 0.3707 - accuracy: 0.84 - ETA: 6s - loss: 0.3710 - accuracy: 0.84 - ETA: 6s - loss: 0.3696 - accuracy: 0.84 - ETA: 6s - loss: 0.3713 - accuracy: 0.84 - ETA: 6s - loss: 0.3701 - accuracy: 0.84 - ETA: 6s - loss: 0.3704 - accuracy: 0.84 - ETA: 5s - loss: 0.3690 - accuracy: 0.84 - ETA: 5s - loss: 0.3679 - accuracy: 0.84 - ETA: 5s - loss: 0.3669 - accuracy: 0.84 - ETA: 5s - loss: 0.3700 - accuracy: 0.84 - ETA: 5s - loss: 0.3685 - accuracy: 0.84 - ETA: 5s - loss: 0.3678 - accuracy: 0.84 - ETA: 4s - loss: 0.3671 - accuracy: 0.84 - ETA: 4s - loss: 0.3666 - accuracy: 0.84 - ETA: 4s - loss: 0.3670 - accuracy: 0.84 - ETA: 4s - loss: 0.3655 - accuracy: 0.84 - ETA: 4s - loss: 0.3644 - accuracy: 0.84 - ETA: 3s - loss: 0.3628 - accuracy: 0.84 - ETA: 3s - loss: 0.3625 - accuracy: 0.84 - ETA: 3s - loss: 0.3617 - accuracy: 0.84 - ETA: 3s - loss: 0.3615 - accuracy: 0.84 - ETA: 3s - loss: 0.3617 - accuracy: 0.84 - ETA: 3s - loss: 0.3607 - accuracy: 0.84 - ETA: 2s - loss: 0.3613 - accuracy: 0.84771646/1646 [==============================] - ETA: 2s - loss: 0.3633 - accuracy: 0.84 - ETA: 2s - loss: 0.3620 - accuracy: 0.84 - ETA: 2s - loss: 0.3642 - accuracy: 0.84 - ETA: 2s - loss: 0.3659 - accuracy: 0.84 - ETA: 2s - loss: 0.3642 - accuracy: 0.84 - ETA: 1s - loss: 0.3638 - accuracy: 0.84 - ETA: 1s - loss: 0.3641 - accuracy: 0.84 - ETA: 1s - loss: 0.3643 - accuracy: 0.84 - ETA: 1s - loss: 0.3636 - accuracy: 0.84 - ETA: 1s - loss: 0.3636 - accuracy: 0.84 - ETA: 1s - loss: 0.3653 - accuracy: 0.84 - ETA: 0s - loss: 0.3641 - accuracy: 0.84 - ETA: 0s - loss: 0.3672 - accuracy: 0.84 - ETA: 0s - loss: 0.3675 - accuracy: 0.84 - ETA: 0s - loss: 0.3694 - accuracy: 0.84 - ETA: 0s - loss: 0.3766 - accuracy: 0.83 - ETA: 0s - loss: 0.3777 - accuracy: 0.83 - 35s 21ms/sample - loss: 0.3771 - accuracy: 0.8384\n",
      "Epoch 9/10\n",
      "1504/1646 [==========================>...] - ETA: 33s - loss: 0.4375 - accuracy: 1.000 - ETA: 33s - loss: 0.3138 - accuracy: 1.000 - ETA: 33s - loss: 0.3450 - accuracy: 0.875 - ETA: 33s - loss: 0.3081 - accuracy: 0.906 - ETA: 33s - loss: 0.2555 - accuracy: 0.925 - ETA: 33s - loss: 0.2355 - accuracy: 0.937 - ETA: 33s - loss: 0.2408 - accuracy: 0.928 - ETA: 33s - loss: 0.2317 - accuracy: 0.921 - ETA: 33s - loss: 0.2527 - accuracy: 0.902 - ETA: 32s - loss: 0.2381 - accuracy: 0.912 - ETA: 32s - loss: 0.3613 - accuracy: 0.886 - ETA: 32s - loss: 0.4241 - accuracy: 0.843 - ETA: 32s - loss: 0.4092 - accuracy: 0.846 - ETA: 32s - loss: 0.3944 - accuracy: 0.857 - ETA: 32s - loss: 0.3943 - accuracy: 0.850 - ETA: 31s - loss: 0.3745 - accuracy: 0.859 - ETA: 31s - loss: 0.3654 - accuracy: 0.860 - ETA: 31s - loss: 0.3545 - accuracy: 0.868 - ETA: 31s - loss: 0.3576 - accuracy: 0.868 - ETA: 31s - loss: 0.3536 - accuracy: 0.868 - ETA: 31s - loss: 0.3456 - accuracy: 0.869 - ETA: 30s - loss: 0.3418 - accuracy: 0.869 - ETA: 30s - loss: 0.3489 - accuracy: 0.864 - ETA: 30s - loss: 0.3462 - accuracy: 0.864 - ETA: 30s - loss: 0.3521 - accuracy: 0.860 - ETA: 30s - loss: 0.3513 - accuracy: 0.860 - ETA: 30s - loss: 0.3585 - accuracy: 0.856 - ETA: 29s - loss: 0.3521 - accuracy: 0.861 - ETA: 29s - loss: 0.3417 - accuracy: 0.866 - ETA: 29s - loss: 0.3389 - accuracy: 0.866 - ETA: 29s - loss: 0.3372 - accuracy: 0.866 - ETA: 29s - loss: 0.3330 - accuracy: 0.867 - ETA: 29s - loss: 0.3434 - accuracy: 0.863 - ETA: 28s - loss: 0.3448 - accuracy: 0.860 - ETA: 28s - loss: 0.3397 - accuracy: 0.860 - ETA: 28s - loss: 0.3397 - accuracy: 0.861 - ETA: 28s - loss: 0.3325 - accuracy: 0.864 - ETA: 28s - loss: 0.3332 - accuracy: 0.858 - ETA: 28s - loss: 0.3320 - accuracy: 0.859 - ETA: 28s - loss: 0.3240 - accuracy: 0.862 - ETA: 27s - loss: 0.3166 - accuracy: 0.865 - ETA: 27s - loss: 0.3201 - accuracy: 0.863 - ETA: 27s - loss: 0.3157 - accuracy: 0.866 - ETA: 27s - loss: 0.3120 - accuracy: 0.866 - ETA: 27s - loss: 0.3167 - accuracy: 0.866 - ETA: 26s - loss: 0.3105 - accuracy: 0.869 - ETA: 26s - loss: 0.3149 - accuracy: 0.867 - ETA: 26s - loss: 0.3170 - accuracy: 0.867 - ETA: 26s - loss: 0.3227 - accuracy: 0.864 - ETA: 26s - loss: 0.3196 - accuracy: 0.867 - ETA: 26s - loss: 0.3175 - accuracy: 0.870 - ETA: 25s - loss: 0.3147 - accuracy: 0.872 - ETA: 25s - loss: 0.3108 - accuracy: 0.872 - ETA: 25s - loss: 0.3080 - accuracy: 0.875 - ETA: 25s - loss: 0.3125 - accuracy: 0.870 - ETA: 25s - loss: 0.3097 - accuracy: 0.870 - ETA: 25s - loss: 0.3087 - accuracy: 0.870 - ETA: 24s - loss: 0.3102 - accuracy: 0.868 - ETA: 24s - loss: 0.3129 - accuracy: 0.866 - ETA: 24s - loss: 0.3093 - accuracy: 0.868 - ETA: 24s - loss: 0.3077 - accuracy: 0.868 - ETA: 24s - loss: 0.3094 - accuracy: 0.866 - ETA: 24s - loss: 0.3141 - accuracy: 0.865 - ETA: 23s - loss: 0.3172 - accuracy: 0.863 - ETA: 23s - loss: 0.3160 - accuracy: 0.863 - ETA: 23s - loss: 0.3146 - accuracy: 0.863 - ETA: 23s - loss: 0.3174 - accuracy: 0.863 - ETA: 23s - loss: 0.3183 - accuracy: 0.860 - ETA: 23s - loss: 0.3203 - accuracy: 0.858 - ETA: 22s - loss: 0.3184 - accuracy: 0.858 - ETA: 22s - loss: 0.3223 - accuracy: 0.855 - ETA: 22s - loss: 0.3207 - accuracy: 0.855 - ETA: 22s - loss: 0.3218 - accuracy: 0.852 - ETA: 22s - loss: 0.3279 - accuracy: 0.849 - ETA: 22s - loss: 0.3282 - accuracy: 0.850 - ETA: 21s - loss: 0.3320 - accuracy: 0.847 - ETA: 21s - loss: 0.3364 - accuracy: 0.845 - ETA: 21s - loss: 0.3382 - accuracy: 0.844 - ETA: 21s - loss: 0.3377 - accuracy: 0.844 - ETA: 21s - loss: 0.3394 - accuracy: 0.845 - ETA: 21s - loss: 0.3412 - accuracy: 0.842 - ETA: 20s - loss: 0.3439 - accuracy: 0.839 - ETA: 20s - loss: 0.3412 - accuracy: 0.841 - ETA: 20s - loss: 0.3395 - accuracy: 0.843 - ETA: 20s - loss: 0.3388 - accuracy: 0.844 - ETA: 20s - loss: 0.3374 - accuracy: 0.844 - ETA: 20s - loss: 0.3344 - accuracy: 0.846 - ETA: 19s - loss: 0.3332 - accuracy: 0.848 - ETA: 19s - loss: 0.3314 - accuracy: 0.848 - ETA: 19s - loss: 0.3288 - accuracy: 0.850 - ETA: 19s - loss: 0.3278 - accuracy: 0.851 - ETA: 19s - loss: 0.3274 - accuracy: 0.851 - ETA: 19s - loss: 0.3285 - accuracy: 0.852 - ETA: 18s - loss: 0.3298 - accuracy: 0.851 - ETA: 18s - loss: 0.3298 - accuracy: 0.851 - ETA: 18s - loss: 0.3266 - accuracy: 0.852 - ETA: 18s - loss: 0.3236 - accuracy: 0.854 - ETA: 18s - loss: 0.3206 - accuracy: 0.855 - ETA: 18s - loss: 0.3197 - accuracy: 0.856 - ETA: 17s - loss: 0.3181 - accuracy: 0.856 - ETA: 17s - loss: 0.3170 - accuracy: 0.856 - ETA: 17s - loss: 0.3149 - accuracy: 0.857 - ETA: 17s - loss: 0.3189 - accuracy: 0.855 - ETA: 17s - loss: 0.3213 - accuracy: 0.855 - ETA: 17s - loss: 0.3198 - accuracy: 0.856 - ETA: 16s - loss: 0.3214 - accuracy: 0.853 - ETA: 16s - loss: 0.3190 - accuracy: 0.855 - ETA: 16s - loss: 0.3262 - accuracy: 0.854 - ETA: 16s - loss: 0.3238 - accuracy: 0.855 - ETA: 16s - loss: 0.3224 - accuracy: 0.855 - ETA: 15s - loss: 0.3229 - accuracy: 0.855 - ETA: 15s - loss: 0.3230 - accuracy: 0.856 - ETA: 15s - loss: 0.3236 - accuracy: 0.856 - ETA: 15s - loss: 0.3246 - accuracy: 0.856 - ETA: 15s - loss: 0.3243 - accuracy: 0.856 - ETA: 15s - loss: 0.3272 - accuracy: 0.855 - ETA: 14s - loss: 0.3250 - accuracy: 0.856 - ETA: 14s - loss: 0.3248 - accuracy: 0.857 - ETA: 14s - loss: 0.3252 - accuracy: 0.856 - ETA: 14s - loss: 0.3290 - accuracy: 0.854 - ETA: 14s - loss: 0.3292 - accuracy: 0.854 - ETA: 14s - loss: 0.3303 - accuracy: 0.852 - ETA: 13s - loss: 0.3310 - accuracy: 0.851 - ETA: 13s - loss: 0.3313 - accuracy: 0.850 - ETA: 13s - loss: 0.3307 - accuracy: 0.852 - ETA: 13s - loss: 0.3292 - accuracy: 0.853 - ETA: 13s - loss: 0.3305 - accuracy: 0.852 - ETA: 13s - loss: 0.3305 - accuracy: 0.852 - ETA: 12s - loss: 0.3297 - accuracy: 0.853 - ETA: 12s - loss: 0.3323 - accuracy: 0.853 - ETA: 12s - loss: 0.3318 - accuracy: 0.854 - ETA: 12s - loss: 0.3310 - accuracy: 0.854 - ETA: 12s - loss: 0.3309 - accuracy: 0.853 - ETA: 12s - loss: 0.3293 - accuracy: 0.854 - ETA: 11s - loss: 0.3301 - accuracy: 0.853 - ETA: 11s - loss: 0.3320 - accuracy: 0.852 - ETA: 11s - loss: 0.3352 - accuracy: 0.851 - ETA: 11s - loss: 0.3343 - accuracy: 0.850 - ETA: 11s - loss: 0.3353 - accuracy: 0.848 - ETA: 11s - loss: 0.3343 - accuracy: 0.849 - ETA: 10s - loss: 0.3336 - accuracy: 0.849 - ETA: 10s - loss: 0.3350 - accuracy: 0.848 - ETA: 10s - loss: 0.3333 - accuracy: 0.849 - ETA: 10s - loss: 0.3328 - accuracy: 0.849 - ETA: 10s - loss: 0.3326 - accuracy: 0.850 - ETA: 10s - loss: 0.3322 - accuracy: 0.851 - ETA: 9s - loss: 0.3321 - accuracy: 0.851 - ETA: 9s - loss: 0.3350 - accuracy: 0.84 - ETA: 9s - loss: 0.3347 - accuracy: 0.84 - ETA: 9s - loss: 0.3349 - accuracy: 0.84 - ETA: 9s - loss: 0.3328 - accuracy: 0.85 - ETA: 9s - loss: 0.3316 - accuracy: 0.85 - ETA: 8s - loss: 0.3305 - accuracy: 0.85 - ETA: 8s - loss: 0.3285 - accuracy: 0.85 - ETA: 8s - loss: 0.3269 - accuracy: 0.85 - ETA: 8s - loss: 0.3281 - accuracy: 0.85 - ETA: 8s - loss: 0.3266 - accuracy: 0.85 - ETA: 8s - loss: 0.3255 - accuracy: 0.85 - ETA: 7s - loss: 0.3252 - accuracy: 0.85 - ETA: 7s - loss: 0.3287 - accuracy: 0.85 - ETA: 7s - loss: 0.3275 - accuracy: 0.85 - ETA: 7s - loss: 0.3259 - accuracy: 0.85 - ETA: 7s - loss: 0.3247 - accuracy: 0.85 - ETA: 7s - loss: 0.3257 - accuracy: 0.85 - ETA: 6s - loss: 0.3258 - accuracy: 0.85 - ETA: 6s - loss: 0.3261 - accuracy: 0.85 - ETA: 6s - loss: 0.3322 - accuracy: 0.85 - ETA: 6s - loss: 0.3324 - accuracy: 0.85 - ETA: 6s - loss: 0.3330 - accuracy: 0.85 - ETA: 6s - loss: 0.3354 - accuracy: 0.85 - ETA: 5s - loss: 0.3368 - accuracy: 0.85 - ETA: 5s - loss: 0.3405 - accuracy: 0.85 - ETA: 5s - loss: 0.3425 - accuracy: 0.84 - ETA: 5s - loss: 0.3417 - accuracy: 0.84 - ETA: 5s - loss: 0.3411 - accuracy: 0.85 - ETA: 5s - loss: 0.3423 - accuracy: 0.84 - ETA: 4s - loss: 0.3410 - accuracy: 0.85 - ETA: 4s - loss: 0.3413 - accuracy: 0.85 - ETA: 4s - loss: 0.3421 - accuracy: 0.84 - ETA: 4s - loss: 0.3420 - accuracy: 0.85 - ETA: 4s - loss: 0.3409 - accuracy: 0.85 - ETA: 4s - loss: 0.3414 - accuracy: 0.85 - ETA: 3s - loss: 0.3420 - accuracy: 0.84 - ETA: 3s - loss: 0.3417 - accuracy: 0.84 - ETA: 3s - loss: 0.3413 - accuracy: 0.85 - ETA: 3s - loss: 0.3410 - accuracy: 0.85 - ETA: 3s - loss: 0.3400 - accuracy: 0.85 - ETA: 3s - loss: 0.3408 - accuracy: 0.85111646/1646 [==============================] - ETA: 2s - loss: 0.3465 - accuracy: 0.85 - ETA: 2s - loss: 0.3455 - accuracy: 0.85 - ETA: 2s - loss: 0.3453 - accuracy: 0.85 - ETA: 2s - loss: 0.3446 - accuracy: 0.85 - ETA: 2s - loss: 0.3439 - accuracy: 0.85 - ETA: 1s - loss: 0.3434 - accuracy: 0.85 - ETA: 1s - loss: 0.3442 - accuracy: 0.85 - ETA: 1s - loss: 0.3433 - accuracy: 0.85 - ETA: 1s - loss: 0.3435 - accuracy: 0.85 - ETA: 1s - loss: 0.3427 - accuracy: 0.85 - ETA: 1s - loss: 0.3433 - accuracy: 0.85 - ETA: 0s - loss: 0.3442 - accuracy: 0.85 - ETA: 0s - loss: 0.3462 - accuracy: 0.85 - ETA: 0s - loss: 0.3454 - accuracy: 0.85 - ETA: 0s - loss: 0.3467 - accuracy: 0.85 - ETA: 0s - loss: 0.3465 - accuracy: 0.85 - ETA: 0s - loss: 0.3484 - accuracy: 0.85 - 35s 21ms/sample - loss: 0.3481 - accuracy: 0.8505\n",
      "Epoch 10/10\n",
      "1504/1646 [==========================>...] - ETA: 34s - loss: 0.2830 - accuracy: 0.750 - ETA: 33s - loss: 0.2556 - accuracy: 0.812 - ETA: 33s - loss: 0.1815 - accuracy: 0.875 - ETA: 33s - loss: 0.2320 - accuracy: 0.843 - ETA: 33s - loss: 0.2176 - accuracy: 0.875 - ETA: 33s - loss: 0.2108 - accuracy: 0.875 - ETA: 33s - loss: 0.1965 - accuracy: 0.892 - ETA: 32s - loss: 0.1847 - accuracy: 0.906 - ETA: 32s - loss: 0.2165 - accuracy: 0.888 - ETA: 32s - loss: 0.2029 - accuracy: 0.900 - ETA: 32s - loss: 0.2166 - accuracy: 0.897 - ETA: 32s - loss: 0.2493 - accuracy: 0.885 - ETA: 32s - loss: 0.2499 - accuracy: 0.884 - ETA: 32s - loss: 0.2329 - accuracy: 0.892 - ETA: 32s - loss: 0.2385 - accuracy: 0.900 - ETA: 31s - loss: 0.2357 - accuracy: 0.906 - ETA: 31s - loss: 0.2408 - accuracy: 0.889 - ETA: 31s - loss: 0.2500 - accuracy: 0.875 - ETA: 31s - loss: 0.2745 - accuracy: 0.868 - ETA: 31s - loss: 0.2671 - accuracy: 0.868 - ETA: 31s - loss: 0.2572 - accuracy: 0.875 - ETA: 30s - loss: 0.2504 - accuracy: 0.880 - ETA: 30s - loss: 0.2437 - accuracy: 0.885 - ETA: 30s - loss: 0.2442 - accuracy: 0.885 - ETA: 30s - loss: 0.2398 - accuracy: 0.890 - ETA: 30s - loss: 0.2323 - accuracy: 0.894 - ETA: 30s - loss: 0.2259 - accuracy: 0.898 - ETA: 29s - loss: 0.2285 - accuracy: 0.897 - ETA: 29s - loss: 0.2238 - accuracy: 0.900 - ETA: 29s - loss: 0.2292 - accuracy: 0.900 - ETA: 29s - loss: 0.2348 - accuracy: 0.899 - ETA: 29s - loss: 0.2328 - accuracy: 0.898 - ETA: 29s - loss: 0.2355 - accuracy: 0.897 - ETA: 28s - loss: 0.2299 - accuracy: 0.900 - ETA: 28s - loss: 0.2340 - accuracy: 0.900 - ETA: 28s - loss: 0.2304 - accuracy: 0.902 - ETA: 28s - loss: 0.2270 - accuracy: 0.905 - ETA: 28s - loss: 0.2477 - accuracy: 0.894 - ETA: 28s - loss: 0.2479 - accuracy: 0.894 - ETA: 27s - loss: 0.2541 - accuracy: 0.893 - ETA: 27s - loss: 0.2576 - accuracy: 0.887 - ETA: 27s - loss: 0.2593 - accuracy: 0.883 - ETA: 27s - loss: 0.2634 - accuracy: 0.880 - ETA: 27s - loss: 0.2662 - accuracy: 0.877 - ETA: 27s - loss: 0.2638 - accuracy: 0.877 - ETA: 26s - loss: 0.2846 - accuracy: 0.866 - ETA: 26s - loss: 0.2840 - accuracy: 0.869 - ETA: 26s - loss: 0.2914 - accuracy: 0.867 - ETA: 26s - loss: 0.2899 - accuracy: 0.867 - ETA: 26s - loss: 0.2874 - accuracy: 0.870 - ETA: 26s - loss: 0.2851 - accuracy: 0.870 - ETA: 25s - loss: 0.2862 - accuracy: 0.867 - ETA: 25s - loss: 0.2869 - accuracy: 0.867 - ETA: 25s - loss: 0.2861 - accuracy: 0.868 - ETA: 25s - loss: 0.2855 - accuracy: 0.868 - ETA: 25s - loss: 0.2833 - accuracy: 0.868 - ETA: 25s - loss: 0.2908 - accuracy: 0.864 - ETA: 24s - loss: 0.2871 - accuracy: 0.866 - ETA: 24s - loss: 0.2852 - accuracy: 0.866 - ETA: 24s - loss: 0.2888 - accuracy: 0.866 - ETA: 24s - loss: 0.2871 - accuracy: 0.868 - ETA: 24s - loss: 0.2875 - accuracy: 0.869 - ETA: 24s - loss: 0.2843 - accuracy: 0.871 - ETA: 23s - loss: 0.2820 - accuracy: 0.873 - ETA: 23s - loss: 0.2829 - accuracy: 0.871 - ETA: 23s - loss: 0.2835 - accuracy: 0.871 - ETA: 23s - loss: 0.2826 - accuracy: 0.871 - ETA: 23s - loss: 0.2802 - accuracy: 0.873 - ETA: 23s - loss: 0.2818 - accuracy: 0.873 - ETA: 22s - loss: 0.2809 - accuracy: 0.875 - ETA: 22s - loss: 0.2775 - accuracy: 0.876 - ETA: 22s - loss: 0.2757 - accuracy: 0.878 - ETA: 22s - loss: 0.2764 - accuracy: 0.878 - ETA: 22s - loss: 0.2781 - accuracy: 0.876 - ETA: 22s - loss: 0.2775 - accuracy: 0.876 - ETA: 21s - loss: 0.2776 - accuracy: 0.876 - ETA: 21s - loss: 0.2763 - accuracy: 0.878 - ETA: 21s - loss: 0.2783 - accuracy: 0.875 - ETA: 21s - loss: 0.2769 - accuracy: 0.876 - ETA: 21s - loss: 0.2769 - accuracy: 0.876 - ETA: 21s - loss: 0.2780 - accuracy: 0.876 - ETA: 20s - loss: 0.2798 - accuracy: 0.876 - ETA: 20s - loss: 0.2785 - accuracy: 0.876 - ETA: 20s - loss: 0.2860 - accuracy: 0.872 - ETA: 20s - loss: 0.2829 - accuracy: 0.873 - ETA: 20s - loss: 0.2810 - accuracy: 0.875 - ETA: 20s - loss: 0.2785 - accuracy: 0.876 - ETA: 19s - loss: 0.2804 - accuracy: 0.875 - ETA: 19s - loss: 0.2825 - accuracy: 0.875 - ETA: 19s - loss: 0.2821 - accuracy: 0.875 - ETA: 19s - loss: 0.2800 - accuracy: 0.876 - ETA: 19s - loss: 0.2797 - accuracy: 0.875 - ETA: 19s - loss: 0.2809 - accuracy: 0.875 - ETA: 18s - loss: 0.2794 - accuracy: 0.876 - ETA: 18s - loss: 0.2765 - accuracy: 0.877 - ETA: 18s - loss: 0.2744 - accuracy: 0.878 - ETA: 18s - loss: 0.2724 - accuracy: 0.880 - ETA: 18s - loss: 0.2707 - accuracy: 0.881 - ETA: 18s - loss: 0.2718 - accuracy: 0.880 - ETA: 17s - loss: 0.2743 - accuracy: 0.880 - ETA: 17s - loss: 0.2721 - accuracy: 0.881 - ETA: 17s - loss: 0.2709 - accuracy: 0.881 - ETA: 17s - loss: 0.2695 - accuracy: 0.881 - ETA: 17s - loss: 0.2687 - accuracy: 0.881 - ETA: 17s - loss: 0.2677 - accuracy: 0.882 - ETA: 16s - loss: 0.2691 - accuracy: 0.882 - ETA: 16s - loss: 0.2685 - accuracy: 0.882 - ETA: 16s - loss: 0.2675 - accuracy: 0.881 - ETA: 16s - loss: 0.2675 - accuracy: 0.881 - ETA: 16s - loss: 0.2668 - accuracy: 0.883 - ETA: 15s - loss: 0.2683 - accuracy: 0.881 - ETA: 15s - loss: 0.2692 - accuracy: 0.881 - ETA: 15s - loss: 0.2696 - accuracy: 0.881 - ETA: 15s - loss: 0.2695 - accuracy: 0.881 - ETA: 15s - loss: 0.2704 - accuracy: 0.880 - ETA: 15s - loss: 0.2694 - accuracy: 0.881 - ETA: 14s - loss: 0.2682 - accuracy: 0.881 - ETA: 14s - loss: 0.2734 - accuracy: 0.880 - ETA: 14s - loss: 0.2737 - accuracy: 0.879 - ETA: 14s - loss: 0.2731 - accuracy: 0.879 - ETA: 14s - loss: 0.2720 - accuracy: 0.880 - ETA: 14s - loss: 0.2739 - accuracy: 0.879 - ETA: 13s - loss: 0.2742 - accuracy: 0.879 - ETA: 13s - loss: 0.2741 - accuracy: 0.879 - ETA: 13s - loss: 0.2721 - accuracy: 0.880 - ETA: 13s - loss: 0.2776 - accuracy: 0.879 - ETA: 13s - loss: 0.2759 - accuracy: 0.879 - ETA: 13s - loss: 0.2758 - accuracy: 0.880 - ETA: 12s - loss: 0.2762 - accuracy: 0.880 - ETA: 12s - loss: 0.2774 - accuracy: 0.879 - ETA: 12s - loss: 0.2794 - accuracy: 0.877 - ETA: 12s - loss: 0.2807 - accuracy: 0.876 - ETA: 12s - loss: 0.2795 - accuracy: 0.877 - ETA: 12s - loss: 0.2782 - accuracy: 0.878 - ETA: 11s - loss: 0.2770 - accuracy: 0.879 - ETA: 11s - loss: 0.2752 - accuracy: 0.880 - ETA: 11s - loss: 0.2742 - accuracy: 0.880 - ETA: 11s - loss: 0.2733 - accuracy: 0.880 - ETA: 11s - loss: 0.2724 - accuracy: 0.880 - ETA: 11s - loss: 0.2717 - accuracy: 0.881 - ETA: 10s - loss: 0.2704 - accuracy: 0.882 - ETA: 10s - loss: 0.2727 - accuracy: 0.881 - ETA: 10s - loss: 0.2742 - accuracy: 0.881 - ETA: 10s - loss: 0.2725 - accuracy: 0.881 - ETA: 10s - loss: 0.2715 - accuracy: 0.881 - ETA: 10s - loss: 0.2711 - accuracy: 0.881 - ETA: 9s - loss: 0.2759 - accuracy: 0.881 - ETA: 9s - loss: 0.2770 - accuracy: 0.88 - ETA: 9s - loss: 0.2752 - accuracy: 0.88 - ETA: 9s - loss: 0.2765 - accuracy: 0.88 - ETA: 9s - loss: 0.2761 - accuracy: 0.88 - ETA: 9s - loss: 0.2779 - accuracy: 0.87 - ETA: 8s - loss: 0.2790 - accuracy: 0.87 - ETA: 8s - loss: 0.2826 - accuracy: 0.87 - ETA: 8s - loss: 0.2823 - accuracy: 0.87 - ETA: 8s - loss: 0.2828 - accuracy: 0.87 - ETA: 8s - loss: 0.2819 - accuracy: 0.87 - ETA: 8s - loss: 0.2829 - accuracy: 0.87 - ETA: 7s - loss: 0.2828 - accuracy: 0.87 - ETA: 7s - loss: 0.2821 - accuracy: 0.87 - ETA: 7s - loss: 0.2827 - accuracy: 0.87 - ETA: 7s - loss: 0.2818 - accuracy: 0.88 - ETA: 7s - loss: 0.2837 - accuracy: 0.87 - ETA: 7s - loss: 0.2830 - accuracy: 0.88 - ETA: 6s - loss: 0.2825 - accuracy: 0.88 - ETA: 6s - loss: 0.2820 - accuracy: 0.88 - ETA: 6s - loss: 0.2819 - accuracy: 0.88 - ETA: 6s - loss: 0.2807 - accuracy: 0.88 - ETA: 6s - loss: 0.2796 - accuracy: 0.88 - ETA: 6s - loss: 0.2800 - accuracy: 0.88 - ETA: 5s - loss: 0.2810 - accuracy: 0.88 - ETA: 5s - loss: 0.2820 - accuracy: 0.88 - ETA: 5s - loss: 0.2814 - accuracy: 0.88 - ETA: 5s - loss: 0.2802 - accuracy: 0.88 - ETA: 5s - loss: 0.2796 - accuracy: 0.88 - ETA: 5s - loss: 0.2785 - accuracy: 0.88 - ETA: 4s - loss: 0.2801 - accuracy: 0.88 - ETA: 4s - loss: 0.2798 - accuracy: 0.88 - ETA: 4s - loss: 0.2801 - accuracy: 0.88 - ETA: 4s - loss: 0.2802 - accuracy: 0.88 - ETA: 4s - loss: 0.2789 - accuracy: 0.88 - ETA: 4s - loss: 0.2795 - accuracy: 0.88 - ETA: 3s - loss: 0.2792 - accuracy: 0.88 - ETA: 3s - loss: 0.2781 - accuracy: 0.88 - ETA: 3s - loss: 0.2776 - accuracy: 0.88 - ETA: 3s - loss: 0.2780 - accuracy: 0.88 - ETA: 3s - loss: 0.2779 - accuracy: 0.88 - ETA: 2s - loss: 0.2773 - accuracy: 0.88361646/1646 [==============================] - ETA: 2s - loss: 0.2780 - accuracy: 0.88 - ETA: 2s - loss: 0.2786 - accuracy: 0.88 - ETA: 2s - loss: 0.2776 - accuracy: 0.88 - ETA: 2s - loss: 0.2770 - accuracy: 0.88 - ETA: 2s - loss: 0.2772 - accuracy: 0.88 - ETA: 1s - loss: 0.2763 - accuracy: 0.88 - ETA: 1s - loss: 0.2768 - accuracy: 0.88 - ETA: 1s - loss: 0.2770 - accuracy: 0.88 - ETA: 1s - loss: 0.2782 - accuracy: 0.88 - ETA: 1s - loss: 0.2782 - accuracy: 0.88 - ETA: 1s - loss: 0.2801 - accuracy: 0.88 - ETA: 0s - loss: 0.2801 - accuracy: 0.88 - ETA: 0s - loss: 0.2804 - accuracy: 0.88 - ETA: 0s - loss: 0.2794 - accuracy: 0.88 - ETA: 0s - loss: 0.2803 - accuracy: 0.88 - ETA: 0s - loss: 0.2813 - accuracy: 0.88 - ETA: 0s - loss: 0.2807 - accuracy: 0.88 - 35s 22ms/sample - loss: 0.2802 - accuracy: 0.8834\n"
     ]
    },
    {
     "data": {
      "text/html": [
       "<span style=\"color:#4527A0\"><h1 style=\"font-size:18px\">Trial complete</h1></span>"
      ],
      "text/plain": [
       "<IPython.core.display.HTML object>"
      ]
     },
     "metadata": {},
     "output_type": "display_data"
    },
    {
     "data": {
      "text/html": [
       "<span style=\"color:#4527A0\"><h1 style=\"font-size:18px\">Trial summary</h1></span>"
      ],
      "text/plain": [
       "<IPython.core.display.HTML object>"
      ]
     },
     "metadata": {},
     "output_type": "display_data"
    },
    {
     "data": {
      "text/html": [
       "<span style=\"color:cyan\"> |-Trial ID: dca47520e10f5e78963abd9a00f59a9e</span>"
      ],
      "text/plain": [
       "<IPython.core.display.HTML object>"
      ]
     },
     "metadata": {},
     "output_type": "display_data"
    },
    {
     "data": {
      "text/html": [
       "<span style=\"color:cyan\"> |-Score: 0.883353590965271</span>"
      ],
      "text/plain": [
       "<IPython.core.display.HTML object>"
      ]
     },
     "metadata": {},
     "output_type": "display_data"
    },
    {
     "data": {
      "text/html": [
       "<span style=\"color:cyan\"> |-Best step: 0</span>"
      ],
      "text/plain": [
       "<IPython.core.display.HTML object>"
      ]
     },
     "metadata": {},
     "output_type": "display_data"
    },
    {
     "data": {
      "text/html": [
       "<span style=\"color:#7E57C2\"><h2 style=\"font-size:16px\">Hyperparameters:</h2></span>"
      ],
      "text/plain": [
       "<IPython.core.display.HTML object>"
      ]
     },
     "metadata": {},
     "output_type": "display_data"
    },
    {
     "data": {
      "text/html": [
       "<span style=\"color:cyan\"> |-filters_0: 160</span>"
      ],
      "text/plain": [
       "<IPython.core.display.HTML object>"
      ]
     },
     "metadata": {},
     "output_type": "display_data"
    },
    {
     "data": {
      "text/html": [
       "<span style=\"color:blue\"> |-filters_1: 192</span>"
      ],
      "text/plain": [
       "<IPython.core.display.HTML object>"
      ]
     },
     "metadata": {},
     "output_type": "display_data"
    },
    {
     "data": {
      "text/html": [
       "<span style=\"color:cyan\"> |-filters_2: 160</span>"
      ],
      "text/plain": [
       "<IPython.core.display.HTML object>"
      ]
     },
     "metadata": {},
     "output_type": "display_data"
    },
    {
     "data": {
      "text/html": [
       "<span style=\"color:blue\"> |-filters_3: 32</span>"
      ],
      "text/plain": [
       "<IPython.core.display.HTML object>"
      ]
     },
     "metadata": {},
     "output_type": "display_data"
    },
    {
     "data": {
      "text/html": [
       "<span style=\"color:cyan\"> |-filters_4: 96</span>"
      ],
      "text/plain": [
       "<IPython.core.display.HTML object>"
      ]
     },
     "metadata": {},
     "output_type": "display_data"
    },
    {
     "data": {
      "text/html": [
       "<span style=\"color:blue\"> |-filters_5: 224</span>"
      ],
      "text/plain": [
       "<IPython.core.display.HTML object>"
      ]
     },
     "metadata": {},
     "output_type": "display_data"
    },
    {
     "data": {
      "text/html": [
       "<span style=\"color:cyan\"> |-filters_6: 32</span>"
      ],
      "text/plain": [
       "<IPython.core.display.HTML object>"
      ]
     },
     "metadata": {},
     "output_type": "display_data"
    },
    {
     "data": {
      "text/html": [
       "<span style=\"color:blue\"> |-filters_7: 160</span>"
      ],
      "text/plain": [
       "<IPython.core.display.HTML object>"
      ]
     },
     "metadata": {},
     "output_type": "display_data"
    },
    {
     "data": {
      "text/html": [
       "<span style=\"color:cyan\"> |-learning_rate: 0.001</span>"
      ],
      "text/plain": [
       "<IPython.core.display.HTML object>"
      ]
     },
     "metadata": {},
     "output_type": "display_data"
    },
    {
     "data": {
      "text/html": [
       "<span style=\"color:blue\"> |-num_layers: 4</span>"
      ],
      "text/plain": [
       "<IPython.core.display.HTML object>"
      ]
     },
     "metadata": {},
     "output_type": "display_data"
    },
    {
     "data": {
      "text/html": [
       "<span style=\"color:cyan\"> |-pool_0: max</span>"
      ],
      "text/plain": [
       "<IPython.core.display.HTML object>"
      ]
     },
     "metadata": {},
     "output_type": "display_data"
    },
    {
     "data": {
      "text/html": [
       "<span style=\"color:blue\"> |-pool_1: max</span>"
      ],
      "text/plain": [
       "<IPython.core.display.HTML object>"
      ]
     },
     "metadata": {},
     "output_type": "display_data"
    },
    {
     "data": {
      "text/html": [
       "<span style=\"color:cyan\"> |-pool_2: max</span>"
      ],
      "text/plain": [
       "<IPython.core.display.HTML object>"
      ]
     },
     "metadata": {},
     "output_type": "display_data"
    },
    {
     "data": {
      "text/html": [
       "<span style=\"color:blue\"> |-pool_3: max</span>"
      ],
      "text/plain": [
       "<IPython.core.display.HTML object>"
      ]
     },
     "metadata": {},
     "output_type": "display_data"
    },
    {
     "data": {
      "text/html": [
       "<span style=\"color:cyan\"> |-pool_4: max</span>"
      ],
      "text/plain": [
       "<IPython.core.display.HTML object>"
      ]
     },
     "metadata": {},
     "output_type": "display_data"
    },
    {
     "name": "stdout",
     "output_type": "stream",
     "text": [
      "INFO:tensorflow:Oracle triggered exit\n"
     ]
    }
   ],
   "source": [
    "tuner.search(images, labels, batch_size=8, epochs=10)\n"
   ]
  },
  {
   "cell_type": "code",
   "execution_count": 27,
   "metadata": {},
   "outputs": [
    {
     "data": {
      "text/html": [
       "<span style=\"color:#4527A0\"><h1 style=\"font-size:18px\">Results summary</h1></span>"
      ],
      "text/plain": [
       "<IPython.core.display.HTML object>"
      ]
     },
     "metadata": {},
     "output_type": "display_data"
    },
    {
     "data": {
      "text/html": [
       "<span style=\"color:cyan\"> |-Results in .\\untitled_project</span>"
      ],
      "text/plain": [
       "<IPython.core.display.HTML object>"
      ]
     },
     "metadata": {},
     "output_type": "display_data"
    },
    {
     "data": {
      "text/html": [
       "<span style=\"color:cyan\"> |-Showing 10 best trials</span>"
      ],
      "text/plain": [
       "<IPython.core.display.HTML object>"
      ]
     },
     "metadata": {},
     "output_type": "display_data"
    },
    {
     "data": {
      "text/html": [
       "<span style=\"color:cyan\"> |-Objective(name='accuracy', direction='max')</span>"
      ],
      "text/plain": [
       "<IPython.core.display.HTML object>"
      ]
     },
     "metadata": {},
     "output_type": "display_data"
    },
    {
     "data": {
      "text/html": [
       "<span style=\"color:#4527A0\"><h1 style=\"font-size:18px\">Trial summary</h1></span>"
      ],
      "text/plain": [
       "<IPython.core.display.HTML object>"
      ]
     },
     "metadata": {},
     "output_type": "display_data"
    },
    {
     "data": {
      "text/html": [
       "<span style=\"color:cyan\"> |-Trial ID: 9ad8ea47266b405517f8286f6598ad0c</span>"
      ],
      "text/plain": [
       "<IPython.core.display.HTML object>"
      ]
     },
     "metadata": {},
     "output_type": "display_data"
    },
    {
     "data": {
      "text/html": [
       "<span style=\"color:cyan\"> |-Score: 0.9246658682823181</span>"
      ],
      "text/plain": [
       "<IPython.core.display.HTML object>"
      ]
     },
     "metadata": {},
     "output_type": "display_data"
    },
    {
     "data": {
      "text/html": [
       "<span style=\"color:cyan\"> |-Best step: 0</span>"
      ],
      "text/plain": [
       "<IPython.core.display.HTML object>"
      ]
     },
     "metadata": {},
     "output_type": "display_data"
    },
    {
     "data": {
      "text/html": [
       "<span style=\"color:#7E57C2\"><h2 style=\"font-size:16px\">Hyperparameters:</h2></span>"
      ],
      "text/plain": [
       "<IPython.core.display.HTML object>"
      ]
     },
     "metadata": {},
     "output_type": "display_data"
    },
    {
     "data": {
      "text/html": [
       "<span style=\"color:cyan\"> |-filters_0: 64</span>"
      ],
      "text/plain": [
       "<IPython.core.display.HTML object>"
      ]
     },
     "metadata": {},
     "output_type": "display_data"
    },
    {
     "data": {
      "text/html": [
       "<span style=\"color:blue\"> |-filters_1: 192</span>"
      ],
      "text/plain": [
       "<IPython.core.display.HTML object>"
      ]
     },
     "metadata": {},
     "output_type": "display_data"
    },
    {
     "data": {
      "text/html": [
       "<span style=\"color:cyan\"> |-filters_2: 256</span>"
      ],
      "text/plain": [
       "<IPython.core.display.HTML object>"
      ]
     },
     "metadata": {},
     "output_type": "display_data"
    },
    {
     "data": {
      "text/html": [
       "<span style=\"color:blue\"> |-filters_3: 96</span>"
      ],
      "text/plain": [
       "<IPython.core.display.HTML object>"
      ]
     },
     "metadata": {},
     "output_type": "display_data"
    },
    {
     "data": {
      "text/html": [
       "<span style=\"color:cyan\"> |-filters_4: 64</span>"
      ],
      "text/plain": [
       "<IPython.core.display.HTML object>"
      ]
     },
     "metadata": {},
     "output_type": "display_data"
    },
    {
     "data": {
      "text/html": [
       "<span style=\"color:blue\"> |-filters_5: 128</span>"
      ],
      "text/plain": [
       "<IPython.core.display.HTML object>"
      ]
     },
     "metadata": {},
     "output_type": "display_data"
    },
    {
     "data": {
      "text/html": [
       "<span style=\"color:cyan\"> |-filters_6: 64</span>"
      ],
      "text/plain": [
       "<IPython.core.display.HTML object>"
      ]
     },
     "metadata": {},
     "output_type": "display_data"
    },
    {
     "data": {
      "text/html": [
       "<span style=\"color:blue\"> |-filters_7: 64</span>"
      ],
      "text/plain": [
       "<IPython.core.display.HTML object>"
      ]
     },
     "metadata": {},
     "output_type": "display_data"
    },
    {
     "data": {
      "text/html": [
       "<span style=\"color:cyan\"> |-learning_rate: 0.0005</span>"
      ],
      "text/plain": [
       "<IPython.core.display.HTML object>"
      ]
     },
     "metadata": {},
     "output_type": "display_data"
    },
    {
     "data": {
      "text/html": [
       "<span style=\"color:blue\"> |-num_layers: 8</span>"
      ],
      "text/plain": [
       "<IPython.core.display.HTML object>"
      ]
     },
     "metadata": {},
     "output_type": "display_data"
    },
    {
     "data": {
      "text/html": [
       "<span style=\"color:cyan\"> |-pool_0: avg</span>"
      ],
      "text/plain": [
       "<IPython.core.display.HTML object>"
      ]
     },
     "metadata": {},
     "output_type": "display_data"
    },
    {
     "data": {
      "text/html": [
       "<span style=\"color:blue\"> |-pool_1: max</span>"
      ],
      "text/plain": [
       "<IPython.core.display.HTML object>"
      ]
     },
     "metadata": {},
     "output_type": "display_data"
    },
    {
     "data": {
      "text/html": [
       "<span style=\"color:cyan\"> |-pool_2: max</span>"
      ],
      "text/plain": [
       "<IPython.core.display.HTML object>"
      ]
     },
     "metadata": {},
     "output_type": "display_data"
    },
    {
     "data": {
      "text/html": [
       "<span style=\"color:blue\"> |-pool_3: max</span>"
      ],
      "text/plain": [
       "<IPython.core.display.HTML object>"
      ]
     },
     "metadata": {},
     "output_type": "display_data"
    },
    {
     "data": {
      "text/html": [
       "<span style=\"color:cyan\"> |-pool_4: avg</span>"
      ],
      "text/plain": [
       "<IPython.core.display.HTML object>"
      ]
     },
     "metadata": {},
     "output_type": "display_data"
    },
    {
     "data": {
      "text/html": [
       "<span style=\"color:#4527A0\"><h1 style=\"font-size:18px\">Trial summary</h1></span>"
      ],
      "text/plain": [
       "<IPython.core.display.HTML object>"
      ]
     },
     "metadata": {},
     "output_type": "display_data"
    },
    {
     "data": {
      "text/html": [
       "<span style=\"color:cyan\"> |-Trial ID: dca47520e10f5e78963abd9a00f59a9e</span>"
      ],
      "text/plain": [
       "<IPython.core.display.HTML object>"
      ]
     },
     "metadata": {},
     "output_type": "display_data"
    },
    {
     "data": {
      "text/html": [
       "<span style=\"color:cyan\"> |-Score: 0.883353590965271</span>"
      ],
      "text/plain": [
       "<IPython.core.display.HTML object>"
      ]
     },
     "metadata": {},
     "output_type": "display_data"
    },
    {
     "data": {
      "text/html": [
       "<span style=\"color:cyan\"> |-Best step: 0</span>"
      ],
      "text/plain": [
       "<IPython.core.display.HTML object>"
      ]
     },
     "metadata": {},
     "output_type": "display_data"
    },
    {
     "data": {
      "text/html": [
       "<span style=\"color:#7E57C2\"><h2 style=\"font-size:16px\">Hyperparameters:</h2></span>"
      ],
      "text/plain": [
       "<IPython.core.display.HTML object>"
      ]
     },
     "metadata": {},
     "output_type": "display_data"
    },
    {
     "data": {
      "text/html": [
       "<span style=\"color:cyan\"> |-filters_0: 160</span>"
      ],
      "text/plain": [
       "<IPython.core.display.HTML object>"
      ]
     },
     "metadata": {},
     "output_type": "display_data"
    },
    {
     "data": {
      "text/html": [
       "<span style=\"color:blue\"> |-filters_1: 192</span>"
      ],
      "text/plain": [
       "<IPython.core.display.HTML object>"
      ]
     },
     "metadata": {},
     "output_type": "display_data"
    },
    {
     "data": {
      "text/html": [
       "<span style=\"color:cyan\"> |-filters_2: 160</span>"
      ],
      "text/plain": [
       "<IPython.core.display.HTML object>"
      ]
     },
     "metadata": {},
     "output_type": "display_data"
    },
    {
     "data": {
      "text/html": [
       "<span style=\"color:blue\"> |-filters_3: 32</span>"
      ],
      "text/plain": [
       "<IPython.core.display.HTML object>"
      ]
     },
     "metadata": {},
     "output_type": "display_data"
    },
    {
     "data": {
      "text/html": [
       "<span style=\"color:cyan\"> |-filters_4: 96</span>"
      ],
      "text/plain": [
       "<IPython.core.display.HTML object>"
      ]
     },
     "metadata": {},
     "output_type": "display_data"
    },
    {
     "data": {
      "text/html": [
       "<span style=\"color:blue\"> |-filters_5: 224</span>"
      ],
      "text/plain": [
       "<IPython.core.display.HTML object>"
      ]
     },
     "metadata": {},
     "output_type": "display_data"
    },
    {
     "data": {
      "text/html": [
       "<span style=\"color:cyan\"> |-filters_6: 32</span>"
      ],
      "text/plain": [
       "<IPython.core.display.HTML object>"
      ]
     },
     "metadata": {},
     "output_type": "display_data"
    },
    {
     "data": {
      "text/html": [
       "<span style=\"color:blue\"> |-filters_7: 160</span>"
      ],
      "text/plain": [
       "<IPython.core.display.HTML object>"
      ]
     },
     "metadata": {},
     "output_type": "display_data"
    },
    {
     "data": {
      "text/html": [
       "<span style=\"color:cyan\"> |-learning_rate: 0.001</span>"
      ],
      "text/plain": [
       "<IPython.core.display.HTML object>"
      ]
     },
     "metadata": {},
     "output_type": "display_data"
    },
    {
     "data": {
      "text/html": [
       "<span style=\"color:blue\"> |-num_layers: 4</span>"
      ],
      "text/plain": [
       "<IPython.core.display.HTML object>"
      ]
     },
     "metadata": {},
     "output_type": "display_data"
    },
    {
     "data": {
      "text/html": [
       "<span style=\"color:cyan\"> |-pool_0: max</span>"
      ],
      "text/plain": [
       "<IPython.core.display.HTML object>"
      ]
     },
     "metadata": {},
     "output_type": "display_data"
    },
    {
     "data": {
      "text/html": [
       "<span style=\"color:blue\"> |-pool_1: max</span>"
      ],
      "text/plain": [
       "<IPython.core.display.HTML object>"
      ]
     },
     "metadata": {},
     "output_type": "display_data"
    },
    {
     "data": {
      "text/html": [
       "<span style=\"color:cyan\"> |-pool_2: max</span>"
      ],
      "text/plain": [
       "<IPython.core.display.HTML object>"
      ]
     },
     "metadata": {},
     "output_type": "display_data"
    },
    {
     "data": {
      "text/html": [
       "<span style=\"color:blue\"> |-pool_3: max</span>"
      ],
      "text/plain": [
       "<IPython.core.display.HTML object>"
      ]
     },
     "metadata": {},
     "output_type": "display_data"
    },
    {
     "data": {
      "text/html": [
       "<span style=\"color:cyan\"> |-pool_4: max</span>"
      ],
      "text/plain": [
       "<IPython.core.display.HTML object>"
      ]
     },
     "metadata": {},
     "output_type": "display_data"
    },
    {
     "data": {
      "text/html": [
       "<span style=\"color:#4527A0\"><h1 style=\"font-size:18px\">Trial summary</h1></span>"
      ],
      "text/plain": [
       "<IPython.core.display.HTML object>"
      ]
     },
     "metadata": {},
     "output_type": "display_data"
    },
    {
     "data": {
      "text/html": [
       "<span style=\"color:cyan\"> |-Trial ID: 7106592085bf6994b1f7ea0e611f0d55</span>"
      ],
      "text/plain": [
       "<IPython.core.display.HTML object>"
      ]
     },
     "metadata": {},
     "output_type": "display_data"
    },
    {
     "data": {
      "text/html": [
       "<span style=\"color:cyan\"> |-Score: 0.870595395565033</span>"
      ],
      "text/plain": [
       "<IPython.core.display.HTML object>"
      ]
     },
     "metadata": {},
     "output_type": "display_data"
    },
    {
     "data": {
      "text/html": [
       "<span style=\"color:cyan\"> |-Best step: 0</span>"
      ],
      "text/plain": [
       "<IPython.core.display.HTML object>"
      ]
     },
     "metadata": {},
     "output_type": "display_data"
    },
    {
     "data": {
      "text/html": [
       "<span style=\"color:#7E57C2\"><h2 style=\"font-size:16px\">Hyperparameters:</h2></span>"
      ],
      "text/plain": [
       "<IPython.core.display.HTML object>"
      ]
     },
     "metadata": {},
     "output_type": "display_data"
    },
    {
     "data": {
      "text/html": [
       "<span style=\"color:cyan\"> |-filters_0: 160</span>"
      ],
      "text/plain": [
       "<IPython.core.display.HTML object>"
      ]
     },
     "metadata": {},
     "output_type": "display_data"
    },
    {
     "data": {
      "text/html": [
       "<span style=\"color:blue\"> |-filters_1: 160</span>"
      ],
      "text/plain": [
       "<IPython.core.display.HTML object>"
      ]
     },
     "metadata": {},
     "output_type": "display_data"
    },
    {
     "data": {
      "text/html": [
       "<span style=\"color:cyan\"> |-filters_2: 192</span>"
      ],
      "text/plain": [
       "<IPython.core.display.HTML object>"
      ]
     },
     "metadata": {},
     "output_type": "display_data"
    },
    {
     "data": {
      "text/html": [
       "<span style=\"color:blue\"> |-filters_3: 128</span>"
      ],
      "text/plain": [
       "<IPython.core.display.HTML object>"
      ]
     },
     "metadata": {},
     "output_type": "display_data"
    },
    {
     "data": {
      "text/html": [
       "<span style=\"color:cyan\"> |-filters_4: 96</span>"
      ],
      "text/plain": [
       "<IPython.core.display.HTML object>"
      ]
     },
     "metadata": {},
     "output_type": "display_data"
    },
    {
     "data": {
      "text/html": [
       "<span style=\"color:blue\"> |-filters_5: 32</span>"
      ],
      "text/plain": [
       "<IPython.core.display.HTML object>"
      ]
     },
     "metadata": {},
     "output_type": "display_data"
    },
    {
     "data": {
      "text/html": [
       "<span style=\"color:cyan\"> |-learning_rate: 0.001</span>"
      ],
      "text/plain": [
       "<IPython.core.display.HTML object>"
      ]
     },
     "metadata": {},
     "output_type": "display_data"
    },
    {
     "data": {
      "text/html": [
       "<span style=\"color:blue\"> |-num_layers: 3</span>"
      ],
      "text/plain": [
       "<IPython.core.display.HTML object>"
      ]
     },
     "metadata": {},
     "output_type": "display_data"
    },
    {
     "data": {
      "text/html": [
       "<span style=\"color:cyan\"> |-pool_0: max</span>"
      ],
      "text/plain": [
       "<IPython.core.display.HTML object>"
      ]
     },
     "metadata": {},
     "output_type": "display_data"
    },
    {
     "data": {
      "text/html": [
       "<span style=\"color:blue\"> |-pool_1: max</span>"
      ],
      "text/plain": [
       "<IPython.core.display.HTML object>"
      ]
     },
     "metadata": {},
     "output_type": "display_data"
    },
    {
     "data": {
      "text/html": [
       "<span style=\"color:cyan\"> |-pool_2: avg</span>"
      ],
      "text/plain": [
       "<IPython.core.display.HTML object>"
      ]
     },
     "metadata": {},
     "output_type": "display_data"
    },
    {
     "data": {
      "text/html": [
       "<span style=\"color:blue\"> |-pool_3: max</span>"
      ],
      "text/plain": [
       "<IPython.core.display.HTML object>"
      ]
     },
     "metadata": {},
     "output_type": "display_data"
    },
    {
     "data": {
      "text/html": [
       "<span style=\"color:cyan\"> |-pool_4: max</span>"
      ],
      "text/plain": [
       "<IPython.core.display.HTML object>"
      ]
     },
     "metadata": {},
     "output_type": "display_data"
    },
    {
     "data": {
      "text/html": [
       "<span style=\"color:#4527A0\"><h1 style=\"font-size:18px\">Trial summary</h1></span>"
      ],
      "text/plain": [
       "<IPython.core.display.HTML object>"
      ]
     },
     "metadata": {},
     "output_type": "display_data"
    },
    {
     "data": {
      "text/html": [
       "<span style=\"color:cyan\"> |-Trial ID: 1e7c15d88549b26e1dbdeaae4fe8855b</span>"
      ],
      "text/plain": [
       "<IPython.core.display.HTML object>"
      ]
     },
     "metadata": {},
     "output_type": "display_data"
    },
    {
     "data": {
      "text/html": [
       "<span style=\"color:cyan\"> |-Score: 0.8633049726486206</span>"
      ],
      "text/plain": [
       "<IPython.core.display.HTML object>"
      ]
     },
     "metadata": {},
     "output_type": "display_data"
    },
    {
     "data": {
      "text/html": [
       "<span style=\"color:cyan\"> |-Best step: 0</span>"
      ],
      "text/plain": [
       "<IPython.core.display.HTML object>"
      ]
     },
     "metadata": {},
     "output_type": "display_data"
    },
    {
     "data": {
      "text/html": [
       "<span style=\"color:#7E57C2\"><h2 style=\"font-size:16px\">Hyperparameters:</h2></span>"
      ],
      "text/plain": [
       "<IPython.core.display.HTML object>"
      ]
     },
     "metadata": {},
     "output_type": "display_data"
    },
    {
     "data": {
      "text/html": [
       "<span style=\"color:cyan\"> |-filters_0: 192</span>"
      ],
      "text/plain": [
       "<IPython.core.display.HTML object>"
      ]
     },
     "metadata": {},
     "output_type": "display_data"
    },
    {
     "data": {
      "text/html": [
       "<span style=\"color:blue\"> |-filters_1: 64</span>"
      ],
      "text/plain": [
       "<IPython.core.display.HTML object>"
      ]
     },
     "metadata": {},
     "output_type": "display_data"
    },
    {
     "data": {
      "text/html": [
       "<span style=\"color:cyan\"> |-filters_2: 96</span>"
      ],
      "text/plain": [
       "<IPython.core.display.HTML object>"
      ]
     },
     "metadata": {},
     "output_type": "display_data"
    },
    {
     "data": {
      "text/html": [
       "<span style=\"color:blue\"> |-filters_3: 192</span>"
      ],
      "text/plain": [
       "<IPython.core.display.HTML object>"
      ]
     },
     "metadata": {},
     "output_type": "display_data"
    },
    {
     "data": {
      "text/html": [
       "<span style=\"color:cyan\"> |-filters_4: 128</span>"
      ],
      "text/plain": [
       "<IPython.core.display.HTML object>"
      ]
     },
     "metadata": {},
     "output_type": "display_data"
    },
    {
     "data": {
      "text/html": [
       "<span style=\"color:blue\"> |-filters_5: 128</span>"
      ],
      "text/plain": [
       "<IPython.core.display.HTML object>"
      ]
     },
     "metadata": {},
     "output_type": "display_data"
    },
    {
     "data": {
      "text/html": [
       "<span style=\"color:cyan\"> |-learning_rate: 0.001</span>"
      ],
      "text/plain": [
       "<IPython.core.display.HTML object>"
      ]
     },
     "metadata": {},
     "output_type": "display_data"
    },
    {
     "data": {
      "text/html": [
       "<span style=\"color:blue\"> |-num_layers: 6</span>"
      ],
      "text/plain": [
       "<IPython.core.display.HTML object>"
      ]
     },
     "metadata": {},
     "output_type": "display_data"
    },
    {
     "data": {
      "text/html": [
       "<span style=\"color:cyan\"> |-pool_0: avg</span>"
      ],
      "text/plain": [
       "<IPython.core.display.HTML object>"
      ]
     },
     "metadata": {},
     "output_type": "display_data"
    },
    {
     "data": {
      "text/html": [
       "<span style=\"color:blue\"> |-pool_1: max</span>"
      ],
      "text/plain": [
       "<IPython.core.display.HTML object>"
      ]
     },
     "metadata": {},
     "output_type": "display_data"
    },
    {
     "data": {
      "text/html": [
       "<span style=\"color:cyan\"> |-pool_2: max</span>"
      ],
      "text/plain": [
       "<IPython.core.display.HTML object>"
      ]
     },
     "metadata": {},
     "output_type": "display_data"
    },
    {
     "data": {
      "text/html": [
       "<span style=\"color:blue\"> |-pool_3: avg</span>"
      ],
      "text/plain": [
       "<IPython.core.display.HTML object>"
      ]
     },
     "metadata": {},
     "output_type": "display_data"
    },
    {
     "data": {
      "text/html": [
       "<span style=\"color:cyan\"> |-pool_4: avg</span>"
      ],
      "text/plain": [
       "<IPython.core.display.HTML object>"
      ]
     },
     "metadata": {},
     "output_type": "display_data"
    },
    {
     "data": {
      "text/html": [
       "<span style=\"color:#4527A0\"><h1 style=\"font-size:18px\">Trial summary</h1></span>"
      ],
      "text/plain": [
       "<IPython.core.display.HTML object>"
      ]
     },
     "metadata": {},
     "output_type": "display_data"
    },
    {
     "data": {
      "text/html": [
       "<span style=\"color:cyan\"> |-Trial ID: ebd72425cef24ff6377ec9d2bad8a9aa</span>"
      ],
      "text/plain": [
       "<IPython.core.display.HTML object>"
      ]
     },
     "metadata": {},
     "output_type": "display_data"
    },
    {
     "data": {
      "text/html": [
       "<span style=\"color:cyan\"> |-Score: 0.586269736289978</span>"
      ],
      "text/plain": [
       "<IPython.core.display.HTML object>"
      ]
     },
     "metadata": {},
     "output_type": "display_data"
    },
    {
     "data": {
      "text/html": [
       "<span style=\"color:cyan\"> |-Best step: 0</span>"
      ],
      "text/plain": [
       "<IPython.core.display.HTML object>"
      ]
     },
     "metadata": {},
     "output_type": "display_data"
    },
    {
     "data": {
      "text/html": [
       "<span style=\"color:#7E57C2\"><h2 style=\"font-size:16px\">Hyperparameters:</h2></span>"
      ],
      "text/plain": [
       "<IPython.core.display.HTML object>"
      ]
     },
     "metadata": {},
     "output_type": "display_data"
    },
    {
     "data": {
      "text/html": [
       "<span style=\"color:cyan\"> |-filters_0: 192</span>"
      ],
      "text/plain": [
       "<IPython.core.display.HTML object>"
      ]
     },
     "metadata": {},
     "output_type": "display_data"
    },
    {
     "data": {
      "text/html": [
       "<span style=\"color:blue\"> |-filters_1: 32</span>"
      ],
      "text/plain": [
       "<IPython.core.display.HTML object>"
      ]
     },
     "metadata": {},
     "output_type": "display_data"
    },
    {
     "data": {
      "text/html": [
       "<span style=\"color:cyan\"> |-filters_2: 128</span>"
      ],
      "text/plain": [
       "<IPython.core.display.HTML object>"
      ]
     },
     "metadata": {},
     "output_type": "display_data"
    },
    {
     "data": {
      "text/html": [
       "<span style=\"color:blue\"> |-filters_3: 192</span>"
      ],
      "text/plain": [
       "<IPython.core.display.HTML object>"
      ]
     },
     "metadata": {},
     "output_type": "display_data"
    },
    {
     "data": {
      "text/html": [
       "<span style=\"color:cyan\"> |-filters_4: 192</span>"
      ],
      "text/plain": [
       "<IPython.core.display.HTML object>"
      ]
     },
     "metadata": {},
     "output_type": "display_data"
    },
    {
     "data": {
      "text/html": [
       "<span style=\"color:blue\"> |-filters_5: 64</span>"
      ],
      "text/plain": [
       "<IPython.core.display.HTML object>"
      ]
     },
     "metadata": {},
     "output_type": "display_data"
    },
    {
     "data": {
      "text/html": [
       "<span style=\"color:cyan\"> |-learning_rate: 0.001</span>"
      ],
      "text/plain": [
       "<IPython.core.display.HTML object>"
      ]
     },
     "metadata": {},
     "output_type": "display_data"
    },
    {
     "data": {
      "text/html": [
       "<span style=\"color:blue\"> |-num_layers: 4</span>"
      ],
      "text/plain": [
       "<IPython.core.display.HTML object>"
      ]
     },
     "metadata": {},
     "output_type": "display_data"
    },
    {
     "data": {
      "text/html": [
       "<span style=\"color:cyan\"> |-pool_0: avg</span>"
      ],
      "text/plain": [
       "<IPython.core.display.HTML object>"
      ]
     },
     "metadata": {},
     "output_type": "display_data"
    },
    {
     "data": {
      "text/html": [
       "<span style=\"color:blue\"> |-pool_1: max</span>"
      ],
      "text/plain": [
       "<IPython.core.display.HTML object>"
      ]
     },
     "metadata": {},
     "output_type": "display_data"
    },
    {
     "data": {
      "text/html": [
       "<span style=\"color:cyan\"> |-pool_2: max</span>"
      ],
      "text/plain": [
       "<IPython.core.display.HTML object>"
      ]
     },
     "metadata": {},
     "output_type": "display_data"
    },
    {
     "data": {
      "text/html": [
       "<span style=\"color:blue\"> |-pool_3: max</span>"
      ],
      "text/plain": [
       "<IPython.core.display.HTML object>"
      ]
     },
     "metadata": {},
     "output_type": "display_data"
    },
    {
     "data": {
      "text/html": [
       "<span style=\"color:cyan\"> |-pool_4: avg</span>"
      ],
      "text/plain": [
       "<IPython.core.display.HTML object>"
      ]
     },
     "metadata": {},
     "output_type": "display_data"
    }
   ],
   "source": [
    "tuner.results_summary()\n"
   ]
  },
  {
   "cell_type": "code",
   "execution_count": 28,
   "metadata": {},
   "outputs": [
    {
     "name": "stdout",
     "output_type": "stream",
     "text": [
      "Model: \"model\"\n",
      "_________________________________________________________________\n",
      "Layer (type)                 Output Shape              Param #   \n",
      "=================================================================\n",
      "input_1 (InputLayer)         [(None, 128, 128, 3)]     0         \n",
      "_________________________________________________________________\n",
      "conv2d (Conv2D)              (None, 128, 128, 64)      1792      \n",
      "_________________________________________________________________\n",
      "average_pooling2d (AveragePo (None, 64, 64, 64)        0         \n",
      "_________________________________________________________________\n",
      "conv2d_1 (Conv2D)            (None, 64, 64, 192)       110784    \n",
      "_________________________________________________________________\n",
      "max_pooling2d (MaxPooling2D) (None, 32, 32, 192)       0         \n",
      "_________________________________________________________________\n",
      "conv2d_2 (Conv2D)            (None, 32, 32, 256)       442624    \n",
      "_________________________________________________________________\n",
      "max_pooling2d_1 (MaxPooling2 (None, 16, 16, 256)       0         \n",
      "_________________________________________________________________\n",
      "conv2d_3 (Conv2D)            (None, 16, 16, 96)        221280    \n",
      "_________________________________________________________________\n",
      "max_pooling2d_2 (MaxPooling2 (None, 8, 8, 96)          0         \n",
      "_________________________________________________________________\n",
      "conv2d_4 (Conv2D)            (None, 8, 8, 64)          55360     \n",
      "_________________________________________________________________\n",
      "average_pooling2d_1 (Average (None, 4, 4, 64)          0         \n",
      "_________________________________________________________________\n",
      "conv2d_5 (Conv2D)            (None, 4, 4, 128)         73856     \n",
      "_________________________________________________________________\n",
      "conv2d_6 (Conv2D)            (None, 4, 4, 64)          73792     \n",
      "_________________________________________________________________\n",
      "conv2d_7 (Conv2D)            (None, 4, 4, 64)          36928     \n",
      "_________________________________________________________________\n",
      "flatten (Flatten)            (None, 1024)              0         \n",
      "_________________________________________________________________\n",
      "dense (Dense)                (None, 1)                 1025      \n",
      "=================================================================\n",
      "Total params: 1,017,441\n",
      "Trainable params: 1,017,441\n",
      "Non-trainable params: 0\n",
      "_________________________________________________________________\n"
     ]
    }
   ],
   "source": [
    "# Retrieve the best model and display its architecture\n",
    "best_model = tuner.get_best_models(num_models=1)[0]\n",
    "best_model.summary()"
   ]
  },
  {
   "cell_type": "code",
   "execution_count": 30,
   "metadata": {},
   "outputs": [
    {
     "name": "stdout",
     "output_type": "stream",
     "text": [
      "accuracy: 93.32%\n"
     ]
    }
   ],
   "source": [
    "scores = best_model.evaluate(images, labels, verbose=0)\n",
    "print(\"%s: %.2f%%\" % (best_model.metrics_names[1], scores[1]*100))\n"
   ]
  },
  {
   "cell_type": "code",
   "execution_count": 40,
   "metadata": {},
   "outputs": [
    {
     "name": "stdout",
     "output_type": "stream",
     "text": [
      "Model: \"model_5\"\n",
      "_________________________________________________________________\n",
      "Layer (type)                 Output Shape              Param #   \n",
      "=================================================================\n",
      "input_6 (InputLayer)         [(None, 128, 128, 3)]     0         \n",
      "_________________________________________________________________\n",
      "conv2d_40 (Conv2D)           (None, 128, 128, 64)      1792      \n",
      "_________________________________________________________________\n",
      "average_pooling2d_10 (Averag (None, 64, 64, 64)        0         \n",
      "_________________________________________________________________\n",
      "conv2d_41 (Conv2D)           (None, 64, 64, 192)       110784    \n",
      "_________________________________________________________________\n",
      "max_pooling2d_15 (MaxPooling (None, 32, 32, 192)       0         \n",
      "_________________________________________________________________\n",
      "conv2d_42 (Conv2D)           (None, 32, 32, 256)       442624    \n",
      "_________________________________________________________________\n",
      "max_pooling2d_16 (MaxPooling (None, 16, 16, 256)       0         \n",
      "_________________________________________________________________\n",
      "conv2d_43 (Conv2D)           (None, 16, 16, 96)        221280    \n",
      "_________________________________________________________________\n",
      "max_pooling2d_17 (MaxPooling (None, 8, 8, 96)          0         \n",
      "_________________________________________________________________\n",
      "conv2d_44 (Conv2D)           (None, 8, 8, 64)          55360     \n",
      "_________________________________________________________________\n",
      "average_pooling2d_11 (Averag (None, 4, 4, 64)          0         \n",
      "_________________________________________________________________\n",
      "conv2d_45 (Conv2D)           (None, 4, 4, 128)         73856     \n",
      "_________________________________________________________________\n",
      "conv2d_46 (Conv2D)           (None, 4, 4, 64)          73792     \n",
      "_________________________________________________________________\n",
      "conv2d_47 (Conv2D)           (None, 4, 4, 64)          36928     \n",
      "_________________________________________________________________\n",
      "flatten_5 (Flatten)          (None, 1024)              0         \n",
      "_________________________________________________________________\n",
      "dense_5 (Dense)              (None, 1)                 1025      \n",
      "=================================================================\n",
      "Total params: 1,017,441\n",
      "Trainable params: 1,017,441\n",
      "Non-trainable params: 0\n",
      "_________________________________________________________________\n",
      "None\n"
     ]
    }
   ],
   "source": [
    "\n",
    "inputs = layers.Input(shape=(128, 128, 3))\n",
    "x = inputs\n",
    "\n",
    "\n",
    "x = layers.Conv2D(64, kernel_size=3, padding='same',\n",
    "activation='relu')(x)\n",
    "x = layers.AveragePooling2D(2)(x)\n",
    "x = layers.Conv2D(192, kernel_size=3, padding='same',\n",
    "activation='relu')(x)\n",
    "x = layers.MaxPooling2D(2)(x)\n",
    "x = layers.Conv2D(256, kernel_size=3, padding='same',\n",
    "activation='relu')(x)\n",
    "x = layers.MaxPooling2D(2)(x)\n",
    "x = layers.Conv2D(96, kernel_size=3, padding='same',\n",
    "activation='relu')(x)\n",
    "x = layers.MaxPooling2D(2)(x)\n",
    "x = layers.Conv2D(64, kernel_size=3, padding='same',\n",
    "activation='relu')(x)\n",
    "x = layers.AveragePooling2D(2)(x)\n",
    "x = layers.Conv2D(128, kernel_size=3, padding='same',\n",
    "activation='relu')(x)\n",
    "x = layers.Conv2D(64, kernel_size=3, padding='same',\n",
    "activation='relu')(x)\n",
    "x = layers.Conv2D(64, kernel_size=3, padding='same',\n",
    "activation='relu')(x)\n",
    "x = layers.Flatten()(x)\n",
    "outputs = layers.Dense(1, activation='sigmoid')(x)\n",
    "\n",
    "# Build model\n",
    "model = keras.Model(inputs, outputs)\n",
    "model.compile(optimizer=Adam(0.0005),\n",
    "loss='binary_crossentropy',\n",
    "metrics=['accuracy'])\n",
    "print(model.summary())"
   ]
  },
  {
   "cell_type": "code",
   "execution_count": 41,
   "metadata": {},
   "outputs": [
    {
     "name": "stdout",
     "output_type": "stream",
     "text": [
      "Train on 1646 samples\n",
      "Epoch 1/25\n",
      "1646/1646 [==============================] - ETA: 50s - loss: 0.9353 - accuracy: 0.250 - ETA: 31s - loss: 3.6138 - accuracy: 0.421 - ETA: 25s - loss: 2.7002 - accuracy: 0.416 - ETA: 22s - loss: 2.3042 - accuracy: 0.453 - ETA: 20s - loss: 2.1623 - accuracy: 0.406 - ETA: 18s - loss: 1.9053 - accuracy: 0.453 - ETA: 17s - loss: 1.7455 - accuracy: 0.477 - ETA: 16s - loss: 1.6098 - accuracy: 0.492 - ETA: 16s - loss: 1.5077 - accuracy: 0.503 - ETA: 15s - loss: 1.4412 - accuracy: 0.496 - ETA: 14s - loss: 1.3691 - accuracy: 0.511 - ETA: 14s - loss: 1.3073 - accuracy: 0.520 - ETA: 13s - loss: 1.2535 - accuracy: 0.533 - ETA: 13s - loss: 1.2221 - accuracy: 0.542 - ETA: 12s - loss: 1.2044 - accuracy: 0.537 - ETA: 12s - loss: 1.1771 - accuracy: 0.535 - ETA: 11s - loss: 1.1455 - accuracy: 0.538 - ETA: 11s - loss: 1.1189 - accuracy: 0.539 - ETA: 10s - loss: 1.0912 - accuracy: 0.551 - ETA: 10s - loss: 1.0782 - accuracy: 0.540 - ETA: 10s - loss: 1.0583 - accuracy: 0.543 - ETA: 9s - loss: 1.0434 - accuracy: 0.535 - ETA: 9s - loss: 1.0278 - accuracy: 0.53 - ETA: 9s - loss: 1.0112 - accuracy: 0.54 - ETA: 8s - loss: 0.9975 - accuracy: 0.54 - ETA: 8s - loss: 0.9846 - accuracy: 0.54 - ETA: 7s - loss: 0.9748 - accuracy: 0.53 - ETA: 7s - loss: 0.9642 - accuracy: 0.54 - ETA: 7s - loss: 0.9544 - accuracy: 0.54 - ETA: 6s - loss: 0.9447 - accuracy: 0.54 - ETA: 6s - loss: 0.9359 - accuracy: 0.55 - ETA: 6s - loss: 0.9247 - accuracy: 0.56 - ETA: 5s - loss: 0.9157 - accuracy: 0.56 - ETA: 5s - loss: 0.9063 - accuracy: 0.56 - ETA: 5s - loss: 0.8959 - accuracy: 0.57 - ETA: 4s - loss: 0.8908 - accuracy: 0.56 - ETA: 4s - loss: 0.8847 - accuracy: 0.56 - ETA: 4s - loss: 0.8758 - accuracy: 0.57 - ETA: 3s - loss: 0.8695 - accuracy: 0.57 - ETA: 3s - loss: 0.8627 - accuracy: 0.57 - ETA: 3s - loss: 0.8569 - accuracy: 0.57 - ETA: 2s - loss: 0.8503 - accuracy: 0.58 - ETA: 2s - loss: 0.8427 - accuracy: 0.58 - ETA: 2s - loss: 0.8360 - accuracy: 0.58 - ETA: 2s - loss: 0.8304 - accuracy: 0.58 - ETA: 1s - loss: 0.8230 - accuracy: 0.59 - ETA: 1s - loss: 0.8160 - accuracy: 0.59 - ETA: 1s - loss: 0.8081 - accuracy: 0.60 - ETA: 0s - loss: 0.8042 - accuracy: 0.60 - ETA: 0s - loss: 0.7984 - accuracy: 0.60 - ETA: 0s - loss: 0.7965 - accuracy: 0.61 - 16s 10ms/sample - loss: 0.7960 - accuracy: 0.6124\n",
      "Epoch 2/25\n",
      "1646/1646 [==============================] - ETA: 15s - loss: 0.4617 - accuracy: 0.750 - ETA: 15s - loss: 0.4397 - accuracy: 0.734 - ETA: 14s - loss: 0.4435 - accuracy: 0.739 - ETA: 14s - loss: 0.4621 - accuracy: 0.750 - ETA: 14s - loss: 0.4927 - accuracy: 0.725 - ETA: 14s - loss: 0.5073 - accuracy: 0.713 - ETA: 13s - loss: 0.5111 - accuracy: 0.709 - ETA: 13s - loss: 0.5010 - accuracy: 0.722 - ETA: 13s - loss: 0.5227 - accuracy: 0.711 - ETA: 12s - loss: 0.5375 - accuracy: 0.706 - ETA: 12s - loss: 0.5321 - accuracy: 0.710 - ETA: 12s - loss: 0.5278 - accuracy: 0.710 - ETA: 12s - loss: 0.5301 - accuracy: 0.709 - ETA: 11s - loss: 0.5237 - accuracy: 0.721 - ETA: 11s - loss: 0.5276 - accuracy: 0.714 - ETA: 11s - loss: 0.5293 - accuracy: 0.714 - ETA: 10s - loss: 0.5284 - accuracy: 0.713 - ETA: 10s - loss: 0.5189 - accuracy: 0.724 - ETA: 10s - loss: 0.5149 - accuracy: 0.723 - ETA: 9s - loss: 0.5106 - accuracy: 0.729 - ETA: 9s - loss: 0.5097 - accuracy: 0.73 - ETA: 9s - loss: 0.5162 - accuracy: 0.72 - ETA: 8s - loss: 0.5184 - accuracy: 0.73 - ETA: 8s - loss: 0.5196 - accuracy: 0.73 - ETA: 8s - loss: 0.5121 - accuracy: 0.73 - ETA: 8s - loss: 0.5177 - accuracy: 0.73 - ETA: 7s - loss: 0.5145 - accuracy: 0.73 - ETA: 7s - loss: 0.5125 - accuracy: 0.73 - ETA: 7s - loss: 0.5138 - accuracy: 0.73 - ETA: 6s - loss: 0.5192 - accuracy: 0.73 - ETA: 6s - loss: 0.5169 - accuracy: 0.73 - ETA: 6s - loss: 0.5158 - accuracy: 0.73 - ETA: 5s - loss: 0.5113 - accuracy: 0.73 - ETA: 5s - loss: 0.5134 - accuracy: 0.73 - ETA: 5s - loss: 0.5084 - accuracy: 0.74 - ETA: 4s - loss: 0.5068 - accuracy: 0.74 - ETA: 4s - loss: 0.5023 - accuracy: 0.74 - ETA: 4s - loss: 0.5013 - accuracy: 0.74 - ETA: 3s - loss: 0.4961 - accuracy: 0.74 - ETA: 3s - loss: 0.4957 - accuracy: 0.74 - ETA: 3s - loss: 0.4975 - accuracy: 0.74 - ETA: 3s - loss: 0.5019 - accuracy: 0.74 - ETA: 2s - loss: 0.5011 - accuracy: 0.74 - ETA: 2s - loss: 0.5028 - accuracy: 0.74 - ETA: 2s - loss: 0.5025 - accuracy: 0.74 - ETA: 1s - loss: 0.5025 - accuracy: 0.74 - ETA: 1s - loss: 0.5028 - accuracy: 0.74 - ETA: 1s - loss: 0.5025 - accuracy: 0.74 - ETA: 0s - loss: 0.5033 - accuracy: 0.74 - ETA: 0s - loss: 0.5063 - accuracy: 0.74 - ETA: 0s - loss: 0.5059 - accuracy: 0.73 - 16s 10ms/sample - loss: 0.5060 - accuracy: 0.7394\n",
      "Epoch 3/25\n",
      "1646/1646 [==============================] - ETA: 16s - loss: 0.4155 - accuracy: 0.843 - ETA: 15s - loss: 0.4628 - accuracy: 0.781 - ETA: 15s - loss: 0.5215 - accuracy: 0.739 - ETA: 15s - loss: 0.6065 - accuracy: 0.703 - ETA: 15s - loss: 0.5574 - accuracy: 0.743 - ETA: 14s - loss: 0.5469 - accuracy: 0.755 - ETA: 14s - loss: 0.5372 - accuracy: 0.763 - ETA: 14s - loss: 0.5263 - accuracy: 0.761 - ETA: 13s - loss: 0.5239 - accuracy: 0.763 - ETA: 13s - loss: 0.5187 - accuracy: 0.768 - ETA: 13s - loss: 0.5069 - accuracy: 0.778 - ETA: 12s - loss: 0.5098 - accuracy: 0.770 - ETA: 12s - loss: 0.5015 - accuracy: 0.776 - ETA: 12s - loss: 0.4918 - accuracy: 0.776 - ETA: 11s - loss: 0.4884 - accuracy: 0.777 - ETA: 11s - loss: 0.4952 - accuracy: 0.773 - ETA: 11s - loss: 0.4959 - accuracy: 0.773 - ETA: 10s - loss: 0.4963 - accuracy: 0.770 - ETA: 10s - loss: 0.4925 - accuracy: 0.774 - ETA: 10s - loss: 0.4852 - accuracy: 0.778 - ETA: 9s - loss: 0.4841 - accuracy: 0.778 - ETA: 9s - loss: 0.4850 - accuracy: 0.77 - ETA: 9s - loss: 0.4886 - accuracy: 0.77 - ETA: 8s - loss: 0.4801 - accuracy: 0.77 - ETA: 8s - loss: 0.4796 - accuracy: 0.77 - ETA: 8s - loss: 0.4803 - accuracy: 0.77 - ETA: 7s - loss: 0.4789 - accuracy: 0.77 - ETA: 7s - loss: 0.4855 - accuracy: 0.77 - ETA: 7s - loss: 0.4819 - accuracy: 0.77 - ETA: 7s - loss: 0.4819 - accuracy: 0.77 - ETA: 6s - loss: 0.4778 - accuracy: 0.77 - ETA: 6s - loss: 0.4783 - accuracy: 0.77 - ETA: 6s - loss: 0.4752 - accuracy: 0.77 - ETA: 5s - loss: 0.4739 - accuracy: 0.77 - ETA: 5s - loss: 0.4760 - accuracy: 0.77 - ETA: 5s - loss: 0.4738 - accuracy: 0.78 - ETA: 4s - loss: 0.4730 - accuracy: 0.78 - ETA: 4s - loss: 0.4703 - accuracy: 0.78 - ETA: 4s - loss: 0.4716 - accuracy: 0.78 - ETA: 3s - loss: 0.4681 - accuracy: 0.78 - ETA: 3s - loss: 0.4679 - accuracy: 0.78 - ETA: 3s - loss: 0.4678 - accuracy: 0.78 - ETA: 2s - loss: 0.4701 - accuracy: 0.78 - ETA: 2s - loss: 0.4679 - accuracy: 0.78 - ETA: 2s - loss: 0.4671 - accuracy: 0.78 - ETA: 1s - loss: 0.4666 - accuracy: 0.78 - ETA: 1s - loss: 0.4663 - accuracy: 0.78 - ETA: 1s - loss: 0.4658 - accuracy: 0.78 - ETA: 0s - loss: 0.4657 - accuracy: 0.78 - ETA: 0s - loss: 0.4640 - accuracy: 0.78 - ETA: 0s - loss: 0.4606 - accuracy: 0.78 - 17s 10ms/sample - loss: 0.4601 - accuracy: 0.7855\n",
      "Epoch 4/25\n",
      "1646/1646 [==============================] - ETA: 16s - loss: 0.4007 - accuracy: 0.781 - ETA: 16s - loss: 0.4130 - accuracy: 0.781 - ETA: 15s - loss: 0.4737 - accuracy: 0.750 - ETA: 15s - loss: 0.4314 - accuracy: 0.781 - ETA: 15s - loss: 0.4298 - accuracy: 0.781 - ETA: 14s - loss: 0.4290 - accuracy: 0.776 - ETA: 14s - loss: 0.4249 - accuracy: 0.781 - ETA: 14s - loss: 0.4348 - accuracy: 0.769 - ETA: 13s - loss: 0.4352 - accuracy: 0.770 - ETA: 13s - loss: 0.4316 - accuracy: 0.778 - ETA: 13s - loss: 0.4361 - accuracy: 0.781 - ETA: 12s - loss: 0.4453 - accuracy: 0.778 - ETA: 12s - loss: 0.4415 - accuracy: 0.781 - ETA: 12s - loss: 0.4356 - accuracy: 0.783 - ETA: 11s - loss: 0.4239 - accuracy: 0.791 - ETA: 11s - loss: 0.4161 - accuracy: 0.796 - ETA: 11s - loss: 0.4212 - accuracy: 0.797 - ETA: 10s - loss: 0.4229 - accuracy: 0.795 - ETA: 10s - loss: 0.4237 - accuracy: 0.794 - ETA: 10s - loss: 0.4244 - accuracy: 0.793 - ETA: 9s - loss: 0.4247 - accuracy: 0.794 - ETA: 9s - loss: 0.4221 - accuracy: 0.79 - ETA: 9s - loss: 0.4210 - accuracy: 0.79 - ETA: 8s - loss: 0.4236 - accuracy: 0.79 - ETA: 8s - loss: 0.4251 - accuracy: 0.79 - ETA: 8s - loss: 0.4249 - accuracy: 0.79 - ETA: 7s - loss: 0.4279 - accuracy: 0.78 - ETA: 7s - loss: 0.4211 - accuracy: 0.79 - ETA: 7s - loss: 0.4152 - accuracy: 0.79 - ETA: 7s - loss: 0.4164 - accuracy: 0.79 - ETA: 6s - loss: 0.4155 - accuracy: 0.80 - ETA: 6s - loss: 0.4169 - accuracy: 0.79 - ETA: 6s - loss: 0.4227 - accuracy: 0.79 - ETA: 5s - loss: 0.4216 - accuracy: 0.79 - ETA: 5s - loss: 0.4222 - accuracy: 0.79 - ETA: 5s - loss: 0.4225 - accuracy: 0.79 - ETA: 4s - loss: 0.4224 - accuracy: 0.79 - ETA: 4s - loss: 0.4218 - accuracy: 0.79 - ETA: 4s - loss: 0.4252 - accuracy: 0.79 - ETA: 3s - loss: 0.4262 - accuracy: 0.79 - ETA: 3s - loss: 0.4305 - accuracy: 0.79 - ETA: 3s - loss: 0.4293 - accuracy: 0.79 - ETA: 2s - loss: 0.4312 - accuracy: 0.79 - ETA: 2s - loss: 0.4333 - accuracy: 0.79 - ETA: 2s - loss: 0.4373 - accuracy: 0.78 - ETA: 1s - loss: 0.4374 - accuracy: 0.78 - ETA: 1s - loss: 0.4402 - accuracy: 0.78 - ETA: 1s - loss: 0.4403 - accuracy: 0.78 - ETA: 0s - loss: 0.4402 - accuracy: 0.78 - ETA: 0s - loss: 0.4399 - accuracy: 0.78 - ETA: 0s - loss: 0.4401 - accuracy: 0.78 - 17s 10ms/sample - loss: 0.4411 - accuracy: 0.7868\n",
      "Epoch 5/25\n",
      "1646/1646 [==============================] - ETA: 16s - loss: 0.3896 - accuracy: 0.812 - ETA: 16s - loss: 0.4178 - accuracy: 0.812 - ETA: 16s - loss: 0.3977 - accuracy: 0.822 - ETA: 15s - loss: 0.4130 - accuracy: 0.804 - ETA: 15s - loss: 0.4401 - accuracy: 0.781 - ETA: 15s - loss: 0.4249 - accuracy: 0.796 - ETA: 14s - loss: 0.4100 - accuracy: 0.803 - ETA: 14s - loss: 0.4101 - accuracy: 0.808 - ETA: 14s - loss: 0.3968 - accuracy: 0.812 - ETA: 13s - loss: 0.4133 - accuracy: 0.809 - ETA: 13s - loss: 0.4182 - accuracy: 0.801 - ETA: 13s - loss: 0.4262 - accuracy: 0.799 - ETA: 12s - loss: 0.4147 - accuracy: 0.805 - ETA: 12s - loss: 0.4143 - accuracy: 0.803 - ETA: 12s - loss: 0.4133 - accuracy: 0.802 - ETA: 11s - loss: 0.4123 - accuracy: 0.802 - ETA: 11s - loss: 0.4142 - accuracy: 0.801 - ETA: 11s - loss: 0.4100 - accuracy: 0.805 - ETA: 10s - loss: 0.4212 - accuracy: 0.796 - ETA: 10s - loss: 0.4169 - accuracy: 0.800 - ETA: 10s - loss: 0.4115 - accuracy: 0.805 - ETA: 9s - loss: 0.4156 - accuracy: 0.802 - ETA: 9s - loss: 0.4126 - accuracy: 0.80 - ETA: 9s - loss: 0.4120 - accuracy: 0.80 - ETA: 8s - loss: 0.4265 - accuracy: 0.80 - ETA: 8s - loss: 0.4204 - accuracy: 0.80 - ETA: 8s - loss: 0.4222 - accuracy: 0.79 - ETA: 7s - loss: 0.4169 - accuracy: 0.80 - ETA: 7s - loss: 0.4169 - accuracy: 0.80 - ETA: 7s - loss: 0.4157 - accuracy: 0.80 - ETA: 6s - loss: 0.4152 - accuracy: 0.80 - ETA: 6s - loss: 0.4140 - accuracy: 0.80 - ETA: 6s - loss: 0.4098 - accuracy: 0.80 - ETA: 5s - loss: 0.4127 - accuracy: 0.80 - ETA: 5s - loss: 0.4105 - accuracy: 0.80 - ETA: 5s - loss: 0.4113 - accuracy: 0.80 - ETA: 4s - loss: 0.4063 - accuracy: 0.80 - ETA: 4s - loss: 0.4046 - accuracy: 0.81 - ETA: 4s - loss: 0.4010 - accuracy: 0.81 - ETA: 3s - loss: 0.3988 - accuracy: 0.81 - ETA: 3s - loss: 0.4019 - accuracy: 0.81 - ETA: 3s - loss: 0.4050 - accuracy: 0.81 - ETA: 2s - loss: 0.4065 - accuracy: 0.80 - ETA: 2s - loss: 0.4067 - accuracy: 0.80 - ETA: 2s - loss: 0.4043 - accuracy: 0.81 - ETA: 1s - loss: 0.4045 - accuracy: 0.80 - ETA: 1s - loss: 0.4040 - accuracy: 0.80 - ETA: 1s - loss: 0.4030 - accuracy: 0.80 - ETA: 0s - loss: 0.4081 - accuracy: 0.80 - ETA: 0s - loss: 0.4079 - accuracy: 0.80 - ETA: 0s - loss: 0.4070 - accuracy: 0.80 - 17s 10ms/sample - loss: 0.4061 - accuracy: 0.8080\n",
      "Epoch 6/25\n",
      "1646/1646 [==============================] - ETA: 16s - loss: 0.4444 - accuracy: 0.781 - ETA: 16s - loss: 0.4307 - accuracy: 0.796 - ETA: 16s - loss: 0.3962 - accuracy: 0.822 - ETA: 15s - loss: 0.3935 - accuracy: 0.828 - ETA: 15s - loss: 0.3938 - accuracy: 0.831 - ETA: 15s - loss: 0.3883 - accuracy: 0.828 - ETA: 14s - loss: 0.3648 - accuracy: 0.848 - ETA: 14s - loss: 0.3510 - accuracy: 0.855 - ETA: 14s - loss: 0.3547 - accuracy: 0.850 - ETA: 13s - loss: 0.3464 - accuracy: 0.853 - ETA: 13s - loss: 0.3590 - accuracy: 0.840 - ETA: 13s - loss: 0.3435 - accuracy: 0.851 - ETA: 12s - loss: 0.3451 - accuracy: 0.848 - ETA: 12s - loss: 0.3432 - accuracy: 0.850 - ETA: 12s - loss: 0.3371 - accuracy: 0.852 - ETA: 11s - loss: 0.3337 - accuracy: 0.855 - ETA: 11s - loss: 0.3329 - accuracy: 0.852 - ETA: 11s - loss: 0.3328 - accuracy: 0.854 - ETA: 10s - loss: 0.3276 - accuracy: 0.855 - ETA: 10s - loss: 0.3414 - accuracy: 0.851 - ETA: 10s - loss: 0.3481 - accuracy: 0.849 - ETA: 9s - loss: 0.3481 - accuracy: 0.850 - ETA: 9s - loss: 0.3618 - accuracy: 0.84 - ETA: 9s - loss: 0.3625 - accuracy: 0.84 - ETA: 8s - loss: 0.3676 - accuracy: 0.84 - ETA: 8s - loss: 0.3664 - accuracy: 0.84 - ETA: 8s - loss: 0.3636 - accuracy: 0.84 - ETA: 7s - loss: 0.3643 - accuracy: 0.84 - ETA: 7s - loss: 0.3633 - accuracy: 0.84 - ETA: 7s - loss: 0.3596 - accuracy: 0.84 - ETA: 6s - loss: 0.3565 - accuracy: 0.84 - ETA: 6s - loss: 0.3571 - accuracy: 0.84 - ETA: 6s - loss: 0.3571 - accuracy: 0.84 - ETA: 5s - loss: 0.3574 - accuracy: 0.84 - ETA: 5s - loss: 0.3562 - accuracy: 0.84 - ETA: 5s - loss: 0.3567 - accuracy: 0.84 - ETA: 4s - loss: 0.3554 - accuracy: 0.84 - ETA: 4s - loss: 0.3497 - accuracy: 0.84 - ETA: 4s - loss: 0.3482 - accuracy: 0.85 - ETA: 3s - loss: 0.3445 - accuracy: 0.85 - ETA: 3s - loss: 0.3481 - accuracy: 0.85 - ETA: 3s - loss: 0.3478 - accuracy: 0.85 - ETA: 2s - loss: 0.3457 - accuracy: 0.85 - ETA: 2s - loss: 0.3455 - accuracy: 0.85 - ETA: 2s - loss: 0.3459 - accuracy: 0.85 - ETA: 1s - loss: 0.3430 - accuracy: 0.85 - ETA: 1s - loss: 0.3422 - accuracy: 0.85 - ETA: 1s - loss: 0.3420 - accuracy: 0.85 - ETA: 0s - loss: 0.3453 - accuracy: 0.85 - ETA: 0s - loss: 0.3482 - accuracy: 0.85 - ETA: 0s - loss: 0.3509 - accuracy: 0.85 - 17s 10ms/sample - loss: 0.3561 - accuracy: 0.8499\n",
      "Epoch 7/25\n",
      "1646/1646 [==============================] - ETA: 16s - loss: 0.4718 - accuracy: 0.781 - ETA: 16s - loss: 0.4110 - accuracy: 0.843 - ETA: 16s - loss: 0.3810 - accuracy: 0.854 - ETA: 15s - loss: 0.3565 - accuracy: 0.875 - ETA: 15s - loss: 0.3295 - accuracy: 0.887 - ETA: 15s - loss: 0.3454 - accuracy: 0.869 - ETA: 14s - loss: 0.3427 - accuracy: 0.861 - ETA: 14s - loss: 0.3625 - accuracy: 0.851 - ETA: 14s - loss: 0.3600 - accuracy: 0.850 - ETA: 13s - loss: 0.3594 - accuracy: 0.850 - ETA: 13s - loss: 0.3524 - accuracy: 0.855 - ETA: 13s - loss: 0.3626 - accuracy: 0.846 - ETA: 12s - loss: 0.3522 - accuracy: 0.855 - ETA: 12s - loss: 0.3531 - accuracy: 0.854 - ETA: 12s - loss: 0.3502 - accuracy: 0.856 - ETA: 11s - loss: 0.3453 - accuracy: 0.855 - ETA: 11s - loss: 0.3431 - accuracy: 0.858 - ETA: 11s - loss: 0.3442 - accuracy: 0.859 - ETA: 10s - loss: 0.3430 - accuracy: 0.858 - ETA: 10s - loss: 0.3394 - accuracy: 0.862 - ETA: 10s - loss: 0.3366 - accuracy: 0.863 - ETA: 9s - loss: 0.3373 - accuracy: 0.863 - ETA: 9s - loss: 0.3320 - accuracy: 0.86 - ETA: 9s - loss: 0.3334 - accuracy: 0.86 - ETA: 8s - loss: 0.3312 - accuracy: 0.86 - ETA: 8s - loss: 0.3301 - accuracy: 0.86 - ETA: 8s - loss: 0.3303 - accuracy: 0.86 - ETA: 7s - loss: 0.3249 - accuracy: 0.86 - ETA: 7s - loss: 0.3245 - accuracy: 0.86 - ETA: 7s - loss: 0.3227 - accuracy: 0.86 - ETA: 6s - loss: 0.3243 - accuracy: 0.86 - ETA: 6s - loss: 0.3221 - accuracy: 0.86 - ETA: 6s - loss: 0.3201 - accuracy: 0.86 - ETA: 5s - loss: 0.3225 - accuracy: 0.86 - ETA: 5s - loss: 0.3284 - accuracy: 0.86 - ETA: 5s - loss: 0.3264 - accuracy: 0.86 - ETA: 4s - loss: 0.3265 - accuracy: 0.86 - ETA: 4s - loss: 0.3289 - accuracy: 0.86 - ETA: 4s - loss: 0.3275 - accuracy: 0.86 - ETA: 3s - loss: 0.3291 - accuracy: 0.86 - ETA: 3s - loss: 0.3253 - accuracy: 0.86 - ETA: 3s - loss: 0.3251 - accuracy: 0.86 - ETA: 2s - loss: 0.3230 - accuracy: 0.86 - ETA: 2s - loss: 0.3229 - accuracy: 0.86 - ETA: 2s - loss: 0.3214 - accuracy: 0.86 - ETA: 1s - loss: 0.3202 - accuracy: 0.86 - ETA: 1s - loss: 0.3245 - accuracy: 0.86 - ETA: 1s - loss: 0.3208 - accuracy: 0.86 - ETA: 0s - loss: 0.3204 - accuracy: 0.86 - ETA: 0s - loss: 0.3221 - accuracy: 0.86 - ETA: 0s - loss: 0.3232 - accuracy: 0.86 - 17s 11ms/sample - loss: 0.3229 - accuracy: 0.8603\n",
      "Epoch 8/25\n",
      "1646/1646 [==============================] - ETA: 16s - loss: 0.3238 - accuracy: 0.812 - ETA: 16s - loss: 0.2828 - accuracy: 0.859 - ETA: 16s - loss: 0.3132 - accuracy: 0.854 - ETA: 15s - loss: 0.2995 - accuracy: 0.859 - ETA: 15s - loss: 0.3152 - accuracy: 0.850 - ETA: 15s - loss: 0.3217 - accuracy: 0.849 - ETA: 14s - loss: 0.3129 - accuracy: 0.852 - ETA: 14s - loss: 0.2949 - accuracy: 0.863 - ETA: 14s - loss: 0.2995 - accuracy: 0.864 - ETA: 13s - loss: 0.3141 - accuracy: 0.859 - ETA: 13s - loss: 0.3056 - accuracy: 0.863 - ETA: 13s - loss: 0.2944 - accuracy: 0.869 - ETA: 12s - loss: 0.3006 - accuracy: 0.870 - ETA: 12s - loss: 0.3051 - accuracy: 0.861 - ETA: 12s - loss: 0.3018 - accuracy: 0.860 - ETA: 11s - loss: 0.2953 - accuracy: 0.865 - ETA: 11s - loss: 0.2973 - accuracy: 0.864 - ETA: 11s - loss: 0.2997 - accuracy: 0.864 - ETA: 10s - loss: 0.2911 - accuracy: 0.871 - ETA: 10s - loss: 0.2886 - accuracy: 0.871 - ETA: 10s - loss: 0.2803 - accuracy: 0.876 - ETA: 9s - loss: 0.2822 - accuracy: 0.873 - ETA: 9s - loss: 0.2938 - accuracy: 0.87 - ETA: 9s - loss: 0.2924 - accuracy: 0.87 - ETA: 8s - loss: 0.2859 - accuracy: 0.87 - ETA: 8s - loss: 0.2817 - accuracy: 0.87 - ETA: 8s - loss: 0.2868 - accuracy: 0.87 - ETA: 7s - loss: 0.2825 - accuracy: 0.88 - ETA: 7s - loss: 0.2799 - accuracy: 0.88 - ETA: 7s - loss: 0.2769 - accuracy: 0.88 - ETA: 6s - loss: 0.2715 - accuracy: 0.88 - ETA: 6s - loss: 0.2700 - accuracy: 0.88 - ETA: 6s - loss: 0.2699 - accuracy: 0.88 - ETA: 5s - loss: 0.2701 - accuracy: 0.88 - ETA: 5s - loss: 0.2726 - accuracy: 0.88 - ETA: 5s - loss: 0.2746 - accuracy: 0.88 - ETA: 4s - loss: 0.2759 - accuracy: 0.88 - ETA: 4s - loss: 0.2792 - accuracy: 0.88 - ETA: 4s - loss: 0.2784 - accuracy: 0.88 - ETA: 3s - loss: 0.2777 - accuracy: 0.88 - ETA: 3s - loss: 0.2804 - accuracy: 0.88 - ETA: 3s - loss: 0.2808 - accuracy: 0.88 - ETA: 2s - loss: 0.2800 - accuracy: 0.88 - ETA: 2s - loss: 0.2816 - accuracy: 0.88 - ETA: 2s - loss: 0.2801 - accuracy: 0.87 - ETA: 1s - loss: 0.2816 - accuracy: 0.87 - ETA: 1s - loss: 0.2811 - accuracy: 0.87 - ETA: 1s - loss: 0.2789 - accuracy: 0.88 - ETA: 0s - loss: 0.2809 - accuracy: 0.88 - ETA: 0s - loss: 0.2804 - accuracy: 0.88 - ETA: 0s - loss: 0.2794 - accuracy: 0.88 - 17s 11ms/sample - loss: 0.2787 - accuracy: 0.8809\n",
      "Epoch 9/25\n",
      "1646/1646 [==============================] - ETA: 16s - loss: 0.3128 - accuracy: 0.906 - ETA: 16s - loss: 0.3253 - accuracy: 0.828 - ETA: 16s - loss: 0.2840 - accuracy: 0.833 - ETA: 15s - loss: 0.2751 - accuracy: 0.835 - ETA: 15s - loss: 0.2406 - accuracy: 0.868 - ETA: 15s - loss: 0.2273 - accuracy: 0.880 - ETA: 14s - loss: 0.2075 - accuracy: 0.897 - ETA: 14s - loss: 0.2082 - accuracy: 0.898 - ETA: 14s - loss: 0.1974 - accuracy: 0.902 - ETA: 13s - loss: 0.2103 - accuracy: 0.903 - ETA: 13s - loss: 0.2210 - accuracy: 0.903 - ETA: 13s - loss: 0.2417 - accuracy: 0.890 - ETA: 12s - loss: 0.2312 - accuracy: 0.894 - ETA: 12s - loss: 0.2347 - accuracy: 0.892 - ETA: 12s - loss: 0.2313 - accuracy: 0.893 - ETA: 12s - loss: 0.2338 - accuracy: 0.892 - ETA: 13s - loss: 0.2314 - accuracy: 0.893 - ETA: 13s - loss: 0.2290 - accuracy: 0.894 - ETA: 13s - loss: 0.2243 - accuracy: 0.898 - ETA: 12s - loss: 0.2301 - accuracy: 0.898 - ETA: 12s - loss: 0.2248 - accuracy: 0.901 - ETA: 11s - loss: 0.2375 - accuracy: 0.897 - ETA: 11s - loss: 0.2405 - accuracy: 0.896 - ETA: 10s - loss: 0.2411 - accuracy: 0.897 - ETA: 10s - loss: 0.2414 - accuracy: 0.895 - ETA: 10s - loss: 0.2412 - accuracy: 0.894 - ETA: 9s - loss: 0.2413 - accuracy: 0.892 - ETA: 9s - loss: 0.2390 - accuracy: 0.89 - ETA: 8s - loss: 0.2354 - accuracy: 0.89 - ETA: 8s - loss: 0.2402 - accuracy: 0.89 - ETA: 7s - loss: 0.2400 - accuracy: 0.89 - ETA: 7s - loss: 0.2377 - accuracy: 0.89 - ETA: 7s - loss: 0.2346 - accuracy: 0.90 - ETA: 6s - loss: 0.2353 - accuracy: 0.89 - ETA: 6s - loss: 0.2392 - accuracy: 0.89 - ETA: 5s - loss: 0.2401 - accuracy: 0.89 - ETA: 5s - loss: 0.2374 - accuracy: 0.89 - ETA: 5s - loss: 0.2365 - accuracy: 0.89 - ETA: 4s - loss: 0.2368 - accuracy: 0.89 - ETA: 4s - loss: 0.2351 - accuracy: 0.89 - ETA: 3s - loss: 0.2349 - accuracy: 0.89 - ETA: 3s - loss: 0.2343 - accuracy: 0.89 - ETA: 3s - loss: 0.2367 - accuracy: 0.89 - ETA: 2s - loss: 0.2350 - accuracy: 0.89 - ETA: 2s - loss: 0.2335 - accuracy: 0.90 - ETA: 2s - loss: 0.2351 - accuracy: 0.89 - ETA: 1s - loss: 0.2369 - accuracy: 0.89 - ETA: 1s - loss: 0.2353 - accuracy: 0.89 - ETA: 0s - loss: 0.2381 - accuracy: 0.89 - ETA: 0s - loss: 0.2365 - accuracy: 0.89 - ETA: 0s - loss: 0.2390 - accuracy: 0.89 - 19s 11ms/sample - loss: 0.2390 - accuracy: 0.8925\n",
      "Epoch 10/25\n",
      "1646/1646 [==============================] - ETA: 16s - loss: 0.1739 - accuracy: 0.937 - ETA: 16s - loss: 0.1221 - accuracy: 0.968 - ETA: 16s - loss: 0.1469 - accuracy: 0.947 - ETA: 15s - loss: 0.1670 - accuracy: 0.937 - ETA: 15s - loss: 0.1539 - accuracy: 0.943 - ETA: 15s - loss: 0.1587 - accuracy: 0.937 - ETA: 14s - loss: 0.1476 - accuracy: 0.933 - ETA: 14s - loss: 0.1435 - accuracy: 0.937 - ETA: 14s - loss: 0.1319 - accuracy: 0.944 - ETA: 13s - loss: 0.1421 - accuracy: 0.937 - ETA: 13s - loss: 0.1595 - accuracy: 0.929 - ETA: 13s - loss: 0.1598 - accuracy: 0.924 - ETA: 12s - loss: 0.1538 - accuracy: 0.927 - ETA: 12s - loss: 0.1467 - accuracy: 0.933 - ETA: 12s - loss: 0.1486 - accuracy: 0.931 - ETA: 11s - loss: 0.1466 - accuracy: 0.933 - ETA: 11s - loss: 0.1410 - accuracy: 0.937 - ETA: 11s - loss: 0.1434 - accuracy: 0.935 - ETA: 10s - loss: 0.1460 - accuracy: 0.935 - ETA: 10s - loss: 0.1423 - accuracy: 0.937 - ETA: 10s - loss: 0.1383 - accuracy: 0.940 - ETA: 9s - loss: 0.1364 - accuracy: 0.940 - ETA: 9s - loss: 0.1408 - accuracy: 0.93 - ETA: 9s - loss: 0.1465 - accuracy: 0.93 - ETA: 8s - loss: 0.1439 - accuracy: 0.93 - ETA: 8s - loss: 0.1443 - accuracy: 0.93 - ETA: 8s - loss: 0.1439 - accuracy: 0.93 - ETA: 7s - loss: 0.1418 - accuracy: 0.93 - ETA: 7s - loss: 0.1414 - accuracy: 0.94 - ETA: 7s - loss: 0.1411 - accuracy: 0.94 - ETA: 6s - loss: 0.1469 - accuracy: 0.93 - ETA: 6s - loss: 0.1505 - accuracy: 0.93 - ETA: 6s - loss: 0.1514 - accuracy: 0.93 - ETA: 5s - loss: 0.1494 - accuracy: 0.93 - ETA: 5s - loss: 0.1491 - accuracy: 0.93 - ETA: 5s - loss: 0.1466 - accuracy: 0.94 - ETA: 4s - loss: 0.1473 - accuracy: 0.94 - ETA: 4s - loss: 0.1497 - accuracy: 0.93 - ETA: 4s - loss: 0.1504 - accuracy: 0.93 - ETA: 3s - loss: 0.1497 - accuracy: 0.93 - ETA: 3s - loss: 0.1515 - accuracy: 0.93 - ETA: 3s - loss: 0.1540 - accuracy: 0.93 - ETA: 2s - loss: 0.1537 - accuracy: 0.93 - ETA: 2s - loss: 0.1567 - accuracy: 0.93 - ETA: 2s - loss: 0.1601 - accuracy: 0.93 - ETA: 1s - loss: 0.1597 - accuracy: 0.93 - ETA: 1s - loss: 0.1612 - accuracy: 0.93 - ETA: 1s - loss: 0.1592 - accuracy: 0.93 - ETA: 0s - loss: 0.1591 - accuracy: 0.93 - ETA: 0s - loss: 0.1614 - accuracy: 0.93 - ETA: 0s - loss: 0.1598 - accuracy: 0.93 - 17s 11ms/sample - loss: 0.1618 - accuracy: 0.9368\n",
      "Epoch 11/25\n",
      "1646/1646 [==============================] - ETA: 16s - loss: 0.0738 - accuracy: 0.968 - ETA: 16s - loss: 0.1515 - accuracy: 0.953 - ETA: 16s - loss: 0.1390 - accuracy: 0.958 - ETA: 15s - loss: 0.1531 - accuracy: 0.945 - ETA: 17s - loss: 0.1415 - accuracy: 0.950 - ETA: 19s - loss: 0.1422 - accuracy: 0.953 - ETA: 20s - loss: 0.1452 - accuracy: 0.946 - ETA: 21s - loss: 0.1837 - accuracy: 0.925 - ETA: 21s - loss: 0.1773 - accuracy: 0.930 - ETA: 20s - loss: 0.1760 - accuracy: 0.931 - ETA: 19s - loss: 0.1711 - accuracy: 0.937 - ETA: 18s - loss: 0.1734 - accuracy: 0.937 - ETA: 17s - loss: 0.1750 - accuracy: 0.935 - ETA: 16s - loss: 0.1712 - accuracy: 0.937 - ETA: 15s - loss: 0.1725 - accuracy: 0.937 - ETA: 15s - loss: 0.1664 - accuracy: 0.941 - ETA: 14s - loss: 0.1663 - accuracy: 0.941 - ETA: 14s - loss: 0.1652 - accuracy: 0.939 - ETA: 13s - loss: 0.1714 - accuracy: 0.937 - ETA: 12s - loss: 0.1718 - accuracy: 0.935 - ETA: 12s - loss: 0.1668 - accuracy: 0.936 - ETA: 11s - loss: 0.1649 - accuracy: 0.937 - ETA: 11s - loss: 0.1623 - accuracy: 0.937 - ETA: 10s - loss: 0.1624 - accuracy: 0.937 - ETA: 10s - loss: 0.1608 - accuracy: 0.938 - ETA: 10s - loss: 0.1572 - accuracy: 0.939 - ETA: 9s - loss: 0.1523 - accuracy: 0.942 - ETA: 9s - loss: 0.1536 - accuracy: 0.94 - ETA: 8s - loss: 0.1521 - accuracy: 0.94 - ETA: 8s - loss: 0.1482 - accuracy: 0.94 - ETA: 7s - loss: 0.1469 - accuracy: 0.94 - ETA: 7s - loss: 0.1496 - accuracy: 0.94 - ETA: 7s - loss: 0.1464 - accuracy: 0.94 - ETA: 6s - loss: 0.1458 - accuracy: 0.94 - ETA: 6s - loss: 0.1428 - accuracy: 0.94 - ETA: 5s - loss: 0.1418 - accuracy: 0.94 - ETA: 5s - loss: 0.1418 - accuracy: 0.94 - ETA: 5s - loss: 0.1404 - accuracy: 0.94 - ETA: 4s - loss: 0.1409 - accuracy: 0.94 - ETA: 4s - loss: 0.1393 - accuracy: 0.94 - ETA: 3s - loss: 0.1373 - accuracy: 0.94 - ETA: 3s - loss: 0.1414 - accuracy: 0.94 - ETA: 3s - loss: 0.1416 - accuracy: 0.94 - ETA: 2s - loss: 0.1403 - accuracy: 0.94 - ETA: 2s - loss: 0.1409 - accuracy: 0.94 - ETA: 2s - loss: 0.1404 - accuracy: 0.94 - ETA: 1s - loss: 0.1469 - accuracy: 0.94 - ETA: 1s - loss: 0.1453 - accuracy: 0.94 - ETA: 0s - loss: 0.1441 - accuracy: 0.94 - ETA: 0s - loss: 0.1418 - accuracy: 0.94 - ETA: 0s - loss: 0.1465 - accuracy: 0.94 - 19s 11ms/sample - loss: 0.1458 - accuracy: 0.9435\n",
      "Epoch 12/25\n",
      "1646/1646 [==============================] - ETA: 16s - loss: 0.0627 - accuracy: 0.968 - ETA: 16s - loss: 0.0975 - accuracy: 0.968 - ETA: 16s - loss: 0.0928 - accuracy: 0.968 - ETA: 15s - loss: 0.1542 - accuracy: 0.945 - ETA: 15s - loss: 0.1404 - accuracy: 0.950 - ETA: 15s - loss: 0.1532 - accuracy: 0.942 - ETA: 14s - loss: 0.1521 - accuracy: 0.942 - ETA: 14s - loss: 0.1616 - accuracy: 0.929 - ETA: 14s - loss: 0.1624 - accuracy: 0.930 - ETA: 13s - loss: 0.1600 - accuracy: 0.931 - ETA: 13s - loss: 0.1555 - accuracy: 0.934 - ETA: 13s - loss: 0.1530 - accuracy: 0.937 - ETA: 12s - loss: 0.1595 - accuracy: 0.935 - ETA: 12s - loss: 0.1544 - accuracy: 0.939 - ETA: 12s - loss: 0.1519 - accuracy: 0.939 - ETA: 11s - loss: 0.1541 - accuracy: 0.937 - ETA: 11s - loss: 0.1470 - accuracy: 0.941 - ETA: 11s - loss: 0.1423 - accuracy: 0.944 - ETA: 10s - loss: 0.1385 - accuracy: 0.945 - ETA: 10s - loss: 0.1390 - accuracy: 0.945 - ETA: 10s - loss: 0.1337 - accuracy: 0.947 - ETA: 9s - loss: 0.1307 - accuracy: 0.948 - ETA: 9s - loss: 0.1289 - accuracy: 0.94 - ETA: 9s - loss: 0.1267 - accuracy: 0.95 - ETA: 8s - loss: 0.1221 - accuracy: 0.95 - ETA: 8s - loss: 0.1201 - accuracy: 0.95 - ETA: 8s - loss: 0.1259 - accuracy: 0.95 - ETA: 7s - loss: 0.1230 - accuracy: 0.95 - ETA: 7s - loss: 0.1197 - accuracy: 0.95 - ETA: 7s - loss: 0.1186 - accuracy: 0.95 - ETA: 7s - loss: 0.1200 - accuracy: 0.95 - ETA: 6s - loss: 0.1199 - accuracy: 0.95 - ETA: 6s - loss: 0.1167 - accuracy: 0.95 - ETA: 6s - loss: 0.1149 - accuracy: 0.95 - ETA: 6s - loss: 0.1145 - accuracy: 0.95 - ETA: 5s - loss: 0.1134 - accuracy: 0.95 - ETA: 5s - loss: 0.1134 - accuracy: 0.95 - ETA: 5s - loss: 0.1107 - accuracy: 0.95 - ETA: 4s - loss: 0.1109 - accuracy: 0.95 - ETA: 4s - loss: 0.1090 - accuracy: 0.95 - ETA: 3s - loss: 0.1075 - accuracy: 0.95 - ETA: 3s - loss: 0.1066 - accuracy: 0.95 - ETA: 3s - loss: 0.1079 - accuracy: 0.95 - ETA: 2s - loss: 0.1068 - accuracy: 0.95 - ETA: 2s - loss: 0.1103 - accuracy: 0.95 - ETA: 1s - loss: 0.1136 - accuracy: 0.95 - ETA: 1s - loss: 0.1124 - accuracy: 0.95 - ETA: 1s - loss: 0.1106 - accuracy: 0.95 - ETA: 0s - loss: 0.1091 - accuracy: 0.95 - ETA: 0s - loss: 0.1130 - accuracy: 0.95 - ETA: 0s - loss: 0.1127 - accuracy: 0.95 - 19s 11ms/sample - loss: 0.1118 - accuracy: 0.9575\n",
      "Epoch 13/25\n",
      "1646/1646 [==============================] - ETA: 16s - loss: 0.0699 - accuracy: 1.000 - ETA: 16s - loss: 0.2315 - accuracy: 0.953 - ETA: 16s - loss: 0.1739 - accuracy: 0.968 - ETA: 15s - loss: 0.1691 - accuracy: 0.968 - ETA: 15s - loss: 0.1618 - accuracy: 0.962 - ETA: 15s - loss: 0.1423 - accuracy: 0.968 - ETA: 14s - loss: 0.1255 - accuracy: 0.973 - ETA: 14s - loss: 0.1191 - accuracy: 0.972 - ETA: 14s - loss: 0.1145 - accuracy: 0.968 - ETA: 13s - loss: 0.1102 - accuracy: 0.968 - ETA: 13s - loss: 0.1039 - accuracy: 0.971 - ETA: 13s - loss: 0.1009 - accuracy: 0.971 - ETA: 12s - loss: 0.1002 - accuracy: 0.971 - ETA: 12s - loss: 0.1225 - accuracy: 0.966 - ETA: 12s - loss: 0.1150 - accuracy: 0.968 - ETA: 11s - loss: 0.1150 - accuracy: 0.968 - ETA: 11s - loss: 0.1211 - accuracy: 0.965 - ETA: 11s - loss: 0.1254 - accuracy: 0.961 - ETA: 10s - loss: 0.1226 - accuracy: 0.962 - ETA: 10s - loss: 0.1206 - accuracy: 0.962 - ETA: 10s - loss: 0.1182 - accuracy: 0.962 - ETA: 9s - loss: 0.1274 - accuracy: 0.957 - ETA: 9s - loss: 0.1238 - accuracy: 0.95 - ETA: 9s - loss: 0.1282 - accuracy: 0.95 - ETA: 8s - loss: 0.1250 - accuracy: 0.95 - ETA: 8s - loss: 0.1275 - accuracy: 0.95 - ETA: 8s - loss: 0.1321 - accuracy: 0.95 - ETA: 7s - loss: 0.1330 - accuracy: 0.95 - ETA: 7s - loss: 0.1306 - accuracy: 0.95 - ETA: 7s - loss: 0.1292 - accuracy: 0.95 - ETA: 6s - loss: 0.1307 - accuracy: 0.95 - ETA: 6s - loss: 0.1321 - accuracy: 0.95 - ETA: 6s - loss: 0.1324 - accuracy: 0.95 - ETA: 5s - loss: 0.1323 - accuracy: 0.95 - ETA: 5s - loss: 0.1309 - accuracy: 0.95 - ETA: 5s - loss: 0.1288 - accuracy: 0.95 - ETA: 4s - loss: 0.1267 - accuracy: 0.95 - ETA: 4s - loss: 0.1259 - accuracy: 0.95 - ETA: 4s - loss: 0.1239 - accuracy: 0.95 - ETA: 3s - loss: 0.1226 - accuracy: 0.95 - ETA: 3s - loss: 0.1221 - accuracy: 0.95 - ETA: 3s - loss: 0.1196 - accuracy: 0.95 - ETA: 2s - loss: 0.1172 - accuracy: 0.95 - ETA: 2s - loss: 0.1171 - accuracy: 0.95 - ETA: 2s - loss: 0.1172 - accuracy: 0.95 - ETA: 1s - loss: 0.1154 - accuracy: 0.95 - ETA: 1s - loss: 0.1155 - accuracy: 0.95 - ETA: 1s - loss: 0.1174 - accuracy: 0.95 - ETA: 0s - loss: 0.1164 - accuracy: 0.95 - ETA: 0s - loss: 0.1163 - accuracy: 0.95 - ETA: 0s - loss: 0.1196 - accuracy: 0.95 - 18s 11ms/sample - loss: 0.1216 - accuracy: 0.9550\n",
      "Epoch 14/25\n",
      "1646/1646 [==============================] - ETA: 34s - loss: 0.0367 - accuracy: 1.000 - ETA: 30s - loss: 0.1902 - accuracy: 0.953 - ETA: 25s - loss: 0.1732 - accuracy: 0.937 - ETA: 22s - loss: 0.1429 - accuracy: 0.953 - ETA: 20s - loss: 0.1296 - accuracy: 0.962 - ETA: 19s - loss: 0.1191 - accuracy: 0.968 - ETA: 18s - loss: 0.1170 - accuracy: 0.964 - ETA: 17s - loss: 0.1185 - accuracy: 0.960 - ETA: 16s - loss: 0.1106 - accuracy: 0.965 - ETA: 16s - loss: 0.1064 - accuracy: 0.965 - ETA: 15s - loss: 0.1093 - accuracy: 0.963 - ETA: 15s - loss: 0.1093 - accuracy: 0.958 - ETA: 14s - loss: 0.1109 - accuracy: 0.959 - ETA: 14s - loss: 0.1091 - accuracy: 0.959 - ETA: 13s - loss: 0.1121 - accuracy: 0.956 - ETA: 13s - loss: 0.1093 - accuracy: 0.957 - ETA: 12s - loss: 0.1081 - accuracy: 0.957 - ETA: 12s - loss: 0.1063 - accuracy: 0.958 - ETA: 11s - loss: 0.1022 - accuracy: 0.960 - ETA: 11s - loss: 0.1037 - accuracy: 0.959 - ETA: 11s - loss: 0.1013 - accuracy: 0.959 - ETA: 10s - loss: 0.1029 - accuracy: 0.957 - ETA: 10s - loss: 0.1002 - accuracy: 0.959 - ETA: 9s - loss: 0.1009 - accuracy: 0.958 - ETA: 9s - loss: 0.1001 - accuracy: 0.95 - ETA: 9s - loss: 0.0971 - accuracy: 0.96 - ETA: 8s - loss: 0.0978 - accuracy: 0.95 - ETA: 8s - loss: 0.0956 - accuracy: 0.96 - ETA: 7s - loss: 0.0982 - accuracy: 0.95 - ETA: 7s - loss: 0.0963 - accuracy: 0.95 - ETA: 7s - loss: 0.0949 - accuracy: 0.95 - ETA: 6s - loss: 0.0974 - accuracy: 0.95 - ETA: 6s - loss: 0.0970 - accuracy: 0.95 - ETA: 6s - loss: 0.0950 - accuracy: 0.96 - ETA: 5s - loss: 0.0938 - accuracy: 0.96 - ETA: 5s - loss: 0.0927 - accuracy: 0.96 - ETA: 5s - loss: 0.0928 - accuracy: 0.96 - ETA: 4s - loss: 0.0947 - accuracy: 0.96 - ETA: 4s - loss: 0.0937 - accuracy: 0.96 - ETA: 4s - loss: 0.0920 - accuracy: 0.96 - ETA: 3s - loss: 0.0900 - accuracy: 0.96 - ETA: 3s - loss: 0.0881 - accuracy: 0.96 - ETA: 2s - loss: 0.0863 - accuracy: 0.96 - ETA: 2s - loss: 0.0848 - accuracy: 0.96 - ETA: 2s - loss: 0.0835 - accuracy: 0.96 - ETA: 1s - loss: 0.0823 - accuracy: 0.96 - ETA: 1s - loss: 0.0807 - accuracy: 0.96 - ETA: 1s - loss: 0.0813 - accuracy: 0.96 - ETA: 0s - loss: 0.0798 - accuracy: 0.96 - ETA: 0s - loss: 0.0803 - accuracy: 0.96 - ETA: 0s - loss: 0.0796 - accuracy: 0.96 - 18s 11ms/sample - loss: 0.0807 - accuracy: 0.9672\n",
      "Epoch 15/25\n",
      "1646/1646 [==============================] - ETA: 16s - loss: 0.0103 - accuracy: 1.000 - ETA: 16s - loss: 0.0077 - accuracy: 1.000 - ETA: 16s - loss: 0.0763 - accuracy: 0.979 - ETA: 15s - loss: 0.0601 - accuracy: 0.984 - ETA: 15s - loss: 0.0555 - accuracy: 0.981 - ETA: 15s - loss: 0.0472 - accuracy: 0.984 - ETA: 14s - loss: 0.0575 - accuracy: 0.977 - ETA: 14s - loss: 0.0634 - accuracy: 0.976 - ETA: 14s - loss: 0.0745 - accuracy: 0.975 - ETA: 13s - loss: 0.0855 - accuracy: 0.971 - ETA: 13s - loss: 0.0783 - accuracy: 0.974 - ETA: 13s - loss: 0.0899 - accuracy: 0.968 - ETA: 12s - loss: 0.0861 - accuracy: 0.971 - ETA: 12s - loss: 0.0842 - accuracy: 0.971 - ETA: 12s - loss: 0.0797 - accuracy: 0.972 - ETA: 13s - loss: 0.0780 - accuracy: 0.972 - ETA: 13s - loss: 0.0808 - accuracy: 0.968 - ETA: 13s - loss: 0.0834 - accuracy: 0.965 - ETA: 13s - loss: 0.0865 - accuracy: 0.963 - ETA: 13s - loss: 0.0989 - accuracy: 0.959 - ETA: 12s - loss: 0.1023 - accuracy: 0.959 - ETA: 12s - loss: 0.1011 - accuracy: 0.960 - ETA: 11s - loss: 0.0976 - accuracy: 0.962 - ETA: 11s - loss: 0.0953 - accuracy: 0.963 - ETA: 10s - loss: 0.0946 - accuracy: 0.963 - ETA: 10s - loss: 0.0930 - accuracy: 0.965 - ETA: 9s - loss: 0.0907 - accuracy: 0.966 - ETA: 9s - loss: 0.0898 - accuracy: 0.96 - ETA: 8s - loss: 0.0872 - accuracy: 0.96 - ETA: 8s - loss: 0.0868 - accuracy: 0.96 - ETA: 7s - loss: 0.0891 - accuracy: 0.96 - ETA: 7s - loss: 0.0874 - accuracy: 0.96 - ETA: 7s - loss: 0.0853 - accuracy: 0.96 - ETA: 6s - loss: 0.0904 - accuracy: 0.96 - ETA: 6s - loss: 0.0892 - accuracy: 0.96 - ETA: 5s - loss: 0.0892 - accuracy: 0.96 - ETA: 5s - loss: 0.0878 - accuracy: 0.96 - ETA: 5s - loss: 0.0864 - accuracy: 0.97 - ETA: 4s - loss: 0.0846 - accuracy: 0.97 - ETA: 4s - loss: 0.0836 - accuracy: 0.97 - ETA: 3s - loss: 0.0838 - accuracy: 0.97 - ETA: 3s - loss: 0.0819 - accuracy: 0.97 - ETA: 3s - loss: 0.0802 - accuracy: 0.97 - ETA: 2s - loss: 0.0785 - accuracy: 0.97 - ETA: 2s - loss: 0.0781 - accuracy: 0.97 - ETA: 2s - loss: 0.0774 - accuracy: 0.97 - ETA: 1s - loss: 0.0770 - accuracy: 0.97 - ETA: 1s - loss: 0.0772 - accuracy: 0.97 - ETA: 0s - loss: 0.0770 - accuracy: 0.97 - ETA: 0s - loss: 0.0763 - accuracy: 0.97 - ETA: 0s - loss: 0.0760 - accuracy: 0.97 - 19s 12ms/sample - loss: 0.0769 - accuracy: 0.9714\n",
      "Epoch 16/25\n",
      "1646/1646 [==============================] - ETA: 16s - loss: 0.0686 - accuracy: 0.968 - ETA: 16s - loss: 0.0631 - accuracy: 0.968 - ETA: 16s - loss: 0.0514 - accuracy: 0.979 - ETA: 15s - loss: 0.0601 - accuracy: 0.968 - ETA: 15s - loss: 0.0547 - accuracy: 0.975 - ETA: 15s - loss: 0.0504 - accuracy: 0.974 - ETA: 14s - loss: 0.0504 - accuracy: 0.977 - ETA: 14s - loss: 0.0480 - accuracy: 0.980 - ETA: 14s - loss: 0.0473 - accuracy: 0.982 - ETA: 13s - loss: 0.0431 - accuracy: 0.984 - ETA: 13s - loss: 0.0397 - accuracy: 0.985 - ETA: 13s - loss: 0.0409 - accuracy: 0.984 - ETA: 12s - loss: 0.0396 - accuracy: 0.985 - ETA: 12s - loss: 0.0372 - accuracy: 0.986 - ETA: 12s - loss: 0.0348 - accuracy: 0.987 - ETA: 11s - loss: 0.0328 - accuracy: 0.988 - ETA: 11s - loss: 0.0394 - accuracy: 0.987 - ETA: 11s - loss: 0.0377 - accuracy: 0.987 - ETA: 10s - loss: 0.0359 - accuracy: 0.988 - ETA: 10s - loss: 0.0355 - accuracy: 0.989 - ETA: 10s - loss: 0.0538 - accuracy: 0.988 - ETA: 9s - loss: 0.0607 - accuracy: 0.987 - ETA: 9s - loss: 0.0598 - accuracy: 0.98 - ETA: 9s - loss: 0.0576 - accuracy: 0.98 - ETA: 8s - loss: 0.0556 - accuracy: 0.98 - ETA: 8s - loss: 0.0536 - accuracy: 0.98 - ETA: 8s - loss: 0.0523 - accuracy: 0.98 - ETA: 7s - loss: 0.0541 - accuracy: 0.98 - ETA: 7s - loss: 0.0546 - accuracy: 0.98 - ETA: 7s - loss: 0.0534 - accuracy: 0.98 - ETA: 6s - loss: 0.0530 - accuracy: 0.98 - ETA: 6s - loss: 0.0545 - accuracy: 0.98 - ETA: 6s - loss: 0.0551 - accuracy: 0.98 - ETA: 6s - loss: 0.0536 - accuracy: 0.98 - ETA: 6s - loss: 0.0535 - accuracy: 0.98 - ETA: 5s - loss: 0.0540 - accuracy: 0.98 - ETA: 5s - loss: 0.0539 - accuracy: 0.98 - ETA: 5s - loss: 0.0525 - accuracy: 0.98 - ETA: 4s - loss: 0.0514 - accuracy: 0.98 - ETA: 4s - loss: 0.0508 - accuracy: 0.98 - ETA: 3s - loss: 0.0496 - accuracy: 0.98 - ETA: 3s - loss: 0.0487 - accuracy: 0.98 - ETA: 3s - loss: 0.0501 - accuracy: 0.98 - ETA: 2s - loss: 0.0491 - accuracy: 0.98 - ETA: 2s - loss: 0.0497 - accuracy: 0.98 - ETA: 2s - loss: 0.0489 - accuracy: 0.98 - ETA: 1s - loss: 0.0479 - accuracy: 0.98 - ETA: 1s - loss: 0.0474 - accuracy: 0.98 - ETA: 0s - loss: 0.0472 - accuracy: 0.98 - ETA: 0s - loss: 0.0472 - accuracy: 0.98 - ETA: 0s - loss: 0.0468 - accuracy: 0.98 - 19s 12ms/sample - loss: 0.0468 - accuracy: 0.9860\n",
      "Epoch 17/25\n",
      "1646/1646 [==============================] - ETA: 16s - loss: 0.0082 - accuracy: 1.000 - ETA: 16s - loss: 0.0216 - accuracy: 0.984 - ETA: 16s - loss: 0.0544 - accuracy: 0.958 - ETA: 15s - loss: 0.0423 - accuracy: 0.968 - ETA: 15s - loss: 0.0396 - accuracy: 0.968 - ETA: 15s - loss: 0.0420 - accuracy: 0.968 - ETA: 14s - loss: 0.0461 - accuracy: 0.968 - ETA: 14s - loss: 0.0407 - accuracy: 0.972 - ETA: 14s - loss: 0.0365 - accuracy: 0.975 - ETA: 13s - loss: 0.0345 - accuracy: 0.978 - ETA: 13s - loss: 0.0319 - accuracy: 0.980 - ETA: 13s - loss: 0.0305 - accuracy: 0.981 - ETA: 12s - loss: 0.0440 - accuracy: 0.980 - ETA: 12s - loss: 0.0428 - accuracy: 0.979 - ETA: 12s - loss: 0.0402 - accuracy: 0.981 - ETA: 11s - loss: 0.0379 - accuracy: 0.982 - ETA: 11s - loss: 0.0418 - accuracy: 0.979 - ETA: 11s - loss: 0.0397 - accuracy: 0.980 - ETA: 10s - loss: 0.0406 - accuracy: 0.980 - ETA: 10s - loss: 0.0391 - accuracy: 0.981 - ETA: 10s - loss: 0.0381 - accuracy: 0.982 - ETA: 9s - loss: 0.0399 - accuracy: 0.981 - ETA: 9s - loss: 0.0452 - accuracy: 0.98 - ETA: 9s - loss: 0.0437 - accuracy: 0.98 - ETA: 8s - loss: 0.0425 - accuracy: 0.98 - ETA: 8s - loss: 0.0409 - accuracy: 0.98 - ETA: 8s - loss: 0.0397 - accuracy: 0.98 - ETA: 7s - loss: 0.0397 - accuracy: 0.98 - ETA: 7s - loss: 0.0385 - accuracy: 0.98 - ETA: 7s - loss: 0.0381 - accuracy: 0.98 - ETA: 6s - loss: 0.0371 - accuracy: 0.98 - ETA: 6s - loss: 0.0430 - accuracy: 0.98 - ETA: 6s - loss: 0.0417 - accuracy: 0.98 - ETA: 5s - loss: 0.0406 - accuracy: 0.98 - ETA: 5s - loss: 0.0400 - accuracy: 0.98 - ETA: 5s - loss: 0.0391 - accuracy: 0.98 - ETA: 4s - loss: 0.0382 - accuracy: 0.98 - ETA: 4s - loss: 0.0380 - accuracy: 0.98 - ETA: 4s - loss: 0.0377 - accuracy: 0.98 - ETA: 3s - loss: 0.0377 - accuracy: 0.98 - ETA: 3s - loss: 0.0437 - accuracy: 0.98 - ETA: 3s - loss: 0.0428 - accuracy: 0.98 - ETA: 2s - loss: 0.0419 - accuracy: 0.98 - ETA: 2s - loss: 0.0410 - accuracy: 0.98 - ETA: 2s - loss: 0.0401 - accuracy: 0.98 - ETA: 1s - loss: 0.0393 - accuracy: 0.98 - ETA: 1s - loss: 0.0389 - accuracy: 0.98 - ETA: 1s - loss: 0.0382 - accuracy: 0.98 - ETA: 0s - loss: 0.0374 - accuracy: 0.98 - ETA: 0s - loss: 0.0374 - accuracy: 0.98 - ETA: 0s - loss: 0.0367 - accuracy: 0.98 - 17s 11ms/sample - loss: 0.0364 - accuracy: 0.9872\n",
      "Epoch 18/25\n",
      "1646/1646 [==============================] - ETA: 16s - loss: 0.0043 - accuracy: 1.000 - ETA: 16s - loss: 0.0041 - accuracy: 1.000 - ETA: 16s - loss: 0.0051 - accuracy: 1.000 - ETA: 15s - loss: 0.0109 - accuracy: 1.000 - ETA: 15s - loss: 0.0093 - accuracy: 1.000 - ETA: 17s - loss: 0.0081 - accuracy: 1.000 - ETA: 18s - loss: 0.0105 - accuracy: 1.000 - ETA: 19s - loss: 0.0095 - accuracy: 1.000 - ETA: 20s - loss: 0.0087 - accuracy: 1.000 - ETA: 20s - loss: 0.0080 - accuracy: 1.000 - ETA: 19s - loss: 0.0074 - accuracy: 1.000 - ETA: 18s - loss: 0.0073 - accuracy: 1.000 - ETA: 17s - loss: 0.0069 - accuracy: 1.000 - ETA: 16s - loss: 0.0065 - accuracy: 1.000 - ETA: 16s - loss: 0.0063 - accuracy: 1.000 - ETA: 15s - loss: 0.0062 - accuracy: 1.000 - ETA: 14s - loss: 0.0060 - accuracy: 1.000 - ETA: 14s - loss: 0.0057 - accuracy: 1.000 - ETA: 13s - loss: 0.0055 - accuracy: 1.000 - ETA: 13s - loss: 0.0054 - accuracy: 1.000 - ETA: 12s - loss: 0.0052 - accuracy: 1.000 - ETA: 12s - loss: 0.0050 - accuracy: 1.000 - ETA: 11s - loss: 0.0048 - accuracy: 1.000 - ETA: 11s - loss: 0.0049 - accuracy: 1.000 - ETA: 10s - loss: 0.0048 - accuracy: 1.000 - ETA: 10s - loss: 0.0046 - accuracy: 1.000 - ETA: 9s - loss: 0.0045 - accuracy: 1.000 - ETA: 9s - loss: 0.0043 - accuracy: 1.00 - ETA: 8s - loss: 0.0043 - accuracy: 1.00 - ETA: 8s - loss: 0.0142 - accuracy: 0.99 - ETA: 7s - loss: 0.0138 - accuracy: 0.99 - ETA: 7s - loss: 0.0134 - accuracy: 0.99 - ETA: 7s - loss: 0.0130 - accuracy: 0.99 - ETA: 6s - loss: 0.0128 - accuracy: 0.99 - ETA: 6s - loss: 0.0126 - accuracy: 0.99 - ETA: 5s - loss: 0.0123 - accuracy: 0.99 - ETA: 5s - loss: 0.0119 - accuracy: 0.99 - ETA: 5s - loss: 0.0119 - accuracy: 0.99 - ETA: 4s - loss: 0.0116 - accuracy: 0.99 - ETA: 4s - loss: 0.0115 - accuracy: 0.99 - ETA: 3s - loss: 0.0153 - accuracy: 0.99 - ETA: 3s - loss: 0.0150 - accuracy: 0.99 - ETA: 3s - loss: 0.0148 - accuracy: 0.99 - ETA: 2s - loss: 0.0145 - accuracy: 0.99 - ETA: 2s - loss: 0.0142 - accuracy: 0.99 - ETA: 2s - loss: 0.0141 - accuracy: 0.99 - ETA: 1s - loss: 0.0138 - accuracy: 0.99 - ETA: 1s - loss: 0.0135 - accuracy: 0.99 - ETA: 0s - loss: 0.0138 - accuracy: 0.99 - ETA: 0s - loss: 0.0136 - accuracy: 0.99 - ETA: 0s - loss: 0.0135 - accuracy: 0.99 - 19s 12ms/sample - loss: 0.0134 - accuracy: 0.9988\n",
      "Epoch 19/25\n",
      "1646/1646 [==============================] - ETA: 16s - loss: 0.0012 - accuracy: 1.000 - ETA: 16s - loss: 0.0017 - accuracy: 1.000 - ETA: 16s - loss: 0.0013 - accuracy: 1.000 - ETA: 15s - loss: 0.0013 - accuracy: 1.000 - ETA: 15s - loss: 0.0016 - accuracy: 1.000 - ETA: 15s - loss: 0.0016 - accuracy: 1.000 - ETA: 14s - loss: 0.0018 - accuracy: 1.000 - ETA: 14s - loss: 0.0680 - accuracy: 0.992 - ETA: 14s - loss: 0.0606 - accuracy: 0.993 - ETA: 13s - loss: 0.0548 - accuracy: 0.993 - ETA: 13s - loss: 0.0501 - accuracy: 0.994 - ETA: 13s - loss: 0.0466 - accuracy: 0.994 - ETA: 12s - loss: 0.0435 - accuracy: 0.995 - ETA: 12s - loss: 0.0425 - accuracy: 0.995 - ETA: 12s - loss: 0.0401 - accuracy: 0.995 - ETA: 13s - loss: 0.0382 - accuracy: 0.996 - ETA: 13s - loss: 0.0361 - accuracy: 0.996 - ETA: 13s - loss: 0.0342 - accuracy: 0.996 - ETA: 13s - loss: 0.0327 - accuracy: 0.996 - ETA: 13s - loss: 0.0315 - accuracy: 0.996 - ETA: 12s - loss: 0.0302 - accuracy: 0.997 - ETA: 12s - loss: 0.0290 - accuracy: 0.997 - ETA: 11s - loss: 0.0279 - accuracy: 0.997 - ETA: 11s - loss: 0.0269 - accuracy: 0.997 - ETA: 10s - loss: 0.0260 - accuracy: 0.997 - ETA: 10s - loss: 0.0251 - accuracy: 0.997 - ETA: 9s - loss: 0.0242 - accuracy: 0.997 - ETA: 9s - loss: 0.0235 - accuracy: 0.99 - ETA: 8s - loss: 0.0242 - accuracy: 0.99 - ETA: 8s - loss: 0.0236 - accuracy: 0.99 - ETA: 8s - loss: 0.0230 - accuracy: 0.99 - ETA: 7s - loss: 0.0224 - accuracy: 0.99 - ETA: 7s - loss: 0.0238 - accuracy: 0.99 - ETA: 6s - loss: 0.0232 - accuracy: 0.99 - ETA: 6s - loss: 0.0226 - accuracy: 0.99 - ETA: 5s - loss: 0.0273 - accuracy: 0.99 - ETA: 5s - loss: 0.0266 - accuracy: 0.99 - ETA: 5s - loss: 0.0261 - accuracy: 0.99 - ETA: 4s - loss: 0.0255 - accuracy: 0.99 - ETA: 4s - loss: 0.0250 - accuracy: 0.99 - ETA: 3s - loss: 0.0244 - accuracy: 0.99 - ETA: 3s - loss: 0.0240 - accuracy: 0.99 - ETA: 3s - loss: 0.0236 - accuracy: 0.99 - ETA: 2s - loss: 0.0232 - accuracy: 0.99 - ETA: 2s - loss: 0.0227 - accuracy: 0.99 - ETA: 2s - loss: 0.0223 - accuracy: 0.99 - ETA: 1s - loss: 0.0218 - accuracy: 0.99 - ETA: 1s - loss: 0.0214 - accuracy: 0.99 - ETA: 0s - loss: 0.0211 - accuracy: 0.99 - ETA: 0s - loss: 0.0210 - accuracy: 0.99 - ETA: 0s - loss: 0.0206 - accuracy: 0.99 - 19s 12ms/sample - loss: 0.0205 - accuracy: 0.9970\n",
      "Epoch 20/25\n",
      "1646/1646 [==============================] - ETA: 16s - loss: 0.0034 - accuracy: 1.000 - ETA: 16s - loss: 0.0025 - accuracy: 1.000 - ETA: 16s - loss: 0.0019 - accuracy: 1.000 - ETA: 15s - loss: 0.0017 - accuracy: 1.000 - ETA: 15s - loss: 0.0018 - accuracy: 1.000 - ETA: 15s - loss: 0.0017 - accuracy: 1.000 - ETA: 14s - loss: 0.0015 - accuracy: 1.000 - ETA: 14s - loss: 0.0066 - accuracy: 0.996 - ETA: 14s - loss: 0.0092 - accuracy: 0.993 - ETA: 13s - loss: 0.0083 - accuracy: 0.993 - ETA: 13s - loss: 0.0076 - accuracy: 0.994 - ETA: 13s - loss: 0.0070 - accuracy: 0.994 - ETA: 12s - loss: 0.0066 - accuracy: 0.995 - ETA: 12s - loss: 0.0063 - accuracy: 0.995 - ETA: 12s - loss: 0.0060 - accuracy: 0.995 - ETA: 11s - loss: 0.0056 - accuracy: 0.996 - ETA: 11s - loss: 0.0053 - accuracy: 0.996 - ETA: 11s - loss: 0.0052 - accuracy: 0.996 - ETA: 10s - loss: 0.0050 - accuracy: 0.996 - ETA: 10s - loss: 0.0050 - accuracy: 0.996 - ETA: 10s - loss: 0.0048 - accuracy: 0.997 - ETA: 9s - loss: 0.0048 - accuracy: 0.997 - ETA: 9s - loss: 0.0048 - accuracy: 0.99 - ETA: 9s - loss: 0.0046 - accuracy: 0.99 - ETA: 9s - loss: 0.0045 - accuracy: 0.99 - ETA: 9s - loss: 0.0043 - accuracy: 0.99 - ETA: 9s - loss: 0.0042 - accuracy: 0.99 - ETA: 9s - loss: 0.0080 - accuracy: 0.99 - ETA: 8s - loss: 0.0078 - accuracy: 0.99 - ETA: 8s - loss: 0.0075 - accuracy: 0.99 - ETA: 7s - loss: 0.0073 - accuracy: 0.99 - ETA: 7s - loss: 0.0084 - accuracy: 0.99 - ETA: 7s - loss: 0.0082 - accuracy: 0.99 - ETA: 6s - loss: 0.0080 - accuracy: 0.99 - ETA: 6s - loss: 0.0078 - accuracy: 0.99 - ETA: 5s - loss: 0.0076 - accuracy: 0.99 - ETA: 5s - loss: 0.0075 - accuracy: 0.99 - ETA: 5s - loss: 0.0073 - accuracy: 0.99 - ETA: 4s - loss: 0.0071 - accuracy: 0.99 - ETA: 4s - loss: 0.0070 - accuracy: 0.99 - ETA: 3s - loss: 0.0069 - accuracy: 0.99 - ETA: 3s - loss: 0.0068 - accuracy: 0.99 - ETA: 3s - loss: 0.0067 - accuracy: 0.99 - ETA: 2s - loss: 0.0066 - accuracy: 0.99 - ETA: 2s - loss: 0.0065 - accuracy: 0.99 - ETA: 2s - loss: 0.0064 - accuracy: 0.99 - ETA: 1s - loss: 0.0063 - accuracy: 0.99 - ETA: 1s - loss: 0.0103 - accuracy: 0.99 - ETA: 0s - loss: 0.0102 - accuracy: 0.99 - ETA: 0s - loss: 0.0100 - accuracy: 0.99 - ETA: 0s - loss: 0.0098 - accuracy: 0.99 - 19s 11ms/sample - loss: 0.0098 - accuracy: 0.9970\n",
      "Epoch 21/25\n",
      "1646/1646 [==============================] - ETA: 16s - loss: 5.5101e-04 - accuracy: 1.000 - ETA: 16s - loss: 0.0019 - accuracy: 1.0000    - ETA: 16s - loss: 0.0017 - accuracy: 1.000 - ETA: 15s - loss: 0.0015 - accuracy: 1.000 - ETA: 15s - loss: 0.0024 - accuracy: 1.000 - ETA: 15s - loss: 0.0032 - accuracy: 1.000 - ETA: 14s - loss: 0.0028 - accuracy: 1.000 - ETA: 14s - loss: 0.0027 - accuracy: 1.000 - ETA: 14s - loss: 0.0027 - accuracy: 1.000 - ETA: 13s - loss: 0.0026 - accuracy: 1.000 - ETA: 13s - loss: 0.0027 - accuracy: 1.000 - ETA: 13s - loss: 0.0149 - accuracy: 0.997 - ETA: 12s - loss: 0.0138 - accuracy: 0.997 - ETA: 12s - loss: 0.0130 - accuracy: 0.997 - ETA: 12s - loss: 0.0123 - accuracy: 0.997 - ETA: 11s - loss: 0.0117 - accuracy: 0.998 - ETA: 11s - loss: 0.0111 - accuracy: 0.998 - ETA: 11s - loss: 0.0134 - accuracy: 0.996 - ETA: 10s - loss: 0.0127 - accuracy: 0.996 - ETA: 10s - loss: 0.0122 - accuracy: 0.996 - ETA: 10s - loss: 0.0117 - accuracy: 0.997 - ETA: 9s - loss: 0.0114 - accuracy: 0.997 - ETA: 9s - loss: 0.0110 - accuracy: 0.99 - ETA: 9s - loss: 0.0107 - accuracy: 0.99 - ETA: 8s - loss: 0.0104 - accuracy: 0.99 - ETA: 8s - loss: 0.0101 - accuracy: 0.99 - ETA: 8s - loss: 0.0099 - accuracy: 0.99 - ETA: 7s - loss: 0.0095 - accuracy: 0.99 - ETA: 7s - loss: 0.0092 - accuracy: 0.99 - ETA: 7s - loss: 0.0090 - accuracy: 0.99 - ETA: 6s - loss: 0.0087 - accuracy: 0.99 - ETA: 6s - loss: 0.0085 - accuracy: 0.99 - ETA: 6s - loss: 0.0082 - accuracy: 0.99 - ETA: 5s - loss: 0.0080 - accuracy: 0.99 - ETA: 5s - loss: 0.0078 - accuracy: 0.99 - ETA: 5s - loss: 0.0076 - accuracy: 0.99 - ETA: 4s - loss: 0.0074 - accuracy: 0.99 - ETA: 4s - loss: 0.0072 - accuracy: 0.99 - ETA: 4s - loss: 0.0110 - accuracy: 0.99 - ETA: 3s - loss: 0.0107 - accuracy: 0.99 - ETA: 3s - loss: 0.0105 - accuracy: 0.99 - ETA: 3s - loss: 0.0102 - accuracy: 0.99 - ETA: 2s - loss: 0.0119 - accuracy: 0.99 - ETA: 2s - loss: 0.0116 - accuracy: 0.99 - ETA: 2s - loss: 0.0114 - accuracy: 0.99 - ETA: 1s - loss: 0.0124 - accuracy: 0.99 - ETA: 1s - loss: 0.0127 - accuracy: 0.99 - ETA: 1s - loss: 0.0125 - accuracy: 0.99 - ETA: 0s - loss: 0.0123 - accuracy: 0.99 - ETA: 0s - loss: 0.0121 - accuracy: 0.99 - ETA: 0s - loss: 0.0119 - accuracy: 0.99 - 17s 11ms/sample - loss: 0.0118 - accuracy: 0.9964\n",
      "Epoch 22/25\n",
      "1646/1646 [==============================] - ETA: 16s - loss: 0.0044 - accuracy: 1.000 - ETA: 16s - loss: 0.0024 - accuracy: 1.000 - ETA: 16s - loss: 0.0019 - accuracy: 1.000 - ETA: 15s - loss: 0.0022 - accuracy: 1.000 - ETA: 15s - loss: 0.0022 - accuracy: 1.000 - ETA: 15s - loss: 0.0026 - accuracy: 1.000 - ETA: 14s - loss: 0.0026 - accuracy: 1.000 - ETA: 14s - loss: 0.0025 - accuracy: 1.000 - ETA: 14s - loss: 0.0025 - accuracy: 1.000 - ETA: 13s - loss: 0.0023 - accuracy: 1.000 - ETA: 13s - loss: 0.0149 - accuracy: 0.997 - ETA: 13s - loss: 0.0137 - accuracy: 0.997 - ETA: 12s - loss: 0.0127 - accuracy: 0.997 - ETA: 12s - loss: 0.0123 - accuracy: 0.997 - ETA: 12s - loss: 0.0116 - accuracy: 0.997 - ETA: 11s - loss: 0.0109 - accuracy: 0.998 - ETA: 11s - loss: 0.0104 - accuracy: 0.998 - ETA: 11s - loss: 0.0099 - accuracy: 0.998 - ETA: 10s - loss: 0.0119 - accuracy: 0.996 - ETA: 10s - loss: 0.0120 - accuracy: 0.996 - ETA: 10s - loss: 0.0115 - accuracy: 0.997 - ETA: 9s - loss: 0.0113 - accuracy: 0.997 - ETA: 9s - loss: 0.0118 - accuracy: 0.99 - ETA: 9s - loss: 0.0114 - accuracy: 0.99 - ETA: 8s - loss: 0.0111 - accuracy: 0.99 - ETA: 8s - loss: 0.0108 - accuracy: 0.99 - ETA: 8s - loss: 0.0104 - accuracy: 0.99 - ETA: 7s - loss: 0.0115 - accuracy: 0.99 - ETA: 7s - loss: 0.0111 - accuracy: 0.99 - ETA: 7s - loss: 0.0108 - accuracy: 0.99 - ETA: 6s - loss: 0.0105 - accuracy: 0.99 - ETA: 6s - loss: 0.0102 - accuracy: 0.99 - ETA: 6s - loss: 0.0099 - accuracy: 0.99 - ETA: 5s - loss: 0.0097 - accuracy: 0.99 - ETA: 5s - loss: 0.0095 - accuracy: 0.99 - ETA: 5s - loss: 0.0093 - accuracy: 0.99 - ETA: 4s - loss: 0.0091 - accuracy: 0.99 - ETA: 4s - loss: 0.0089 - accuracy: 0.99 - ETA: 4s - loss: 0.0087 - accuracy: 0.99 - ETA: 3s - loss: 0.0085 - accuracy: 0.99 - ETA: 3s - loss: 0.0083 - accuracy: 0.99 - ETA: 3s - loss: 0.0081 - accuracy: 0.99 - ETA: 2s - loss: 0.0079 - accuracy: 0.99 - ETA: 2s - loss: 0.0107 - accuracy: 0.99 - ETA: 2s - loss: 0.0105 - accuracy: 0.99 - ETA: 1s - loss: 0.0103 - accuracy: 0.99 - ETA: 1s - loss: 0.0101 - accuracy: 0.99 - ETA: 1s - loss: 0.0099 - accuracy: 0.99 - ETA: 0s - loss: 0.0097 - accuracy: 0.99 - ETA: 0s - loss: 0.0095 - accuracy: 0.99 - ETA: 0s - loss: 0.0094 - accuracy: 0.99 - 17s 11ms/sample - loss: 0.0093 - accuracy: 0.9970\n",
      "Epoch 23/25\n",
      "1646/1646 [==============================] - ETA: 16s - loss: 0.0012 - accuracy: 1.000 - ETA: 16s - loss: 9.4974e-04 - accuracy: 1.000 - ETA: 16s - loss: 9.2864e-04 - accuracy: 1.000 - ETA: 15s - loss: 9.1366e-04 - accuracy: 1.000 - ETA: 15s - loss: 7.9850e-04 - accuracy: 1.000 - ETA: 15s - loss: 9.6218e-04 - accuracy: 1.000 - ETA: 14s - loss: 9.4888e-04 - accuracy: 1.000 - ETA: 14s - loss: 0.0010 - accuracy: 1.0000    - ETA: 14s - loss: 0.0010 - accuracy: 1.000 - ETA: 13s - loss: 0.0011 - accuracy: 1.000 - ETA: 13s - loss: 0.0012 - accuracy: 1.000 - ETA: 13s - loss: 0.0011 - accuracy: 1.000 - ETA: 12s - loss: 0.0094 - accuracy: 0.997 - ETA: 12s - loss: 0.0088 - accuracy: 0.997 - ETA: 12s - loss: 0.0082 - accuracy: 0.997 - ETA: 11s - loss: 0.0078 - accuracy: 0.998 - ETA: 11s - loss: 0.0107 - accuracy: 0.996 - ETA: 11s - loss: 0.0101 - accuracy: 0.996 - ETA: 10s - loss: 0.0096 - accuracy: 0.996 - ETA: 10s - loss: 0.0092 - accuracy: 0.996 - ETA: 10s - loss: 0.0088 - accuracy: 0.997 - ETA: 9s - loss: 0.0084 - accuracy: 0.997 - ETA: 9s - loss: 0.0081 - accuracy: 0.99 - ETA: 9s - loss: 0.0078 - accuracy: 0.99 - ETA: 8s - loss: 0.0075 - accuracy: 0.99 - ETA: 8s - loss: 0.0072 - accuracy: 0.99 - ETA: 8s - loss: 0.0070 - accuracy: 0.99 - ETA: 7s - loss: 0.0068 - accuracy: 0.99 - ETA: 7s - loss: 0.0066 - accuracy: 0.99 - ETA: 7s - loss: 0.0064 - accuracy: 0.99 - ETA: 6s - loss: 0.0101 - accuracy: 0.99 - ETA: 6s - loss: 0.0098 - accuracy: 0.99 - ETA: 6s - loss: 0.0095 - accuracy: 0.99 - ETA: 5s - loss: 0.0093 - accuracy: 0.99 - ETA: 5s - loss: 0.0090 - accuracy: 0.99 - ETA: 5s - loss: 0.0088 - accuracy: 0.99 - ETA: 4s - loss: 0.0101 - accuracy: 0.99 - ETA: 4s - loss: 0.0098 - accuracy: 0.99 - ETA: 4s - loss: 0.0096 - accuracy: 0.99 - ETA: 3s - loss: 0.0094 - accuracy: 0.99 - ETA: 3s - loss: 0.0092 - accuracy: 0.99 - ETA: 3s - loss: 0.0090 - accuracy: 0.99 - ETA: 2s - loss: 0.0088 - accuracy: 0.99 - ETA: 2s - loss: 0.0086 - accuracy: 0.99 - ETA: 2s - loss: 0.0114 - accuracy: 0.99 - ETA: 1s - loss: 0.0114 - accuracy: 0.99 - ETA: 1s - loss: 0.0112 - accuracy: 0.99 - ETA: 1s - loss: 0.0110 - accuracy: 0.99 - ETA: 0s - loss: 0.0108 - accuracy: 0.99 - ETA: 0s - loss: 0.0107 - accuracy: 0.99 - ETA: 0s - loss: 0.0105 - accuracy: 0.99 - 17s 11ms/sample - loss: 0.0104 - accuracy: 0.9970\n",
      "Epoch 24/25\n",
      "1646/1646 [==============================] - ETA: 16s - loss: 0.0013 - accuracy: 1.000 - ETA: 16s - loss: 0.0014 - accuracy: 1.000 - ETA: 16s - loss: 0.0013 - accuracy: 1.000 - ETA: 15s - loss: 0.0015 - accuracy: 1.000 - ETA: 15s - loss: 0.0015 - accuracy: 1.000 - ETA: 15s - loss: 0.0014 - accuracy: 1.000 - ETA: 14s - loss: 0.0014 - accuracy: 1.000 - ETA: 14s - loss: 0.0015 - accuracy: 1.000 - ETA: 14s - loss: 0.0014 - accuracy: 1.000 - ETA: 13s - loss: 0.0014 - accuracy: 1.000 - ETA: 13s - loss: 0.0018 - accuracy: 1.000 - ETA: 13s - loss: 0.0017 - accuracy: 1.000 - ETA: 12s - loss: 0.0017 - accuracy: 1.000 - ETA: 12s - loss: 0.0017 - accuracy: 1.000 - ETA: 12s - loss: 0.0017 - accuracy: 1.000 - ETA: 11s - loss: 0.0017 - accuracy: 1.000 - ETA: 11s - loss: 0.0063 - accuracy: 0.998 - ETA: 11s - loss: 0.0060 - accuracy: 0.998 - ETA: 10s - loss: 0.0058 - accuracy: 0.998 - ETA: 10s - loss: 0.0056 - accuracy: 0.998 - ETA: 10s - loss: 0.0053 - accuracy: 0.998 - ETA: 9s - loss: 0.0051 - accuracy: 0.998 - ETA: 9s - loss: 0.0049 - accuracy: 0.99 - ETA: 9s - loss: 0.0065 - accuracy: 0.99 - ETA: 8s - loss: 0.0063 - accuracy: 0.99 - ETA: 8s - loss: 0.0061 - accuracy: 0.99 - ETA: 8s - loss: 0.0059 - accuracy: 0.99 - ETA: 7s - loss: 0.0057 - accuracy: 0.99 - ETA: 7s - loss: 0.0093 - accuracy: 0.99 - ETA: 7s - loss: 0.0096 - accuracy: 0.99 - ETA: 6s - loss: 0.0093 - accuracy: 0.99 - ETA: 6s - loss: 0.0090 - accuracy: 0.99 - ETA: 6s - loss: 0.0088 - accuracy: 0.99 - ETA: 5s - loss: 0.0098 - accuracy: 0.99 - ETA: 5s - loss: 0.0095 - accuracy: 0.99 - ETA: 5s - loss: 0.0093 - accuracy: 0.99 - ETA: 4s - loss: 0.0091 - accuracy: 0.99 - ETA: 4s - loss: 0.0089 - accuracy: 0.99 - ETA: 4s - loss: 0.0087 - accuracy: 0.99 - ETA: 3s - loss: 0.0085 - accuracy: 0.99 - ETA: 3s - loss: 0.0083 - accuracy: 0.99 - ETA: 3s - loss: 0.0082 - accuracy: 0.99 - ETA: 2s - loss: 0.0082 - accuracy: 0.99 - ETA: 2s - loss: 0.0081 - accuracy: 0.99 - ETA: 2s - loss: 0.0079 - accuracy: 0.99 - ETA: 1s - loss: 0.0078 - accuracy: 0.99 - ETA: 1s - loss: 0.0077 - accuracy: 0.99 - ETA: 1s - loss: 0.0082 - accuracy: 0.99 - ETA: 0s - loss: 0.0080 - accuracy: 0.99 - ETA: 0s - loss: 0.0079 - accuracy: 0.99 - ETA: 0s - loss: 0.0077 - accuracy: 0.99 - 17s 11ms/sample - loss: 0.0077 - accuracy: 0.9970\n",
      "Epoch 25/25\n",
      "1646/1646 [==============================] - ETA: 16s - loss: 6.4129e-04 - accuracy: 1.000 - ETA: 16s - loss: 6.7451e-04 - accuracy: 1.000 - ETA: 16s - loss: 7.2637e-04 - accuracy: 1.000 - ETA: 15s - loss: 0.0129 - accuracy: 0.9922    - ETA: 15s - loss: 0.0104 - accuracy: 0.993 - ETA: 15s - loss: 0.0087 - accuracy: 0.994 - ETA: 14s - loss: 0.0131 - accuracy: 0.991 - ETA: 14s - loss: 0.0115 - accuracy: 0.992 - ETA: 14s - loss: 0.0103 - accuracy: 0.993 - ETA: 13s - loss: 0.0093 - accuracy: 0.993 - ETA: 13s - loss: 0.0084 - accuracy: 0.994 - ETA: 13s - loss: 0.0078 - accuracy: 0.994 - ETA: 12s - loss: 0.0072 - accuracy: 0.995 - ETA: 12s - loss: 0.0067 - accuracy: 0.995 - ETA: 12s - loss: 0.0063 - accuracy: 0.995 - ETA: 11s - loss: 0.0060 - accuracy: 0.996 - ETA: 11s - loss: 0.0056 - accuracy: 0.996 - ETA: 11s - loss: 0.0053 - accuracy: 0.996 - ETA: 10s - loss: 0.0051 - accuracy: 0.996 - ETA: 10s - loss: 0.0049 - accuracy: 0.996 - ETA: 10s - loss: 0.0046 - accuracy: 0.997 - ETA: 9s - loss: 0.0057 - accuracy: 0.995 - ETA: 9s - loss: 0.0055 - accuracy: 0.99 - ETA: 9s - loss: 0.0053 - accuracy: 0.99 - ETA: 8s - loss: 0.0051 - accuracy: 0.99 - ETA: 8s - loss: 0.0049 - accuracy: 0.99 - ETA: 8s - loss: 0.0047 - accuracy: 0.99 - ETA: 7s - loss: 0.0046 - accuracy: 0.99 - ETA: 7s - loss: 0.0045 - accuracy: 0.99 - ETA: 7s - loss: 0.0043 - accuracy: 0.99 - ETA: 6s - loss: 0.0053 - accuracy: 0.99 - ETA: 6s - loss: 0.0052 - accuracy: 0.99 - ETA: 6s - loss: 0.0050 - accuracy: 0.99 - ETA: 5s - loss: 0.0049 - accuracy: 0.99 - ETA: 5s - loss: 0.0048 - accuracy: 0.99 - ETA: 5s - loss: 0.0046 - accuracy: 0.99 - ETA: 4s - loss: 0.0045 - accuracy: 0.99 - ETA: 4s - loss: 0.0044 - accuracy: 0.99 - ETA: 4s - loss: 0.0049 - accuracy: 0.99 - ETA: 3s - loss: 0.0048 - accuracy: 0.99 - ETA: 3s - loss: 0.0047 - accuracy: 0.99 - ETA: 3s - loss: 0.0046 - accuracy: 0.99 - ETA: 2s - loss: 0.0045 - accuracy: 0.99 - ETA: 2s - loss: 0.0044 - accuracy: 0.99 - ETA: 2s - loss: 0.0043 - accuracy: 0.99 - ETA: 1s - loss: 0.0049 - accuracy: 0.99 - ETA: 1s - loss: 0.0048 - accuracy: 0.99 - ETA: 1s - loss: 0.0047 - accuracy: 0.99 - ETA: 0s - loss: 0.0046 - accuracy: 0.99 - ETA: 0s - loss: 0.0045 - accuracy: 0.99 - ETA: 0s - loss: 0.0060 - accuracy: 0.99 - 17s 11ms/sample - loss: 0.0059 - accuracy: 0.9957\n"
     ]
    }
   ],
   "source": [
    "history = model.fit(images,labels, epochs =25)"
   ]
  },
  {
   "cell_type": "code",
   "execution_count": null,
   "metadata": {},
   "outputs": [],
   "source": []
  }
 ],
 "metadata": {
  "kernelspec": {
   "display_name": "TensorFlow-GPU-1.13",
   "language": "python",
   "name": "tf-gpu"
  },
  "language_info": {
   "codemirror_mode": {
    "name": "ipython",
    "version": 3
   },
   "file_extension": ".py",
   "mimetype": "text/x-python",
   "name": "python",
   "nbconvert_exporter": "python",
   "pygments_lexer": "ipython3",
   "version": "3.7.7"
  }
 },
 "nbformat": 4,
 "nbformat_minor": 4
}
